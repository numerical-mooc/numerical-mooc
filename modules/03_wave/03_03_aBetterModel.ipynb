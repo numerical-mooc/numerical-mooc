{
 "cells": [
  {
   "cell_type": "markdown",
   "metadata": {},
   "source": [
    "###### Content under Creative Commons Attribution license CC-BY 4.0, code under MIT license (c)2014 L.A. Barba, C.D. Cooper, G.F. Forsyth."
   ]
  },
  {
   "cell_type": "markdown",
   "metadata": {},
   "source": [
    "# Riding the wave"
   ]
  },
  {
   "cell_type": "markdown",
   "metadata": {},
   "source": [
    "We've reached the third lesson of the module _Riding the wave: Convection problems_, where we explore the numerical solution of conservation laws. We learned in the [first lesson](http://nbviewer.ipython.org/github/numerical-mooc/numerical-mooc/blob/master/lessons/03_wave/03_01_conservationLaw.ipynb) how to think about conservation laws, starting with the most intuitive case: that of conservation of mass. But there are many physical quantities that can be conserved: energy, for example. Or cars on a road.\n",
    "\n",
    "Developing a conservation law for traffic in a one-lane roadway is fun, because we can relate to the insights it gives. We've all experienced traffic slowing down to a crawl when the density of cars gets very high, and stepping on the accelerator pedal with glee when there are no cars on the road!\n",
    "\n",
    "In the previous two lessons, we developed a traffic-flow model and explored [different choices of numerical scheme](http://nbviewer.ipython.org/github/numerical-mooc/numerical-mooc/blob/master/lessons/03_wave/03_02_convectionSchemes.ipynb).  Not everything worked as you expected, and by now you might be realizing how some restrictions come about from the numerical methods themselves, while others still are imposed by the models we use. This lesson will develop a better traffic model, and also show you some impressive SymPy kung fu."
   ]
  },
  {
   "cell_type": "markdown",
   "metadata": {},
   "source": [
    "## Traffic flow, revisited"
   ]
  },
  {
   "cell_type": "markdown",
   "metadata": {},
   "source": [
    "### A better flux model"
   ]
  },
  {
   "cell_type": "markdown",
   "metadata": {},
   "source": [
    "Like you saw in the first lesson, cars obey a typical conservation law,\n",
    "\n",
    "\\begin{equation}\n",
    " \\frac{\\partial \\rho}{\\partial t} + \\frac{\\partial F}{\\partial x} = 0, \\end{equation}\n",
    "\n",
    "where $F$ is the flux, $F=\\rho u$—flux equals density times velocity. From our experience on the road, we know that the traffic speed is a function of traffic density, and we proposed as a first approximation a linear relation between the two. Thus,\n",
    "\n",
    "\\begin{equation}\n",
    "F(\\rho) = \\rho \\, u_{max}\\left(1 - \\frac{\\rho}{\\rho_{max}} \\right)\n",
    "\\end{equation}\n",
    "\n",
    "This flux model meets the two requirements, based on a qualitative view of traffic flow, that:\n",
    "1.  $u \\rightarrow u_{max}$ and $F\\rightarrow 0$ when $\\rho \\rightarrow 0$.\n",
    "2.  $u \\rightarrow 0$ as $\\rho \\rightarrow \\rho_{max}$\n",
    "\n",
    "However, it leads to some unrealistic or at least improbable results.  For example, note that if the traffic speed is a linear function of density, the flux function will be quadratic (see Figure 1). In this case, the maximum flux will occur when $\\rho^{\\star} = \\rho_{max}/2$, corresponding to a traffic speed $u_{max}/2$.  "
   ]
  },
  {
   "cell_type": "markdown",
   "metadata": {},
   "source": [
    "![velocity_and_flux](./figures/velocity_and_flux.png)\n",
    "#### Figure 1. Traffic speed (left) and flux (right) vs. density."
   ]
  },
  {
   "cell_type": "markdown",
   "metadata": {},
   "source": [
    "A good question to ask here is:  should the maximum flux on a given stretch of road have a strict dependence on the maximum speed that the roadway allows, be it by physical restrictions or posted speed limits? In other words, do we really expect the maximum flux to increase if we allow arbitrarily high speeds? \n",
    "\n",
    "Probably not.  But there *should* be some ideal traffic speed, $u^{\\star}$, corresponding to an ideal traffic density, $\\rho^{\\star}$, resulting in the maximum traffic flux:\n",
    "\n",
    "\\begin{equation}F_{\\rm max} = \\rho^{\\star}u^{\\star}\\end{equation}\n",
    "\n",
    "Let us improve the initial flux model by taking this observation into account. One thing that we can try is to introduce a flux model that is cubic in $\\rho$ instead of quadratic:\n",
    "\n",
    "\\begin{equation}F(\\rho) = u_{\\rm max}\\rho (1 - A\\rho - B \\rho^2)\\end{equation}\n",
    "\n",
    "This new model still meets the first criterion listed above: $F\\rightarrow 0$ when $\\rho \\rightarrow 0$. Moreover, we impose the following conditions:\n",
    "\n",
    "*  When $\\rho = \\rho_{\\rm max}$ traffic flux goes to zero:\n",
    "\n",
    "\\begin{equation}F(\\rho_{\\rm max}) = 0 = u_{\\rm max}\\, \\rho_{\\rm max}(1 - A \\rho_{\\rm max} - B \\rho_{\\rm max}^2)\\end{equation}\n",
    "\n",
    "*  Based on eq. (3), maximum flux occurs when $\\rho = \\rho^{\\star}$ and $F'(\\rho^{\\star}) = 0$:\n",
    "\n",
    "\\begin{equation}\n",
    "F'(\\rho^{\\star}) = 0  = u_{\\rm max}(1 - 2A\\rho^{\\star} - 3B(\\rho^{\\star})^2)\\end{equation}\n",
    "\n",
    "*  $u^{\\star}$ is obtained when $\\rho = \\rho^{\\star}$:\n",
    "\n",
    "\\begin{equation}\n",
    "u^{\\star} = u_{\\rm max}(1 - A \\rho^{\\star} - B(\\rho^{\\star})^2)\\end{equation}\n",
    "\n",
    "We have three equations and four unknowns $A,B,\\rho^{\\star}, u^{\\star}$. However, in practice, the ideal traffic speed could be obtained for a given road by observations. Similarly to $u_{max}$ and $\\rho_{max}$ it will therefore be taken as a parameter."
   ]
  },
  {
   "cell_type": "markdown",
   "metadata": {},
   "source": [
    "### Solving the new flux equation"
   ]
  },
  {
   "cell_type": "markdown",
   "metadata": {},
   "source": [
    "Equations $(5)$, $(6)$, and $(7)$ are not incredibly difficult to solve with pen and paper. Instead of following that route, we can use [SymPy](http://sympy.org/en/index.html), the symbolic mathematics library of Python.  You used SymPy already in the [Burgers' equation lesson](http://nbviewer.ipython.org/github/numerical-mooc/numerical-mooc/blob/master/lessons/02_spacetime/02_04_1DBurgers.ipynb) of Module 2, _\"Space & Time\"_, and you will learn some new functionalities here.\n",
    "\n",
    "We begin by importing SymPy, initializing $\\LaTeX$ printing and defining a set of symbolic variables that we'll use in the calculations. Remember: variables are not defined automatically, you have to tell SymPy that a name will correspond to a symbolic variable by using the keyword `symbols`. This behavior is different from many other symbolic math systems that implicitly construct symbols for you, so you may be perplexed if you've used these other sytems before. The reason for this behavior in SymPy is that the system is fully built on Python, a general-purpose language that needs you to define all objects before using them."
   ]
  },
  {
   "cell_type": "code",
   "execution_count": 1,
   "metadata": {
    "collapsed": true
   },
   "outputs": [],
   "source": [
    "import sympy\n",
    "sympy.init_printing()\n",
    "\n",
    "(u_max, u_star, rho_max, \n",
    " rho_star, A, B) = sympy.symbols('u_max u_star rho_max rho_star A B')"
   ]
  },
  {
   "cell_type": "markdown",
   "metadata": {},
   "source": [
    "Notice that we used the special character `_` (the under-dash) to create a symbol with a subscript. Here, for example, we've created the symbols $u_{max}$ and $u_{star}$, representing $u_{\\rm max}$ and $u^{\\star}$ ($u$-star) in the equations, and assigned them to the variable names `u_max` and `u_star`. SymPy also allows you to create symbols with a superscript by means of the special character `^`. Be careful, though: SymPy is built on Python, so you denote an exponent in an expression by `**` (this may also be different from other symbolic math systems that you have used in the past).\n",
    "\n",
    "Next, use `sympy.Eq()` to define the three equations—corresponding to Equations $(5)$, $(6)$ and $(7)$, above—in terms of symbolic variables. The function `sympy.Eq()` creates an equality between two SymPy objects, passed as arguments separated by a comma. We need to remember that the equal sign in Python is used for variable assignment, and for that reason it cannot be used to build a symbolic equation with SymPy. That is why we need `sympy.Eq()` to create symbolic equalities. But the equal sign _is_ used to _assign_ an equation to a name: here, `eq1`, `eq2`, `eq3` are names for the symbolic equalities we create with `sympy.Eq()`."
   ]
  },
  {
   "cell_type": "code",
   "execution_count": 2,
   "metadata": {
    "collapsed": true
   },
   "outputs": [],
   "source": [
    "eq1 = sympy.Eq( 0, u_max*rho_max*(1 - A*rho_max-B*rho_max**2) )\n",
    "eq2 = sympy.Eq( 0, u_max*(1 - 2*A*rho_star-3*B*rho_star**2) )\n",
    "eq3 = sympy.Eq( u_star, u_max*(1 - A*rho_star - B*rho_star**2) )"
   ]
  },
  {
   "cell_type": "markdown",
   "metadata": {},
   "source": [
    "Check this out: you can display these equations in pretty typeset mathematics just by executing their name in a code cell:"
   ]
  },
  {
   "cell_type": "code",
   "execution_count": 3,
   "metadata": {},
   "outputs": [
    {
     "data": {
      "image/png": "[encoded data removed]",
      "text/latex": [
       "$$0 = \\rho_{max} u_{max} \\left(- A \\rho_{max} - B \\rho_{max}^{2} + 1\\right)$$"
      ],
      "text/plain": [
       "              ⎛                2    ⎞\n",
       "0 = ρₘₐₓ⋅uₘₐₓ⋅⎝-A⋅ρₘₐₓ - B⋅ρₘₐₓ  + 1⎠"
      ]
     },
     "execution_count": 3,
     "metadata": {},
     "output_type": "execute_result"
    }
   ],
   "source": [
    "eq1"
   ]
  },
  {
   "cell_type": "code",
   "execution_count": 4,
   "metadata": {},
   "outputs": [
    {
     "data": {
      "image/png": "[encoded data removed]",
      "text/latex": [
       "$$0 = u_{max} \\left(- 2 A \\rho_{star} - 3 B \\rho_{star}^{2} + 1\\right)$$"
      ],
      "text/plain": [
       "         ⎛                      2    ⎞\n",
       "0 = uₘₐₓ⋅⎝-2⋅A⋅ρₛₜₐᵣ - 3⋅B⋅ρₛₜₐᵣ  + 1⎠"
      ]
     },
     "execution_count": 4,
     "metadata": {},
     "output_type": "execute_result"
    }
   ],
   "source": [
    "eq2"
   ]
  },
  {
   "cell_type": "code",
   "execution_count": 5,
   "metadata": {},
   "outputs": [
    {
     "data": {
      "image/png": "[encoded data removed]",
      "text/latex": [
       "$$u_{star} = u_{max} \\left(- A \\rho_{star} - B \\rho_{star}^{2} + 1\\right)$$"
      ],
      "text/plain": [
       "             ⎛                  2    ⎞\n",
       "uₛₜₐᵣ = uₘₐₓ⋅⎝-A⋅ρₛₜₐᵣ - B⋅ρₛₜₐᵣ  + 1⎠"
      ]
     },
     "execution_count": 5,
     "metadata": {},
     "output_type": "execute_result"
    }
   ],
   "source": [
    "eq3"
   ]
  },
  {
   "cell_type": "markdown",
   "metadata": {},
   "source": [
    "As stressed above, we have three equations with three unknowns (assuming we have some observed value of $u_{star}$, corresponding to the ideal traffic speed)—there must be a solution!\n",
    "\n",
    "To eliminate the term with $B$ in `eq2`, leaving it only in terms of $A$ and $\\rho^{\\star}$, we might subtract `3*eq3`.  But this will not work in SymPy if you attempt equation subtraction using the equation names. Just like we couldn't use the equal sign (which in Python means assignment) to create a symbolic equality (needing `sympy.Eq` instead), we can't use mathematical operators directly on the SymPy equations, because they are really _equalities_. What does it mean to subtract two _equalities_? It doesn't make sense. Try it ..."
   ]
  },
  {
   "cell_type": "code",
   "execution_count": 6,
   "metadata": {},
   "outputs": [
    {
     "data": {
      "image/png": "[encoded data removed]",
      "text/latex": [
       "$$\\left(0 = u_{max} \\left(- 2 A \\rho_{star} - 3 B \\rho_{star}^{2} + 1\\right)\\right) - 3 \\left(u_{star} = u_{max} \\left(- A \\rho_{star} - B \\rho_{star}^{2} + 1\\right)\\right)$$"
      ],
      "text/plain": [
       "⎛         ⎛                      2    ⎞⎞     ⎛             ⎛                  \n",
       "⎝0 = uₘₐₓ⋅⎝-2⋅A⋅ρₛₜₐᵣ - 3⋅B⋅ρₛₜₐᵣ  + 1⎠⎠ - 3⋅⎝uₛₜₐᵣ = uₘₐₓ⋅⎝-A⋅ρₛₜₐᵣ - B⋅ρₛₜₐᵣ\n",
       "\n",
       "2    ⎞⎞\n",
       "  + 1⎠⎠"
      ]
     },
     "execution_count": 6,
     "metadata": {},
     "output_type": "execute_result"
    }
   ],
   "source": [
    "eq2 - 3*eq3"
   ]
  },
  {
   "cell_type": "markdown",
   "metadata": {},
   "source": [
    "See?  SymPy just printed out what you suggested but it did not manipulate algebraically the left and right sides of `eq2` like we were aiming for. What we _can_ do is create a _new_ equation, perform the left-hand side (LHS) and right-hand side (RHS) operations separately and then recombine them into our desired result. For this, it is helpful to know that there are built-in properties of a SymPy equality for the left-hand side and the right-hand side of the equality. Check it out:"
   ]
  },
  {
   "cell_type": "code",
   "execution_count": 7,
   "metadata": {},
   "outputs": [
    {
     "data": {
      "image/png": "[encoded data removed]",
      "text/latex": [
       "$$- 3 u_{star} = u_{max} \\left(- 2 A \\rho_{star} - 3 B \\rho_{star}^{2} + 1\\right) - 3 u_{max} \\left(- A \\rho_{star} - B \\rho_{star}^{2} + 1\\right)$$"
      ],
      "text/plain": [
       "                ⎛                      2    ⎞          ⎛                  2   \n",
       "-3⋅uₛₜₐᵣ = uₘₐₓ⋅⎝-2⋅A⋅ρₛₜₐᵣ - 3⋅B⋅ρₛₜₐᵣ  + 1⎠ - 3⋅uₘₐₓ⋅⎝-A⋅ρₛₜₐᵣ - B⋅ρₛₜₐᵣ  + \n",
       "\n",
       " ⎞\n",
       "1⎠"
      ]
     },
     "execution_count": 7,
     "metadata": {},
     "output_type": "execute_result"
    }
   ],
   "source": [
    "eq4 = sympy.Eq(eq2.lhs - 3*eq3.lhs, eq2.rhs - 3*eq3.rhs)\n",
    "eq4"
   ]
  },
  {
   "cell_type": "markdown",
   "metadata": {},
   "source": [
    "That still needs a little work. SymPy offers several methods to help reduce expressions. You can use [`simplify()`](http://docs.sympy.org/latest/modules/simplify/simplify.html?highlight=simplify#sympy.simplify.simplify.simplify) to attempt to make the expression \"simpler,\" but you can imagine that the quality of an expression being simple is not well defined. One may expect the simpler expression to be shorter, maybe; but not always. The SymPy `simplify()` function applies several strategies, heuristically, to give you an equivalent reduced expression. But some expressions are uncooperative and `simplify()` gives up, returning the argument unchanged. Let's see what it can do with our expression `eq4`."
   ]
  },
  {
   "cell_type": "code",
   "execution_count": 8,
   "metadata": {},
   "outputs": [
    {
     "data": {
      "image/png": "[encoded data removed]",
      "text/latex": [
       "$$3 u_{star} = - u_{max} \\left(A \\rho_{star} - 2\\right)$$"
      ],
      "text/plain": [
       "3⋅uₛₜₐᵣ = -uₘₐₓ⋅(A⋅ρₛₜₐᵣ - 2)"
      ]
     },
     "execution_count": 8,
     "metadata": {},
     "output_type": "execute_result"
    }
   ],
   "source": [
    "eq4.simplify()"
   ]
  },
  {
   "cell_type": "markdown",
   "metadata": {},
   "source": [
    "That is actually a useful result. We see that `eq4` allows solving for $\\rho^{\\star}$ in terms of $A$, for example (remember that $u_{max}$ is known: the road's maximum velocity). Then we could try to manipulate `eq1` to solve for $B$ in terms of $A$, as well, so that we can substitute back in `eq2` leaving everything in terms of $A$. We can do all that without the help of `simplify()`, but using it interactively to reason about the long expression helped us to decide on a course of action.\n",
    "\n",
    "Another SymPy function that can help us examine complicated expressions is [`expand()`](http://docs.sympy.org/latest/modules/core.html?highlight=expand#sympy.core.function.expand). Its purpose is to expand bracketed factors in expressions and group powers of symbols. Let's see what that does here. Notice first that `eq4` hasn't changed; we just printed the result of applying `simplify()` to it."
   ]
  },
  {
   "cell_type": "code",
   "execution_count": 9,
   "metadata": {},
   "outputs": [
    {
     "data": {
      "image/png": "[encoded data removed]",
      "text/latex": [
       "$$- 3 u_{star} = u_{max} \\left(- 2 A \\rho_{star} - 3 B \\rho_{star}^{2} + 1\\right) - 3 u_{max} \\left(- A \\rho_{star} - B \\rho_{star}^{2} + 1\\right)$$"
      ],
      "text/plain": [
       "                ⎛                      2    ⎞          ⎛                  2   \n",
       "-3⋅uₛₜₐᵣ = uₘₐₓ⋅⎝-2⋅A⋅ρₛₜₐᵣ - 3⋅B⋅ρₛₜₐᵣ  + 1⎠ - 3⋅uₘₐₓ⋅⎝-A⋅ρₛₜₐᵣ - B⋅ρₛₜₐᵣ  + \n",
       "\n",
       " ⎞\n",
       "1⎠"
      ]
     },
     "execution_count": 9,
     "metadata": {},
     "output_type": "execute_result"
    }
   ],
   "source": [
    "eq4"
   ]
  },
  {
   "cell_type": "markdown",
   "metadata": {},
   "source": [
    "And now we print the result of applying `expand()` to it."
   ]
  },
  {
   "cell_type": "code",
   "execution_count": 10,
   "metadata": {},
   "outputs": [
    {
     "data": {
      "image/png": "[encoded data removed]",
      "text/latex": [
       "$$- 3 u_{star} = A \\rho_{star} u_{max} - 2 u_{max}$$"
      ],
      "text/plain": [
       "-3⋅uₛₜₐᵣ = A⋅ρₛₜₐᵣ⋅uₘₐₓ - 2⋅uₘₐₓ"
      ]
     },
     "execution_count": 10,
     "metadata": {},
     "output_type": "execute_result"
    }
   ],
   "source": [
    "eq4.expand()"
   ]
  },
  {
   "cell_type": "markdown",
   "metadata": {},
   "source": [
    "That's very similar to our previous result, except without the bracketed factor. Simplifying an expression can be accomplished by expanding or factoring terms, or a combination of the two. Whether to `simplify()` or `expand()` depends on the situation and you just have to experiment.\n",
    "\n",
    "We now have an idea of what to do with our three equations. We'll get expressions in terms of $A$ from `eq4` and `eq1` and substitute them back into `eq2`. For that, we can use the SymPy functions [`solve()`](http://docs.sympy.org/dev/modules/solvers/solvers.html#sympy.solvers.solvers.solve) and `subs()`, respectively. The arguments to `solve()` are the equality that needs to be solved, and the symbol to solve for.\n",
    "\n",
    "**Note**: `sympy.solve()` always returns results in a *list*, since you often end up with multiple solutions for a given variable.  These linear equations will only return one solution, so we can skip a step and ask right away for the `[0]`-th element of the list."
   ]
  },
  {
   "cell_type": "code",
   "execution_count": 11,
   "metadata": {},
   "outputs": [
    {
     "data": {
      "image/png": "[encoded data removed]",
      "text/latex": [
       "$$\\frac{1}{A u_{max}} \\left(2 u_{max} - 3 u_{star}\\right)$$"
      ],
      "text/plain": [
       "2⋅uₘₐₓ - 3⋅uₛₜₐᵣ\n",
       "────────────────\n",
       "     A⋅uₘₐₓ     "
      ]
     },
     "execution_count": 11,
     "metadata": {},
     "output_type": "execute_result"
    }
   ],
   "source": [
    "rho_sol = sympy.solve(eq4,rho_star)[0]\n",
    "rho_sol"
   ]
  },
  {
   "cell_type": "code",
   "execution_count": 12,
   "metadata": {},
   "outputs": [
    {
     "data": {
      "image/png": "[encoded data removed]",
      "text/latex": [
       "$$\\frac{1}{\\rho_{max}^{2}} \\left(- A \\rho_{max} + 1\\right)$$"
      ],
      "text/plain": [
       "-A⋅ρₘₐₓ + 1\n",
       "───────────\n",
       "       2   \n",
       "   ρₘₐₓ    "
      ]
     },
     "execution_count": 12,
     "metadata": {},
     "output_type": "execute_result"
    }
   ],
   "source": [
    "B_sol = sympy.solve(eq1,B)[0]\n",
    "B_sol"
   ]
  },
  {
   "cell_type": "markdown",
   "metadata": {},
   "source": [
    "The arguments to the SymPy function [`subs()`](http://docs.sympy.org/dev/modules/core.html#sympy.core.basic.Basic.subs) are given as (old, new) pairs, where the \"new\" expression substitutes the \"old\" one. So here, in `eq2`, we substitute `rho_sol` in place of `rho_s` and we substitute `B_sol` in place of `B`."
   ]
  },
  {
   "cell_type": "code",
   "execution_count": 13,
   "metadata": {},
   "outputs": [
    {
     "data": {
      "image/png": "[encoded data removed]",
      "text/latex": [
       "$$0 = u_{max} \\left(1 - \\frac{1}{u_{max}} \\left(4 u_{max} - 6 u_{star}\\right) - \\frac{3 \\left(2 u_{max} - 3 u_{star}\\right)^{2}}{A^{2} \\rho_{max}^{2} u_{max}^{2}} \\left(- A \\rho_{max} + 1\\right)\\right)$$"
      ],
      "text/plain": [
       "         ⎛                                               2              ⎞\n",
       "         ⎜    2⋅(2⋅uₘₐₓ - 3⋅uₛₜₐᵣ)   3⋅(2⋅uₘₐₓ - 3⋅uₛₜₐᵣ) ⋅(-A⋅ρₘₐₓ + 1)⎟\n",
       "0 = uₘₐₓ⋅⎜1 - ──────────────────── - ───────────────────────────────────⎟\n",
       "         ⎜            uₘₐₓ                       2     2     2          ⎟\n",
       "         ⎝                                      A ⋅ρₘₐₓ ⋅uₘₐₓ           ⎠"
      ]
     },
     "execution_count": 13,
     "metadata": {},
     "output_type": "execute_result"
    }
   ],
   "source": [
    "quadA = eq2.subs([(rho_star, rho_sol), (B,B_sol)])\n",
    "quadA"
   ]
  },
  {
   "cell_type": "code",
   "execution_count": 14,
   "metadata": {},
   "outputs": [
    {
     "data": {
      "image/png": "[encoded data removed]",
      "text/latex": [
       "$$- 3 u_{max} + 6 u_{star} + \\frac{3 \\left(2 u_{max} - 3 u_{star}\\right)^{2}}{A \\rho_{max} u_{max}} - \\frac{3 \\left(2 u_{max} - 3 u_{star}\\right)^{2}}{A^{2} \\rho_{max}^{2} u_{max}} = 0$$"
      ],
      "text/plain": [
       "                                        2                       2    \n",
       "                    3⋅(2⋅uₘₐₓ - 3⋅uₛₜₐᵣ)    3⋅(2⋅uₘₐₓ - 3⋅uₛₜₐᵣ)     \n",
       "-3⋅uₘₐₓ + 6⋅uₛₜₐᵣ + ───────────────────── - ───────────────────── = 0\n",
       "                         A⋅ρₘₐₓ⋅uₘₐₓ             2     2             \n",
       "                                                A ⋅ρₘₐₓ ⋅uₘₐₓ        "
      ]
     },
     "execution_count": 14,
     "metadata": {},
     "output_type": "execute_result"
    }
   ],
   "source": [
    "quadA.simplify()"
   ]
  },
  {
   "cell_type": "markdown",
   "metadata": {},
   "source": [
    "It's a little bit ugly, but that is quadratic in $A$, and that means we can solve for the roots of the equation. SymPy's `solve()` function in this case will return a list with the two roots. They are long expressions, so let's print each root separately."
   ]
  },
  {
   "cell_type": "code",
   "execution_count": 15,
   "metadata": {
    "collapsed": true
   },
   "outputs": [],
   "source": [
    "A_sol = sympy.solve(quadA, A)"
   ]
  },
  {
   "cell_type": "code",
   "execution_count": 16,
   "metadata": {},
   "outputs": [
    {
     "data": {
      "image/png": "[encoded data removed]",
      "text/latex": [
       "$$\\frac{1}{2 \\rho_{max} u_{max} \\left(u_{max} - 2 u_{star}\\right)} \\left(\\sqrt{- u_{star} \\left(4 u_{max} - 9 u_{star}\\right)} \\left(- 2 u_{max} + 3 u_{star}\\right) + \\left(2 u_{max} - 3 u_{star}\\right)^{2}\\right)$$"
      ],
      "text/plain": [
       "  ___________________________                                         2\n",
       "╲╱ -uₛₜₐᵣ⋅(4⋅uₘₐₓ - 9⋅uₛₜₐᵣ) ⋅(-2⋅uₘₐₓ + 3⋅uₛₜₐᵣ) + (2⋅uₘₐₓ - 3⋅uₛₜₐᵣ) \n",
       "───────────────────────────────────────────────────────────────────────\n",
       "                      2⋅ρₘₐₓ⋅uₘₐₓ⋅(uₘₐₓ - 2⋅uₛₜₐᵣ)                     "
      ]
     },
     "execution_count": 16,
     "metadata": {},
     "output_type": "execute_result"
    }
   ],
   "source": [
    "A_sol[0]"
   ]
  },
  {
   "cell_type": "code",
   "execution_count": 17,
   "metadata": {},
   "outputs": [
    {
     "data": {
      "image/png": "[encoded data removed]",
      "text/latex": [
       "$$\\frac{1}{2 \\rho_{max} u_{max} \\left(u_{max} - 2 u_{star}\\right)} \\left(2 u_{max} - 3 u_{star}\\right) \\left(2 u_{max} - 3 u_{star} + \\sqrt{- u_{star} \\left(4 u_{max} - 9 u_{star}\\right)}\\right)$$"
      ],
      "text/plain": [
       "                   ⎛                     ___________________________⎞\n",
       "(2⋅uₘₐₓ - 3⋅uₛₜₐᵣ)⋅⎝2⋅uₘₐₓ - 3⋅uₛₜₐᵣ + ╲╱ -uₛₜₐᵣ⋅(4⋅uₘₐₓ - 9⋅uₛₜₐᵣ) ⎠\n",
       "─────────────────────────────────────────────────────────────────────\n",
       "                     2⋅ρₘₐₓ⋅uₘₐₓ⋅(uₘₐₓ - 2⋅uₛₜₐᵣ)                    "
      ]
     },
     "execution_count": 17,
     "metadata": {},
     "output_type": "execute_result"
    }
   ],
   "source": [
    "A_sol[1]"
   ]
  },
  {
   "cell_type": "markdown",
   "metadata": {},
   "source": [
    "### Evaluating the new flux equation"
   ]
  },
  {
   "cell_type": "markdown",
   "metadata": {},
   "source": [
    "Quadratic equations, of course, have two solutions. Here we have to select the positive root, otherwise our model would have an inconsistency. Are you able to see why?  To determine its value, we need to fill in some actual numbers into the model.\n",
    "\n",
    "Let's start with the same numerical values that we used in [lesson 1](http://nbviewer.ipython.org/github/numerical-mooc/numerical-mooc/blob/master/lessons/03_wave/03_01_conservationLaw.ipynb) for $\\rho_{\\rm max}$ and $u_{\\rm max}$. But we also have to supply a value for $u^{\\star}$, a quantity that should be experimentally observed in a given road. We propose $u^{\\star} = 0.7\\, u_{\\rm max}$ for this exercise.  This would correspond to 84 km/h for a highway with a 120-km/h speed limit, for example.\n",
    "\n",
    "Let's numerically evaluate the solutions for $A$ using the following values:\n",
    "\n",
    "\\begin{align} \n",
    "\\rho_{\\rm max} &=10.0 \\nonumber\\\\ u_{\\rm max} &=1.0 \\nonumber\\\\ u^{\\star} &=0.7 \\nonumber\n",
    "\\end{align}\n",
    "\n",
    "Now evaluate the numeric result for each root of $A$ using the `evalf()` function, where you pass the numeric substitution as an argument. It's very cool.  Let's evaluate both roots and we will pick the positive one.\n",
    "\n",
    "Let's try the `[0]`-th solution for $A$, first:"
   ]
  },
  {
   "cell_type": "code",
   "execution_count": 18,
   "metadata": {},
   "outputs": [
    {
     "data": {
      "image/png": "[encoded data removed]",
      "text/latex": [
       "$$-0.0171107219255619$$"
      ],
      "text/plain": [
       "-0.0171107219255619"
      ]
     },
     "execution_count": 18,
     "metadata": {},
     "output_type": "execute_result"
    }
   ],
   "source": [
    "aval_a = A_sol[0].evalf(subs={u_star: 0.7, u_max:1.0, rho_max:10.0} )\n",
    "aval_a"
   ]
  },
  {
   "cell_type": "markdown",
   "metadata": {},
   "source": [
    "Now let's try the `[1]`-th solution for $A$:"
   ]
  },
  {
   "cell_type": "code",
   "execution_count": 19,
   "metadata": {},
   "outputs": [
    {
     "data": {
      "image/png": "[encoded data removed]",
      "text/latex": [
       "$$0.0146107219255619$$"
      ],
      "text/plain": [
       "0.0146107219255619"
      ]
     },
     "execution_count": 19,
     "metadata": {},
     "output_type": "execute_result"
    }
   ],
   "source": [
    "aval_b = A_sol[1].evalf(subs={u_star: 0.7, u_max:1.0, rho_max:10.0} )\n",
    "aval_b"
   ]
  },
  {
   "cell_type": "markdown",
   "metadata": {},
   "source": [
    "Because Sympy seems not to return the roots in a deterministic order and  we want to use the positive root, we will automatically pick this one by using an `if` statement."
   ]
  },
  {
   "cell_type": "code",
   "execution_count": 20,
   "metadata": {
    "collapsed": true
   },
   "outputs": [],
   "source": [
    "if aval_a > aval_b:\n",
    "    aval = aval_a\n",
    "else:\n",
    "    aval = aval_b"
   ]
  },
  {
   "cell_type": "code",
   "execution_count": 21,
   "metadata": {},
   "outputs": [
    {
     "data": {
      "image/png": "[encoded data removed]",
      "text/latex": [
       "$$0.0146107219255619$$"
      ],
      "text/plain": [
       "0.0146107219255619"
      ]
     },
     "execution_count": 21,
     "metadata": {},
     "output_type": "execute_result"
    }
   ],
   "source": [
    "aval"
   ]
  },
  {
   "cell_type": "markdown",
   "metadata": {},
   "source": [
    "Now, numerically evaluate $B$ in the same way using the positive root `aval`:"
   ]
  },
  {
   "cell_type": "code",
   "execution_count": 22,
   "metadata": {},
   "outputs": [
    {
     "data": {
      "image/png": "[encoded data removed]",
      "text/latex": [
       "$$0.00853892780744381$$"
      ],
      "text/plain": [
       "0.00853892780744381"
      ]
     },
     "execution_count": 22,
     "metadata": {},
     "output_type": "execute_result"
    }
   ],
   "source": [
    "bval = B_sol.evalf(subs={rho_max:10.0, A:aval} )\n",
    "bval"
   ]
  },
  {
   "cell_type": "markdown",
   "metadata": {},
   "source": [
    "### Turn off $\\LaTeX$"
   ]
  },
  {
   "cell_type": "markdown",
   "metadata": {},
   "source": [
    "$\\LaTeX$ output is great when we're looking at algebraic expressions, but it's a little too much for simple numeric output.  Let's turn it off for the rest of the exercise:"
   ]
  },
  {
   "cell_type": "code",
   "execution_count": 23,
   "metadata": {
    "collapsed": true
   },
   "outputs": [],
   "source": [
    "sympy.init_printing(use_latex=False)"
   ]
  },
  {
   "cell_type": "markdown",
   "metadata": {},
   "source": [
    "## Green light: take 2"
   ]
  },
  {
   "cell_type": "markdown",
   "metadata": {},
   "source": [
    "Let's re-examine the green-light problem from [lesson 1](http://nbviewer.ipython.org/github/numerical-mooc/numerical-mooc/blob/master/lessons/03_wave/03_01_conservationLaw.ipynb) but using our newly computed traffic-flux equation.  We shouldn't have to change much—in fact, we can simply create a new `computeF` function and leave the rest of the code unchanged.\n",
    "\n",
    "There's one last bit of housekeeping to do so we don't run into trouble -- we used the variables `rho_max` and `u_max` in our SymPy code and we defined them as SymPy `symbols`.  You can check on the status of a variable using `type()`.  "
   ]
  },
  {
   "cell_type": "code",
   "execution_count": 24,
   "metadata": {},
   "outputs": [
    {
     "name": "stdout",
     "output_type": "stream",
     "text": [
      "<class 'sympy.core.symbol.Symbol'> <class 'sympy.core.symbol.Symbol'>\n"
     ]
    }
   ],
   "source": [
    "print(type(rho_max), type(u_max))"
   ]
  },
  {
   "cell_type": "markdown",
   "metadata": {},
   "source": [
    "If we try to use SymPy variables with NumPy arrays, Python is going to be very unhappy.  We can re-define them as floats and avoid that messy situation.   "
   ]
  },
  {
   "cell_type": "code",
   "execution_count": 25,
   "metadata": {
    "collapsed": true
   },
   "outputs": [],
   "source": [
    "rho_max = 10.\n",
    "u_max = 1."
   ]
  },
  {
   "cell_type": "code",
   "execution_count": 26,
   "metadata": {
    "collapsed": true
   },
   "outputs": [],
   "source": [
    "def computeF(u_max, rho, aval, bval):\n",
    "    return u_max*rho*(1 - aval*rho-bval*rho**2)"
   ]
  },
  {
   "cell_type": "code",
   "execution_count": 27,
   "metadata": {
    "collapsed": true
   },
   "outputs": [],
   "source": [
    "import numpy\n",
    "from matplotlib import pyplot\n",
    "%matplotlib inline\n",
    "from matplotlib import rcParams\n",
    "rcParams['font.family'] = 'serif'\n",
    "rcParams['font.size'] = 16"
   ]
  },
  {
   "cell_type": "code",
   "execution_count": 28,
   "metadata": {
    "collapsed": true
   },
   "outputs": [],
   "source": [
    "def rho_green_light(x, rho_light):\n",
    "    \"\"\"Computes \"green light\" initial condition with shock, and linear distribution behind\n",
    "\n",
    "    Parameters\n",
    "    ----------\n",
    "    x         : array of floats\n",
    "        Locations on the road\n",
    "    rho_light : float\n",
    "        Density of cars at stoplight\n",
    "\n",
    "    Returns\n",
    "    -------\n",
    "    rho: array of floats\n",
    "        Array with initial values of density\n",
    "    \"\"\"\n",
    "    rho = numpy.zeros_like(x)\n",
    "    mask = numpy.where(x < 2.0)\n",
    "    rho[mask] = rho_light * x[mask] / 2.0\n",
    "    \n",
    "    return rho"
   ]
  },
  {
   "cell_type": "code",
   "execution_count": 29,
   "metadata": {
    "collapsed": true
   },
   "outputs": [],
   "source": [
    "#Basic initial condition parameters\n",
    "#defining grid size, time steps\n",
    "nx = 81\n",
    "nt = 30\n",
    "dx = 4.0/(nx-1)\n",
    "\n",
    "x = numpy.linspace(0,4,nx)\n",
    "\n",
    "rho_light = 5.5\n"
   ]
  },
  {
   "cell_type": "code",
   "execution_count": 30,
   "metadata": {
    "collapsed": true
   },
   "outputs": [],
   "source": [
    "rho_initial = rho_green_light(x, rho_light)"
   ]
  },
  {
   "cell_type": "code",
   "execution_count": 31,
   "metadata": {},
   "outputs": [
    {
     "data": {
      "image/png": "[encoded data removed]",
      "text/plain": [
       "<matplotlib.figure.Figure at 0x7ff93c2ac198>"
      ]
     },
     "metadata": {},
     "output_type": "display_data"
    }
   ],
   "source": [
    "pyplot.plot(x, rho_initial, color='#003366', ls='-', lw=3)\n",
    "pyplot.ylim(-0.5,11.);"
   ]
  },
  {
   "cell_type": "code",
   "execution_count": 32,
   "metadata": {
    "collapsed": true
   },
   "outputs": [],
   "source": [
    "def ftbs(rho, nt, dt, dx, rho_max, u_max):\n",
    "    \"\"\" Computes the solution with forward in time, backward in space\n",
    "    \n",
    "    Parameters\n",
    "    ----------\n",
    "    rho    : array of floats\n",
    "            Density at current time-step\n",
    "    nt     : int\n",
    "            Number of time steps\n",
    "    dt     : float\n",
    "            Time-step size\n",
    "    dx     : float\n",
    "            Mesh spacing\n",
    "    rho_max: float\n",
    "            Maximum allowed car density\n",
    "    u_max  : float\n",
    "            Speed limit\n",
    "    \n",
    "    Returns\n",
    "    -------\n",
    "    rho_n : array of floats\n",
    "            Density after nt time steps at every point x\n",
    "    \"\"\"\n",
    "    \n",
    "    #initialize our results array with dimensions nt by nx\n",
    "    rho_n = numpy.zeros((nt,len(rho))) \n",
    "    \n",
    "    #copy the initial u array into each row of our new array\n",
    "    rho_n[0,:] = rho.copy()              \n",
    "    \n",
    "    for t in range(1,nt):\n",
    "        F = computeF(u_max, rho, aval, bval)\n",
    "        rho_n[t,1:] = rho[1:] - dt/dx*(F[1:]-F[:-1])\n",
    "        rho_n[t,0] = rho[0]\n",
    "        rho_n[t,-1] = rho[-1]\n",
    "        rho = rho_n[t].copy()\n",
    "\n",
    "    return rho_n"
   ]
  },
  {
   "cell_type": "code",
   "execution_count": 33,
   "metadata": {
    "collapsed": true
   },
   "outputs": [],
   "source": [
    "sigma = 1.\n",
    "dt = sigma*dx/u_max\n",
    "\n",
    "rho_n = ftbs(rho_initial, nt, dt, dx, rho_max, u_max)"
   ]
  },
  {
   "cell_type": "code",
   "execution_count": 34,
   "metadata": {
    "collapsed": true
   },
   "outputs": [],
   "source": [
    "from matplotlib import animation\n",
    "from IPython.display import HTML"
   ]
  },
  {
   "cell_type": "code",
   "execution_count": 35,
   "metadata": {},
   "outputs": [
    {
     "data": {
      "image/png": "[encoded data removed]",
      "text/plain": [
       "<matplotlib.figure.Figure at 0x7ff9398f3ac8>"
      ]
     },
     "metadata": {},
     "output_type": "display_data"
    }
   ],
   "source": [
    "fig = pyplot.figure();\n",
    "ax = pyplot.axes(xlim=(0,4),ylim=(-1,8),xlabel=('Distance'),ylabel=('Traffic density'));\n",
    "line, = ax.plot([],[],color='#003366', lw=2);\n",
    "\n",
    "def animate(data):\n",
    "    x = numpy.linspace(0,4,nx)\n",
    "    y = data\n",
    "    line.set_data(x,y)\n",
    "    return line,\n",
    "\n",
    "anim = animation.FuncAnimation(fig, animate, frames=rho_n, interval=50)"
   ]
  },
  {
   "cell_type": "code",
   "execution_count": 36,
   "metadata": {},
   "outputs": [
    {
     "data": {
      "text/html": [
       "<video width=\"432\" height=\"288\" controls autoplay loop>\n",
       "  <source type=\"video/mp4\" src=\"data:video/mp4;base64,AAAAHGZ0eXBNNFYgAAACAGlzb21pc28yYXZjMQAAAAhmcmVlAAAu/m1kYXQAAAKuBgX//6rcRem9\n",
       "5tlIt5Ys2CDZI+7veDI2NCAtIGNvcmUgMTQ4IHIyNjQzIDVjNjU3MDQgLSBILjI2NC9NUEVHLTQg\n",
       "QVZDIGNvZGVjIC0gQ29weWxlZnQgMjAwMy0yMDE1IC0gaHR0cDovL3d3dy52aWRlb2xhbi5vcmcv\n",
       "eDI2NC5odG1sIC0gb3B0aW9uczogY2FiYWM9MSByZWY9MyBkZWJsb2NrPTE6MDowIGFuYWx5c2U9\n",
       "MHgzOjB4MTEzIG1lPWhleCBzdWJtZT03IHBzeT0xIHBzeV9yZD0xLjAwOjAuMDAgbWl4ZWRfcmVm\n",
       "PTEgbWVfcmFuZ2U9MTYgY2hyb21hX21lPTEgdHJlbGxpcz0xIDh4OGRjdD0xIGNxbT0wIGRlYWR6\n",
       "b25lPTIxLDExIGZhc3RfcHNraXA9MSBjaHJvbWFfcXBfb2Zmc2V0PS0yIHRocmVhZHM9OSBsb29r\n",
       "YWhlYWRfdGhyZWFkcz0xIHNsaWNlZF90aHJlYWRzPTAgbnI9MCBkZWNpbWF0ZT0xIGludGVybGFj\n",
       "ZWQ9MCBibHVyYXlfY29tcGF0PTAgY29uc3RyYWluZWRfaW50cmE9MCBiZnJhbWVzPTMgYl9weXJh\n",
       "bWlkPTIgYl9hZGFwdD0xIGJfYmlhcz0wIGRpcmVjdD0xIHdlaWdodGI9MSBvcGVuX2dvcD0wIHdl\n",
       "aWdodHA9MiBrZXlpbnQ9MjUwIGtleWludF9taW49MjAgc2NlbmVjdXQ9NDAgaW50cmFfcmVmcmVz\n",
       "aD0wIHJjX2xvb2thaGVhZD00MCByYz1jcmYgbWJ0cmVlPTEgY3JmPTIzLjAgcWNvbXA9MC42MCBx\n",
       "cG1pbj0wIHFwbWF4PTY5IHFwc3RlcD00IGlwX3JhdGlvPTEuNDAgYXE9MToxLjAwAIAAAA5mZYiE\n",
       "ADv//vdOvwKbRZdqA5JXCvbKpCZZuVJrAfKmAAADAAARsIY/wVXIzANogBOTbGRDwzgHrPBPz9a+\n",
       "IWx1Rg8phSV8bROSgkdFjmCrCrxI3TYAABN+CD/dceBqQ/1yqVabh0GdZPwi+2ftvOKJts46PWbs\n",
       "93HiV8x5kZPDNWoIGN8b77dsvF1+tBq36/H37s8NVGX80V7gUv0TnIs8IsccaZFIL90QIhEiiVbN\n",
       "DGvToACfsyybhAsbTPeBqbm8vfH2Cg0rgkKQeXYXjTU2W+y/F+7ghPpEt6f54GrbRp3qLqLWTZCz\n",
       "k5htfeiC3GC4ABhpE6RFjiXTR4WbLxj4m2s2y5RFk9PkuHKhMORCRD3JRX9ZR4CKogFt0Kqx84iK\n",
       "jx2ltEQco1xMfD7NwEUehXjX7Pxl88+u+fMHN6gXRrHGTAmjAxA/4CpSaXkm41agzOszx6P3I9TH\n",
       "ae1AQCMuBbwAK9ryQgtlPiSaVymSJKJ2OPQshcDqi0Qxw75Jg7YtcXfE+u2pdpw7tnMmigvaRTJk\n",
       "kWIvAPpOJfNEdt1sgiYXbHdOFs7YsmguSCOuIN3x8RSBqTdyKYpbnsVlPPokDJRXpVRl+huv50Sw\n",
       "B/tGRweR407IK1TY7x/tzeFT7h1g2XjO5Ss+Hwgh620oaPCLvSWDqydFJ9FVPCsU4Z4ZqWM465fx\n",
       "lzYFvWgtPm7OmV01nSIuc7SNE/Xzc/Qd0hFh+SgR3Kcbnrk36oNmOeR7TYoEqSsiaWaUV2CBXq3M\n",
       "T1IsrjZ3cXBGBgv53Dx0kfse+hiybAFc/lsvOVoOufs+YlnKhi0yw4/tUOQr9btwBMGxC7fQ7d9a\n",
       "oENb4/D5l2QfJ5oj4lZD5nH166XOXe/YEur/pU9qM/AOE713PxzVQi7LO97wUgx3Q0GgvGkyCnbe\n",
       "lALOAEo184TrQRJSJIqE+WhW+kbq975kLCuzT/qIzvgKVJi3nS2dTwxswiEPpWAVYUrjQfLY0Lg3\n",
       "jvXhi1PFvzW+LqzBKx830mMHS2+1oCFRbw9NjrMU3kdT7i7HtEpgxx51yHdmiqh9DKa8sLy3Okzg\n",
       "LLBiH0SMoTYFxk8J+r4zaL8WQg1omLsNQET+RuAwThbti/1C2J5j+2mFLOCn8oCI0Tiv2xl4CZxW\n",
       "jCN5N9pHo5FEN8aPVhDQayCJgvUQCb7RchWXUy0yJ0ciED5dfwdZmoB3tjOvDU/t9V5XVLdWMNpZ\n",
       "TWt683tJ1TRNM3p8kDY+VwoC932f5NZER+OE2oyLMFtUP759FGd51uNlV/2gy1GIYTdn419nusmj\n",
       "Yi7u420oFhjMm4NxA/oLAOaiBafC+uCdO4iLFidGjPPkwMIQK/UNTX4Ll8gCkHNfeUnIC3MN0/d2\n",
       "CK24oVj/ygjHmQGAwS7aqJpjaOTEwgDaRXjOEv17dmNunzB1J6+mZaKwYZPthZWQ9w0AR0VtgwvA\n",
       "/vQ6jfcmvdKhCZ7cWeuAK4Y2lJuzLIfSdPqU+P10o6LGmByNrk5qxMjbyHkELk5gUfbT7E7nW80P\n",
       "jOfPMIq9iWuCSQh5LMT7gpi60KinbmF+o2/UFA5YUuuhwvJ3/D3JojxLYb7DLl7Ms8xWfJqA5R2p\n",
       "XOGVPwpPsNXslXIt0EKQ+Pwn+yHRPIHSHylugrX5iwxV/1Rd6liA4WZIatl1VXHW1uxKWKV8lIKm\n",
       "sSl7U0YG8tj+5yCNBUe9sFkeYhqmJ3teOcOVOmc+X/0E3GFG9ncIpcjXx70b/4y/Dvq3aZm0c3O8\n",
       "FHMZ5ZeJaGnxsLCx/kXRlg4nfVk/2xQQRzDU6Aft+jpCd8PwzpM6KEqLo63KTJeUHr0Qu3faFnxG\n",
       "54rgiSJq97tTHzjymf8yWrUViU/hwXLHl6cntOLlys21lWuDVTaiyYmPN2uGnE5rAih0Sio+/TOK\n",
       "Nqk3OCt6M8b5x3lkVNH6i5M362owYh/KvWGjl6ww5GxwSgzmNkF7TqzupL2YlMNPJNxMJbWQxmhm\n",
       "8VysR6j6+/SvGc4UNqW80YOzPsOA7+3MMgoI2GW5C1mYP3Xkau8HwW4WhLFeF9fWjoqIqKqqchS1\n",
       "l/85aaw2M+MPo1d4c7+QSTJ1dAFEXtd9v5+M4RU5aXpLHGbPaWdK1ku+6aJakH8rVJQ+RRfDUt+r\n",
       "rRaV1nyEnPE8GE5lFt11j7lyARP/tvgqXDdr88qcFTwBaZj4ELCEjZA4hKaCgr0/DuuEERWDf/BH\n",
       "OA1AJA6UnENmB+TicXjEuNufoMkI9eaJB7xTp2T9qtTf6D+RG2q5DQ3EgkFFoNR6TnfUuZF72eRf\n",
       "ySHOrYnPXmBKQJDVxr7ClyiLUyXaW932fzzQvEQNW7Wvy72hut5b7422+S4dXmJMPwHSot4Eyqtp\n",
       "8Ak05LxcRFKBDWqdqKC0w46ZGEYzRjI/0cH9esMNQTfIUHoNpYc/q6insApSx37GWyg0JZwXi6iP\n",
       "ipNTx7Lnvbvsc8o6BcjpKrjr95Sik/B2yoPjCRK2meGeDg13bIx22NAUqF+0/2+jhBERRXO/ar/A\n",
       "R2mxJxlouH127mF5ih4WzcjmdERxW0LRqrUaHVzNIR8b2xKNlRUINq/G7TnWxRIEe9vL4qNQdbts\n",
       "/m/8MSnVHSRwi68dBhNt9N41nlKyxQxgOWJKeKIYwgOERJ1HBwv6zU69fzshcqZ2zgLPlSAsL0c9\n",
       "v43iC0FrMRp7c/rFaZahtaAaPpuMiSp/Ea6FP6cMCqxYv5r34f2Lx/ygaxJxU4E+YcyDy1mwt1Ay\n",
       "QW/WjdCn7gqjpsVdnSIyZoESoUSV4vL8r9byehhus6BxsRTnBNoOwMu3j45ZDaCHfy2Ygp3c0QfG\n",
       "Y8R6kiH47S8ZkeRhNllBxu1zoGG7qlXmov/kHaklbyPZfJq9lrUH+IXQEUcxEhZ/KeExK4/ISKpE\n",
       "FZg7X4wl4483e5pL9vi87oW9P2UOCKSnoHlvx1/JLJ2uya8ZWtI3M92Pcs8w/l4gZ8WAPwaXb+lR\n",
       "QGqeeHs0H3KQBGAkOlsJ1boappXdf39Ju3t+u/t+PZs7ixoqOQbjrdkVZmvz4URqfx7GG/Y0kBi9\n",
       "A0KLvThg3Hhj4d0olCkkpDVKJwZt3m4paU+Az40T4pu7owQsPQJigl20y3kZ5whsk0uemnKCUYww\n",
       "QzHNelELmbInMO5KEYN6AGFOBnJQbnXPZq1Akdo1F+NgOue6zupzPuzwc69nwmMvnRct+pDbCsQJ\n",
       "zoflcI/5rDGj9YqZ2sPx6EmsIRXlYW7ewaRsOE+5r9+xgGp2AOt+MWUNiSo62EUSSxXMLOb5D6Uj\n",
       "QYnYgDh4wPVtHSVjjBzrpRpDATrxxG1PNO6yJJKt0L+02qRWgf9akVkLHbJuF7eOyjOPuxqZ5W9b\n",
       "ujIORTlIpvOGkCvzxiJaMFRgg9AR9gxHDJBO6O/qUZ8mqrBbR+zM0TZBr8IQpldAQyp+k//F93fU\n",
       "PuJdoD6wRqKWlXu8f+aKJRLmM6ivawF4kljdp14xPDEiC7cfZF6KIvcOiTiwbH7iuL3Hptqt9lAZ\n",
       "Id6JPvU7xU1/fD5CJLOTXmrvKDvobRbFNhvmrYpkV9UU9zC6vs/KT5adYg8V0PFf0z15W2G5O1B+\n",
       "J2X3O8lyyLUoJXesbK8izOFbGE7MyiKG80m8AUUllDEL+1+RLfyIOmJnc1k/I6WymowmZjzFcRk2\n",
       "te+eerVWVNKwBjjooRIFCeRPyuayyuAXALV5/aBgkRFy4nxl1iBSijQhS90AKw+vLagfip5LSTvD\n",
       "kKSsiGAGGWwmsGlCiXrkyjbjWI2KesMJ0O3dzRUJtEcNChHcw4uK4w/yt7PNaNw3cv+e4//WvO70\n",
       "Fb4q9V7zA3kwd9IdBucqI/mFvUY+pLEnduzNLZide6HoRCiLn7hjobEBnufhnosSnhYo5rHZ3zK8\n",
       "Dgr5rowU77BO52/8dAkaWQGM+mu3MCVkH56mckOG0oPB4xXTqdm0lTcDk0gpPJwihUCdl5LYGrgD\n",
       "W5gOFjizL7s6IGZGB1oLo5TQxr5Yr8PKCujNaLtU7EuJm+JMJkRSHuef2XF+fy5RUvFXGPjvF9ny\n",
       "Mvf3JDxAm8Gg2+P/YkCchAv+T10ue8KNItLxl0kcbmyJjnWAXvugi3LdMPXhZ8NGvspIiNgZyQF/\n",
       "Sh9IFL/vbzjg53PlH03HcOj02QyRXLp46za29iCuPFVD5XpY3rOinMDqv8rfLO9hVnZHTbzdk/uc\n",
       "p0GCdUAzWZM3Anz1fVAYNsLXiyQ2bzOG0GgMCxpKA6h+UJZZ0dwsM0LotwF1Eg1Aj7radjhNx7Xz\n",
       "IK4vmwBFJ8cZ+g22JtjNW/8UmJTmhEzwBbE0nAw0ASU7xuAWKoo1bIaWA8YDQq/RV11OW2Phmnx+\n",
       "p9VW+yJND4RcEB7Lu3J9R5RT2l58D7ds6AHfLOrTmmP4Cp9L6O/wyBe3s5tIc3gfS1XJJ0tfWYlu\n",
       "lmPUPyUxHkEhb+BI9r0d3wIFP3hTfL/sOcLgSyuVJ1+u47kJ8RviW5FyZC1at/aGSlXEiYXnVcuh\n",
       "GhV1E3zFhR5GjI/Rq3wNkp+z2eUyOqYxAuK8KG8uscEACj0/12DKc4pxQYEHlvzFQxdWVln5Eiq5\n",
       "9dZoZGzUU+OdBE8OyW3PhmmSk/Y+L9zDxSfalAWb3sqrGJI434ue2VoDYWT9KRYYxnLy4V2dc3n6\n",
       "2jv07JDagZEqSij3JC/afdBL0ssshW06dyYeecP3doOKhtNw76c3yLNAnnGr/K/4X9uiMTrNz6qN\n",
       "QWGASVMZTUfVLc437J4XgLocv5N5WWdR2GTCIvo0Pjz2DLHhxlFLvJiVziz4YfrkSn9hKNe0konm\n",
       "7OEOVWTIZ3p+6m7qjUf007USgTCNlU0l4/aYFEFW6qj6v/rHVOElhYUW+/gY6eoGlWWeU38HxThd\n",
       "tt4S83/KxqeoddXps6Z0irOWov7wRnO4u9Jxx2Qpao+YcM0AAAMWQZokbEN//qeEADc6FtgBjGP6\n",
       "T+ysRRbOQa2iSRPsNibKMp0aX4nrgXSHeVJXrAXg/9ABrSiWr8cyLQlWCYGIW04/z/yFe6Py4Cz+\n",
       "XJIzFSg8jA11skh9H+vKqkI0zLB9Zwt8pT/b+UFT6rAshZHA7dIfMqkcYLBgl4tA44K4WGuQylTt\n",
       "+KURtmeLudntFnDd7vn9tP5Be5kFNgF83ViOovRcdSbESqkXso8k2nC2NZYTBWfZp3OGSihsDW02\n",
       "q2IM807KD9iUZRMycFV0/szHTViERO9BGMotaClhOm2Hia8m65+vXRLCb+JyduYL0LAjXGS2T0Iq\n",
       "9XF3WqmqwvJsHwLQcOPvGVOn8DaigR2m54Qg45ZJFt1a163Qila1yjE73hRLQUM51FUYBf/WLl0f\n",
       "IsiN1yYpRLELWYx1RmmBFMwisWckh1HPgpKROgpm+KnvzP6bLMngVhsQR3OVssKqqhZ5UMtB1pav\n",
       "zhxAnr90+nZgl400Fcx7YrkndWCT+P6dkvjIJqB9mQkTytQlDhA1yh9HN22ooGE1D0IPsn1EBPqf\n",
       "26yLY48Ue4Cv0BVFXssprvUM73l10y6VGhgBfwSpW4czbIB/gsVSOADzNIJGM2MyOZGnD5kCF25H\n",
       "ukHVyIzm/IebGr2PSyFYZCE4ZIkLR5ZmMQ1u04DGPzQoQFb4/ZJKSBROyvbebpcrdFOux1NAeKGD\n",
       "QOIp+A32gO3fS7BwFJU824Amvr8qh4BpBhRzWw5UUswRVO3jGvdHHYU72XBzyDx+LGFcI58ymsGh\n",
       "niBEdTm23L2GVLfj3w1wJZlE8Ab6ht6QIUoG4W8aUsRyj+NngheUcqG/Bz5ZgFa62y2abkMqLDm0\n",
       "/RfPrKwgG6JkErRAnMOfsv8qXvfJL+vRMGMhme72F/96sPR9CLwvc8E1WEuKfMzZALWpQdLJmSb/\n",
       "UvAI76pzC6apJorcPHUk8iVVMgXRfnESBmeGSRgVj1naP3Q60JnRCialfzD9OcRwd3tbCC+XftOs\n",
       "UMCV+Jr56hMC3jF97yRTnB5/gDJPUBB6McvbvjTagAAAARVBnkJ4hn8AGH+NOhLpL1AMM/DxpmbA\n",
       "f853ABCEEuZboJKBvsiusr0FXGpS8vBWJZADLAvc4CxltmQ5AfnP+bkUReWaSB7qD7MuIZDx7G4Y\n",
       "/BhG08BWuuCWpCW5RZOZ/VMDY3DdBTQnrTaOrBI2jdiHmq9eM+9dyWkrRY9iEINDJnt2gZl6w3s2\n",
       "M/CYI32kjQ4RcDl0O7edmqge5q35egsbRWe4W8hYVtWiv1SQTF+p7aFnK9Xc/xmGYc/l0BKXRBpI\n",
       "e/F4A+LzvVtL8VOiTiXOirM7c3xGYRBIYOANr1vM7XjZaGdPfO1kyvK3CXptpIadTtX3l4Xo7JDN\n",
       "Imhb/Rv0HxgI93+wkRtn8cX36gSZzlKGWKS5AAAArgGeYXRCvwAtaYhmHaGYdTAl1JEdAASf5dah\n",
       "huhedwk3H6UwzplHDGMdQr4mzphCTaqtcpXmOk6+vhnYthCXJ1lHci7oRU4CjlZkdSVI2CaZflty\n",
       "ba+2S2ljyoyBNiM6zB2szDLL86yHOAx6TQftFGunI6GkbbhtwTsoWjHjsC0WP9rJTUc6kVM5qIxh\n",
       "dWdNpbsISiTUetzoIam4FufkWHZePUh+UkmZlGIO+1nt4AAAAKEBnmNqQr8AIkqkmH9P/Q0k3Ec5\n",
       "JTroAShZypaaFLrikHcLvnPomTvQ527lFPc6rVXe2xqYOMnxSvj71SmPR9HlgrQEDaCJAig8q+d8\n",
       "E8uy+TOr5h2EXyMaR3je5I3epz0u7lgT4Ay/gcX7rlxGKhXTGUzxysRM/AO1m4cI4sq0k5VjDTmp\n",
       "LhGva/xbbrlQNhAL8qnQzNtxkZzeYiUIxFsY4QAAASVBmmVJqEFomUwIb//+p4QAK17wobJkRdPx\n",
       "YzHZIvAB/Dk5Lwzglt3F9BeCCeEtCxJWnu0eHtKyWTGL2ZStOW3wkcOP6L4hfJ2YqbKqq1xp+7lA\n",
       "ky+kKA5e3PsitoNRTk7nk58VwSaqeHq744xGrKE6204fjNpsfnL0tezGoqjJx+alUJ2TECiFf1ia\n",
       "qVl+RrZYrGEEdACxXGywv1SiXa802uQXl/6YChtIeJgMFsr9HNTLBSBphQyWL0NRycY5OQdNCueR\n",
       "TRQ9k4LIsZ7jSm+CnJSycPICcPb853YVJQIi2RcHgRr8aMD/iXecVJXiUnivAS/2vVhwRvk9MjvG\n",
       "FKKzOvcHAHPgefzxdWa6D8z58yR+j2TlqVPI0vjNBStt+nTt3fk7wQAAAQhBmoZJ4QpSZTAhv/6n\n",
       "hAAWIKoyDgCt5CrTnuOp61r+PXdJeVG/F4tfNmuHmo9upYKzMyr1pEymM88t0Fx+FSlnxUHNeECv\n",
       "LAqeZ6v23FMBxDjA87YlrAE0lgNLQHycCKdD5E1a8eisGRslwufH7tqsSrohkXEdN8wW69LV/TS0\n",
       "wvGuNlkol8efELLdJw/r0a6bTtH7NZ3DJp8tT9anFNqxA/JrZ4onmnA8sC9DJ+oNazbtApYc+L7S\n",
       "KPqs/6KflG+1fsfWchtt9PutWHYlyra2bjmJz0oJVxnnbSglqPnl36n3ZtTa5s5bKz/IkisLCPgP\n",
       "MqzPeF2/VVhlqyumlZE4oybpElajhMEAAAESQZqnSeEOiZTAhv/+p4QAFhwIjOn3511gYXYATRbC\n",
       "O5nPRazimB9GJqrwtAdhQkJy8pmhwTUY8NKNjKVGZmE/XvD64L/UB/ESHUTHnwuxxDw1ZLNxPWGr\n",
       "pP729dqeeebpacOisp3RJ1Ub3eFqV+6ZbOVbkr4q/Liq9CaLodc3/Ud0281RJJiySdIsEGvgdH5v\n",
       "6UCt6imIhO9FIqIjPQYbs5KGX3L6w6ely6gkYQQU2HlF/9pkqGJtptRT7l4lddjUKmGDYQHrhVzt\n",
       "TK4LlH4j1gOHdYT8I9/KKtnOYXviI6n/dV0kJ2rcBMpaCK3oShKspla1owHt1VXQIZgTV2UzdwWV\n",
       "zN1tjHEM76270/7gJTFqQQAAAQdBmshJ4Q8mUwId//6plgALN8ChJf6k0dFoO0B3qRUcWngYLBuv\n",
       "FqNMBojSzOxnF00xgd00tqy2LnCGU2yZHH9hhGXKlOHs7LXH12fQVldvhMsJ80wxYtArc4Hwm5+b\n",
       "5nlNoMiGjB1rtMs+T6Eat7reEsZZ6km1ZnMy3RmHRvexDZ9o0Fg5e/olu7tWt/nU9kXsI/p0BZ3M\n",
       "ciePl42CeLM3+6cPs2ioKT+i6KWX5x1fi+GLu1o6rtiErB1WZDf/e1tC7KDSuAhNR2nU3etACr3j\n",
       "/ofuavHU6tvflDMK1SG1IkgF764V+z9OMzf65PK40HtKzEKPLzmArF2hyuYjAFf+wwa2jKyV8AAA\n",
       "ARxBmulJ4Q8mUwId//6plgAV3nnkYQFEJoCuT+J14ASsyHpKNsKku8GDjm826Cpc6tKJfzZgDHYD\n",
       "O7jC5sBJ84ADKuvUeBOCYYWSu5SDrM0kWuH4SW8wyRIxk2eHxth4v/uQrKx+ItnegbCmLBAYh6q2\n",
       "XLxepHtlghkpD0wMf4pxm17VhafMtY5Yo5h/dHq/sTkEf9foqTfLXhgqQXljSGyEpPduU3Wwwv6l\n",
       "bhcfUD9cVki7vU0ygYRyFK/fjlatgXWrM0uNKm2r9SjPPXB/ZT/io4JtV6jeO46VBjrX5Gu9yHkc\n",
       "4AOyhnk2d4YNesQfj3k3H/jvnOgtubE24A9lM3FN0TOY2zuzVNd/YDyyq/M8SlgvSA1aD0DizsxV\n",
       "wAAAAl9Bmw1J4Q8mUwId//6plgAK3Rfuy2FwfchoASznxGnaMlqq7UXcDZmtt8OfRioBpP05Yx3f\n",
       "E2hWSKohsJlv9vs9F0hjLvMNPW6T8TwhEkHiuKu7R+QNKrjYf+0Jqf9ps088b3yA7DoWO/Oe0Yv7\n",
       "XHCDV6XBTpwGn/Thtk7FIVPjKsz2rCQITo0O2I+d9ygg+SfX4EsXSh1HZXOB4iL1drCeHrKXpPX6\n",
       "eAN1hdnN/Tk97GOfy83RSCfVC5ur+PAfu4FRzVFMX8IkNCTPBAiKWZRVdI0NtOXecUc8xP2vHjLA\n",
       "j9jCMUT0zGHoZXL0aUwUAeuzQ3T+yAYR66YJ9+EaWq9C40EjhSnIV7QX3TRUAKzEBG7axYz5rr+S\n",
       "SpL9Q3u+cJ1QvwxMgvOEkjKdAARAq8wOCnVh1SIaf2F3EwnD5J4yDUNHBsnSpP6DKxs2LZOI9Ghh\n",
       "bWx3ZFDcJtyDbb7gd4328K31G+EMA3xKbmr/qPG6+R5+N00nJlasqmUeG95/JDDnHW6zFxUyzcB0\n",
       "TzgmBRY8xkpiK5sI3VulZRD2iRU0OnkZUg17AVlb4fO4xBxOKVdv41rlGmHXoTqpOK60ubb2aNQr\n",
       "Juz/XYJ2ojYyHdl5Y+t8NU0ZSIgtCT4Bl5O6Yh78XAUR5BO8ukfHNgo1ZNJPzstaMcgKDR1Uk5ac\n",
       "VnyH9fYJAPRqnHiSiMvcfu1fF4F1ZsgCOWbc4uDcZtSXEAiPBEhSIrWo+4JEFIup24KiZimKT1HE\n",
       "mPb/EOMgRj1JWtJC3tW/38HlUzkdAklqgjAtiKZZWekem1vkn5jDJJSBAAAA8UGfK0URPDP/AAli\n",
       "4UJu6+hAATkGFv4MM3aeQh9YqbDrnKzPVErA0kor0mQzt0AoSeUwxb5FmKqAEr2Jd1d9S6tFhNJb\n",
       "uXwWmVqekoiaMclttvwAqWp1+p3z34ttRIfELpOfjUtqMixGUVnPl38WojRW02OriSxcwVziD3vt\n",
       "xcknqUgJ3GoSk6TKyRIQqMdM2qVK6GtjN5HBeHoZ0PTsY+56323Htd4Z3vsjo2aZFE/jdSmf/HKE\n",
       "Kq2YVAddYUgCef0ffwXhWLBkj/lKtUDcrEAMvgaaYGj1DAFJLmseaU7oFlfy1hynref5affBV4c3\n",
       "CSgAAACHAZ9KdEK/ABEa1l1fRfDA/ns3UfyArr0OX5dHfv+/3pl2DkC+KQEeyVaUIFdl8Au4r0Nm\n",
       "/mnCMcN9HERSF28656+Yiib0fPCMoHK5UMhRx390NNAh87Qto3/Ms7Rh5GcubQuymo1XYlQ6C1e2\n",
       "/Iyu0OTmVZMa6Hn1i9k6x8PsXMPbLkt9a0PAAAAAqgGfTGpCvwARXQEIGACVkZjfjVb7gr8Wj6qw\n",
       "UcZbOErTc1AiYtgnyr9yv68EgBPLkHp5YieTbTFFUwrwu4BKnHJ5gVML/PIGMbLvIm408iQJaT2A\n",
       "wEnAT/SoAAADAXBOQAAL5mTc6lF7qQ3mdY0q2qVOZ3OXSvshVQJzATuTQHtph+EfxsHduzLCb17H\n",
       "Fmdo2At23gpyHLKivcRAazQIYRYuZLBrc6hCALKhAAABBkGbTkmoQWiZTAh3//6plgAK45kF+ZcA\n",
       "AulDw1o3VAg0JH+Bsw+a5GvButFEqAzm9N0CmeTGxboiZuubvMLCJ+Q1wUuDl+x4g+Gxwl1NRMYJ\n",
       "x4pCK4NWKRTGzZ7HAQh2Vt7P7O9/80+sLrY34RkbG2qnlJtsOs8MmiSZdOk4XXlKe8AjVoznK9ow\n",
       "Gb1LPM/M7KeoL0fZT+wfZUIetnOkpcd3Q+lfxERQe+xNPLxWhmefcOTQ0/hTM2SMkZ7bH/yBrvDk\n",
       "xLP+pTMy/NOGEapDdyKxERhfB9IJ+acy0p45Tsg4/7lwpDBibLgi//GcX6NFS+L176UQXAAefAm8\n",
       "7IyMcuimfTDbWMEAAAHFQZtySeEKUmUwId/+qZYACt6MofJqxsRLifAALLneztEPTohO5aGlzcfX\n",
       "2xY/IbvXCneLG2JxyYKMtCqJ7cX6OulqM9byfg+puoyql4llVvAcMVwYQ49AbwApD4RdGD5zo5LG\n",
       "EE149N4/Tj8Mxm8Kr7lYUn/uhKGGUT/uqFeubCpAVuArIQjX87D/k60ToL0Mf9RdWdG8/2Vj0Mw2\n",
       "wKFyKg5niicvZMt8WYrVRkSUlEaEcgbHZWKLok7hP8NkOcr86wVMwdyugP+0yuNRHxAxSv12COXi\n",
       "vkcPJ5tdvVDfaxWr3oaZT2en77+c7gB51glCPWbYWBNp9uexxoOBwqWFE0Mrz2ysNbVXzWsssm+M\n",
       "6QtcNK1gOb72jf8btg3gp6dn3ozd+78Er+dnn/X7XUTD9ETeGC1D/xEwgRuhDiQg08ED+dP+1fBd\n",
       "ICHfiH8b77x808d0qSFrjJYmG3hM7Lnta9WLv9jxn+pxWNhmei4w+F7hjTq1RmQz6LAMO+T4WrDz\n",
       "FbOQuXFNH+AvM3tMSymMNMrlOnzOO0+FaLmI5HSIcaSlEVGNZeodFsOfpdHk4cQXQ3QzqF4rs1Mz\n",
       "hgbslaY7ETjzaOuJAAAAzkGfkEU0TDP/AAlQzJqn8MgBtrqO4nVjGYqxSiNNpUFTO5JxINPTikCs\n",
       "bl39xMtzXd3dANUL2M2l7HQYo4Un1vfEe+lG/uowmfOu7BYzfghkFmjIl6mg8JSnWBxA6k7dBxi4\n",
       "GJ0rLld+Ayx0AQrIU0DpbVzESzq50ZAAAAMBBfH7oe3a6ZQeT4pfJJhcnijQIp3VrheilQ1TuHKi\n",
       "OrXLboDOiwojHNtE3WQddrWTyCu9tagbAEMcjTwyxPZrAvOt0wX8cT5onKY69tBJbRrQAAAAlQGf\n",
       "r3RCvwARWvDtnFgAuZgkIGjzcBSHG41lT7aO9EjOdPiiFV/pMVhXSKAbaqRrMU+PRAmnC9Bp1kO2\n",
       "QT9nRChBmSEqeKrFtIEebfdWbYRJPw2T6cX4RQgTBe96rjaNC3R065Pk7Z8QYisJyjID2xz3LM6m\n",
       "F3FnQyF+Pgzl02NspelorOpFzonE9MRMiH7eh8xckwWcAAAAlgGfsWpCvwARHQds+IAbpAKXNxRA\n",
       "nwlMHafWHy4wxq9W7zwzK/Vj8n2xYXll12AKz/JEe4fH6Tr/xiq/Pi5YUF0Ga6zYCPsEHS9uWPtF\n",
       "jFSSsehnjeEEYmhyGdvGTqKFDXWuxseGXzfJLnZ9W41ZT4iR4qWdUgXluxyJ0JXCZsl77odahoa1\n",
       "SB/4Oyr8Mis+/7ZpA95JYwAAAR9Bm7NJqEFomUwId//+qZYACt0mp/1BagC5ODPA7Qh7bl+8Xrmc\n",
       "07Zvo4XmSr9d3OeeAHSff+25IzPq3q6ZhY66eoFY/CIh7UALkOYR8BFsrNkFHRKm+pgy7dHWNSXB\n",
       "BUm/7RGHqXJkvALHBClugeUY/5zRARFdhub3IHuKlMGypJzBNVxlluqhZ/S36TARyIAUyF73CytV\n",
       "xMC3pPpAK3YMBkFPk0Jq4BZlnwD0G9GTQlZ8pi1eyn02V8yLXdJW2Ji/o/Q7SigUGf1GJ5fDUzGl\n",
       "g5LIp/8+EyjRhqoLmT4Cot4Iy0IhI866x7i/GLa5Ku6ZzrwqgKQWniaVE69IqSf41bR8pDx73+nS\n",
       "L0KGwYG20Ytd880DCacoxaUXsqIF3gAAAVlBm9dJ4QpSZTAhv/6nhAAVr8cPsxECMkWeJjB8wA3X\n",
       "N97dJ4JeYK6m040UxLYbVa+gDR1wCRrob6NwPYH57V1Rcklj/pwIYuYixrsTSNkOFHeFewuYB0i8\n",
       "1Rm1NBeb5T4pTe73hvEtJIxu5pInRCAYG+Q7Z4flEUidGi1Hbl0VAD17DEtJagNW9lJzjHUCfhDJ\n",
       "c53e3mT+PgEuG+OkuDoPckZI4fy6CR+y0fk5tM9gXbe68sbnht/G/I6GEnq+s7li041mgSsrm6X9\n",
       "VcrypKUc2UpqJbPg+EQCTUI52O01ylDb1jEIYWNFzpAQMcPtQkMsIVlVysiDKcoa6vJCEW8ei8Hj\n",
       "ywJhVWE89qM73Ttse2RNggBhwiAQWn4qKiznyHW2R3u6s9Rd+1DO+xeF2+i43435e+5Vvc5Bgte7\n",
       "XShGc3J+1CFr+JRAxU7wXUafogNivb83j8MOj+IAAAC1QZ/1RTRMM/8ACWxTwGNkVdVXoiLFtDTi\n",
       "BQre1cUIALIIrsJhtGbIF7X7RHktTYdo5rofhbRvL/Zv1YJJ5t0+A8DYmJXCk9wOWS7P9iWhNFMY\n",
       "uL9fMUjgQ8J3FuvPblOPqKP0sc4aQyzhtWGrQB8AlyRbwymIDnuD10B8WcjCamfFcjCQudg5yvvI\n",
       "5oz5xUxCLA+O1ySIjY1GhabUZyDNhPioRXCGsWJFpwsZJSfH/QxFs1SBrwAAAI8BnhR0Qr8AEViu\n",
       "MkLT6y1qfLC3YeZ3fhnbhSkaBaM5EhsuNhBBzvWUglMyc5JTTCMfzdmjBpUTFb01tE0m2oI8dW5c\n",
       "oxDt0XZyOQ58vwfkgaRdiAATDkNj6JSIRIxYtcPozyGEfNwZ/cBbcAAJZ9yQ9k2bjwitNvyuEvKz\n",
       "0U2HkH2RwrdWzxJdx35+So2/gAAAAIUBnhZqQr8AEOCOVgC3EJ/jJ6v5taUGO86305ehHwAjAxFn\n",
       "B/Fu63Uo/JTm46xIqtnki9Rz9B1BP4IASxUPLXnSh5yiEKwmcPjYrj1g/VDK7g0k7Dyn4QLIliVw\n",
       "pdJduhG0zbV9uOe/ffpzvhO+HmnITf/c4BcI4KuviYeA7rvtw7PCJBj/AAAA9UGaGEmoQWiZTAh3\n",
       "//6plgAKmCAWV99hp/FLFb42gIVVDxD2MmF558oEmC6kfWwYKvnEgwaol1EpMcE3BiCbICZFd034\n",
       "617YACZoMqmxAOl+raiBiIubTrXWCHJJslhOBJtk/bOPZtKf2q/BVNV4TUP72XZvr2S/5P9ZNsH0\n",
       "rK5Y/bZmf8ic9TsWAZJ/PcFNmBuch7Uym4dTEYduiuiQKseJUbg2NMHpGpXis8PgWutbUXXfnh1O\n",
       "75gskgZ/B7JobiZoZTbFOmc2lbVD1VINyOaPIczdzpOuz8LDGlyd13yz7DQQmAyKF6kGob8s3yp0\n",
       "eH2/PHVBAAABWUGaPEnhClJlMCGf/p4QAFGrt6Of8rsAEYBkHR2cYdBJH8sV1Of2O/6SHMnmScqn\n",
       "TCypSkYwuniSTYZ7wYrVZPLh7Se0msnfB65rcudERJfP3FXA7x7yz7z8zhCMsO5XL482zUzKRn3v\n",
       "Hy29Xsw78TW2dsmyRF4NlhwaRRjZZl0SCSV5KeS1NQVyrGdD4n98w/l8PVw1i6nrVsBQO0fbuh1Q\n",
       "vcODz/lxtTXuYk0f6dL+xzhLRv0ZbjpntlmnwEWy5Qcwa4F7rI0DQVG6nJ6tFWKjHukhMYHi+i1T\n",
       "o7JsQnfbsyl1Ch+Pi+3koq/x5oMuKfxjp3IwXV7TONLoSPeYoSBMvDVZs++j09IZ1x2WKtR9YER0\n",
       "SIiWq1f6Q/SzZQqaj/sHYYVHCJjbyINNW0hUGuPU6B2tlMrSsY/Xf/pwp0amJcEZeJKxz4MLZcOl\n",
       "5NDkyS81CZszpHjraQAAAM5BnlpFNEwz/wAJLqZyoYoAFvHBKsS/6gv+PTDDG+8y9HwTNNGQJR3w\n",
       "iXadePvztxKZf4bPI47tGQjrcScWusuBwk5DkZVa0f7H/2C68Xljkv1SCoeb48foqPl6TaimOcY3\n",
       "ss8AeDHFP/gnGBw3wU3CL11garGT4BZLhHbiHkotG7aWTrY6IvZcQ7goPMS3GK8FrN8EffqpN4zf\n",
       "ZiJ8ZiCnTOflJvLW6tr8hA1MiK8g5Wap3ndzgdc1I8550gJMCRghp0IZDdE1eriRj73BcwAAAJ0B\n",
       "nnl0Qr8AENBt1kWcWAC54mtNtcl285Hkstu5feJkfJ8tI+B25Ls04EuuKnqNLbn/wiJ2fDXhXWAB\n",
       "doBQOE8Dh43Fsysm5mgWnXuShXZqx7ZoEvec8xODnt3tiNIUl7EX3Gx2JrE26PAHXjNNSGXEJ2wN\n",
       "3IlVCInzHFzOVD61jccB9LkyrXLjC90Ij17Cc54SNabz6uI+tlKcUFoeAAAAlwGee2pCvwAQ4I7X\n",
       "kBYARkSyLtTzpceny2qSxahfagJpDNhqBQe7bmZk2JJCRtOX5KdLGze9f2Kw9x7IzmvGGL1zLP2a\n",
       "0qYytIl7EV8WXyFWpXhPAGkZ4e0xARQX3WEaArOhzSL8J57X7F6KrB/MSY//SrUI+3fu+sY3nWLf\n",
       "qau9eEPjfzgIrPq8l97TuohqM0cqZlugJmUAAAC0QZp9SahBaJlMCFf//jhAAT3m4/MycWcAVeBb\n",
       "MNS5lj+zbdRdnhCfLMP8vN2y8Sjg2PVzs921Naq5moA67Y8y2fFkcoYfZZmbCUaE431Fm+qXesdJ\n",
       "myBsYkShSpSIJ4R+hI+36YB7mlsNrVY8z4u78liUsq9ZuEjJLEty6xACIoDBmIXJXvS3HBTVsqkk\n",
       "N+7eQEpGo+FeaxmPdMvX/MasDi/9ugsVtS2F2cxtnJvZp945EL2BAAAEdm1vb3YAAABsbXZoZAAA\n",
       "AAAAAAAAAAAAAAAAA+gAAAXcAAEAAAEAAAAAAAAAAAAAAAABAAAAAAAAAAAAAAAAAAAAAQAAAAAA\n",
       "AAAAAAAAAAAAQAAAAAAAAAAAAAAAAAAAAAAAAAAAAAAAAAAAAAAAAAIAAAOgdHJhawAAAFx0a2hk\n",
       "AAAAAwAAAAAAAAAAAAAAAQAAAAAAAAXcAAAAAAAAAAAAAAAAAAAAAAABAAAAAAAAAAAAAAAAAAAA\n",
       "AQAAAAAAAAAAAAAAAAAAQAAAAAGwAAABIAAAAAAAJGVkdHMAAAAcZWxzdAAAAAAAAAABAAAF3AAA\n",
       "BAAAAQAAAAADGG1kaWEAAAAgbWRoZAAAAAAAAAAAAAAAAAAAKAAAADwAVcQAAAAAAC1oZGxyAAAA\n",
       "AAAAAAB2aWRlAAAAAAAAAAAAAAAAVmlkZW9IYW5kbGVyAAAAAsNtaW5mAAAAFHZtaGQAAAABAAAA\n",
       "AAAAAAAAAAAkZGluZgAAABxkcmVmAAAAAAAAAAEAAAAMdXJsIAAAAAEAAAKDc3RibAAAALNzdHNk\n",
       "AAAAAAAAAAEAAACjYXZjMQAAAAAAAAABAAAAAAAAAAAAAAAAAAAAAAGwASAASAAAAEgAAAAAAAAA\n",
       "AQAAAAAAAAAAAAAAAAAAAAAAAAAAAAAAAAAAAAAAAAAAABj//wAAADFhdmNDAWQAFf/hABhnZAAV\n",
       "rNlBsJaEAAADAAQAAAMAoDxYtlgBAAZo6+PLIsAAAAAcdXVpZGtoQPJfJE/FujmlG88DI/MAAAAA\n",
       "AAAAGHN0dHMAAAAAAAAAAQAAAB4AAAIAAAAAFHN0c3MAAAAAAAAAAQAAAAEAAADgY3R0cwAAAAAA\n",
       "AAAaAAAAAQAABAAAAAABAAAKAAAAAAEAAAQAAAAAAQAAAAAAAAABAAACAAAAAAUAAAQAAAAAAQAA\n",
       "CgAAAAABAAAEAAAAAAEAAAAAAAAAAQAAAgAAAAABAAAEAAAAAAEAAAoAAAAAAQAABAAAAAABAAAA\n",
       "AAAAAAEAAAIAAAAAAQAABAAAAAABAAAKAAAAAAEAAAQAAAAAAQAAAAAAAAABAAACAAAAAAEAAAQA\n",
       "AAAAAQAACgAAAAABAAAEAAAAAAEAAAAAAAAAAQAAAgAAAAABAAAEAAAAABxzdHNjAAAAAAAAAAEA\n",
       "AAABAAAAHgAAAAEAAACMc3RzegAAAAAAAAAAAAAAHgAAERwAAAMaAAABGQAAALIAAAClAAABKQAA\n",
       "AQwAAAEWAAABCwAAASAAAAJjAAAA9QAAAIsAAACuAAABCgAAAckAAADSAAAAmQAAAJoAAAEjAAAB\n",
       "XQAAALkAAACTAAAAiQAAAPkAAAFdAAAA0gAAAKEAAACbAAAAuAAAABRzdGNvAAAAAAAAAAEAAAAs\n",
       "AAAAYnVkdGEAAABabWV0YQAAAAAAAAAhaGRscgAAAAAAAAAAbWRpcmFwcGwAAAAAAAAAAAAAAAAt\n",
       "aWxzdAAAACWpdG9vAAAAHWRhdGEAAAABAAAAAExhdmY1Ni40MC4xMDE=\n",
       "\">\n",
       "  Your browser does not support the video tag.\n",
       "</video>"
      ],
      "text/plain": [
       "<IPython.core.display.HTML object>"
      ]
     },
     "execution_count": 36,
     "metadata": {},
     "output_type": "execute_result"
    }
   ],
   "source": [
    "HTML(anim.to_html5_video())"
   ]
  },
  {
   "cell_type": "markdown",
   "metadata": {},
   "source": [
    "That definitely looks different!  Do you think this is more or less accurate than our previous model?"
   ]
  },
  {
   "cell_type": "markdown",
   "metadata": {},
   "source": [
    "##### Dig Deeper"
   ]
  },
  {
   "cell_type": "markdown",
   "metadata": {},
   "source": [
    "The new traffic-flux model that we developed here changes the way that traffic patterns evolve. In this lesson, we only experimented with the most basic scheme: forward-time, backward-space.  Try to implement the green-light problem using one of the second-order schemes from [Lesson 2](http://nbviewer.ipython.org/github/numerical-mooc/numerical-mooc/blob/master/lessons/03_wave/03_02_convectionSchemes.ipynb)."
   ]
  },
  {
   "cell_type": "markdown",
   "metadata": {},
   "source": [
    "## References"
   ]
  },
  {
   "cell_type": "markdown",
   "metadata": {},
   "source": [
    "* Neville D. Fowkes and John J. Mahony, *\"An Introduction to Mathematical Modelling,\"* Wiley & Sons, 1994. Chapter 14: Traffic Flow."
   ]
  },
  {
   "cell_type": "markdown",
   "metadata": {},
   "source": [
    "---\n",
    "\n",
    "###### The cell below loads the style of the notebook."
   ]
  },
  {
   "cell_type": "code",
   "execution_count": 37,
   "metadata": {},
   "outputs": [
    {
     "data": {
      "text/html": [
       "<link href='http://fonts.googleapis.com/css?family=Alegreya+Sans:100,300,400,500,700,800,900,100italic,300italic,400italic,500italic,700italic,800italic,900italic' rel='stylesheet' type='text/css'>\n",
       "<link href='http://fonts.googleapis.com/css?family=Arvo:400,700,400italic' rel='stylesheet' type='text/css'>\n",
       "<link href='http://fonts.googleapis.com/css?family=PT+Mono' rel='stylesheet' type='text/css'>\n",
       "<link href='http://fonts.googleapis.com/css?family=Shadows+Into+Light' rel='stylesheet' type='text/css'>\n",
       "<link href='http://fonts.googleapis.com/css?family=Nixie+One' rel='stylesheet' type='text/css'>\n",
       "<link href='https://fonts.googleapis.com/css?family=Source+Code+Pro' rel='stylesheet' type='text/css'>\n",
       "<style>\n",
       "\n",
       "@font-face {\n",
       "    font-family: \"Computer Modern\";\n",
       "    src: url('http://mirrors.ctan.org/fonts/cm-unicode/fonts/otf/cmunss.otf');\n",
       "}\n",
       "\n",
       "#notebook_panel { /* main background */\n",
       "    background: rgb(245,245,245);\n",
       "}\n",
       "\n",
       "div.cell { /* set cell width */\n",
       "    width: 750px;\n",
       "}\n",
       "\n",
       "div #notebook { /* centre the content */\n",
       "    background: #fff; /* white background for content */\n",
       "    width: 1000px;\n",
       "    margin: auto;\n",
       "    padding-left: 0em;\n",
       "}\n",
       "\n",
       "#notebook li { /* More space between bullet points */\n",
       "    margin-top:0.8em;\n",
       "}\n",
       "\n",
       "/* draw border around running cells */\n",
       "div.cell.border-box-sizing.code_cell.running { \n",
       "    border: 1px solid #111;\n",
       "}\n",
       "\n",
       "/* Put a solid color box around each cell and its output, visually linking them*/\n",
       "div.cell.code_cell {\n",
       "    background-color: rgb(256,256,256); \n",
       "    border-radius: 0px; \n",
       "    padding: 0.5em;\n",
       "    margin-left:1em;\n",
       "    margin-top: 1em;\n",
       "}\n",
       "\n",
       "div.text_cell_render{\n",
       "    font-family: 'Alegreya Sans' sans-serif;\n",
       "    line-height: 140%;\n",
       "    font-size: 125%;\n",
       "    font-weight: 400;\n",
       "    width:600px;\n",
       "    margin-left:auto;\n",
       "    margin-right:auto;\n",
       "}\n",
       "\n",
       "\n",
       "/* Formatting for header cells */\n",
       ".text_cell_render h1 {\n",
       "    font-family: 'Nixie One', serif;\n",
       "    font-style:regular;\n",
       "    font-weight: 400;    \n",
       "    font-size: 45pt;\n",
       "    line-height: 100%;\n",
       "    color: rgb(0,51,102);\n",
       "    margin-bottom: 0.5em;\n",
       "    margin-top: 0.5em;\n",
       "    display: block;\n",
       "}\n",
       "\n",
       ".text_cell_render h2 {\n",
       "    font-family: 'Nixie One', serif;\n",
       "    font-weight: 400;\n",
       "    font-size: 30pt;\n",
       "    line-height: 100%;\n",
       "    color: rgb(0,51,102);\n",
       "    margin-bottom: 0.1em;\n",
       "    margin-top: 0.3em;\n",
       "    display: block;\n",
       "}\t\n",
       "\n",
       ".text_cell_render h3 {\n",
       "    font-family: 'Nixie One', serif;\n",
       "    margin-top:16px;\n",
       "    font-size: 22pt;\n",
       "    font-weight: 600;\n",
       "    margin-bottom: 3px;\n",
       "    font-style: regular;\n",
       "    color: rgb(102,102,0);\n",
       "}\n",
       "\n",
       ".text_cell_render h4 {    /*Use this for captions*/\n",
       "    font-family: 'Nixie One', serif;\n",
       "    font-size: 14pt;\n",
       "    text-align: center;\n",
       "    margin-top: 0em;\n",
       "    margin-bottom: 2em;\n",
       "    font-style: regular;\n",
       "}\n",
       "\n",
       ".text_cell_render h5 {  /*Use this for small titles*/\n",
       "    font-family: 'Nixie One', sans-serif;\n",
       "    font-weight: 400;\n",
       "    font-size: 16pt;\n",
       "    color: rgb(163,0,0);\n",
       "    font-style: italic;\n",
       "    margin-bottom: .1em;\n",
       "    margin-top: 0.8em;\n",
       "    display: block;\n",
       "}\n",
       "\n",
       ".text_cell_render h6 { /*use this for copyright note*/\n",
       "    font-family: 'PT Mono', sans-serif;\n",
       "    font-weight: 300;\n",
       "    font-size: 9pt;\n",
       "    line-height: 100%;\n",
       "    color: grey;\n",
       "    margin-bottom: 1px;\n",
       "    margin-top: 1px;\n",
       "}\n",
       "\n",
       ".CodeMirror{\n",
       "    font-family: \"Source Code Pro\";\n",
       "    font-size: 90%;\n",
       "}\n",
       "\n",
       ".alert-box {\n",
       "    padding:10px 10px 10px 36px;\n",
       "    margin:5px;\n",
       "}\n",
       "\n",
       ".success {\n",
       "    color:#666600;\n",
       "    background:rgb(240,242,229);\n",
       "}\n",
       "</style>\n",
       "<script>\n",
       "    MathJax.Hub.Config({\n",
       "                        TeX: {\n",
       "                           extensions: [\"AMSmath.js\"],\n",
       "                           equationNumbers: { autoNumber: \"AMS\", useLabelIds: true}\n",
       "                           },\n",
       "                tex2jax: {\n",
       "                    inlineMath: [ ['$','$'], [\"\\\\(\",\"\\\\)\"] ],\n",
       "                    displayMath: [ ['$$','$$'], [\"\\\\[\",\"\\\\]\"] ]\n",
       "                },\n",
       "                displayAlign: 'center', // Change this to 'center' to center equations.\n",
       "                \"HTML-CSS\": {\n",
       "                    styles: {'.MathJax_Display': {\"margin\": 4}}\n",
       "                }\n",
       "        });\n",
       "</script>\n"
      ],
      "text/plain": [
       "<IPython.core.display.HTML object>"
      ]
     },
     "execution_count": 37,
     "metadata": {},
     "output_type": "execute_result"
    }
   ],
   "source": [
    "from IPython.core.display import HTML\n",
    "css_file = '../../styles/numericalmoocstyle.css'\n",
    "HTML(open(css_file, \"r\").read())"
   ]
  }
 ],
 "metadata": {
  "kernelspec": {
   "display_name": "Python 3",
   "language": "python",
   "name": "python3"
  },
  "language_info": {
   "codemirror_mode": {
    "name": "ipython",
    "version": 3
   },
   "file_extension": ".py",
   "mimetype": "text/x-python",
   "name": "python",
   "nbconvert_exporter": "python",
   "pygments_lexer": "ipython3",
   "version": "3.6.1"
  }
 },
 "nbformat": 4,
 "nbformat_minor": 1
}
