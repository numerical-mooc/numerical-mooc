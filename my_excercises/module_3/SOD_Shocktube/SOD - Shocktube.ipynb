{
 "cells": [
  {
   "cell_type": "code",
   "execution_count": 21,
   "metadata": {
    "collapsed": false
   },
   "outputs": [],
   "source": [
    "%matplotlib inline\n",
    "import numpy as np\n",
    "import matplotlib.pyplot as plt\n",
    "from matplotlib import rcParams\n",
    "rcParams['font.family'] = 'serif'\n",
    "rcParams['font.size'] = 16\n",
    "from matplotlib import animation\n",
    "from JSAnimation.IPython_display import display_animation\n",
    "np.set_printoptions(3)"
   ]
  },
  {
   "cell_type": "code",
   "execution_count": 23,
   "metadata": {
    "collapsed": false
   },
   "outputs": [],
   "source": [
    "# Initial state in shock tube\n",
    "u = np.zeros((3,nx), dtype=float)\n",
    "\n",
    "# left side parameters\n",
    "lhs = np.where(x<=0.)\n",
    "u[0,lhs] = 1\n",
    "u[1,lhs] = 0\n",
    "u[2,lhs] = 10**5\n",
    "\n",
    "# right side parameters\n",
    "rhs = np.where(x>=0.)\n",
    "u[0,rhs] = 0.125\n",
    "u[1,rhs] = 0\n",
    "u[2,rhs] = 10**4"
   ]
  },
  {
   "cell_type": "code",
   "execution_count": 25,
   "metadata": {
    "collapsed": true
   },
   "outputs": [],
   "source": [
    "def flux_vect(u, gamma):\n",
    "    \"\"\" Compute flux vector\"\"\"\n",
    "    f = np.zeros((3,len(u[0,:])), dtype=float)\n",
    "    \n",
    "    f[0,:] = u[1,:]\n",
    "    f[1,:] = u[1,:]**2/u[0,:] + (gamma-1)*(u[2,:] - 0.5*\\\n",
    "                (u[1,:]**2/u[0,:]))\n",
    "    f[2,:] = (u[2,:] + (gamma-1)*(u[2,:] - 0.5*(u[1,:]**2/u[0,:])))*\\\n",
    "            (u[1,:]/u[0,:])\n",
    "        \n",
    "    return f"
   ]
  },
  {
   "cell_type": "code",
   "execution_count": 28,
   "metadata": {
    "collapsed": true
   },
   "outputs": [],
   "source": [
    "def Richtmyer(u, nt, dt, dx, gamma):\n",
    "    \"\"\"Computes the solution with Richtmyer scheme\"\"\"\n",
    "    \n",
    "    u_star = np.zeros_like(u)\n",
    "    u_n = np.zeros_like(u)\n",
    "    u_star = u.copy()     # predictor\n",
    "    u_n = u.copy()        # corrector\n",
    "    \n",
    "    # temporary arrays\n",
    "    #u_plus = np.zeros_like(u)\n",
    "    #u_minus = np.zeros_like(u)\n",
    "    #f = np.zeros_like(u)\n",
    "    \n",
    "    for t in range(1,nt):\n",
    "        #u_plus[:,:-1] = u[:,1:] # compensating for i+1/2\n",
    "        #u_minus = u.copy        # compensating for i+1/2 \n",
    "        f = flux_vect(u, gamma)\n",
    "        u_star[:,:-1] = 0.5*(u[:,1:]+u[:,:-1]) - \\\n",
    "                dt/(2*dx)*(f[:,1:]-f[:,:-1])\n",
    "        f_star = flux_vect(u_star, gamma)\n",
    "        u_n[:,1:] = u_n[:,1:] - dt/dx(f[:,1:]-f[:,:-1])\n",
    "    \n",
    "    return u_n"
   ]
  },
  {
   "cell_type": "code",
   "execution_count": 22,
   "metadata": {
    "collapsed": false
   },
   "outputs": [],
   "source": [
    "# Initial Parameters\n",
    "\n",
    "L = 20     # length of shocktube\n",
    "\n",
    "nx = 101   # number of grid points \n",
    "dx = L/(nx-2.)    # grid spacing\n",
    "\n",
    "x = np.linspace(-10., 10., nx)\n",
    "\n",
    "gamma = 1.4  # specific heat ratio of air"
   ]
  },
  {
   "cell_type": "code",
   "execution_count": 29,
   "metadata": {
    "collapsed": true
   },
   "outputs": [],
   "source": [
    "sigma = 1.0\n",
    "dt = sigma*dx/350\n",
    "nt = int(dt/0.01)\n",
    "\n",
    "u_n = Richtmyer(u, nt, dt, dx, gamma)"
   ]
  },
  {
   "cell_type": "code",
   "execution_count": 30,
   "metadata": {
    "collapsed": false
   },
   "outputs": [
    {
     "data": {
      "text/plain": [
       "[<matplotlib.lines.Line2D at 0x129b240>]"
      ]
     },
     "execution_count": 30,
     "metadata": {},
     "output_type": "execute_result"
    },
    {
     "data": {
      "image/png": "[encoded data removed]",
      "text/plain": [
       "<matplotlib.figure.Figure at 0x123cda0>"
      ]
     },
     "metadata": {},
     "output_type": "display_data"
    }
   ],
   "source": [
    "plt.plot(x,u_n[1,:]/u[0,:])"
   ]
  },
  {
   "cell_type": "code",
   "execution_count": null,
   "metadata": {
    "collapsed": true
   },
   "outputs": [],
   "source": []
  }
 ],
 "metadata": {
  "kernelspec": {
   "display_name": "Python 3",
   "language": "python",
   "name": "python3"
  },
  "language_info": {
   "codemirror_mode": {
    "name": "ipython",
    "version": 3
   },
   "file_extension": ".py",
   "mimetype": "text/x-python",
   "name": "python",
   "nbconvert_exporter": "python",
   "pygments_lexer": "ipython3",
   "version": "3.4.3"
  }
 },
 "nbformat": 4,
 "nbformat_minor": 0
}
