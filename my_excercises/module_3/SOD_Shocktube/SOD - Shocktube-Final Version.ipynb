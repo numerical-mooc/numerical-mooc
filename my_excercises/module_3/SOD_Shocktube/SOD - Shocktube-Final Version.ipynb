{
 "cells": [
  {
   "cell_type": "code",
   "execution_count": 197,
   "metadata": {
    "collapsed": false
   },
   "outputs": [],
   "source": [
    "%matplotlib inline\n",
    "import numpy as np\n",
    "import matplotlib.pyplot as plt\n",
    "from matplotlib import rcParams\n",
    "rcParams['font.family'] = 'serif'\n",
    "rcParams['font.size'] = 16\n",
    "np.set_printoptions(3)"
   ]
  },
  {
   "cell_type": "code",
   "execution_count": 198,
   "metadata": {
    "collapsed": true
   },
   "outputs": [],
   "source": [
    "def flux_vect(u, gamma):\n",
    "    \"\"\" Compute flux vector\"\"\"\n",
    "    f = np.zeros_like(u)\n",
    "\n",
    "    f[0,:] = u[1,:]\n",
    "    f[1,:] = (u[1,:]**2/u[0,:]) + (gamma-1)*(u[2,:] - 0.5*(u[1,:]**2/u[0,:]))\n",
    "    f[2,:] = (u[2,:] + (gamma-1)*(u[2,:] - 0.5*(u[1,:]**2/u[0,:])))*(u[1,:]/u[0,:])\n",
    "        \n",
    "    return f"
   ]
  },
  {
   "cell_type": "code",
   "execution_count": 199,
   "metadata": {
    "collapsed": false
   },
   "outputs": [],
   "source": [
    "def Richtmyer(u, nt, dt, dx, gamma):\n",
    "    \"\"\"Computes the solution with Richtmyer scheme\"\"\"\n",
    "    \n",
    "    u_star = u.copy()     # predictor\n",
    "    \n",
    "    for i in range(nt):\n",
    "        u_n = u.copy()        # corrector\n",
    "        f = flux_vect(u_n, gamma)\n",
    "        u_star[:,:-1] = 0.5*(u_n[:,1:] + u_n[:,:-1]) - (dt/(2*dx))*(f[:,1:]-f[:,:-1])\n",
    "        f_star = flux_vect(u_star, gamma)\n",
    "        u[:,1:] = u_n[:,1:] - (dt/dx)*(f_star[:,1:]-f_star[:,:-1])\n",
    "        \n",
    "    return u_n"
   ]
  },
  {
   "cell_type": "code",
   "execution_count": 200,
   "metadata": {
    "collapsed": false
   },
   "outputs": [],
   "source": [
    "# Initial Parameters\n",
    "\n",
    "L = 20     # length of shocktube\n",
    "\n",
    "nx = 81   # number of grid points \n",
    "dx = L/(nx-1.)    # grid spacing\n",
    "\n",
    "x = np.linspace(-10., 10., nx)\n",
    "\n",
    "gamma = 1.4  # specific heat ratio of air"
   ]
  },
  {
   "cell_type": "code",
   "execution_count": 201,
   "metadata": {
    "collapsed": false
   },
   "outputs": [],
   "source": [
    "# Initial state in shock tube\n",
    "\n",
    "u = np.zeros((3,nx), dtype=float)\n",
    "\n",
    "# left side parameters\n",
    "lhs = np.where(x<0.)\n",
    "u[0,lhs] = 1\n",
    "u[1,lhs] = 0\n",
    "u[2,lhs] = 10**5/(gamma-1)\n",
    "\n",
    "# right side parameters\n",
    "rhs = np.where(x>=0.)\n",
    "u[0,rhs] = 0.125\n",
    "u[1,rhs] = 0\n",
    "u[2,rhs] = 10**4/(gamma-1)\n",
    "\n",
    "#print(u[0,rhs])\n",
    "#print(x[rhs])"
   ]
  },
  {
   "cell_type": "code",
   "execution_count": 202,
   "metadata": {
    "collapsed": false
   },
   "outputs": [],
   "source": [
    "sigma = 0.28\n",
    "dt = sigma*dx/350\n",
    "nt = int(0.01/dt)\n",
    "u_n = Richtmyer(u, nt, dt, dx, gamma)"
   ]
  },
  {
   "cell_type": "code",
   "execution_count": 203,
   "metadata": {
    "collapsed": false
   },
   "outputs": [
    {
     "name": "stdout",
     "output_type": "stream",
     "text": [
      "50\n"
     ]
    }
   ],
   "source": [
    "print(nt)"
   ]
  },
  {
   "cell_type": "code",
   "execution_count": 204,
   "metadata": {
    "collapsed": false
   },
   "outputs": [
    {
     "name": "stdout",
     "output_type": "stream",
     "text": [
      "0.0002\n"
     ]
    }
   ],
   "source": [
    "print(dt)"
   ]
  },
  {
   "cell_type": "code",
   "execution_count": 205,
   "metadata": {
    "collapsed": false
   },
   "outputs": [
    {
     "data": {
      "text/plain": [
       "[<matplotlib.lines.Line2D at 0x9f13668>]"
      ]
     },
     "execution_count": 205,
     "metadata": {},
     "output_type": "execute_result"
    },
    {
     "data": {
      "image/png": "[encoded data removed]",
      "text/plain": [
       "<matplotlib.figure.Figure at 0x9e6f128>"
      ]
     },
     "metadata": {},
     "output_type": "display_data"
    }
   ],
   "source": [
    "vel = u_n[1,:]/u_n[0,:]\n",
    "plt.plot(x,vel)"
   ]
  },
  {
   "cell_type": "code",
   "execution_count": 206,
   "metadata": {
    "collapsed": false
   },
   "outputs": [
    {
     "data": {
      "text/plain": [
       "[<matplotlib.lines.Line2D at 0x9f78cf8>]"
      ]
     },
     "execution_count": 206,
     "metadata": {},
     "output_type": "execute_result"
    },
    {
     "data": {
      "image/png": "[encoded data removed]",
      "text/plain": [
       "<matplotlib.figure.Figure at 0x9daf0f0>"
      ]
     },
     "metadata": {},
     "output_type": "display_data"
    }
   ],
   "source": [
    "# density\n",
    "plt.plot(x, u_n[0,:])"
   ]
  },
  {
   "cell_type": "code",
   "execution_count": 207,
   "metadata": {
    "collapsed": false
   },
   "outputs": [
    {
     "data": {
      "text/plain": [
       "[<matplotlib.lines.Line2D at 0xa14aba8>]"
      ]
     },
     "execution_count": 207,
     "metadata": {},
     "output_type": "execute_result"
    },
    {
     "data": {
      "image/png": "[encoded data removed]",
      "text/plain": [
       "<matplotlib.figure.Figure at 0x9f8e710>"
      ]
     },
     "metadata": {},
     "output_type": "display_data"
    }
   ],
   "source": [
    "# Pressure\n",
    "\n",
    "pr = (gamma-1)*(u_n[2,:] - 0.5*(u_n[1,:]**2/u_n[0,:]))\n",
    "plt.plot(x, pr)"
   ]
  },
  {
   "cell_type": "code",
   "execution_count": 208,
   "metadata": {
    "collapsed": false
   },
   "outputs": [
    {
     "name": "stdout",
     "output_type": "stream",
     "text": [
      "2.5 50\n"
     ]
    }
   ],
   "source": [
    "def find_nearest(array,value):\n",
    "    idx = (np.abs(array-value)).argmin()\n",
    "    return array[idx],idx\n",
    "\n",
    "value = 2.5\n",
    "\n",
    "val, loc = find_nearest(x, value)\n",
    "print(x[loc],loc)"
   ]
  },
  {
   "cell_type": "code",
   "execution_count": 209,
   "metadata": {
    "collapsed": false
   },
   "outputs": [
    {
     "name": "stdout",
     "output_type": "stream",
     "text": [
      "@ x=2.5\n",
      "velocity = 292.611471527\n",
      "pressure = 30250.8901676\n",
      "density = 0.374691402648\n"
     ]
    }
   ],
   "source": [
    "# at x = 2.5\n",
    "vel2 = u[1,loc]/u[0,loc]\n",
    "p2 = (gamma-1)*(u[2,loc] - 0.5*(u[1,loc]**2/u[0,loc]))\n",
    "d2 = u[0,loc]\n",
    "\n",
    "print(\"@ x=2.5\")\n",
    "print(\"velocity =\", vel2)\n",
    "print(\"pressure =\", p2)\n",
    "print(\"density =\", d2)"
   ]
  },
  {
   "cell_type": "code",
   "execution_count": null,
   "metadata": {
    "collapsed": true
   },
   "outputs": [],
   "source": []
  }
 ],
 "metadata": {
  "kernelspec": {
   "display_name": "Python 3",
   "language": "python",
   "name": "python3"
  },
  "language_info": {
   "codemirror_mode": {
    "name": "ipython",
    "version": 3
   },
   "file_extension": ".py",
   "mimetype": "text/x-python",
   "name": "python",
   "nbconvert_exporter": "python",
   "pygments_lexer": "ipython3",
   "version": "3.4.3"
  }
 },
 "nbformat": 4,
 "nbformat_minor": 0
}
