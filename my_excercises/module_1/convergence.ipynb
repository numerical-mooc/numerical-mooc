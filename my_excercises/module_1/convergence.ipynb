{
 "cells": [
  {
   "cell_type": "code",
   "execution_count": 1,
   "metadata": {
    "collapsed": true
   },
   "outputs": [],
   "source": [
    "import numpy as np\n",
    "import matplotlib.pyplot as plt"
   ]
  },
  {
   "cell_type": "code",
   "execution_count": 2,
   "metadata": {
    "collapsed": false
   },
   "outputs": [
    {
     "name": "stdout",
     "output_type": "stream",
     "text": [
      "[ 0.01  0.02  0.04]\n"
     ]
    }
   ],
   "source": [
    "del_x = np.array([0.01, 0.02, 0.04])\n",
    "print(del_x)"
   ]
  },
  {
   "cell_type": "code",
   "execution_count": 3,
   "metadata": {
    "collapsed": true
   },
   "outputs": [],
   "source": [
    "C_d = np.array([1.475, 1.5, 1.6])"
   ]
  },
  {
   "cell_type": "code",
   "execution_count": 4,
   "metadata": {
    "collapsed": false
   },
   "outputs": [
    {
     "data": {
      "text/plain": [
       "[<matplotlib.lines.Line2D at 0x7b0fa58>]"
      ]
     },
     "execution_count": 4,
     "metadata": {},
     "output_type": "execute_result"
    },
    {
     "data": {
      "image/png": "[encoded data removed]",
      "text/plain": [
       "<matplotlib.figure.Figure at 0x732c2e8>"
      ]
     },
     "metadata": {},
     "output_type": "display_data"
    }
   ],
   "source": [
    "%matplotlib inline\n",
    "plt.plot(del_x, C_d,marker=\"o\")"
   ]
  },
  {
   "cell_type": "code",
   "execution_count": 5,
   "metadata": {
    "collapsed": false
   },
   "outputs": [],
   "source": [
    "def aver(x,n):\n",
    "    aver = (x[n+1]-x[n])/2\n",
    "    return aver"
   ]
  },
  {
   "cell_type": "code",
   "execution_count": 6,
   "metadata": {
    "collapsed": false
   },
   "outputs": [
    {
     "name": "stdout",
     "output_type": "stream",
     "text": [
      "0\n",
      "1\n",
      "[2 5] [ 0.005  0.01 ]\n"
     ]
    }
   ],
   "source": [
    "con_f = np.array([1,1])\n",
    "del_x2 = np.array([aver(del_x,0),aver(del_x,1)])\n",
    "n = 0.0\n",
    "for n in range(2):\n",
    "    print(n)\n",
    "    con_f[n] = (C_d[n+1] - C_d[n])/(del_x[n+1]-del_x[n])\n",
    "\n",
    "#con_f = np.array([con_f])\n",
    "print(con_f,del_x2)"
   ]
  },
  {
   "cell_type": "code",
   "execution_count": 7,
   "metadata": {
    "collapsed": false
   },
   "outputs": [
    {
     "name": "stdout",
     "output_type": "stream",
     "text": [
      "2 2\n"
     ]
    }
   ],
   "source": [
    "print(len(con_f), len(del_x2))"
   ]
  },
  {
   "cell_type": "code",
   "execution_count": 8,
   "metadata": {
    "collapsed": false
   },
   "outputs": [
    {
     "data": {
      "text/plain": [
       "[<matplotlib.lines.Line2D at 0x80cdeb8>]"
      ]
     },
     "execution_count": 8,
     "metadata": {},
     "output_type": "execute_result"
    },
    {
     "data": {
      "image/png": "[encoded data removed]",
      "text/plain": [
       "<matplotlib.figure.Figure at 0x7ac93c8>"
      ]
     },
     "metadata": {},
     "output_type": "display_data"
    }
   ],
   "source": [
    "plt.plot(del_x2, con_f)"
   ]
  },
  {
   "cell_type": "code",
   "execution_count": 9,
   "metadata": {
    "collapsed": false
   },
   "outputs": [],
   "source": [
    "ab = np.array([0, 2])\n",
    "bc = np.array([1, 3])\n",
    "\n",
    "z = np.concatenate([ab,bc])\n",
    "kk = np.array([ab,bc])"
   ]
  },
  {
   "cell_type": "code",
   "execution_count": 10,
   "metadata": {
    "collapsed": false
   },
   "outputs": [
    {
     "name": "stdout",
     "output_type": "stream",
     "text": [
      "[[0 2]\n",
      " [1 3]]\n"
     ]
    }
   ],
   "source": [
    "print(kk)"
   ]
  },
  {
   "cell_type": "code",
   "execution_count": 11,
   "metadata": {
    "collapsed": false
   },
   "outputs": [
    {
     "name": "stdout",
     "output_type": "stream",
     "text": [
      "[2 3]\n"
     ]
    }
   ],
   "source": [
    "print(kk[:,1])"
   ]
  },
  {
   "cell_type": "code",
   "execution_count": 12,
   "metadata": {
    "collapsed": false
   },
   "outputs": [
    {
     "name": "stdout",
     "output_type": "stream",
     "text": [
      "[  0.   1.   2.   3.   4.   5.   6.   7.   8.   9.  10.]\n",
      "range(0, 10)\n"
     ]
    }
   ],
   "source": [
    "tk = range(10)\n",
    "lk = np.linspace(0,10,11)\n",
    "print(lk)\n",
    "print(tk)"
   ]
  },
  {
   "cell_type": "code",
   "execution_count": 13,
   "metadata": {
    "collapsed": false
   },
   "outputs": [
    {
     "name": "stdout",
     "output_type": "stream",
     "text": [
      "[  0.   2.   4.   6.   8.  10.]\n"
     ]
    }
   ],
   "source": [
    "print(lk[::2])"
   ]
  },
  {
   "cell_type": "code",
   "execution_count": 14,
   "metadata": {
    "collapsed": false
   },
   "outputs": [
    {
     "name": "stdout",
     "output_type": "stream",
     "text": [
      "[[  1.   1.   1.   1.   1.   1.   1.   1.   1.   1.]\n",
      " [  0.   2.   4.   6.   8.  10.  12.  14.  16.  18.]\n",
      " [  0.   1.   2.   3.   4.   5.   6.   7.   8.   9.]\n",
      " [  0.   3.   6.   9.  12.  15.  18.  21.  24.  27.]\n",
      " [  0.   4.   8.  12.  16.  20.  24.  28.  32.  36.]]\n"
     ]
    }
   ],
   "source": [
    "ok = np.ones((5,10))\n",
    "ok[2,:] = np.linspace(0,9,10)*1\n",
    "ok[1,:] = np.linspace(0,9,10)*2\n",
    "ok[3,:] = np.linspace(0,9,10)*3\n",
    "ok[4,:] = np.linspace(0,9,10)*4\n",
    "print(ok)"
   ]
  },
  {
   "cell_type": "code",
   "execution_count": 15,
   "metadata": {
    "collapsed": false
   },
   "outputs": [
    {
     "name": "stdout",
     "output_type": "stream",
     "text": [
      "[[  1.   1.   1.   1.   1.   1.   1.   1.   1.   1.]\n",
      " [  0.   1.   2.   3.   4.   5.   6.   7.   8.   9.]\n",
      " [  0.   4.   8.  12.  16.  20.  24.  28.  32.  36.]]\n"
     ]
    }
   ],
   "source": [
    "print(ok[::2])"
   ]
  },
  {
   "cell_type": "code",
   "execution_count": 17,
   "metadata": {
    "collapsed": false
   },
   "outputs": [
    {
     "name": "stdout",
     "output_type": "stream",
     "text": [
      "36.0\n"
     ]
    }
   ],
   "source": [
    "print(np.max(ok))"
   ]
  },
  {
   "cell_type": "code",
   "execution_count": 19,
   "metadata": {
    "collapsed": false
   },
   "outputs": [
    {
     "data": {
      "text/plain": [
       "array([[4, 9]], dtype=int64)"
      ]
     },
     "execution_count": 19,
     "metadata": {},
     "output_type": "execute_result"
    }
   ],
   "source": [
    "np.column_stack(np.where(ok==36))"
   ]
  },
  {
   "cell_type": "code",
   "execution_count": 20,
   "metadata": {
    "collapsed": false
   },
   "outputs": [
    {
     "name": "stdout",
     "output_type": "stream",
     "text": [
      "(array([4], dtype=int64), array([7], dtype=int64))\n"
     ]
    }
   ],
   "source": [
    "print(np.where(ok==28))"
   ]
  },
  {
   "cell_type": "code",
   "execution_count": null,
   "metadata": {
    "collapsed": true
   },
   "outputs": [],
   "source": []
  }
 ],
 "metadata": {
  "kernelspec": {
   "display_name": "Python 3",
   "language": "python",
   "name": "python3"
  },
  "language_info": {
   "codemirror_mode": {
    "name": "ipython",
    "version": 3
   },
   "file_extension": ".py",
   "mimetype": "text/x-python",
   "name": "python",
   "nbconvert_exporter": "python",
   "pygments_lexer": "ipython3",
   "version": "3.4.3"
  }
 },
 "nbformat": 4,
 "nbformat_minor": 0
}
