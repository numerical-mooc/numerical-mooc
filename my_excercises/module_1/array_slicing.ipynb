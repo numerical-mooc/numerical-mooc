{
 "cells": [
  {
   "cell_type": "code",
   "execution_count": 17,
   "metadata": {
    "collapsed": false
   },
   "outputs": [],
   "source": [
    "import numpy as np\n",
    "from math import sin, cos, log, ceil"
   ]
  },
  {
   "cell_type": "code",
   "execution_count": 18,
   "metadata": {
    "collapsed": false
   },
   "outputs": [
    {
     "name": "stdout",
     "output_type": "stream",
     "text": [
      "[  0.   1.   2.   3.   4.   5.   6.   7.   8.   9.  10.]\n"
     ]
    }
   ],
   "source": [
    "ar = np.linspace(0,10,11)\n",
    "print(ar)"
   ]
  },
  {
   "cell_type": "code",
   "execution_count": 19,
   "metadata": {
    "collapsed": false
   },
   "outputs": [
    {
     "name": "stdout",
     "output_type": "stream",
     "text": [
      "[ 3.  5.  7.]\n"
     ]
    }
   ],
   "source": [
    "print(ar[3:8:2])"
   ]
  },
  {
   "cell_type": "code",
   "execution_count": 20,
   "metadata": {
    "collapsed": false
   },
   "outputs": [
    {
     "name": "stdout",
     "output_type": "stream",
     "text": [
      "1\n"
     ]
    }
   ],
   "source": [
    "print(ceil(0.524))"
   ]
  },
  {
   "cell_type": "code",
   "execution_count": 21,
   "metadata": {
    "collapsed": true
   },
   "outputs": [],
   "source": [
    "?ceil"
   ]
  },
  {
   "cell_type": "code",
   "execution_count": 26,
   "metadata": {
    "collapsed": false
   },
   "outputs": [],
   "source": [
    "dt_val = np.array([0.1, 0.05, 0.03, 0.002])\n",
    "u_val = np.empty_like(dt_val, dtype=np.ndarray)"
   ]
  },
  {
   "cell_type": "code",
   "execution_count": 28,
   "metadata": {
    "collapsed": false
   },
   "outputs": [],
   "source": [
    "for i, dt in enumerate(dt_val):\n",
    "    u = np.empty((6,4))\n",
    "    u[0] = np.array([2, 3, 5, 7])\n",
    "    #print(dt)\n",
    "    for n in range(5):\n",
    "        \n",
    "        u[n+1] = u[n] + dt*3\n",
    "        \n",
    "    u_val[i] = u"
   ]
  },
  {
   "cell_type": "code",
   "execution_count": 32,
   "metadata": {
    "collapsed": false
   },
   "outputs": [
    {
     "name": "stdout",
     "output_type": "stream",
     "text": [
      "[ array([[ 2. ,  3. ,  5. ,  7. ],\n",
      "       [ 2.3,  3.3,  5.3,  7.3],\n",
      "       [ 2.6,  3.6,  5.6,  7.6],\n",
      "       [ 2.9,  3.9,  5.9,  7.9],\n",
      "       [ 3.2,  4.2,  6.2,  8.2],\n",
      "       [ 3.5,  4.5,  6.5,  8.5]])\n",
      " array([[ 2.  ,  3.  ,  5.  ,  7.  ],\n",
      "       [ 2.15,  3.15,  5.15,  7.15],\n",
      "       [ 2.3 ,  3.3 ,  5.3 ,  7.3 ],\n",
      "       [ 2.45,  3.45,  5.45,  7.45],\n",
      "       [ 2.6 ,  3.6 ,  5.6 ,  7.6 ],\n",
      "       [ 2.75,  3.75,  5.75,  7.75]])\n",
      " array([[ 2.  ,  3.  ,  5.  ,  7.  ],\n",
      "       [ 2.09,  3.09,  5.09,  7.09],\n",
      "       [ 2.18,  3.18,  5.18,  7.18],\n",
      "       [ 2.27,  3.27,  5.27,  7.27],\n",
      "       [ 2.36,  3.36,  5.36,  7.36],\n",
      "       [ 2.45,  3.45,  5.45,  7.45]])\n",
      " array([[ 2.   ,  3.   ,  5.   ,  7.   ],\n",
      "       [ 2.006,  3.006,  5.006,  7.006],\n",
      "       [ 2.012,  3.012,  5.012,  7.012],\n",
      "       [ 2.018,  3.018,  5.018,  7.018],\n",
      "       [ 2.024,  3.024,  5.024,  7.024],\n",
      "       [ 2.03 ,  3.03 ,  5.03 ,  7.03 ]])]\n"
     ]
    }
   ],
   "source": [
    "print(u_val)"
   ]
  },
  {
   "cell_type": "code",
   "execution_count": null,
   "metadata": {
    "collapsed": true
   },
   "outputs": [],
   "source": []
  }
 ],
 "metadata": {
  "kernelspec": {
   "display_name": "Python 3",
   "language": "python",
   "name": "python3"
  },
  "language_info": {
   "codemirror_mode": {
    "name": "ipython",
    "version": 3
   },
   "file_extension": ".py",
   "mimetype": "text/x-python",
   "name": "python",
   "nbconvert_exporter": "python",
   "pygments_lexer": "ipython3",
   "version": "3.4.3"
  }
 },
 "nbformat": 4,
 "nbformat_minor": 0
}
