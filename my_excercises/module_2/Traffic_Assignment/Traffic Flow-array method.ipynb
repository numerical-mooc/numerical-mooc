{
 "cells": [
  {
   "cell_type": "code",
   "execution_count": 151,
   "metadata": {
    "collapsed": true
   },
   "outputs": [],
   "source": [
    "import numpy as np\n",
    "import matplotlib.pyplot as plt\n",
    "%matplotlib inline\n",
    "from matplotlib import rcParams\n",
    "rcParams['font.family'] = 'serif'\n",
    "rcParams['font.size'] = 16"
   ]
  },
  {
   "cell_type": "code",
   "execution_count": 152,
   "metadata": {
    "collapsed": false
   },
   "outputs": [
    {
     "name": "stdout",
     "output_type": "stream",
     "text": [
      "0.22\n"
     ]
    }
   ],
   "source": [
    "# Parameters\n",
    "\n",
    "V_m = 80\n",
    "L = 11\n",
    "rho_m = 250\n",
    "nx = 51\n",
    "dt = 0.001\n",
    "\n",
    "\n",
    "x = np.linspace(0, L, nx)\n",
    "dx = L/(nx-1)\n",
    "print(dx)\n",
    "\n",
    "# Initial Conditions\n",
    "\n",
    "rho0 = np.ones(nx)*10\n",
    "rho0[10:20] = 50\n",
    "\n",
    "# Boundary Conditions\n",
    "\n",
    "r0 = 10"
   ]
  },
  {
   "cell_type": "code",
   "execution_count": 153,
   "metadata": {
    "collapsed": true
   },
   "outputs": [],
   "source": [
    "def F(rho, rho_max, Vmax):\n",
    "    \n",
    "    F = Vmax*rho*(1-(rho/rho_max))\n",
    "    \n",
    "    return F"
   ]
  },
  {
   "cell_type": "code",
   "execution_count": 154,
   "metadata": {
    "collapsed": false
   },
   "outputs": [],
   "source": [
    "def Traffic_flux(nx,nt,rho,dt,dx,rho_max,V_max,x,r0):\n",
    "    \n",
    "    # Storing the variables\n",
    "    v = np.zeros(nx)\n",
    "    rho_n = np.ones(nx)\n",
    "    \n",
    "    for i in range(nt):\n",
    "        rho_n = rho.copy()\n",
    "        rho[1:] = rho_n[1:] + dt/dx*(F(rho_n[1:],rho_max,V_max) -\\\n",
    "                                     F(rho_n[0:-1],rho_max,V_max))\n",
    "        rho[0] = r0\n",
    "        v[0:] = F(rho[0:],rho_max,V_max)/rho[0:]\n",
    "        \n",
    "    plt.figure\n",
    "    plt.plot(x,v)\n",
    "    plt.xlabel(\"x\")\n",
    "    plt.ylabel(\"V\")\n",
    "    plt.show()\n",
    "        \n",
    "    return rho, rho_n, v"
   ]
  },
  {
   "cell_type": "code",
   "execution_count": 155,
   "metadata": {
    "collapsed": false
   },
   "outputs": [
    {
     "data": {
      "image/png": "[encoded data removed]",
      "text/plain": [
       "<matplotlib.figure.Figure at 0x2606e10>"
      ]
     },
     "metadata": {},
     "output_type": "display_data"
    }
   ],
   "source": [
    "rho, r, v = Traffic_flux(nx,1,rho0,dt,dx,rho_m,V_m,x,r0)"
   ]
  },
  {
   "cell_type": "code",
   "execution_count": 156,
   "metadata": {
    "collapsed": false
   },
   "outputs": [
    {
     "name": "stdout",
     "output_type": "stream",
     "text": [
      "16.7951515152\n"
     ]
    }
   ],
   "source": [
    "print(min(v)*1000/3600)"
   ]
  },
  {
   "cell_type": "code",
   "execution_count": 157,
   "metadata": {
    "collapsed": false
   },
   "outputs": [
    {
     "name": "stdout",
     "output_type": "stream",
     "text": [
      "20.6361655773\n"
     ]
    }
   ],
   "source": [
    "print(np.sum(v)/nx*1000/3600)"
   ]
  },
  {
   "cell_type": "code",
   "execution_count": 158,
   "metadata": {
    "collapsed": false
   },
   "outputs": [],
   "source": [
    "#plt.plot(x,v)"
   ]
  },
  {
   "cell_type": "code",
   "execution_count": null,
   "metadata": {
    "collapsed": true
   },
   "outputs": [],
   "source": []
  }
 ],
 "metadata": {
  "kernelspec": {
   "display_name": "Python 3",
   "language": "python",
   "name": "python3"
  },
  "language_info": {
   "codemirror_mode": {
    "name": "ipython",
    "version": 3
   },
   "file_extension": ".py",
   "mimetype": "text/x-python",
   "name": "python",
   "nbconvert_exporter": "python",
   "pygments_lexer": "ipython3",
   "version": "3.4.3"
  }
 },
 "nbformat": 4,
 "nbformat_minor": 0
}
