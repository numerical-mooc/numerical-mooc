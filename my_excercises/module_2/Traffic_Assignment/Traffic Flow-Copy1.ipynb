{
 "cells": [
  {
   "cell_type": "code",
   "execution_count": 26,
   "metadata": {
    "collapsed": true
   },
   "outputs": [],
   "source": [
    "import numpy as np\n",
    "import matplotlib.pyplot as plt\n",
    "%matplotlib inline\n",
    "from matplotlib import rcParams\n",
    "rcParams['font.family'] = 'serif'\n",
    "rcParams['font.size'] = 16"
   ]
  },
  {
   "cell_type": "code",
   "execution_count": 27,
   "metadata": {
    "collapsed": false
   },
   "outputs": [
    {
     "name": "stdout",
     "output_type": "stream",
     "text": [
      "0.22\n"
     ]
    }
   ],
   "source": [
    "# Parameters\n",
    "\n",
    "V_m = 80\n",
    "L = 11\n",
    "rho_m = 250\n",
    "nx = 51\n",
    "dt = 0.001\n",
    "\n",
    "#t_f = 3\n",
    "\n",
    "#nt = int((t_f/60)/dt)\n",
    "\n",
    "#print(nt)\n",
    "\n",
    "x = np.linspace(0, L, nx)\n",
    "dx = x[1]-x[0]\n",
    "print(dx)\n",
    "\n",
    "# Initial Conditions\n",
    "\n",
    "rho0 = np.ones(nx)*10\n",
    "rho0[10:20] = 50\n",
    "\n",
    "# Boundary Conditions\n",
    "\n",
    "r0 = 10\n",
    "\n",
    "#print(rho0)"
   ]
  },
  {
   "cell_type": "code",
   "execution_count": 28,
   "metadata": {
    "collapsed": true
   },
   "outputs": [],
   "source": [
    "def F(rho, rho_max, Vmax):\n",
    "    \n",
    "    F = Vmax*rho*(1-(rho/rho_max))\n",
    "    \n",
    "    return F"
   ]
  },
  {
   "cell_type": "code",
   "execution_count": 29,
   "metadata": {
    "collapsed": false
   },
   "outputs": [],
   "source": [
    "def traffic_flux(x,nx,dx,dt,r,rho_max,r0,V_max,nt):\n",
    "    \n",
    "    #nt = int((t_f/60)/dt) + 1\n",
    "    v = np.zeros(nx)\n",
    "    vn = np.zeros(nx)\n",
    "    rn = np.ones(nx)\n",
    "   \n",
    "    for i in range(nt):\n",
    "        rn = r.copy()\n",
    "        for j in range(1,nx):\n",
    "            r[j] = rn[j] - dt/dx*(F(rn[j],rho_max,V_max) - F(rn[j-1],rho_max,V_max))\n",
    "            r[0]=r0\n",
    "        for j in range(nx):\n",
    "            v[j]=F(r[j],rho_max,V_max)/r[j]\n",
    "        for j in range(nx):\n",
    "            vn[j]=F(rn[j],rho_max,V_max)/rn[j]\n",
    "        \n",
    "    plt.figure\n",
    "    plt.plot(x,v)\n",
    "    plt.show()\n",
    "    \n",
    "    return r,v,rn,vn"
   ]
  },
  {
   "cell_type": "code",
   "execution_count": 30,
   "metadata": {
    "collapsed": false
   },
   "outputs": [
    {
     "data": {
      "image/png": "[encoded data removed]",
      "text/plain": [
       "<matplotlib.figure.Figure at 0x25194e0>"
      ]
     },
     "metadata": {},
     "output_type": "display_data"
    }
   ],
   "source": [
    "rho, v, rn, vn = traffic_flux(x,nx,dx,dt,rho0,rho_m,r0,V_m,50)"
   ]
  },
  {
   "cell_type": "code",
   "execution_count": 31,
   "metadata": {
    "collapsed": false
   },
   "outputs": [
    {
     "name": "stdout",
     "output_type": "stream",
     "text": [
      "18.1739519268\n"
     ]
    }
   ],
   "source": [
    "print(min(v)*1000/3600)"
   ]
  },
  {
   "cell_type": "code",
   "execution_count": 32,
   "metadata": {
    "collapsed": false
   },
   "outputs": [
    {
     "name": "stdout",
     "output_type": "stream",
     "text": [
      "20.6361661961\n"
     ]
    }
   ],
   "source": [
    "print(sum(v)/nx * 5/18)"
   ]
  },
  {
   "cell_type": "code",
   "execution_count": 33,
   "metadata": {
    "collapsed": false
   },
   "outputs": [],
   "source": [
    "#plt.plot(x,v)"
   ]
  },
  {
   "cell_type": "code",
   "execution_count": null,
   "metadata": {
    "collapsed": true
   },
   "outputs": [],
   "source": []
  }
 ],
 "metadata": {
  "kernelspec": {
   "display_name": "Python 3",
   "language": "python",
   "name": "python3"
  },
  "language_info": {
   "codemirror_mode": {
    "name": "ipython",
    "version": 3
   },
   "file_extension": ".py",
   "mimetype": "text/x-python",
   "name": "python",
   "nbconvert_exporter": "python",
   "pygments_lexer": "ipython3",
   "version": "3.4.3"
  }
 },
 "nbformat": 4,
 "nbformat_minor": 0
}
