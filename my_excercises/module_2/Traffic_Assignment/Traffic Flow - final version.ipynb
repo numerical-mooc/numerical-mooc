{
 "cells": [
  {
   "cell_type": "code",
   "execution_count": 310,
   "metadata": {
    "collapsed": true
   },
   "outputs": [],
   "source": [
    "import numpy as np\n",
    "import matplotlib.pyplot as plt\n",
    "%matplotlib inline\n",
    "from matplotlib import rcParams\n",
    "rcParams['font.family'] = 'serif'\n",
    "rcParams['font.size'] = 16"
   ]
  },
  {
   "cell_type": "code",
   "execution_count": 311,
   "metadata": {
    "collapsed": false
   },
   "outputs": [
    {
     "name": "stdout",
     "output_type": "stream",
     "text": [
      "0.22\n"
     ]
    }
   ],
   "source": [
    "# Parameters\n",
    "\n",
    "V_m = 136\n",
    "L = 11\n",
    "rho_m = 250\n",
    "nx = 51\n",
    "dt = 0.001\n",
    "\n",
    "x = np.linspace(0, L, nx)\n",
    "dx = L/(nx-1)\n",
    "print(dx)\n",
    "\n",
    "# Initial Conditions\n",
    "\n",
    "rho0 = np.ones(nx)*20\n",
    "rho0[10:20] = 50\n",
    "\n",
    "# Boundary Conditions\n",
    "\n",
    "r0 = 20\n",
    "\n",
    "#print(rho0)"
   ]
  },
  {
   "cell_type": "code",
   "execution_count": 312,
   "metadata": {
    "collapsed": true
   },
   "outputs": [],
   "source": [
    "def F(rho, rho_max, Vmax):\n",
    "    \n",
    "    F = Vmax*rho*(1-(rho/rho_max))\n",
    "    \n",
    "    return F"
   ]
  },
  {
   "cell_type": "code",
   "execution_count": 313,
   "metadata": {
    "collapsed": false
   },
   "outputs": [],
   "source": [
    "def traffic_flux(x,nx,dx,dt,rho,rho_max,r0,V_max,t_f):\n",
    "    \n",
    "    \n",
    "    nt = int((t_f/60)/dt) + 1\n",
    "    v = np.zeros(nx)\n",
    "    r = np.ones(nx)\n",
    "   \n",
    "    for i in range(nt):\n",
    "        r = rho.copy()\n",
    "        for j in range(1,nx):\n",
    "            rho[j] = r[j] - dt/dx*(F(r[j],rho_max,V_max)-F(r[j-1],rho_max,V_max))\n",
    "            rho[0] = r0\n",
    "        \n",
    "        for j in range(nx):\n",
    "            v[j] = F(rho[j],rho_max,V_max)/rho[j]\n",
    "            \n",
    "            \n",
    "    plt.figure\n",
    "    plt.plot(x,v)\n",
    "    plt.xlabel(\"x\")\n",
    "    plt.ylabel(\"v\")\n",
    "    plt.show()\n",
    "        \n",
    "    return rho, r, v"
   ]
  },
  {
   "cell_type": "code",
   "execution_count": 314,
   "metadata": {
    "collapsed": false
   },
   "outputs": [
    {
     "data": {
      "image/png": "[encoded data removed]",
      "text/plain": [
       "<matplotlib.figure.Figure at 0x3e40160>"
      ]
     },
     "metadata": {},
     "output_type": "display_data"
    }
   ],
   "source": [
    "rho, r, v = traffic_flux(x,nx,dx,dt,rho0,rho_m,r0,V_m,3)"
   ]
  },
  {
   "cell_type": "code",
   "execution_count": 315,
   "metadata": {
    "collapsed": false
   },
   "outputs": [
    {
     "name": "stdout",
     "output_type": "stream",
     "text": [
      "30.988747028\n"
     ]
    }
   ],
   "source": [
    "print(min(v)*1000/3600)"
   ]
  },
  {
   "cell_type": "code",
   "execution_count": 316,
   "metadata": {
    "collapsed": false
   },
   "outputs": [
    {
     "name": "stdout",
     "output_type": "stream",
     "text": [
      "33.8744962651\n"
     ]
    }
   ],
   "source": [
    "print(np.sum(v)/nx * 1000/3600)"
   ]
  },
  {
   "cell_type": "code",
   "execution_count": 317,
   "metadata": {
    "collapsed": false
   },
   "outputs": [],
   "source": [
    "#plt.plot(x,v)"
   ]
  },
  {
   "cell_type": "code",
   "execution_count": null,
   "metadata": {
    "collapsed": true
   },
   "outputs": [],
   "source": []
  }
 ],
 "metadata": {
  "kernelspec": {
   "display_name": "Python 3",
   "language": "python",
   "name": "python3"
  },
  "language_info": {
   "codemirror_mode": {
    "name": "ipython",
    "version": 3
   },
   "file_extension": ".py",
   "mimetype": "text/x-python",
   "name": "python",
   "nbconvert_exporter": "python",
   "pygments_lexer": "ipython3",
   "version": "3.4.3"
  }
 },
 "nbformat": 4,
 "nbformat_minor": 0
}
