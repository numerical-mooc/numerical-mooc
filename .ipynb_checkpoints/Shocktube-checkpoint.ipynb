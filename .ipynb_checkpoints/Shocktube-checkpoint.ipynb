{
 "metadata": {
  "name": "",
  "signature": "sha256:0606fac057d10fb0a3ce3745899a399d9ca08fe39a57201786bbb53df3d2ecd3"
 },
 "nbformat": 3,
 "nbformat_minor": 0,
 "worksheets": []
}