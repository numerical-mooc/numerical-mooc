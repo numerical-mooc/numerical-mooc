{
 "cells": [
  {
   "cell_type": "code",
   "execution_count": 1,
   "metadata": {
    "collapsed": true
   },
   "outputs": [],
   "source": [
    "import numpy"
   ]
  },
  {
   "cell_type": "code",
   "execution_count": 2,
   "metadata": {
    "collapsed": true
   },
   "outputs": [],
   "source": [
    "\n",
    "#les paramètres constants\n",
    "\n",
    "m_s= 50   #poids de la fusée sans carburant en Kg\n",
    "g=9.81\n",
    "m_v=1.091  # masse volumique de l'air en Kg/m(3)\n",
    "A= 0.785   # aire de section transversale maximale de la fusée\n",
    "v_e=325    # vitesse d'échappement m/s\n",
    "C_d=0.15   # coefficient de trainée\n",
    "m_p_0=100  # poids initial en carburant de la fusée\n",
    "dt=0.1\n",
    "d=0.5\n",
    "\n",
    "#conditions initiales\n",
    "h_0=0\n",
    "v_0=0"
   ]
  },
  {
   "cell_type": "markdown",
   "metadata": {},
   "source": [
    "reponse1:"
   ]
  },
  {
   "cell_type": "code",
   "execution_count": 4,
   "metadata": {
    "collapsed": true
   },
   "outputs": [],
   "source": [
    "\n",
    "# définir une fonction pour calculer la masse du carburant restant\n",
    "\n",
    "def m_c(t): \n",
    "    if t<5:\n",
    "        v_p=20\n",
    "        m_p= m_p_0-(v_p*t)\n",
    "        print(m_p)\n",
    "    else:\n",
    "        m_p=0\n",
    "        print(m_p)"
   ]
  },
  {
   "cell_type": "code",
   "execution_count": 5,
   "metadata": {
    "collapsed": false
   },
   "outputs": [
    {
     "name": "stdout",
     "output_type": "stream",
     "text": [
      "36.0\n"
     ]
    }
   ],
   "source": [
    "m_c(3.2)"
   ]
  },
  {
   "cell_type": "markdown",
   "metadata": {},
   "source": [
    "reponse2:\n"
   ]
  },
  {
   "cell_type": "code",
   "execution_count": 7,
   "metadata": {
    "collapsed": false
   },
   "outputs": [],
   "source": [
    "def v_c(t):  # vitesse combustion\n",
    "    if t<5:\n",
    "        v_p=20\n",
    "        print(v_p)\n",
    "    else:\n",
    "        v_p=0\n",
    "        print(v_p)"
   ]
  },
  {
   "cell_type": "code",
   "execution_count": 8,
   "metadata": {
    "collapsed": true
   },
   "outputs": [],
   "source": [
    "T = 5.0\n",
    "dt = 0.1\n",
    "N = int(T/dt)+1\n",
    "t = numpy.linspace(0.0, T, N)"
   ]
  },
  {
   "cell_type": "code",
   "execution_count": 9,
   "metadata": {
    "collapsed": true
   },
   "outputs": [],
   "source": [
    "# initial conditions\n",
    "h0 = 0  #altitude\n",
    "v0  = 0  #upward velocity resulting from gust\n",
    "\n",
    "\n",
    "u = numpy.array([h0, v0])\n",
    "h=u[0]\n",
    "v=u[1]\n",
    "# initialize an array to hold the changing elevation values\n",
    "h = numpy.zeros(N)\n",
    "h[0] = h0"
   ]
  },
  {
   "cell_type": "code",
   "execution_count": 10,
   "metadata": {
    "collapsed": false
   },
   "outputs": [
    {
     "name": "stdout",
     "output_type": "stream",
     "text": [
      "[  0.     12.019]\n",
      "[  1.2019      24.02355436]\n",
      "[  3.60425544  35.98484125]\n",
      "[  7.20273956  47.87435037]\n",
      "[ 11.9901746   59.66415503]\n",
      "[ 17.9565901   71.32717389]\n",
      "[ 25.08930749  82.83741731]\n",
      "[ 33.37304922  94.17021354]\n",
      "[  42.79007057  105.30241063]\n",
      "[  53.32031164  116.21255086]\n",
      "[  64.94156672  126.88101516]\n",
      "[  77.62966824  137.29013596]\n",
      "[  91.35868184  147.42427782]\n",
      "[ 106.10110962  157.26988605]\n",
      "[ 121.82809822  166.81550434]\n",
      "[ 138.50964866  176.0517631 ]\n",
      "[ 156.11482497  184.97134077]\n",
      "[ 174.61195904  193.56890108]\n",
      "[ 193.96884915  201.84100913]\n",
      "[ 214.15295006  209.78602983]\n",
      "[ 235.13155305  217.404012  ]\n",
      "[ 256.87195425  224.69656156]\n",
      "[ 279.3416104   231.66670708]\n",
      "[ 302.50828111  238.31876076]\n",
      "[ 326.34015719  244.65817759]\n",
      "[ 350.80597495  250.6914152 ]\n",
      "[ 375.87511647  256.42579664]\n",
      "[ 401.51769613  261.86937772]\n",
      "[ 427.7046339   267.03082062]\n",
      "[ 454.40771597  271.91927471]\n",
      "[ 481.59964344  276.54426551]\n",
      "[ 509.25406999  280.91559243]\n",
      "[ 537.34562923  285.04323542]\n",
      "[ 565.84995277  288.93727082]\n",
      "[ 594.74367985  292.60779617]\n",
      "[ 624.00445947  296.06486393]\n",
      "[ 653.61094586  299.31842357]\n",
      "[ 683.54278822  302.3782717 ]\n",
      "[ 713.78061539  305.25400978]\n",
      "[ 744.30601637  307.95500873]\n",
      "[ 775.10151724  310.49037999]\n",
      "[ 806.15055524  312.86895238]\n",
      "[ 837.43745048  315.09925425]\n",
      "[ 868.9473759   317.18950024]\n",
      "[ 900.66632593  319.14758234]\n",
      "[ 932.58108416  320.98106441]\n",
      "[ 964.6791906   322.69718004]\n",
      "[ 996.94890861  324.30283304]\n",
      "[ 1029.37919191   325.80460028]\n",
      "[ 1061.95965194   327.20873653]\n"
     ]
    }
   ],
   "source": [
    "# time-loop using Euler's method\n",
    "for n in range(1,N):\n",
    "    u = u + dt*numpy.array([u[1],120.19-0.001*u[1]**2])\n",
    "    print(u)"
   ]
  },
  {
   "cell_type": "code",
   "execution_count": null,
   "metadata": {
    "collapsed": true
   },
   "outputs": [],
   "source": []
  }
 ],
 "metadata": {
  "kernelspec": {
   "display_name": "Python 3",
   "language": "python",
   "name": "python3"
  },
  "language_info": {
   "codemirror_mode": {
    "name": "ipython",
    "version": 3
   },
   "file_extension": ".py",
   "mimetype": "text/x-python",
   "name": "python",
   "nbconvert_exporter": "python",
   "pygments_lexer": "ipython3",
   "version": "3.4.3"
  }
 },
 "nbformat": 4,
 "nbformat_minor": 0
}
