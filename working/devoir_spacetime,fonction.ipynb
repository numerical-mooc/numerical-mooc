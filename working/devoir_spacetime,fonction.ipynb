{
 "cells": [
  {
   "cell_type": "markdown",
   "metadata": {},
   "source": [
    "### Module 2: spacetime"
   ]
  },
  {
   "cell_type": "markdown",
   "metadata": {},
   "source": [
    "### Importation des librairies."
   ]
  },
  {
   "cell_type": "code",
   "execution_count": 1246,
   "metadata": {
    "collapsed": true
   },
   "outputs": [],
   "source": [
    "import numpy\n",
    "import sympy\n",
    "from matplotlib import pyplot\n",
    "%matplotlib inline\n",
    "from matplotlib import rcParams\n",
    "rcParams['font.family'] = 'serif'\n",
    "rcParams['font.size'] = 16"
   ]
  },
  {
   "cell_type": "code",
   "execution_count": 1247,
   "metadata": {
    "collapsed": true
   },
   "outputs": [],
   "source": [
    "from sympy import init_printing\n",
    "init_printing()"
   ]
  },
  {
   "cell_type": "code",
   "execution_count": 1248,
   "metadata": {
    "collapsed": true
   },
   "outputs": [],
   "source": [
    "from sympy.utilities.lambdify import lambdify\n"
   ]
  },
  {
   "cell_type": "markdown",
   "metadata": {},
   "source": [
    "### Partie A:"
   ]
  },
  {
   "cell_type": "markdown",
   "metadata": {},
   "source": [
    "### Déclaration: des constantes, des conditions initiales, des conditions aux bords."
   ]
  },
  {
   "cell_type": "code",
   "execution_count": 1249,
   "metadata": {
    "collapsed": true
   },
   "outputs": [],
   "source": [
    "##constantes:\n",
    "nx = 51   \n",
    "dx = 11/(nx-1)    \n",
    "dt = .001           # en heure\n",
    "L =11               # en km\n",
    "vmax=80             # en km/h\n",
    "rhomax=250          # voitures par km \n",
    "\n",
    "##conditions initiales:\n",
    "x = numpy.linspace(0,L,nx)\n",
    "rho0 = numpy.ones(nx)*10\n",
    "rho0[10:20] = 50\n",
    "\n",
    "##conditions aux bords:\n",
    "rho0[0]=10\n",
    "\n"
   ]
  },
  {
   "cell_type": "markdown",
   "metadata": {},
   "source": [
    "### Vérification des données initiales."
   ]
  },
  {
   "cell_type": "code",
   "execution_count": 1250,
   "metadata": {
    "collapsed": false
   },
   "outputs": [
    {
     "name": "stdout",
     "output_type": "stream",
     "text": [
      "[  0.     0.22   0.44   0.66   0.88   1.1    1.32   1.54   1.76   1.98\n",
      "   2.2    2.42   2.64   2.86   3.08   3.3    3.52   3.74   3.96   4.18\n",
      "   4.4    4.62   4.84   5.06   5.28   5.5    5.72   5.94   6.16   6.38\n",
      "   6.6    6.82   7.04   7.26   7.48   7.7    7.92   8.14   8.36   8.58\n",
      "   8.8    9.02   9.24   9.46   9.68   9.9   10.12  10.34  10.56  10.78  11.  ]\n",
      "[ 10.  10.  10.  10.  10.  10.  10.  10.  10.  10.  50.  50.  50.  50.  50.\n",
      "  50.  50.  50.  50.  50.  10.  10.  10.  10.  10.  10.  10.  10.  10.  10.\n",
      "  10.  10.  10.  10.  10.  10.  10.  10.  10.  10.  10.  10.  10.  10.  10.\n",
      "  10.  10.  10.  10.  10.  10.]\n"
     ]
    }
   ],
   "source": [
    "print(x)\n",
    "print(rho0)"
   ]
  },
  {
   "cell_type": "code",
   "execution_count": 1251,
   "metadata": {
    "collapsed": false
   },
   "outputs": [
    {
     "data": {
      "image/png": "[encoded data removed]",
      "text/plain": [
       "<matplotlib.figure.Figure at 0x60f2be0>"
      ]
     },
     "metadata": {},
     "output_type": "display_data"
    }
   ],
   "source": [
    "pyplot.plot(x, rho0, color='#003366', ls='--', lw=3)\n",
    "pyplot.ylim(0,60);"
   ]
  },
  {
   "cell_type": "markdown",
   "metadata": {},
   "source": [
    "### Définition des variables symboliques."
   ]
  },
  {
   "cell_type": "code",
   "execution_count": 1252,
   "metadata": {
    "collapsed": true
   },
   "outputs": [],
   "source": [
    "nt,t= sympy.symbols('nt t')\n",
    "r,s,V= sympy.symbols('r s V')\n",
    "rho= sympy.symbols('rho')"
   ]
  },
  {
   "cell_type": "markdown",
   "metadata": {},
   "source": [
    "### Calcul de \"nt\" par rapport au \"t\" donné."
   ]
  },
  {
   "cell_type": "code",
   "execution_count": 1253,
   "metadata": {
    "collapsed": true
   },
   "outputs": [],
   "source": [
    "nt=(t/(dt*60))+1  # le coefficient 60 est pour convertir les heures en minutes\n"
   ]
  },
  {
   "cell_type": "code",
   "execution_count": 1254,
   "metadata": {
    "collapsed": false
   },
   "outputs": [
    {
     "name": "stdout",
     "output_type": "stream",
     "text": [
      "16.6666666666667*t + 1\n"
     ]
    }
   ],
   "source": [
    "nt_lamb = lambdify((t), nt)        # valeur exacte de \"nt\"\n",
    "print(format(nt_lamb(t)))"
   ]
  },
  {
   "cell_type": "markdown",
   "metadata": {},
   "source": [
    "### Définition d'une fonction pour calculer: vitesse moyenne et vitesse minimum."
   ]
  },
  {
   "cell_type": "code",
   "execution_count": null,
   "metadata": {
    "collapsed": true
   },
   "outputs": [],
   "source": []
  },
  {
   "cell_type": "code",
   "execution_count": 1255,
   "metadata": {
    "collapsed": false
   },
   "outputs": [],
   "source": [
    "def v(t):\n",
    "    for n in range(0,int(nt_lamb(t))):\n",
    "        un = rho0.copy() \n",
    "        rho0[1:] = un[1:]+2*vmax*dt/rhomax*dx*un[1:]*(un[1:]-un[0:-1])-vmax*dt/dx*(un[1:]-un[0:-1])\n",
    "        if n==int(nt_lamb(t))-1:\n",
    "            print(\"Densités :\",rho0[0:])\n",
    "            v=vmax*(1-rho/rhomax)*1000/3600\n",
    "            v_lamb = lambdify((rho), v)\n",
    "            print(\"Vitesses :\",format(v_lamb(rho0[0:])))\n",
    "            v_min=min(v_lamb(rho0[0:]))\n",
    "            print(\"Vitesse minimum :\",v_min)\n",
    "            s=sum(v_lamb(rho0[0:]))\n",
    "            v_moy=s/int(nt_lamb(t))   \n",
    "            print(\"Vitesse moyenne :\",v_moy)\n",
    "            \n",
    "                \n",
    "            "
   ]
  },
  {
   "cell_type": "code",
   "execution_count": 1256,
   "metadata": {
    "collapsed": false
   },
   "outputs": [
    {
     "name": "stdout",
     "output_type": "stream",
     "text": [
      "Densités : [ 10.          10.          10.          10.          10.          10.          10.\n",
      "  10.          10.          10.          10.          10.          10.          10.\n",
      "  10.          10.          10.          10.          10.          10.00000001\n",
      "  10.00000006  10.00000031  10.00000134  10.00000537  10.00001978\n",
      "  10.00006728  10.00021247  10.0006253   10.00172105  10.00444391\n",
      "  10.01079522  10.02473495  10.05358345  10.10998602  10.21434355\n",
      "  10.39734551  10.70190093  11.18344493  11.90745484  12.94321224\n",
      "  14.35351166  16.18112023  18.43410931  21.07328412  24.00531997\n",
      "  27.0844999   30.12414308  32.91641124  35.2570116   36.97015998\n",
      "  37.92936321]\n",
      "Vitesses : [ 21.33333333  21.33333333  21.33333333  21.33333333  21.33333333\n",
      "  21.33333333  21.33333333  21.33333333  21.33333333  21.33333333\n",
      "  21.33333333  21.33333333  21.33333333  21.33333333  21.33333333\n",
      "  21.33333333  21.33333333  21.33333333  21.33333333  21.33333333\n",
      "  21.33333333  21.33333331  21.33333321  21.33333286  21.33333158\n",
      "  21.33332735  21.33331445  21.33327775  21.33318035  21.33293832\n",
      "  21.33237376  21.33113467  21.32857036  21.3235568   21.31428057\n",
      "  21.29801373  21.27094214  21.22813823  21.16378179  21.07171447\n",
      "  20.94635452  20.78390042  20.58363473  20.34904141  20.088416\n",
      "  19.81471112  19.54452062  19.296319    19.08826564  18.93598578\n",
      "  18.85072327]\n",
      "Vitesse minimum : 18.8507232701\n",
      "Vitesse moyenne : 10.6034034475\n"
     ]
    }
   ],
   "source": [
    "v(6)"
   ]
  },
  {
   "cell_type": "code",
   "execution_count": 1257,
   "metadata": {
    "collapsed": false
   },
   "outputs": [
    {
     "name": "stdout",
     "output_type": "stream",
     "text": [
      "Densités : [ 10.          10.          10.          10.          10.          10.          10.\n",
      "  10.          10.          10.          10.          10.          10.          10.\n",
      "  10.          10.          10.          10.          10.          10.          10.\n",
      "  10.          10.          10.          10.          10.          10.          10.\n",
      "  10.          10.          10.00000001  10.00000002  10.00000008\n",
      "  10.00000028  10.00000086  10.00000258  10.00000733  10.00001994\n",
      "  10.00005194  10.00012975  10.00031116  10.00071716  10.00159027\n",
      "  10.00339614  10.00699151  10.01388739  10.02663841  10.04938452\n",
      "  10.08855435  10.15370637  10.25843337]\n",
      "Vitesses : [ 21.33333333  21.33333333  21.33333333  21.33333333  21.33333333\n",
      "  21.33333333  21.33333333  21.33333333  21.33333333  21.33333333\n",
      "  21.33333333  21.33333333  21.33333333  21.33333333  21.33333333\n",
      "  21.33333333  21.33333333  21.33333333  21.33333333  21.33333333\n",
      "  21.33333333  21.33333333  21.33333333  21.33333333  21.33333333\n",
      "  21.33333333  21.33333333  21.33333333  21.33333333  21.33333333\n",
      "  21.33333333  21.33333333  21.33333333  21.33333331  21.33333326\n",
      "  21.3333331   21.33333268  21.33333156  21.33332872  21.3333218\n",
      "  21.33330567  21.33326959  21.33319198  21.33303145  21.33271187\n",
      "  21.3320989   21.33096547  21.3289436   21.32546184  21.31967054\n",
      "  21.31036148]\n",
      "Vitesse minimum : 21.3103614785\n",
      "Vitesse moyenne : 21.3322809177\n"
     ]
    }
   ],
   "source": [
    "v(3)"
   ]
  },
  {
   "cell_type": "markdown",
   "metadata": {},
   "source": [
    "### Partie B:"
   ]
  },
  {
   "cell_type": "markdown",
   "metadata": {},
   "source": [
    "### Déclaration: des constantes, des conditions initiales et des conditions aux bords. (qui ne sont pas les memes que la partie A)"
   ]
  },
  {
   "cell_type": "code",
   "execution_count": 1258,
   "metadata": {
    "collapsed": true
   },
   "outputs": [],
   "source": [
    "##prarametres constantes\n",
    "\n",
    "vmax1=136\n",
    "\n",
    "##condition initial\n",
    "\n",
    "rho1 = numpy.ones(nx)*20\n",
    "rho1[10:20] = 50\n",
    "\n",
    "##condition au bord\n",
    "rho1[0]=20\n",
    "\n"
   ]
  },
  {
   "cell_type": "markdown",
   "metadata": {},
   "source": [
    "### Vérification des données initiales."
   ]
  },
  {
   "cell_type": "code",
   "execution_count": 1259,
   "metadata": {
    "collapsed": false
   },
   "outputs": [
    {
     "name": "stdout",
     "output_type": "stream",
     "text": [
      "[  0.     0.22   0.44   0.66   0.88   1.1    1.32   1.54   1.76   1.98\n",
      "   2.2    2.42   2.64   2.86   3.08   3.3    3.52   3.74   3.96   4.18\n",
      "   4.4    4.62   4.84   5.06   5.28   5.5    5.72   5.94   6.16   6.38\n",
      "   6.6    6.82   7.04   7.26   7.48   7.7    7.92   8.14   8.36   8.58\n",
      "   8.8    9.02   9.24   9.46   9.68   9.9   10.12  10.34  10.56  10.78  11.  ]\n",
      "[ 20.  20.  20.  20.  20.  20.  20.  20.  20.  20.  50.  50.  50.  50.  50.\n",
      "  50.  50.  50.  50.  50.  20.  20.  20.  20.  20.  20.  20.  20.  20.  20.\n",
      "  20.  20.  20.  20.  20.  20.  20.  20.  20.  20.  20.  20.  20.  20.  20.\n",
      "  20.  20.  20.  20.  20.  20.]\n"
     ]
    }
   ],
   "source": [
    "print(x)\n",
    "print(rho1)"
   ]
  },
  {
   "cell_type": "code",
   "execution_count": 1260,
   "metadata": {
    "collapsed": false
   },
   "outputs": [
    {
     "data": {
      "image/png": "[encoded data removed]",
      "text/plain": [
       "<matplotlib.figure.Figure at 0x8d90668>"
      ]
     },
     "metadata": {},
     "output_type": "display_data"
    }
   ],
   "source": [
    "pyplot.plot(x, rho1, color='#003366', ls='--', lw=3)\n",
    "pyplot.ylim(0,60);"
   ]
  },
  {
   "cell_type": "code",
   "execution_count": 1261,
   "metadata": {
    "collapsed": true
   },
   "outputs": [],
   "source": [
    "nt1= sympy.symbols('nt1')\n",
    "r1,s1,V1= sympy.symbols('r1 s1 V1')"
   ]
  },
  {
   "cell_type": "code",
   "execution_count": 1262,
   "metadata": {
    "collapsed": false
   },
   "outputs": [],
   "source": [
    "nt1=(t/(dt*60))+1  # le coefficient 60 est pour convertir les heures en minutes\n"
   ]
  },
  {
   "cell_type": "code",
   "execution_count": 1263,
   "metadata": {
    "collapsed": false
   },
   "outputs": [
    {
     "name": "stdout",
     "output_type": "stream",
     "text": [
      "16.6666666666667*t + 1\n"
     ]
    }
   ],
   "source": [
    "nt1_lamb = lambdify((t), nt1)        # valeur exacte de \"nt\"\n",
    "print(format(nt_lamb(t)))"
   ]
  },
  {
   "cell_type": "code",
   "execution_count": 1264,
   "metadata": {
    "collapsed": true
   },
   "outputs": [],
   "source": [
    "def v1(t):\n",
    "    for n in range(0,int(nt1_lamb(t))):\n",
    "        un1 = rho1.copy() \n",
    "        rho1[1:] = un1[1:]+2*vmax1*dt/rhomax*dx*un1[1:]*(un1[1:]-un1[0:-1])-vmax1*dt/dx*(un1[1:]-un1[0:-1])\n",
    "        if n==int(nt1_lamb(t))-1:\n",
    "            print(\"Densités :\",rho1[0:])\n",
    "            v1=vmax1*(1-rho/rhomax)*1000/3600\n",
    "            v1_lamb = lambdify((rho), v1)\n",
    "            print(\"Vitesses :\",format(v1_lamb(rho1[0:])))\n",
    "            v1_min=min(v1_lamb(rho1[0:]))\n",
    "            print(\"Vitesse minimum :\",v1_min)\n",
    "            s1=sum(v1_lamb(rho1[0:]))\n",
    "            v1_moy=s1/int(nt1_lamb(t))   \n",
    "            print(\"Vitesse moyenne :\",v1_moy)\n",
    "            "
   ]
  },
  {
   "cell_type": "markdown",
   "metadata": {},
   "source": [
    "### vitesse minimum pour t=0 min."
   ]
  },
  {
   "cell_type": "code",
   "execution_count": 1265,
   "metadata": {
    "collapsed": false
   },
   "outputs": [
    {
     "name": "stdout",
     "output_type": "stream",
     "text": [
      "Densités : [ 20.          20.          20.          20.          20.          20.          20.\n",
      "  20.          20.          20.          31.81358545  50.          50.          50.\n",
      "  50.          50.          50.          50.          50.          50.\n",
      "  38.40183855  20.          20.          20.          20.          20.          20.\n",
      "  20.          20.          20.          20.          20.          20.          20.\n",
      "  20.          20.          20.          20.          20.          20.          20.\n",
      "  20.          20.          20.          20.          20.          20.          20.\n",
      "  20.          20.          20.        ]\n",
      "Vitesses : [ 34.75555556  34.75555556  34.75555556  34.75555556  34.75555556\n",
      "  34.75555556  34.75555556  34.75555556  34.75555556  34.75555556\n",
      "  32.97039153  30.22222222  30.22222222  30.22222222  30.22222222\n",
      "  30.22222222  30.22222222  30.22222222  30.22222222  30.22222222\n",
      "  31.97483329  34.75555556  34.75555556  34.75555556  34.75555556\n",
      "  34.75555556  34.75555556  34.75555556  34.75555556  34.75555556\n",
      "  34.75555556  34.75555556  34.75555556  34.75555556  34.75555556\n",
      "  34.75555556  34.75555556  34.75555556  34.75555556  34.75555556\n",
      "  34.75555556  34.75555556  34.75555556  34.75555556  34.75555556\n",
      "  34.75555556  34.75555556  34.75555556  34.75555556  34.75555556\n",
      "  34.75555556]\n",
      "Vitesse minimum : 30.2222222222\n",
      "Vitesse moyenne : 1727.16744704\n"
     ]
    }
   ],
   "source": [
    "v1(0)"
   ]
  },
  {
   "cell_type": "markdown",
   "metadata": {},
   "source": [
    "### vitesse moyenne et minimum pour t=3 min."
   ]
  },
  {
   "cell_type": "code",
   "execution_count": 1266,
   "metadata": {
    "collapsed": false
   },
   "outputs": [
    {
     "name": "stdout",
     "output_type": "stream",
     "text": [
      "Densités : [ 20.          20.          20.          20.          20.          20.          20.\n",
      "  20.          20.          20.          20.          20.          20.          20.\n",
      "  20.          20.          20.          20.          20.          20.\n",
      "  20.00000002  20.00000012  20.00000069  20.00000345  20.00001565\n",
      "  20.00006474  20.0002451   20.00085196  20.00272712  20.0080606\n",
      "  20.02205135  20.05595354  20.13193948  20.28962222  20.59277505\n",
      "  21.13288752  22.02451812  23.3874991   25.31458529  27.83042344\n",
      "  30.85604493  34.19672231  37.56466466  40.63243899  43.09726861\n",
      "  44.7318039   45.40706552  45.09008576  43.83003933  41.74589717\n",
      "  39.01903816]\n",
      "Vitesses : [ 34.75555556  34.75555556  34.75555556  34.75555556  34.75555556\n",
      "  34.75555556  34.75555556  34.75555556  34.75555556  34.75555556\n",
      "  34.75555556  34.75555556  34.75555556  34.75555556  34.75555556\n",
      "  34.75555556  34.75555556  34.75555556  34.75555556  34.75555556\n",
      "  34.75555555  34.75555554  34.75555545  34.75555503  34.75555319\n",
      "  34.75554577  34.75551852  34.75542682  34.75514346  34.75433751\n",
      "  34.75222335  34.74710035  34.73561803  34.71179042  34.66598066\n",
      "  34.58436366  34.44962837  34.2436668   33.95246267  33.57229157\n",
      "  33.11508654  32.61027307  32.10133956  31.63776477  31.26530163\n",
      "  31.01830519  30.91626565  30.96416482  31.15457183  31.46950887\n",
      "  31.88156757]\n",
      "Vitesse minimum : 30.9162656549\n",
      "Vitesse moyenne : 34.0238065366\n"
     ]
    }
   ],
   "source": [
    "v1(3)"
   ]
  }
 ],
 "metadata": {
  "kernelspec": {
   "display_name": "Python 3",
   "language": "python",
   "name": "python3"
  },
  "language_info": {
   "codemirror_mode": {
    "name": "ipython",
    "version": 3
   },
   "file_extension": ".py",
   "mimetype": "text/x-python",
   "name": "python",
   "nbconvert_exporter": "python",
   "pygments_lexer": "ipython3",
   "version": "3.4.3"
  }
 },
 "nbformat": 4,
 "nbformat_minor": 0
}
