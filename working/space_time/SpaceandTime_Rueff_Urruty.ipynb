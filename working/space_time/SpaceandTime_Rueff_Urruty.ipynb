{
 "cells": [
  {
   "cell_type": "markdown",
   "metadata": {},
   "source": [
    "# Coding Assignment : Traffic flow\n",
    "\n",
    "\n",
    "\n",
    "This time we will try to describe the general behavior of the flow of traffic on a one-lane highway.\n",
    "\n",
    "Our code was split two parts, each part being used with different initial conditions.\n",
    "\n",
    "The equation of the traffic flow, as it was given to us is :\n",
    "\n",
    "\\begin{equation}\\frac{\\partial \\rho}{\\partial t} +  \\frac{\\partial F}{\\partial x} = 0\\end{equation}\n",
    "\n",
    "But we will change it to a form only dependent on $\\rho$, by derivating (spatially) the F function :\n",
    "\n",
    "\\begin{equation}\\frac{\\partial F}{\\partial x} = \\frac{\\partial [V_{max} \\rho \\left(1 - \\frac{\\rho}{\\rho_{max}} \\right)] }{\\partial x} = f(\\rho)\\frac{\\partial \\rho}{\\partial x}\\end{equation}      with    \\begin{equation} f(\\rho) = V_{max}-2\\rho\\frac{V_{max}}{\\rho_{max}} \\end{equation}\n",
    "\n",
    "Thus, we obtain a non linear 1D diffusion equation, but with a function of $\\rho$ instead of simply $\\rho$ :\n",
    "\n",
    "\\begin{equation}\\frac{\\partial \\rho}{\\partial t} + f(\\rho)\\frac{\\partial \\rho}{\\partial x}=0\\end{equation}\n",
    "\n",
    "Furthermore, the discretized equation gives ( forward difference in time and backwards difference in space) :\n",
    "\n",
    "\\begin{equation}\\frac{\\rho_i^{n+1}-\\rho_i^n}{\\Delta t} + f(\\rho_i^n) \\frac{\\rho_i^n-\\rho_{i-1}^n}{\\Delta x} = 0\\end{equation}\n",
    "\n",
    "We can obtain an equation that can be used to advance in time, solving for the only unknown term \n",
    "\n",
    "\\begin{equation}\\rho_i^{n+1}= \\rho_i^n - f(\\rho_i^n) \\frac{\\Delta t}{\\Delta x} (\\rho_i^n - \\rho_{i-1}^n)\\end{equation}"
   ]
  },
  {
   "cell_type": "markdown",
   "metadata": {},
   "source": [
    "## Simulation results : Part A"
   ]
  },
  {
   "cell_type": "markdown",
   "metadata": {},
   "source": [
    "* **Importing libraries**"
   ]
  },
  {
   "cell_type": "code",
   "execution_count": 29,
   "metadata": {
    "collapsed": true
   },
   "outputs": [],
   "source": [
    "import numpy                    \n",
    "from matplotlib import pyplot                 \n",
    "%matplotlib inline\n",
    "from matplotlib import rcParams\n",
    "rcParams['font.family'] = 'serif'\n",
    "rcParams['font.size'] = 16"
   ]
  },
  {
   "cell_type": "markdown",
   "metadata": {},
   "source": [
    "* **Initial conditions**"
   ]
  },
  {
   "cell_type": "code",
   "execution_count": 30,
   "metadata": {
    "collapsed": true
   },
   "outputs": [],
   "source": [
    "Vmax=80   # Maximum speed the cars can reach, in Km/h\n",
    "L=11      # Stretch of road we're studying, in Km\n",
    "umax=250  # Rho max, in cars per Km (to simplify, we used u=rho)\n",
    "\n",
    "def f(u) :                     # The function we defined above\n",
    "    return Vmax-2*Vmax*u/umax  \n",
    "\n",
    "# These data can be changed to obtain the results we are looking for\n",
    "nx=51\n",
    "dx=L/(nx-1)\n",
    "nt=50\n",
    "dt=0.001  # in hours"
   ]
  },
  {
   "cell_type": "markdown",
   "metadata": {},
   "source": [
    "* **Given initial conditions for traffic density**"
   ]
  },
  {
   "cell_type": "code",
   "execution_count": 31,
   "metadata": {
    "collapsed": false
   },
   "outputs": [
    {
     "name": "stdout",
     "output_type": "stream",
     "text": [
      "[ 10.  10.  10.  10.  10.  10.  10.  10.  10.  10.  50.  50.  50.  50.  50.\n",
      "  50.  50.  50.  50.  50.  10.  10.  10.  10.  10.  10.  10.  10.  10.  10.\n",
      "  10.  10.  10.  10.  10.  10.  10.  10.  10.  10.  10.  10.  10.  10.  10.\n",
      "  10.  10.  10.  10.  10.  10.]\n"
     ]
    }
   ],
   "source": [
    "x=numpy.linspace(0,L,nx)\n",
    "u=numpy.ones(nx)*10\n",
    "u[10:20]=50\n",
    "print (u)  "
   ]
  },
  {
   "cell_type": "code",
   "execution_count": 32,
   "metadata": {
    "collapsed": false
   },
   "outputs": [
    {
     "name": "stdout",
     "output_type": "stream",
     "text": [
      "[ 10.          10.          10.          10.          10.          10.          10.\n",
      "  10.          10.          10.          10.00000016  10.0000043\n",
      "  10.00005634  10.00048665  10.00311989  10.01585909  10.06668915\n",
      "  10.23887634  10.74328217  12.02839905  14.8390052   19.92367123\n",
      "  27.14328554  34.88007703  41.12743475  44.97966915  46.63869633\n",
      "  46.66187568  45.52575715  43.5565586   40.98097353  37.97499695\n",
      "  34.68976044  31.26263079  27.82183921  24.48810405  21.37361778\n",
      "  18.57772777  16.17911676  14.22593832  12.72751097  11.65228445\n",
      "  10.93513777  10.49268919  10.24100521  10.10924727  10.04582543\n",
      "  10.01776592  10.00635816  10.00209775  10.00063705]\n",
      "18.6701582075\n"
     ]
    }
   ],
   "source": [
    "for n in range (1, nt):\n",
    "    un=u.copy()\n",
    "    u[1:]=un[1:]-f(un[1:])*dt/dx*(un[1:]-un[0:-1]) # Evolution of rho in time\n",
    "    u[0]=10       # Boundary condition\n",
    "print (u)    \n",
    "print (numpy.mean(u))"
   ]
  },
  {
   "cell_type": "markdown",
   "metadata": {},
   "source": [
    "* **How it looks**"
   ]
  },
  {
   "cell_type": "code",
   "execution_count": 33,
   "metadata": {
    "collapsed": false
   },
   "outputs": [
    {
     "data": {
      "image/png": "[encoded data removed]",
      "text/plain": [
       "<matplotlib.figure.Figure at 0x7fdc30cc8518>"
      ]
     },
     "metadata": {},
     "output_type": "display_data"
    }
   ],
   "source": [
    "pyplot.plot(x, u, color='#003366', ls='--', lw=3)\n",
    "pyplot.ylim(0,50);"
   ]
  },
  {
   "cell_type": "markdown",
   "metadata": {},
   "source": [
    "\n",
    "\n",
    "## Simulation results : Part B"
   ]
  },
  {
   "cell_type": "markdown",
   "metadata": {},
   "source": [
    "This time we will use different initial and boundary conditions."
   ]
  },
  {
   "cell_type": "markdown",
   "metadata": {},
   "source": [
    "* **New intial conditions**"
   ]
  },
  {
   "cell_type": "code",
   "execution_count": 34,
   "metadata": {
    "collapsed": false
   },
   "outputs": [
    {
     "name": "stdout",
     "output_type": "stream",
     "text": [
      "[ 20.  20.  20.  20.  20.  20.  20.  20.  20.  20.  50.  50.  50.  50.  50.\n",
      "  50.  50.  50.  50.  50.  20.  20.  20.  20.  20.  20.  20.  20.  20.  20.\n",
      "  20.  20.  20.  20.  20.  20.  20.  20.  20.  20.  20.  20.  20.  20.  20.\n",
      "  20.  20.  20.  20.  20.  20.]\n"
     ]
    }
   ],
   "source": [
    "Vmax=136 # This one was changed\n",
    "L=11\n",
    "umax=250\n",
    "\n",
    "def f(u) :\n",
    "    return Vmax-2*Vmax*u/umax\n",
    "\n",
    "nx=51\n",
    "dx=L/(nx-1)\n",
    "nt=50\n",
    "dt=0.001\n",
    "\n",
    "x=numpy.linspace(0,L,nx)\n",
    "u=numpy.ones(nx)*20   # This one was changed as well\n",
    "u[10:20]=50\n",
    "print (u)"
   ]
  },
  {
   "cell_type": "code",
   "execution_count": 35,
   "metadata": {
    "collapsed": false
   },
   "outputs": [
    {
     "name": "stdout",
     "output_type": "stream",
     "text": [
      "[ 20.          20.          20.          20.          20.          20.          20.\n",
      "  20.          20.          20.          20.          20.          20.          20.\n",
      "  20.00000001  20.00000005  20.00000044  20.00000313  20.00001901\n",
      "  20.00010078  20.00047277  20.00198426  20.00751956  20.02593504\n",
      "  20.08196608  20.23859907  20.64103298  21.58324383  23.54490031\n",
      "  27.01631259  31.94862071  37.34373055  41.85550864  44.76340842\n",
      "  46.11276272  46.27756144  45.62660692  44.42422378  42.84252989\n",
      "  40.99551313  38.96547379  36.81887735  34.61500937  32.41058454\n",
      "  30.26203821  28.22605544  26.3581788   24.70911446  23.31875941\n",
      "  22.20908551  21.3784552 ]\n",
      "26.5608664355\n"
     ]
    }
   ],
   "source": [
    "for n in range (1, nt):\n",
    "    un=u.copy()\n",
    "    u[1:]=un[1:]-f(un[1:])*dt/dx*(un[1:]-un[0:-1])\n",
    "    u[0]=20     # New boundary condition\n",
    "print (u)    \n",
    "print (numpy.mean(u))"
   ]
  },
  {
   "cell_type": "markdown",
   "metadata": {},
   "source": [
    "* **How it looks**"
   ]
  },
  {
   "cell_type": "code",
   "execution_count": 36,
   "metadata": {
    "collapsed": false
   },
   "outputs": [
    {
     "data": {
      "image/png": "[encoded data removed]",
      "text/plain": [
       "<matplotlib.figure.Figure at 0x7fdc31487860>"
      ]
     },
     "metadata": {},
     "output_type": "display_data"
    }
   ],
   "source": [
    "pyplot.plot(x, u, color='#003366', ls='--', lw=3)\n",
    "pyplot.ylim(0,50);"
   ]
  },
  {
   "cell_type": "markdown",
   "metadata": {},
   "source": [
    "Thanks for your attention, we'll be back !"
   ]
  },
  {
   "cell_type": "code",
   "execution_count": null,
   "metadata": {
    "collapsed": true
   },
   "outputs": [],
   "source": []
  }
 ],
 "metadata": {
  "kernelspec": {
   "display_name": "Python 3",
   "language": "python",
   "name": "python3"
  },
  "language_info": {
   "codemirror_mode": {
    "name": "ipython",
    "version": 3
   },
   "file_extension": ".py",
   "mimetype": "text/x-python",
   "name": "python",
   "nbconvert_exporter": "python",
   "pygments_lexer": "ipython3",
   "version": "3.4.3"
  }
 },
 "nbformat": 4,
 "nbformat_minor": 0
}
