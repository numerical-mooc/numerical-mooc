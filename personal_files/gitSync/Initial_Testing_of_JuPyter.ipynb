{
 "cells": [
  {
   "cell_type": "markdown",
   "metadata": {},
   "source": [
    "# Markdown\n",
    "\n",
    "This is some markdown\n",
    "\n",
    "* this is item one in a list\n",
    "* this is math in a list ($\\frac{a}{b} = 7$)\n",
    "\n",
    "$$\\frac{D\\rho}{dt} = \\frac{\\delta \\rho}{\\delta t} + \\frac{\\delta \\rho}{\\delta x} + \\frac{\\delta \\rho}{\\delta y} + \\frac{\\delta \\rho}{\\delta z}$$"
   ]
  },
  {
   "cell_type": "code",
   "execution_count": 3,
   "metadata": {
    "collapsed": false
   },
   "outputs": [
    {
     "name": "stdout",
     "output_type": "stream",
     "text": [
      "5\n",
      "Hello World!\n"
     ]
    }
   ],
   "source": [
    "x= 5\n",
    "print(x)\n",
    "print('Hello World!')"
   ]
  },
  {
   "cell_type": "markdown",
   "metadata": {
    "collapsed": true
   },
   "source": [
    "# Ending Comments\n",
    "Yep. this works."
   ]
  },
  {
   "cell_type": "code",
   "execution_count": 10,
   "metadata": {
    "collapsed": false
   },
   "outputs": [
    {
     "ename": "SyntaxError",
     "evalue": "invalid syntax (<ipython-input-10-41c7149dc746>, line 8)",
     "output_type": "error",
     "traceback": [
      "\u001b[1;36m  File \u001b[1;32m\"<ipython-input-10-41c7149dc746>\"\u001b[1;36m, line \u001b[1;32m8\u001b[0m\n\u001b[1;33m    for i in range N:\u001b[0m\n\u001b[1;37m                   ^\u001b[0m\n\u001b[1;31mSyntaxError\u001b[0m\u001b[1;31m:\u001b[0m invalid syntax\n"
     ]
    }
   ],
   "source": [
    "import numpy\n",
    "N=20\n",
    "def f(u):\n",
    "    return 2*u\n",
    "dt=.001\n",
    "v=numpy.empty(20)\n",
    "u=numpy.ones(20)\n",
    "for i in range N:\n",
    "  v[i+1/2] = v[i] + dt/2*f(v[i])\n",
    "  v[i] = v[i] + dt*f(u[i+1/2])"
   ]
  },
  {
   "cell_type": "code",
   "execution_count": 9,
   "metadata": {
    "collapsed": false
   },
   "outputs": [
    {
     "data": {
      "text/plain": [
       "array([  2.00000000e-003,   2.00000000e-003,   2.00000000e-003,\n",
       "         2.00000000e-003,   2.00000000e-003,   2.00000000e-003,\n",
       "         2.00000000e-003,   2.00000000e-003,   2.00000000e-003,\n",
       "         2.00000000e-003,   5.36232983e+069,   2.00000000e-003,\n",
       "         2.00000000e-003,   2.00000000e-003,   2.00000000e-003,\n",
       "         2.00000000e-003,   2.00000000e-003,   2.00000000e-003,\n",
       "         2.00000000e-003,   2.05638259e+274])"
      ]
     },
     "execution_count": 9,
     "metadata": {},
     "output_type": "execute_result"
    }
   ],
   "source": [
    "v"
   ]
  },
  {
   "cell_type": "code",
   "execution_count": null,
   "metadata": {
    "collapsed": true
   },
   "outputs": [],
   "source": []
  }
 ],
 "metadata": {
  "kernelspec": {
   "display_name": "Python 3",
   "language": "python",
   "name": "python3"
  },
  "language_info": {
   "codemirror_mode": {
    "name": "ipython",
    "version": 3
   },
   "file_extension": ".py",
   "mimetype": "text/x-python",
   "name": "python",
   "nbconvert_exporter": "python",
   "pygments_lexer": "ipython3",
   "version": "3.4.3"
  }
 },
 "nbformat": 4,
 "nbformat_minor": 0
}
