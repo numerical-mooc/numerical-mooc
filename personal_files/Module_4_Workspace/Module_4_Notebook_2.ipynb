{
 "cells": [
  {
   "cell_type": "markdown",
   "metadata": {},
   "source": [
    "# Implicit Solution\n",
    "\n",
    "## Notes:\n",
    "* Obvious Note, but one that needs to be made: Implicit Schemes use future information.\n",
    "    * By using these methods, both the miniscule time step issue and the boundary drag issue disappear\n",
    "    * We're going to solve the same equations as in Notebook 1 but descritize them differently.\n",
    "* Solving $\\frac{\\partial T}{\\partial t}=\\alpha \\frac{\\partial^{2}T}{\\partial t^{2}}$ with the following constraint: $\\sigma = \\alpha\\frac{\\Delta t}{(\\Delta x)^{2}} \\leq \\frac{1}{2}$\n",
    "\n",
    "* Descritizing the time derivative: $$\\frac{\\partial T}{\\partial t} : T^{n+1}_{i} = T^{n}_{i} + \\frac{\\partial T}{\\partial t}\\Delta t + \\frac{\\partial^{2} T}{\\partial t^{2}}\\frac{\\Delta t^{2}}{2} + \\frac{\\partial^{3} T}{\\partial t^{3}}\\frac{\\Delta t^{3}}{6} \\\\\n",
    "\\implies \\frac{T^{n+1}_{i} - T^{n}_{i}}{\\Delta t} = \\frac{\\partial T}{\\partial t} + \\frac{\\partial^{2} T}{\\partial t^{2}}\\frac{\\Delta t}{2} + \\frac{\\partial^{3} T}{\\partial t^{3}}\\frac{\\Delta t^{2}}{6}$$\n",
    "    * Using big-O notation for the error we get : $$\\frac{T^{n+1}_{i} - T^{n}_{i}}{\\Delta t} = \\frac{\\partial T}{\\partial t} + O(\\Delta t)$$\n",
    "    \n",
    "* Descritizing the space derivative (THIS TIME AT n+1!!) we will use central difference, which will give us two equations to then later sum:\n",
    "$$\\frac{\\partial^{2} T}{\\partial x^{2}} :\\begin{align}\n",
    "&T^{n+1}_{i+1} = T^{n+1}_{i} + \\frac{\\partial T}{\\partial x}\\Delta x + \\frac{\\partial^{2} T}{\\partial x^{2}}\\frac{\\Delta x^{2}}{2} + \\frac{\\partial^{3} T}{\\partial x^{3}}\\frac{\\Delta x^{3}}{6} + \\frac{\\partial^{4} T}{\\partial x^{4}}\\frac{\\Delta x^{4}}{24}\\\\\n",
    "&T^{n+1}_{i-1} = T^{n+1}_{i} - \\frac{\\partial T}{\\partial x}\\Delta x + \\frac{\\partial^{2} T}{\\partial x^{2}}\\frac{\\Delta x^{2}}{2} - \\frac{\\partial^{3} T}{\\partial x^{3}}\\frac{\\Delta x^{3}}{6} + \\frac{\\partial^{4} T}{\\partial x^{4}}\\frac{\\Delta x^{4}}{24}\\\\\n",
    "\\implies &T^{n+1}_{i+1} + T^{n+1}_{i-1} = 2T^{n+1}_{i} + \\frac{\\partial^{2} T}{\\partial x^{2}}\\Delta x^{2} + \\frac{\\partial^{4} T}{\\partial x^{4}}\\frac{\\Delta x^{4}}{12} \\rightarrow \\frac{T^{n+1}_{i+1} + T^{n+1}_{i-1} - 2T^{n+1}_{i}}{\\Delta x^{2}} = \\frac{\\partial^{2} T}{\\partial x^{2}} + \\frac{\\partial^{4} T}{\\partial x^{4}}\\frac{\\Delta x^{2}}{12}\\end{align}$$\n",
    "    * Using big-O notation for the error we get : $$\\frac{T^{n+1}_{i+1} + T^{n+1}_{i-1} - 2T^{n+1}_{i}}{\\Delta x^{2}} = \\frac{\\partial^{2} T}{\\partial x^{2}} + O(\\Delta x^{2})$$\n",
    "    \n",
    "* this allows the equation to formulate to: $$\\frac{T^{n+1}_{i} - T^{n}_{i}}{\\Delta t} - O(\\Delta t) = \\alpha\\frac{T^{n+1}_{i+1} + T^{n+1}_{i-1} - 2T^{n+1}_{i}}{\\Delta x^{2}} - \\alpha O(\\Delta x^{2})\\\\\n",
    "\\implies T^{n+1}_{i} = T^{n}_{i} + \\alpha \\Delta t \\frac{T^{n+1}_{i+1} + T^{n+1}_{i-1} - 2T^{n+1}_{i}}{\\Delta x^{2}} + \\Delta t [O(\\Delta t) - \\alpha O(\\Delta x^{2})]$$\n",
    "    * you can ignore the error term and end up with: $$T^{n+1}_{i} = T^{n}_{i} + \\alpha \\Delta t \\frac{T^{n+1}_{i+1} + T^{n+1}_{i-1} - 2T^{n+1}_{i}}{\\Delta x^{2}}$$\n",
    "    \n",
    "* we can rearrange this to: $$-T^{n}_{i}=\\alpha \\Delta t \\frac{T^{n+1}_{i+1} + T^{n+1}_{i-1} - 2T^{n+1}_{i}}{\\Delta x^{2}} - T^{n+1}_{i}$$\n",
    "\n",
    "* from the stencil in the notebook, we know that $T^{n+1}_{i}$ keeps appearing, which leads to a system of equations we can then solve.\n",
    "\n",
    "* followed boundary condition on paper, but may need to experiment some more to fully understand it.\n",
    "\n",
    "* Note: Implicit methods are stable in timesteps. you may also wish to experiment with sparse matrix storage.\n",
    "\n",
    "## Code: \n",
    "all the code will follow this cell. This is to ease runtime and to make sure the scope of all variables remains the same. different iterations of the same code with different values or methods of computing the same solution will be in subsquent cells, while code-notes will be commented like usual."
   ]
  },
  {
   "cell_type": "code",
   "execution_count": 1,
   "metadata": {
    "collapsed": false
   },
   "outputs": [
    {
     "name": "stderr",
     "output_type": "stream",
     "text": [
      "/home/gil/anaconda3/lib/python3.4/site-packages/ipykernel/__main__.py:18: DeprecationWarning: using a non-integer number instead of an integer will result in an error in the future\n"
     ]
    },
    {
     "data": {
      "image/png": "[encoded data removed]",
      "text/plain": [
       "<matplotlib.figure.Figure at 0x7fe1fddccc50>"
      ]
     },
     "metadata": {},
     "output_type": "display_data"
    }
   ],
   "source": [
    "# Basic Imports\n",
    "import numpy\n",
    "from matplotlib import pyplot\n",
    "%matplotlib inline\n",
    "from matplotlib import rcParams\n",
    "rcParams['font.family'] = 'serif'\n",
    "rcParams['font.size'] = 16\n",
    "from scipy.linalg import solve\n",
    "\n",
    "# Setting up initial stuff\n",
    "L = 1.\n",
    "nt = 100\n",
    "nx = 51.\n",
    "alpha = 1.22e-3\n",
    "q = 0\n",
    "dx = L/(nx-1)\n",
    "qdx = q*dx\n",
    "Ti = numpy.zeros(nx)\n",
    "Ti[0] = 100\n",
    "sigma = 0.5\n",
    "dt = sigma * dx*dx/alpha \n",
    "nt = 1000\n",
    "\n",
    "\n",
    "# generating a matrix for the solver to solve.\n",
    "def generateMatrix(N, sigma):\n",
    "    # Setup the diagonal\n",
    "    d = numpy.diag(numpy.ones(N-2)*(2+1./sigma))\n",
    "    # Consider Neumann BC\n",
    "    d[-1,-1] = 1+1./sigma\n",
    "    # Setup upper diagonal\n",
    "    ud = numpy.diag(numpy.ones(N-3)*-1, 1)\n",
    "    # Setup lower diagonal\n",
    "    ld = numpy.diag(numpy.ones(N-3)*-1, -1)\n",
    "    A = d + ud + ld\n",
    "    return A\n",
    "\n",
    "# generating the other side of the equation, so all we have left is the solution vector\n",
    "def generateRHS(T, sigma, qdx):\n",
    "    b = numpy.zeros_like(T)\n",
    "    b = T[1:-1]*1./sigma # solve equation.\n",
    "    # Consider Dirichlet BC\n",
    "    b[0] += T[0]\n",
    "    # Consider Neumann BC\n",
    "    b[-2] += qdx\n",
    "    return b\n",
    "\n",
    "# solve out the solution vector implicitly via the solver\n",
    "def implicit_ftcs(T, A, nt, sigma, qdx):\n",
    "    for t in range(nt):\n",
    "        Tn = T.copy()\n",
    "        b = generateRHS(Tn, sigma, qdx)\n",
    "        # Use numpy.linalg.solve\n",
    "        T_interior = solve(A,b)\n",
    "        T[1:-1] = T_interior\n",
    "        # Enforce Neumann BC (Dirichlet is enforced automatically)\n",
    "        T[-1] = T[-2] + qdx\n",
    "    return T\n",
    "\n",
    "A = generateMatrix(nx, sigma)\n",
    "T = implicit_ftcs(Ti.copy(), A, nt, sigma, qdx)\n",
    "pyplot.plot(numpy.linspace(0,1,nx), T, color='#003366', ls='-', lw=3);"
   ]
  },
  {
   "cell_type": "code",
   "execution_count": 2,
   "metadata": {
    "collapsed": false
   },
   "outputs": [
    {
     "name": "stderr",
     "output_type": "stream",
     "text": [
      "/home/gil/anaconda3/lib/python3.4/site-packages/ipykernel/__main__.py:18: DeprecationWarning: using a non-integer number instead of an integer will result in an error in the future\n"
     ]
    },
    {
     "data": {
      "image/png": "[encoded data removed]",
      "text/plain": [
       "<matplotlib.figure.Figure at 0x7fe2002fff28>"
      ]
     },
     "metadata": {},
     "output_type": "display_data"
    }
   ],
   "source": [
    "# Basic Imports\n",
    "import numpy\n",
    "from matplotlib import pyplot\n",
    "%matplotlib inline\n",
    "from matplotlib import rcParams\n",
    "rcParams['font.family'] = 'serif'\n",
    "rcParams['font.size'] = 16\n",
    "from scipy.linalg import solve\n",
    "\n",
    "# Setting up initial stuff\n",
    "L = 1.\n",
    "nt = 100\n",
    "nx = 51.\n",
    "alpha = 1.22e-3\n",
    "q = 0\n",
    "dx = L/(nx-1)\n",
    "qdx = q*dx\n",
    "Ti = numpy.zeros(nx)\n",
    "Ti[0] = 100\n",
    "sigma = 5.0\n",
    "dt = sigma * dx*dx/alpha \n",
    "nt = 1000\n",
    "\n",
    "\n",
    "# generating a matrix for the solver to solve.\n",
    "def generateMatrix(N, sigma):\n",
    "    # Setup the diagonal\n",
    "    d = numpy.diag(numpy.ones(N-2)*(2+1./sigma))\n",
    "    # Consider Neumann BC\n",
    "    d[-1,-1] = 1+1./sigma\n",
    "    # Setup upper diagonal\n",
    "    ud = numpy.diag(numpy.ones(N-3)*-1, 1)\n",
    "    # Setup lower diagonal\n",
    "    ld = numpy.diag(numpy.ones(N-3)*-1, -1)\n",
    "    A = d + ud + ld\n",
    "    return A\n",
    "\n",
    "# generating the other side of the equation, so all we have left is the solution vector\n",
    "def generateRHS(T, sigma, qdx):\n",
    "    b = numpy.zeros_like(T)\n",
    "    b = T[1:-1]*1./sigma # solve equation.\n",
    "    # Consider Dirichlet BC\n",
    "    b[0] += T[0]\n",
    "    # Consider Neumann BC\n",
    "    b[-2] += qdx\n",
    "    return b\n",
    "\n",
    "# solve out the solution vector implicitly via the solver\n",
    "def implicit_ftcs(T, A, nt, sigma, qdx):\n",
    "    for t in range(nt):\n",
    "        Tn = T.copy()\n",
    "        b = generateRHS(Tn, sigma, qdx)\n",
    "        # Use numpy.linalg.solve\n",
    "        T_interior = solve(A,b)\n",
    "        T[1:-1] = T_interior\n",
    "        # Enforce Neumann BC (Dirichlet is enforced automatically)\n",
    "        T[-1] = T[-2] + qdx\n",
    "    return T\n",
    "\n",
    "A = generateMatrix(nx, sigma)\n",
    "T = implicit_ftcs(Ti.copy(), A, nt, sigma, qdx)\n",
    "pyplot.plot(numpy.linspace(0,1,nx), T, color='#045366', ls='-', lw=3);"
   ]
  },
  {
   "cell_type": "code",
   "execution_count": null,
   "metadata": {
    "collapsed": true
   },
   "outputs": [],
   "source": []
  }
 ],
 "metadata": {
  "kernelspec": {
   "display_name": "Python 3",
   "language": "python",
   "name": "python3"
  },
  "language_info": {
   "codemirror_mode": {
    "name": "ipython",
    "version": 3
   },
   "file_extension": ".py",
   "mimetype": "text/x-python",
   "name": "python",
   "nbconvert_exporter": "python",
   "pygments_lexer": "ipython3",
   "version": "3.4.3"
  }
 },
 "nbformat": 4,
 "nbformat_minor": 0
}
