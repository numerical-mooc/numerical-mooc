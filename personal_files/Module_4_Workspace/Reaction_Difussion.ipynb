{
 "cells": [
  {
   "cell_type": "markdown",
   "metadata": {},
   "source": [
    "# Reaction-Diffusion - Explicit\n",
    "\n",
    "* Using Gray Scott Model: $$\\begin{align}\\frac{\\partial u}{\\partial t}&=D_{u}\\nabla^{2}u-uv^{2}+F(1-u)\\\\\n",
    "\\frac{\\partial v}{\\partial t}&=D_{v}\\nabla^{2}v+uv^{2}-v(F+k)\\end{align}$$\n",
    "* Use Neumann Boundary Conditions on all sides = 0 with final time of 8000 seconds and domain of 5m x 5m\n",
    "    * Implementation of all of this except the boundary conditions are given in the assignment."
   ]
  },
  {
   "cell_type": "code",
   "execution_count": 2,
   "metadata": {
    "collapsed": false
   },
   "outputs": [
    {
     "data": {
      "text/plain": [
       "array([ 0.9247 ,  0.85014,  0.66816,  0.90196,  0.90395])"
      ]
     },
     "execution_count": 2,
     "metadata": {},
     "output_type": "execute_result"
    }
   ],
   "source": [
    "#Basic Imports\n",
    "import numpy\n",
    "import matplotlib.pyplot\n",
    "%matplotlib inline\n",
    "from matplotlib import rcParams\n",
    "rcParams['font.family'] = 'serif'\n",
    "rcParams['font.size'] = 16\n",
    "\n",
    "# Setting up inital Values\n",
    "uvinitial = numpy.load('./uvinitial.npz')\n",
    "U = uvinitial['U']\n",
    "V = uvinitial['V']\n",
    "n = 192\n",
    "Du, Dv, F, k = 0.00016, 0.00008, 0.035, 0.065 # Bacteria 1 \n",
    "dh = 5./(n-1)\n",
    "T = 8000\n",
    "dt = .9 * dh**2 / (4*max(Du,Dv))\n",
    "nt = int(T//dt)\n",
    "\n",
    "# Writing out forward time, central space scheme\n",
    "def ftcs(u, v, Du, Dv, k, F, dh, dt, nt):\n",
    "   \n",
    "    for t in range(int(nt)):\n",
    "       \n",
    "        # Create copies to use in code\n",
    "        un = u.copy()\n",
    "        vn = v.copy()\n",
    "       \n",
    "        # Solve out u for this timestep\n",
    "        u[1:-1,1:-1] = un[1:-1,1:-1]+dt*(((Du/(dh**2))*(un[2:,1:-1]-4*un[1:-1,1:-1]+un[:-2,1:-1]+un[1:-1,2:]\\\n",
    "                        +un[1:-1,:-2]))-(un[1:-1,1:-1]*(vn[1:-1,1:-1])**2)+F*(1-un[1:-1,1:-1]))\n",
    "   \n",
    "        # Boundary Conditions for u\n",
    "        u[-1,:] = u[-2,:] # Top\n",
    "        u[:,-1] = u[:,-2] # Right\n",
    "        u[0,:] = u[1,:]   # Bottom\n",
    "        u[:,0] = u[:,1]   # Left\n",
    "       \n",
    "        # Solve out u for this timestep\n",
    "        v[1:-1,1:-1] = vn[1:-1,1:-1]+dt*(((Dv/(dh**2))*(vn[2:,1:-1]-4*vn[1:-1,1:-1]+vn[:-2,1:-1]+vn[1:-1,2:]\\\n",
    "                        +vn[1:-1,:-2]))+(un[1:-1,1:-1]*(vn[1:-1,1:-1])**2)-(F+k)*vn[1:-1,1:-1])\n",
    "                          \n",
    "        # Boundary Conditions for v\n",
    "        v[-1,:] = v[-2,:] # Top\n",
    "        v[:,-1] = v[:,-2] # Right\n",
    "        v[0,:] = v[1,:]   # Bottom\n",
    "        v[:,0] = v[:,1]   # Left\n",
    "       \n",
    "    return u, v\n",
    "\n",
    "# Calculating out answer\n",
    "u, v = ftcs(U.copy(), V.copy(), Du, Dv, k, F, dh, dt, nt)\n",
    "\n",
    "# Display answer for assigment, to the first 4 (+ 1 for accuracy) digits, as in assignment\n",
    "numpy.set_printoptions(precision=5)\n",
    "u[100,::40]\n"
   ]
  },
  {
   "cell_type": "code",
   "execution_count": null,
   "metadata": {
    "collapsed": true
   },
   "outputs": [],
   "source": []
  }
 ],
 "metadata": {
  "kernelspec": {
   "display_name": "Python 3",
   "language": "python",
   "name": "python3"
  },
  "language_info": {
   "codemirror_mode": {
    "name": "ipython",
    "version": 3
   },
   "file_extension": ".py",
   "mimetype": "text/x-python",
   "name": "python",
   "nbconvert_exporter": "python",
   "pygments_lexer": "ipython3",
   "version": "3.4.3"
  }
 },
 "nbformat": 4,
 "nbformat_minor": 0
}
