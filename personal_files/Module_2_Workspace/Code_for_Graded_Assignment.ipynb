{
 "cells": [
  {
   "cell_type": "markdown",
   "metadata": {},
   "source": [
    "# Grades - Module 2\n",
    "This notebook is a sandbox to mess around with code to answer the graded assigments. Each question that would need some code is self contained in its own set of two cells, with the set acting independantly of each other. The first cell is markdown containing the question, while the second set is the actual code needed to arrive at the answer."
   ]
  },
  {
   "cell_type": "markdown",
   "metadata": {},
   "source": [
    "## Sympy Question\n",
    "Using sympy, evaluate the partial derivative with respect to $x$ of the following equation at $x=2.2$.\n",
    "\n",
    "$$\\frac{\\cos ^2 (x) \\sin ^3 (x)}{4x^{5}e^{x}}$$"
   ]
  },
  {
   "cell_type": "code",
   "execution_count": 25,
   "metadata": {
    "collapsed": false
   },
   "outputs": [
    {
     "data": {
      "text/plain": [
       "9.83801782869494e-5"
      ]
     },
     "execution_count": 25,
     "metadata": {},
     "output_type": "execute_result"
    }
   ],
   "source": [
    "import sympy\n",
    "\n",
    "x = sympy.symbols('x')\n",
    "prob = ((sympy.cos(x)**2)*(sympy.sin(x))**3)/((4*x**(5))*sympy.exp(x))\n",
    "prob\n",
    "sol = prob.subs(x,2.2).evalf()\n",
    "sol\n"
   ]
  },
  {
   "cell_type": "code",
   "execution_count": 49,
   "metadata": {
    "collapsed": false
   },
   "outputs": [
    {
     "name": "stdout",
     "output_type": "stream",
     "text": [
      " -x    3       2   \n",
      "ℯ  ⋅sin (x)⋅cos (x)\n",
      "───────────────────\n",
      "           5       \n",
      "        4⋅x        \n",
      "   -x    4              -x    3       2         -x    2       3         -x    \n",
      "  ℯ  ⋅sin (x)⋅cos(x)   ℯ  ⋅sin (x)⋅cos (x)   3⋅ℯ  ⋅sin (x)⋅cos (x)   5⋅ℯ  ⋅sin\n",
      "- ────────────────── - ─────────────────── + ───────────────────── - ─────────\n",
      "            5                     5                      5                    \n",
      "         2⋅x                   4⋅x                    4⋅x                     \n",
      "\n",
      "3       2   \n",
      " (x)⋅cos (x)\n",
      "────────────\n",
      "   6        \n",
      "4⋅x         \n"
     ]
    },
    {
     "data": {
      "text/plain": [
       "-0.000266"
      ]
     },
     "execution_count": 49,
     "metadata": {},
     "output_type": "execute_result"
    }
   ],
   "source": [
    "import sympy\n",
    "\n",
    "x = sympy.symbols('x')\n",
    "prob = ((sympy.cos(x)**2)*(sympy.sin(x))**3)/(4*x**(5)*(sympy.exp(x)))\n",
    "sympy.pprint(prob)\n",
    "partial = prob.diff(x)\n",
    "sympy.pprint(partial)\n",
    "\n",
    "round(prob.diff(x).evalf(subs={x:(2.2)}),6) #round this to 6 digits!!!!"
   ]
  },
  {
   "cell_type": "code",
   "execution_count": null,
   "metadata": {
    "collapsed": false
   },
   "outputs": [],
   "source": []
  },
  {
   "cell_type": "code",
   "execution_count": null,
   "metadata": {
    "collapsed": true
   },
   "outputs": [],
   "source": []
  }
 ],
 "metadata": {
  "kernelspec": {
   "display_name": "Python 3",
   "language": "python",
   "name": "python3"
  },
  "language_info": {
   "codemirror_mode": {
    "name": "ipython",
    "version": 3
   },
   "file_extension": ".py",
   "mimetype": "text/x-python",
   "name": "python",
   "nbconvert_exporter": "python",
   "pygments_lexer": "ipython3",
   "version": "3.4.3"
  }
 },
 "nbformat": 4,
 "nbformat_minor": 0
}
