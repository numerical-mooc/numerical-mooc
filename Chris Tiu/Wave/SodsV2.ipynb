{
 "cells": [
  {
   "cell_type": "markdown",
   "metadata": {},
   "source": [
    "The initial conditions look right, Now I try to define flux without screwing everything up"
   ]
  },
  {
   "cell_type": "code",
   "execution_count": 196,
   "metadata": {
    "collapsed": false
   },
   "outputs": [],
   "source": [
    "import numpy as npy\n",
    "import matplotlib.pyplot as plt\n",
    "from matplotlib import animation\n",
    "import sympy\n",
    "sympy.init_printing()"
   ]
  },
  {
   "cell_type": "code",
   "execution_count": 197,
   "metadata": {
    "collapsed": false
   },
   "outputs": [],
   "source": [
    " rho, U, P, U_Vector,F_Vector, D_T, D_X, E_T= sympy.symbols('rho U P U_Vector F_Vector (d/dt) (d/dx) e_T')"
   ]
  },
  {
   "cell_type": "code",
   "execution_count": 198,
   "metadata": {
    "collapsed": false
   },
   "outputs": [
    {
     "data": {
      "image/png": "[encoded data removed]",
      "text/latex": [
       "$$(d/dt) U_{Vector} + (d/dx) F_{Vector} = 0$$"
      ],
      "text/plain": [
       "(d/dt)⋅U_Vector + (d/dx)⋅F_Vector = 0"
      ]
     },
     "execution_count": 198,
     "metadata": {},
     "output_type": "execute_result"
    }
   ],
   "source": [
    "EULER_Vector = sympy.Eq(D_T*U_Vector + D_X*F_Vector, 0)\n",
    "EULER_Vector"
   ]
  },
  {
   "cell_type": "markdown",
   "metadata": {},
   "source": [
    "The above fits the standard form of a conservation equation, only the 'Conserved Quantity\" is the U_Vector and the Flux of this conserved quantity is the F_Vector, and both of them are 3X1 vectors"
   ]
  },
  {
   "cell_type": "markdown",
   "metadata": {},
   "source": [
    "This first code below tries to set up the vector and initial conditions for U_Vector"
   ]
  },
  {
   "cell_type": "code",
   "execution_count": 199,
   "metadata": {
    "collapsed": false
   },
   "outputs": [],
   "source": [
    "#Standard X array sizes, dt, dx, and time steps\n",
    "nx= 81                   \n",
    "dx= 20.0/(nx-1)\n",
    "dt=0.0002\n",
    "nt=int(.01/dt)\n",
    "\n",
    "x = npy.linspace(-10.,10.,nx)   #Sets up my X array\n",
    "gamma=1.4  \n",
    "n=len(x) \n",
    "    \n",
    "U=npy.zeros((3,n),dtype=float)  #Sets up U as a 3 by n matrix where U[0] is density, U[1] is rho*U, and U[2]is pressure\n",
    "#Each row,[0][1][2] is an n length array\n",
    "#Pressure is calculated using the equation of state with gamma = 1.4"
   ]
  },
  {
   "cell_type": "code",
   "execution_count": 200,
   "metadata": {
    "collapsed": false
   },
   "outputs": [
    {
     "name": "stdout",
     "output_type": "stream",
     "text": [
      "[[  1.00000000e+00   1.00000000e+00   1.00000000e+00   1.00000000e+00\n",
      "    1.00000000e+00   1.00000000e+00   1.00000000e+00   1.00000000e+00\n",
      "    1.00000000e+00   1.00000000e+00   1.00000000e+00   1.00000000e+00\n",
      "    1.00000000e+00   1.00000000e+00   1.00000000e+00   1.00000000e+00\n",
      "    1.00000000e+00   1.00000000e+00   1.00000000e+00   1.00000000e+00\n",
      "    1.00000000e+00   1.00000000e+00   1.00000000e+00   1.00000000e+00\n",
      "    1.00000000e+00   1.00000000e+00   1.00000000e+00   1.00000000e+00\n",
      "    1.00000000e+00   1.00000000e+00   1.00000000e+00   1.00000000e+00\n",
      "    1.00000000e+00   1.00000000e+00   1.00000000e+00   1.00000000e+00\n",
      "    1.00000000e+00   1.00000000e+00   1.00000000e+00   1.00000000e+00\n",
      "    1.25000000e-01   1.25000000e-01   1.25000000e-01   1.25000000e-01\n",
      "    1.25000000e-01   1.25000000e-01   1.25000000e-01   1.25000000e-01\n",
      "    1.25000000e-01   1.25000000e-01   1.25000000e-01   1.25000000e-01\n",
      "    1.25000000e-01   1.25000000e-01   1.25000000e-01   1.25000000e-01\n",
      "    1.25000000e-01   1.25000000e-01   1.25000000e-01   1.25000000e-01\n",
      "    1.25000000e-01   1.25000000e-01   1.25000000e-01   1.25000000e-01\n",
      "    1.25000000e-01   1.25000000e-01   1.25000000e-01   1.25000000e-01\n",
      "    1.25000000e-01   1.25000000e-01   1.25000000e-01   1.25000000e-01\n",
      "    1.25000000e-01   1.25000000e-01   1.25000000e-01   1.25000000e-01\n",
      "    1.25000000e-01   1.25000000e-01   1.25000000e-01   1.25000000e-01\n",
      "    1.25000000e-01]\n",
      " [  0.00000000e+00   0.00000000e+00   0.00000000e+00   0.00000000e+00\n",
      "    0.00000000e+00   0.00000000e+00   0.00000000e+00   0.00000000e+00\n",
      "    0.00000000e+00   0.00000000e+00   0.00000000e+00   0.00000000e+00\n",
      "    0.00000000e+00   0.00000000e+00   0.00000000e+00   0.00000000e+00\n",
      "    0.00000000e+00   0.00000000e+00   0.00000000e+00   0.00000000e+00\n",
      "    0.00000000e+00   0.00000000e+00   0.00000000e+00   0.00000000e+00\n",
      "    0.00000000e+00   0.00000000e+00   0.00000000e+00   0.00000000e+00\n",
      "    0.00000000e+00   0.00000000e+00   0.00000000e+00   0.00000000e+00\n",
      "    0.00000000e+00   0.00000000e+00   0.00000000e+00   0.00000000e+00\n",
      "    0.00000000e+00   0.00000000e+00   0.00000000e+00   0.00000000e+00\n",
      "    0.00000000e+00   0.00000000e+00   0.00000000e+00   0.00000000e+00\n",
      "    0.00000000e+00   0.00000000e+00   0.00000000e+00   0.00000000e+00\n",
      "    0.00000000e+00   0.00000000e+00   0.00000000e+00   0.00000000e+00\n",
      "    0.00000000e+00   0.00000000e+00   0.00000000e+00   0.00000000e+00\n",
      "    0.00000000e+00   0.00000000e+00   0.00000000e+00   0.00000000e+00\n",
      "    0.00000000e+00   0.00000000e+00   0.00000000e+00   0.00000000e+00\n",
      "    0.00000000e+00   0.00000000e+00   0.00000000e+00   0.00000000e+00\n",
      "    0.00000000e+00   0.00000000e+00   0.00000000e+00   0.00000000e+00\n",
      "    0.00000000e+00   0.00000000e+00   0.00000000e+00   0.00000000e+00\n",
      "    0.00000000e+00   0.00000000e+00   0.00000000e+00   0.00000000e+00\n",
      "    0.00000000e+00]\n",
      " [  2.50000000e+05   2.50000000e+05   2.50000000e+05   2.50000000e+05\n",
      "    2.50000000e+05   2.50000000e+05   2.50000000e+05   2.50000000e+05\n",
      "    2.50000000e+05   2.50000000e+05   2.50000000e+05   2.50000000e+05\n",
      "    2.50000000e+05   2.50000000e+05   2.50000000e+05   2.50000000e+05\n",
      "    2.50000000e+05   2.50000000e+05   2.50000000e+05   2.50000000e+05\n",
      "    2.50000000e+05   2.50000000e+05   2.50000000e+05   2.50000000e+05\n",
      "    2.50000000e+05   2.50000000e+05   2.50000000e+05   2.50000000e+05\n",
      "    2.50000000e+05   2.50000000e+05   2.50000000e+05   2.50000000e+05\n",
      "    2.50000000e+05   2.50000000e+05   2.50000000e+05   2.50000000e+05\n",
      "    2.50000000e+05   2.50000000e+05   2.50000000e+05   2.50000000e+05\n",
      "    2.50000000e+04   2.50000000e+04   2.50000000e+04   2.50000000e+04\n",
      "    2.50000000e+04   2.50000000e+04   2.50000000e+04   2.50000000e+04\n",
      "    2.50000000e+04   2.50000000e+04   2.50000000e+04   2.50000000e+04\n",
      "    2.50000000e+04   2.50000000e+04   2.50000000e+04   2.50000000e+04\n",
      "    2.50000000e+04   2.50000000e+04   2.50000000e+04   2.50000000e+04\n",
      "    2.50000000e+04   2.50000000e+04   2.50000000e+04   2.50000000e+04\n",
      "    2.50000000e+04   2.50000000e+04   2.50000000e+04   2.50000000e+04\n",
      "    2.50000000e+04   2.50000000e+04   2.50000000e+04   2.50000000e+04\n",
      "    2.50000000e+04   2.50000000e+04   2.50000000e+04   2.50000000e+04\n",
      "    2.50000000e+04   2.50000000e+04   2.50000000e+04   2.50000000e+04\n",
      "    2.50000000e+04]]\n"
     ]
    }
   ],
   "source": [
    "NEG=npy.where(x<0)\n",
    "    \n",
    "U[0,NEG]=1\n",
    "U[0,NEG[-1][-1]+1:]=0.125   #Density\n",
    "    \n",
    "U[1,NEG]=0.\n",
    "U[1,NEG[-1][-1]+1:]=0.   #Velocity\n",
    "    \n",
    "U[2,NEG]=100000/(1.4-1)\n",
    "U[2,NEG[-1][-1]+1:]=10000/(1.4-1)    #Pressure quantity\n",
    "    \n",
    "    \n",
    "print(U)"
   ]
  },
  {
   "cell_type": "markdown",
   "metadata": {},
   "source": [
    "This next code tries to set the relationships for the Flux_Vector with U as the input, so In terms of Uvector U[0], U[1], U[2]"
   ]
  },
  {
   "cell_type": "code",
   "execution_count": 201,
   "metadata": {
    "collapsed": false
   },
   "outputs": [
    {
     "name": "stdout",
     "output_type": "stream",
     "text": [
      "[[ 0.  0.  0.  0.  0.  0.  0.  0.  0.  0.  0.  0.  0.  0.  0.  0.  0.  0.\n",
      "   0.  0.  0.  0.  0.  0.  0.  0.  0.  0.  0.  0.  0.  0.  0.  0.  0.  0.\n",
      "   0.  0.  0.  0.  0.  0.  0.  0.  0.  0.  0.  0.  0.  0.  0.  0.  0.  0.\n",
      "   0.  0.  0.  0.  0.  0.  0.  0.  0.  0.  0.  0.  0.  0.  0.  0.  0.  0.\n",
      "   0.  0.  0.  0.  0.  0.  0.  0.  0.]\n",
      " [ 0.  0.  0.  0.  0.  0.  0.  0.  0.  0.  0.  0.  0.  0.  0.  0.  0.  0.\n",
      "   0.  0.  0.  0.  0.  0.  0.  0.  0.  0.  0.  0.  0.  0.  0.  0.  0.  0.\n",
      "   0.  0.  0.  0.  0.  0.  0.  0.  0.  0.  0.  0.  0.  0.  0.  0.  0.  0.\n",
      "   0.  0.  0.  0.  0.  0.  0.  0.  0.  0.  0.  0.  0.  0.  0.  0.  0.  0.\n",
      "   0.  0.  0.  0.  0.  0.  0.  0.  0.]\n",
      " [ 0.  0.  0.  0.  0.  0.  0.  0.  0.  0.  0.  0.  0.  0.  0.  0.  0.  0.\n",
      "   0.  0.  0.  0.  0.  0.  0.  0.  0.  0.  0.  0.  0.  0.  0.  0.  0.  0.\n",
      "   0.  0.  0.  0.  0.  0.  0.  0.  0.  0.  0.  0.  0.  0.  0.  0.  0.  0.\n",
      "   0.  0.  0.  0.  0.  0.  0.  0.  0.  0.  0.  0.  0.  0.  0.  0.  0.  0.\n",
      "   0.  0.  0.  0.  0.  0.  0.  0.  0.]]\n"
     ]
    }
   ],
   "source": [
    "F=npy.zeros((3,n),dtype=float)  #F is also a 3Xn matrix\n",
    "\n",
    "F[0,:]=U[1,:]  #F[0] = U[1], the velocity row\n",
    "\n",
    "print(F)"
   ]
  },
  {
   "cell_type": "markdown",
   "metadata": {},
   "source": [
    "zero makes sense... since initial velocity is zero"
   ]
  },
  {
   "cell_type": "code",
   "execution_count": 202,
   "metadata": {
    "collapsed": false
   },
   "outputs": [
    {
     "name": "stdout",
     "output_type": "stream",
     "text": [
      "[[      0.       0.       0.       0.       0.       0.       0.       0.\n",
      "        0.       0.       0.       0.       0.       0.       0.       0.\n",
      "        0.       0.       0.       0.       0.       0.       0.       0.\n",
      "        0.       0.       0.       0.       0.       0.       0.       0.\n",
      "        0.       0.       0.       0.       0.       0.       0.       0.\n",
      "        0.       0.       0.       0.       0.       0.       0.       0.\n",
      "        0.       0.       0.       0.       0.       0.       0.       0.\n",
      "        0.       0.       0.       0.       0.       0.       0.       0.\n",
      "        0.       0.       0.       0.       0.       0.       0.       0.\n",
      "        0.       0.       0.       0.       0.       0.       0.       0.\n",
      "        0.]\n",
      " [ 100000.  100000.  100000.  100000.  100000.  100000.  100000.  100000.\n",
      "   100000.  100000.  100000.  100000.  100000.  100000.  100000.  100000.\n",
      "   100000.  100000.  100000.  100000.  100000.  100000.  100000.  100000.\n",
      "   100000.  100000.  100000.  100000.  100000.  100000.  100000.  100000.\n",
      "   100000.  100000.  100000.  100000.  100000.  100000.  100000.  100000.\n",
      "    10000.   10000.   10000.   10000.   10000.   10000.   10000.   10000.\n",
      "    10000.   10000.   10000.   10000.   10000.   10000.   10000.   10000.\n",
      "    10000.   10000.   10000.   10000.   10000.   10000.   10000.   10000.\n",
      "    10000.   10000.   10000.   10000.   10000.   10000.   10000.   10000.\n",
      "    10000.   10000.   10000.   10000.   10000.   10000.   10000.   10000.\n",
      "    10000.]\n",
      " [      0.       0.       0.       0.       0.       0.       0.       0.\n",
      "        0.       0.       0.       0.       0.       0.       0.       0.\n",
      "        0.       0.       0.       0.       0.       0.       0.       0.\n",
      "        0.       0.       0.       0.       0.       0.       0.       0.\n",
      "        0.       0.       0.       0.       0.       0.       0.       0.\n",
      "        0.       0.       0.       0.       0.       0.       0.       0.\n",
      "        0.       0.       0.       0.       0.       0.       0.       0.\n",
      "        0.       0.       0.       0.       0.       0.       0.       0.\n",
      "        0.       0.       0.       0.       0.       0.       0.       0.\n",
      "        0.       0.       0.       0.       0.       0.       0.       0.\n",
      "        0.]]\n"
     ]
    }
   ],
   "source": [
    "\n",
    "F[1,:]=(U[1,:]**2/U[0,:])+(gamma-1)*(U[2,:]-0.5*(U[1,:]**2/U[0,:]))\n",
    "print(F)\n"
   ]
  },
  {
   "cell_type": "code",
   "execution_count": 203,
   "metadata": {
    "collapsed": false
   },
   "outputs": [
    {
     "name": "stdout",
     "output_type": "stream",
     "text": [
      "[[      0.       0.       0.       0.       0.       0.       0.       0.\n",
      "        0.       0.       0.       0.       0.       0.       0.       0.\n",
      "        0.       0.       0.       0.       0.       0.       0.       0.\n",
      "        0.       0.       0.       0.       0.       0.       0.       0.\n",
      "        0.       0.       0.       0.       0.       0.       0.       0.\n",
      "        0.       0.       0.       0.       0.       0.       0.       0.\n",
      "        0.       0.       0.       0.       0.       0.       0.       0.\n",
      "        0.       0.       0.       0.       0.       0.       0.       0.\n",
      "        0.       0.       0.       0.       0.       0.       0.       0.\n",
      "        0.       0.       0.       0.       0.       0.       0.       0.\n",
      "        0.]\n",
      " [ 100000.  100000.  100000.  100000.  100000.  100000.  100000.  100000.\n",
      "   100000.  100000.  100000.  100000.  100000.  100000.  100000.  100000.\n",
      "   100000.  100000.  100000.  100000.  100000.  100000.  100000.  100000.\n",
      "   100000.  100000.  100000.  100000.  100000.  100000.  100000.  100000.\n",
      "   100000.  100000.  100000.  100000.  100000.  100000.  100000.  100000.\n",
      "    10000.   10000.   10000.   10000.   10000.   10000.   10000.   10000.\n",
      "    10000.   10000.   10000.   10000.   10000.   10000.   10000.   10000.\n",
      "    10000.   10000.   10000.   10000.   10000.   10000.   10000.   10000.\n",
      "    10000.   10000.   10000.   10000.   10000.   10000.   10000.   10000.\n",
      "    10000.   10000.   10000.   10000.   10000.   10000.   10000.   10000.\n",
      "    10000.]\n",
      " [      0.       0.       0.       0.       0.       0.       0.       0.\n",
      "        0.       0.       0.       0.       0.       0.       0.       0.\n",
      "        0.       0.       0.       0.       0.       0.       0.       0.\n",
      "        0.       0.       0.       0.       0.       0.       0.       0.\n",
      "        0.       0.       0.       0.       0.       0.       0.       0.\n",
      "        0.       0.       0.       0.       0.       0.       0.       0.\n",
      "        0.       0.       0.       0.       0.       0.       0.       0.\n",
      "        0.       0.       0.       0.       0.       0.       0.       0.\n",
      "        0.       0.       0.       0.       0.       0.       0.       0.\n",
      "        0.       0.       0.       0.       0.       0.       0.       0.\n",
      "        0.]]\n"
     ]
    }
   ],
   "source": [
    "F[2,:]=(U[2,:]+(gamma-1)*(U[2,:]-0.5*(U[1,:]**2/U[0,:])))*(U[1,:]/U[0,:])\n",
    "print(F)"
   ]
  },
  {
   "cell_type": "markdown",
   "metadata": {},
   "source": [
    "All zeros for the 3rd row, but, makes sense since U2 (velocity) was zero at time t=0"
   ]
  },
  {
   "cell_type": "code",
   "execution_count": 204,
   "metadata": {
    "collapsed": true
   },
   "outputs": [],
   "source": [
    "F[0,:]=U[1,:]\n",
    "F[1,:]=(U[1,:]**2/U[0,:])+(gamma-1)*(U[2,:]-0.5*(U[1,:]**2/U[0,:]))\t\n",
    "F[2,:]=(U[2,:]+(gamma-1)*(U[2,:]-0.5*(U[1,:]**2/U[0,:])))*(U[1,:]/U[0,:])"
   ]
  },
  {
   "cell_type": "markdown",
   "metadata": {},
   "source": [
    "Now we try the Euler/Richtmyer math"
   ]
  },
  {
   "cell_type": "code",
   "execution_count": 205,
   "metadata": {
    "collapsed": false
   },
   "outputs": [
    {
     "ename": "TypeError",
     "evalue": "'tuple' object is not callable",
     "output_type": "error",
     "traceback": [
      "\u001b[1;31m---------------------------------------------------------------------------\u001b[0m",
      "\u001b[1;31mTypeError\u001b[0m                                 Traceback (most recent call last)",
      "\u001b[1;32m<ipython-input-205-a9437869963e>\u001b[0m in \u001b[0;36m<module>\u001b[1;34m()\u001b[0m\n\u001b[0;32m      1\u001b[0m \u001b[0mustar\u001b[0m\u001b[1;33m=\u001b[0m\u001b[0mu\u001b[0m\u001b[1;33m.\u001b[0m\u001b[0mcopy\u001b[0m\u001b[1;33m(\u001b[0m\u001b[1;33m)\u001b[0m\u001b[1;33m\u001b[0m\u001b[0m\n\u001b[0;32m      2\u001b[0m \u001b[1;33m\u001b[0m\u001b[0m\n\u001b[1;32m----> 3\u001b[1;33m \u001b[1;32mfor\u001b[0m \u001b[0mi\u001b[0m \u001b[1;32min\u001b[0m \u001b[0mrange\u001b[0m\u001b[1;33m(\u001b[0m\u001b[0mnt\u001b[0m\u001b[1;33m)\u001b[0m\u001b[1;33m:\u001b[0m\u001b[1;33m\u001b[0m\u001b[0m\n\u001b[0m\u001b[0;32m      4\u001b[0m     \u001b[0mun\u001b[0m\u001b[1;33m=\u001b[0m\u001b[0mu\u001b[0m\u001b[1;33m.\u001b[0m\u001b[0mcopy\u001b[0m\u001b[1;33m(\u001b[0m\u001b[1;33m)\u001b[0m\u001b[1;33m\u001b[0m\u001b[0m\n\u001b[0;32m      5\u001b[0m     \u001b[0mF\u001b[0m\u001b[1;33m=\u001b[0m\u001b[0mget_f\u001b[0m\u001b[1;33m(\u001b[0m\u001b[0mun\u001b[0m\u001b[1;33m)\u001b[0m\u001b[1;33m\u001b[0m\u001b[0m\n",
      "\u001b[1;31mTypeError\u001b[0m: 'tuple' object is not callable"
     ]
    }
   ],
   "source": [
    "ustar=u.copy()\n",
    "\n",
    "for i in range(nt):\n",
    "    un=u.copy()\n",
    "    F=get_f(un)\n",
    "    ustar[:,:]=0.5*(un[:,:]+un[:,:])-(dt/(2*dx))*(F[:,:]-F[:,:])\n",
    "    ustar[:,0]=ustar[:,1]\n",
    "    Fs=get_f(ustar)\n",
    "    u[:,:]=un[:,:]-(dt/dx)*(Fs[:,:]-Fs[:,:])\n",
    "    u[:,0]=u[:,1]\n",
    "    u[:,]=u[:,]\n",
    "   "
   ]
  },
  {
   "cell_type": "code",
   "execution_count": null,
   "metadata": {
    "collapsed": true
   },
   "outputs": [],
   "source": []
  }
 ],
 "metadata": {
  "kernelspec": {
   "display_name": "Python 3",
   "language": "python",
   "name": "python3"
  },
  "language_info": {
   "codemirror_mode": {
    "name": "ipython",
    "version": 3
   },
   "file_extension": ".py",
   "mimetype": "text/x-python",
   "name": "python",
   "nbconvert_exporter": "python",
   "pygments_lexer": "ipython3",
   "version": "3.4.3"
  }
 },
 "nbformat": 4,
 "nbformat_minor": 0
}
