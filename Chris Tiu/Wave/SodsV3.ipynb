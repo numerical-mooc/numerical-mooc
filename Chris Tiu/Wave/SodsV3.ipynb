{
 "cells": [
  {
   "cell_type": "markdown",
   "metadata": {},
   "source": [
    "This code is to Solve Sod's Problem using the Richtmyer Method"
   ]
  },
  {
   "cell_type": "code",
   "execution_count": 51,
   "metadata": {
    "collapsed": true
   },
   "outputs": [],
   "source": [
    "import numpy as npy\n",
    "import matplotlib.pyplot as PLT\n",
    "from matplotlib import animation\n",
    "import sympy\n",
    "sympy.init_printing()"
   ]
  },
  {
   "cell_type": "code",
   "execution_count": 52,
   "metadata": {
    "collapsed": true
   },
   "outputs": [],
   "source": [
    " rho, U, P, U_Vector,F_Vector, D_T, D_X, E_T= sympy.symbols('rho U P U_Vector F_Vector (d/dt) (d/dx) e_T')"
   ]
  },
  {
   "cell_type": "code",
   "execution_count": 53,
   "metadata": {
    "collapsed": false
   },
   "outputs": [
    {
     "data": {
      "image/png": "[encoded data removed]",
      "text/latex": [
       "$$(d/dt) U_{Vector} + (d/dx) F_{Vector} = 0$$"
      ],
      "text/plain": [
       "(d/dt)⋅U_Vector + (d/dx)⋅F_Vector = 0"
      ]
     },
     "execution_count": 53,
     "metadata": {},
     "output_type": "execute_result"
    }
   ],
   "source": [
    "EULER_Vector = sympy.Eq(D_T*U_Vector + D_X*F_Vector, 0)\n",
    "EULER_Vector"
   ]
  },
  {
   "cell_type": "markdown",
   "metadata": {},
   "source": [
    "The above fits the standard form of a conservation equation, only the 'Conserved Quantity\" is the U_Vector and the Flux of this conserved quantity is the F_Vector, and both of them are 3X1 vectors"
   ]
  },
  {
   "cell_type": "markdown",
   "metadata": {},
   "source": [
    "This first code below tries to set up the vector and initial conditions for U_Vector"
   ]
  },
  {
   "cell_type": "code",
   "execution_count": 54,
   "metadata": {
    "collapsed": false
   },
   "outputs": [],
   "source": [
    "#Standard X array sizes, dt, dx, and time steps\n",
    "nx= 81                   \n",
    "dx= 20.0/(nx-1)\n",
    "dt=0.0002\n",
    "nt=int(.01/dt)\n",
    "\n",
    "x = npy.linspace(-10.,10.,nx)   #Sets up my X array\n",
    "gamma=1.4  \n",
    "n=len(x) \n",
    "    \n",
    "U=npy.zeros((3,n),dtype=float)  #Sets up U as a 3 by n matrix where U[0] is density, U[1] is rho*U, and U[2]is pressure\n",
    "#Each row,[0][1][2] is an n length array\n",
    "#Pressure is calculated using the equation of state with gamma = 1.4\n",
    "gamma=1.4\n",
    "n=len(x)\n",
    "    \n",
    "U=npy.zeros((3,n),dtype=float)\n",
    "\n",
    "    \n",
    "NEG=npy.where(x<0)\n",
    "    \n",
    "U[0,NEG]=1\n",
    "U[0,NEG[-1][-1]+1:]=0.125   #Density\n",
    "    \n",
    "U[1,NEG]=0.\n",
    "U[1,NEG[-1][-1]+1:]=0.   #Velocity\n",
    "    \n",
    "U[2,NEG]=100000/(1.4-1)\n",
    "U[2,NEG[-1][-1]+1:]=10000/(1.4-1)    #Pressure quantity"
   ]
  },
  {
   "cell_type": "code",
   "execution_count": 55,
   "metadata": {
    "collapsed": false
   },
   "outputs": [
    {
     "name": "stdout",
     "output_type": "stream",
     "text": [
      "[[  1.00000000e+00   1.00000000e+00   1.00000000e+00   1.00000000e+00\n",
      "    1.00000000e+00   1.00000000e+00   1.00000000e+00   1.00000000e+00\n",
      "    1.00000000e+00   1.00000000e+00   1.00000000e+00   1.00000000e+00\n",
      "    1.00000000e+00   1.00000000e+00   1.00000000e+00   1.00000000e+00\n",
      "    1.00000000e+00   1.00000000e+00   1.00000000e+00   1.00000000e+00\n",
      "    1.00000000e+00   1.00000000e+00   1.00000000e+00   1.00000000e+00\n",
      "    1.00000000e+00   1.00000000e+00   1.00000000e+00   1.00000000e+00\n",
      "    1.00000000e+00   1.00000000e+00   1.00000000e+00   1.00000000e+00\n",
      "    1.00000000e+00   1.00000000e+00   1.00000000e+00   1.00000000e+00\n",
      "    1.00000000e+00   1.00000000e+00   1.00000000e+00   1.00000000e+00\n",
      "    1.25000000e-01   1.25000000e-01   1.25000000e-01   1.25000000e-01\n",
      "    1.25000000e-01   1.25000000e-01   1.25000000e-01   1.25000000e-01\n",
      "    1.25000000e-01   1.25000000e-01   1.25000000e-01   1.25000000e-01\n",
      "    1.25000000e-01   1.25000000e-01   1.25000000e-01   1.25000000e-01\n",
      "    1.25000000e-01   1.25000000e-01   1.25000000e-01   1.25000000e-01\n",
      "    1.25000000e-01   1.25000000e-01   1.25000000e-01   1.25000000e-01\n",
      "    1.25000000e-01   1.25000000e-01   1.25000000e-01   1.25000000e-01\n",
      "    1.25000000e-01   1.25000000e-01   1.25000000e-01   1.25000000e-01\n",
      "    1.25000000e-01   1.25000000e-01   1.25000000e-01   1.25000000e-01\n",
      "    1.25000000e-01   1.25000000e-01   1.25000000e-01   1.25000000e-01\n",
      "    1.25000000e-01]\n",
      " [  0.00000000e+00   0.00000000e+00   0.00000000e+00   0.00000000e+00\n",
      "    0.00000000e+00   0.00000000e+00   0.00000000e+00   0.00000000e+00\n",
      "    0.00000000e+00   0.00000000e+00   0.00000000e+00   0.00000000e+00\n",
      "    0.00000000e+00   0.00000000e+00   0.00000000e+00   0.00000000e+00\n",
      "    0.00000000e+00   0.00000000e+00   0.00000000e+00   0.00000000e+00\n",
      "    0.00000000e+00   0.00000000e+00   0.00000000e+00   0.00000000e+00\n",
      "    0.00000000e+00   0.00000000e+00   0.00000000e+00   0.00000000e+00\n",
      "    0.00000000e+00   0.00000000e+00   0.00000000e+00   0.00000000e+00\n",
      "    0.00000000e+00   0.00000000e+00   0.00000000e+00   0.00000000e+00\n",
      "    0.00000000e+00   0.00000000e+00   0.00000000e+00   0.00000000e+00\n",
      "    0.00000000e+00   0.00000000e+00   0.00000000e+00   0.00000000e+00\n",
      "    0.00000000e+00   0.00000000e+00   0.00000000e+00   0.00000000e+00\n",
      "    0.00000000e+00   0.00000000e+00   0.00000000e+00   0.00000000e+00\n",
      "    0.00000000e+00   0.00000000e+00   0.00000000e+00   0.00000000e+00\n",
      "    0.00000000e+00   0.00000000e+00   0.00000000e+00   0.00000000e+00\n",
      "    0.00000000e+00   0.00000000e+00   0.00000000e+00   0.00000000e+00\n",
      "    0.00000000e+00   0.00000000e+00   0.00000000e+00   0.00000000e+00\n",
      "    0.00000000e+00   0.00000000e+00   0.00000000e+00   0.00000000e+00\n",
      "    0.00000000e+00   0.00000000e+00   0.00000000e+00   0.00000000e+00\n",
      "    0.00000000e+00   0.00000000e+00   0.00000000e+00   0.00000000e+00\n",
      "    0.00000000e+00]\n",
      " [  2.50000000e+05   2.50000000e+05   2.50000000e+05   2.50000000e+05\n",
      "    2.50000000e+05   2.50000000e+05   2.50000000e+05   2.50000000e+05\n",
      "    2.50000000e+05   2.50000000e+05   2.50000000e+05   2.50000000e+05\n",
      "    2.50000000e+05   2.50000000e+05   2.50000000e+05   2.50000000e+05\n",
      "    2.50000000e+05   2.50000000e+05   2.50000000e+05   2.50000000e+05\n",
      "    2.50000000e+05   2.50000000e+05   2.50000000e+05   2.50000000e+05\n",
      "    2.50000000e+05   2.50000000e+05   2.50000000e+05   2.50000000e+05\n",
      "    2.50000000e+05   2.50000000e+05   2.50000000e+05   2.50000000e+05\n",
      "    2.50000000e+05   2.50000000e+05   2.50000000e+05   2.50000000e+05\n",
      "    2.50000000e+05   2.50000000e+05   2.50000000e+05   2.50000000e+05\n",
      "    2.50000000e+04   2.50000000e+04   2.50000000e+04   2.50000000e+04\n",
      "    2.50000000e+04   2.50000000e+04   2.50000000e+04   2.50000000e+04\n",
      "    2.50000000e+04   2.50000000e+04   2.50000000e+04   2.50000000e+04\n",
      "    2.50000000e+04   2.50000000e+04   2.50000000e+04   2.50000000e+04\n",
      "    2.50000000e+04   2.50000000e+04   2.50000000e+04   2.50000000e+04\n",
      "    2.50000000e+04   2.50000000e+04   2.50000000e+04   2.50000000e+04\n",
      "    2.50000000e+04   2.50000000e+04   2.50000000e+04   2.50000000e+04\n",
      "    2.50000000e+04   2.50000000e+04   2.50000000e+04   2.50000000e+04\n",
      "    2.50000000e+04   2.50000000e+04   2.50000000e+04   2.50000000e+04\n",
      "    2.50000000e+04   2.50000000e+04   2.50000000e+04   2.50000000e+04\n",
      "    2.50000000e+04]]\n"
     ]
    }
   ],
   "source": [
    "print(U)"
   ]
  },
  {
   "cell_type": "markdown",
   "metadata": {},
   "source": [
    "This Flux calculation function will be used and called in every iteration of the Richtmeyer method"
   ]
  },
  {
   "cell_type": "code",
   "execution_count": 56,
   "metadata": {
    "collapsed": true
   },
   "outputs": [],
   "source": [
    "\n",
    "def Flux_calc(U):\n",
    "    gamma=1.4\n",
    "    n=len(U[0,:])\n",
    "    \n",
    "    F=npy.zeros((3,n),dtype=float)\n",
    "    \n",
    "    F[0,:]=U[1,:]\n",
    "    F[1,:]=(U[1,:]**2/U[0,:])+(gamma-1)*(U[2,:]-0.5*(U[1,:]**2/U[0,:]))\t\n",
    "    F[2,:]=(U[2,:]+(gamma-1)*(U[2,:]-0.5*(U[1,:]**2/U[0,:])))*(U[1,:]/U[0,:])\n",
    "    \n",
    "    return F"
   ]
  },
  {
   "cell_type": "code",
   "execution_count": 57,
   "metadata": {
    "collapsed": true
   },
   "outputs": [],
   "source": [
    "\n",
    "def solver(u, nt, dt, dx):\n",
    "    ustar=u.copy()\n",
    "\n",
    "    for i in range(nt):\n",
    "        un=u.copy()\n",
    "        F=Flux_calc(un)\n",
    "      \n",
    "        ustar[:,:-1]=0.5*(un[:,1:]+un[:,:-1])-(dt/(2*dx))*(F[:,1:]-F[:,:-1])\n",
    "        ustar[:,0]=ustar[:,1]\n",
    "        Fs=Flux_calc(ustar)\n",
    "    \n",
    "        u[:,1:-1]=un[:,1:-1]-(dt/dx)*(Fs[:,1:-1]-Fs[:,:-2])\n",
    "        u[:,0]=u[:,1]\n",
    "        u[:,-1]=u[:,-2]\n",
    "        \n",
    "    return u\n",
    "\n",
    "    "
   ]
  },
  {
   "cell_type": "code",
   "execution_count": 58,
   "metadata": {
    "collapsed": false
   },
   "outputs": [
    {
     "name": "stdout",
     "output_type": "stream",
     "text": [
      "The Velocity is: [[ 292.61147153]]\n",
      "The Presure is: [[ 30250.89016757]]\n",
      "The Density is: [[ 0.3746914]]\n"
     ]
    },
    {
     "data": {
      "image/png": "[encoded data removed]",
      "text/plain": [
       "<matplotlib.figure.Figure at 0x99dbda0>"
      ]
     },
     "metadata": {},
     "output_type": "display_data"
    },
    {
     "data": {
      "image/png": "[encoded data removed]",
      "text/plain": [
       "<matplotlib.figure.Figure at 0x9a1d780>"
      ]
     },
     "metadata": {},
     "output_type": "display_data"
    },
    {
     "data": {
      "image/png": "[encoded data removed]",
      "text/plain": [
       "<matplotlib.figure.Figure at 0x92e0e80>"
      ]
     },
     "metadata": {},
     "output_type": "display_data"
    }
   ],
   "source": [
    "\n",
    "u=solver(U,nt,dt,dx)\n",
    "\n",
    "RANGE=npy.where(x==2.5)\n",
    "print (\"The Velocity is:\", u[1,RANGE]/u[0,RANGE])\n",
    "print (\"The Presure is:\", 0.4*(u[2,RANGE]-0.5*u[1,RANGE]**2/u[0,RANGE]))\n",
    "print (\"The Density is:\",u[0,RANGE])\n",
    "\n",
    "%matplotlib inline\n",
    "PLT.plot(x,u[1,:]/u[0,:])\n",
    "PLT.show()\n",
    "\n",
    "PLT.plot(x,0.4*(u[2,:]-u[1,:]**2/u[0,:]))\n",
    "PLT.show()\n",
    "\n",
    "PLT.plot(x,u[0,:])\n",
    "PLT.show()\n"
   ]
  },
  {
   "cell_type": "code",
   "execution_count": null,
   "metadata": {
    "collapsed": true
   },
   "outputs": [],
   "source": []
  }
 ],
 "metadata": {
  "kernelspec": {
   "display_name": "Python 3",
   "language": "python",
   "name": "python3"
  },
  "language_info": {
   "codemirror_mode": {
    "name": "ipython",
    "version": 3
   },
   "file_extension": ".py",
   "mimetype": "text/x-python",
   "name": "python",
   "nbconvert_exporter": "python",
   "pygments_lexer": "ipython3",
   "version": "3.4.3"
  }
 },
 "nbformat": 4,
 "nbformat_minor": 0
}
