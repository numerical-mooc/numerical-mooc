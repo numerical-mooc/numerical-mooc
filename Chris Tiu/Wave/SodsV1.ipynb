{
 "cells": [
  {
   "cell_type": "markdown",
   "metadata": {},
   "source": [
    "This Code is to Solve Sod's Tube Problem"
   ]
  },
  {
   "cell_type": "code",
   "execution_count": 15,
   "metadata": {
    "collapsed": true
   },
   "outputs": [],
   "source": [
    "import numpy as npy\n",
    "import matplotlib.pyplot as plt\n",
    "from matplotlib import animation\n",
    "import sympy\n",
    "sympy.init_printing()"
   ]
  },
  {
   "cell_type": "code",
   "execution_count": 16,
   "metadata": {
    "collapsed": true
   },
   "outputs": [],
   "source": [
    " rho, U, P, U_Vector,F_Vector, D_T, D_X, E_T= sympy.symbols('rho U P U_Vector F_Vector (d/dt) (d/dx) e_T')\n"
   ]
  },
  {
   "cell_type": "markdown",
   "metadata": {},
   "source": [
    "The above fits the standard form of a conservation equation, only the 'Conserved Quantity\" is the U_Vector and the Flux of this conserved quantity is the F_Vector, and both of them are 3X1 vectors\n"
   ]
  },
  {
   "cell_type": "markdown",
   "metadata": {},
   "source": [
    "This first code below tries to set up the vector and initial conditions for U_Vector"
   ]
  },
  {
   "cell_type": "code",
   "execution_count": 17,
   "metadata": {
    "collapsed": false
   },
   "outputs": [],
   "source": [
    "#Standard X array sizes, dt, dx, and time steps\n",
    "nx= 81                   \n",
    "dx= 20.0/(nx-1)\n",
    "dt=0.0002\n",
    "nt=int(.01/dt)\n",
    "\n",
    "x = npy.linspace(-10.,10.,nx)   #Sets up my X array\n",
    "gamma=1.4  \n",
    "n=len(x) \n",
    "    \n",
    "U=npy.zeros((3,n),dtype=float)  #Sets up U as a 3 by n matrix where U[0] is density, U[1] is rho*U, and U[2]is pressure\n",
    "#Each row,[0][1][2] is an n length array\n",
    "#Pressure is calculated using the equation of state with gamma = 1.4\n",
    "gamma=1.4\n",
    "n=len(x)\n",
    "    \n",
    "U=npy.zeros((3,n),dtype=float)\n",
    "\n",
    "    \n",
    "NEG=npy.where(x<0)\n",
    "    \n",
    "U[0,NEG]=1\n",
    "U[0,NEG[-1][-1]+1:]=0.125   #Density\n",
    "    \n",
    "U[1,NEG]=0.\n",
    "U[1,NEG[-1][-1]+1:]=0.   #Velocity\n",
    "    \n",
    "U[2,NEG]=100000/(1.4-1)\n",
    "U[2,NEG[-1][-1]+1:]=10000/(1.4-1)    #Pressure quantity"
   ]
  },
  {
   "cell_type": "code",
   "execution_count": 18,
   "metadata": {
    "collapsed": false
   },
   "outputs": [
    {
     "name": "stdout",
     "output_type": "stream",
     "text": [
      "[[  1.00000000e+00   1.00000000e+00   1.00000000e+00   1.00000000e+00\n",
      "    1.00000000e+00   1.00000000e+00   1.00000000e+00   1.00000000e+00\n",
      "    1.00000000e+00   1.00000000e+00   1.00000000e+00   1.00000000e+00\n",
      "    1.00000000e+00   1.00000000e+00   1.00000000e+00   1.00000000e+00\n",
      "    1.00000000e+00   1.00000000e+00   1.00000000e+00   1.00000000e+00\n",
      "    1.00000000e+00   1.00000000e+00   1.00000000e+00   1.00000000e+00\n",
      "    1.00000000e+00   1.00000000e+00   1.00000000e+00   1.00000000e+00\n",
      "    1.00000000e+00   1.00000000e+00   1.00000000e+00   1.00000000e+00\n",
      "    1.00000000e+00   1.00000000e+00   1.00000000e+00   1.00000000e+00\n",
      "    1.00000000e+00   1.00000000e+00   1.00000000e+00   1.00000000e+00\n",
      "    1.25000000e-01   1.25000000e-01   1.25000000e-01   1.25000000e-01\n",
      "    1.25000000e-01   1.25000000e-01   1.25000000e-01   1.25000000e-01\n",
      "    1.25000000e-01   1.25000000e-01   1.25000000e-01   1.25000000e-01\n",
      "    1.25000000e-01   1.25000000e-01   1.25000000e-01   1.25000000e-01\n",
      "    1.25000000e-01   1.25000000e-01   1.25000000e-01   1.25000000e-01\n",
      "    1.25000000e-01   1.25000000e-01   1.25000000e-01   1.25000000e-01\n",
      "    1.25000000e-01   1.25000000e-01   1.25000000e-01   1.25000000e-01\n",
      "    1.25000000e-01   1.25000000e-01   1.25000000e-01   1.25000000e-01\n",
      "    1.25000000e-01   1.25000000e-01   1.25000000e-01   1.25000000e-01\n",
      "    1.25000000e-01   1.25000000e-01   1.25000000e-01   1.25000000e-01\n",
      "    1.25000000e-01]\n",
      " [  0.00000000e+00   0.00000000e+00   0.00000000e+00   0.00000000e+00\n",
      "    0.00000000e+00   0.00000000e+00   0.00000000e+00   0.00000000e+00\n",
      "    0.00000000e+00   0.00000000e+00   0.00000000e+00   0.00000000e+00\n",
      "    0.00000000e+00   0.00000000e+00   0.00000000e+00   0.00000000e+00\n",
      "    0.00000000e+00   0.00000000e+00   0.00000000e+00   0.00000000e+00\n",
      "    0.00000000e+00   0.00000000e+00   0.00000000e+00   0.00000000e+00\n",
      "    0.00000000e+00   0.00000000e+00   0.00000000e+00   0.00000000e+00\n",
      "    0.00000000e+00   0.00000000e+00   0.00000000e+00   0.00000000e+00\n",
      "    0.00000000e+00   0.00000000e+00   0.00000000e+00   0.00000000e+00\n",
      "    0.00000000e+00   0.00000000e+00   0.00000000e+00   0.00000000e+00\n",
      "    0.00000000e+00   0.00000000e+00   0.00000000e+00   0.00000000e+00\n",
      "    0.00000000e+00   0.00000000e+00   0.00000000e+00   0.00000000e+00\n",
      "    0.00000000e+00   0.00000000e+00   0.00000000e+00   0.00000000e+00\n",
      "    0.00000000e+00   0.00000000e+00   0.00000000e+00   0.00000000e+00\n",
      "    0.00000000e+00   0.00000000e+00   0.00000000e+00   0.00000000e+00\n",
      "    0.00000000e+00   0.00000000e+00   0.00000000e+00   0.00000000e+00\n",
      "    0.00000000e+00   0.00000000e+00   0.00000000e+00   0.00000000e+00\n",
      "    0.00000000e+00   0.00000000e+00   0.00000000e+00   0.00000000e+00\n",
      "    0.00000000e+00   0.00000000e+00   0.00000000e+00   0.00000000e+00\n",
      "    0.00000000e+00   0.00000000e+00   0.00000000e+00   0.00000000e+00\n",
      "    0.00000000e+00]\n",
      " [  2.50000000e+05   2.50000000e+05   2.50000000e+05   2.50000000e+05\n",
      "    2.50000000e+05   2.50000000e+05   2.50000000e+05   2.50000000e+05\n",
      "    2.50000000e+05   2.50000000e+05   2.50000000e+05   2.50000000e+05\n",
      "    2.50000000e+05   2.50000000e+05   2.50000000e+05   2.50000000e+05\n",
      "    2.50000000e+05   2.50000000e+05   2.50000000e+05   2.50000000e+05\n",
      "    2.50000000e+05   2.50000000e+05   2.50000000e+05   2.50000000e+05\n",
      "    2.50000000e+05   2.50000000e+05   2.50000000e+05   2.50000000e+05\n",
      "    2.50000000e+05   2.50000000e+05   2.50000000e+05   2.50000000e+05\n",
      "    2.50000000e+05   2.50000000e+05   2.50000000e+05   2.50000000e+05\n",
      "    2.50000000e+05   2.50000000e+05   2.50000000e+05   2.50000000e+05\n",
      "    2.50000000e+04   2.50000000e+04   2.50000000e+04   2.50000000e+04\n",
      "    2.50000000e+04   2.50000000e+04   2.50000000e+04   2.50000000e+04\n",
      "    2.50000000e+04   2.50000000e+04   2.50000000e+04   2.50000000e+04\n",
      "    2.50000000e+04   2.50000000e+04   2.50000000e+04   2.50000000e+04\n",
      "    2.50000000e+04   2.50000000e+04   2.50000000e+04   2.50000000e+04\n",
      "    2.50000000e+04   2.50000000e+04   2.50000000e+04   2.50000000e+04\n",
      "    2.50000000e+04   2.50000000e+04   2.50000000e+04   2.50000000e+04\n",
      "    2.50000000e+04   2.50000000e+04   2.50000000e+04   2.50000000e+04\n",
      "    2.50000000e+04   2.50000000e+04   2.50000000e+04   2.50000000e+04\n",
      "    2.50000000e+04   2.50000000e+04   2.50000000e+04   2.50000000e+04\n",
      "    2.50000000e+04]]\n"
     ]
    }
   ],
   "source": [
    "print(U)"
   ]
  },
  {
   "cell_type": "markdown",
   "metadata": {},
   "source": [
    "This Flux calculation function will be used and called in every iteration of the Richtmeyer method"
   ]
  },
  {
   "cell_type": "code",
   "execution_count": 19,
   "metadata": {
    "collapsed": true
   },
   "outputs": [],
   "source": [
    "def Flux_Calc(U):\n",
    "    gamma=1.4\n",
    "    n=len(U[0,:])\n",
    "    \n",
    "    F=npy.zeros((3,n),dtype=float)\n",
    "    \n",
    "    F[0,:]=U[1,:]\n",
    "    F[1,:]=(U[1,:]**2/U[0,:])+(gamma-1)*(U[2,:]-0.5*(U[1,:]**2/U[0,:]))\t\n",
    "    F[2,:]=(U[2,:]+(gamma-1)*(U[2,:]-0.5*(U[1,:]**2/U[0,:])))*(U[1,:]/U[0,:])\n",
    "    \n",
    "    return F\n"
   ]
  },
  {
   "cell_type": "code",
   "execution_count": 20,
   "metadata": {
    "collapsed": true
   },
   "outputs": [],
   "source": [
    "def Richtmyer(u, nt, dt, dx):\n",
    "    ustar=u.copy()\n",
    " \n",
    "    for i in range(nt):\n",
    "        un=u.copy()\n",
    "        F=Flux_Calc(un)\n",
    "        ustar[:,:-1]=0.5*(un[:,1:]+un[:,:-1])-(dt/(2*dx))*(F[:,1:]-F[:,:-1])\n",
    "        ustar[:,0]=ustar[:,1]\n",
    "        Fs=Flux_Calc(ustar)\n",
    "        u[:,1:-1]=un[:,1:-1]-(dt/dx)*(Fs[:,1:-1]-Fs[:,:-2])\n",
    "        u[:,0]=u[:,1]\n",
    "        u[:,-1]=u[:,-2]\n",
    "  \n",
    "    return u\n"
   ]
  },
  {
   "cell_type": "code",
   "execution_count": 21,
   "metadata": {
    "collapsed": false
   },
   "outputs": [
    {
     "ename": "TypeError",
     "evalue": "'tuple' object is not callable",
     "output_type": "error",
     "traceback": [
      "\u001b[1;31m---------------------------------------------------------------------------\u001b[0m",
      "\u001b[1;31mTypeError\u001b[0m                                 Traceback (most recent call last)",
      "\u001b[1;32m<ipython-input-21-7889ed21a17b>\u001b[0m in \u001b[0;36m<module>\u001b[1;34m()\u001b[0m\n\u001b[0;32m      1\u001b[0m \u001b[1;33m\u001b[0m\u001b[0m\n\u001b[1;32m----> 2\u001b[1;33m \u001b[0mu\u001b[0m\u001b[1;33m=\u001b[0m\u001b[0mRichtmyer\u001b[0m\u001b[1;33m(\u001b[0m\u001b[0mU\u001b[0m\u001b[1;33m,\u001b[0m\u001b[0mnt\u001b[0m\u001b[1;33m,\u001b[0m\u001b[0mdt\u001b[0m\u001b[1;33m,\u001b[0m\u001b[0mdx\u001b[0m\u001b[1;33m)\u001b[0m\u001b[1;33m\u001b[0m\u001b[0m\n\u001b[0m\u001b[0;32m      3\u001b[0m \u001b[1;33m\u001b[0m\u001b[0m\n\u001b[0;32m      4\u001b[0m \u001b[0mget_ipython\u001b[0m\u001b[1;33m(\u001b[0m\u001b[1;33m)\u001b[0m\u001b[1;33m.\u001b[0m\u001b[0mmagic\u001b[0m\u001b[1;33m(\u001b[0m\u001b[1;34m'matplotlib inline'\u001b[0m\u001b[1;33m)\u001b[0m\u001b[1;33m\u001b[0m\u001b[0m\n\u001b[0;32m      5\u001b[0m \u001b[0mplt\u001b[0m\u001b[1;33m.\u001b[0m\u001b[0mfigure\u001b[0m\u001b[1;33m(\u001b[0m\u001b[1;33m)\u001b[0m\u001b[1;33m\u001b[0m\u001b[0m\n",
      "\u001b[1;32m<ipython-input-20-f41315d45b85>\u001b[0m in \u001b[0;36mRichtmyer\u001b[1;34m(u, nt, dt, dx)\u001b[0m\n\u001b[0;32m      2\u001b[0m     \u001b[0mustar\u001b[0m\u001b[1;33m=\u001b[0m\u001b[0mu\u001b[0m\u001b[1;33m.\u001b[0m\u001b[0mcopy\u001b[0m\u001b[1;33m(\u001b[0m\u001b[1;33m)\u001b[0m\u001b[1;33m\u001b[0m\u001b[0m\n\u001b[0;32m      3\u001b[0m \u001b[1;33m\u001b[0m\u001b[0m\n\u001b[1;32m----> 4\u001b[1;33m     \u001b[1;32mfor\u001b[0m \u001b[0mi\u001b[0m \u001b[1;32min\u001b[0m \u001b[0mrange\u001b[0m\u001b[1;33m(\u001b[0m\u001b[0mnt\u001b[0m\u001b[1;33m)\u001b[0m\u001b[1;33m:\u001b[0m\u001b[1;33m\u001b[0m\u001b[0m\n\u001b[0m\u001b[0;32m      5\u001b[0m         \u001b[0mun\u001b[0m\u001b[1;33m=\u001b[0m\u001b[0mu\u001b[0m\u001b[1;33m.\u001b[0m\u001b[0mcopy\u001b[0m\u001b[1;33m(\u001b[0m\u001b[1;33m)\u001b[0m\u001b[1;33m\u001b[0m\u001b[0m\n\u001b[0;32m      6\u001b[0m         \u001b[0mF\u001b[0m\u001b[1;33m=\u001b[0m\u001b[0mFlux_Calc\u001b[0m\u001b[1;33m(\u001b[0m\u001b[0mun\u001b[0m\u001b[1;33m)\u001b[0m\u001b[1;33m\u001b[0m\u001b[0m\n",
      "\u001b[1;31mTypeError\u001b[0m: 'tuple' object is not callable"
     ]
    }
   ],
   "source": [
    "\n",
    "u=Richtmyer(U,nt,dt,dx)\n",
    "\n",
    "%matplotlib inline\n",
    "plt.figure()\n",
    "plt.plot(x,u[1,:]/u[0,:],'-b.')\n",
    "plt.show()\n",
    "\n",
    "plt.figure()\n",
    "plt.plot(x,0.4*(u[2,:]-u[1,:]**2/u[0,:]),'-b.')\n",
    "plt.show()\n",
    "\n",
    "plt.figure()\n",
    "plt.plot(x,u[0,:],'-b.')\n",
    "plt.show()\n",
    "\n",
    "range=npy.where(x==2.5)\n",
    "\n",
    "print (u[1,range]/u[0,range])\n",
    "print (0.4*(u[2,range]-0.5*u[1,range]**2/u[0,range]))\n",
    "print (u[0,range])"
   ]
  },
  {
   "cell_type": "code",
   "execution_count": null,
   "metadata": {
    "collapsed": true
   },
   "outputs": [],
   "source": []
  }
 ],
 "metadata": {
  "kernelspec": {
   "display_name": "Python 3",
   "language": "python",
   "name": "python3"
  },
  "language_info": {
   "codemirror_mode": {
    "name": "ipython",
    "version": 3
   },
   "file_extension": ".py",
   "mimetype": "text/x-python",
   "name": "python",
   "nbconvert_exporter": "python",
   "pygments_lexer": "ipython3",
   "version": "3.4.3"
  }
 },
 "nbformat": 4,
 "nbformat_minor": 0
}
