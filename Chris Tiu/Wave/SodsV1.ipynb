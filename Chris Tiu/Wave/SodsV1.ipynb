{
 "cells": [
  {
   "cell_type": "markdown",
   "metadata": {},
   "source": [
    "This Code is to Solve Sod's Tube Problem"
   ]
  },
  {
   "cell_type": "code",
   "execution_count": 10,
   "metadata": {
    "collapsed": true
   },
   "outputs": [],
   "source": [
    "import numpy as npy\n",
    "import matplotlib.pyplot as plt\n",
    "from matplotlib import animation\n",
    "import sympy\n",
    "sympy.init_printing()"
   ]
  },
  {
   "cell_type": "code",
   "execution_count": 11,
   "metadata": {
    "collapsed": true
   },
   "outputs": [],
   "source": [
    " rho, U, P, U_Vector,F_Vector, D_T, D_X, E_T= sympy.symbols('rho U P U_Vector F_Vector (d/dt) (d/dx) e_T')\n"
   ]
  },
  {
   "cell_type": "markdown",
   "metadata": {},
   "source": [
    "The above fits the standard form of a conservation equation, only the 'Conserved Quantity\" is the U_Vector and the Flux of this conserved quantity is the F_Vector, and both of them are 3X1 vectors\n"
   ]
  },
  {
   "cell_type": "markdown",
   "metadata": {},
   "source": [
    "This first code below tries to set up the vector and initial conditions for U_Vector"
   ]
  },
  {
   "cell_type": "code",
   "execution_count": 12,
   "metadata": {
    "collapsed": true
   },
   "outputs": [],
   "source": [
    "#Stanard X array sizes, dt, dx, and time steps\n",
    "nx= 81                   \n",
    "dx= 20.0/(nx-1)\n",
    "dt=0.0002\n",
    "nt=int(.01/dt)\n",
    "\n",
    "x = npy.linspace(-10.,10.,nx)   #Sets up my X array\n",
    "gamma=1.4  \n",
    "n=len(x) \n",
    "    \n",
    "U=npy.zeros((3,n),dtype=float)  #Sets up U as a 3 by n matrix where U[0] is density, U[1] is rho*U, and U[2]is pressure\n",
    "#Each row,[0][1][2] is an n length array\n",
    "#Pressure is calculated using the equation of state with gamma = 1.4"
   ]
  },
  {
   "cell_type": "code",
   "execution_count": null,
   "metadata": {
    "collapsed": true
   },
   "outputs": [],
   "source": []
  }
 ],
 "metadata": {
  "kernelspec": {
   "display_name": "Python 3",
   "language": "python",
   "name": "python3"
  },
  "language_info": {
   "codemirror_mode": {
    "name": "ipython",
    "version": 3
   },
   "file_extension": ".py",
   "mimetype": "text/x-python",
   "name": "python",
   "nbconvert_exporter": "python",
   "pygments_lexer": "ipython3",
   "version": "3.4.3"
  }
 },
 "nbformat": 4,
 "nbformat_minor": 0
}
