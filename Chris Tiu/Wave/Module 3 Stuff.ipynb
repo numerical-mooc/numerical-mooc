{
 "cells": [
  {
   "cell_type": "code",
   "execution_count": 42,
   "metadata": {
    "collapsed": true
   },
   "outputs": [],
   "source": [
    "import sympy\n",
    "sympy.init_printing()\n",
    "\n",
    "u_max, u_star, rho_max, rho_star, A, B = sympy.symbols('u_max u_star rho_max rho_star A B')"
   ]
  },
  {
   "cell_type": "code",
   "execution_count": 43,
   "metadata": {
    "collapsed": true
   },
   "outputs": [],
   "source": [
    "eq1 = sympy.Eq( 0, u_max*rho_max*(1 - A*rho_max-B*rho_max**2) )\n",
    "eq2 = sympy.Eq( 0, u_max*(1 - 2*A*rho_star-3*B*rho_star**2) )\n",
    "eq3 = sympy.Eq( u_star, u_max*(1 - A*rho_star - B*rho_star**2) )"
   ]
  },
  {
   "cell_type": "code",
   "execution_count": 44,
   "metadata": {
    "collapsed": false
   },
   "outputs": [
    {
     "data": {
      "image/png": "[encoded data removed]",
      "text/latex": [
       "$$0 = \\rho_{max} u_{max} \\left(- A \\rho_{max} - B \\rho_{max}^{2} + 1\\right)$$"
      ],
      "text/plain": [
       "                ⎛                  2    ⎞\n",
       "0 = ρ_max⋅u_max⋅⎝-A⋅ρ_max - B⋅ρ_max  + 1⎠"
      ]
     },
     "execution_count": 44,
     "metadata": {},
     "output_type": "execute_result"
    }
   ],
   "source": [
    "eq1"
   ]
  },
  {
   "cell_type": "code",
   "execution_count": 45,
   "metadata": {
    "collapsed": false
   },
   "outputs": [
    {
     "data": {
      "image/png": "[encoded data removed]",
      "text/latex": [
       "$$0 = u_{max} \\left(- 2 A \\rho_{star} - 3 B \\rho_{star}^{2} + 1\\right)$$"
      ],
      "text/plain": [
       "          ⎛                        2    ⎞\n",
       "0 = u_max⋅⎝-2⋅A⋅ρ_star - 3⋅B⋅ρ_star  + 1⎠"
      ]
     },
     "execution_count": 45,
     "metadata": {},
     "output_type": "execute_result"
    }
   ],
   "source": [
    "eq2"
   ]
  },
  {
   "cell_type": "code",
   "execution_count": 46,
   "metadata": {
    "collapsed": false
   },
   "outputs": [
    {
     "data": {
      "image/png": "[encoded data removed]",
      "text/latex": [
       "$$u_{star} = u_{max} \\left(- A \\rho_{star} - B \\rho_{star}^{2} + 1\\right)$$"
      ],
      "text/plain": [
       "               ⎛                    2    ⎞\n",
       "u_star = u_max⋅⎝-A⋅ρ_star - B⋅ρ_star  + 1⎠"
      ]
     },
     "execution_count": 46,
     "metadata": {},
     "output_type": "execute_result"
    }
   ],
   "source": [
    "eq3"
   ]
  },
  {
   "cell_type": "code",
   "execution_count": 47,
   "metadata": {
    "collapsed": false
   },
   "outputs": [
    {
     "data": {
      "image/png": "[encoded data removed]",
      "text/latex": [
       "$$0 = u_{max} \\left(- 2 A \\rho_{star} - 3 B \\rho_{star}^{2} + 1\\right) - 3 u_{star} = u_{max} \\left(- A \\rho_{star} - B \\rho_{star}^{2} + 1\\right)$$"
      ],
      "text/plain": [
       "          ⎛                        2    ⎞                    ⎛                \n",
       "0 = u_max⋅⎝-2⋅A⋅ρ_star - 3⋅B⋅ρ_star  + 1⎠ - 3⋅u_star = u_max⋅⎝-A⋅ρ_star - B⋅ρ_\n",
       "\n",
       "    2    ⎞\n",
       "star  + 1⎠"
      ]
     },
     "execution_count": 47,
     "metadata": {},
     "output_type": "execute_result"
    }
   ],
   "source": [
    "eq2 - 3*eq3"
   ]
  },
  {
   "cell_type": "code",
   "execution_count": 48,
   "metadata": {
    "collapsed": false
   },
   "outputs": [
    {
     "data": {
      "image/png": "[encoded data removed]",
      "text/latex": [
       "$$- 3 u_{star} = u_{max} \\left(- 2 A \\rho_{star} - 3 B \\rho_{star}^{2} + 1\\right) - 3 u_{max} \\left(- A \\rho_{star} - B \\rho_{star}^{2} + 1\\right)$$"
      ],
      "text/plain": [
       "                  ⎛                        2    ⎞           ⎛                 \n",
       "-3⋅u_star = u_max⋅⎝-2⋅A⋅ρ_star - 3⋅B⋅ρ_star  + 1⎠ - 3⋅u_max⋅⎝-A⋅ρ_star - B⋅ρ_s\n",
       "\n",
       "   2    ⎞\n",
       "tar  + 1⎠"
      ]
     },
     "execution_count": 48,
     "metadata": {},
     "output_type": "execute_result"
    }
   ],
   "source": [
    "eq4 = sympy.Eq(eq2.lhs - 3*eq3.lhs, eq2.rhs - 3*eq3.rhs)\n",
    "eq4"
   ]
  },
  {
   "cell_type": "code",
   "execution_count": 49,
   "metadata": {
    "collapsed": false
   },
   "outputs": [
    {
     "data": {
      "image/png": "[encoded data removed]",
      "text/latex": [
       "$$- 3 u_{star} = u_{max} \\left(A \\rho_{star} - 2\\right)$$"
      ],
      "text/plain": [
       "-3⋅u_star = u_max⋅(A⋅ρ_star - 2)"
      ]
     },
     "execution_count": 49,
     "metadata": {},
     "output_type": "execute_result"
    }
   ],
   "source": [
    "eq4.simplify()"
   ]
  },
  {
   "cell_type": "code",
   "execution_count": 50,
   "metadata": {
    "collapsed": false
   },
   "outputs": [
    {
     "data": {
      "image/png": "[encoded data removed]",
      "text/latex": [
       "$$- 3 u_{star} = u_{max} \\left(- 2 A \\rho_{star} - 3 B \\rho_{star}^{2} + 1\\right) - 3 u_{max} \\left(- A \\rho_{star} - B \\rho_{star}^{2} + 1\\right)$$"
      ],
      "text/plain": [
       "                  ⎛                        2    ⎞           ⎛                 \n",
       "-3⋅u_star = u_max⋅⎝-2⋅A⋅ρ_star - 3⋅B⋅ρ_star  + 1⎠ - 3⋅u_max⋅⎝-A⋅ρ_star - B⋅ρ_s\n",
       "\n",
       "   2    ⎞\n",
       "tar  + 1⎠"
      ]
     },
     "execution_count": 50,
     "metadata": {},
     "output_type": "execute_result"
    }
   ],
   "source": [
    "eq4"
   ]
  },
  {
   "cell_type": "code",
   "execution_count": 51,
   "metadata": {
    "collapsed": false
   },
   "outputs": [
    {
     "data": {
      "image/png": "[encoded data removed]",
      "text/latex": [
       "$$- 3 u_{star} = A \\rho_{star} u_{max} - 2 u_{max}$$"
      ],
      "text/plain": [
       "-3⋅u_star = A⋅ρ_star⋅u_max - 2⋅u_max"
      ]
     },
     "execution_count": 51,
     "metadata": {},
     "output_type": "execute_result"
    }
   ],
   "source": [
    "eq4.expand()"
   ]
  },
  {
   "cell_type": "code",
   "execution_count": 52,
   "metadata": {
    "collapsed": false
   },
   "outputs": [
    {
     "data": {
      "image/png": "[encoded data removed]",
      "text/latex": [
       "$$\\frac{1}{A u_{max}} \\left(2 u_{max} - 3 u_{star}\\right)$$"
      ],
      "text/plain": [
       "2⋅u_max - 3⋅u_star\n",
       "──────────────────\n",
       "     A⋅u_max      "
      ]
     },
     "execution_count": 52,
     "metadata": {},
     "output_type": "execute_result"
    }
   ],
   "source": [
    "rho_sol = sympy.solve(eq4,rho_star)[0]\n",
    "rho_sol"
   ]
  },
  {
   "cell_type": "code",
   "execution_count": 53,
   "metadata": {
    "collapsed": false
   },
   "outputs": [
    {
     "data": {
      "image/png": "[encoded data removed]",
      "text/latex": [
       "$$\\frac{1}{\\rho_{max}^{2}} \\left(- A \\rho_{max} + 1\\right)$$"
      ],
      "text/plain": [
       "-A⋅ρ_max + 1\n",
       "────────────\n",
       "        2   \n",
       "   ρ_max    "
      ]
     },
     "execution_count": 53,
     "metadata": {},
     "output_type": "execute_result"
    }
   ],
   "source": [
    "B_sol = sympy.solve(eq1,B)[0]\n",
    "B_sol"
   ]
  },
  {
   "cell_type": "code",
   "execution_count": 54,
   "metadata": {
    "collapsed": false
   },
   "outputs": [
    {
     "data": {
      "image/png": "[encoded data removed]",
      "text/latex": [
       "$$0 = u_{max} \\left(1 - \\frac{1}{u_{max}} \\left(4 u_{max} - 6 u_{star}\\right) - \\frac{3 \\left(2 u_{max} - 3 u_{star}\\right)^{2}}{A^{2} \\rho_{max}^{2} u_{max}^{2}} \\left(- A \\rho_{max} + 1\\right)\\right)$$"
      ],
      "text/plain": [
       "          ⎛                                                   2               \n",
       "          ⎜    2⋅(2⋅u_max - 3⋅u_star)   3⋅(2⋅u_max - 3⋅u_star) ⋅(-A⋅ρ_max + 1)\n",
       "0 = u_max⋅⎜1 - ────────────────────── - ──────────────────────────────────────\n",
       "          ⎜            u_max                        2      2      2           \n",
       "          ⎝                                        A ⋅ρ_max ⋅u_max            \n",
       "\n",
       "⎞\n",
       "⎟\n",
       "⎟\n",
       "⎟\n",
       "⎠"
      ]
     },
     "execution_count": 54,
     "metadata": {},
     "output_type": "execute_result"
    }
   ],
   "source": [
    "quadA = eq2.subs([(rho_star, rho_sol), (B,B_sol)])\n",
    "quadA"
   ]
  },
  {
   "cell_type": "code",
   "execution_count": 55,
   "metadata": {
    "collapsed": false
   },
   "outputs": [
    {
     "data": {
      "image/png": "[encoded data removed]",
      "text/latex": [
       "$$0 = - 3 u_{max} + 6 u_{star} + \\frac{3 \\left(2 u_{max} - 3 u_{star}\\right)^{2}}{A \\rho_{max} u_{max}} - \\frac{3 \\left(2 u_{max} - 3 u_{star}\\right)^{2}}{A^{2} \\rho_{max}^{2} u_{max}}$$"
      ],
      "text/plain": [
       "                                                2                         2\n",
       "                          3⋅(2⋅u_max - 3⋅u_star)    3⋅(2⋅u_max - 3⋅u_star) \n",
       "0 = -3⋅u_max + 6⋅u_star + ─────────────────────── - ───────────────────────\n",
       "                               A⋅ρ_max⋅u_max             2      2          \n",
       "                                                        A ⋅ρ_max ⋅u_max    "
      ]
     },
     "execution_count": 55,
     "metadata": {},
     "output_type": "execute_result"
    }
   ],
   "source": [
    "quadA.simplify()"
   ]
  },
  {
   "cell_type": "code",
   "execution_count": 56,
   "metadata": {
    "collapsed": true
   },
   "outputs": [],
   "source": [
    "A_sol = sympy.solve(quadA, A)"
   ]
  },
  {
   "cell_type": "code",
   "execution_count": 57,
   "metadata": {
    "collapsed": false
   },
   "outputs": [
    {
     "data": {
      "image/png": "[encoded data removed]",
      "text/latex": [
       "$$\\frac{1}{2 \\rho_{max}^{2} u_{max} \\left(u_{max} - 2 u_{star}\\right)} \\left(\\rho_{max} \\left(2 u_{max} - 3 u_{star}\\right)^{2} - \\sqrt{- \\rho_{max}^{2} u_{star} \\left(2 u_{max} - 3 u_{star}\\right)^{2} \\left(4 u_{max} - 9 u_{star}\\right)}\\right)$$"
      ],
      "text/plain": [
       "                                 _____________________________________________\n",
       "                          2     ╱       2                            2        \n",
       "ρ_max⋅(2⋅u_max - 3⋅u_star)  - ╲╱  -ρ_max ⋅u_star⋅(2⋅u_max - 3⋅u_star) ⋅(4⋅u_ma\n",
       "──────────────────────────────────────────────────────────────────────────────\n",
       "                                    2                                         \n",
       "                             2⋅ρ_max ⋅u_max⋅(u_max - 2⋅u_star)                \n",
       "\n",
       "______________\n",
       "              \n",
       "x - 9⋅u_star) \n",
       "──────────────\n",
       "              \n",
       "              "
      ]
     },
     "execution_count": 57,
     "metadata": {},
     "output_type": "execute_result"
    }
   ],
   "source": [
    "A_sol[0]"
   ]
  },
  {
   "cell_type": "code",
   "execution_count": 58,
   "metadata": {
    "collapsed": false
   },
   "outputs": [
    {
     "data": {
      "image/png": "[encoded data removed]",
      "text/latex": [
       "$$\\frac{1}{2 \\rho_{max}^{2} u_{max} \\left(u_{max} - 2 u_{star}\\right)} \\left(\\rho_{max} \\left(2 u_{max} - 3 u_{star}\\right)^{2} + \\sqrt{- \\rho_{max}^{2} u_{star} \\left(2 u_{max} - 3 u_{star}\\right)^{2} \\left(4 u_{max} - 9 u_{star}\\right)}\\right)$$"
      ],
      "text/plain": [
       "                                 _____________________________________________\n",
       "                          2     ╱       2                            2        \n",
       "ρ_max⋅(2⋅u_max - 3⋅u_star)  + ╲╱  -ρ_max ⋅u_star⋅(2⋅u_max - 3⋅u_star) ⋅(4⋅u_ma\n",
       "──────────────────────────────────────────────────────────────────────────────\n",
       "                                    2                                         \n",
       "                             2⋅ρ_max ⋅u_max⋅(u_max - 2⋅u_star)                \n",
       "\n",
       "______________\n",
       "              \n",
       "x - 9⋅u_star) \n",
       "──────────────\n",
       "              \n",
       "              "
      ]
     },
     "execution_count": 58,
     "metadata": {},
     "output_type": "execute_result"
    }
   ],
   "source": [
    "A_sol[1]"
   ]
  },
  {
   "cell_type": "code",
   "execution_count": 59,
   "metadata": {
    "collapsed": false
   },
   "outputs": [
    {
     "data": {
      "image/png": "[encoded data removed]",
      "text/latex": [
       "$$0.0146107219255619$$"
      ],
      "text/plain": [
       "0.0146107219255619"
      ]
     },
     "execution_count": 59,
     "metadata": {},
     "output_type": "execute_result"
    }
   ],
   "source": [
    "aval = A_sol[0].evalf(subs={u_star: 0.7, u_max:1.0, rho_max:10.0} )\n",
    "aval"
   ]
  },
  {
   "cell_type": "code",
   "execution_count": 60,
   "metadata": {
    "collapsed": false
   },
   "outputs": [
    {
     "data": {
      "image/png": "[encoded data removed]",
      "text/latex": [
       "$$-0.0171107219255619$$"
      ],
      "text/plain": [
       "-0.0171107219255619"
      ]
     },
     "execution_count": 60,
     "metadata": {},
     "output_type": "execute_result"
    }
   ],
   "source": [
    "A_sol[1].evalf(subs={u_star: 0.7, u_max:1.0, rho_max:10.0} )"
   ]
  },
  {
   "cell_type": "code",
   "execution_count": 61,
   "metadata": {
    "collapsed": false
   },
   "outputs": [
    {
     "data": {
      "image/png": "[encoded data removed]",
      "text/latex": [
       "$$0.00853892780744381$$"
      ],
      "text/plain": [
       "0.00853892780744381"
      ]
     },
     "execution_count": 61,
     "metadata": {},
     "output_type": "execute_result"
    }
   ],
   "source": [
    "bval = B_sol.evalf(subs={rho_max:10.0, A:aval} )\n",
    "bval"
   ]
  },
  {
   "cell_type": "code",
   "execution_count": 62,
   "metadata": {
    "collapsed": false
   },
   "outputs": [
    {
     "data": {
      "image/png": "[encoded data removed]",
      "text/latex": [
       "$$0.0197690110272418$$"
      ],
      "text/plain": [
       "0.0197690110272418"
      ]
     },
     "execution_count": 62,
     "metadata": {},
     "output_type": "execute_result"
    }
   ],
   "source": [
    "OPENEDX_A_Positive=A_sol[0].evalf(subs={u_star: 1.5, u_max:2.0, rho_max:15.0} )\n",
    "\n",
    "OPENEDX_A_Positive"
   ]
  },
  {
   "cell_type": "code",
   "execution_count": 64,
   "metadata": {
    "collapsed": false
   },
   "outputs": [
    {
     "data": {
      "image/png": "[encoded data removed]",
      "text/latex": [
       "$$0.00312651037596166$$"
      ],
      "text/plain": [
       "0.00312651037596166"
      ]
     },
     "execution_count": 64,
     "metadata": {},
     "output_type": "execute_result"
    }
   ],
   "source": [
    "OPENEDX_B_Positive=B_sol.evalf(subs={rho_max:15, A:OPENEDX_A_Positive} )\n",
    "OPENEDX_B_Positive"
   ]
  },
  {
   "cell_type": "code",
   "execution_count": null,
   "metadata": {
    "collapsed": true
   },
   "outputs": [],
   "source": []
  }
 ],
 "metadata": {
  "kernelspec": {
   "display_name": "Python 3",
   "language": "python",
   "name": "python3"
  },
  "language_info": {
   "codemirror_mode": {
    "name": "ipython",
    "version": 3
   },
   "file_extension": ".py",
   "mimetype": "text/x-python",
   "name": "python",
   "nbconvert_exporter": "python",
   "pygments_lexer": "ipython3",
   "version": "3.4.3"
  }
 },
 "nbformat": 4,
 "nbformat_minor": 0
}
