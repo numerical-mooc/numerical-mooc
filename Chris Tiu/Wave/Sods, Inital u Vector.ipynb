{
 "cells": [
  {
   "cell_type": "code",
   "execution_count": 20,
   "metadata": {
    "collapsed": true
   },
   "outputs": [],
   "source": [
    "import numpy as npy\n",
    "import matplotlib.pyplot as plt\n",
    "from matplotlib import animation\n",
    "import sympy\n",
    "sympy.init_printing()\n"
   ]
  },
  {
   "cell_type": "code",
   "execution_count": 21,
   "metadata": {
    "collapsed": true
   },
   "outputs": [],
   "source": [
    " rho, U, P, U_Vector,F_Vector, D_T, D_X, E_T= sympy.symbols('rho U P U_Vector F_Vector (d/dt) (d/dx) e_T')"
   ]
  },
  {
   "cell_type": "code",
   "execution_count": 22,
   "metadata": {
    "collapsed": false
   },
   "outputs": [
    {
     "data": {
      "image/png": "[encoded data removed]",
      "text/latex": [
       "$$(d/dt) U_{Vector} + (d/dx) F_{Vector} = 0$$"
      ],
      "text/plain": [
       "(d/dt)⋅U_Vector + (d/dx)⋅F_Vector = 0"
      ]
     },
     "execution_count": 22,
     "metadata": {},
     "output_type": "execute_result"
    }
   ],
   "source": [
    "EULER_Vector = sympy.Eq(D_T*U_Vector + D_X*F_Vector, 0)\n",
    "EULER_Vector"
   ]
  },
  {
   "cell_type": "code",
   "execution_count": 23,
   "metadata": {
    "collapsed": true
   },
   "outputs": [],
   "source": [
    "#Standard X array sizes, dt, dx, and time steps\n",
    "nx= 81                   \n",
    "dx= 20.0/(nx-1)\n",
    "dt=0.0002\n",
    "nt=int(.01/dt)\n",
    "\n",
    "x = npy.linspace(-10.,10.,nx)   #Sets up my X array\n",
    "gamma=1.4  \n",
    "n=len(x) \n",
    "    \n",
    "U=npy.zeros((3,n),dtype=float)  #Sets up U as a 3 by n matrix where U[0] is density, U[1] is rho*U, and U[2]is pressure\n",
    "#Each row,[0][1][2] is an n length array\n",
    "#Pressure is calculated using the equation of state with gamma = 1.4"
   ]
  },
  {
   "cell_type": "code",
   "execution_count": 24,
   "metadata": {
    "collapsed": false
   },
   "outputs": [
    {
     "name": "stdout",
     "output_type": "stream",
     "text": [
      "[[ 1.     1.     1.     1.     1.     1.     1.     1.     1.     1.     1.\n",
      "   1.     1.     1.     1.     1.     1.     1.     1.     1.     1.     1.\n",
      "   1.     1.     1.     1.     1.     1.     1.     1.     1.     1.     1.\n",
      "   1.     1.     1.     1.     1.     1.     1.     0.125  0.125  0.125\n",
      "   0.125  0.125  0.125  0.125  0.125  0.125  0.125  0.125  0.125  0.125\n",
      "   0.125  0.125  0.125  0.125  0.125  0.125  0.125  0.125  0.125  0.125\n",
      "   0.125  0.125  0.125  0.125  0.125  0.125  0.125  0.125  0.125  0.125\n",
      "   0.125  0.125  0.125  0.125  0.125  0.125  0.125  0.125]\n",
      " [ 0.     0.     0.     0.     0.     0.     0.     0.     0.     0.     0.\n",
      "   0.     0.     0.     0.     0.     0.     0.     0.     0.     0.     0.\n",
      "   0.     0.     0.     0.     0.     0.     0.     0.     0.     0.     0.\n",
      "   0.     0.     0.     0.     0.     0.     0.     0.     0.     0.     0.\n",
      "   0.     0.     0.     0.     0.     0.     0.     0.     0.     0.     0.\n",
      "   0.     0.     0.     0.     0.     0.     0.     0.     0.     0.     0.\n",
      "   0.     0.     0.     0.     0.     0.     0.     0.     0.     0.     0.\n",
      "   0.     0.     0.     0.   ]\n",
      " [ 0.     0.     0.     0.     0.     0.     0.     0.     0.     0.     0.\n",
      "   0.     0.     0.     0.     0.     0.     0.     0.     0.     0.     0.\n",
      "   0.     0.     0.     0.     0.     0.     0.     0.     0.     0.     0.\n",
      "   0.     0.     0.     0.     0.     0.     0.     0.     0.     0.     0.\n",
      "   0.     0.     0.     0.     0.     0.     0.     0.     0.     0.     0.\n",
      "   0.     0.     0.     0.     0.     0.     0.     0.     0.     0.     0.\n",
      "   0.     0.     0.     0.     0.     0.     0.     0.     0.     0.     0.\n",
      "   0.     0.     0.     0.   ]]\n"
     ]
    }
   ],
   "source": [
    "NEG=npy.where(x<0) #This tells me the cell positions where X is negative, ie left hand side tube\n",
    "    \n",
    "U[0,NEG]=1\n",
    "U[0,NEG[-1][-1]+1:]=0.125 \n",
    "print(U)"
   ]
  },
  {
   "cell_type": "markdown",
   "metadata": {},
   "source": [
    "Array is now set with U left hand side is 1, RHS is 0.125, for U[0]"
   ]
  },
  {
   "cell_type": "code",
   "execution_count": 25,
   "metadata": {
    "collapsed": false
   },
   "outputs": [
    {
     "name": "stdout",
     "output_type": "stream",
     "text": [
      "[[ 1.     1.     1.     1.     1.     1.     1.     1.     1.     1.     1.\n",
      "   1.     1.     1.     1.     1.     1.     1.     1.     1.     1.     1.\n",
      "   1.     1.     1.     1.     1.     1.     1.     1.     1.     1.     1.\n",
      "   1.     1.     1.     1.     1.     1.     1.     0.125  0.125  0.125\n",
      "   0.125  0.125  0.125  0.125  0.125  0.125  0.125  0.125  0.125  0.125\n",
      "   0.125  0.125  0.125  0.125  0.125  0.125  0.125  0.125  0.125  0.125\n",
      "   0.125  0.125  0.125  0.125  0.125  0.125  0.125  0.125  0.125  0.125\n",
      "   0.125  0.125  0.125  0.125  0.125  0.125  0.125  0.125]\n",
      " [ 0.     0.     0.     0.     0.     0.     0.     0.     0.     0.     0.\n",
      "   0.     0.     0.     0.     0.     0.     0.     0.     0.     0.     0.\n",
      "   0.     0.     0.     0.     0.     0.     0.     0.     0.     0.     0.\n",
      "   0.     0.     0.     0.     0.     0.     0.     0.     0.     0.     0.\n",
      "   0.     0.     0.     0.     0.     0.     0.     0.     0.     0.     0.\n",
      "   0.     0.     0.     0.     0.     0.     0.     0.     0.     0.     0.\n",
      "   0.     0.     0.     0.     0.     0.     0.     0.     0.     0.     0.\n",
      "   0.     0.     0.     0.   ]\n",
      " [ 0.     0.     0.     0.     0.     0.     0.     0.     0.     0.     0.\n",
      "   0.     0.     0.     0.     0.     0.     0.     0.     0.     0.     0.\n",
      "   0.     0.     0.     0.     0.     0.     0.     0.     0.     0.     0.\n",
      "   0.     0.     0.     0.     0.     0.     0.     0.     0.     0.     0.\n",
      "   0.     0.     0.     0.     0.     0.     0.     0.     0.     0.     0.\n",
      "   0.     0.     0.     0.     0.     0.     0.     0.     0.     0.     0.\n",
      "   0.     0.     0.     0.     0.     0.     0.     0.     0.     0.     0.\n",
      "   0.     0.     0.     0.   ]]\n"
     ]
    }
   ],
   "source": [
    "#First I start with Density    \n",
    "U[0,NEG]=1 #Sets values for left tube\n",
    "U[0,NEG[-1][-1]+1:]=0.125   #Sets values for right tube \n",
    "print(U)"
   ]
  },
  {
   "cell_type": "code",
   "execution_count": 26,
   "metadata": {
    "collapsed": false
   },
   "outputs": [
    {
     "name": "stdout",
     "output_type": "stream",
     "text": [
      "[[ 1.     1.     1.     1.     1.     1.     1.     1.     1.     1.     1.\n",
      "   1.     1.     1.     1.     1.     1.     1.     1.     1.     1.     1.\n",
      "   1.     1.     1.     1.     1.     1.     1.     1.     1.     1.     1.\n",
      "   1.     1.     1.     1.     1.     1.     1.     0.125  0.125  0.125\n",
      "   0.125  0.125  0.125  0.125  0.125  0.125  0.125  0.125  0.125  0.125\n",
      "   0.125  0.125  0.125  0.125  0.125  0.125  0.125  0.125  0.125  0.125\n",
      "   0.125  0.125  0.125  0.125  0.125  0.125  0.125  0.125  0.125  0.125\n",
      "   0.125  0.125  0.125  0.125  0.125  0.125  0.125  0.125]\n",
      " [ 0.     0.     0.     0.     0.     0.     0.     0.     0.     0.     0.\n",
      "   0.     0.     0.     0.     0.     0.     0.     0.     0.     0.     0.\n",
      "   0.     0.     0.     0.     0.     0.     0.     0.     0.     0.     0.\n",
      "   0.     0.     0.     0.     0.     0.     0.     0.     0.     0.     0.\n",
      "   0.     0.     0.     0.     0.     0.     0.     0.     0.     0.     0.\n",
      "   0.     0.     0.     0.     0.     0.     0.     0.     0.     0.     0.\n",
      "   0.     0.     0.     0.     0.     0.     0.     0.     0.     0.     0.\n",
      "   0.     0.     0.     0.   ]\n",
      " [ 0.     0.     0.     0.     0.     0.     0.     0.     0.     0.     0.\n",
      "   0.     0.     0.     0.     0.     0.     0.     0.     0.     0.     0.\n",
      "   0.     0.     0.     0.     0.     0.     0.     0.     0.     0.     0.\n",
      "   0.     0.     0.     0.     0.     0.     0.     0.     0.     0.     0.\n",
      "   0.     0.     0.     0.     0.     0.     0.     0.     0.     0.     0.\n",
      "   0.     0.     0.     0.     0.     0.     0.     0.     0.     0.     0.\n",
      "   0.     0.     0.     0.     0.     0.     0.     0.     0.     0.     0.\n",
      "   0.     0.     0.     0.   ]]\n"
     ]
    }
   ],
   "source": [
    "#Velocity\n",
    "U[1,:]=0 #Sets my velocity left and rhs conditions\n",
    "print(U)"
   ]
  },
  {
   "cell_type": "code",
   "execution_count": 27,
   "metadata": {
    "collapsed": false
   },
   "outputs": [
    {
     "name": "stdout",
     "output_type": "stream",
     "text": [
      "[[  1.00000000e+00   1.00000000e+00   1.00000000e+00   1.00000000e+00\n",
      "    1.00000000e+00   1.00000000e+00   1.00000000e+00   1.00000000e+00\n",
      "    1.00000000e+00   1.00000000e+00   1.00000000e+00   1.00000000e+00\n",
      "    1.00000000e+00   1.00000000e+00   1.00000000e+00   1.00000000e+00\n",
      "    1.00000000e+00   1.00000000e+00   1.00000000e+00   1.00000000e+00\n",
      "    1.00000000e+00   1.00000000e+00   1.00000000e+00   1.00000000e+00\n",
      "    1.00000000e+00   1.00000000e+00   1.00000000e+00   1.00000000e+00\n",
      "    1.00000000e+00   1.00000000e+00   1.00000000e+00   1.00000000e+00\n",
      "    1.00000000e+00   1.00000000e+00   1.00000000e+00   1.00000000e+00\n",
      "    1.00000000e+00   1.00000000e+00   1.00000000e+00   1.00000000e+00\n",
      "    1.25000000e-01   1.25000000e-01   1.25000000e-01   1.25000000e-01\n",
      "    1.25000000e-01   1.25000000e-01   1.25000000e-01   1.25000000e-01\n",
      "    1.25000000e-01   1.25000000e-01   1.25000000e-01   1.25000000e-01\n",
      "    1.25000000e-01   1.25000000e-01   1.25000000e-01   1.25000000e-01\n",
      "    1.25000000e-01   1.25000000e-01   1.25000000e-01   1.25000000e-01\n",
      "    1.25000000e-01   1.25000000e-01   1.25000000e-01   1.25000000e-01\n",
      "    1.25000000e-01   1.25000000e-01   1.25000000e-01   1.25000000e-01\n",
      "    1.25000000e-01   1.25000000e-01   1.25000000e-01   1.25000000e-01\n",
      "    1.25000000e-01   1.25000000e-01   1.25000000e-01   1.25000000e-01\n",
      "    1.25000000e-01   1.25000000e-01   1.25000000e-01   1.25000000e-01\n",
      "    1.25000000e-01]\n",
      " [  0.00000000e+00   0.00000000e+00   0.00000000e+00   0.00000000e+00\n",
      "    0.00000000e+00   0.00000000e+00   0.00000000e+00   0.00000000e+00\n",
      "    0.00000000e+00   0.00000000e+00   0.00000000e+00   0.00000000e+00\n",
      "    0.00000000e+00   0.00000000e+00   0.00000000e+00   0.00000000e+00\n",
      "    0.00000000e+00   0.00000000e+00   0.00000000e+00   0.00000000e+00\n",
      "    0.00000000e+00   0.00000000e+00   0.00000000e+00   0.00000000e+00\n",
      "    0.00000000e+00   0.00000000e+00   0.00000000e+00   0.00000000e+00\n",
      "    0.00000000e+00   0.00000000e+00   0.00000000e+00   0.00000000e+00\n",
      "    0.00000000e+00   0.00000000e+00   0.00000000e+00   0.00000000e+00\n",
      "    0.00000000e+00   0.00000000e+00   0.00000000e+00   0.00000000e+00\n",
      "    0.00000000e+00   0.00000000e+00   0.00000000e+00   0.00000000e+00\n",
      "    0.00000000e+00   0.00000000e+00   0.00000000e+00   0.00000000e+00\n",
      "    0.00000000e+00   0.00000000e+00   0.00000000e+00   0.00000000e+00\n",
      "    0.00000000e+00   0.00000000e+00   0.00000000e+00   0.00000000e+00\n",
      "    0.00000000e+00   0.00000000e+00   0.00000000e+00   0.00000000e+00\n",
      "    0.00000000e+00   0.00000000e+00   0.00000000e+00   0.00000000e+00\n",
      "    0.00000000e+00   0.00000000e+00   0.00000000e+00   0.00000000e+00\n",
      "    0.00000000e+00   0.00000000e+00   0.00000000e+00   0.00000000e+00\n",
      "    0.00000000e+00   0.00000000e+00   0.00000000e+00   0.00000000e+00\n",
      "    0.00000000e+00   0.00000000e+00   0.00000000e+00   0.00000000e+00\n",
      "    0.00000000e+00]\n",
      " [  2.50000000e+05   2.50000000e+05   2.50000000e+05   2.50000000e+05\n",
      "    2.50000000e+05   2.50000000e+05   2.50000000e+05   2.50000000e+05\n",
      "    2.50000000e+05   2.50000000e+05   2.50000000e+05   2.50000000e+05\n",
      "    2.50000000e+05   2.50000000e+05   2.50000000e+05   2.50000000e+05\n",
      "    2.50000000e+05   2.50000000e+05   2.50000000e+05   2.50000000e+05\n",
      "    2.50000000e+05   2.50000000e+05   2.50000000e+05   2.50000000e+05\n",
      "    2.50000000e+05   2.50000000e+05   2.50000000e+05   2.50000000e+05\n",
      "    2.50000000e+05   2.50000000e+05   2.50000000e+05   2.50000000e+05\n",
      "    2.50000000e+05   2.50000000e+05   2.50000000e+05   2.50000000e+05\n",
      "    2.50000000e+05   2.50000000e+05   2.50000000e+05   2.50000000e+05\n",
      "    2.50000000e+04   2.50000000e+04   2.50000000e+04   2.50000000e+04\n",
      "    2.50000000e+04   2.50000000e+04   2.50000000e+04   2.50000000e+04\n",
      "    2.50000000e+04   2.50000000e+04   2.50000000e+04   2.50000000e+04\n",
      "    2.50000000e+04   2.50000000e+04   2.50000000e+04   2.50000000e+04\n",
      "    2.50000000e+04   2.50000000e+04   2.50000000e+04   2.50000000e+04\n",
      "    2.50000000e+04   2.50000000e+04   2.50000000e+04   2.50000000e+04\n",
      "    2.50000000e+04   2.50000000e+04   2.50000000e+04   2.50000000e+04\n",
      "    2.50000000e+04   2.50000000e+04   2.50000000e+04   2.50000000e+04\n",
      "    2.50000000e+04   2.50000000e+04   2.50000000e+04   2.50000000e+04\n",
      "    2.50000000e+04   2.50000000e+04   2.50000000e+04   2.50000000e+04\n",
      "    2.50000000e+04]]\n"
     ]
    }
   ],
   "source": [
    "#Pressure quantity\n",
    "U[2,NEG]=100000/(1.4-1) #Units conversion, \n",
    "U[2,NEG[-1][-1]+1:]=10000/(1.4-1)  \n",
    "print(U)"
   ]
  },
  {
   "cell_type": "markdown",
   "metadata": {},
   "source": [
    "now I need to establish the relationship for the 3 rows of U (U[0], U[1], U[2]) to give me flux. Then I can put it all together into the propwer richtmyer math"
   ]
  },
  {
   "cell_type": "code",
   "execution_count": null,
   "metadata": {
    "collapsed": true
   },
   "outputs": [],
   "source": []
  }
 ],
 "metadata": {
  "kernelspec": {
   "display_name": "Python 3",
   "language": "python",
   "name": "python3"
  },
  "language_info": {
   "codemirror_mode": {
    "name": "ipython",
    "version": 3
   },
   "file_extension": ".py",
   "mimetype": "text/x-python",
   "name": "python",
   "nbconvert_exporter": "python",
   "pygments_lexer": "ipython3",
   "version": "3.4.3"
  }
 },
 "nbformat": 4,
 "nbformat_minor": 0
}
