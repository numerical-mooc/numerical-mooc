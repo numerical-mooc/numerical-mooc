{
 "cells": [
  {
   "cell_type": "code",
   "execution_count": 1,
   "metadata": {
    "collapsed": true
   },
   "outputs": [],
   "source": [
    "import numpy                       \n",
    "from matplotlib import pyplot                 \n",
    "%matplotlib inline\n",
    "from matplotlib import rcParams\n",
    "rcParams['font.family'] = 'serif'\n",
    "rcParams['font.size'] = 16"
   ]
  },
  {
   "cell_type": "markdown",
   "metadata": {},
   "source": [
    "new initial conditions for the \"witch Hat\" starting wave:\n"
   ]
  },
  {
   "cell_type": "code",
   "execution_count": 2,
   "metadata": {
    "collapsed": true
   },
   "outputs": [],
   "source": [
    "nx = 41  # try changing this number from 41 to 81 and Run All ... what happens?\n",
    "dx = 2/(nx-1)\n",
    "nt = 25    \n",
    "dt = .02  \n",
    "c = 1      #assume wavespeed of c = 1\n",
    "x = numpy.linspace(0,2,nx)"
   ]
  },
  {
   "cell_type": "code",
   "execution_count": 16,
   "metadata": {
    "collapsed": false
   },
   "outputs": [
    {
     "name": "stdout",
     "output_type": "stream",
     "text": [
      "[  0.    0.    0.    0.    0.    0.    0.    0.    0.    0.    0.    0.\n",
      "   0.    0.    0.    0.    0.    0.    0.    0.5   1.   11.   10.5   0.\n",
      "   0.    0.    0.    0.    0.    0.    0.    0.    0.    0.    0.    0.\n",
      "   0.    0.    0.    0.    0. ]\n"
     ]
    },
    {
     "name": "stderr",
     "output_type": "stream",
     "text": [
      "C:\\Users\\ctiu\\Anaconda3\\lib\\site-packages\\ipykernel\\__main__.py:15: DeprecationWarning: assignment will raise an error in the future, most likely because your index result shape does not match the value array shape. You can use `arr.flat[index] = values` to keep the old behaviour.\n",
      "C:\\Users\\ctiu\\Anaconda3\\lib\\site-packages\\ipykernel\\__main__.py:16: DeprecationWarning: assignment will raise an error in the future, most likely because your index result shape does not match the value array shape. You can use `arr.flat[index] = values` to keep the old behaviour.\n"
     ]
    },
    {
     "data": {
      "image/png": "[encoded data removed]",
      "text/plain": [
       "<matplotlib.figure.Figure at 0x7c134a8>"
      ]
     },
     "metadata": {},
     "output_type": "display_data"
    }
   ],
   "source": [
    "u = numpy.ones(nx)      #numpy function ones()\n",
    "\n",
    "Begin_range=numpy.where(x < 0.9)\n",
    "first_bound = numpy.where(x >= 0.9)\n",
    "secound_bound= numpy.where(x <= 1.0)\n",
    "secound_second_bound= numpy.where(x > 1.0)\n",
    "third_bound = numpy.where(x <= 1.1)\n",
    "end_range=numpy.where(x > 1.1)\n",
    "\n",
    "\n",
    "rising_bounds = numpy.intersect1d(first_bound,secound_bound)\n",
    "lowering_bounds =numpy.intersect1d(secound_second_bound,third_bound)\n",
    "\n",
    "u[Begin_range]=0\n",
    "u[rising_bounds]= 10*(x-0.9)+0.9*10\n",
    "u[lowering_bounds] = 10*(1.1-x)\n",
    "u[end_range]=0\n",
    "\n",
    "print(u)\n",
    "\n",
    "pyplot.plot(x, u, color='#003366', ls='--', lw=3)\n",
    "pyplot.ylim(-1,15);"
   ]
  },
  {
   "cell_type": "code",
   "execution_count": null,
   "metadata": {
    "collapsed": true
   },
   "outputs": [],
   "source": []
  }
 ],
 "metadata": {
  "kernelspec": {
   "display_name": "Python 3",
   "language": "python",
   "name": "python3"
  },
  "language_info": {
   "codemirror_mode": {
    "name": "ipython",
    "version": 3
   },
   "file_extension": ".py",
   "mimetype": "text/x-python",
   "name": "python",
   "nbconvert_exporter": "python",
   "pygments_lexer": "ipython3",
   "version": "3.4.3"
  }
 },
 "nbformat": 4,
 "nbformat_minor": 0
}
