{
 "cells": [
  {
   "cell_type": "markdown",
   "metadata": {},
   "source": [
    "1D Advection Equation with Heaviside function from 1 to 0 as initial condition"
   ]
  },
  {
   "cell_type": "markdown",
   "metadata": {},
   "source": [
    "This below code is from the Class Activity, it is for the First order, upwind scheme"
   ]
  },
  {
   "cell_type": "code",
   "execution_count": 3,
   "metadata": {
    "collapsed": false
   },
   "outputs": [
    {
     "name": "stderr",
     "output_type": "stream",
     "text": [
      "C:\\Users\\ctiu\\Anaconda3\\lib\\site-packages\\matplotlib\\backend_bases.py:2399: MatplotlibDeprecationWarning: Using default event loop until function specific to this GUI is implemented\n",
      "  warnings.warn(str, mplDeprecation)\n"
     ]
    }
   ],
   "source": [
    "# --Schemes for convection\n",
    "import numpy \n",
    "from matplotlib import pyplot\n",
    "import time\n",
    "\n",
    "# parameters\n",
    "nx = 81      # number of x-intervals\n",
    "nt = 80      # number of time intervals\n",
    "sigma = 0.8  # CFL number\n",
    "c  = 1.      # wave speed\n",
    "dx = 4.0/(nx-1)\n",
    "dt = sigma * dx/c\n",
    "\n",
    "# initialization\n",
    "x =  numpy.arange(0,4+dx,dx)\n",
    "u =  numpy.zeros(nx)\n",
    "un = numpy.zeros(nx)\n",
    "unminus1 = numpy.zeros(nx)\n",
    "u[0] = 1      # sets the LHS value to 1\n",
    "un[0] = 1\n",
    "unminus1[0] = 1\n",
    "\n",
    "# set the interactive mode to get an animation on screen\n",
    "pyplot.ion()\n",
    "\n",
    "# create initial plot lines        \n",
    "line1,line2 = pyplot.plot(x,u,'k.-',x,u, 'b--')\n",
    "pyplot.axis([0,4,-0.5,1.5])\n",
    "pyplot.xlabel('x')\n",
    "pyplot.ylabel('u')\n",
    "pyplot.show()\n",
    "pyplot.title('nx='+str(nx)+', nt='+str(nt)+', dt='+str(dt), family='serif')\n",
    "\n",
    "for i in range(1,nx-1):\n",
    "    # backward difference for first step in time\n",
    "    u[i] = un[i]- sigma*( un[i]- un[i-1] )\n",
    "\n",
    "for it in range(nt):\n",
    "    for i in range(1,nx):\n",
    "        # backward difference\n",
    "        u[i] = un[i]- sigma*( un[i]- un[i-1] )\n",
    "        # central difference\n",
    "        #u[i] = un[i]- sigma/2*( un[i+1]- un[i-1] )\n",
    "    u[0] = 1\n",
    "    line1.set_ydata(u)\n",
    "    line2.set_ydata(numpy.where(x < c*dt*(it+1), numpy.ones(nx),numpy.zeros(nx) ) )\n",
    "    un = u.copy()\n",
    "    pyplot.pause(0.03)\n",
    "\n",
    "# Unset interactive mode\n",
    "#pyplot.ioff()\n",
    "\n",
    "#pyplot.savefig('FOupwind')\n",
    "# \"the call to show is blocking and should be ... last\"\n",
    "#pyplot.show()\n"
   ]
  },
  {
   "cell_type": "code",
   "execution_count": null,
   "metadata": {
    "collapsed": true
   },
   "outputs": [],
   "source": []
  },
  {
   "cell_type": "code",
   "execution_count": null,
   "metadata": {
    "collapsed": true
   },
   "outputs": [],
   "source": []
  }
 ],
 "metadata": {
  "kernelspec": {
   "display_name": "Python 3",
   "language": "python",
   "name": "python3"
  },
  "language_info": {
   "codemirror_mode": {
    "name": "ipython",
    "version": 3
   },
   "file_extension": ".py",
   "mimetype": "text/x-python",
   "name": "python",
   "nbconvert_exporter": "python",
   "pygments_lexer": "ipython3",
   "version": "3.4.3"
  }
 },
 "nbformat": 4,
 "nbformat_minor": 0
}
