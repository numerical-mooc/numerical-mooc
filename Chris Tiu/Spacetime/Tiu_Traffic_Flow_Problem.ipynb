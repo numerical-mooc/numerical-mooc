{
 "cells": [
  {
   "cell_type": "markdown",
   "metadata": {},
   "source": [
    "This code is intended to solve for traffic flow in a 1-Dimensional road. The mathematics are similar to a Non-linear Convection problem"
   ]
  },
  {
   "cell_type": "code",
   "execution_count": 22,
   "metadata": {
    "collapsed": true
   },
   "outputs": [],
   "source": [
    "import numpy as NPY\n",
    "import math\n",
    "from matplotlib import pyplot\n",
    "%matplotlib inline"
   ]
  },
  {
   "cell_type": "code",
   "execution_count": 23,
   "metadata": {
    "collapsed": true
   },
   "outputs": [],
   "source": [
    "#Some Iniital Paramers\n",
    "\n",
    "V_max= 80            #Max velocity of traffic flow in km/hr\n",
    "Road_length=11       #Length of the 1D Road in km\n",
    "Density_max = 250    # Max density of cars per km of road\n",
    "NX = 51              #Apparently this is my number of 'X' steps\n",
    "delta_t = 0.001      #This is my timestep duration, in hours"
   ]
  },
  {
   "cell_type": "code",
   "execution_count": 24,
   "metadata": {
    "collapsed": false
   },
   "outputs": [],
   "source": [
    "#Initial conditions determined by Problem Part A\n",
    "\n",
    "x = NPY.linspace(0,Road_length, NX )  #An array to hold all of my X values\n",
    "\n",
    "Density_initial = NPY.ones(NX)*10     #Creates an array for initial Densities, 51 spots, sets all values to 10\n",
    "Density_initial[10:20]=50           #Changed my 10-20 density cells to be 50\n",
    "\n",
    "\n"
   ]
  },
  {
   "cell_type": "code",
   "execution_count": 25,
   "metadata": {
    "collapsed": false
   },
   "outputs": [
    {
     "name": "stdout",
     "output_type": "stream",
     "text": [
      "X-Steps are every: 0.21568627450980393 Kilometers\n",
      "[  0.     0.22   0.44   0.66   0.88   1.1    1.32   1.54   1.76   1.98\n",
      "   2.2    2.42   2.64   2.86   3.08   3.3    3.52   3.74   3.96   4.18\n",
      "   4.4    4.62   4.84   5.06   5.28   5.5    5.72   5.94   6.16   6.38\n",
      "   6.6    6.82   7.04   7.26   7.48   7.7    7.92   8.14   8.36   8.58\n",
      "   8.8    9.02   9.24   9.46   9.68   9.9   10.12  10.34  10.56  10.78  11.  ]\n",
      "[ 10.  10.  10.  10.  10.  10.  10.  10.  10.  10.  50.  50.  50.  50.  50.\n",
      "  50.  50.  50.  50.  50.  10.  10.  10.  10.  10.  10.  10.  10.  10.  10.\n",
      "  10.  10.  10.  10.  10.  10.  10.  10.  10.  10.  10.  10.  10.  10.  10.\n",
      "  10.  10.  10.  10.  10.  10.]\n"
     ]
    }
   ],
   "source": [
    "x_steps = Road_length/NX\n",
    "print(\"X-Steps are every:\", x_steps, \"Kilometers\")\n",
    "\n",
    "print(x)\n",
    "print(Density_initial)"
   ]
  },
  {
   "cell_type": "markdown",
   "metadata": {},
   "source": [
    "Need boundary condition that at x=0, the density of cars is 0, for all time \"t\""
   ]
  },
  {
   "cell_type": "markdown",
   "metadata": {},
   "source": [
    "Not lets capture some mathemtical Relationships"
   ]
  },
  {
   "cell_type": "code",
   "execution_count": 28,
   "metadata": {
    "collapsed": true
   },
   "outputs": [],
   "source": [
    "#Traffic Flux \"F\" is a function of density. F--> F(Density)\n",
    "\n",
    "def Traffic_Flux(density_input, Max_Speed):      #made this have variable max speed for part 2      \n",
    "    Road_length=11       \n",
    "    Density_max = 250    \n",
    "    NX = 51              \n",
    "    delta_t = 0.001\n",
    "    Output_flux= (Max_Speed)*(1-(density_input/Density_max))\n",
    "    return Output_flux\n"
   ]
  },
  {
   "cell_type": "code",
   "execution_count": 31,
   "metadata": {
    "collapsed": true
   },
   "outputs": [],
   "source": [
    "#This is code from the 1d Linear convection Forward Difference Method\n",
    "#for n in range(1, nt): #25 time steps\n",
    " #   un=u.copy()\n",
    "    #for i in range(1,nx):\n",
    "    #    u[i]= un[i]-c*dt/dx*(un[i]-un[i-1])"
   ]
  },
  {
   "cell_type": "code",
   "execution_count": null,
   "metadata": {
    "collapsed": true
   },
   "outputs": [],
   "source": []
  }
 ],
 "metadata": {
  "kernelspec": {
   "display_name": "Python 3",
   "language": "python",
   "name": "python3"
  },
  "language_info": {
   "codemirror_mode": {
    "name": "ipython",
    "version": 3
   },
   "file_extension": ".py",
   "mimetype": "text/x-python",
   "name": "python",
   "nbconvert_exporter": "python",
   "pygments_lexer": "ipython3",
   "version": "3.4.3"
  }
 },
 "nbformat": 4,
 "nbformat_minor": 0
}
