{
 "cells": [
  {
   "cell_type": "markdown",
   "metadata": {},
   "source": [
    "This code is intended to solve for traffic flow in a 1-Dimensional road. The mathematics are similar to a Non-linear Convection problem"
   ]
  },
  {
   "cell_type": "code",
   "execution_count": 60,
   "metadata": {
    "collapsed": true
   },
   "outputs": [],
   "source": [
    "import numpy as NPY\n",
    "import math\n",
    "from matplotlib import pyplot\n",
    "%matplotlib inline"
   ]
  },
  {
   "cell_type": "code",
   "execution_count": 61,
   "metadata": {
    "collapsed": true
   },
   "outputs": [],
   "source": [
    "#Some Iniital Paramers\n",
    "\n",
    "V_max= 80            #Max velocity of traffic flow in km/hr\n",
    "Road_length=11       #Length of the 1D Road in km\n",
    "Density_max = 250    # Max density of cars per km of road\n",
    "NX = 51              #Apparently this is my number of 'X' steps\n",
    "delta_t = 0.001      #This is my timestep duration, in hours"
   ]
  },
  {
   "cell_type": "code",
   "execution_count": 62,
   "metadata": {
    "collapsed": false
   },
   "outputs": [],
   "source": [
    "#Initial conditions determined by Problem Part A\n",
    "\n",
    "x = NPY.linspace(0,Road_length, NX )  #An array to hold all of my X values\n",
    "\n",
    "Density_variable= NPY.ones(NX)*10     #Creates an array for initial Densities, 51 spots, sets all values to 10\n",
    "Density_variable[10:20]=50           #Changed my 10-20 density cells to be 50\n",
    "\n",
    "\n"
   ]
  },
  {
   "cell_type": "code",
   "execution_count": 63,
   "metadata": {
    "collapsed": false
   },
   "outputs": [
    {
     "name": "stdout",
     "output_type": "stream",
     "text": [
      "X-Steps are every: 0.21568627450980393 Kilometers\n",
      "[  0.     0.22   0.44   0.66   0.88   1.1    1.32   1.54   1.76   1.98\n",
      "   2.2    2.42   2.64   2.86   3.08   3.3    3.52   3.74   3.96   4.18\n",
      "   4.4    4.62   4.84   5.06   5.28   5.5    5.72   5.94   6.16   6.38\n",
      "   6.6    6.82   7.04   7.26   7.48   7.7    7.92   8.14   8.36   8.58\n",
      "   8.8    9.02   9.24   9.46   9.68   9.9   10.12  10.34  10.56  10.78  11.  ]\n",
      "[ 10.  10.  10.  10.  10.  10.  10.  10.  10.  10.  50.  50.  50.  50.  50.\n",
      "  50.  50.  50.  50.  50.  10.  10.  10.  10.  10.  10.  10.  10.  10.  10.\n",
      "  10.  10.  10.  10.  10.  10.  10.  10.  10.  10.  10.  10.  10.  10.  10.\n",
      "  10.  10.  10.  10.  10.  10.]\n"
     ]
    }
   ],
   "source": [
    "x_steps = Road_length/NX\n",
    "print(\"X-Steps are every:\", x_steps, \"Kilometers\")\n",
    "\n",
    "print(x)\n",
    "print(Density_variable)"
   ]
  },
  {
   "cell_type": "markdown",
   "metadata": {},
   "source": [
    "Need boundary condition that at x=0, the density of cars is 10, for all time \"t\""
   ]
  },
  {
   "cell_type": "markdown",
   "metadata": {},
   "source": [
    "Not lets capture some mathemtical Relationships"
   ]
  },
  {
   "cell_type": "code",
   "execution_count": 64,
   "metadata": {
    "collapsed": false
   },
   "outputs": [],
   "source": [
    "#Traffic Flux \"F\" is a function of density. F--> F(Density)\n",
    "\n",
    "def Traffic_Flux(density_input, Max_Speed):      #made this have variable max speed for part 2      \n",
    "      \n",
    "    Density_max = 250    \n",
    "    NX = 51              \n",
    "    delta_t = 0.001\n",
    "    Output_flux= (Max_Speed)*(1-(density_input/Density_max))\n",
    "    return Output_flux\n",
    "   "
   ]
  },
  {
   "cell_type": "code",
   "execution_count": 65,
   "metadata": {
    "collapsed": false
   },
   "outputs": [],
   "source": [
    "def Traffic_FLOW(nx, timestep):\n",
    "    Road_length=11\n",
    "    nt=timestep\n",
    "    velocity_float = NPY.ones(NX)*0\n",
    "    velocity_float_n = NPY.ones(NX)*0\n",
    "    \n",
    "    x = NPY.linspace(0,Road_length, NX )  \n",
    "    Density_variable= NPY.ones(NX)*10     \n",
    "    Density_variable[10:20]=50 \n",
    "\n",
    "    for i in range (nt):\n",
    "       \n",
    "        Density_variable_n=Density_variable.copy()\n",
    "    \n",
    "        for j in range (NX):\n",
    "       \n",
    "            Density_variable[j] = Density_variable[j] - (delta_t/x_steps)*(Traffic_Flux(Density_variable[j],80)-Traffic_Flux(Density_variable[j-1],80)) \n",
    "            Density_variable[0]=10   #boundary condition\n",
    "         \n",
    "        for j in range (NX):\n",
    "            velocity_float[j] = (Traffic_Flux(Density_variable[j],80)/Density_variable[j])\n",
    "            \n",
    "    pyplot.plot(x,Density_variable)\n",
    "    pyplot.plot(x,velocity_float)\n",
    "    \n",
    "    \n",
    "    return Density_variable, velocity_float\n",
    "        "
   ]
  },
  {
   "cell_type": "code",
   "execution_count": 66,
   "metadata": {
    "collapsed": false
   },
   "outputs": [
    {
     "name": "stdout",
     "output_type": "stream",
     "text": [
      "[ 10.          10.          10.          10.          10.          10.          10.\n",
      "  10.          10.          10.          50.05934545  49.99991195\n",
      "  50.00000013  50.          50.          50.          50.          50.          50.\n",
      "  50.           9.94065455  10.00008805   9.99999987  10.          10.          10.\n",
      "  10.          10.          10.          10.          10.          10.          10.\n",
      "  10.          10.          10.          10.          10.          10.          10.\n",
      "  10.          10.          10.          10.          10.          10.          10.\n",
      "  10.          10.          10.          10.        ]\n",
      "[ 7.68        7.68        7.68        7.68        7.68        7.68        7.68\n",
      "  7.68        7.68        7.68        1.2781032   1.28000282  1.28        1.28\n",
      "  1.28        1.28        1.28        1.28        1.28        1.28\n",
      "  7.7277598   7.67992956  7.6800001   7.68        7.68        7.68        7.68\n",
      "  7.68        7.68        7.68        7.68        7.68        7.68        7.68\n",
      "  7.68        7.68        7.68        7.68        7.68        7.68        7.68\n",
      "  7.68        7.68        7.68        7.68        7.68        7.68        7.68\n",
      "  7.68        7.68        7.68      ]\n"
     ]
    },
    {
     "data": {
      "image/png": "[encoded data removed]",
      "text/plain": [
       "<matplotlib.figure.Figure at 0x7d09c50>"
      ]
     },
     "metadata": {},
     "output_type": "display_data"
    }
   ],
   "source": [
    "r, v = Traffic_FLOW(51,1)\n",
    "print(r)\n",
    "print(v)"
   ]
  },
  {
   "cell_type": "code",
   "execution_count": null,
   "metadata": {
    "collapsed": true
   },
   "outputs": [],
   "source": []
  }
 ],
 "metadata": {
  "kernelspec": {
   "display_name": "Python 3",
   "language": "python",
   "name": "python3"
  },
  "language_info": {
   "codemirror_mode": {
    "name": "ipython",
    "version": 3
   },
   "file_extension": ".py",
   "mimetype": "text/x-python",
   "name": "python",
   "nbconvert_exporter": "python",
   "pygments_lexer": "ipython3",
   "version": "3.4.3"
  }
 },
 "nbformat": 4,
 "nbformat_minor": 0
}
