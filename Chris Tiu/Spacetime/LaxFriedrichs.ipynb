{
 "cells": [
  {
   "cell_type": "code",
   "execution_count": 1,
   "metadata": {
    "collapsed": false
   },
   "outputs": [
    {
     "name": "stderr",
     "output_type": "stream",
     "text": [
      "C:\\Users\\ctiu\\Anaconda3\\lib\\site-packages\\matplotlib\\backend_bases.py:2399: MatplotlibDeprecationWarning: Using default event loop until function specific to this GUI is implemented\n",
      "  warnings.warn(str, mplDeprecation)\n"
     ]
    }
   ],
   "source": [
    "# --Schemes for convection\n",
    "import numpy\n",
    "from matplotlib import pyplot\n",
    "\n",
    "# set the interactive mode to get an animation on screen\n",
    "pyplot.ion()\n",
    "\n",
    "# parameters\n",
    "nx = 81      # number of x-intervals\n",
    "nt = 80      # number of time intervals\n",
    "sigma = 0.5  # CFL number\n",
    "c  = 1.      # wave speed\n",
    "dx = 4.0/(nx-1)\n",
    "dt = sigma * dx/c\n",
    "\n",
    "# initialization\n",
    "x =  numpy.arange(0,4+dx,dx)\n",
    "u =  numpy.zeros(nx)\n",
    "un = numpy.zeros(nx)\n",
    "unminus1 = numpy.zeros(nx)\n",
    "u[0] = 1      # sets the LHS value to 1\n",
    "un[0]    = 1\n",
    "unminus1[0] = 1\n",
    "\n",
    "# create initial plot lines        \n",
    "line1,line2 = pyplot.plot(x,u,'k.-',x,u, 'b--')\n",
    "pyplot.axis([0,4,-0.5,1.5])\n",
    "pyplot.xlabel('x')\n",
    "pyplot.ylabel('u')\n",
    "pyplot.show()\n",
    "pyplot.title('nx='+str(nx)+', nt='+str(nt)+', dt='+str(dt), family='serif')\n",
    "\n",
    "for it in range(nt):\n",
    "    for i in range(1,nx-1):\n",
    "        # Lax-Friedrichs\n",
    "        u[i] = ( un[i+1]+un[i-1] )/2 - sigma/2*( un[i+1]- un[i-1] )\n",
    "    u[0] = 1.\n",
    "    line1.set_ydata(u)\n",
    "    line2.set_ydata(numpy.where(x < c*dt*(it+1), numpy.ones(nx),numpy.zeros(nx) ) )\n",
    "    un = u.copy()\n",
    "    pyplot.pause(0.03)\n",
    "    \n",
    "\n"
   ]
  },
  {
   "cell_type": "code",
   "execution_count": null,
   "metadata": {
    "collapsed": true
   },
   "outputs": [],
   "source": []
  }
 ],
 "metadata": {
  "kernelspec": {
   "display_name": "Python 3",
   "language": "python",
   "name": "python3"
  },
  "language_info": {
   "codemirror_mode": {
    "name": "ipython",
    "version": 3
   },
   "file_extension": ".py",
   "mimetype": "text/x-python",
   "name": "python",
   "nbconvert_exporter": "python",
   "pygments_lexer": "ipython3",
   "version": "3.4.3"
  }
 },
 "nbformat": 4,
 "nbformat_minor": 0
}
