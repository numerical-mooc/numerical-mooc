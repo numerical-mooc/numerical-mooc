{
 "cells": [
  {
   "cell_type": "markdown",
   "metadata": {},
   "source": [
    "This code seeks to use the Forward Difference method to calculate the Traffic Flow rate since the math is identical to a 1 Dimensional Non-linear Convection equation"
   ]
  },
  {
   "cell_type": "markdown",
   "metadata": {},
   "source": [
    "The Difference is that, compared to the Module 2 Notebooks 1 and 2, instead of U (the wave) I am modeling Density, and the Euler Equation is different because of no velocity. Additionally, I am writing this code in order to get values of Velocity, so I must further relate the Density to the velocity using the Traffic Flux Relationship"
   ]
  },
  {
   "cell_type": "code",
   "execution_count": 413,
   "metadata": {
    "collapsed": false
   },
   "outputs": [],
   "source": [
    "import numpy as NPY\n",
    "import math\n",
    "from matplotlib import pyplot\n",
    "%matplotlib inline"
   ]
  },
  {
   "cell_type": "code",
   "execution_count": 414,
   "metadata": {
    "collapsed": true
   },
   "outputs": [],
   "source": [
    "#This cell lets me define the mathematical relationship for Traffic Flux as a function of a Density variable and \n",
    "#an input Maximum Speed. I could have made the Maximum density a input variable too instead of hard wiring it in but\n",
    "#it seems for part B I only need to change max velocity\n",
    "\n",
    "def Traffic_Flux(density_input, Max_Speed):\n",
    "    V_max=Max_Speed\n",
    "    Density_max=250\n",
    "    \n",
    "    Output_flux= V_max*density_input*(1-(density_input/Density_max))\n",
    "    return Output_flux"
   ]
  },
  {
   "cell_type": "code",
   "execution_count": 415,
   "metadata": {
    "collapsed": true
   },
   "outputs": [],
   "source": [
    "#This code actually uses the \"Forward Difference\" method, (nested in the first for loop). It will call upon my \n",
    "#previous Traffic Flux function so I must have the input Max Velocity kept as an input as well. \n",
    "\n",
    "def Traffic_Flow_Math(nx, nt, Max_Speed):\n",
    "  \n",
    "    #Initial Conditions\n",
    "    \n",
    "    Road_length=11                      #Length of the 1D Road in km\n",
    "    delta_t = 0.001                     #This is my timestep duration, in hours\n",
    "    ro=10\n",
    "    \n",
    "    \n",
    "    x=NPY.linspace(0, Road_length,nx)    #Creates an array to hold my X-values for graphing and steping in length\n",
    "    x_steps=Road_length/nx               #gives me my \"delta_X\" \n",
    "    \n",
    "    velocity_float=NPY.ones(nx)*0        #an array to hold values for velocity as they are calculated, initially zeros\n",
    "    velocity_float_n=NPY.ones(nx)*0      #another array to hold values for velocity as they are calculated\n",
    "   \n",
    "    Density_variable=NPY.ones(nx)*10     #an array to hold all of my density variables as I step through X and time.\n",
    "    Density_variable[10:20]=50           #sets up the initial condition for my \"Density wave\"\n",
    "    \n",
    "   \n",
    "    for i in range(nt):\n",
    "        \n",
    "        Density_variable_n=Density_variable.copy()\n",
    "        \n",
    "        for j in range(1, nx):\n",
    "            \n",
    "            Density_variable[j]=Density_variable[j]-(delta_t /x_steps)*(Traffic_Flux(Density_variable[j],Max_Speed)-Traffic_Flux(Density_variable[j-1],Max_Speed))\n",
    "            Density_variable[0]=ro      #boundary condition\n",
    "            \n",
    "        for j in range (nx):\n",
    "             velocity_float[j]=Traffic_Flux(Density_variable[j],Max_Speed)/Density_variable[j]\n",
    "                \n",
    "        for j in range (nx):\n",
    "            velocity_float_n[j]=Traffic_Flux(Density_variable_n[j],Max_Speed)/Density_variable_n[j]\n",
    "            \n",
    "    pyplot.figure\n",
    "    pyplot.plot(x, velocity_float)\n",
    "    pyplot.show()\n",
    "    \n",
    "    return Density_variable, velocity_float, Density_variable_n, velocity_float_n\n"
   ]
  },
  {
   "cell_type": "code",
   "execution_count": 416,
   "metadata": {
    "collapsed": true
   },
   "outputs": [],
   "source": [
    "def Time_Conversion(Time_in_minutes):\n",
    "    Time_in_hours=Time_in_minutes/60\n",
    "    Converted_function_timestep_spot = Time_in_hours/0.001\n",
    "    return Converted_function_timestep_spot\n"
   ]
  },
  {
   "cell_type": "code",
   "execution_count": 417,
   "metadata": {
    "collapsed": false
   },
   "outputs": [
    {
     "name": "stdout",
     "output_type": "stream",
     "text": [
      "1.6666666666666667\n"
     ]
    }
   ],
   "source": [
    "print(Time_Conversion(0.1))       #Lets me figure out what to enter as nt, rounded to integer"
   ]
  },
  {
   "cell_type": "code",
   "execution_count": 418,
   "metadata": {
    "collapsed": false
   },
   "outputs": [
    {
     "data": {
      "image/png": "[encoded data removed]",
      "text/plain": [
       "<matplotlib.figure.Figure at 0x7ab86a0>"
      ]
     },
     "metadata": {},
     "output_type": "display_data"
    },
    {
     "name": "stdout",
     "output_type": "stream",
     "text": [
      "17.7777777778\n"
     ]
    }
   ],
   "source": [
    "Max_Velocity=80\n",
    "r, v, rn, vn = Traffic_Flow_Math(51, 1, Max_Velocity)\n",
    "Min_Vel_in_meters_per_second= min(vn)*1000/3600       #Converting from km/hr to m/sec\n",
    "print(Min_Vel_in_meters_per_second)                \n"
   ]
  },
  {
   "cell_type": "code",
   "execution_count": 419,
   "metadata": {
    "collapsed": false
   },
   "outputs": [
    {
     "name": "stdout",
     "output_type": "stream",
     "text": [
      "50.0\n"
     ]
    }
   ],
   "source": [
    "print(Time_Conversion(3))   #what NT do I need to enter for 3 minutes"
   ]
  },
  {
   "cell_type": "code",
   "execution_count": 420,
   "metadata": {
    "collapsed": false
   },
   "outputs": [
    {
     "data": {
      "image/png": "[encoded data removed]",
      "text/plain": [
       "<matplotlib.figure.Figure at 0x79005c0>"
      ]
     },
     "metadata": {},
     "output_type": "display_data"
    },
    {
     "name": "stdout",
     "output_type": "stream",
     "text": [
      "20.629589129\n"
     ]
    }
   ],
   "source": [
    "Max_Velocity=80\n",
    "r, v, rn, vn = Traffic_Flow_Math(51, 50, Max_Velocity)\n",
    "Average_Velocity=(sum(v)/51)*1000/3600\n",
    "print(Average_Velocity)"
   ]
  },
  {
   "cell_type": "code",
   "execution_count": 421,
   "metadata": {
    "collapsed": false
   },
   "outputs": [
    {
     "name": "stdout",
     "output_type": "stream",
     "text": [
      "100.0\n"
     ]
    }
   ],
   "source": [
    "print(Time_Conversion(6))  #what NT do I need to enter for 6 minutes"
   ]
  },
  {
   "cell_type": "code",
   "execution_count": 422,
   "metadata": {
    "collapsed": false
   },
   "outputs": [
    {
     "data": {
      "image/png": "[encoded data removed]",
      "text/plain": [
       "<matplotlib.figure.Figure at 0x780c160>"
      ]
     },
     "metadata": {},
     "output_type": "display_data"
    }
   ],
   "source": [
    "Max_Velocity=80\n",
    "r, v, rn, vn = Traffic_Flow_Math(51, 100, Max_Velocity)"
   ]
  },
  {
   "cell_type": "code",
   "execution_count": 423,
   "metadata": {
    "collapsed": false
   },
   "outputs": [
    {
     "name": "stdout",
     "output_type": "stream",
     "text": [
      "19.9843035468\n"
     ]
    }
   ],
   "source": [
    "Min_Vel_in_meters_per_second= min(vn)*1000/3600       #Converting from km/hr to m/sec\n",
    "print(Min_Vel_in_meters_per_second) "
   ]
  },
  {
   "cell_type": "code",
   "execution_count": 424,
   "metadata": {
    "collapsed": true
   },
   "outputs": [],
   "source": [
    "def Traffic_Flow_Math(nx, nt, Max_Speed):\n",
    "  \n",
    "    #Initial Conditions\n",
    "    \n",
    "    Road_length=11                      #Length of the 1D Road in km\n",
    "    delta_t = 0.001                     #This is my timestep duration, in hours\n",
    "    ro=20\n",
    "    \n",
    "    \n",
    "    x=NPY.linspace(0, Road_length,nx)    #Creates an array to hold my X-values for graphing and steping in length\n",
    "    x_steps=Road_length/nx               #gives me my \"delta_X\" \n",
    "    \n",
    "    velocity_float=NPY.ones(nx)*0        #an array to hold values for velocity as they are calculated, initially zeros\n",
    "    velocity_float_n=NPY.ones(nx)*0      #another array to hold values for velocity as they are calculated\n",
    "   \n",
    "    Density_variable=NPY.ones(nx)*20     #an array to hold all of my density variables as I step through X and time.\n",
    "    Density_variable[10:20]=50           #sets up the initial condition for my \"Density wave\"\n",
    "    \n",
    "   \n",
    "    for i in range(nt):\n",
    "        \n",
    "        Density_variable_n=Density_variable.copy()\n",
    "        \n",
    "        for j in range(1, nx):\n",
    "            \n",
    "            Density_variable[j]=Density_variable[j]-(delta_t /x_steps)*(Traffic_Flux(Density_variable[j],Max_Speed)-Traffic_Flux(Density_variable[j-1],Max_Speed))\n",
    "            Density_variable[0]=ro      #boundary condition\n",
    "            \n",
    "        for j in range (nx):\n",
    "             velocity_float[j]=Traffic_Flux(Density_variable[j],Max_Speed)/Density_variable[j]\n",
    "                \n",
    "        for j in range (nx):\n",
    "            velocity_float_n[j]=Traffic_Flux(Density_variable_n[j],Max_Speed)/Density_variable_n[j]\n",
    "            \n",
    "    pyplot.figure\n",
    "    pyplot.plot(x, velocity_float)\n",
    "    pyplot.show()\n",
    "    \n",
    "    return Density_variable, velocity_float, Density_variable_n, velocity_float_n\n"
   ]
  },
  {
   "cell_type": "code",
   "execution_count": 425,
   "metadata": {
    "collapsed": false
   },
   "outputs": [
    {
     "name": "stdout",
     "output_type": "stream",
     "text": [
      "1.6666666666666667\n"
     ]
    }
   ],
   "source": [
    "print(Time_Conversion(0.1))   #what NT do I need to enter for 0 minutes"
   ]
  },
  {
   "cell_type": "code",
   "execution_count": 426,
   "metadata": {
    "collapsed": false
   },
   "outputs": [
    {
     "data": {
      "image/png": "[encoded data removed]",
      "text/plain": [
       "<matplotlib.figure.Figure at 0x793d7b8>"
      ]
     },
     "metadata": {},
     "output_type": "display_data"
    },
    {
     "name": "stdout",
     "output_type": "stream",
     "text": [
      "30.2222222222\n"
     ]
    }
   ],
   "source": [
    "Max_Velocity=136\n",
    "r, v, rn, vn = Traffic_Flow_Math(51, 1, Max_Velocity)\n",
    "Min_Vel_in_meters_per_second= min(vn)*1000/3600       #Converting from km/hr to m/sec\n",
    "print(Min_Vel_in_meters_per_second) "
   ]
  },
  {
   "cell_type": "code",
   "execution_count": 427,
   "metadata": {
    "collapsed": false
   },
   "outputs": [
    {
     "name": "stdout",
     "output_type": "stream",
     "text": [
      "50.0\n"
     ]
    }
   ],
   "source": [
    "print(Time_Conversion(3))    #what NT do I need to enter for 3 minutes"
   ]
  },
  {
   "cell_type": "code",
   "execution_count": 428,
   "metadata": {
    "collapsed": false
   },
   "outputs": [
    {
     "data": {
      "image/png": "[encoded data removed]",
      "text/plain": [
       "<matplotlib.figure.Figure at 0x7a556a0>"
      ]
     },
     "metadata": {},
     "output_type": "display_data"
    },
    {
     "name": "stdout",
     "output_type": "stream",
     "text": [
      "34.6601553711\n"
     ]
    }
   ],
   "source": [
    "Max_Velocity=136\n",
    "r, v, rn, vn = Traffic_Flow_Math(51, 50, Max_Velocity)\n",
    "Average_Velocity=(sum(v)/51)*1000/3600\n",
    "print(Average_Velocity)"
   ]
  },
  {
   "cell_type": "code",
   "execution_count": 429,
   "metadata": {
    "collapsed": false
   },
   "outputs": [
    {
     "name": "stdout",
     "output_type": "stream",
     "text": [
      "50.0\n"
     ]
    }
   ],
   "source": [
    "print(Time_Conversion(3))  #what NT do I need to enter for 3 minutes"
   ]
  },
  {
   "cell_type": "code",
   "execution_count": 430,
   "metadata": {
    "collapsed": false
   },
   "outputs": [
    {
     "data": {
      "image/png": "[encoded data removed]",
      "text/plain": [
       "<matplotlib.figure.Figure at 0x7b2b470>"
      ]
     },
     "metadata": {},
     "output_type": "display_data"
    },
    {
     "name": "stdout",
     "output_type": "stream",
     "text": [
      "33.5190774044\n"
     ]
    }
   ],
   "source": [
    "Max_Velocity=136\n",
    "r, v, rn, vn = Traffic_Flow_Math(51, 50, Max_Velocity)\n",
    "Min_Vel_in_meters_per_second= min(vn)*1000/3600       #Converting from km/hr to m/sec\n",
    "print(Min_Vel_in_meters_per_second) "
   ]
  },
  {
   "cell_type": "code",
   "execution_count": null,
   "metadata": {
    "collapsed": true
   },
   "outputs": [],
   "source": []
  }
 ],
 "metadata": {
  "kernelspec": {
   "display_name": "Python 3",
   "language": "python",
   "name": "python3"
  },
  "language_info": {
   "codemirror_mode": {
    "name": "ipython",
    "version": 3
   },
   "file_extension": ".py",
   "mimetype": "text/x-python",
   "name": "python",
   "nbconvert_exporter": "python",
   "pygments_lexer": "ipython3",
   "version": "3.4.3"
  }
 },
 "nbformat": 4,
 "nbformat_minor": 0
}
