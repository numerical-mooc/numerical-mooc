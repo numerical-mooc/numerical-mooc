{
 "cells": [
  {
   "cell_type": "code",
   "execution_count": 82,
   "metadata": {
    "collapsed": false
   },
   "outputs": [],
   "source": [
    "#importing needed functions\n",
    "import numpy\n",
    "from matplotlib import pyplot\n",
    "from math import sin, cos, log, ceil\n",
    "import math \n",
    "from matplotlib import rcParams\n",
    "%matplotlib inline\n"
   ]
  },
  {
   "cell_type": "markdown",
   "metadata": {},
   "source": [
    "Establishing constants"
   ]
  },
  {
   "cell_type": "code",
   "execution_count": 83,
   "metadata": {
    "collapsed": false
   },
   "outputs": [],
   "source": [
    "g=9.8                      #gravity\n",
    "Velocity_trim = 4.9        #Trim Velocity\n",
    "C_Drag=0.2                 #Coefficient of Drag, or D/L if C_lift=1\n",
    "C_Lift= 1.0             #Coefficient of Lift\n",
    "X_pos=0                  #Horizontal Position\n",
    "Y_pos=2                  #Average human height in meters\n"
   ]
  },
  {
   "cell_type": "markdown",
   "metadata": {},
   "source": [
    "Sets up a relationship as per Module 1 Notebook 3 where U is an array with 4 values (Velocity, Theta, X position, and y position) returns values for function f as u[1-4] are inputs\n",
    "    "
   ]
  },
  {
   "cell_type": "code",
   "execution_count": 84,
   "metadata": {
    "collapsed": true
   },
   "outputs": [],
   "source": [
    "\n",
    "\n",
    "def f(u):\n",
    "    v = u[0]\n",
    "    theta = u[1]\n",
    "    x = u[2]\n",
    "    y = u[3]\n",
    "    return numpy.array([-g*sin(theta) - C_Drag/C_Lift*g/Velocity_trim**2*v**2,\n",
    "                      -g*cos(theta)/v + g/Velocity_trim**2*v,\n",
    "                      v*cos(theta),\n",
    "                      v*sin(theta)])\n"
   ]
  },
  {
   "cell_type": "markdown",
   "metadata": {},
   "source": [
    "Now define the critical Euler step"
   ]
  },
  {
   "cell_type": "code",
   "execution_count": 85,
   "metadata": {
    "collapsed": true
   },
   "outputs": [],
   "source": [
    "def euler_step(u, f, dt):\n",
    "    return u + dt * f(u)"
   ]
  },
  {
   "cell_type": "markdown",
   "metadata": {},
   "source": [
    "This next equation is how I map the paper airplanes trajectory as a function of intial inputs velocity and angle of plane"
   ]
  },
  {
   "cell_type": "code",
   "execution_count": 86,
   "metadata": {
    "collapsed": false
   },
   "outputs": [],
   "source": [
    "def Trajectory(v0, theta0):\n",
    "    T=40             #gives my a time end so I don't start an infinite loop\n",
    "    dt=0.001         #Timestep\n",
    "    N=int(T/dt)+1   #Number of iterations \n",
    "    u=numpy.empty((N,4)) #Sets up an array of 4, which goes to N cells\n",
    "    u[0]=numpy.array([v0, theta0, X_pos, Y_pos])\n",
    "    \n",
    "\n",
    "    for n in range(N-1):\n",
    "        u[n+1]= euler_step(u[n], f, dt)\n",
    "        if u[n+1,3] < 0: #condition statement, if X position is zero the I have hit the ground\n",
    "            break\n",
    "        \n",
    "    return u,n\n",
    "        \n"
   ]
  },
  {
   "cell_type": "code",
   "execution_count": 87,
   "metadata": {
    "collapsed": false
   },
   "outputs": [],
   "source": [
    "v=numpy.linspace(4.9, 9, 5)\n",
    "theta=numpy.linspace(-3.14/4.0, 3.14/4, 5)\n"
   ]
  },
  {
   "cell_type": "code",
   "execution_count": 88,
   "metadata": {
    "collapsed": true
   },
   "outputs": [],
   "source": [
    "X_Max_Range=numpy.zeros((5,5),dtype=float)\n",
    "Max_Range=0"
   ]
  },
  {
   "cell_type": "code",
   "execution_count": 89,
   "metadata": {
    "collapsed": false
   },
   "outputs": [
    {
     "name": "stdout",
     "output_type": "stream",
     "text": [
      "[[  9.00000000e+00   7.85000000e-01   0.00000000e+00   2.00000000e+00]\n",
      " [  8.98646087e+00   7.87903202e-01   6.36649442e-03   2.00636143e+00]\n",
      " [  8.97292152e+00   7.90801959e-01   1.27049439e-02   2.01273171e+00]\n",
      " ..., \n",
      " [  0.00000000e+00   0.00000000e+00   0.00000000e+00   0.00000000e+00]\n",
      " [  0.00000000e+00   0.00000000e+00   0.00000000e+00   0.00000000e+00]\n",
      " [  0.00000000e+00   0.00000000e+00   0.00000000e+00   0.00000000e+00]]\n"
     ]
    }
   ],
   "source": [
    "\n",
    "for i in range(5):\n",
    "    for j in range(5):\n",
    "        u,n = Trajectory(v[i], theta[j])\n",
    "        X_flight = u[0:n,2]\n",
    "        Y_flight =u[0:n,3]\n",
    "        X_Max_Range[i][j]=X_flight[-1]\n",
    "        if (X_Max_Range[i][j] > Max_Range ):\n",
    "            Max_Range = X_Max_Range[i][j]\n",
    "            i_index=i\n",
    "            j_index=j\n",
    "print(u)"
   ]
  },
  {
   "cell_type": "code",
   "execution_count": 90,
   "metadata": {
    "collapsed": false
   },
   "outputs": [
    {
     "name": "stdout",
     "output_type": "stream",
     "text": [
      "Initial Velocity: 9.0\n",
      "Initial Angle: -0.3925\n",
      "Maximum Range: 17.7498443802\n"
     ]
    },
    {
     "data": {
      "image/png": "[encoded data removed]",
      "text/plain": [
       "<matplotlib.figure.Figure at 0x6efe748>"
      ]
     },
     "metadata": {},
     "output_type": "display_data"
    }
   ],
   "source": [
    "pyplot.figure(figsize=(10,5))\n",
    "pyplot.grid(True)\n",
    "pyplot.plot(X_flight, Y_flight)\n",
    "print(\"Initial Velocity:\", v[i_index])\n",
    "print(\"Initial Angle:\", theta[j_index])\n",
    "print(\"Maximum Range:\", Max_Range )"
   ]
  },
  {
   "cell_type": "code",
   "execution_count": null,
   "metadata": {
    "collapsed": true
   },
   "outputs": [],
   "source": []
  }
 ],
 "metadata": {
  "kernelspec": {
   "display_name": "Python 3",
   "language": "python",
   "name": "python3"
  },
  "language_info": {
   "codemirror_mode": {
    "name": "ipython",
    "version": 3
   },
   "file_extension": ".py",
   "mimetype": "text/x-python",
   "name": "python",
   "nbconvert_exporter": "python",
   "pygments_lexer": "ipython3",
   "version": "3.4.3"
  }
 },
 "nbformat": 4,
 "nbformat_minor": 0
}
