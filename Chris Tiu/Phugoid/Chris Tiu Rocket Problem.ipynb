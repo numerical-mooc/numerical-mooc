{
 "cells": [
  {
   "cell_type": "markdown",
   "metadata": {},
   "source": [
    "This is the Rocket Problem"
   ]
  },
  {
   "cell_type": "code",
   "execution_count": 40,
   "metadata": {
    "collapsed": false
   },
   "outputs": [],
   "source": [
    "import math\n",
    "from matplotlib import pyplot\n",
    "%matplotlib inline\n",
    "import numpy"
   ]
  },
  {
   "cell_type": "markdown",
   "metadata": {},
   "source": [
    "Code Description and Objective: \n",
    "This code seks to simulate the flight of a rocket as it goes up, runs out of fuel, then falls down. There is a component of drag to take into account, as well as gravity. The fuel burn rate shows that fuel only burns for 5 seconds before stopping. \n",
    "\n",
    "This dynamic system appears to have two equations: One for height as a function of velocity, and one for velocity as a function of alot of other forces."
   ]
  },
  {
   "cell_type": "markdown",
   "metadata": {},
   "source": [
    "Plan of Action:\n",
    "Step 1: Define input constants\n",
    "\n",
    "Step 2: Create arrays to hold: time values, height values, velocity values\n",
    "\n",
    "Step 3: create Euler code line for Height relationship\n",
    "\n",
    "Step 4: Create Euler code line for Velocity Relationship\n"
   ]
  },
  {
   "cell_type": "markdown",
   "metadata": {},
   "source": [
    "Initial Parameters"
   ]
  },
  {
   "cell_type": "code",
   "execution_count": 60,
   "metadata": {
    "collapsed": true
   },
   "outputs": [],
   "source": [
    "M_structure=50 #mass of rocket structure\n",
    "G=9.81 #gravity, duh\n",
    "density=1.091  #air density\n",
    "radius=0.5 #rocket radius\n",
    "Rocket_Area=3.14*radius**2 #Area of the Rocket\n",
    "Exhaust_Velocity=325 #exhaust velocity\n",
    "Cdrag=0.15 #coefficient of Drag \n",
    "M_propellant0=100 #initial weight of the rockets propellant\n",
    "M_propellant=M_propellant0 #variable for rocket's propellant weight\n",
    "M_Propellant_rate= 20 #Rate of change of propellant mass given by graph\n",
    "Time_final= 60 #Arbitrary stopping time, rocket should be on ground by then.\n",
    "dt=0.1\n",
    "\n",
    "#My graphical representation will be a graph of Height vs Time\n",
    "\n",
    "#Setting up my Time Axis\n",
    "N=int(Time_final/dt)"
   ]
  },
  {
   "cell_type": "code",
   "execution_count": 42,
   "metadata": {
    "collapsed": false
   },
   "outputs": [
    {
     "name": "stdout",
     "output_type": "stream",
     "text": [
      "600\n"
     ]
    }
   ],
   "source": [
    "print(N)"
   ]
  },
  {
   "cell_type": "code",
   "execution_count": 43,
   "metadata": {
    "collapsed": true
   },
   "outputs": [],
   "source": [
    "t=numpy.linspace(0,Time_final,N+1) #Create a time array to hold time values, should be 601 in length"
   ]
  },
  {
   "cell_type": "code",
   "execution_count": 44,
   "metadata": {
    "collapsed": false
   },
   "outputs": [
    {
     "name": "stdout",
     "output_type": "stream",
     "text": [
      "[  0.    0.1   0.2   0.3   0.4   0.5   0.6   0.7   0.8   0.9   1.    1.1\n",
      "   1.2   1.3   1.4   1.5   1.6   1.7   1.8   1.9   2.    2.1   2.2   2.3\n",
      "   2.4   2.5   2.6   2.7   2.8   2.9   3.    3.1   3.2   3.3   3.4   3.5\n",
      "   3.6   3.7   3.8   3.9   4.    4.1   4.2   4.3   4.4   4.5   4.6   4.7\n",
      "   4.8   4.9   5.    5.1   5.2   5.3   5.4   5.5   5.6   5.7   5.8   5.9\n",
      "   6.    6.1   6.2   6.3   6.4   6.5   6.6   6.7   6.8   6.9   7.    7.1\n",
      "   7.2   7.3   7.4   7.5   7.6   7.7   7.8   7.9   8.    8.1   8.2   8.3\n",
      "   8.4   8.5   8.6   8.7   8.8   8.9   9.    9.1   9.2   9.3   9.4   9.5\n",
      "   9.6   9.7   9.8   9.9  10.   10.1  10.2  10.3  10.4  10.5  10.6  10.7\n",
      "  10.8  10.9  11.   11.1  11.2  11.3  11.4  11.5  11.6  11.7  11.8  11.9\n",
      "  12.   12.1  12.2  12.3  12.4  12.5  12.6  12.7  12.8  12.9  13.   13.1\n",
      "  13.2  13.3  13.4  13.5  13.6  13.7  13.8  13.9  14.   14.1  14.2  14.3\n",
      "  14.4  14.5  14.6  14.7  14.8  14.9  15.   15.1  15.2  15.3  15.4  15.5\n",
      "  15.6  15.7  15.8  15.9  16.   16.1  16.2  16.3  16.4  16.5  16.6  16.7\n",
      "  16.8  16.9  17.   17.1  17.2  17.3  17.4  17.5  17.6  17.7  17.8  17.9\n",
      "  18.   18.1  18.2  18.3  18.4  18.5  18.6  18.7  18.8  18.9  19.   19.1\n",
      "  19.2  19.3  19.4  19.5  19.6  19.7  19.8  19.9  20.   20.1  20.2  20.3\n",
      "  20.4  20.5  20.6  20.7  20.8  20.9  21.   21.1  21.2  21.3  21.4  21.5\n",
      "  21.6  21.7  21.8  21.9  22.   22.1  22.2  22.3  22.4  22.5  22.6  22.7\n",
      "  22.8  22.9  23.   23.1  23.2  23.3  23.4  23.5  23.6  23.7  23.8  23.9\n",
      "  24.   24.1  24.2  24.3  24.4  24.5  24.6  24.7  24.8  24.9  25.   25.1\n",
      "  25.2  25.3  25.4  25.5  25.6  25.7  25.8  25.9  26.   26.1  26.2  26.3\n",
      "  26.4  26.5  26.6  26.7  26.8  26.9  27.   27.1  27.2  27.3  27.4  27.5\n",
      "  27.6  27.7  27.8  27.9  28.   28.1  28.2  28.3  28.4  28.5  28.6  28.7\n",
      "  28.8  28.9  29.   29.1  29.2  29.3  29.4  29.5  29.6  29.7  29.8  29.9\n",
      "  30.   30.1  30.2  30.3  30.4  30.5  30.6  30.7  30.8  30.9  31.   31.1\n",
      "  31.2  31.3  31.4  31.5  31.6  31.7  31.8  31.9  32.   32.1  32.2  32.3\n",
      "  32.4  32.5  32.6  32.7  32.8  32.9  33.   33.1  33.2  33.3  33.4  33.5\n",
      "  33.6  33.7  33.8  33.9  34.   34.1  34.2  34.3  34.4  34.5  34.6  34.7\n",
      "  34.8  34.9  35.   35.1  35.2  35.3  35.4  35.5  35.6  35.7  35.8  35.9\n",
      "  36.   36.1  36.2  36.3  36.4  36.5  36.6  36.7  36.8  36.9  37.   37.1\n",
      "  37.2  37.3  37.4  37.5  37.6  37.7  37.8  37.9  38.   38.1  38.2  38.3\n",
      "  38.4  38.5  38.6  38.7  38.8  38.9  39.   39.1  39.2  39.3  39.4  39.5\n",
      "  39.6  39.7  39.8  39.9  40.   40.1  40.2  40.3  40.4  40.5  40.6  40.7\n",
      "  40.8  40.9  41.   41.1  41.2  41.3  41.4  41.5  41.6  41.7  41.8  41.9\n",
      "  42.   42.1  42.2  42.3  42.4  42.5  42.6  42.7  42.8  42.9  43.   43.1\n",
      "  43.2  43.3  43.4  43.5  43.6  43.7  43.8  43.9  44.   44.1  44.2  44.3\n",
      "  44.4  44.5  44.6  44.7  44.8  44.9  45.   45.1  45.2  45.3  45.4  45.5\n",
      "  45.6  45.7  45.8  45.9  46.   46.1  46.2  46.3  46.4  46.5  46.6  46.7\n",
      "  46.8  46.9  47.   47.1  47.2  47.3  47.4  47.5  47.6  47.7  47.8  47.9\n",
      "  48.   48.1  48.2  48.3  48.4  48.5  48.6  48.7  48.8  48.9  49.   49.1\n",
      "  49.2  49.3  49.4  49.5  49.6  49.7  49.8  49.9  50.   50.1  50.2  50.3\n",
      "  50.4  50.5  50.6  50.7  50.8  50.9  51.   51.1  51.2  51.3  51.4  51.5\n",
      "  51.6  51.7  51.8  51.9  52.   52.1  52.2  52.3  52.4  52.5  52.6  52.7\n",
      "  52.8  52.9  53.   53.1  53.2  53.3  53.4  53.5  53.6  53.7  53.8  53.9\n",
      "  54.   54.1  54.2  54.3  54.4  54.5  54.6  54.7  54.8  54.9  55.   55.1\n",
      "  55.2  55.3  55.4  55.5  55.6  55.7  55.8  55.9  56.   56.1  56.2  56.3\n",
      "  56.4  56.5  56.6  56.7  56.8  56.9  57.   57.1  57.2  57.3  57.4  57.5\n",
      "  57.6  57.7  57.8  57.9  58.   58.1  58.2  58.3  58.4  58.5  58.6  58.7\n",
      "  58.8  58.9  59.   59.1  59.2  59.3  59.4  59.5  59.6  59.7  59.8  59.9\n",
      "  60. ]\n"
     ]
    }
   ],
   "source": [
    "print(t)"
   ]
  },
  {
   "cell_type": "code",
   "execution_count": 45,
   "metadata": {
    "collapsed": false
   },
   "outputs": [
    {
     "data": {
      "text/plain": [
       "True"
      ]
     },
     "execution_count": 45,
     "metadata": {},
     "output_type": "execute_result"
    }
   ],
   "source": [
    "len(t)==601 #verifying length of the \"t\" array."
   ]
  },
  {
   "cell_type": "code",
   "execution_count": 46,
   "metadata": {
    "collapsed": true
   },
   "outputs": [],
   "source": [
    "#create arrays to hold my altitude and velocit values\n",
    "\n",
    "altitude=numpy.zeros(N+1)\n",
    "velocity=numpy.zeros(N+1) #Both of these arrays should have 601 cells"
   ]
  },
  {
   "cell_type": "code",
   "execution_count": 47,
   "metadata": {
    "collapsed": false
   },
   "outputs": [
    {
     "data": {
      "text/plain": [
       "True"
      ]
     },
     "execution_count": 47,
     "metadata": {},
     "output_type": "execute_result"
    }
   ],
   "source": [
    "len(altitude)==601"
   ]
  },
  {
   "cell_type": "code",
   "execution_count": 48,
   "metadata": {
    "collapsed": false
   },
   "outputs": [
    {
     "data": {
      "text/plain": [
       "True"
      ]
     },
     "execution_count": 48,
     "metadata": {},
     "output_type": "execute_result"
    }
   ],
   "source": [
    "len(velocity)==601"
   ]
  },
  {
   "cell_type": "code",
   "execution_count": 49,
   "metadata": {
    "collapsed": true
   },
   "outputs": [],
   "source": [
    "#Initiallizing my velocity and height first cell\n",
    "altitude[0]=0\n",
    "velocity[0]=0"
   ]
  },
  {
   "cell_type": "code",
   "execution_count": 65,
   "metadata": {
    "collapsed": true
   },
   "outputs": [],
   "source": [
    "#creating variables to represent maximum velocity and height\n",
    "max_altitude=0\n",
    "max_velocity=0\n",
    "\n",
    "MsMp= (M_structure+M_propellant)\n",
    "MpVe= (M_Propellant_rate*Exhaust_Velocity)\n",
    "RoACD=(density*Rocket_Area*Cdrag)"
   ]
  },
  {
   "cell_type": "markdown",
   "metadata": {},
   "source": [
    "From here start the code, For Loops:"
   ]
  },
  {
   "cell_type": "markdown",
   "metadata": {},
   "source": [
    "   Euler for Velocity \"the hard way\":  velocity[n+1]=velocity[n]+dt*(-G+(M_Propellant_rate*Exhaust_Velocity)/(M_structure+M_propellant)-(0.5)*(density*velocity[n]*abs(velocity[n])*Rocket_Area*Cdrag)/(M_structure+M_propellant))"
   ]
  },
  {
   "cell_type": "code",
   "execution_count": 68,
   "metadata": {
    "collapsed": false
   },
   "outputs": [],
   "source": [
    "#my step index for all analysis will be \"n\"\n",
    "for n in range (0,N,1):\n",
    "    \n",
    "    altitude[n+1]=altitude[n]+dt*velocity[n]  #Euler to show time stepping of altitude\n",
    "    Time_Axis=n*dt\n",
    "    velocity[n+1]= velocity[n] + dt*(-G + MpVe/MsMp -(0.5)*velocity[n]*abs(velocity[n])*RoACD/MsMp)"
   ]
  },
  {
   "cell_type": "code",
   "execution_count": 69,
   "metadata": {
    "collapsed": false
   },
   "outputs": [
    {
     "name": "stdout",
     "output_type": "stream",
     "text": [
      "[   0.            3.35233333    6.70418543   10.05459409   13.40259837\n",
      "   16.74723964   20.08756276   23.42261708   26.75145759   30.07314595\n",
      "   33.38675154   36.69135253   39.98603685   43.26990321   46.54206205\n",
      "   49.80163647   53.04776317   56.27959331   59.49629334   62.69704586\n",
      "   65.88105034   69.04752389   72.19570193   75.32483891   78.43420886\n",
      "   81.52310599   84.59084525   87.6367628    90.66021643   93.66058603\n",
      "   96.6372739    99.58970507  102.51732761  105.41961281  108.29605541\n",
      "  111.14617373  113.96950978  116.7656293   119.5341218   122.27460058\n",
      "  124.98670259  127.67008842  130.32444216  132.94947118  135.54490602\n",
      "  138.11050011  140.64602954  143.15129275  145.62611025  148.07032427\n",
      "  150.4837984   152.86641721  155.21808583  157.53872955  159.82829337\n",
      "  162.08674153  164.31405706  166.51024128  168.67531331  170.80930956\n",
      "  172.91228322  174.98430371  177.02545619  179.035841    181.01557313\n",
      "  182.9647817   184.88360936  186.77221182  188.63075726  190.45942582\n",
      "  192.25840904  194.02790936  195.76813956  197.47932229  199.16168947\n",
      "  200.81548188  202.44094859  204.03834651  205.60793987  207.14999978\n",
      "  208.66480376  210.15263526  211.61378325  213.04854178  214.45720954\n",
      "  215.84008945  217.19748831  218.52971634  219.83708685  221.11991589\n",
      "  222.37852184  223.61322513  224.82434787  226.01221357  227.1771468\n",
      "  228.31947291  229.43951776  230.53760745  231.61406804  232.66922531\n",
      "  233.70340456  234.71693033  235.71012621  236.68331465  237.63681674\n",
      "  238.57095204  239.4860384   240.38239181  241.26032624  242.12015345\n",
      "  242.96218293  243.78672171  244.59407427  245.3845424   246.15842514\n",
      "  246.91601863  247.65761605  248.38350754  249.09398013  249.78931761\n",
      "  250.46980056  251.13570623  251.78730849  252.42487782  253.04868123\n",
      "  253.65898225  254.25604089  254.84011362  255.41145334  255.97030936\n",
      "  256.51692741  257.05154959  257.57441442  258.08575678  258.58580795\n",
      "  259.07479559  259.55294379  260.020473    260.47760014  260.92453853\n",
      "  261.36149798  261.78868473  262.20630157  262.61454775  263.01361912\n",
      "  263.40370806  263.78500357  264.15769128  264.52195348  264.87796915\n",
      "  265.225914    265.56596052  265.89827797  266.22303247  266.54038699\n",
      "  266.85050142  267.15353262  267.44963441  267.73895764  268.02165025\n",
      "  268.29785726  268.56772087  268.83138044  269.08897258  269.34063116\n",
      "  269.58648738  269.82666977  270.06130429  270.2905143   270.51442067\n",
      "  270.73314176  270.94679352  271.15548948  271.35934082  271.5584564\n",
      "  271.75294281  271.94290438  272.12844327  272.30965945  272.4866508\n",
      "  272.65951309  272.82834007  272.99322346  273.15425303  273.3115166\n",
      "  273.4651001   273.61508761  273.76156137  273.90460185  274.04428773\n",
      "  274.18069601  274.31390197  274.44397926  274.57099989  274.69503429\n",
      "  274.81615134  274.93441838  275.04990126  275.16266437  275.27277066\n",
      "  275.38028168  275.4852576   275.58775723  275.68783809  275.78555639\n",
      "  275.88096706  275.97412381  276.06507914  276.15388434  276.24058958\n",
      "  276.32524384  276.40789503  276.48858995  276.56737434  276.64429289\n",
      "  276.71938928  276.79270618  276.8642853   276.93416738  277.00239224\n",
      "  277.06899876  277.13402496  277.19750796  277.25948404  277.31998863\n",
      "  277.37905635  277.43672103  277.4930157   277.54797263  277.60162336\n",
      "  277.65399868  277.70512867  277.75504271  277.80376951  277.8513371\n",
      "  277.89777285  277.94310353  277.98735524  278.0305535   278.07272322\n",
      "  278.11388874  278.15407382  278.19330169  278.23159499  278.26897588\n",
      "  278.30546597  278.34108638  278.37585771  278.40980011  278.44293324\n",
      "  278.4752763   278.50684803  278.53766674  278.56775032  278.59711622\n",
      "  278.62578148  278.65376275  278.68107629  278.70773796  278.73376326\n",
      "  278.75916732  278.78396491  278.80817046  278.83179806  278.85486144\n",
      "  278.87737405  278.89934899  278.92079906  278.94173675  278.96217427\n",
      "  278.98212353  279.00159616  279.02060351  279.03915667  279.05726647\n",
      "  279.07494346  279.09219797  279.10904007  279.12547959  279.14152613\n",
      "  279.15718907  279.17247754  279.18740049  279.20196663  279.21618447\n",
      "  279.23006233  279.24360833  279.25683037  279.26973619  279.28233335\n",
      "  279.2946292   279.30663095  279.31834561  279.32978004  279.34094093\n",
      "  279.35183482  279.36246808  279.37284694  279.38297748  279.39286562\n",
      "  279.40251716  279.41193775  279.42113291  279.43010803  279.43886837\n",
      "  279.44741906  279.45576511  279.46391141  279.47186274  279.47962375\n",
      "  279.48719901  279.49459294  279.50180989  279.50885408  279.51572965\n",
      "  279.52244063  279.52899096  279.53538447  279.54162493  279.54771598\n",
      "  279.55366121  279.55946409  279.56512805  279.57065639  279.57605237\n",
      "  279.58131914  279.58645981  279.59147739  279.59637482  279.60115499\n",
      "  279.60582068  279.61037465  279.61481957  279.61915805  279.62339263\n",
      "  279.6275258   279.63155999  279.63549757  279.63934085  279.64309208\n",
      "  279.64675348  279.65032718  279.6538153   279.65721987  279.6605429\n",
      "  279.66378634  279.6669521   279.67004203  279.67305795  279.67600164\n",
      "  279.67887482  279.68167917  279.68441636  279.68708798  279.68969561\n",
      "  279.69224077  279.69472497  279.69714966  279.69951627  279.7018262\n",
      "  279.70408078  279.70628136  279.70842923  279.71052564  279.71257183\n",
      "  279.71456901  279.71651834  279.71842097  279.72027803  279.72209059\n",
      "  279.72385974  279.7255865   279.72727189  279.72891691  279.73052252\n",
      "  279.73208966  279.73361926  279.73511221  279.73656939  279.73799167\n",
      "  279.73937987  279.74073481  279.74205729  279.74334809  279.74460796\n",
      "  279.74583765  279.74703788  279.74820935  279.74935275  279.75046876\n",
      "  279.75155803  279.7526212   279.7536589   279.75467174  279.75566031\n",
      "  279.7566252   279.75756697  279.75848617  279.75938335  279.76025904\n",
      "  279.76111374  279.76194797  279.7627622   279.76355693  279.76433262\n",
      "  279.76508972  279.76582868  279.76654994  279.76725391  279.76794102\n",
      "  279.76861166  279.76926624  279.76990513  279.77052871  279.77113735\n",
      "  279.77173141  279.77231123  279.77287716  279.77342953  279.77396867\n",
      "  279.77449489  279.7750085   279.7755098   279.77599909  279.77647666\n",
      "  279.77694278  279.77739774  279.77784179  279.7782752   279.77869823\n",
      "  279.77911112  279.77951412  279.77990747  279.78029138  279.7806661\n",
      "  279.78103184  279.78138882  279.78173724  279.78207731  279.78240924\n",
      "  279.78273321  279.78304942  279.78335805  279.78365929  279.78395331\n",
      "  279.78424028  279.78452038  279.78479376  279.7850606   279.78532104\n",
      "  279.78557524  279.78582334  279.78606551  279.78630187  279.78653257\n",
      "  279.78675774  279.78697751  279.78719202  279.78740139  279.78760574\n",
      "  279.78780519  279.78799987  279.78818988  279.78837533  279.78855635\n",
      "  279.78873302  279.78890546  279.78907377  279.78923805  279.78939839\n",
      "  279.78955489  279.78970764  279.78985673  279.79000224  279.79014427\n",
      "  279.7902829   279.7904182   279.79055026  279.79067916  279.79080497\n",
      "  279.79092776  279.79104761  279.79116459  279.79127877  279.79139021\n",
      "  279.79149898  279.79160514  279.79170876  279.7918099   279.79190861\n",
      "  279.79200496  279.792099    279.79219079  279.79228037  279.79236781\n",
      "  279.79245316  279.79253646  279.79261776  279.79269712  279.79277457\n",
      "  279.79285017  279.79292395  279.79299597  279.79306626  279.79313487\n",
      "  279.79320184  279.79326719  279.79333099  279.79339325  279.79345402\n",
      "  279.79351334  279.79357124  279.79362774  279.7936829   279.79373673\n",
      "  279.79378927  279.79384055  279.79389061  279.79393946  279.79398715\n",
      "  279.79403369  279.79407911  279.79412345  279.79416673  279.79420896\n",
      "  279.79425019  279.79429043  279.7943297   279.79436803  279.79440545\n",
      "  279.79444197  279.79447761  279.7945124   279.79454635  279.79457949\n",
      "  279.79461184  279.79464341  279.79467423  279.7947043   279.79473366\n",
      "  279.79476231  279.79479028  279.79481758  279.79484422  279.79487022\n",
      "  279.7948956   279.79492037  279.79494455  279.79496815  279.79499119\n",
      "  279.79501367  279.79503561  279.79505703  279.79507793  279.79509834\n",
      "  279.79511825  279.79513769  279.79515666  279.79517518  279.79519325\n",
      "  279.79521089  279.79522811  279.79524491  279.79526131  279.79527732\n",
      "  279.79529295  279.7953082   279.79532308  279.79533761  279.79535179\n",
      "  279.79536563  279.79537914  279.79539233  279.7954052   279.79541776\n",
      "  279.79543002  279.79544198  279.79545366  279.79546506  279.79547619\n",
      "  279.79548705  279.79549765  279.79550799  279.79551809  279.79552795\n",
      "  279.79553757  279.79554696  279.79555612  279.79556507  279.7955738\n",
      "  279.79558232  279.79559063  279.79559875  279.79560667  279.79561441\n",
      "  279.79562196  279.79562932  279.79563651  279.79564353  279.79565038\n",
      "  279.79565707]\n"
     ]
    }
   ],
   "source": [
    "print(velocity)"
   ]
  },
  {
   "cell_type": "code",
   "execution_count": 70,
   "metadata": {
    "collapsed": false
   },
   "outputs": [
    {
     "name": "stdout",
     "output_type": "stream",
     "text": [
      "[  0.00000000e+00   0.00000000e+00   3.35233333e-01   1.00565188e+00\n",
      "   2.01111129e+00   3.35137112e+00   5.02609509e+00   7.03485136e+00\n",
      "   9.37711307e+00   1.20522588e+01   1.50595734e+01   1.83982486e+01\n",
      "   2.20673838e+01   2.60659875e+01   3.03929778e+01   3.50471840e+01\n",
      "   4.00273477e+01   4.53321240e+01   5.09600833e+01   5.69097127e+01\n",
      "   6.31794173e+01   6.97675223e+01   7.66722747e+01   8.38918449e+01\n",
      "   9.14243288e+01   9.92677497e+01   1.07420060e+02   1.15879145e+02\n",
      "   1.24642821e+02   1.33708843e+02   1.43074901e+02   1.52738629e+02\n",
      "   1.62697599e+02   1.72949332e+02   1.83491293e+02   1.94320899e+02\n",
      "   2.05435516e+02   2.16832467e+02   2.28509030e+02   2.40462442e+02\n",
      "   2.52689902e+02   2.65188573e+02   2.77955581e+02   2.90988026e+02\n",
      "   3.04282973e+02   3.17837463e+02   3.31648513e+02   3.45713116e+02\n",
      "   3.60028246e+02   3.74590857e+02   3.89397889e+02   4.04446269e+02\n",
      "   4.19732911e+02   4.35254719e+02   4.51008592e+02   4.66991421e+02\n",
      "   4.83200096e+02   4.99631501e+02   5.16282525e+02   5.33150057e+02\n",
      "   5.50230988e+02   5.67522216e+02   5.85020646e+02   6.02723192e+02\n",
      "   6.20626776e+02   6.38728333e+02   6.57024812e+02   6.75513173e+02\n",
      "   6.94190394e+02   7.13053469e+02   7.32099412e+02   7.51325253e+02\n",
      "   7.70728044e+02   7.90304858e+02   8.10052790e+02   8.29968959e+02\n",
      "   8.50050507e+02   8.70294602e+02   8.90698437e+02   9.11259231e+02\n",
      "   9.31974231e+02   9.52840711e+02   9.73855975e+02   9.95017353e+02\n",
      "   1.01632221e+03   1.03776793e+03   1.05935194e+03   1.08107169e+03\n",
      "   1.10292466e+03   1.12490837e+03   1.14702036e+03   1.16925821e+03\n",
      "   1.19161953e+03   1.21410197e+03   1.23670319e+03   1.25942090e+03\n",
      "   1.28225285e+03   1.30519680e+03   1.32825056e+03   1.35141197e+03\n",
      "   1.37467889e+03   1.39804923e+03   1.42152093e+03   1.44509194e+03\n",
      "   1.46876027e+03   1.49252395e+03   1.51638105e+03   1.54032965e+03\n",
      "   1.56436789e+03   1.58849392e+03   1.61270594e+03   1.63700216e+03\n",
      "   1.66138083e+03   1.68584024e+03   1.71037869e+03   1.73499453e+03\n",
      "   1.75968613e+03   1.78445190e+03   1.80929025e+03   1.83419964e+03\n",
      "   1.85917858e+03   1.88422556e+03   1.90933913e+03   1.93451786e+03\n",
      "   1.95976035e+03   1.98506521e+03   2.01043111e+03   2.03585672e+03\n",
      "   2.06134073e+03   2.08688187e+03   2.11247890e+03   2.13813060e+03\n",
      "   2.16383575e+03   2.18959319e+03   2.21540177e+03   2.24126035e+03\n",
      "   2.26716783e+03   2.29312312e+03   2.31912517e+03   2.34517293e+03\n",
      "   2.37126538e+03   2.39740153e+03   2.42358040e+03   2.44980103e+03\n",
      "   2.47606249e+03   2.50236385e+03   2.52870422e+03   2.55508272e+03\n",
      "   2.58149849e+03   2.60795069e+03   2.63443848e+03   2.66096107e+03\n",
      "   2.68751767e+03   2.71410750e+03   2.74072980e+03   2.76738384e+03\n",
      "   2.79406889e+03   2.82078424e+03   2.84752921e+03   2.87430310e+03\n",
      "   2.90110527e+03   2.92793505e+03   2.95479182e+03   2.98167496e+03\n",
      "   3.00858386e+03   3.03551792e+03   3.06247657e+03   3.08945924e+03\n",
      "   3.11646537e+03   3.14349442e+03   3.17054586e+03   3.19761918e+03\n",
      "   3.22471386e+03   3.25182941e+03   3.27896534e+03   3.30612119e+03\n",
      "   3.33329648e+03   3.36049077e+03   3.38770361e+03   3.41493458e+03\n",
      "   3.44218325e+03   3.46944920e+03   3.49673203e+03   3.52403135e+03\n",
      "   3.55134678e+03   3.57867793e+03   3.60602444e+03   3.63338595e+03\n",
      "   3.66076210e+03   3.68815256e+03   3.71555699e+03   3.74297506e+03\n",
      "   3.77040645e+03   3.79785085e+03   3.82530795e+03   3.85277745e+03\n",
      "   3.88025907e+03   3.90775251e+03   3.93525750e+03   3.96277377e+03\n",
      "   3.99030105e+03   4.01783907e+03   4.04538760e+03   4.07294638e+03\n",
      "   4.10051516e+03   4.12809371e+03   4.15568181e+03   4.18327922e+03\n",
      "   4.21088573e+03   4.23850112e+03   4.26612518e+03   4.29375770e+03\n",
      "   4.32139849e+03   4.34904735e+03   4.37670409e+03   4.40436852e+03\n",
      "   4.43204046e+03   4.45971973e+03   4.48740616e+03   4.51509957e+03\n",
      "   4.54279981e+03   4.57050671e+03   4.59822011e+03   4.62593987e+03\n",
      "   4.65366581e+03   4.68139781e+03   4.70913572e+03   4.73687939e+03\n",
      "   4.76462869e+03   4.79238349e+03   4.82014365e+03   4.84790905e+03\n",
      "   4.87567956e+03   4.90345507e+03   4.93123545e+03   4.95902058e+03\n",
      "   4.98681036e+03   5.01460467e+03   5.04240340e+03   5.07020646e+03\n",
      "   5.09801373e+03   5.12582512e+03   5.15364053e+03   5.18145986e+03\n",
      "   5.20928302e+03   5.23710991e+03   5.26494046e+03   5.29277457e+03\n",
      "   5.32061215e+03   5.34845313e+03   5.37629743e+03   5.40414496e+03\n",
      "   5.43199564e+03   5.45984941e+03   5.48770618e+03   5.51556589e+03\n",
      "   5.54342847e+03   5.57129385e+03   5.59916196e+03   5.62703273e+03\n",
      "   5.65490611e+03   5.68278202e+03   5.71066042e+03   5.73854124e+03\n",
      "   5.76642442e+03   5.79430990e+03   5.82219764e+03   5.85008757e+03\n",
      "   5.87797965e+03   5.90587383e+03   5.93377005e+03   5.96166826e+03\n",
      "   5.98956842e+03   6.01747048e+03   6.04537439e+03   6.07328012e+03\n",
      "   6.10118761e+03   6.12909683e+03   6.15700774e+03   6.18492029e+03\n",
      "   6.21283444e+03   6.24075016e+03   6.26866741e+03   6.29658615e+03\n",
      "   6.32450634e+03   6.35242796e+03   6.38035097e+03   6.40827533e+03\n",
      "   6.43620101e+03   6.46412798e+03   6.49205622e+03   6.51998568e+03\n",
      "   6.54791634e+03   6.57584818e+03   6.60378116e+03   6.63171525e+03\n",
      "   6.65965043e+03   6.68758668e+03   6.71552397e+03   6.74346226e+03\n",
      "   6.77140155e+03   6.79934180e+03   6.82728300e+03   6.85522511e+03\n",
      "   6.88316812e+03   6.91111201e+03   6.93905675e+03   6.96700232e+03\n",
      "   6.99494872e+03   7.02289590e+03   7.05084386e+03   7.07879258e+03\n",
      "   7.10674204e+03   7.13469222e+03   7.16264311e+03   7.19059468e+03\n",
      "   7.21854693e+03   7.24649983e+03   7.27445336e+03   7.30240753e+03\n",
      "   7.33036230e+03   7.35831766e+03   7.38627361e+03   7.41423012e+03\n",
      "   7.44218719e+03   7.47014480e+03   7.49810293e+03   7.52606157e+03\n",
      "   7.55402072e+03   7.58198036e+03   7.60994047e+03   7.63790106e+03\n",
      "   7.66586209e+03   7.69382358e+03   7.72178549e+03   7.74974783e+03\n",
      "   7.77771058e+03   7.80567374e+03   7.83363729e+03   7.86160122e+03\n",
      "   7.88956553e+03   7.91753021e+03   7.94549524e+03   7.97346062e+03\n",
      "   8.00142634e+03   8.02939240e+03   8.05735878e+03   8.08532547e+03\n",
      "   8.11329248e+03   8.14125978e+03   8.16922738e+03   8.19719527e+03\n",
      "   8.22516344e+03   8.25313188e+03   8.28110059e+03   8.30906956e+03\n",
      "   8.33703878e+03   8.36500825e+03   8.39297797e+03   8.42094792e+03\n",
      "   8.44891810e+03   8.47688851e+03   8.50485914e+03   8.53282998e+03\n",
      "   8.56080103e+03   8.58877229e+03   8.61674375e+03   8.64471540e+03\n",
      "   8.67268724e+03   8.70065927e+03   8.72863148e+03   8.75660387e+03\n",
      "   8.78457642e+03   8.81254915e+03   8.84052204e+03   8.86849510e+03\n",
      "   8.89646830e+03   8.92444167e+03   8.95241518e+03   8.98038883e+03\n",
      "   9.00836263e+03   9.03633657e+03   9.06431064e+03   9.09228485e+03\n",
      "   9.12025919e+03   9.14823365e+03   9.17620823e+03   9.20418293e+03\n",
      "   9.23215775e+03   9.26013269e+03   9.28810774e+03   9.31608289e+03\n",
      "   9.34405815e+03   9.37203352e+03   9.40000899e+03   9.42798455e+03\n",
      "   9.45596022e+03   9.48393597e+03   9.51191182e+03   9.53988776e+03\n",
      "   9.56786379e+03   9.59583990e+03   9.62381609e+03   9.65179237e+03\n",
      "   9.67976872e+03   9.70774516e+03   9.73572167e+03   9.76369825e+03\n",
      "   9.79167490e+03   9.81965163e+03   9.84762842e+03   9.87560528e+03\n",
      "   9.90358221e+03   9.93155920e+03   9.95953625e+03   9.98751337e+03\n",
      "   1.00154905e+04   1.00434678e+04   1.00714451e+04   1.00994224e+04\n",
      "   1.01273998e+04   1.01553772e+04   1.01833548e+04   1.02113323e+04\n",
      "   1.02393099e+04   1.02672875e+04   1.02952652e+04   1.03232430e+04\n",
      "   1.03512208e+04   1.03791986e+04   1.04071765e+04   1.04351544e+04\n",
      "   1.04631323e+04   1.04911103e+04   1.05190883e+04   1.05470664e+04\n",
      "   1.05750445e+04   1.06030227e+04   1.06310008e+04   1.06589790e+04\n",
      "   1.06869573e+04   1.07149356e+04   1.07429139e+04   1.07708922e+04\n",
      "   1.07988706e+04   1.08268490e+04   1.08548274e+04   1.08828058e+04\n",
      "   1.09107843e+04   1.09387628e+04   1.09667413e+04   1.09947199e+04\n",
      "   1.10226985e+04   1.10506771e+04   1.10786557e+04   1.11066344e+04\n",
      "   1.11346131e+04   1.11625918e+04   1.11905705e+04   1.12185492e+04\n",
      "   1.12465280e+04   1.12745068e+04   1.13024856e+04   1.13304644e+04\n",
      "   1.13584432e+04   1.13864221e+04   1.14144009e+04   1.14423798e+04\n",
      "   1.14703587e+04   1.14983377e+04   1.15263166e+04   1.15542956e+04\n",
      "   1.15822745e+04   1.16102535e+04   1.16382325e+04   1.16662115e+04\n",
      "   1.16941906e+04   1.17221696e+04   1.17501486e+04   1.17781277e+04\n",
      "   1.18061068e+04   1.18340859e+04   1.18620650e+04   1.18900441e+04\n",
      "   1.19180232e+04   1.19460024e+04   1.19739815e+04   1.20019607e+04\n",
      "   1.20299399e+04   1.20579190e+04   1.20858982e+04   1.21138774e+04\n",
      "   1.21418566e+04   1.21698359e+04   1.21978151e+04   1.22257943e+04\n",
      "   1.22537736e+04   1.22817528e+04   1.23097321e+04   1.23377114e+04\n",
      "   1.23656906e+04   1.23936699e+04   1.24216492e+04   1.24496285e+04\n",
      "   1.24776078e+04   1.25055871e+04   1.25335665e+04   1.25615458e+04\n",
      "   1.25895251e+04   1.26175045e+04   1.26454838e+04   1.26734631e+04\n",
      "   1.27014425e+04   1.27294219e+04   1.27574012e+04   1.27853806e+04\n",
      "   1.28133600e+04   1.28413394e+04   1.28693188e+04   1.28972982e+04\n",
      "   1.29252776e+04   1.29532570e+04   1.29812364e+04   1.30092158e+04\n",
      "   1.30371952e+04   1.30651746e+04   1.30931540e+04   1.31211335e+04\n",
      "   1.31491129e+04   1.31770923e+04   1.32050718e+04   1.32330512e+04\n",
      "   1.32610307e+04   1.32890101e+04   1.33169896e+04   1.33449690e+04\n",
      "   1.33729485e+04   1.34009280e+04   1.34289074e+04   1.34568869e+04\n",
      "   1.34848664e+04   1.35128458e+04   1.35408253e+04   1.35688048e+04\n",
      "   1.35967843e+04   1.36247638e+04   1.36527433e+04   1.36807228e+04\n",
      "   1.37087023e+04   1.37366818e+04   1.37646613e+04   1.37926408e+04\n",
      "   1.38206203e+04   1.38485998e+04   1.38765793e+04   1.39045588e+04\n",
      "   1.39325383e+04   1.39605178e+04   1.39884973e+04   1.40164768e+04\n",
      "   1.40444564e+04   1.40724359e+04   1.41004154e+04   1.41283949e+04\n",
      "   1.41563745e+04   1.41843540e+04   1.42123335e+04   1.42403130e+04\n",
      "   1.42682926e+04   1.42962721e+04   1.43242516e+04   1.43522312e+04\n",
      "   1.43802107e+04   1.44081903e+04   1.44361698e+04   1.44641493e+04\n",
      "   1.44921289e+04   1.45201084e+04   1.45480880e+04   1.45760675e+04\n",
      "   1.46040471e+04   1.46320266e+04   1.46600062e+04   1.46879857e+04\n",
      "   1.47159653e+04   1.47439448e+04   1.47719244e+04   1.47999039e+04\n",
      "   1.48278835e+04   1.48558630e+04   1.48838426e+04   1.49118222e+04\n",
      "   1.49398017e+04   1.49677813e+04   1.49957608e+04   1.50237404e+04\n",
      "   1.50517200e+04   1.50796995e+04   1.51076791e+04   1.51356586e+04\n",
      "   1.51636382e+04]\n"
     ]
    }
   ],
   "source": [
    "print(altitude)"
   ]
  },
  {
   "cell_type": "code",
   "execution_count": 71,
   "metadata": {
    "collapsed": false
   },
   "outputs": [
    {
     "data": {
      "text/plain": [
       "[<matplotlib.lines.Line2D at 0x61323c8>]"
      ]
     },
     "execution_count": 71,
     "metadata": {},
     "output_type": "execute_result"
    },
    {
     "data": {
      "image/png": "[encoded data removed]",
      "text/plain": [
       "<matplotlib.figure.Figure at 0x60f7d30>"
      ]
     },
     "metadata": {},
     "output_type": "display_data"
    }
   ],
   "source": [
    "pyplot.plot(altitude, velocity)"
   ]
  },
  {
   "cell_type": "code",
   "execution_count": 72,
   "metadata": {
    "collapsed": false
   },
   "outputs": [
    {
     "data": {
      "text/plain": [
       "[<matplotlib.lines.Line2D at 0x6191828>]"
      ]
     },
     "execution_count": 72,
     "metadata": {},
     "output_type": "execute_result"
    },
    {
     "data": {
      "image/png": "[encoded data removed]",
      "text/plain": [
       "<matplotlib.figure.Figure at 0x6107080>"
      ]
     },
     "metadata": {},
     "output_type": "display_data"
    }
   ],
   "source": [
    "pyplot.plot(velocity, altitude)"
   ]
  },
  {
   "cell_type": "code",
   "execution_count": null,
   "metadata": {
    "collapsed": true
   },
   "outputs": [],
   "source": []
  }
 ],
 "metadata": {
  "kernelspec": {
   "display_name": "Python 3",
   "language": "python",
   "name": "python3"
  },
  "language_info": {
   "codemirror_mode": {
    "name": "ipython",
    "version": 3
   },
   "file_extension": ".py",
   "mimetype": "text/x-python",
   "name": "python",
   "nbconvert_exporter": "python",
   "pygments_lexer": "ipython3",
   "version": "3.4.3"
  }
 },
 "nbformat": 4,
 "nbformat_minor": 0
}
