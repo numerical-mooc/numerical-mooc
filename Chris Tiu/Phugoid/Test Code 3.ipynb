{
 "cells": [
  {
   "cell_type": "code",
   "execution_count": 268,
   "metadata": {
    "collapsed": true
   },
   "outputs": [],
   "source": [
    "def euler_step(u, f, dt):\n",
    "    return u + dt * f(u)\n",
    "\n",
    "from math import sin, cos, log, ceil\n",
    "import numpy\n",
    "from matplotlib import pyplot\n",
    "%matplotlib inline\n",
    "from matplotlib import rcParams\n",
    "rcParams['font.family'] = 'serif'\n",
    "rcParams['font.size'] = 16"
   ]
  },
  {
   "cell_type": "code",
   "execution_count": 269,
   "metadata": {
    "collapsed": true
   },
   "outputs": [],
   "source": [
    "time=numpy.arange(0, 100, 1)"
   ]
  },
  {
   "cell_type": "code",
   "execution_count": 270,
   "metadata": {
    "collapsed": false
   },
   "outputs": [
    {
     "name": "stdout",
     "output_type": "stream",
     "text": [
      "[ 0  1  2  3  4  5  6  7  8  9 10 11 12 13 14 15 16 17 18 19 20 21 22 23 24\n",
      " 25 26 27 28 29 30 31 32 33 34 35 36 37 38 39 40 41 42 43 44 45 46 47 48 49\n",
      " 50 51 52 53 54 55 56 57 58 59 60 61 62 63 64 65 66 67 68 69 70 71 72 73 74\n",
      " 75 76 77 78 79 80 81 82 83 84 85 86 87 88 89 90 91 92 93 94 95 96 97 98 99]\n"
     ]
    }
   ],
   "source": [
    "print(time)"
   ]
  },
  {
   "cell_type": "code",
   "execution_count": 271,
   "metadata": {
    "collapsed": true
   },
   "outputs": [],
   "source": [
    "u=numpy.zeros(len(time))"
   ]
  },
  {
   "cell_type": "code",
   "execution_count": 272,
   "metadata": {
    "collapsed": false
   },
   "outputs": [
    {
     "name": "stdout",
     "output_type": "stream",
     "text": [
      "[ 0.  0.  0.  0.  0.  0.  0.  0.  0.  0.  0.  0.  0.  0.  0.  0.  0.  0.\n",
      "  0.  0.  0.  0.  0.  0.  0.  0.  0.  0.  0.  0.  0.  0.  0.  0.  0.  0.\n",
      "  0.  0.  0.  0.  0.  0.  0.  0.  0.  0.  0.  0.  0.  0.  0.  0.  0.  0.\n",
      "  0.  0.  0.  0.  0.  0.  0.  0.  0.  0.  0.  0.  0.  0.  0.  0.  0.  0.\n",
      "  0.  0.  0.  0.  0.  0.  0.  0.  0.  0.  0.  0.  0.  0.  0.  0.  0.  0.\n",
      "  0.  0.  0.  0.  0.  0.  0.  0.  0.  0.]\n"
     ]
    }
   ],
   "source": [
    "print(u)"
   ]
  },
  {
   "cell_type": "code",
   "execution_count": 273,
   "metadata": {
    "collapsed": true
   },
   "outputs": [],
   "source": [
    "u[0]=1"
   ]
  },
  {
   "cell_type": "code",
   "execution_count": 274,
   "metadata": {
    "collapsed": false
   },
   "outputs": [
    {
     "name": "stdout",
     "output_type": "stream",
     "text": [
      "[ 1.  0.  0.  0.  0.  0.  0.  0.  0.  0.  0.  0.  0.  0.  0.  0.  0.  0.\n",
      "  0.  0.  0.  0.  0.  0.  0.  0.  0.  0.  0.  0.  0.  0.  0.  0.  0.  0.\n",
      "  0.  0.  0.  0.  0.  0.  0.  0.  0.  0.  0.  0.  0.  0.  0.  0.  0.  0.\n",
      "  0.  0.  0.  0.  0.  0.  0.  0.  0.  0.  0.  0.  0.  0.  0.  0.  0.  0.\n",
      "  0.  0.  0.  0.  0.  0.  0.  0.  0.  0.  0.  0.  0.  0.  0.  0.  0.  0.\n",
      "  0.  0.  0.  0.  0.  0.  0.  0.  0.  0.]\n"
     ]
    }
   ],
   "source": [
    "print(u)"
   ]
  },
  {
   "cell_type": "markdown",
   "metadata": {},
   "source": [
    "f(u)=u+3"
   ]
  },
  {
   "cell_type": "code",
   "execution_count": 275,
   "metadata": {
    "collapsed": false
   },
   "outputs": [],
   "source": [
    "def f(u):\n",
    "    return u+3"
   ]
  },
  {
   "cell_type": "code",
   "execution_count": 276,
   "metadata": {
    "collapsed": false
   },
   "outputs": [],
   "source": [
    "dt=0.02\n",
    "for n in time[:-1]:\n",
    "    u[n+1]=euler_step(u[n],f,dt)"
   ]
  },
  {
   "cell_type": "code",
   "execution_count": 277,
   "metadata": {
    "collapsed": false
   },
   "outputs": [
    {
     "name": "stdout",
     "output_type": "stream",
     "text": [
      "[  1.           1.08         1.1616       1.244832     1.32972864\n",
      "   1.41632321   1.50464968   1.59474267   1.68663752   1.78037027\n",
      "   1.87597768   1.97349723   2.07296718   2.17442652   2.27791505\n",
      "   2.38347335   2.49114282   2.60096568   2.71298499   2.82724469\n",
      "   2.94378958   3.06266538   3.18391868   3.30759706   3.433749\n",
      "   3.56242398   3.69367246   3.82754591   3.96409682   4.10337876\n",
      "   4.24544634   4.39035526   4.53816237   4.68892562   4.84270413\n",
      "   4.99955821   5.15954937   5.32274036   5.48919517   5.65897907\n",
      "   5.83215865   6.00880183   6.18897786   6.37275742   6.56021257\n",
      "   6.75141682   6.94644516   7.14537406   7.34828154   7.55524717\n",
      "   7.76635212   7.98167916   8.20131274   8.425339     8.65384578\n",
      "   8.88692269   9.12466115   9.36715437   9.61449746   9.86678741\n",
      "  10.12412315  10.38660562  10.65433773  10.92742448  11.20597297\n",
      "  11.49009243  11.77989428  12.07549217  12.37700201  12.68454205\n",
      "  12.99823289  13.31819755  13.6445615   13.97745273  14.31700178\n",
      "  14.66334182  15.01660866  15.37694083  15.74447965  16.11936924\n",
      "  16.50175662  16.89179176  17.28962759  17.69542014  18.10932855\n",
      "  18.53151512  18.96214542  19.40138833  19.84941609  20.30640442\n",
      "  20.77253251  21.24798316  21.73294282  22.22760167  22.73215371\n",
      "  23.24679678  23.77173272  24.30716737  24.85331072  25.41037693]\n"
     ]
    }
   ],
   "source": [
    "print(u)"
   ]
  },
  {
   "cell_type": "code",
   "execution_count": 278,
   "metadata": {
    "collapsed": false
   },
   "outputs": [
    {
     "data": {
      "text/plain": [
       "[<matplotlib.lines.Line2D at 0x912ff28>]"
      ]
     },
     "execution_count": 278,
     "metadata": {},
     "output_type": "execute_result"
    },
    {
     "data": {
      "image/png": "[encoded data removed]",
      "text/plain": [
       "<matplotlib.figure.Figure at 0x90cb630>"
      ]
     },
     "metadata": {},
     "output_type": "display_data"
    }
   ],
   "source": [
    "pyplot.plot(time*dt, u)"
   ]
  },
  {
   "cell_type": "code",
   "execution_count": 279,
   "metadata": {
    "collapsed": false
   },
   "outputs": [
    {
     "data": {
      "text/plain": [
       "100"
      ]
     },
     "execution_count": 279,
     "metadata": {},
     "output_type": "execute_result"
    }
   ],
   "source": [
    "len(u)"
   ]
  },
  {
   "cell_type": "code",
   "execution_count": 280,
   "metadata": {
    "collapsed": false
   },
   "outputs": [
    {
     "data": {
      "text/plain": [
       "100"
      ]
     },
     "execution_count": 280,
     "metadata": {},
     "output_type": "execute_result"
    }
   ],
   "source": [
    "len(time)"
   ]
  },
  {
   "cell_type": "code",
   "execution_count": 281,
   "metadata": {
    "collapsed": false
   },
   "outputs": [
    {
     "data": {
      "text/plain": [
       "1.0"
      ]
     },
     "execution_count": 281,
     "metadata": {},
     "output_type": "execute_result"
    }
   ],
   "source": [
    "u[0]"
   ]
  },
  {
   "cell_type": "code",
   "execution_count": 282,
   "metadata": {
    "collapsed": false
   },
   "outputs": [
    {
     "data": {
      "text/plain": [
       "1.1616"
      ]
     },
     "execution_count": 282,
     "metadata": {},
     "output_type": "execute_result"
    }
   ],
   "source": [
    "u[2]"
   ]
  },
  {
   "cell_type": "code",
   "execution_count": 283,
   "metadata": {
    "collapsed": false
   },
   "outputs": [
    {
     "data": {
      "text/plain": [
       "array([  1.        ,   1.08      ,   1.1616    ,   1.244832  ,\n",
       "         1.32972864,   1.41632321,   1.50464968,   1.59474267,\n",
       "         1.68663752,   1.78037027,   1.87597768,   1.97349723,\n",
       "         2.07296718,   2.17442652,   2.27791505,   2.38347335,\n",
       "         2.49114282,   2.60096568,   2.71298499,   2.82724469,\n",
       "         2.94378958,   3.06266538,   3.18391868,   3.30759706,\n",
       "         3.433749  ,   3.56242398,   3.69367246,   3.82754591,\n",
       "         3.96409682,   4.10337876,   4.24544634,   4.39035526,\n",
       "         4.53816237,   4.68892562,   4.84270413,   4.99955821,\n",
       "         5.15954937,   5.32274036,   5.48919517,   5.65897907,\n",
       "         5.83215865,   6.00880183,   6.18897786,   6.37275742,\n",
       "         6.56021257,   6.75141682,   6.94644516,   7.14537406,\n",
       "         7.34828154,   7.55524717,   7.76635212,   7.98167916,\n",
       "         8.20131274,   8.425339  ,   8.65384578,   8.88692269,\n",
       "         9.12466115,   9.36715437,   9.61449746,   9.86678741,\n",
       "        10.12412315,  10.38660562,  10.65433773,  10.92742448,\n",
       "        11.20597297,  11.49009243,  11.77989428,  12.07549217,\n",
       "        12.37700201,  12.68454205,  12.99823289,  13.31819755,\n",
       "        13.6445615 ,  13.97745273,  14.31700178,  14.66334182,\n",
       "        15.01660866,  15.37694083,  15.74447965,  16.11936924,\n",
       "        16.50175662,  16.89179176,  17.28962759,  17.69542014,\n",
       "        18.10932855,  18.53151512,  18.96214542,  19.40138833,\n",
       "        19.84941609,  20.30640442,  20.77253251,  21.24798316,\n",
       "        21.73294282,  22.22760167,  22.73215371,  23.24679678,\n",
       "        23.77173272,  24.30716737,  24.85331072])"
      ]
     },
     "execution_count": 283,
     "metadata": {},
     "output_type": "execute_result"
    }
   ],
   "source": [
    "u[:-1]"
   ]
  },
  {
   "cell_type": "code",
   "execution_count": 284,
   "metadata": {
    "collapsed": false
   },
   "outputs": [
    {
     "data": {
      "text/plain": [
       "24.853310719924401"
      ]
     },
     "execution_count": 284,
     "metadata": {},
     "output_type": "execute_result"
    }
   ],
   "source": [
    "u[-2]"
   ]
  },
  {
   "cell_type": "code",
   "execution_count": 285,
   "metadata": {
    "collapsed": false
   },
   "outputs": [
    {
     "data": {
      "text/plain": [
       "array([  1.        ,   1.08      ,   1.1616    ,   1.244832  ,\n",
       "         1.32972864,   1.41632321,   1.50464968,   1.59474267,\n",
       "         1.68663752,   1.78037027,   1.87597768,   1.97349723,\n",
       "         2.07296718,   2.17442652,   2.27791505,   2.38347335,\n",
       "         2.49114282,   2.60096568,   2.71298499,   2.82724469,\n",
       "         2.94378958,   3.06266538,   3.18391868,   3.30759706,\n",
       "         3.433749  ,   3.56242398,   3.69367246,   3.82754591,\n",
       "         3.96409682,   4.10337876,   4.24544634,   4.39035526,\n",
       "         4.53816237,   4.68892562,   4.84270413,   4.99955821,\n",
       "         5.15954937,   5.32274036,   5.48919517,   5.65897907,\n",
       "         5.83215865,   6.00880183,   6.18897786,   6.37275742,\n",
       "         6.56021257,   6.75141682,   6.94644516,   7.14537406,\n",
       "         7.34828154,   7.55524717,   7.76635212,   7.98167916,\n",
       "         8.20131274,   8.425339  ,   8.65384578,   8.88692269,\n",
       "         9.12466115,   9.36715437,   9.61449746,   9.86678741,\n",
       "        10.12412315,  10.38660562,  10.65433773,  10.92742448,\n",
       "        11.20597297,  11.49009243,  11.77989428,  12.07549217,\n",
       "        12.37700201,  12.68454205,  12.99823289,  13.31819755,\n",
       "        13.6445615 ,  13.97745273,  14.31700178,  14.66334182,\n",
       "        15.01660866,  15.37694083,  15.74447965,  16.11936924,\n",
       "        16.50175662,  16.89179176,  17.28962759,  17.69542014,\n",
       "        18.10932855,  18.53151512,  18.96214542,  19.40138833,\n",
       "        19.84941609,  20.30640442,  20.77253251,  21.24798316,\n",
       "        21.73294282,  22.22760167,  22.73215371,  23.24679678,\n",
       "        23.77173272,  24.30716737,  24.85331072,  25.41037693])"
      ]
     },
     "execution_count": 285,
     "metadata": {},
     "output_type": "execute_result"
    }
   ],
   "source": [
    "u"
   ]
  }
 ],
 "metadata": {
  "kernelspec": {
   "display_name": "Python 3",
   "language": "python",
   "name": "python3"
  },
  "language_info": {
   "codemirror_mode": {
    "name": "ipython",
    "version": 3
   },
   "file_extension": ".py",
   "mimetype": "text/x-python",
   "name": "python",
   "nbconvert_exporter": "python",
   "pygments_lexer": "ipython3",
   "version": "3.4.3"
  }
 },
 "nbformat": 4,
 "nbformat_minor": 0
}
