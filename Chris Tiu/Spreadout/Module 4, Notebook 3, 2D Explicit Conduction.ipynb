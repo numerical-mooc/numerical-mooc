{
 "cells": [
  {
   "cell_type": "code",
   "execution_count": 33,
   "metadata": {
    "collapsed": true
   },
   "outputs": [],
   "source": [
    "import numpy\n",
    "from matplotlib import pyplot\n",
    "%matplotlib inline\n",
    "from matplotlib import rcParams\n",
    "rcParams['font.family']='serif'\n",
    "rcParams['font.size']=16"
   ]
  },
  {
   "cell_type": "code",
   "execution_count": 34,
   "metadata": {
    "collapsed": false
   },
   "outputs": [],
   "source": [
    "def ftcs(T, nt, alpha, dt, dx, dy):\n",
    "    \n",
    "    j_mid = int((numpy.shape(T)[0])/2) #this forces j_mid, i_mid to be integers so we can use them as indices?\n",
    "    i_mid = int((numpy.shape(T)[1])/2)\n",
    "    \n",
    "    #Need to make a 2D Array, T\n",
    "    \n",
    "    for n in range(nt):\n",
    "        \n",
    "        Tn = T.copy() #Remember, T[y,x]\n",
    "        \n",
    "        #The below line implements the 2D FTCS Discretization\n",
    "        \n",
    "        T[1:-1,1:-1] = Tn[1:-1,1:-1] + alpha*((dt/dy**2)*(Tn[2:,1:-1]-2*Tn[1:-1,1:-1]+Tn[:-2,1:-1])+\\\n",
    "                                              (dt/dx**2)*(Tn[1:-1,2:]-2*Tn[1:-1,1:-1]+Tn[1:-1,:-2]))\n",
    "        \n",
    "        #This next line enforces the Neumann BC's\n",
    "        T[-1,:]=T[-2,:]   #Y side\n",
    "        T[:,-1]=T[:,-2]   #X side\n",
    "        \n",
    "        #This line will tell us if the temperature limit of 70 degrees is reached\n",
    "        if T[j_mid, i_mid] >= 70:\n",
    "            print(\"Center of chip has reached 70C at time {0:.2f}s.\".format(dt*n))\n",
    "            break\n",
    "            \n",
    "    if T[j_mid, i_mid]<70:\n",
    "        print(\"Center has not reached 70C yet, it is only {0:.2f]C.\".format(T[j_mid, i_mid]))\n",
    "        \n",
    "    return T\n",
    "    \n",
    "    "
   ]
  },
  {
   "cell_type": "code",
   "execution_count": 35,
   "metadata": {
    "collapsed": false
   },
   "outputs": [],
   "source": [
    "L = 1e-2 #distance in meters, equals 1 cm\n",
    "H = 1e-2\n",
    "\n",
    "nx = 21\n",
    "ny = 21\n",
    "nt = 500\n",
    "\n",
    "dx = L/(nx-1)\n",
    "dy = H/(ny-1)\n",
    "\n",
    "x = numpy.linspace(0, L, nx) #Creates my plotting grid points\n",
    "y = numpy.linspace(0, H, ny) #Creates my plotting grid points\n",
    "\n",
    "alpha = 1e-4\n",
    "\n",
    "Ti = numpy.ones((ny,nx))*20 #Creates a 21 by 21 grid with al values equal to 20\n",
    "\n",
    "#Dirichlet Boundary conditions\n",
    "Ti[0,:]=100\n",
    "Ti[:,0]=100\n",
    "\n",
    "\n"
   ]
  },
  {
   "cell_type": "markdown",
   "metadata": {},
   "source": [
    "Apply the new stability criteria"
   ]
  },
  {
   "cell_type": "code",
   "execution_count": 36,
   "metadata": {
    "collapsed": false
   },
   "outputs": [
    {
     "name": "stdout",
     "output_type": "stream",
     "text": [
      "Center of chip has reached 70C at time 0.16s.\n"
     ]
    }
   ],
   "source": [
    "sigma = 0.25\n",
    "\n",
    "dt = sigma*min(dx,dy)**2/alpha\n",
    "\n",
    "T = ftcs(Ti.copy(), nt, alpha, dt, dx, dy)"
   ]
  },
  {
   "cell_type": "markdown",
   "metadata": {},
   "source": [
    "cool"
   ]
  },
  {
   "cell_type": "markdown",
   "metadata": {},
   "source": [
    "and now we make a countour plot"
   ]
  },
  {
   "cell_type": "code",
   "execution_count": 37,
   "metadata": {
    "collapsed": true
   },
   "outputs": [],
   "source": [
    "mx, my = numpy.meshgrid(x,y)"
   ]
  },
  {
   "cell_type": "code",
   "execution_count": 38,
   "metadata": {
    "collapsed": false
   },
   "outputs": [
    {
     "data": {
      "image/png": "[encoded data removed]",
      "text/plain": [
       "<matplotlib.figure.Figure at 0x7be8358>"
      ]
     },
     "metadata": {},
     "output_type": "display_data"
    }
   ],
   "source": [
    "pyplot.figure(figsize=(10,8))\n",
    "pyplot.contourf(mx,my,T,20)\n",
    "pyplot.xlabel('$X$')\n",
    "pyplot.ylabel('$Y$')\n",
    "pyplot.colorbar();"
   ]
  },
  {
   "cell_type": "code",
   "execution_count": null,
   "metadata": {
    "collapsed": true
   },
   "outputs": [],
   "source": []
  }
 ],
 "metadata": {
  "kernelspec": {
   "display_name": "Python 3",
   "language": "python",
   "name": "python3"
  },
  "language_info": {
   "codemirror_mode": {
    "name": "ipython",
    "version": 3
   },
   "file_extension": ".py",
   "mimetype": "text/x-python",
   "name": "python",
   "nbconvert_exporter": "python",
   "pygments_lexer": "ipython3",
   "version": "3.4.3"
  }
 },
 "nbformat": 4,
 "nbformat_minor": 0
}
