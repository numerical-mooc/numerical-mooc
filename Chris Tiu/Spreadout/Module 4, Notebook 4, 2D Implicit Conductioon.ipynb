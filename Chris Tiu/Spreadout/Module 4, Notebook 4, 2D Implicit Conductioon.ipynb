{
 "cells": [
  {
   "cell_type": "markdown",
   "metadata": {},
   "source": [
    "This is a VERY complicated Notebook. Linear system of Matrices, etc..."
   ]
  },
  {
   "cell_type": "code",
   "execution_count": 92,
   "metadata": {
    "collapsed": true
   },
   "outputs": [],
   "source": [
    "import numpy\n",
    "from scipy.linalg import solve\n"
   ]
  },
  {
   "cell_type": "code",
   "execution_count": 93,
   "metadata": {
    "collapsed": true
   },
   "outputs": [],
   "source": [
    "def constructMatrix(nx, ny, sigma):\n",
    "    \n",
    "    #creates the \"A\" matrix, implicit type, uses Diriclet in bottom/left and Neumann in top/right\n",
    "    \n",
    "    A = numpy.zeros(((nx-2)*(ny-2),(nx-2)*(ny-2)))\n",
    "    \n",
    "    row_number = 0 #this is a row counter\n",
    "    \n",
    "    for j in range(1, ny-1):\n",
    "        for i in range(1, nx-1):\n",
    "            \n",
    "            #Corners  \n",
    "            if i==1 and j==1:   #bottom left corner (Dirichlet down/left)\n",
    "                A[row_number, row_number]= (1/sigma)+4   #Set diagnol\n",
    "                A[row_number, row_number+1] =  -1        #fetch i+1\n",
    "                A[row_number, row_number+nx-2] = -1      #fetch j+1\n",
    "                \n",
    "            elif i==nx-2 and j==1: #bottom right corner (Dirichlet down, neumann left)\n",
    "                A[row_number, row_number] =       1/sigma+3   #set diagnol\n",
    "                A[row_number, row_number-1] =     -1          #fetch i-1\n",
    "                A[row_number, row_number-(nx-2)]= -1          #fetch j+1\n",
    "                \n",
    "            elif i==1 and j==ny-2:   #top left corner (nuemann uup, dirichlet left)\n",
    "                A[row_number,row_number] = 1/sigma+3   # Set diagonal\n",
    "                A[row_number,row_number+1] = -1        # fetch i+1\n",
    "                A[row_number,row_number-(nx-2)] = -1   # fetch j-1\n",
    "\n",
    "            elif i==nx-2 and j==ny-2: # Top right corner (Neumann up and right)\n",
    "                A[row_number,row_number] = 1/sigma+2   # Set diagonal\n",
    "                A[row_number,row_number-1] = -1        # Fetch i-1\n",
    "                A[row_number,row_number-(nx-2)] = -1   # fetch j-1\n",
    "            \n",
    "            #sides\n",
    "            \n",
    "            elif i==1: # Left boundary (Dirichlet)\n",
    "                A[row_number,row_number] = 1/sigma+4 # Set diagonal\n",
    "                A[row_number,row_number+1] = -1      # fetch i+1\n",
    "                A[row_number,row_number+nx-2] = -1   # fetch j+1\n",
    "                A[row_number,row_number-(nx-2)] = -1 # fetch j-1\n",
    "            \n",
    "            elif i==nx-2: # Right boundary (Neumann)\n",
    "                A[row_number,row_number] = 1/sigma+3 # Set diagonal\n",
    "                A[row_number,row_number-1] = -1      # Fetch i-1\n",
    "                A[row_number,row_number+nx-2] = -1   # fetch j+1\n",
    "                A[row_number,row_number-(nx-2)] = -1 # fetch j-1\n",
    "                \n",
    "            elif j==1: # Bottom boundary (Dirichlet)\n",
    "                A[row_number,row_number] = 1/sigma+4 # Set diagonal\n",
    "                A[row_number,row_number+1] = -1      # fetch i+1\n",
    "                A[row_number,row_number-1] = -1      # fetch i-1\n",
    "                A[row_number,row_number+nx-2] = -1   # fetch j+1\n",
    "                \n",
    "            elif j==ny-2: # Top boundary (Neumann)\n",
    "                A[row_number,row_number] = 1/sigma+3 # Set diagonal\n",
    "                A[row_number,row_number+1] = -1      # fetch i+1\n",
    "                A[row_number,row_number-1] = -1      # fetch i-1\n",
    "                A[row_number,row_number-(nx-2)] = -1 # fetch j-1\n",
    "            \n",
    "            #interior points\n",
    "            \n",
    "            else:\n",
    "                A[row_number, row_number] = 1/sigma +4\n",
    "                A[row_number,row_number+1] = -1      # fetch i+1\n",
    "                A[row_number,row_number-1] = -1      # fetch i-1\n",
    "                A[row_number,row_number+nx-2] = -1   # fetch j+1\n",
    "                A[row_number,row_number-(nx-2)] = -1 # fetch j-1\n",
    "            \n",
    "            row_number += 1 #Critical line, advances the row number\n",
    "            \n",
    "    return A\n",
    "            "
   ]
  },
  {
   "cell_type": "markdown",
   "metadata": {},
   "source": [
    "This next code generates the RHS"
   ]
  },
  {
   "cell_type": "code",
   "execution_count": 94,
   "metadata": {
    "collapsed": true
   },
   "outputs": [],
   "source": [
    "def generateRHS(nx, ny, sigma, T, T_bc):\n",
    "        \n",
    "        RHS = numpy.zeros((nx-2)*(ny-2))\n",
    "        \n",
    "        row_number = 0\n",
    "        \n",
    "        for j in range(1, ny-1):\n",
    "            for i in range(1, nx-1):\n",
    "                 \n",
    "                # Corners\n",
    "                if i==1 and j==1: # Bottom left corner (Dirichlet down and left)\n",
    "                    RHS[row_number] = T[j,i]*1/sigma + 2*T_bc\n",
    "                \n",
    "                elif i==nx-2 and j==1: # Bottom right corner (Dirichlet down, Neumann right)\n",
    "                    RHS[row_number] = T[j,i]*1/sigma + T_bc\n",
    "                           \n",
    "                elif i==1 and j==ny-2: # Top left corner (Neumann up, Dirichlet left)\n",
    "                    RHS[row_number] = T[j,i]*1/sigma + T_bc\n",
    "                    \n",
    "                elif i==nx-2 and j==ny-2: # Top right corner (Neumann up and right)\n",
    "                    RHS[row_number] = T[j,i]*1/sigma \n",
    "              \n",
    "                # Sides\n",
    "                elif i==1: # Left boundary (Dirichlet)\n",
    "                    RHS[row_number] = T[j,i]*1/sigma + T_bc\n",
    "            \n",
    "                elif i==nx-2: # Right boundary (Neumann)\n",
    "                    RHS[row_number] = T[j,i]*1/sigma \n",
    "                \n",
    "                elif j==1: # Bottom boundary (Dirichlet)\n",
    "                    RHS[row_number] = T[j,i]*1/sigma + T_bc\n",
    "                \n",
    "                elif j==ny-2: # Top boundary (Neumann)\n",
    "                    RHS[row_number] = T[j,i]*1/sigma\n",
    "                \n",
    "                #Interior points\n",
    "            \n",
    "                else:\n",
    "                    RHS[row_number] = T[j,i]*1/sigma\n",
    "                \n",
    "                row_number += 1 \n",
    "    \n",
    "        return RHS\n",
    "                \n",
    "                "
   ]
  },
  {
   "cell_type": "markdown",
   "metadata": {},
   "source": [
    "This next function needs to take the 2D T n+1 values and put it in a 2D array that matches the physical domain"
   ]
  },
  {
   "cell_type": "code",
   "execution_count": 95,
   "metadata": {
    "collapsed": false
   },
   "outputs": [],
   "source": [
    "def map_1Dto2D(nx, ny, T_1D, T_bc):\n",
    "    \"\"\" Takes temperatures of solution of linear system, stored in 1D, \n",
    "    and puts them in a 2D array with the BCs\n",
    "    Valid for constant Dirichlet bottom and left, and Neumann with zero \n",
    "    flux top and right\n",
    "    \"\"\"\n",
    "    T = numpy.zeros((ny,nx))\n",
    "    \n",
    "    row_number = 0\n",
    "    \n",
    "    for j in range(1, ny-1):\n",
    "        for i in range(1, nx-1):\n",
    "            \n",
    "            T[j,i] = T_1D[row_number]\n",
    "            row_number += 1\n",
    "            \n",
    "    #Dirichlet BC\n",
    "    T[0,:] = T_bc\n",
    "    T[:,0] = T_bc\n",
    "    \n",
    "    #Nuemann BC\n",
    "    \n",
    "    T[-1,:] = T[-2,:]\n",
    "    T[:,-1] = T[:,-2]\n",
    "    \n",
    "    return T\n",
    "            \n",
    "            \n",
    "    "
   ]
  },
  {
   "cell_type": "markdown",
   "metadata": {},
   "source": [
    "*sigh, this next code advacnces us in time"
   ]
  },
  {
   "cell_type": "code",
   "execution_count": 96,
   "metadata": {
    "collapsed": true
   },
   "outputs": [],
   "source": [
    "def btcs_2D(T, A, nt, sigma, T_bc, nx, ny, dt):\n",
    "    \n",
    "    j_mid = (numpy.shape(T)[0])/2\n",
    "    i_mid = (numpy.shape(T)[1])/2\n",
    "    \n",
    "    for t in range(nt):\n",
    "        \n",
    "        Tn=T.copy()\n",
    "        \n",
    "        b = generateRHS(nx, ny, sigma, Tn, T_bc)\n",
    "        \n",
    "        T_interior = solve(A,b) #using numpy.linalg.solve\n",
    "        \n",
    "        T = map_1Dto2D(nx, ny, T_interior, T_bc)\n",
    "        \n",
    "        #check if we reached T=70\n",
    "    \n",
    "        if T[j_mid, i_mid] >= 70:\n",
    "            print (\"Center of plate reached 70C at time {0:.2f}s, in time step {1:d}.\".format(dt*t, t))\n",
    "            break\n",
    "            \n",
    "    if T[j_mid, i_mid]<70:\n",
    "        print (\"Center has not reached 70C yet, it is only {0:.2f}C.\".format(T[j_mid, i_mid]))       \n",
    "        \n",
    "    return T"
   ]
  },
  {
   "cell_type": "code",
   "execution_count": 97,
   "metadata": {
    "collapsed": true
   },
   "outputs": [],
   "source": [
    "alpha = 1e-4\n",
    "\n",
    "L = 1.0e-2\n",
    "H = 1.0e-2\n",
    "\n",
    "nx = 21\n",
    "ny = 21\n",
    "nt = 300\n",
    "\n",
    "dx = L/(nx-1)\n",
    "dy = H/(ny-1)\n",
    "\n",
    "x = numpy.linspace(0,L,nx)\n",
    "y = numpy.linspace(0,H,ny)\n",
    "\n",
    "T_bc = 100\n",
    "\n",
    "Ti = numpy.ones((ny, nx))*20\n",
    "Ti[0,:]= T_bc\n",
    "Ti[:,0] = T_bc"
   ]
  },
  {
   "cell_type": "code",
   "execution_count": 98,
   "metadata": {
    "collapsed": false
   },
   "outputs": [],
   "source": [
    "sigma = 0.25\n",
    "A = constructMatrix(nx, ny, sigma)"
   ]
  },
  {
   "cell_type": "code",
   "execution_count": 99,
   "metadata": {
    "collapsed": false
   },
   "outputs": [
    {
     "name": "stdout",
     "output_type": "stream",
     "text": [
      "[[ 8. -1.  0. ...,  0.  0.  0.]\n",
      " [-1.  8. -1. ...,  0.  0.  0.]\n",
      " [ 0. -1.  8. ...,  0.  0.  0.]\n",
      " ..., \n",
      " [ 0.  0.  0. ...,  7. -1.  0.]\n",
      " [ 0.  0.  0. ..., -1.  7. -1.]\n",
      " [ 0.  0.  0. ...,  0. -1.  6.]]\n"
     ]
    }
   ],
   "source": [
    "print(A)"
   ]
  },
  {
   "cell_type": "code",
   "execution_count": 100,
   "metadata": {
    "collapsed": false
   },
   "outputs": [
    {
     "name": "stderr",
     "output_type": "stream",
     "text": [
      "C:\\Users\\ctiu\\Anaconda3\\lib\\site-packages\\ipykernel\\__main__.py:18: DeprecationWarning: using a non-integer number instead of an integer will result in an error in the future\n",
      "C:\\Users\\ctiu\\Anaconda3\\lib\\site-packages\\ipykernel\\__main__.py:22: DeprecationWarning: using a non-integer number instead of an integer will result in an error in the future\n"
     ]
    },
    {
     "name": "stdout",
     "output_type": "stream",
     "text": [
      "Center of plate reached 70C at time 0.16s, in time step 263.\n"
     ]
    }
   ],
   "source": [
    "dt = sigma * min(dx, dy)**2 / alpha\n",
    "T = btcs_2D(Ti.copy(), A, nt, sigma, T_bc, nx, ny, dt)"
   ]
  },
  {
   "cell_type": "code",
   "execution_count": 101,
   "metadata": {
    "collapsed": true
   },
   "outputs": [],
   "source": [
    "from matplotlib import pyplot\n",
    "%matplotlib inline\n",
    "from matplotlib import rcParams\n",
    "rcParams['font.family'] = 'serif'\n",
    "rcParams['font.size'] = 16"
   ]
  },
  {
   "cell_type": "code",
   "execution_count": 102,
   "metadata": {
    "collapsed": false
   },
   "outputs": [
    {
     "data": {
      "image/png": "[encoded data removed]",
      "text/plain": [
       "<matplotlib.figure.Figure at 0x96ffa58>"
      ]
     },
     "metadata": {},
     "output_type": "display_data"
    }
   ],
   "source": [
    "mx, my = numpy.meshgrid(x, y)\n",
    "pyplot.figure(figsize=(7,7))\n",
    "pyplot.contourf(my,mx,T,20);"
   ]
  },
  {
   "cell_type": "markdown",
   "metadata": {},
   "source": [
    "hmmm, my answer is a bit different, wonder what I accidently changed..."
   ]
  },
  {
   "cell_type": "code",
   "execution_count": null,
   "metadata": {
    "collapsed": true
   },
   "outputs": [],
   "source": []
  }
 ],
 "metadata": {
  "kernelspec": {
   "display_name": "Python 3",
   "language": "python",
   "name": "python3"
  },
  "language_info": {
   "codemirror_mode": {
    "name": "ipython",
    "version": 3
   },
   "file_extension": ".py",
   "mimetype": "text/x-python",
   "name": "python",
   "nbconvert_exporter": "python",
   "pygments_lexer": "ipython3",
   "version": "3.4.3"
  }
 },
 "nbformat": 4,
 "nbformat_minor": 0
}
