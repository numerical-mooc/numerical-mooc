{
 "cells": [
  {
   "cell_type": "markdown",
   "metadata": {},
   "source": [
    "This lesson looks into Implicit Schemes"
   ]
  },
  {
   "cell_type": "code",
   "execution_count": 134,
   "metadata": {
    "collapsed": false
   },
   "outputs": [],
   "source": [
    "import numpy\n",
    "from matplotlib import pyplot\n",
    "%matplotlib inline\n",
    "from matplotlib import rcParams\n",
    "rcParams['font.family']='serif'\n",
    "rcParams['font.size']='16'"
   ]
  },
  {
   "cell_type": "code",
   "execution_count": 135,
   "metadata": {
    "collapsed": false
   },
   "outputs": [
    {
     "name": "stdout",
     "output_type": "stream",
     "text": [
      "[ 100.    0.    0.    0.    0.    0.    0.    0.    0.    0.    0.    0.\n",
      "    0.    0.    0.    0.    0.    0.    0.    0.    0.    0.    0.    0.\n",
      "    0.    0.    0.    0.    0.    0.    0.    0.    0.    0.    0.    0.\n",
      "    0.    0.    0.    0.    0.    0.    0.    0.    0.    0.    0.    0.\n",
      "    0.    0.    0.]\n"
     ]
    }
   ],
   "source": [
    "#Basic parameters and variables, this is for the 1D rod, conduction\n",
    "\n",
    "L=1\n",
    "\n",
    "nt=100\n",
    "\n",
    "nx=51\n",
    "\n",
    "alpha=1.22e-3\n",
    "\n",
    "q=0\n",
    "\n",
    "dx = L/(nx-1)\n",
    "\n",
    "qdx = q*dx\n",
    "\n",
    "Ti = numpy.zeros(nx)\n",
    "Ti[0]=100\n",
    "\n",
    "print(Ti)"
   ]
  },
  {
   "cell_type": "code",
   "execution_count": 136,
   "metadata": {
    "collapsed": false
   },
   "outputs": [
    {
     "name": "stdout",
     "output_type": "stream",
     "text": [
      "0.0\n"
     ]
    }
   ],
   "source": [
    "print(Ti[15])"
   ]
  },
  {
   "cell_type": "code",
   "execution_count": 137,
   "metadata": {
    "collapsed": true
   },
   "outputs": [],
   "source": [
    "from scipy.linalg import solve"
   ]
  },
  {
   "cell_type": "code",
   "execution_count": 138,
   "metadata": {
    "collapsed": false
   },
   "outputs": [],
   "source": [
    "def generateMatrix(N, sigma):\n",
    "    \n",
    "    #Recieves a number of columns and a sigma value for stability and takes a 1D Array float, T, and returns a 2D \n",
    "    #array float, matrix for diffusion\n",
    "    \n",
    "    d = numpy.diag(numpy.ones(N-2)*(2+1/sigma)) #Sets up the diagonals of the matrix\n",
    "    \n",
    "    d[-1,-1] = 1 + (1/sigma) #Sets up the Neumann BC, Deriviative, at the bottom and right\n",
    "    \n",
    "    ud = numpy.diag(numpy.ones(N-3)*-1, 1) #Sets up a matrix with the upper, flanking, diagonal\n",
    "    \n",
    "    ld = numpy.diag(numpy.ones(N-3)*-1, -1) #sets up a matrix witht the lower flanking diagonals.\n",
    "    \n",
    "    A = d + ud + ld\n",
    "    \n",
    "    return A"
   ]
  },
  {
   "cell_type": "code",
   "execution_count": 139,
   "metadata": {
    "collapsed": false
   },
   "outputs": [
    {
     "name": "stdout",
     "output_type": "stream",
     "text": [
      "[[ 0.  0.  0. ...,  0.  0.  0.]\n",
      " [ 0.  0.  0. ...,  0.  0.  0.]\n",
      " [ 0.  0.  0. ...,  0.  0.  0.]\n",
      " ..., \n",
      " [ 0.  0.  0. ...,  0.  0.  0.]\n",
      " [ 0.  0.  0. ...,  0.  0.  0.]\n",
      " [ 0.  0.  0. ...,  0.  0.  0.]]\n"
     ]
    }
   ],
   "source": [
    "Facsimile = numpy.zeros_like(A)\n",
    "print(Facsimile)  #So apparrantly, _like command makes a copy 2D matrix and populates it as you wish"
   ]
  },
  {
   "cell_type": "code",
   "execution_count": 140,
   "metadata": {
    "collapsed": false
   },
   "outputs": [
    {
     "name": "stdout",
     "output_type": "stream",
     "text": [
      "7\n"
     ]
    }
   ],
   "source": [
    "e=2\n",
    "f=5\n",
    "f += e \n",
    "print(f)"
   ]
  },
  {
   "cell_type": "markdown",
   "metadata": {},
   "source": [
    "The function below will set up the right hand side of the linear equations"
   ]
  },
  {
   "cell_type": "code",
   "execution_count": 141,
   "metadata": {
    "collapsed": true
   },
   "outputs": [],
   "source": [
    "def generateRHS(T, sigma, qdx):\n",
    "    \n",
    "    #takes in a 1D array, sigma stability, and qdx? and returns a 1D array, b\n",
    "    \n",
    "    b = numpy.zeros_like(T) #Makes a facsimile of the 1D array, T\n",
    "    \n",
    "    b = T[1:-1]*1/sigma #sets the interrior of the b array equal to 1/sigma\n",
    "    \n",
    "    b[0] += T[0] #this is the Dirichlet BC, fixed,  #This command says b[0] is always equal to itself plus T[0]\n",
    "    \n",
    "    b[-1] += qdx #This is the Neuman boundary, q is flux, so qdx is total heat input, this line says the far end of the\n",
    "                #1D array is always equal to it's original value plus the total heat input\n",
    "        \n",
    "    return b"
   ]
  },
  {
   "cell_type": "markdown",
   "metadata": {},
   "source": [
    "this next code is a function for the implicit, forward time-central difference scheme"
   ]
  },
  {
   "cell_type": "code",
   "execution_count": 142,
   "metadata": {
    "collapsed": true
   },
   "outputs": [],
   "source": [
    "def implicit_ftcs(T, A, nt, sigma, qdx):\n",
    "    \n",
    "    #This code advances the diffusion equation in time with the implicit central scheme\n",
    "    \n",
    "    for t in range(nt):\n",
    "        \n",
    "        Tn=T.copy()      #Makes a float copy of the temperature array T\n",
    "        \n",
    "        b = generateRHS(Tn, sigma, qdx) #creates a 1D array with BC based on thr float Temperature Tn\n",
    "        \n",
    "        T_interior = solve(A,b) #apparantly I input a diffusion matrix and a bc array and it spits out... my x?\n",
    "        \n",
    "        T[1:-1] = T_interior # sets the side cells of the originally inputed T array to the new solved array \n",
    "        \n",
    "        T[-1]=T[-2]+qdx #enforces the neumann BC by saying that the flux between the second to last and the last \n",
    "                        # cells are only the qdx that we inputed. problem specific\n",
    "            \n",
    "    return T\n",
    "        \n",
    "        "
   ]
  },
  {
   "cell_type": "markdown",
   "metadata": {},
   "source": [
    "So, in the above code, for every timestep of t, we are solving the entire linear system of equations"
   ]
  },
  {
   "cell_type": "code",
   "execution_count": 143,
   "metadata": {
    "collapsed": false
   },
   "outputs": [],
   "source": [
    "sigma = 0.5\n",
    "dt = sigma*dx*dx/alpha\n",
    "nt = 1000\n",
    "\n",
    "A = generateMatrix(nx, sigma)"
   ]
  },
  {
   "cell_type": "code",
   "execution_count": 144,
   "metadata": {
    "collapsed": false
   },
   "outputs": [
    {
     "name": "stdout",
     "output_type": "stream",
     "text": [
      "[[ 4. -1.  0. ...,  0.  0.  0.]\n",
      " [-1.  4. -1. ...,  0.  0.  0.]\n",
      " [ 0. -1.  4. ...,  0.  0.  0.]\n",
      " ..., \n",
      " [ 0.  0.  0. ...,  4. -1.  0.]\n",
      " [ 0.  0.  0. ..., -1.  4. -1.]\n",
      " [ 0.  0.  0. ...,  0. -1.  3.]]\n"
     ]
    }
   ],
   "source": [
    "print(A)"
   ]
  },
  {
   "cell_type": "markdown",
   "metadata": {},
   "source": [
    "just verifying our Diffusion Matrix \"A\""
   ]
  },
  {
   "cell_type": "code",
   "execution_count": 145,
   "metadata": {
    "collapsed": true
   },
   "outputs": [],
   "source": [
    "T = implicit_ftcs(Ti.copy(), A, nt, sigma, qdx)"
   ]
  },
  {
   "cell_type": "code",
   "execution_count": 146,
   "metadata": {
    "collapsed": false
   },
   "outputs": [
    {
     "data": {
      "text/plain": [
       "[<matplotlib.lines.Line2D at 0x614fc50>]"
      ]
     },
     "execution_count": 146,
     "metadata": {},
     "output_type": "execute_result"
    },
    {
     "data": {
      "image/png": "[encoded data removed]",
      "text/plain": [
       "<matplotlib.figure.Figure at 0x60c3a90>"
      ]
     },
     "metadata": {},
     "output_type": "display_data"
    }
   ],
   "source": [
    "pyplot.plot(numpy.linspace(0,1,nx), T)"
   ]
  },
  {
   "cell_type": "code",
   "execution_count": 147,
   "metadata": {
    "collapsed": false
   },
   "outputs": [
    {
     "data": {
      "text/plain": [
       "[<matplotlib.lines.Line2D at 0x61a98d0>]"
      ]
     },
     "execution_count": 147,
     "metadata": {},
     "output_type": "execute_result"
    },
    {
     "data": {
      "image/png": "[encoded data removed]",
      "text/plain": [
       "<matplotlib.figure.Figure at 0x6160860>"
      ]
     },
     "metadata": {},
     "output_type": "display_data"
    }
   ],
   "source": [
    "sigma = 5     #Test since this has an alpha that violates the explicit stability scheme\n",
    "\n",
    "A = generateMatrix(nx, sigma)\n",
    "\n",
    "T = implicit_ftcs(Ti.copy(), A, nt, sigma, qdx)\n",
    "\n",
    "pyplot.plot(numpy.linspace(0,1,nx), T)"
   ]
  },
  {
   "cell_type": "markdown",
   "metadata": {},
   "source": [
    "large sigma refers to a large timestep"
   ]
  },
  {
   "cell_type": "markdown",
   "metadata": {},
   "source": [
    "so now we can choose our own timestep"
   ]
  },
  {
   "cell_type": "code",
   "execution_count": null,
   "metadata": {
    "collapsed": true
   },
   "outputs": [],
   "source": []
  }
 ],
 "metadata": {
  "kernelspec": {
   "display_name": "Python 3",
   "language": "python",
   "name": "python3"
  },
  "language_info": {
   "codemirror_mode": {
    "name": "ipython",
    "version": 3
   },
   "file_extension": ".py",
   "mimetype": "text/x-python",
   "name": "python",
   "nbconvert_exporter": "python",
   "pygments_lexer": "ipython3",
   "version": "3.4.3"
  }
 },
 "nbformat": 4,
 "nbformat_minor": 0
}
