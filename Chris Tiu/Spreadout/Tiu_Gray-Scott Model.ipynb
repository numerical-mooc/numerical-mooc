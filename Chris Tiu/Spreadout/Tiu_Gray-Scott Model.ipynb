{
 "cells": [
  {
   "cell_type": "markdown",
   "metadata": {},
   "source": [
    "The purpose of this Code is to implement the Gray-Scott Model of Reaction-Diffusion. "
   ]
  },
  {
   "cell_type": "code",
   "execution_count": 29,
   "metadata": {
    "collapsed": false
   },
   "outputs": [],
   "source": [
    "import numpy\n",
    "from matplotlib import pyplot\n",
    "%matplotlib inline\n",
    "from scipy.linalg import solve\n",
    "import sympy\n",
    "sympy.init_printing()"
   ]
  },
  {
   "cell_type": "code",
   "execution_count": 30,
   "metadata": {
    "collapsed": true
   },
   "outputs": [],
   "source": [
    "U, V, DT, D, FF, K, D_V, D_U , DX2, DY2, DU, DV, D2= sympy.symbols('u v dt d F k D_v D_u dx^^2 dy^^2 du dv d^^2')"
   ]
  },
  {
   "cell_type": "markdown",
   "metadata": {},
   "source": [
    "first step is to discretize the below differential equations. In this form the Laplacian has been replaced by the 2D X and Y"
   ]
  },
  {
   "cell_type": "code",
   "execution_count": 31,
   "metadata": {
    "collapsed": false
   },
   "outputs": [
    {
     "data": {
      "image/png": "[encoded data removed]",
      "text/latex": [
       "$$\\frac{du}{dt} = D_{u} \\left(\\frac{d^{ 2} u}{dy^{ 2}} + \\frac{d^{ 2} u}{dx^{ 2}}\\right) + F \\left(- u + 1\\right) - u v^{2}$$"
      ],
      "text/plain": [
       "du      ⎛d ²⋅u   d ²⋅u⎞                   2\n",
       "── = Dᵤ⋅⎜───── + ─────⎟ + F⋅(-u + 1) - u⋅v \n",
       "dt      ⎝ dy ²    dx ²⎠                    "
      ]
     },
     "execution_count": 31,
     "metadata": {},
     "output_type": "execute_result"
    }
   ],
   "source": [
    "Equation_U = sympy.Eq(DU/DT , D_U*((D2*U/DX2)+(D2*U/DY2)) - U*V**2 + FF*(1-U))\n",
    "Equation_U"
   ]
  },
  {
   "cell_type": "code",
   "execution_count": 32,
   "metadata": {
    "collapsed": false
   },
   "outputs": [
    {
     "data": {
      "image/png": "[encoded data removed]",
      "text/latex": [
       "$$\\frac{dv}{dt} = D_{v} \\left(\\frac{d^{ 2} v}{dy^{ 2}} + \\frac{d^{ 2} v}{dx^{ 2}}\\right) + u v^{2} - v \\left(F + k\\right)$$"
      ],
      "text/plain": [
       "dv      ⎛d ²⋅v   d ²⋅v⎞      2            \n",
       "── = Dᵥ⋅⎜───── + ─────⎟ + u⋅v  - v⋅(F + k)\n",
       "dt      ⎝ dy ²    dx ²⎠                   "
      ]
     },
     "execution_count": 32,
     "metadata": {},
     "output_type": "execute_result"
    }
   ],
   "source": [
    "Equation_V = sympy.Eq(DV/DT , D_V*((D2*V/DX2)+(D2*V/DY2)) + U*V**2 -(V*(FF+K)))\n",
    "Equation_V"
   ]
  },
  {
   "cell_type": "markdown",
   "metadata": {},
   "source": [
    "actually, the first term in both equations, with the Dv looks like the same as the 2D Diffusion term. So only the other two terms on the RHS need to be accounted for"
   ]
  },
  {
   "cell_type": "raw",
   "metadata": {},
   "source": [
    "in theory, for the discretization, for Equation_U we have (Explicit scheme):\n",
    "un=u.copy()\n",
    "u[1:-1, 1:-1] = un[1:-1, 1:-1] + (Du*dt/delta**2)*(un[2:,1:-1] - 2*un[1:-1, 1:-1] + un[:-2,1:-1]+\\\n",
    "                                                un[[1:-1,2:] - 2*un[1:-1, 1:-1] + un[1:-1,:-2])-\\\n",
    "                                                dt*(un[1:-1, 1:-1]*vn[1:-1, 1:-1]**2)+\\\n",
    "                                                dt*F*(1-un[1:-1, 1:-1])"
   ]
  },
  {
   "cell_type": "raw",
   "metadata": {},
   "source": [
    "Ok, so the discretization for Equation_V is then (Explicit scheme):\n",
    "vn=v.copy()\n",
    "v[1:-1, 1:-1] = vn[1:-1, 1:-1] + (Dv*dt/delta**2)*(vn[2:,1:-1] - 2*vn[1:-1, 1:-1] + vn[:-2,1:-1]+\\\n",
    "                                                vn[[1:-1,2:] - 2*vn[1:-1, 1:-1] + vn[1:-1,:-2])+\\\n",
    "                                                dt*(un[1:-1, 1:-1]*vn[1:-1, 1:-1]**2)-\\\n",
    "                                                dt*vn[1:-1, 1:-1]*(F+k)"
   ]
  },
  {
   "cell_type": "markdown",
   "metadata": {},
   "source": [
    "assuming correct implementation, the above codes are the meat of the Foward Time central difference method function"
   ]
  },
  {
   "cell_type": "markdown",
   "metadata": {},
   "source": [
    "This code attempts to recreate the FTCS code from module 2, but, instead it recieves two input arrays, u and v, and spits out two arrays"
   ]
  },
  {
   "cell_type": "code",
   "execution_count": 33,
   "metadata": {
    "collapsed": true
   },
   "outputs": [],
   "source": [
    "def FTCS(u, v, nt, Du, Dv, dt, dx, dy, F, k):\n",
    "    \n",
    "    j_mid_u = int((numpy.shape(u)[0])/2)    #this allows us to track the center of the U array\n",
    "    i_mid_u = int((numpy.shape(u)[1])/2)\n",
    "    \n",
    "    j_mid_v = int((numpy.shape(v)[0])/2)    #this allows us to track the center of the V array\n",
    "    i_mid_v = int((numpy.shape(v)[1])/2)\n",
    "    \n",
    "    for n in range(nt):\n",
    "        delta=dx*dy\n",
    "        un=u.copy()   #Discretization of U\n",
    "        vn=v.copy() \n",
    "        u[1:-1, 1:-1] = un[1:-1, 1:-1] + (Du*dt/delta**2)*(un[2:,1:-1] - 2*un[1:-1, 1:-1] + un[:-2,1:-1]+\\\n",
    "                                                           un[1:-1,2:] - 2*un[1:-1, 1:-1] + un[1:-1,:-2])-\\\n",
    "                                                           dt*(un[1:-1, 1:-1]*vn[1:-1, 1:-1]**2)+\\\n",
    "                                                           dt*F*(1-un[1:-1, 1:-1])\n",
    "                                                                                                           \n",
    "        #Discretization of V\n",
    "        v[1:-1, 1:-1] = vn[1:-1, 1:-1] + (Dv*dt/delta**2)*(vn[2:,1:-1] - 2*vn[1:-1, 1:-1] + vn[:-2,1:-1]+\\\n",
    "                                                           vn[1:-1,2:] - 2*vn[1:-1, 1:-1] + vn[1:-1,:-2])+\\\n",
    "                                                           dt*(un[1:-1, 1:-1]*vn[1:-1, 1:-1]**2)-\\\n",
    "                                                           dt*vn[1:-1, 1:-1]*(F+k)\n",
    "                                                           \n",
    "        #Neumann Boundary Conditions\n",
    "        u[-1,:]=u[-2,:]     #For u\n",
    "        u[:,-1]=u[:,-2]     \n",
    "        v[-1,:]=v[-2,:]     #For v\n",
    "        v[:,-1]=v[:,-2]           \n",
    "                                                           \n",
    "    return u, v                                                   \n",
    "                                                           "
   ]
  },
  {
   "cell_type": "markdown",
   "metadata": {},
   "source": [
    "ok, lets test the code"
   ]
  },
  {
   "cell_type": "code",
   "execution_count": 34,
   "metadata": {
    "collapsed": true
   },
   "outputs": [],
   "source": [
    "#Parameters from the Problem Statement\n",
    "X_Domain = 5  #in meters\n",
    "Y_Domain = 5  #in meters\n",
    "\n",
    "nx = 192\n",
    "ny = 192\n",
    "\n",
    "dx = X_Domain/(nx-1)\n",
    "dy = Y_Domain/(ny-1)\n",
    "\n",
    "delta = dx*dy\n",
    "\n",
    "Du= 0.00016\n",
    "Dv=0.00008\n",
    "F=0.035\n",
    "k=0.065  #Number of Bacteria?\n",
    "\n",
    "\n",
    "T=8000 #seconds\n",
    "dt = (9/40)*delta**2/max(Du,Dv)  #Stability Criteria?\n",
    "nt = int(T/dt)\n",
    "\n",
    "x= numpy.linspace(0,X_Domain, nx)  #for plotting purposes\n",
    "y= numpy.linspace(0,Y_Domain, ny)  #for plotting purposes\n",
    "\n",
    "ui = numpy.ones((ny, nx))*1  #Just a test\n",
    "vi = numpy.ones((ny, nx))*1  #just a test\n"
   ]
  },
  {
   "cell_type": "code",
   "execution_count": 35,
   "metadata": {
    "collapsed": false
   },
   "outputs": [
    {
     "name": "stdout",
     "output_type": "stream",
     "text": [
      "12113814\n"
     ]
    }
   ],
   "source": [
    "print(nt)"
   ]
  },
  {
   "cell_type": "code",
   "execution_count": 36,
   "metadata": {
    "collapsed": true
   },
   "outputs": [],
   "source": [
    "u, v = FTCS(ui.copy(), vi.copy(), 8000, Du, Dv, dt, dx, dy, F, k)"
   ]
  },
  {
   "cell_type": "code",
   "execution_count": 37,
   "metadata": {
    "collapsed": false
   },
   "outputs": [
    {
     "name": "stdout",
     "output_type": "stream",
     "text": [
      "[[ 1.          1.          1.         ...,  1.          1.          1.        ]\n",
      " [ 1.          0.99125878  0.98401611 ...,  0.92356844  0.92356844\n",
      "   0.92356844]\n",
      " [ 1.          0.98401611  0.97013932 ...,  0.85044695  0.85044695\n",
      "   0.85044695]\n",
      " ..., \n",
      " [ 1.          0.92356844  0.85044695 ...,  0.01801733  0.01801734\n",
      "   0.01801734]\n",
      " [ 1.          0.92356844  0.85044695 ...,  0.01801734  0.01801735\n",
      "   0.01801735]\n",
      " [ 1.          0.92356844  0.85044695 ...,  0.01801734  0.01801735\n",
      "   0.01801735]]\n"
     ]
    }
   ],
   "source": [
    "print(u)"
   ]
  },
  {
   "cell_type": "code",
   "execution_count": 38,
   "metadata": {
    "collapsed": true
   },
   "outputs": [],
   "source": [
    "mx, my = numpy.meshgrid(x,y)"
   ]
  },
  {
   "cell_type": "code",
   "execution_count": 39,
   "metadata": {
    "collapsed": false
   },
   "outputs": [
    {
     "data": {
      "text/plain": [
       "<matplotlib.contour.QuadContourSet at 0x918aac8>"
      ]
     },
     "execution_count": 39,
     "metadata": {},
     "output_type": "execute_result"
    },
    {
     "data": {
      "image/png": "[encoded data removed]",
      "text/plain": [
       "<matplotlib.figure.Figure at 0x90ddba8>"
      ]
     },
     "metadata": {},
     "output_type": "display_data"
    }
   ],
   "source": [
    "pyplot.contourf(mx, my, u, 20)"
   ]
  },
  {
   "cell_type": "code",
   "execution_count": null,
   "metadata": {
    "collapsed": true
   },
   "outputs": [],
   "source": []
  }
 ],
 "metadata": {
  "kernelspec": {
   "display_name": "Python 3",
   "language": "python",
   "name": "python3"
  },
  "language_info": {
   "codemirror_mode": {
    "name": "ipython",
    "version": 3
   },
   "file_extension": ".py",
   "mimetype": "text/x-python",
   "name": "python",
   "nbconvert_exporter": "python",
   "pygments_lexer": "ipython3",
   "version": "3.4.3"
  }
 },
 "nbformat": 4,
 "nbformat_minor": 0
}
