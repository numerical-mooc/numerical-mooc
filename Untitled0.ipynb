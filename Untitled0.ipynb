{
 "metadata": {
  "name": "",
  "signature": "sha256:39767b2120fd9a7a5feef03c2f69341097437a9fdb81a0719b0492795f04ff40"
 },
 "nbformat": 3,
 "nbformat_minor": 0,
 "worksheets": [
  {
   "cells": [
    {
     "cell_type": "heading",
     "level": 1,
     "metadata": {},
     "source": [
      "Esta es una prueba"
     ]
    },
    {
     "cell_type": "markdown",
     "metadata": {},
     "source": [
      "Probemos con el t\u00edpico \"Hola mundo\" en python"
     ]
    },
    {
     "cell_type": "code",
     "collapsed": false,
     "input": [
      "print('Hola Mundo')"
     ],
     "language": "python",
     "metadata": {},
     "outputs": [
      {
       "output_type": "stream",
       "stream": "stdout",
       "text": [
        "Hola Mundo\n"
       ]
      }
     ],
     "prompt_number": 2
    },
    {
     "cell_type": "markdown",
     "metadata": {},
     "source": [
      "Es realmente f\u00e1cil **poner** ecuaciones tambi\u00e9n $x=\\frac{1}{2}$"
     ]
    },
    {
     "cell_type": "markdown",
     "metadata": {},
     "source": [
      "Algo m\u00e1s complejo"
     ]
    },
    {
     "cell_type": "code",
     "collapsed": false,
     "input": [
      "from numpy import sqrt\n",
      "nombres = [['Alan','Monica','Jose','Pedro'],['Alan2','Monica2','Jose2','Pedro2']]\n",
      "for name in nombres:\n",
      "    for i in name:\n",
      "        print i\n",
      "print sqrt(2)"
     ],
     "language": "python",
     "metadata": {},
     "outputs": [
      {
       "output_type": "stream",
       "stream": "stdout",
       "text": [
        "Alan\n",
        "Monica\n",
        "Jose\n",
        "Pedro\n",
        "Alan2\n",
        "Monica2\n",
        "Jose2\n",
        "Pedro2\n",
        "1.41421356237\n"
       ]
      }
     ],
     "prompt_number": 6
    },
    {
     "cell_type": "code",
     "collapsed": false,
     "input": [],
     "language": "python",
     "metadata": {},
     "outputs": [],
     "prompt_number": 5
    },
    {
     "cell_type": "code",
     "collapsed": false,
     "input": [],
     "language": "python",
     "metadata": {},
     "outputs": []
    }
   ],
   "metadata": {}
  }
 ]
}