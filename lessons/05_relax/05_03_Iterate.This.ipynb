{
 "cells": [
  {
   "cell_type": "markdown",
   "metadata": {},
   "source": [
    "###### Content under Creative Commons Attribution license CC-BY 4.0, code under MIT license (c)2014 L.A. Barba, G.F. Forsyth.  "
   ]
  },
  {
   "cell_type": "markdown",
   "metadata": {},
   "source": [
    "# Relax and hold steady"
   ]
  },
  {
   "cell_type": "markdown",
   "metadata": {},
   "source": [
    "Ready for more relaxing? This is the third lesson of **Module 5** of the course, exploring solutions to elliptic PDEs.\n",
    "In [Lesson 1](https://nbviewer.jupyter.org/github/numerical-mooc/numerical-mooc/blob/master/lessons/05_relax/05_01_2D.Laplace.Equation.ipynb) and [Lesson 2](https://nbviewer.jupyter.org/github/numerical-mooc/numerical-mooc/blob/master/lessons/05_relax/05_02_2D.Poisson.Equation.ipynb) of this module we used the Jacobi method (a relaxation scheme) to iteratively find solutions to Laplace and Poisson equations.\n",
    "\n",
    "And it worked, so why are we still talking about it?  Because the Jacobi method is slow, very slow to converge.  It might not have seemed that way in the first two notebooks because we were using small grids, but we did need more than 3,000 iterations to reach the exit criterion while solving the Poisson equation on a $41\\times 41$ grid. \n",
    "\n",
    "You can confirm this below: using `nx,ny=` $128$ on the Laplace problem of Lesson 1, the Jacobi method requires nearly *20,000* iterations before we reach $10^{-8}$ for the L2-norm of the difference between two iterates. That's a *lot* of iterations!\n",
    "\n",
    "Now, consider this application:  an incompressible Navier-Stokes solver has to ensure that the velocity field is divergence-free at every time step.  One of the most common ways to ensure this is to solve a Poisson equation for the pressure field. In fact, the pressure Poisson equation is responsible for the majority of the computational expense of an incompressible Navier-Stokes solver. Imagine having to do 20,000 Jacobi iterations for *every* time step in a fluid-flow problem with many thousands or perhaps millions of grid points!\n",
    "\n",
    "The Jacobi method is the slowest of all relaxation schemes, so let's learn how to improve on it. In this lesson, we'll study the Gauss-Seidel method—twice as fast as Jacobi, in theory—and the successive over-relaxation (SOR) method. We also have some neat Python tricks lined up for you to get to the solution even faster. Let's go!"
   ]
  },
  {
   "cell_type": "markdown",
   "metadata": {},
   "source": [
    "### Test problem"
   ]
  },
  {
   "cell_type": "markdown",
   "metadata": {},
   "source": [
    "Let's use the same example problem as in [Lesson 1](https://nbviewer.jupyter.org/github/numerical-mooc/numerical-mooc/blob/master/lessons/05_relax/05_01_2D.Laplace.Equation.ipynb): Laplace's equation with boundary conditions\n",
    "\n",
    "$$\n",
    "\\begin{equation}\n",
    "  \\begin{gathered}\n",
    "p=0 \\text{ at } x=0\\\\\n",
    "\\frac{\\partial p}{\\partial x} = 0 \\text{ at } x = L_x\\\\\n",
    "p = 0 \\text{ at }y = 0 \\\\\n",
    "p = \\sin \\left(  \\frac{\\frac{3}{2}\\pi x}{L_x} \\right) \\text{ at } y = L_y\n",
    "  \\end{gathered}\n",
    "\\end{equation}\n",
    "$$\n",
    "\n",
    "We import our favorite Python libraries, and also some custom functions that we wrote in [Lesson 1](https://nbviewer.jupyter.org/github/numerical-mooc/numerical-mooc/blob/master/lessons/05_relax/05_01_2D.Laplace.Equation.ipynb), which we have saved in a 'helper' Python file for re-use. "
   ]
  },
  {
   "cell_type": "code",
   "execution_count": 1,
   "metadata": {},
   "outputs": [],
   "source": [
    "import numpy\n",
    "from matplotlib import pyplot\n",
    "%matplotlib inline"
   ]
  },
  {
   "cell_type": "code",
   "execution_count": 2,
   "metadata": {},
   "outputs": [],
   "source": [
    "# Set the font family and size to use for Matplotlib figures.\n",
    "pyplot.rcParams['font.family'] = 'serif'\n",
    "pyplot.rcParams['font.size'] = 16"
   ]
  },
  {
   "cell_type": "code",
   "execution_count": 3,
   "metadata": {},
   "outputs": [],
   "source": [
    "from helper import laplace_solution, l2_norm, plot_3d"
   ]
  },
  {
   "cell_type": "markdown",
   "metadata": {},
   "source": [
    "We now have the functions `laplace_solution`, `l2_norm`, and `plot_3d` in our namespace. If you can't remember how they work, just use the Python built-in function `help()` and take advantage of the docstrings.  It's a good habit to always write docstrings in your functions, and now you see why!\n",
    "\n",
    "In this notebook, we are going to use larger grids than before, to better illustrate the speed increases we achieve with different iterative methods. Let's create a $128\\times128$ grid and initialize."
   ]
  },
  {
   "cell_type": "code",
   "execution_count": 4,
   "metadata": {},
   "outputs": [],
   "source": [
    "# Set parameters.\n",
    "nx = 128  # number of points in the x direction\n",
    "ny = 128  # number of points in the y direction\n",
    "Lx = 5.0  # domain length in the x direction\n",
    "Ly = 5.0  # domain length in the y direction\n",
    "dx = Lx / (nx - 1)  # grid spacing in x direction\n",
    "dy = Ly / (ny - 1)  # grid spacing in y direction\n",
    "\n",
    "# Create the gridline locations.\n",
    "x = numpy.linspace(0.0, Lx, num=nx)\n",
    "y = numpy.linspace(0.0, Ly, num=ny)\n",
    "\n",
    "# Set the initial conditions.\n",
    "p0 = numpy.zeros((ny, nx))\n",
    "p0[-1, :] = numpy.sin(1.5 * numpy.pi * x / Lx)"
   ]
  },
  {
   "cell_type": "markdown",
   "metadata": {},
   "source": [
    "We said above that the Jacobi method takes nearly $20,000$ iterations before it satisfies our exit criterion of $10^{-8}$ (L2-norm difference between two consecutive iterations). You'll just have to confirm that now. Have a seat!"
   ]
  },
  {
   "cell_type": "code",
   "execution_count": 5,
   "metadata": {},
   "outputs": [],
   "source": [
    "def laplace_2d_jacobi(p0, maxiter=20000, rtol=1e-6):\n",
    "    \"\"\"\n",
    "    Solves the 2D Laplace equation on a uniform grid\n",
    "    with equal grid spacing in both directions\n",
    "    using Jacobi relaxation method.\n",
    "    \n",
    "    The exit criterion of the solver is based on the relative L2-norm\n",
    "    of the solution difference between two consecutive iterations.\n",
    "    \n",
    "    Parameters\n",
    "    ----------\n",
    "    p0 : numpy.ndarray\n",
    "        The initial solution as a 2D array of floats.\n",
    "    maxiter : integer, optional\n",
    "        Maximum number of iterations to perform;\n",
    "        default: 20000.\n",
    "    rtol : float, optional\n",
    "        Relative tolerance for convergence;\n",
    "        default: 1e-6.\n",
    "    \n",
    "    Returns\n",
    "    -------\n",
    "    p : numpy.ndarray\n",
    "        The solution after relaxation as a 2D array of floats.\n",
    "    ite : integer\n",
    "        The number of iterations performed.\n",
    "    diff : float\n",
    "        The final relative L2-norm of the difference.\n",
    "    \"\"\"\n",
    "    p = p0.copy()\n",
    "    diff = rtol + 1.0  # initial difference\n",
    "    ite = 0  # iteration index\n",
    "    while diff > rtol and ite < maxiter:\n",
    "        pn = p.copy()\n",
    "        # Update the solution at interior points.\n",
    "        p[1:-1, 1:-1] = 0.25 * (pn[1:-1, :-2] + pn[1:-1, 2:] +\n",
    "                                pn[:-2, 1:-1] + pn[2:, 1:-1])\n",
    "        # Apply 2nd-order Neumann condition (zero-gradient)\n",
    "        # at the right boundary.\n",
    "        p[1:-1, -1] = 0.25 * (2.0 * pn[1:-1, -2] +\n",
    "                              pn[2:, -1] + pn[:-2, -1])\n",
    "        # Compute the relative L2-norm of the difference.\n",
    "        diff = l2_norm(p, pn)\n",
    "        ite += 1\n",
    "    return p, ite, diff"
   ]
  },
  {
   "cell_type": "code",
   "execution_count": 6,
   "metadata": {},
   "outputs": [
    {
     "name": "stdout",
     "output_type": "stream",
     "text": [
      "Jacobi relaxation: 19993 iterations to reach a relative difference of 9.998616841362057e-09\n"
     ]
    }
   ],
   "source": [
    "# Compute the solution using Jacobi relaxation method.\n",
    "p, ites, diff = laplace_2d_jacobi(p0, maxiter=20000, rtol=1e-8)\n",
    "print('Jacobi relaxation: {} iterations '.format(ites) +\n",
    "      'to reach a relative difference of {}'.format(diff))"
   ]
  },
  {
   "cell_type": "markdown",
   "metadata": {},
   "source": [
    "Would we lie to you? $19,993$ iterations before we reach the exit criterion of $10^{-8}$. Yikes!\n",
    "\n",
    "We can also time how long the Jacobi method takes using the `%%timeit` cell-magic.  Go make some tea, because this can take a while—the `%%timeit` magic runs the function a few times and then averages their runtimes to give a more accurate result.  \n",
    "\n",
    "- - -\n",
    "##### Notes\n",
    "\n",
    "1. When using `%%timeit`, the return values of a function (`p` and `iterations` in this case) *won't* be saved.\n",
    "\n",
    "2. We document our timings below, but your timings can vary quite a lot, depending on your hardware. In fact, you may not even see the same trends (some recent hardware can play some fancy tricks with optimizations that you have no control over).\n",
    "- - -\n",
    "\n",
    "With those caveats, let's give it a shot:"
   ]
  },
  {
   "cell_type": "code",
   "execution_count": 7,
   "metadata": {},
   "outputs": [
    {
     "name": "stdout",
     "output_type": "stream",
     "text": [
      "7.15 s ± 659 ms per loop (mean ± std. dev. of 7 runs, 1 loop each)\n"
     ]
    }
   ],
   "source": [
    "%%timeit\n",
    "laplace_2d_jacobi(p0, maxiter=20000, rtol=1e-8)"
   ]
  },
  {
   "cell_type": "markdown",
   "metadata": {},
   "source": [
    "The printed result above (and others to come later) is from a 2012 MacBook Pro, powered by a 2.9 GHz Intel Core i7. We tried also on more modern machines, and got conflicting results—like the Gauss-Seidel method being slightly slower than Jacobi, even though it required fewer iterations. Don't get too hung up on this: the hardware optimizations applied by more modern CPUs are varied and make a big difference sometimes.\n",
    "\n",
    "Meanwhile, let's check the overall accuracy of the numerical calculation by comparing it to the analytical solution."
   ]
  },
  {
   "cell_type": "code",
   "execution_count": 8,
   "metadata": {},
   "outputs": [
    {
     "data": {
      "text/plain": [
       "6.173551335288024e-05"
      ]
     },
     "execution_count": 8,
     "metadata": {},
     "output_type": "execute_result"
    }
   ],
   "source": [
    "# Compute the analytical solution.\n",
    "p_exact = laplace_solution(x, y, Lx, Ly)\n",
    "\n",
    "# Compute the relative L2-norm of the error.\n",
    "l2_norm(p, p_exact)"
   ]
  },
  {
   "cell_type": "markdown",
   "metadata": {},
   "source": [
    "That's a pretty small error. Let's assume it is good enough and focus on speeding up the process."
   ]
  },
  {
   "cell_type": "markdown",
   "metadata": {},
   "source": [
    "## Gauss-Seidel"
   ]
  },
  {
   "cell_type": "markdown",
   "metadata": {},
   "source": [
    "You will recall from [Lesson 1](https://nbviewer.jupyter.org/github/numerical-mooc/numerical-mooc/blob/master/lessons/05_relax/05_01_2D.Laplace.Equation.ipynb) that a single Jacobi iteration is written as:\n",
    "\n",
    "$$\n",
    "\\begin{equation}\n",
    "p^{k+1}_{i,j} = \\frac{1}{4} \\left(p^{k}_{i,j-1} + p^k_{i,j+1} + p^{k}_{i-1,j} + p^k_{i+1,j} \\right)\n",
    "\\end{equation}\n",
    "$$\n",
    "\n",
    "The Gauss-Seidel method is a simple tweak to this idea: use updated values of the solution as soon as they are available, instead of waiting for the values in the whole grid to be updated. \n",
    "\n",
    "If you imagine that we progress through the grid points in the order shown by the arrow in Figure 1, then you can see that the updated values $p^{k+1}_{i-1,j}$ and $p^{k+1}_{i,j-1}$ can be used to calculate $p^{k+1}_{i,j}$."
   ]
  },
  {
   "cell_type": "markdown",
   "metadata": {},
   "source": [
    "<img src=\"./figures/solvepath.svg\" width=350>\n",
    "\n",
    "#### Figure 1. Assumed order of updates on a grid."
   ]
  },
  {
   "cell_type": "markdown",
   "metadata": {},
   "source": [
    "The iteration formula for Gauss-Seidel is thus:\n",
    "\n",
    "$$\n",
    "\\begin{equation}\n",
    "p^{k+1}_{i,j} = \\frac{1}{4} \\left(p^{k+1}_{i,j-1} + p^k_{i,j+1} + p^{k+1}_{i-1,j} + p^k_{i+1,j} \\right)\n",
    "\\end{equation}\n",
    "$$\n",
    "\n",
    "There's now a problem for the Python implementation.  You can no longer use NumPy's array operations to evaluate the solution updates.  Since Gauss-Seidel requires using values immediately after they're updated, we have to abandon our beloved array operations and return to nested `for` loops. Ugh.\n",
    "\n",
    "We don't like it, but if it saves us a bunch of time, then we can manage. But does it?\n",
    "\n",
    "Here's a function to compute the Gauss-Seidel updates using a double loop."
   ]
  },
  {
   "cell_type": "code",
   "execution_count": 9,
   "metadata": {},
   "outputs": [],
   "source": [
    "def laplace_2d_gauss_seidel(p0, maxiter=20000, rtol=1e-6):\n",
    "    \"\"\"\n",
    "    Solves the 2D Laplace equation on a uniform grid\n",
    "    with equal grid spacing in both directions\n",
    "    using Gauss-Seidel relaxation method.\n",
    "    \n",
    "    The exit criterion of the solver is based on the relative L2-norm\n",
    "    of the solution difference between two consecutive iterations.\n",
    "    \n",
    "    Parameters\n",
    "    ----------\n",
    "    p0 : numpy.ndarray\n",
    "        The initial solution as a 2D array of floats.\n",
    "    maxiter : integer, optional\n",
    "        Maximum number of iterations to perform;\n",
    "        default: 20000.\n",
    "    rtol : float, optional\n",
    "        Relative tolerance for convergence;\n",
    "        default: 1e-6.\n",
    "    \n",
    "    Returns\n",
    "    -------\n",
    "    p : numpy.ndarray\n",
    "        The solution after relaxation as a 2D array of floats.\n",
    "    ite : integer\n",
    "        The number of iterations performed.\n",
    "    diff : float\n",
    "        The final relative L2-norm of the difference.\n",
    "    \"\"\"\n",
    "    ny, nx = p0.shape\n",
    "    p = p0.copy()\n",
    "    diff = rtol + 1.0  # initial difference\n",
    "    ite = 0  # iteration index\n",
    "    while diff > rtol and ite < maxiter:\n",
    "        pn = p.copy()\n",
    "        # Update the solution at interior points.\n",
    "        for j in range(1, ny - 1):\n",
    "            for i in range(1, nx - 1):\n",
    "                p[j, i] = 0.25 * (p[j, i - 1] + p[j, i + 1] +\n",
    "                                  p[j - 1, i] + p[j + 1, i])\n",
    "        # Apply 2nd-order Neumann condition (zero-gradient)\n",
    "        # at the right boundary.\n",
    "        for j in range(1, ny - 1):\n",
    "            p[j, -1] = 0.25 * (2.0 * p[j, -2] +\n",
    "                               p[j - 1, -1] + p[j + 1, -1])\n",
    "        # Compute the relative L2-norm of the difference.\n",
    "        diff = l2_norm(p, pn)\n",
    "        ite += 1\n",
    "    return p, ite, diff"
   ]
  },
  {
   "cell_type": "markdown",
   "metadata": {},
   "source": [
    "We would then run this with the following function call:\n",
    "\n",
    "```Python\n",
    "p, ites, diff = laplace_2d_gauss_seidel(\n",
    "                  p0, maxiter=20000, rtol=1e-8)\n",
    "```\n",
    "\n",
    "But **don't do it**.  We did it so that you don't have to!  \n",
    "\n",
    "The solution of our test problem with the Gauss-Seidel method required several thousand fewer iterations than the Jacobi method, but it took nearly *10 minutes* to run on our machine."
   ]
  },
  {
   "cell_type": "markdown",
   "metadata": {},
   "source": [
    "##### What happened?"
   ]
  },
  {
   "cell_type": "markdown",
   "metadata": {},
   "source": [
    "If you think back to the far off days when you first learned about array operations, you might recall that we discovered that NumPy array operations could drastically improve code performance compared with nested `for` loops.  NumPy operations are written in C and pre-compiled, so they are *much* faster than vanilla Python.\n",
    "\n",
    "But the Jacobi method is not algorithmically optimal, giving slow convergence.  We want to take advantage of the faster-converging iterative methods, yet unpacking the array operations into nested loops destroys performance. *What can we do?*"
   ]
  },
  {
   "cell_type": "markdown",
   "metadata": {},
   "source": [
    "## Use Numba!"
   ]
  },
  {
   "cell_type": "markdown",
   "metadata": {},
   "source": [
    "[Numba](https://numba.pydata.org/) is an open-source optimizing compiler for Python. It works by reading Python functions that you give it, and generating a compiled version for you—also called Just-In-Time (JIT) compilation. You can then use the function at performance levels that are close to what you can get with compiled languages (like C, C++ and fortran).\n",
    "\n",
    "It can massively speed up performance, especially when dealing with loops. Plus, it's pretty easy to use. Like we overheard at a conference: [*Numba is a Big Deal.*](http://twitter.com/lorenaabarba/status/625383941453656065)."
   ]
  },
  {
   "cell_type": "markdown",
   "metadata": {},
   "source": [
    "##### Caveat\n",
    "\n",
    "We encourage everyone following the course to use the [Anaconda Python](https://www.anaconda.com/download/) distribution because it's well put-together and simple to use.  If you *haven't* been using Anaconda, that's fine, but let us **strongly** suggest that you take the plunge now. Numba is great and easy to use, but it is **not** easy to install without help.  Those of you using Anaconda can install it by running:\n",
    "\n",
    "`conda install numba`\n",
    "\n",
    "If you *really* don't want to use Anaconda, you will have to [compile all of Numba's dependencies](https://pypi.python.org/pypi/numba).\n",
    "\n",
    "\n",
    "---"
   ]
  },
  {
   "cell_type": "markdown",
   "metadata": {},
   "source": [
    "### Intro to Numba"
   ]
  },
  {
   "cell_type": "markdown",
   "metadata": {},
   "source": [
    "Let's dive in!  Numba is great and easy to use.  We're going to first walk you through a simple example to give you a taste of Numba's abilities.  \n",
    "\n",
    "After installing Numba (see above), we can use it by adding a line to `import numba` and another to `import autojit` (more on this in a bit)."
   ]
  },
  {
   "cell_type": "code",
   "execution_count": 10,
   "metadata": {},
   "outputs": [],
   "source": [
    "import numba\n",
    "from numba import jit"
   ]
  },
  {
   "cell_type": "markdown",
   "metadata": {},
   "source": [
    "You tell Numba which functions you want to accelerate by using a [Python decorator](http://www.learnpython.org/en/Decorators), a special type of command that tells the Python interpreter to modify a callable object (like a function). For example, let's write a quick function to calculate the $n^{\\text{th}}$ number in the Fibonacci sequence:"
   ]
  },
  {
   "cell_type": "code",
   "execution_count": 11,
   "metadata": {},
   "outputs": [],
   "source": [
    "def fib_it(n):\n",
    "    a, b = 1, 1\n",
    "    for i in range(n - 2):\n",
    "        a, b = b, a + b\n",
    "    return b"
   ]
  },
  {
   "cell_type": "markdown",
   "metadata": {},
   "source": [
    "There are several faster ways to program the Fibonacci sequence, but that's not a concern right now (but if you're curious, [check them out](http://mathworld.wolfram.com/BinetsFibonacciNumberFormula.html)).  Let's use `%%timeit` and see how long this simple function takes to find the 500,000-th Fibonacci number."
   ]
  },
  {
   "cell_type": "code",
   "execution_count": 12,
   "metadata": {},
   "outputs": [
    {
     "name": "stdout",
     "output_type": "stream",
     "text": [
      "3.19 s ± 172 ms per loop (mean ± std. dev. of 7 runs, 1 loop each)\n"
     ]
    }
   ],
   "source": [
    "%%timeit\n",
    "fib_it(500000)"
   ]
  },
  {
   "cell_type": "markdown",
   "metadata": {},
   "source": [
    "Now let's try Numba!  Just add the `@jit` decorator above the function name and let's see what happens!"
   ]
  },
  {
   "cell_type": "code",
   "execution_count": 13,
   "metadata": {},
   "outputs": [],
   "source": [
    "@jit\n",
    "def fib_it(n):\n",
    "    a, b = 1, 1\n",
    "    for i in range(n - 2):\n",
    "        a, b = b, a + b\n",
    "    return b"
   ]
  },
  {
   "cell_type": "code",
   "execution_count": 14,
   "metadata": {},
   "outputs": [
    {
     "name": "stdout",
     "output_type": "stream",
     "text": [
      "318 µs ± 7.73 µs per loop (mean ± std. dev. of 7 runs, 1000 loops each)\n"
     ]
    }
   ],
   "source": [
    "%%timeit\n",
    "fib_it(500000)"
   ]
  },
  {
   "cell_type": "markdown",
   "metadata": {},
   "source": [
    "*Holy cow!* In our machine, that's more than 8,000 times faster!\n",
    "\n",
    "That warning from `%%timeit` is due to the compilation overhead for Numba.  The very first time that it executes the function, it has to compile it, then it caches that code for reuse without extra compiling.  That's the 'Just-In-Time' bit.  You'll see it disappear if we run `%%timeit` again."
   ]
  },
  {
   "cell_type": "code",
   "execution_count": 15,
   "metadata": {},
   "outputs": [
    {
     "name": "stdout",
     "output_type": "stream",
     "text": [
      "315 µs ± 4.51 µs per loop (mean ± std. dev. of 7 runs, 1000 loops each)\n"
     ]
    }
   ],
   "source": [
    "%%timeit\n",
    "fib_it(500000)"
   ]
  },
  {
   "cell_type": "markdown",
   "metadata": {},
   "source": [
    "We would agree if you think that this is a rather artificial example, but the speed-up is very impressive indeed. Just adding the one-word decorator!"
   ]
  },
  {
   "cell_type": "markdown",
   "metadata": {},
   "source": [
    "##### Running in `nopython` mode"
   ]
  },
  {
   "cell_type": "markdown",
   "metadata": {},
   "source": [
    "Numba is very clever, but it can't optimize everything. When it can't, rather than failing to run, it will fall back to the regular Python, resulting in poor performance again.  This can be confusing and frustrating, since you might not know ahead of time which bits of code will speed up and which bits won't.\n",
    "\n",
    "To avoid this particular annoyance, you can tell Numba to use `nopython` mode. In this case, your code will simply fail if the \"jitted\" function can't be optimized. It's simply an option to give you \"fast or nothing.\"\n",
    "\n",
    "Use `nopython` mode by adding the following line above the function that you want to JIT-compile:\n",
    "\n",
    "```Python\n",
    "@jit(nopython=True)\n",
    "```\n",
    "\n",
    "Also, you can check [here](https://numba.pydata.org/numba-doc/dev/reference/numpysupported.html) what NumPy features are supported by Numba."
   ]
  },
  {
   "cell_type": "markdown",
   "metadata": {},
   "source": [
    "##### Numba version check\n",
    "\n",
    "In these examples, we are using the latest (as of publication) version of Numba: 0.39.0. Make sure to upgrade or some of the code examples below may not run."
   ]
  },
  {
   "cell_type": "code",
   "execution_count": 16,
   "metadata": {},
   "outputs": [
    {
     "name": "stdout",
     "output_type": "stream",
     "text": [
      "0.39.0\n"
     ]
    }
   ],
   "source": [
    "print(numba.__version__)"
   ]
  },
  {
   "cell_type": "markdown",
   "metadata": {
    "collapsed": true
   },
   "source": [
    "## Back to Jacobi"
   ]
  },
  {
   "cell_type": "markdown",
   "metadata": {
    "collapsed": true
   },
   "source": [
    "We want to compare the performance of different iterative methods under the same conditions. Because the Gauss-Seidel method forces us to unpack the array operations into nested loops (which are very slow in Python), we use Numba to get the code to perform well. Thus, we need to write a new Jacobi method using for-loops and Numba (instead of NumPy), so we can make meaningful comparisons.\n",
    "\n",
    "Let's write a \"jitted\" Jacobi with loops."
   ]
  },
  {
   "cell_type": "code",
   "execution_count": 17,
   "metadata": {},
   "outputs": [],
   "source": [
    "@jit(nopython=True)\n",
    "def laplace_2d_jacobi(p0, maxiter=20000, rtol=1e-6):\n",
    "    \"\"\"\n",
    "    Solves the 2D Laplace equation on a uniform grid\n",
    "    with equal grid spacing in both directions\n",
    "    using Jacobi relaxation method.\n",
    "    \n",
    "    The exit criterion of the solver is based on the relative L2-norm\n",
    "    of the solution difference between two consecutive iterations.\n",
    "    \n",
    "    Parameters\n",
    "    ----------\n",
    "    p0 : numpy.ndarray\n",
    "        The initial solution as a 2D array of floats.\n",
    "    maxiter : integer, optional\n",
    "        Maximum number of iterations to perform;\n",
    "        default: 20000.\n",
    "    rtol : float, optional\n",
    "        Relative tolerance for convergence;\n",
    "        default: 1e-6.\n",
    "    \n",
    "    Returns\n",
    "    -------\n",
    "    p : numpy.ndarray\n",
    "        The solution after relaxation as a 2D array of floats.\n",
    "    ite : integer\n",
    "        The number of iterations performed.\n",
    "    conv : list\n",
    "        The convergence history as a list of floats.\n",
    "    \"\"\"\n",
    "    ny, nx = p0.shape\n",
    "    p = p0.copy()\n",
    "    conv = []  # convergence history\n",
    "    diff = rtol + 1.0  # initial difference\n",
    "    ite = 0  # iteration index\n",
    "    while diff > rtol and ite < maxiter:\n",
    "        pn = p.copy()\n",
    "        # Update the solution at interior points.\n",
    "        for j in range(1, ny - 1):\n",
    "            for i in range(1, nx - 1):\n",
    "                p[j, i] = 0.25 * (pn[j, i - 1] + pn[j, i + 1] +\n",
    "                                  pn[j - 1, i] + pn[j + 1, i])\n",
    "        # Apply 2nd-order Neumann condition (zero-gradient)\n",
    "        # at the right boundary.\n",
    "        for j in range(1, ny - 1):\n",
    "            p[j, -1] = 0.25 * (2.0 * pn[j, -2] +\n",
    "                               pn[j - 1, -1] + pn[j + 1, -1])\n",
    "        # Compute the relative L2-norm of the difference.\n",
    "        diff = numpy.sqrt(numpy.sum((p - pn)**2) / numpy.sum(pn**2))\n",
    "        conv.append(diff)\n",
    "        ite += 1\n",
    "    return p, ite, conv"
   ]
  },
  {
   "cell_type": "code",
   "execution_count": 18,
   "metadata": {},
   "outputs": [
    {
     "name": "stdout",
     "output_type": "stream",
     "text": [
      "Jacobi relaxation: 19993 iterations to reach a relative difference of 9.998616841562463e-09\n"
     ]
    }
   ],
   "source": [
    "# Compute the solution using Jacobi relaxation method.\n",
    "p, ites, conv_jacobi = laplace_2d_jacobi(p0,\n",
    "                                         maxiter=20000, rtol=1e-8)\n",
    "print('Jacobi relaxation: {} iterations '.format(ites) +\n",
    "      'to reach a relative difference of {}'.format(conv_jacobi[-1]))"
   ]
  },
  {
   "cell_type": "code",
   "execution_count": 19,
   "metadata": {},
   "outputs": [
    {
     "name": "stdout",
     "output_type": "stream",
     "text": [
      "1.57 s ± 19.5 ms per loop (mean ± std. dev. of 7 runs, 1 loop each)\n"
     ]
    }
   ],
   "source": [
    "%%timeit\n",
    "laplace_2d_jacobi(p0, maxiter=20000, rtol=1e-8)"
   ]
  },
  {
   "cell_type": "markdown",
   "metadata": {},
   "source": [
    "In our old machine, that's faster than the NumPy version of Jacobi, but on some newer machines it might not be. Don't obsess over this: there is much hardware black magic that we cannot control.\n",
    "\n",
    "Remember that NumPy is a highly optimized library.  The fact that we can get competitive execution times with this JIT-compiled code is kind of amazing.  Plus(!) now we get to try out those techniques that aren't possible with NumPy array operations."
   ]
  },
  {
   "cell_type": "markdown",
   "metadata": {},
   "source": [
    "##### Note\n",
    "\n",
    "We're also saving the history of the L2-norm of the difference between consecutive iterations. We'll take a look at that once we have a few more methods to compare.\n",
    "\n",
    "\n",
    "##### Challenge task\n",
    "\n",
    "It is possible to get a good estimate of the number of iterations needed by the Jacobi method to reduce the initial error by a factor $10^{-m}$, for given $m$. The formula depends on the largest eigenvalue of the coefficient matrix, which is known for the discrete Poisson problem on a square domain. See Parviz Moin, *\"Fundamentals of Engineering Numerical Analysis\"* (2nd ed., pp.141–143).\n",
    "\n",
    "* Find the estimated number of iterations to reduce the initial error by $10^{-8}$ when using the grids listed below, in the section on grid convergence, with $11$, $21$, $41$ and $81$ grid points on each coordinate axis."
   ]
  },
  {
   "cell_type": "markdown",
   "metadata": {},
   "source": [
    "## Back to Gauss-Seidel"
   ]
  },
  {
   "cell_type": "markdown",
   "metadata": {},
   "source": [
    "If you recall, the reason we got into this Numba sidetrack was to try out Gauss-Seidel and compare the performance with Jacobi.  Recall from above that the formula for Gauss-Seidel is as follows:\n",
    "\n",
    "$$\n",
    "\\begin{equation}\n",
    "p^{k+1}_{i,j} = \\frac{1}{4} \\left(p^{k+1}_{i,j-1} + p^k_{i,j+1} + p^{k+1}_{i-1,j} + p^k_{i+1,j} \\right)\n",
    "\\end{equation}\n",
    "$$\n",
    "\n",
    "We only need to slightly tweak the Jacobi function to get one for Gauss-Seidel.  Instead of updating `p` in terms of `pn`, we just update `p` using `p`!"
   ]
  },
  {
   "cell_type": "code",
   "execution_count": 20,
   "metadata": {},
   "outputs": [],
   "source": [
    "@jit(nopython=True)\n",
    "def laplace_2d_gauss_seidel(p0, maxiter=20000, rtol=1e-6):\n",
    "    \"\"\"\n",
    "    Solves the 2D Laplace equation on a uniform grid\n",
    "    with equal grid spacing in both directions\n",
    "    using Gauss-Seidel relaxation method.\n",
    "    \n",
    "    The exit criterion of the solver is based on the relative L2-norm\n",
    "    of the solution difference between two consecutive iterations.\n",
    "    \n",
    "    Parameters\n",
    "    ----------\n",
    "    p0 : numpy.ndarray\n",
    "        The initial solution as a 2D array of floats.\n",
    "    maxiter : integer, optional\n",
    "        Maximum number of iterations to perform;\n",
    "        default: 20000.\n",
    "    rtol : float, optional\n",
    "        Relative tolerance for convergence;\n",
    "        default: 1e-6.\n",
    "    \n",
    "    Returns\n",
    "    -------\n",
    "    p : numpy.ndarray\n",
    "        The solution after relaxation as a 2D array of floats.\n",
    "    ite : integer\n",
    "        The number of iterations performed.\n",
    "    conv : list\n",
    "        The convergence history as a list of floats.\n",
    "    \"\"\"\n",
    "    ny, nx = p0.shape\n",
    "    p = p0.copy()\n",
    "    conv = []  # convergence history\n",
    "    diff = rtol + 1.0  # initial difference\n",
    "    ite = 0  # iteration index\n",
    "    while diff > rtol and ite < maxiter:\n",
    "        pn = p.copy()\n",
    "        # Update the solution at interior points.\n",
    "        for j in range(1, ny - 1):\n",
    "            for i in range(1, nx - 1):\n",
    "                p[j, i] = 0.25 * (p[j, i - 1] + p[j, i + 1] +\n",
    "                                  p[j - 1, i] + p[j + 1, i])\n",
    "        # Apply 2nd-order Neumann condition (zero-gradient)\n",
    "        # at the right boundary.\n",
    "        for j in range(1, ny - 1):\n",
    "            p[j, -1] = 0.25 * (2.0 * p[j, -2] +\n",
    "                               p[j - 1, -1] + p[j + 1, -1])\n",
    "        # Compute the relative L2-norm of the difference.\n",
    "        diff = numpy.sqrt(numpy.sum((p - pn)**2) / numpy.sum(pn**2))\n",
    "        conv.append(diff)\n",
    "        ite += 1\n",
    "    return p, ite, conv"
   ]
  },
  {
   "cell_type": "code",
   "execution_count": 21,
   "metadata": {},
   "outputs": [
    {
     "name": "stdout",
     "output_type": "stream",
     "text": [
      "Gauss-Seidel relaxation: 13939 iterations to reach a relative difference of 9.99763565214552e-09\n"
     ]
    }
   ],
   "source": [
    "# Compute the solution using Gauss-Seidel relaxation method.\n",
    "p, ites, conv_gs = laplace_2d_gauss_seidel(p0,\n",
    "                                           maxiter=20000, rtol=1e-8)\n",
    "print('Gauss-Seidel relaxation: {} iterations '.format(ites) +\n",
    "      'to reach a relative difference of {}'.format(conv_gs[-1]))"
   ]
  },
  {
   "cell_type": "markdown",
   "metadata": {},
   "source": [
    "Cool! Using the most recently updated values of the solution in the Gauss-Seidel method saved 6,000 iterations! Now we can see how much faster than Jacobi this is, because both methods are implemented the same way:"
   ]
  },
  {
   "cell_type": "code",
   "execution_count": 22,
   "metadata": {},
   "outputs": [
    {
     "name": "stdout",
     "output_type": "stream",
     "text": [
      "2.41 s ± 113 ms per loop (mean ± std. dev. of 7 runs, 1 loop each)\n"
     ]
    }
   ],
   "source": [
    "%%timeit\n",
    "laplace_2d_gauss_seidel(p0, maxiter=20000, rtol=1e-8)"
   ]
  },
  {
   "cell_type": "markdown",
   "metadata": {},
   "source": [
    "We get no speed-up over the Numba version of Jacobi, and you may see different results. On some of the machines we tried, we could not beat the NumPy version of Jacobi. This can be confusing, and hard to explain without getting into the nitty grity of hardware optimizations.\n",
    "\n",
    "Don't lose hope! We have another trick up our sleeve!"
   ]
  },
  {
   "cell_type": "markdown",
   "metadata": {},
   "source": [
    "## Successive Over-Relaxation (SOR)"
   ]
  },
  {
   "cell_type": "markdown",
   "metadata": {},
   "source": [
    "Successive over-relaxation is able to improve on the Gauss-Seidel method by using in the update a linear combination of the previous and the current solution, as follows:\n",
    "\n",
    "$$\n",
    "\\begin{equation}\n",
    "p^{k+1}_{i,j} = (1 - \\omega)p^k_{i,j} + \\frac{\\omega}{4} \\left(p^{k+1}_{i,j-1} + p^k_{i,j+1} + p^{k+1}_{i-1,j} + p^k_{i+1,j} \\right)\n",
    "\\end{equation}\n",
    "$$\n",
    "\n",
    "The relaxation parameter $\\omega$ will determine how much faster SOR will be than Gauss-Seidel. SOR iterations are only stable for $0 < \\omega < 2$. Note that for $\\omega = 1$, SOR reduces to the Gauss-Seidel method.\n",
    "\n",
    "If $\\omega < 1$, that is technically an \"under-relaxation\" and it will be slower than Gauss-Seidel.  \n",
    "\n",
    "If $\\omega > 1$, that's the over-relaxation and it should converge faster than Gauss-Seidel.  \n",
    "\n",
    "Let's write a function for SOR iterations of the Laplace equation, using Numba to get high performance."
   ]
  },
  {
   "cell_type": "code",
   "execution_count": 23,
   "metadata": {},
   "outputs": [],
   "source": [
    "@jit(nopython=True)\n",
    "def laplace_2d_sor(p0, omega, maxiter=20000, rtol=1e-6):\n",
    "    \"\"\"\n",
    "    Solves the 2D Laplace equation on a uniform grid\n",
    "    with equal grid spacing in both directions\n",
    "    using successive over-relaxation (SOR) method.\n",
    "    \n",
    "    The exit criterion of the solver is based on the relative L2-norm\n",
    "    of the solution difference between two consecutive iterations.\n",
    "    \n",
    "    Parameters\n",
    "    ----------\n",
    "    p0 : numpy.ndarray\n",
    "        The initial solution as a 2D array of floats.\n",
    "    omega : float\n",
    "        Relaxation parameter.\n",
    "    maxiter : integer, optional\n",
    "        Maximum number of iterations to perform;\n",
    "        default: 20000.\n",
    "    rtol : float, optional\n",
    "        Relative tolerance for convergence;\n",
    "        default: 1e-6.\n",
    "    \n",
    "    Returns\n",
    "    -------\n",
    "    p : numpy.ndarray\n",
    "        The solution after relaxation as a 2D array of floats.\n",
    "    ite : integer\n",
    "        The number of iterations performed.\n",
    "    conv : list\n",
    "        The convergence history as a list of floats.\n",
    "    \"\"\"\n",
    "    ny, nx = p0.shape\n",
    "    p = p0.copy()\n",
    "    conv = []  # convergence history\n",
    "    diff = rtol + 1.0  # initial difference\n",
    "    ite = 0  # iteration index\n",
    "    while diff > rtol and ite < maxiter:\n",
    "        pn = p.copy()\n",
    "        # Update the solution at interior points.\n",
    "        for j in range(1, ny - 1):\n",
    "            for i in range(1, nx - 1):\n",
    "                p[j, i] = ((1.0 - omega) * p[j, i] +\n",
    "                           omega * 0.25 *(p[j, i - 1] + p[j, i + 1] +\n",
    "                                          p[j - 1, i] + p[j + 1, i]))\n",
    "        # Apply 2nd-order Neumann condition (zero-gradient)\n",
    "        # at the right boundary.\n",
    "        for j in range(1, ny - 1):\n",
    "            p[j, -1] = 0.25 * (2.0 * p[j, -2] +\n",
    "                               p[j - 1, -1] + p[j + 1, -1])\n",
    "        # Compute the relative L2-norm of the difference.\n",
    "        diff = numpy.sqrt(numpy.sum((p - pn)**2) / numpy.sum(pn**2))\n",
    "        conv.append(diff)\n",
    "        ite += 1\n",
    "    return p, ite, conv"
   ]
  },
  {
   "cell_type": "markdown",
   "metadata": {},
   "source": [
    "That wasn't too bad at all.  Let's try this out first with $\\omega = 1$ and check that it matches the Gauss-Seidel results from above."
   ]
  },
  {
   "cell_type": "code",
   "execution_count": 24,
   "metadata": {},
   "outputs": [
    {
     "name": "stdout",
     "output_type": "stream",
     "text": [
      "SOR (omega=1.0): 13939 iterations to reach a relative difference of 9.99763565214552e-09\n"
     ]
    }
   ],
   "source": [
    "# Compute the solution using SOR method.\n",
    "omega = 1.0\n",
    "p, ites, conv_sor = laplace_2d_sor(p0, omega,\n",
    "                                   maxiter=20000, rtol=1e-8)\n",
    "print('SOR (omega={}): {} iterations '.format(omega, ites) +\n",
    "      'to reach a relative difference of {}'.format(conv_sor[-1]))"
   ]
  },
  {
   "cell_type": "markdown",
   "metadata": {},
   "source": [
    "We have the exact same number of iterations as Gauss-Seidel.  That's a good sign that things are working as expected.\n",
    "\n",
    "Now let's try to over-relax the solution and see what happens.  To start, let's try $\\omega = 1.5$."
   ]
  },
  {
   "cell_type": "code",
   "execution_count": 25,
   "metadata": {},
   "outputs": [
    {
     "name": "stdout",
     "output_type": "stream",
     "text": [
      "SOR (omega=1.5): 7108 iterations to reach a relative difference of 9.991011445834247e-09\n"
     ]
    }
   ],
   "source": [
    "# Compute the solution using SOR method.\n",
    "omega = 1.5\n",
    "p, ites, conv_sor = laplace_2d_sor(p0, omega,\n",
    "                                   maxiter=20000, rtol=1e-8)\n",
    "print('SOR (omega={}): {} iterations '.format(omega, ites) +\n",
    "      'to reach a relative difference of {}'.format(conv_sor[-1]))"
   ]
  },
  {
   "cell_type": "markdown",
   "metadata": {},
   "source": [
    "Wow!  That really did the trick!  We dropped from $13,939$ iterations down to $7,108$. Now we're really cooking! Let's try `%%timeit` on SOR."
   ]
  },
  {
   "cell_type": "code",
   "execution_count": 26,
   "metadata": {},
   "outputs": [
    {
     "name": "stdout",
     "output_type": "stream",
     "text": [
      "1.24 s ± 11.9 ms per loop (mean ± std. dev. of 7 runs, 1 loop each)\n"
     ]
    }
   ],
   "source": [
    "%%timeit\n",
    "laplace_2d_sor(p0, omega, maxiter=20000, rtol=1e-8)"
   ]
  },
  {
   "cell_type": "markdown",
   "metadata": {},
   "source": [
    "Things continue to speed up. But we can do even better!"
   ]
  },
  {
   "cell_type": "markdown",
   "metadata": {},
   "source": [
    "### Tuned SOR"
   ]
  },
  {
   "cell_type": "markdown",
   "metadata": {},
   "source": [
    "Above, we picked $\\omega=1.5$ arbitrarily, but we would like to over-relax the solution as much as possible without introducing instability, as that will result in the fewest number of iterations.\n",
    "\n",
    "For square domains, it turns out that the ideal factor $\\omega$ can be computed as a function of the number of nodes in one direction, e.g., `nx`.\n",
    "\n",
    "$$\n",
    "\\begin{equation}\n",
    "\\omega \\approx \\frac{2}{1+\\frac{\\pi}{nx}}\n",
    "\\end{equation}\n",
    "$$\n",
    "\n",
    "This is not some arbitrary formula, but its derivation lies outside the scope of this course. (If you're curious and have some serious math chops, you can check out Reference 3 for more information). For now, let's try it out and see how it works."
   ]
  },
  {
   "cell_type": "code",
   "execution_count": 27,
   "metadata": {},
   "outputs": [
    {
     "name": "stdout",
     "output_type": "stream",
     "text": [
      "SOR (omega=1.9521): 1110 iterations to reach a relative difference of 9.964283931955807e-09\n"
     ]
    }
   ],
   "source": [
    "# Compute the solution using tuned SOR method.\n",
    "omega = 2.0 / (1.0 + numpy.pi / nx)\n",
    "p, ites, conv_opt_sor = laplace_2d_sor(p0, omega,\n",
    "                                       maxiter=20000, rtol=1e-8)\n",
    "print('SOR (omega={:.4f}): {} iterations '.format(omega, ites) +\n",
    "      'to reach a relative difference of {}'.format(conv_opt_sor[-1]))"
   ]
  },
  {
   "cell_type": "markdown",
   "metadata": {},
   "source": [
    "Wow! That's *very* fast. Also, $\\omega$ is very close to the upper limit of 2. SOR tends to work fastest when $\\omega$ approaches 2, but don't be tempted to push it.  Set $\\omega = 2$ and the walls will come crumbling down.\n",
    "\n",
    "Let's see what `%%timeit` has for us now."
   ]
  },
  {
   "cell_type": "code",
   "execution_count": 28,
   "metadata": {},
   "outputs": [
    {
     "name": "stdout",
     "output_type": "stream",
     "text": [
      "196 ms ± 2.71 ms per loop (mean ± std. dev. of 7 runs, 10 loops each)\n"
     ]
    }
   ],
   "source": [
    "%%timeit\n",
    "laplace_2d_sor(p0, omega, maxiter=20000, rtol=1e-8)"
   ]
  },
  {
   "cell_type": "markdown",
   "metadata": {},
   "source": [
    "Regardless of the hardware in which we tried this, the tuned SOR gave *big* speed-ups, compared to the Jacobi method (whether implemented with NumPy or Numba). Now you know why we told you at the end of [Lesson 1](https://nbviewer.jupyter.org/github/numerical-mooc/numerical-mooc/blob/master/lessons/05_relax/05_01_2D.Laplace.Equation.ipynb) that the Jacobi method is the *worst* iterative solver and almost never used.\n",
    "\n",
    "Just to convince ourselves that everything is OK, let's check the error after the $1,110$ iterations of tuned SOR:"
   ]
  },
  {
   "cell_type": "code",
   "execution_count": 29,
   "metadata": {},
   "outputs": [
    {
     "data": {
      "text/plain": [
       "7.792743355069158e-05"
      ]
     },
     "execution_count": 29,
     "metadata": {},
     "output_type": "execute_result"
    }
   ],
   "source": [
    "# Compute the relative L2-norm of the error.\n",
    "l2_norm(p, p_exact)"
   ]
  },
  {
   "cell_type": "markdown",
   "metadata": {},
   "source": [
    "Looking very good, indeed.\n",
    "\n",
    "We didn't explain it in any detail, but notice the very interesting implication of Equation $(6)$: the ideal relaxation factor is a function of the grid size.  \n",
    "Also keep in mind that the formula only works for square domains with uniform grids. If your problem has an irregular geometry, you will need to find a good value of $\\omega$ by numerical experiments."
   ]
  },
  {
   "cell_type": "markdown",
   "metadata": {},
   "source": [
    "## Decay of the difference between iterates"
   ]
  },
  {
   "cell_type": "markdown",
   "metadata": {},
   "source": [
    "In the [Poisson Equation notebook](https://nbviewer.jupyter.org/github/numerical-mooc/numerical-mooc/blob/master/lessons/05_relax/05_02_2D.Poisson.Equation.ipynb), we noticed how the norm of the difference between consecutive iterations first dropped quite fast, then settled for a more moderate decay rate. With Gauss-Seidel, SOR and tuned SOR, we reduced the number of iterations required to reach the stopping criterion. Let's see how that reflects on the time history of the difference between consecutive solutions."
   ]
  },
  {
   "cell_type": "code",
   "execution_count": 30,
   "metadata": {},
   "outputs": [
    {
     "data": {
      "image/png": "[encoded data removed]",
      "text/plain": [
       "<Figure size 648x288 with 1 Axes>"
      ]
     },
     "metadata": {},
     "output_type": "display_data"
    }
   ],
   "source": [
    "# Plot the convergence history for different methods.\n",
    "pyplot.figure(figsize=(9.0, 4.0))\n",
    "pyplot.xlabel('Iterations')\n",
    "pyplot.ylabel('Relative $L_2$-norm\\nof the difference')\n",
    "pyplot.grid()\n",
    "pyplot.semilogy(conv_jacobi, label='Jacobi')\n",
    "pyplot.semilogy(conv_gs, label='Gauss-Seidel')\n",
    "pyplot.semilogy(conv_sor, label='SOR')\n",
    "pyplot.semilogy(conv_opt_sor, label='Optimized SOR')\n",
    "pyplot.legend()\n",
    "pyplot.xlim(0, 20000);"
   ]
  },
  {
   "cell_type": "markdown",
   "metadata": {},
   "source": [
    "The Jacobi method starts out with very fast convergence, but then it settles into a slower rate. Gauss-Seidel shows a faster rate in the first few thousand iterations, but it seems to be slowing down towards the end. SOR is a lot faster to converge, though, and optimized SOR just plunges down!"
   ]
  },
  {
   "cell_type": "markdown",
   "metadata": {},
   "source": [
    "## References"
   ]
  },
  {
   "cell_type": "markdown",
   "metadata": {},
   "source": [
    "1.  [Gonsalves, Richard J.  Computational Physics I. State University of New York, Buffalo: (2011): Section 3.1 ](http://www.physics.buffalo.edu/phy410-505/2011/index.html)\n",
    "\n",
    "2. Moin, Parviz, \"Fundamentals of Engineering Numerical Analysis,\" Cambridge University Press, 2nd edition (2010).\n",
    "\n",
    "3. Young, David M. \"A bound for the optimum relaxation factor for the successive overrelaxation method.\" Numerische Mathematik 16.5 (1971): 408-413."
   ]
  },
  {
   "cell_type": "markdown",
   "metadata": {},
   "source": [
    "---\n",
    "###### The cell below loads the style of this notebook."
   ]
  },
  {
   "cell_type": "code",
   "execution_count": 31,
   "metadata": {},
   "outputs": [
    {
     "data": {
      "text/html": [
       "<link href='http://fonts.googleapis.com/css?family=Alegreya+Sans:100,300,400,500,700,800,900,100italic,300italic,400italic,500italic,700italic,800italic,900italic' rel='stylesheet' type='text/css'>\n",
       "<link href='http://fonts.googleapis.com/css?family=Arvo:400,700,400italic' rel='stylesheet' type='text/css'>\n",
       "<link href='http://fonts.googleapis.com/css?family=PT+Mono' rel='stylesheet' type='text/css'>\n",
       "<link href='http://fonts.googleapis.com/css?family=Shadows+Into+Light' rel='stylesheet' type='text/css'>\n",
       "<link href='http://fonts.googleapis.com/css?family=Nixie+One' rel='stylesheet' type='text/css'>\n",
       "<link href='https://fonts.googleapis.com/css?family=Source+Code+Pro' rel='stylesheet' type='text/css'>\n",
       "<style>\n",
       "\n",
       "@font-face {\n",
       "    font-family: \"Computer Modern\";\n",
       "    src: url('http://mirrors.ctan.org/fonts/cm-unicode/fonts/otf/cmunss.otf');\n",
       "}\n",
       "\n",
       "#notebook_panel { /* main background */\n",
       "    background: rgb(245,245,245);\n",
       "}\n",
       "\n",
       "div.cell { /* set cell width */\n",
       "    width: 750px;\n",
       "}\n",
       "\n",
       "div #notebook { /* centre the content */\n",
       "    background: #fff; /* white background for content */\n",
       "    width: 1000px;\n",
       "    margin: auto;\n",
       "    padding-left: 0em;\n",
       "}\n",
       "\n",
       "#notebook li { /* More space between bullet points */\n",
       "    margin-top:0.8em;\n",
       "}\n",
       "\n",
       "/* draw border around running cells */\n",
       "div.cell.border-box-sizing.code_cell.running { \n",
       "    border: 1px solid #111;\n",
       "}\n",
       "\n",
       "/* Put a solid color box around each cell and its output, visually linking them*/\n",
       "div.cell.code_cell {\n",
       "    background-color: rgb(256,256,256); \n",
       "    border-radius: 0px; \n",
       "    padding: 0.5em;\n",
       "    margin-left:1em;\n",
       "    margin-top: 1em;\n",
       "}\n",
       "\n",
       "div.text_cell_render{\n",
       "    font-family: 'Alegreya Sans' sans-serif;\n",
       "    line-height: 140%;\n",
       "    font-size: 125%;\n",
       "    font-weight: 400;\n",
       "    width:600px;\n",
       "    margin-left:auto;\n",
       "    margin-right:auto;\n",
       "}\n",
       "\n",
       "\n",
       "/* Formatting for header cells */\n",
       ".text_cell_render h1 {\n",
       "    font-family: 'Nixie One', serif;\n",
       "    font-style:regular;\n",
       "    font-weight: 400;    \n",
       "    font-size: 45pt;\n",
       "    line-height: 100%;\n",
       "    color: rgb(0,51,102);\n",
       "    margin-bottom: 0.5em;\n",
       "    margin-top: 0.5em;\n",
       "    display: block;\n",
       "}\n",
       "\n",
       ".text_cell_render h2 {\n",
       "    font-family: 'Nixie One', serif;\n",
       "    font-weight: 400;\n",
       "    font-size: 30pt;\n",
       "    line-height: 100%;\n",
       "    color: rgb(0,51,102);\n",
       "    margin-bottom: 0.1em;\n",
       "    margin-top: 0.3em;\n",
       "    display: block;\n",
       "}\t\n",
       "\n",
       ".text_cell_render h3 {\n",
       "    font-family: 'Nixie One', serif;\n",
       "    margin-top:16px;\n",
       "    font-size: 22pt;\n",
       "    font-weight: 600;\n",
       "    margin-bottom: 3px;\n",
       "    font-style: regular;\n",
       "    color: rgb(102,102,0);\n",
       "}\n",
       "\n",
       ".text_cell_render h4 {    /*Use this for captions*/\n",
       "    font-family: 'Nixie One', serif;\n",
       "    font-size: 14pt;\n",
       "    text-align: center;\n",
       "    margin-top: 0em;\n",
       "    margin-bottom: 2em;\n",
       "    font-style: regular;\n",
       "}\n",
       "\n",
       ".text_cell_render h5 {  /*Use this for small titles*/\n",
       "    font-family: 'Nixie One', sans-serif;\n",
       "    font-weight: 400;\n",
       "    font-size: 16pt;\n",
       "    color: rgb(163,0,0);\n",
       "    font-style: italic;\n",
       "    margin-bottom: .1em;\n",
       "    margin-top: 0.8em;\n",
       "    display: block;\n",
       "}\n",
       "\n",
       ".text_cell_render h6 { /*use this for copyright note*/\n",
       "    font-family: 'PT Mono', sans-serif;\n",
       "    font-weight: 300;\n",
       "    font-size: 9pt;\n",
       "    line-height: 100%;\n",
       "    color: grey;\n",
       "    margin-bottom: 1px;\n",
       "    margin-top: 1px;\n",
       "}\n",
       "\n",
       ".CodeMirror{\n",
       "    font-family: \"Source Code Pro\";\n",
       "    font-size: 90%;\n",
       "}\n",
       "\n",
       ".alert-box {\n",
       "    padding:10px 10px 10px 36px;\n",
       "    margin:5px;\n",
       "}\n",
       "\n",
       ".success {\n",
       "    color:#666600;\n",
       "    background:rgb(240,242,229);\n",
       "}\n",
       "</style>\n",
       "\n",
       "<script>\n",
       "    MathJax.Hub.Config({\n",
       "                        TeX: {\n",
       "                            extensions: [\"AMSmath.js\"],\n",
       "                            equationNumbers: { autoNumber: \"AMS\", useLabelIds: true}\n",
       "                            },\n",
       "                        tex2jax: {\n",
       "                            inlineMath: [ ['$','$'], [\"\\\\(\",\"\\\\)\"] ],\n",
       "                            displayMath: [ ['$$','$$'], [\"\\\\[\",\"\\\\]\"] ]\n",
       "                            },\n",
       "                        displayAlign: 'center', // Change this to 'center' to center equations.\n",
       "                        \"HTML-CSS\": {\n",
       "                            styles: {'.MathJax_Display': {\"margin\": 4}}\n",
       "                            }\n",
       "                        });\n",
       "    MathJax.Hub.Queue(\n",
       "                      [\"resetEquationNumbers\", MathJax.InputJax.TeX],\n",
       "                      [\"PreProcess\", MathJax.Hub],\n",
       "                      [\"Reprocess\", MathJax.Hub]\n",
       "                     );\n",
       "</script>\n"
      ],
      "text/plain": [
       "<IPython.core.display.HTML object>"
      ]
     },
     "execution_count": 31,
     "metadata": {},
     "output_type": "execute_result"
    }
   ],
   "source": [
    "from IPython.core.display import HTML\n",
    "css_file = '../../styles/numericalmoocstyle.css'\n",
    "HTML(open(css_file, 'r').read())"
   ]
  }
 ],
 "metadata": {
  "hide_input": true,
  "kernelspec": {
   "display_name": "Python 3 (MOOC)",
   "language": "python",
   "name": "py36-mooc"
  },
  "language_info": {
   "codemirror_mode": {
    "name": "ipython",
    "version": 3
   },
   "file_extension": ".py",
   "mimetype": "text/x-python",
   "name": "python",
   "nbconvert_exporter": "python",
   "pygments_lexer": "ipython3",
   "version": "3.6.6"
  }
 },
 "nbformat": 4,
 "nbformat_minor": 1
}
