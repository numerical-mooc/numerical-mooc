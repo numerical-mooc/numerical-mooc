{
 "cells": [
  {
   "cell_type": "code",
   "execution_count": 3,
   "metadata": {
    "collapsed": false
   },
   "outputs": [
    {
     "name": "stdout",
     "output_type": "stream",
     "text": [
      "1.0\n",
      "1.0\n",
      "2.0\n",
      "3.0\n",
      "5.0\n",
      "8.0\n",
      "13.0\n",
      "21.0\n",
      "34.0\n",
      "55.0\n",
      "89.0\n",
      "144.0\n",
      "233.0\n",
      "377.0\n",
      "610.0\n",
      "987.0\n",
      "1597.0\n",
      "2584.0\n",
      "4181.0\n"
     ]
    }
   ],
   "source": [
    "import numpy as np\n",
    "\n",
    "Theta_plus = 0.5*(1+np.sqrt(5))\n",
    "Theta_minus = 0.5*(1-np.sqrt(5))\n",
    "\n",
    "print(1.0)\n",
    "print(1.0)\n",
    "for n in range(3,20):\n",
    "    F = (Theta_plus**n - Theta_minus**n)/(Theta_plus-Theta_minus)\n",
    "    print(F)"
   ]
  },
  {
   "cell_type": "code",
   "execution_count": null,
   "metadata": {
    "collapsed": true
   },
   "outputs": [],
   "source": []
  }
 ],
 "metadata": {
  "kernelspec": {
   "display_name": "Python 3",
   "language": "python",
   "name": "python3"
  },
  "language_info": {
   "codemirror_mode": {
    "name": "ipython",
    "version": 3
   },
   "file_extension": ".py",
   "mimetype": "text/x-python",
   "name": "python",
   "nbconvert_exporter": "python",
   "pygments_lexer": "ipython3",
   "version": "3.4.3"
  }
 },
 "nbformat": 4,
 "nbformat_minor": 0
}
