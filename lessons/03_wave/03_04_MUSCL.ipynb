{
 "cells": [
  {
   "cell_type": "markdown",
   "metadata": {},
   "source": [
    "###### Content under Creative Commons Attribution license CC-BY 4.0, code under MIT license (c)2014 L.A. Barba, G.F. Forsyth, I. Hawke. Partly based on [HyperPython](http://nbviewer.ipython.org/github/ketch/HyperPython/tree/master/) by D.I. Ketcheson, also under CC-BY."
   ]
  },
  {
   "cell_type": "markdown",
   "metadata": {},
   "source": [
    "# Riding the wave"
   ]
  },
  {
   "cell_type": "markdown",
   "metadata": {},
   "source": [
    "This is the fourth and final lesson of Module 3, _Riding the wave: convection problems_, of the course **\"Practical Numerical Methods with Python\"** (a.k.a., [#numericalmooc](https://twitter.com/hashtag/numericalmooc)). We learned about conservation laws and the traffic-flow model in the [first lesson](http://nbviewer.ipython.org/github/numerical-mooc/numerical-mooc/blob/master/lessons/03_wave/03_01_conservationLaw.ipynb), and then about better numerical schemes for convection in [lesson 2](http://nbviewer.ipython.org/github/numerical-mooc/numerical-mooc/blob/master/lessons/03_wave/03_02_convectionSchemes.ipynb). \n",
    "\n",
    "By then, you should have started to recognize that both mathematical models and numerical schemes work together to give us a good solution to a problem. To drive the point home, [lesson 3](http://nbviewer.ipython.org/github/numerical-mooc/numerical-mooc/blob/master/lessons/03_wave/03_03_aBetterModel.ipynb) deals only with an improved model—and showed you some impressive SymPy tricks!\n",
    "\n",
    "In this lesson, we'll learn about a new class of discretization schemes, known as finite-volume methods. They are the _most widely used_ methods in computational fluid dynamics, and for good reasons! Let's get started ..."
   ]
  },
  {
   "cell_type": "markdown",
   "metadata": {},
   "source": [
    "## Finite-volume method"
   ]
  },
  {
   "cell_type": "markdown",
   "metadata": {},
   "source": [
    "Are you curious to find out why the finite-volume method (FVM) is the _most popular method_ in computational fluid dynamics? In fact, almost all of the commercial CFD software packages are based on the finite-volume discretization. Here are some reasons:\n",
    "\n",
    "* FVM discretizations are very general and have no requirement that the grid be structured, like in the finite-difference method. This makes FVM very _flexible_.\n",
    "\n",
    "* FVM gives a _conservative discretization_ automatically by using directly the conservation laws in integral form."
   ]
  },
  {
   "cell_type": "markdown",
   "metadata": {},
   "source": [
    "### Conservative discretization"
   ]
  },
  {
   "cell_type": "markdown",
   "metadata": {},
   "source": [
    "Let's go right back to the start of this module, where we explained conservation laws looking at a tiny control volume. To simplify the discussion, we just looked at flow in one dimension, with velocity $u$. Imagining a tiny cylindrical volume, like the one shown in Figure 1, there is flux on the left face and right face and we easily explained conservation of mass in that case."
   ]
  },
  {
   "cell_type": "markdown",
   "metadata": {},
   "source": [
    "![1Dcontrolvolume](./figures/1Dcontrolvolume.png)\n",
    "#### Figure 1. Tiny control volume in the shape of a cylinder."
   ]
  },
  {
   "cell_type": "markdown",
   "metadata": {},
   "source": [
    "The law of conservation of mass says that the rate of change of mass in the control volume, plus the net rate of flow of mass across the control surfaces must be zero. The same idea works for other conserved quantities.\n",
    "\n",
    "Conservation means that any change in the quantity within a volume is due to the amount of that quantity that crosses the boundary. Sounds simple enough. (Remember that we are ignoring possible internal sources of the quantity.) The amount crossing the boundary is the flux. A general conservation law for a quantity $e$ is thus:\n",
    "\n",
    "\\begin{equation}\n",
    "\\frac{\\partial}{\\partial t}\\int_{\\text{cv}}e \\, dV + \\oint_{\\text{cs}}\\vec{F}\\cdot d\\vec{A} =0\n",
    "\\end{equation}\n",
    "\n",
    "where $\\vec{F}$ is the flux, and $\\text{cv}$ denotes the control volume with control surface $\\text{cs}$."
   ]
  },
  {
   "cell_type": "markdown",
   "metadata": {},
   "source": [
    "**Why not make the control volume itself our computational cell?**\n",
    "\n",
    "Imagine that the one-dimensional domain of interest is divided using grid points $x_i$. But instead of trying to compute local values at the grid points, like we did before, we now want to follow the time evolution of _average_ values within each one-dimensional cell of width $\\Delta x$ with center at $x_i$ (the idea is that as long as the cells are small enough, the average values will be a good representation of the quantities we are interested in). \n",
    "\n",
    "Define $e_i$ as the integral average across the little control volume on the cell with center at $x_i$ (see Figure 2).\n",
    "\n",
    "$$\n",
    "\\begin{equation}\n",
    "  e_i = \\frac{1}{\\Delta x} \\int_{x_i - \\Delta x / 2}^{x_i + \\Delta x / 2} e(x, t) \\, dx.\n",
    "\\end{equation}\n",
    "$$\n",
    "\n",
    "If we know the flux terms at the boundaries of the control volume, which are at $x_{i-1/2}$ and $x_{i+1/2}$, the general conservation law for this small control volume gives:\n",
    "\n",
    "$$\n",
    "\\begin{equation}\n",
    "  \\frac{\\partial}{\\partial t} e_i + \\frac{1}{\\Delta x} \\left[ F \\left( x_{i+1/2}, t \\right) - F \\left( x_{i - 1 / 2}, t \\right) \\right] = 0.\n",
    "\\end{equation}\n",
    "$$ \n",
    "\n",
    "This now just requires a time-stepping scheme, and is easy to solve *if* we can find $F$ on the control surfaces."
   ]
  },
  {
   "cell_type": "markdown",
   "metadata": {},
   "source": [
    "![finite volume](./figures/finite_volume.png)\n",
    "\n",
    "#### Figure 2. Discretizing a 1D domain into finite volumes."
   ]
  },
  {
   "cell_type": "markdown",
   "metadata": {},
   "source": [
    "We've seen with the traffic model that the flux can depend on the conserved quantity (in that case, the traffic density). That is generally the case, so we write that $F = F(e)$. We will need to compute, or approximate, the flux terms at the cell edges (control surfaces) from the integral averages, $e_i$.\n",
    "\n",
    "If we had a simple convection equation with $c>0$, then the flux going into the cell centered at $x_i$ from the left would be $F(e_{i-1})$ and the flux going out the cell on the right side would be $F(e_{i})$ (see Figure 2). Applying these fluxes in Equation (3) results in a scheme that is equivalent to our tried-and-tested backward-space (upwind) scheme! \n",
    "\n",
    "We know from previous lessons that the backward-space scheme is first order and the error introduces numerical diffusion. Also, remember what happened when we tried to use it with the non-linear [traffic model](http://nbviewer.ipython.org/github/numerical-mooc/numerical-mooc/blob/master/lessons/03_wave/03_01_conservationLaw.ipynb) in the green-light problem? *It blew up!* That was because the problem contains both right-moving and left-moving waves (if you don't remember that discussion, go back and review it; it's important!).\n",
    "\n",
    "To skirt this difficulty in the green-light problem, we chose initial conditions that don't produce negative wave speeds. But that's cheating! A genuine solution would be to have a scheme that can deal with both positive and negative wave speeds. Here is where Godunov comes in."
   ]
  },
  {
   "cell_type": "markdown",
   "metadata": {},
   "source": [
    "### Godunov's method"
   ]
  },
  {
   "cell_type": "markdown",
   "metadata": {},
   "source": [
    "Godunov proposed a first-order method in 1959 that uses the integral form of the conservation laws, Equation (1), and a piecewise constant representation of the solution, as shown in Figure (2). Notice that representing the solution in this way is like having a myriad of little shocks at the cell boundaries (control surfaces).\n",
    "\n",
    "For each control surface, we have *two values* for the solution $e$ at a given time: the constant value to the left, $e_L$, and the constant value to the right, $e_R$. A situation where you have a conservation law with a constant initial condition, except for a single jump discontinuity is called a **Riemann problem**. \n",
    "\n",
    "The Riemann problem has an exact solution for the Euler equations (as well as for any scalar conservation law). The [shock-tube problem](http://nbviewer.ipython.org/github/numerical-mooc/numerical-mooc/blob/master/lessons/03_wave/03_05_Sods_Shock_Tube.ipynb), subject of your assignment for this course module, is a Riemann problem! And because it has an analytical solution, we can use it for testing the accuracy of numerical methods. \n",
    "\n",
    "But Godunov had a better idea. With the solution represented as piecewise constant (Figure 2), why not use the analytical solution of the Riemann problem at each cell boundary? Solving a Riemann problem gives all the information about the characteristic structure of the solution, including the sign of the wave speed. The full solution can then be reconstructed from the union of all the Riemann solutions at cell boundaries. *Neat idea, Godunov!*\n",
    "\n",
    "Figure 3 illustrates a Riemann problem for the Euler equations, associated to the shock tube. The space-time plot shows the characteristic lines for the left-traveling expansion wave, and the right-traveling contact discontinuity and shock."
   ]
  },
  {
   "cell_type": "markdown",
   "metadata": {},
   "source": [
    "![Riemann-shocktube](./figures/Riemann-shocktube.png)\n",
    "\n",
    "#### Figure 3. The shock tube: a Riemann problem for Euler's equations. Physical space (top) and $x, t$ space (bottom)."
   ]
  },
  {
   "cell_type": "markdown",
   "metadata": {},
   "source": [
    "We need to solve many Riemann problems from $t$ to $\\Delta t$, one on each cell boundary (illustrated in Figure 4). The numerical flux on $x_{i+1/2}$ is \n",
    "\n",
    "\\begin{equation}\n",
    "  F_{i+1/2}= \\frac{1}{\\Delta t} \\int_{t^n}^{t^{n+1}} F\\left(e(x_{i+1/2},t) \\right)\\,dt\n",
    "\\end{equation}\n",
    "\n",
    "To be able to solve each Riemann problem independently, they should not interact, which imposes a limit on $\\Delta t$. Looking at Figure 4, you might conclude that we must require a CFL number of 1/2 to avoid interactions between the Riemann solutions, but the numerical flux above only depends on the state at $x_{i+1/2}$, so we're fine as long as the solution there is not affected by that at $x_{i-1/2}$—i.e., the CFL limit is really 1."
   ]
  },
  {
   "cell_type": "markdown",
   "metadata": {},
   "source": [
    "![many_Rieman_problems](./figures/many_Rieman_problems.png)\n",
    "\n",
    "#### Figure 4. Riemann problems on each cell boundary."
   ]
  },
  {
   "cell_type": "markdown",
   "metadata": {},
   "source": [
    "The Riemann solution, even though known analytically, can get quite hairy for non-linear systems of conservation laws (like the Euler equations). And we need as many Riemann solutions as there are finite-volume cell boundaries, and again at each time step! This gets really cumbersome. \n",
    "\n",
    "Godunov solved the Riemann problems exactly, but many after him proposed *approximate* Riemann solutions instead. We'll be calculating the full solution numerically, after all, so some controlled approximations can be made. You might imagine a simple approximation for the flux at a cell boundary that is just the average between the left and right values, for example: $\\frac{1}{2}\\left[F(e_L)+F(e_R)\\right]$. But that leads to a central scheme and, on its own, is unstable. Adding a term proportional to the difference between left and right states, $e_R-e_L$, supplies artificial dissipation and gives stability (see van Leer et al., 1987).\n",
    "\n",
    "One formula for the numerical flux at $x_{i+1/2}$ called the Rusanov flux, a.k.a. Lax-Friedrichs flux, is given by\n",
    "\n",
    "\\begin{equation}\n",
    "  F_{i+1/2}= \\frac{1}{2} \\left[ F \\left( e_L \\right) + F \\left( e_R \\right)  \\right] -  \\frac{1}{2}  \\max \\left|F'(e)\\right| \\left( e_R - e_L \\right)\n",
    "\\end{equation}\n",
    "\n",
    "where $F'(e)$ is the Jacobian of the flux function and $\\max\\left|F'(e)\\right|$ is the local propagation speed of the fastest traveling wave. The Riemann solutions at each cell boundary do not interact if $\\max|F'(e)|\\leq\\frac{\\Delta x}{\\Delta t}$, which leads to a flux formula we can now use:\n",
    "\n",
    "\\begin{equation}\n",
    "  F_{i+1/2}= \\frac{1}{2} \\left( F \\left( e_{i} \\right) + F \\left( e_{i+1} \\right) -  \\frac{\\Delta x}{\\Delta t} \\left( e_{i+1} - e_{i} \\right) \\right)\n",
    "\\end{equation}"
   ]
  },
  {
   "cell_type": "markdown",
   "metadata": {},
   "source": [
    "### Let's try it!"
   ]
  },
  {
   "cell_type": "markdown",
   "metadata": {},
   "source": [
    "Let's apply Godunov's method to the [LWR traffic model](http://nbviewer.ipython.org/github/numerical-mooc/numerical-mooc/blob/master/lessons/03_wave/03_01_conservationLaw.ipynb). In [lesson 2](http://nbviewer.ipython.org/github/numerical-mooc/numerical-mooc/blob/master/lessons/03_wave/03_02_convectionSchemes.ipynb) we already wrote functions to set the initial conditions for a red-light problem and to compute the fluxes.  To save us from  writing this out again, we saved those functions into a Python file named `traffic.py` (found in the same directory of the course repository).  Now, we can use those functions by importing them in the same way that we import NumPy or any other library. Like this:"
   ]
  },
  {
   "cell_type": "code",
   "execution_count": 1,
   "metadata": {
    "collapsed": false
   },
   "outputs": [],
   "source": [
    "from traffic import rho_red_light, computeF"
   ]
  },
  {
   "cell_type": "markdown",
   "metadata": {},
   "source": [
    "\n",
    "You've probably noticed that we have the habit of writing detailed explanations of what a function does after defining it, in comments.  These comments are called *docstrings* and it is good practice to include them in all your functions.  It can be very useful when loading a function that you aren't familiar with (or don't remember!), because the `help` command will print them out for you.  Check it out:"
   ]
  },
  {
   "cell_type": "code",
   "execution_count": 2,
   "metadata": {
    "collapsed": false
   },
   "outputs": [
    {
     "name": "stdout",
     "output_type": "stream",
     "text": [
      "Help on function rho_red_light in module traffic:\n",
      "\n",
      "rho_red_light(nx, rho_max, rho_in)\n",
      "    Computes \"red light\" initial condition with shock\n",
      "    \n",
      "    Parameters\n",
      "    ----------\n",
      "    nx        : int\n",
      "        Number of grid points in x\n",
      "    rho_max   : float\n",
      "        Maximum allowed car density\n",
      "    rho_in    : float\n",
      "        Density of incoming cars\n",
      "    \n",
      "    Returns\n",
      "    -------\n",
      "    rho: array of floats\n",
      "        Array with initial values of density\n",
      "\n"
     ]
    }
   ],
   "source": [
    "help(rho_red_light)"
   ]
  },
  {
   "cell_type": "markdown",
   "metadata": {},
   "source": [
    "Now, we can write some code to set up our notebook environment, and set the calculation parameters, with the functions imported above readily available."
   ]
  },
  {
   "cell_type": "code",
   "execution_count": 3,
   "metadata": {
    "collapsed": false
   },
   "outputs": [],
   "source": [
    "%matplotlib inline\n",
    "import numpy \n",
    "from matplotlib import pyplot\n",
    "from matplotlib import rcParams\n",
    "rcParams['font.family'] = 'serif'\n",
    "rcParams['font.size'] = 16\n",
    "from matplotlib import animation\n",
    "from IPython.display import HTML"
   ]
  },
  {
   "cell_type": "code",
   "execution_count": 4,
   "metadata": {
    "collapsed": false
   },
   "outputs": [],
   "source": [
    "#Basic initial condition parameters\n",
    "#defining grid size, time steps, CFL condition, etc...\n",
    "nx = 100\n",
    "nt = 30\n",
    "dx = 4.0/nx\n",
    "\n",
    "rho_in = 5.\n",
    "rho_max = 10.\n",
    "\n",
    "V_max = 1.\n",
    "\n",
    "# x_i now is the center of the i-th cell\n",
    "x = numpy.linspace(0+0.5*dx, 4-0.5*dx, nx)\n",
    "\n",
    "\n",
    "rho = rho_red_light(nx, rho_max, rho_in)"
   ]
  },
  {
   "cell_type": "code",
   "execution_count": 5,
   "metadata": {
    "collapsed": false
   },
   "outputs": [],
   "source": [
    "def animate(data):\n",
    "    x = numpy.linspace(0+0.5*dx, 4-0.5*dx, nx)\n",
    "    y = data\n",
    "    line.set_data(x,y)\n",
    "    return line,"
   ]
  },
  {
   "cell_type": "markdown",
   "metadata": {},
   "source": [
    "The cells above are code that you are already familiar with from lesson 2.  Below is a new function for applying Godunov's method with Lax-Friedrichs fluxes. Study it carefully."
   ]
  },
  {
   "cell_type": "code",
   "execution_count": 6,
   "metadata": {
    "collapsed": false
   },
   "outputs": [],
   "source": [
    "def godunov(rho, nt, dt, dx, rho_max, V_max):\n",
    "    \"\"\" Computes the solution with the Godunov scheme using the Lax-Friedrichs flux.\n",
    "    \n",
    "    Parameters\n",
    "    ----------\n",
    "    rho    : array of floats\n",
    "            Density at current time-step\n",
    "    nt     : int\n",
    "            Number of time steps\n",
    "    dt     : float\n",
    "            Time-step size\n",
    "    dx     : float\n",
    "            Mesh spacing\n",
    "    rho_max: float\n",
    "            Maximum allowed car density\n",
    "    V_max  : float\n",
    "            Speed limit\n",
    "    \n",
    "    Returns\n",
    "    -------\n",
    "    rho_n : array of floats\n",
    "            Density after nt time steps at every point x\n",
    "    \"\"\"\n",
    "    \n",
    "    #initialize our results array with dimensions nt by nx\n",
    "    rho_n = numpy.zeros((nt,len(rho)))      \n",
    "    #copy the initial u array into each row of our new array\n",
    "    rho_n[:,:] = rho.copy()              \n",
    "    \n",
    "    #setup some temporary arrays\n",
    "    rho_plus = numpy.zeros_like(rho)\n",
    "    rho_minus = numpy.zeros_like(rho)\n",
    "    flux = numpy.zeros_like(rho)\n",
    "  \n",
    "    for t in range(1,nt):\n",
    "        \n",
    "        rho_plus[:-1] = rho[1:] # Can't do i+1/2 indices, so cell boundary\n",
    "        rho_minus = rho.copy() # arrays at index i are at location i+1/2\n",
    "        flux = 0.5 * (computeF(V_max, rho_max, rho_minus) + \n",
    "                      computeF(V_max, rho_max, rho_plus) + \n",
    "                      dx / dt * (rho_minus - rho_plus))\n",
    "        rho_n[t,1:-1] = rho[1:-1] + dt/dx*(flux[:-2]-flux[1:-1])\n",
    "        rho_n[t,0] = rho[0]\n",
    "        rho_n[t,-1] = rho[-1]\n",
    "        rho = rho_n[t].copy()\n",
    "        \n",
    "    return rho_n"
   ]
  },
  {
   "cell_type": "markdown",
   "metadata": {},
   "source": [
    "We can run using a CFL of $1$, to start with, but you should experiment with different values."
   ]
  },
  {
   "cell_type": "code",
   "execution_count": 7,
   "metadata": {
    "collapsed": false
   },
   "outputs": [],
   "source": [
    "sigma = 1.0\n",
    "dt = sigma*dx/V_max\n",
    "\n",
    "rho = rho_red_light(nx, rho_max, rho_in)      #make sure that u is set to our expected initial conditions\n",
    "rho_n = godunov(rho, nt, dt, dx, rho_max, V_max)"
   ]
  },
  {
   "cell_type": "code",
   "execution_count": 8,
   "metadata": {
    "collapsed": false
   },
   "outputs": [
    {
     "data": {
      "image/png": "[encoded data removed]",
      "text/plain": [
       "<matplotlib.figure.Figure at 0x10a63e828>"
      ]
     },
     "metadata": {},
     "output_type": "display_data"
    }
   ],
   "source": [
    "fig = pyplot.figure();\n",
    "ax = pyplot.axes(xlim=(0,4),ylim=(4.5,11),xlabel=('Distance'),ylabel=('Traffic density'));\n",
    "line, = ax.plot([],[],color='#003366', lw=2);"
   ]
  },
  {
   "cell_type": "code",
   "execution_count": 9,
   "metadata": {
    "collapsed": false
   },
   "outputs": [
    {
     "data": {
      "text/html": [
       "<video width=\"432.0\" height=\"288.0\" controls autoplay loop>\n",
       "  <source type=\"video/mp4\" src=\"data:video/mp4;base64,AAAAHGZ0eXBNNFYgAAACAGlzb21pc28yYXZjMQAAAAhmcmVlAAAuBG1kYXQAAAKgBgX//5zcRem9\n",
       "5tlIt5Ys2CDZI+7veDI2NCAtIGNvcmUgMTM4IC0gSC4yNjQvTVBFRy00IEFWQyBjb2RlYyAtIENv\n",
       "cHlsZWZ0IDIwMDMtMjAxMyAtIGh0dHA6Ly93d3cudmlkZW9sYW4ub3JnL3gyNjQuaHRtbCAtIG9w\n",
       "dGlvbnM6IGNhYmFjPTEgcmVmPTMgZGVibG9jaz0xOjA6MCBhbmFseXNlPTB4MzoweDExMyBtZT1o\n",
       "ZXggc3VibWU9NyBwc3k9MSBwc3lfcmQ9MS4wMDowLjAwIG1peGVkX3JlZj0xIG1lX3JhbmdlPTE2\n",
       "IGNocm9tYV9tZT0xIHRyZWxsaXM9MSA4eDhkY3Q9MSBjcW09MCBkZWFkem9uZT0yMSwxMSBmYXN0\n",
       "X3Bza2lwPTEgY2hyb21hX3FwX29mZnNldD0tMiB0aHJlYWRzPTYgbG9va2FoZWFkX3RocmVhZHM9\n",
       "MSBzbGljZWRfdGhyZWFkcz0wIG5yPTAgZGVjaW1hdGU9MSBpbnRlcmxhY2VkPTAgYmx1cmF5X2Nv\n",
       "bXBhdD0wIGNvbnN0cmFpbmVkX2ludHJhPTAgYmZyYW1lcz0zIGJfcHlyYW1pZD0yIGJfYWRhcHQ9\n",
       "MSBiX2JpYXM9MCBkaXJlY3Q9MSB3ZWlnaHRiPTEgb3Blbl9nb3A9MCB3ZWlnaHRwPTIga2V5aW50\n",
       "PTI1MCBrZXlpbnRfbWluPTIwIHNjZW5lY3V0PTQwIGludHJhX3JlZnJlc2g9MCByY19sb29rYWhl\n",
       "YWQ9NDAgcmM9Y3JmIG1idHJlZT0xIGNyZj0yMy4wIHFjb21wPTAuNjAgcXBtaW49MCBxcG1heD02\n",
       "OSBxcHN0ZXA9NCBpcF9yYXRpbz0xLjQwIGFxPTE6MS4wMACAAAAS9GWIhAA7//73Tr8Cm0WXagOS\n",
       "Vwr2yqQmWblSawHypgAAAwAAEbCGDnEx+iP1AEZdnyM0qMcSDE7/xzK0BfgkyhTJaPREIngP9qMr\n",
       "53YmX2zl393cTAi7AHAc5A/PjKDCQEqSwrngU4pH5MFCdmEDYRwqWE9TVgQuhpSTUTCIvrT7e7aJ\n",
       "+tZfXzEcqa4ubXpcPaVfFcWwzSQ6qhXFOYxBLihonm1mQspG7SBUOh1iUuTUFu5h4nEjNhFR0Dbr\n",
       "CdZ3QIri3/5+QE59PQz87C5+a698qSDEj5t5P1voDfy5a+QeucpOuaIWEm+E44Q7N2kVq14Pk8UM\n",
       "HPT7oi5EZIuyHYRKZbTGF3bWrqgaf3mD0EM+2UfKPIvIr7AAoFNurva9wuJfR+Z3bOWuuqqlEw/E\n",
       "yEj8dGIVA6EC/BWscs2bqZYBS4jbS9hr6kcG4F2slNypd43agFZVCpGORFAMcM68qcVOCs8ElhvD\n",
       "+BM24kjO1bo4Eaxkfo62sHNM3Qxe01lTEpjvKALhs+QiSWjMN8UPOj2E8OrbwUlM5xQTYVBszLr+\n",
       "JdZNOaFvL8R5jGZ6wjrdG6RltoKq5I8nu3IXfLMvCmxBZ4znJcRj8ceRNAZLsp2psJjGOGty8qQh\n",
       "y4XQpjNzp1oiooKw2K0QYXnIvXdNNPLiTl50rGuP5rYC2XxbMLP1P8+pn6WrTU42Yycj37WbhCc4\n",
       "hnfjxELGcuABnQ1GDMbyw394j1oV4vdQTxPdRQW1AvOnGaXZOwG5UuoBexwi+leym4M3mDCn5shX\n",
       "zHsh5e7eIw/BIpO+wMcwEMN6zHEyMbX+CDfszAAViirWIELUcp+qvB6P6A3z+D3AY2f9pKktQcOF\n",
       "hU9TSn0xKzOu1FTh2/I6TGJhsUPvcbDEAW5fi4K+Ke7HCMB6OKPY0plF28FiLpRRQnF35z/LtPPK\n",
       "RDbHdjQNxuOWTQxNpEIF1zv5jSzGFgYdkIPKmbCQQ942KFoCo4Zy/b08xdfb1dQOreaEsKurgjpx\n",
       "/lzHIL0yavkuHl4QWskUp8+b3KbgtEToHcp1q2MTAycAZyM8qN41NaPz24bLJ/3xFp+B+CQGdBT3\n",
       "Q6S8ZSK1/TMerQQGVTfQi5lD7w0G0nADvhdEhINpvHaBQaAd42oy5cK0Xhivg4LiLaNGFmvC27QK\n",
       "tJNlPhuzR3ALck35yLwWNi009cCv4pJflxTK4BR6LGHdX9E3qy/IL9Heqezk54KN3zW+E5vBjQO1\n",
       "wGQ3asI5omTeAHmanw4JUArGi/UKgi9KMKj8s7DaSVNb0RneSLVTPOjHcjlD26SSyIoOvSUOuO5J\n",
       "YU9KeJDz2DKlTsUOnLASdvkm6lGd4rBsuUxQRg9u5vXeGMYHA4kOU2yyoLBTaiLYytgMzU/Lk4Ey\n",
       "VFR1ELuYceUb7w+E3aG3cXxwchbvz/Vvdf4j+9X0UxX7s0+6Yx6Hk8xRktwYW0gt0MLMR+QA30az\n",
       "jbaf4LB0+XAldsyiyA+ZZhRp9wDbZky2ObaUx5uiyDVxTxxn9P5YSy89/WCUOBtaC1bcvuwNWp0G\n",
       "x2eqf9BJ/fWlSfJJSeCTZSnkoSlu50V1Sx7vSI5KT/rJOGxR7EzHl9wa+QWyuzUH8xWLnzYJINel\n",
       "GlKgKIh/rgMVFs01yW2PQnx0Ek6X6M52c4l/ddRJlhmquc1w9jGTpiUVXdU4lxogczcgDqQDVLJl\n",
       "6O3EMcJbhITfkCBuyJOqY03oZCz9XV4jdm6627ebsoOfHHwkB+U9Yb8cCUkBYcn82Cqs+sUuTvSf\n",
       "8tB6dYHY2+m84bYVc3oIgAfpv3Vc0b6XPGn3fJtkHjh+T0MWf9yq/9/tRpF+xasK/jLuRtwEoixD\n",
       "iUFoXhHR1fTS/+W+tw66P0EtZTpSTebphKFLoGsk8/mubRhgtf3ycSzmqfHH29BM/056c7oG2/G/\n",
       "RcTd4BBnOTKur9rz7j5tTVj05NT//k94vBBeVejvufeIoYV6KGiDQOv3+OoAJMlxZC95t16DTgVm\n",
       "3oXZpqooNC1JE/Xm+b0l6A2d8bI0QawiJQIMFexpVnECXZ6N36i0CoI33pdbb5FS8wBk9VUdJL/T\n",
       "vfNs40Bqm276OG4BudNwu/FFslAqxbP6+xkyjO2Q5BU0yLcpIYFPDk6vT9oWljvauZw5wNmL75XH\n",
       "/8jGeCESVddCDB0VN7gz72ObTQ6X25ZWq1DImetRzVqe/RfsKgzMVU2PmzWvoFyyuaKywgEjkV33\n",
       "EvtsZJ91LEsXoYZidq+N8HCtyCvjVDUMj7bJwus9EaKKSAtqqXqw0jeSWWNHW7R1+PBORRTPCIOZ\n",
       "e2Hj7yWIf1+WgX2y20JgEVOvIiSz/vgHebit4AumzLXAuBWcCadM6/8eqsrnHA8tmj61JQxZOL+y\n",
       "whXiM/5cGxo/wQeyYZj8uRCDPtGyZj0BdB+bq1n78YbroC6UpLaexGD0Fv1ITvJE/21HNu9nq7qZ\n",
       "/+M05Ac42Sv0qp8gWmmn2q6cwnREMUKFcwwfFTt7qkn0oKw9UIQ3pXfkOuPKFVUzXx1fK3ppqqhR\n",
       "KvUDxAtI9rjP7/RPBeTjzy/0jZS/vlCak8eUONYoRdBZ5azU8EtkMPpBWUBCkXyQ81U0JvlmUBex\n",
       "hkJywP0sw1gI9MVPlJK9VZD8LQI1X3h5W8+duImnAw3HpQL6fGOA+BJAf1w29qUCciME6s3WG5AC\n",
       "Nmy1rt4GN8SkKshL1DOUkTGP/n9KES6c3VsCrpGKodAsUa9NpKdxFbN1JQBWQPbsUClRAMXisdmu\n",
       "yvrJu53nyw9kLDEafiV1Z10ddcVvE8tq5X0nZd99SebiEkAVzvJYyr5PtQtXKCaibeps3E+dk+sw\n",
       "PD1/389aWdi5IFankis1pu5nKUj3ulybVgsOVCDOmvyM4Tl3/SJpzrtky52M9B5fHBF7JUEv+l/L\n",
       "IL6sRxy4WFb2cuTqdGDCLLMFQxYKqnfKoveuqRbZf8TbcT+NPZPbfztJTi8lNNhUn0M7FpaEcISX\n",
       "pCX3XlXldI/07/RetZpmwg2cPyaJqWnahOfTxn8JWQkOAE40QndJWL8ciCqlVQKA0B4Kb172FWBa\n",
       "VnhnmSrwV2r80k326hEAFZ1uDEPa5FtNAq7mff/vungC55Bd3AH6qOcGS4vYoA0Mmpxsx/4z6OX0\n",
       "oQ9uAdHoCQ3XAMyaqal874Reeh4+kDt1Jf8un2YdnZ2JL/toYaHjvnlh7TpG3QT+itgv0/LqtDVo\n",
       "TotfOaCiapjHgK8tSny2X1+XV0qhC7IQnPPsU8q4vk5Sjgaf7xt5UkVcTwabFQF9EdwKS88BK3rD\n",
       "lYInEFRbHz+E4wLP/n0XbWoPVlGCp1EMCCjS5H42ogrutUENGfsqTdua5P5z8p+benYmbM34rlgp\n",
       "P9RgWzZJdD6l3/TuYUVH59jrIut1D1gZmM9e7AOGsmuh2vZNhHuib2C+RdMECPg0a4dKUtyXvlPW\n",
       "+aRge6jc/85XJJ9bwS5+tzHfBWGFiuV/H1vfFIVxX9N9jFz+vKGSru+KAPvrm37n+RKtrVb8Xo8X\n",
       "EEBHlGXGZGAschM6d3fezDZSzYuy5ab8O5Fe/O40SQ2hvTaM7y9AA84H1rFIszeZCtpFSaF28zly\n",
       "Co+s7JRMSFZ8Sp16TmKXtuq7CGBDJnGf1CGpgWcJ2AmvtNizijSH/vBQuuXReuXs4+Vk15cZ6/nz\n",
       "vIdh+afUH6UZPFTb65MZFVUczAh5BcZGQtlpW3y0miABl2bIyBqu2tpI433AVX8lhkiuOBNgA7BC\n",
       "X7b17jXZ5l/8uahtW/8IxpJr74eV9fK0FXZmKiZWXxskX5iE5ILMJqXtsDb82LTWfDYpyPYdoFyO\n",
       "vbMj2h6Teio1eVLu3Oy3v64xKGdQaIL4UoK3/FBpyv9UCkzIM0cxh8oeYTlM3GJ2se9uV+NZk8t0\n",
       "UFA08/Og85ztHz0hWAFqeRaPDAjygwZKxdWt/5MYqTKRtMhKuhAhkWqyL/Tt1Z/G5qtSX0jZ997U\n",
       "oVInuHs3moUtDj/4gMotHt+sxDeEbnHcOI1b0esBnTXldfZXsmlh+QFTm1dVhflRfJ3oVPk68KKW\n",
       "ivYreOYgg0ZOsjXasjiYH1qFSvRoPqkBpWrQ+FUiRK1ENXxPKz3Mi5Nv9G/7dGMlOy0yf40W9foi\n",
       "ht89Ky8S6VVVFVkwkmx47qPSLO62s3FuVePQxOiUpnbRDzzfqTae5zux3v4XXNyMDAtbGASknzdm\n",
       "0OioJmxE4HP/gmBBiqpdOsNnoK/DLgZSKUNmZdBZAozTWhWHSbZl8PYmsdn75O9rMyv4t3eSjhJe\n",
       "WJUh5BXE8AYjVqaG8aO4BQLWv3SzyFT5Y0g3HiYiIoDXOzHWDEIEMLPptI2YkTer9JT1jEt3sOYK\n",
       "qK8pCga+8IUe00ZYMR9zdH3sg9/eE5in1jEuROylx3ELop/fd8uAanGXQ5/uW7d3epePx/8IZmTl\n",
       "BwqiK29dIP0bbrfEEQrniqD8FwUSzIGT9fxrZcF/9/boHSn8BFICDXFWblfOEWzK4fmKmytQpXT6\n",
       "6UrkCObm5aC9fuygI8ZVMqEVF1EH6Oa0AOS8jAfKv7vBaNtdpwA34kAcsiP/TlrbQMpePiWw9U3y\n",
       "tWeuhs44AnLkebMqic+ga3LoxkzztDnc6J6xlB/lNU3hKvrgrra5C29joy3GMb2+lAwNNsFy/L/f\n",
       "aXdwfG9zS2DiwYuJwr6P1Lq+nrxO18//1Gp3zNqzLMAvP9jkuAeh+812xlCoP9ljLXDKTMxH7UFx\n",
       "qRt3vhxmDyr3cOWANMiU6i70swj76Kv9oFeKwvY+2qTWFnXXHgEqSjdPHBA6m6O20ov4S8nV2xsK\n",
       "ncxpgj30K0iwEuX8YqzOnsRsHbFnKjy6WJAUoP0JbjBRKnzs5sHiCsGIauZ/BdXqg2j9T/Jc75x1\n",
       "+7OLpaFU4ZCk73Nh0cWTB/9pF+/CiFPxXsXS9afncgYz5kCIqByRGvj6KcenHkjLIco6vIS/qNMk\n",
       "N6dQvQGrgqvq4X/1gkHEgycqhxskoUiSBhIkQooG8DOEIqAbOzErczIZ+ckMNYgTBb7eTHCzXmBM\n",
       "6pb+8uPZ5znkZfXUJLvCX6X4gJxAPztJ+XEaOArIrhZ+znlaSYK7wOM6bqnLkZXWqSLvNo6I1cmN\n",
       "HE4nVr8kSTdiEK1kHb/gKDCfZtN/tEEZZ/i4OL9YZ9SsbVFTuJ2BbIj/wWg6Sm5EWorm3CAw+KIL\n",
       "HBm5IYq7W4POerRl+2xCs/G+H5arB187GtFhuDnX25esfVY/QA1oGuugW1EQzdorqLfMJnXUcvqv\n",
       "5gMsepvBMVagK3shR07/8iNKqcStKb8fJgyL/STttE2k444CrCY1pTbP2lDI3qOQVwIY+NHdOmHz\n",
       "W/c2ywdZVT87s170hlokZTJQGHYgsozZp3ttludR22oig+oWzaAK3X5ynJzvyRAAp3VxylT1SGqK\n",
       "Vuo/1eKipjvFb2fhx+bsCInk2ROYtmMkK1sx6XftY/XVRunUCH9I/6+HLOhnjnenRYwjkwwUUcYW\n",
       "/CR45jIEoGWzfR7f+waYw//RwBTn+0+NWwIGxpLFzY6JyodC0926WTagv5VvmIQOPMwLkih47HDA\n",
       "707elnMtInFJPpWTRXYFdZYr6FlV8B9Rv68w71p+nhSX/3XAkiBrqZGy2IF4RNgShqNGp7IbsGC4\n",
       "qcRlyykEWwXTOP80bQr28XOScfTpb6rskmNV/beVO84lf+9cfQgeU50ZvOu2hpckalX2qLPZ628Z\n",
       "dTOL8CsMUekcfiAvaZ8Kw9qDopD517pqvSdRl/opJuNwXRx7KfZKmMjsSQpySPpsoyGrIeLfgF+B\n",
       "v12IfKUoCWAQow/+szx1FKoMtZYg9ocNvsP/DxoS6NCktzyLLoZIhDV8yvQj49mgrltrGO8szfiZ\n",
       "tAHaJQi/hvoAn9W/etnEjmWYQxEk9t6RcCvt3KKApSvFgJXGZM6y7TvdPwT7quadlhgze9Kt6QS6\n",
       "xH5sJ+hj5BE+lDAAOV+gKIIIVSik08GyGwYOXpLSxOHYPPyPSD/nQuiByx/zLZK6OXCT88k0Dohf\n",
       "MygMxzkJts1cAucOM4FPtDiP49sI6vZ+DsdUPJyvTPDihrAOa1D3XcA8pcG0GRQLzyfyMLNWY+s1\n",
       "iCtC8lItT0lth9yV/A+aAmrfbmeeu0zwlNkE/L7SiXc+EyFErwPS1AzP4uxQrCDVmvQVYB4+VOnJ\n",
       "fju2oWGG/giQc5N1ZQK+Ncv3sdYtV7y+ERR2koyIj9oT38rlfsYCZRQcUGZvWumHCGtiP5jY3wRL\n",
       "onL38W/etCcjmSmsZpPf5YtkmFWTAJnJroGVTxov5gkE0jRFFNZcHvdKfT0TsDobULVYMmZt0+UG\n",
       "d5UOjP4gY+ua4nT5OhoepKBrNR2UkpZDeFPz3KVsiH6/TADalO+ELhQdaahU+0P+L/tO3YN8SrVq\n",
       "Ky571H7xzyoyI+6CSbZYTGmDHFtAsv3fS94Jndk5EHzxiseCRnWxGY/ooRZX24EAAAI+QZohbEP/\n",
       "/qmWEwKZ8AX+7Ha4IsEzAGS88hIMeyfcJQj3t89xOlLmn/hqGD/BLB4jqELoL6mEoIohWyrEja8x\n",
       "eoSKlQj7tgyUBRsOT+Z01snvU/3OkbuiAeIHjH6Jj7oEB/125LqXLGkI/q6ivPDKeV9x9lzZC1SN\n",
       "Brpa/x3B5g5FXLUmN+q83TFcfYBbIp4wT6NDIKsrKDrApPQ2BBYFsqHjqOxYh3v+oGz4tqlE7Hmc\n",
       "KQ64mmG8H81XY5zs8qrq6tgm1RNDGVqX8cIXISRKT19O2uyAA9YD9pvV0r798DluFiIdTN7pVYQ+\n",
       "U4b1Ac4fehUTIYaAGT60WphuWmigblrXAPrlBsE8JXVFRmD4wJgpfDg/W+PFLmlnvoI/SGLtGU5w\n",
       "lBfylofa0hHEgRbUI8MNk03T/euK9cCEX4K/YdxKZvb7PUnLSw2mu6E6erW+nbus1L0GqqQtwq+6\n",
       "Dk4FxiMSOYsYURIZAKRNUXZcpNvvUaMNTAfXIGewxc//9jKgo+UBMnBrenPNGwfeOQuw1rVVoIMe\n",
       "j0jpxZDdjHG/Oie51BGk7Ehbwfu1SYmrsCrLOs+adVp2dvKg13Gji5t/zN8j0KEKZjazBdONPKbR\n",
       "SVVwkWqsMdwGecGRiPJbWMXEdjQ/GqjEC1pcuxRInEL0Z9jU4i5yIfMnw0RX/DtLNyYJYkT6Qete\n",
       "4kCKGYShE7CLUWOfP0BzM6WPv9UmjYrFH/p7OOFvKzp4sJeO4HT58sS9zUlNGHIiJnRR+cHxgAAA\n",
       "AWhBmkU8IZMphD///qmWAEwPllyJXeIWxE066kg9R/gAD+akLMIluvMjJTiBjEeMvn3Eq7QFuLX+\n",
       "1fhFlor8thnu3UcvK62HT+2IfdVWvgm3r9UpGyinjo/XB5X0cIB1WBzs15HkktLe4WnhRPvgSG55\n",
       "VnlMzenXzolE4rD+SDQ0PpexIsmVcCiczrMnRnqxkalBAK65e5XckbXGgeZVgDUqgpUs7qVvSmta\n",
       "kKPBstPeGknGEcLBAq6B4tTKpfA89fVK9tDh0eU5ensIr6w0zvyHTM4+esEAUGMot/QM1cWkpMzb\n",
       "KKwEiApdwJAKKr5HuDati1yN5O3S5NQGDUT3YTsXUiHnBh/fCwayrdAyVFejWV65Q81qM8VcUAnK\n",
       "YS6NXntj9lrS3iMFSorZgScRdsaAeXtXfOBI6V8TpJ9eIhbhV67iIL6aCA4pPKH5lcjAaKaGb7nb\n",
       "OgKq2B0h6l93K0wdMM+tkqlAA3cAAADqQZ5jalPDPwBBbiAextTWSACceI29r4EGc6YIkkQqsgRm\n",
       "f9GvnOcSK9quEd1YtlKYr4RnSgk4c/jR8cGRewJ7IrrGa19T7/WQedDJeAzlbFlLsKtwZg279DV1\n",
       "l3K5ygrWUUTFRaac2RAw/BQHE2SSS9YgDrZBKHnvi25wLtmEE7ljSWQXFY9999yBXM5aQnmWHkST\n",
       "dCLJ0/oCMeG9hjEu6Bxqqn8e6F7SZwMSVrER8tBKAYkuPToWiE0NH3SaFaFZSECh15WYooBux9f2\n",
       "mZ0Ybv8TlvvKVYa7007Qm5ZSDylBoqvz1dpn2qyAAAAAvQGegnRCvwB5oaFmPNAAuoEMH36f5bDh\n",
       "XxJKeVBCQM3+h1mo+hHnqz9crmzpgnJdswXir0OckhNTKu6ww6dPBVhIH1qckTkLbTDxoNNtkx8O\n",
       "evZQoqwlrc/EqBlkk4rUbOfVul0Uj8/8FqYNCInfGNUewK2hrn9Rcyj3BL4cpuh4b/3dcUsZHgzm\n",
       "m4mO/cPgCbG0vdVeYn2gYYk4ZNyOYyxTVDQWNW7rorNlOu6wbHyifVftY5eQJqTxolS3ywAAALAB\n",
       "noRqQr8Aeau1Stp7sqUpiMnACTEuak0lr5mtvU8pTtrWxcQ4D2OWRWz4zGQ4Yxv/Y8sLe37ox6iF\n",
       "h1eLvzLxi6NGcgSKt0wMDmV/J2qfcdhzAEjVcgljRxuzmzjEsN1jJND3Ij0Ul2LFj/WjKdrKcyzC\n",
       "fvwwE39h/pC3t8IQHFtSIz5cYE/9mHrFaTrEljbN6QvvCyjMk18iDfEzw/tngkPzBpkt6p4DzBgl\n",
       "uTMFmQAAAPlBmolJqEFomUwIf//+qZYATCfkPtoAWBA2fqYLS8wwrPRLraIXv2bEXqvzbnQR3Vub\n",
       "jGA2JuDy/qicW0LHTdFaDzSacqLJxO465ERy9EtNAR72f35j7b7pE3KlfJDp1XTOzgzVFxu7h5o1\n",
       "/oJQq6QaA5+ilWssTwy+/LWaoJYTnwFQYMKPp9qDACxPgCtR4FZY51nwLSSufQMOgTvMwfAP35/N\n",
       "atxgLiK9SW5+tEr1zH86p7t3HKnSczmPZK3LeRBfGPr1n4pWlFIA6viD0exjjZrnjc7MNw9nh9pU\n",
       "euqzdUA9/QGy+/Xkh784QCcQ/WEeeXLzEIeWEdkAAADKQZ6nRREsM/8AQWC3pABErQX9OTamFA+G\n",
       "LmIitUTi3YrOu9zTArcNJ1tBWiKGG0vS374K85C69Ut+5fZgvQ8hGdtRBf0vf6XfgBbx1iR2EmY0\n",
       "BetRQElGy8ohj1OUwOmwQ3ZQeCru5ulB+yqHwiXZJmpM4P/1XsuyGj/KWyw3BJVewgQRmjk4MkDl\n",
       "cI4nLI3+pHbylZncMViQ+YW0GpxGohoP0CMuUP6Z4etHPMJ8jd6/h+OZ0YbHmgrSjOxQfT+4+e/G\n",
       "bTsXy2QLpwAAAMMBnsZ0Qr8AeFRvFZTEEGPYBU7uOgBOOoCLdgrcVw48wCP1oYsWreiik+QIDp0/\n",
       "mL1s0dyuGWJs380EWeHiQDA0Q2XuVVMRkcIAE5zYRVX+nfcvKhTdXuWkJJ5ewTIfbLSsxw3+hhj0\n",
       "c2VYHbn4jp7GK2k61qW5idmS1X/L2dP2ogqJ2LO6uJ79Ibm1QMgUJOvkvHb5N1cl/P1WTPhO7RU5\n",
       "9oA6JHr2SERrKYy7orottyIbGrYfZNN5tQ+YVgMgIpULGogAAADHAZ7IakK/AHmVOH9rGgATqyan\n",
       "MzryNa/Y3WFqQrjHANEwMlMa+globFAXbdJABq1ilVFS4jYROcybViqeau9VyaKwUX61xr5/naKv\n",
       "goL/p9brswgJuT1vB89HMynm76x38qhrkX4dos/UAD932T4sz5FzgA9e/fVDfD7PpPIm0VTJ3ptr\n",
       "fpp08wZlOFx4OuR9Ky05QK0+AJe6UziYVuHu1aWGHCdXRrYQTbPP5KUCeBTWAmRkuVDa2nSxOLFS\n",
       "t73L70f3+vzKigAAANBBms1JqEFsmUwIf//+qZYATAxVZJWkX+zDzQAagzMGQ9NplY9YFWaO3h/8\n",
       "ttpV4ENkpbBRbOwxirNJGER/P+BubrnmYoD25J+AnxUL6X+/ImagGGn/+y6OLtMBURFEkB1UdkAZ\n",
       "8uRYcSriZ1rmPusN/iLXtKWhOWXyL7S+e5MLz5xZ8Ao0sLLp0saVwW4PUwfzzUkFYTkHT69sUdWC\n",
       "FP3Go1JS/6iolFFlAQ16Lt2Yj3VKRSThnwgoCxZ6cOcX+NRrMVJeD+eoBJ319BAL6u5pAAAAvkGe\n",
       "60UVLDP/AEFIKRpwALnDxlbWhowRRW386ak0Tix5Qn4E5jdww5l051PJ4QrbOFZR9QHpM7Xwc2xf\n",
       "ilzvh7kBfC83rkUVj0vbm1oD7q6Pc1s4tz9F4qZk6OpkMQeobJl8ceRwB/eexHdOnlSaWefB7j+7\n",
       "zLNNHrXYFo1BoM7Pb0F1jin4BSIJZRljU+Vj8ZsR9kkfNB26CGULZ5Pm5BrxpevHaQsymdECJy33\n",
       "lKsMGZ5/ew/E8Ix3Oqxghr4AAADFAZ8KdEK/AHlzKZodrIsALQkEUWfW4PwAfzOzZ/ljFrDf8Ur/\n",
       "rKp2OO4/+jMr7H3m0eWaIv8khdQo3kxxbvp7q9Ofdxt3n6I5QfoSKf1s5pChflPgugpOyRTGsudJ\n",
       "HCj3zzExROHuSL7Tr/bBtStQ246PAntQN/geY4h0RnRgvNXDdBUM1JYqPjmzcAvCndRwVS27xbfx\n",
       "YIOPpO7W0t4+VRwT1Wh3RwBrT5dOjvVtsJjRj1PG6ntG5P8zWRBSA3CmQ3LctMAAAADUAZ8MakK/\n",
       "AHk+DiG06IAW3E42ZSC0gm+AewtX7rDSTrGb5lb/fANdPBt8F8ueu7bni5k+/fF1X8qgL1xlZ9Gp\n",
       "ftWps+QUB7le8CdLyDE+3ASvWWZInP7PxtqczfZtYx22m69u/TstdHp6/r1rzH6r/rZonMEKFX1V\n",
       "tiaYNRwgocjrCbAWLYjMX85B04xYTpjHtLNQ3xlUhyz0CU2I+yEM7kDQbMZ6w6hI3l3Y+OKsamXG\n",
       "9vLEhN/yaKnR3q22Exox6njdT7j8LcoEA+sY18sOYiWtVLMAAADQQZsRSahBbJlMCHf//qmWAE4N\n",
       "ovw0rjVaMiPlfcKil166DSSADXEWlcCnE+En3LUtDkGh4JFq7iY/bn5CDGP0yBfJ0SDE3t7oUpVc\n",
       "haVcJPHqf3wwOpWe+xuOpkEomCEfS2F60wqk2Lcb/Ohww9U32/XwAuBwZcJXZk0+/dkgnkiJDWR4\n",
       "FtdtvGDDo0iVof7Hn1nAXmLrtCnRKWNu3TdWxD/HOjaSk87av41iarRvn7xfaLo6eZ3UIPg0OI1H\n",
       "y7E8fwy4hlNQwZQxbyZUJz+RgQAAALtBny9FFSwz/wBDbiIC0xObG/69N/JgAJYP6OH/oekXsVXc\n",
       "s/OfSKnLFfs3igJfVslsHm/9wbFp5/ilmy8rU/AoD0134OVh758uq/fIkh0QtKMioPASVcQ2rTav\n",
       "siA2RcjFxa6E7+8lv8KK87vW8EMELMTSa6gf32OQ2AOWE1ca3i2E676bDtoWTJck0Phn5pS7t66p\n",
       "aVS5sOiM2znpNegH45nRhseaCtKM7FJtz4ofQo7d/0KrNt7xm33pAAAAyQGfTnRCvwB5cymaGfBd\n",
       "butVNgmp6Fv5AAAt9rjfnC27qSCA+BYCkvp0Y1DGTaBASOKBbl7Rm3arrmTGYthOCG6eoawBmFhC\n",
       "VFy3JxTIeq0Thk7J1ls62RfrWAz0ECLPICRgbX6VUsqTpeaOvvdGKJkrYCy9wUv0ZTBKkYE+Hk8C\n",
       "Cn1DCfz7Mp8Ta/MkXSzdduMTMDZk9NktAcnECZB4JJ6guPnkPEtTd3vGv6kSb9fnA1GPU8bqfYEG\n",
       "1uT3n9+eI8faHBQ6V+sAEAAAAMcBn1BqQr8AfFU4f2saABOrxx6Ji4Sk6AkW7aJf9ip2FFtdfaJy\n",
       "t3IHjFObe2y02fO1p1dxFF7DCsh072XptdYP8LNdgrphDGIdDLmz2/8lFy4YCHgvHFciBo+enxIH\n",
       "yiv+QylxbqrxRQ6o0sV9hraq5AGQrP+ZsO96RwMUJKaY/ldl49qe26RQcPLYpTqsueGcmHl5wQ9q\n",
       "b5mlLyGjNEYeVy5EJuzmXp1ibDbjgxf7dmtBnLCZZTN4ofrl9tF2wqvMd5fpgOrAAAAArkGbVUmo\n",
       "QWyZTAh3//6plgBOJ+XKYwsoF+sw4ABEGSM1RM5oEzDQj7VD2KFcyiegLRki7+fKoSKUhv0DXaTH\n",
       "odr5EjwjMaKQ/ULAyETg6sYtPsf//feVBltFDmQc2ardSgElUQt2tP2talyxHyMygPCDSWvpGWWA\n",
       "akOh/iNp/XP6lb5cizoTnuXvDc0GfM/CXONX3p/oM0jb8hX/cQrRMIgzuzht+aBlvsDfp08+gQAA\n",
       "ALBBn3NFFSwz/wBDdTiNjZq2Glj8ERaAD8Tgid9XvCKMsQ1TViTJYGMbEwmaVZ+gnSyCM5kRXF39\n",
       "tlZdfsR4llaOIjBXeuX1Oz+FC3YNkCNsrFlkqRY5Jr9yy++bO2qO8DzICNoMvTxuGjPxIGTfe67k\n",
       "gzsK/Ri7OQ/FdDulco4AC3gVAG/1lwlnFcuDRyRxWuT7sdUknN+SFmUzmWaCtKM7FKABzRQ13arW\n",
       "vSp3g3B1qAAAAMkBn5J0Qr8AfDMpP/sqfuWuSeF+gBNXl2cddlrefW2GJBpm+xfKrM4+eAFK4JUa\n",
       "Q9riG8+K8hVyyUPYrTBIfCEI8eynDQLJJdqTRnbhYyR3nNGsVkXwek/CKnqJLDxkcfyCcpSIFzcm\n",
       "LA4KvZ6cvv4wB4yQVMM9oH/Lj6y0ZS1wKDMMWMx7q7Q175qTWcyxtp8/ciT/id+FHa1+Ifqil3N5\n",
       "boRgf6ZhdMT5CKajR7vr+Uyb3Z1IAuAcXvUGyb9yNxRqluUe7TD+t14AAADUAZ+UakK/AHrU7Bxt\n",
       "iAFuFvdd+amcFEmGiMNuzWdtWMz31W9vDwWKpArmbJqRxfGlhs0oTg7GZlfj0YMBzvYZ1Vz6ofbI\n",
       "HTUDUBgvOdukEKoImlg6NkqGgC0mjenO5WXtJCLKl2PcjsW34rXKfIXZvB3UvJratEHn7w4mUAin\n",
       "DaiuasyaTRp4h4h0tiIQa7FFsmmhzIPnctv567k2h2Cpy6S9n/QCQ+i4STWSPfJSc2WM1noM1v0u\n",
       "dX/eEgkLCOyt6Q4rxCXa9MNbWfwYORZF1AhwxYEAAACvQZuZSahBbJlMCG///qeEAJqPLMb0ui9g\n",
       "BL/j2woLAkDuGOpoRIeqHwqbvVMeHMhHSlqNriI282I8oIIbyXkgogS6VnbrQuoXFeg9WzTS6bxO\n",
       "ZOb/7WC0YMllELdsBc4/EY8AbkdLKim1B/qBqeOcw3Tkitw4QVEmE5OQs/MH6QDJ+1Od9wNDUThp\n",
       "dbKDzTF08ScaD7idXkscAA0zx81qD1RtOAAhiUezqrejmwU5gAAAAK5Bn7dFFSwz/wBDdTfbWM47\n",
       "ChrhgADqtCnUMns07QDps7DdvLycBF1oU5fu8XY7MAaIpYKaar2R/CGVrCMFU66GCOKZ9iBnt0dZ\n",
       "0zU1VoxhsIhj6z829FqGCxNLvTEAI6AyOHWdJZBmYA7DvgnbRFSXFqOcHdImFFCnDZHGkKAS9oY9\n",
       "rVIoRZW1tnDarwnlqLf2N5+BLe0zOjDd/ict95SrAIpmMVVbpR8Z/wD+NN8AAACkAZ/WdEK/AHwN\n",
       "bYcrPqrOaycDFnfPqcAJiJ6vydnoqpugTSOKvMUYbZ2LlFaEz7bk9UcM955mmY2baPePXTYPgRaU\n",
       "0xawu9A8ise+2rKeUbG0NR569tCQXQrzrq2fAV4BnPML++VJlceDJfhHJIKk+B8nk/gEdiSZDSKa\n",
       "szqRDzH5G2lSyizkW8lpsxU11pgi2eWFDR/1Boiyf2YgTJe5WVxjdKEAAADHAZ/YakK/AHv+DiMx\n",
       "rACZsC5LRV8IohoRRsKYK0H6IrKn21PC3YLMaIxlwSilZAVmjLQZNeQ/ZTDSGk79G5tD2rGgQdFd\n",
       "xrV6jjC9bOk706JSMZzRVdW+onR68jnaTqQCNOBrD/7laqsCvbbTV/EHYg0zJ8lsxdWoTtgBJ/4G\n",
       "gZfuZWN8rFIOHMXVep3kOH71qDNwkrtSK2f9YvBezVwf/rE/D+jqO8dvsDPe2UGm/7PqW+GgBnkr\n",
       "GIc+tlHkplasJmfvR4bNoAAAAJlBm91JqEFsmUwIV//+OEAJZ6D9r+CUC9P8QATstRYbbcmAOg4H\n",
       "2DFQzYFCyUpzboFYxYt6XCXcKOpbySeht5CYw74mKcoX4SMS66HJ57XX1kqHmqC9K6VPEzm8+7k3\n",
       "WZ7qiIqwbPe6JPPOzP99gpB8wK9s7yIDAmHl109NaD/eFvZmJubOFsWOZawAhet11gwVnh1Nkf+u\n",
       "6cEAAACfQZ/7RRUsM/8ARXU4jgF2cOYJ5oANbkEuW4U6qSQjUNYez/sYMU+yqQWL5XzVtK7Qojoj\n",
       "p0udWMBrxbNeN7FOck9zmywoT6sQGRz7sXco1Gk0IsFY2i86/YXmNktGfq24eAQ4G0yzum9xOQJs\n",
       "GuIt5HWw7gnoK6q1EoB8wPMpeL/n+PCypxpeCVBYSZc6W4EGRkvAoAUSBeD8/YGD3mkYAAAAuQGe\n",
       "GnRCvwB/D7CRrdwEnbIAEhbzFgUAJlpvr+R5nwoj17yIeY8eMalFFSQIuCcNk5aWXLayTjvPQZBl\n",
       "NybiqN6PuXR7pOqTZIZt0C1PHt3QarfmPOWvMuIHVSn2fKInngAiSoSlU+15AaMPd8TfDUXXfE/s\n",
       "ht4AZSuTNPLcEsL7anrge1730Soqsv/we3iiD8vEI0sYIWKQ1eyQyQESt6ftjXmWAtvtf27A+0qL\n",
       "MkUxrNxE1HVnivrZAAAArAGeHGpCvwB/FTiFnAAtIP/bDxbMQF8plTjKIR2/KHJKUQLugU2iN6Vd\n",
       "QwYCJ0YyhXzwVfl9QDkdzjlB9vYJStX8vlWQS5w/a44ba2pnkwVfWaH0sql1R1jvcO9OI+e5QLCq\n",
       "SHAFF4r4jPLKm1UP+uE6bCao9iDc2cFYeIg+1GbpFCSqdZn8INPjrpUW1nBrtnWgwwmjaS2vTe8N\n",
       "rWcfVeI9trske1Jd7Hb/8OEAAASObW9vdgAAAGxtdmhkAAAAAAAAAAAAAAAAAAAD6AAABdwAAQAA\n",
       "AQAAAAAAAAAAAAAAAAEAAAAAAAAAAAAAAAAAAAABAAAAAAAAAAAAAAAAAABAAAAAAAAAAAAAAAAA\n",
       "AAAAAAAAAAAAAAAAAAAAAAAAAgAAA7h0cmFrAAAAXHRraGQAAAADAAAAAAAAAAAAAAABAAAAAAAA\n",
       "BdwAAAAAAAAAAAAAAAAAAAAAAAEAAAAAAAAAAAAAAAAAAAABAAAAAAAAAAAAAAAAAABAAAAAAbAA\n",
       "AAEgAAAAAAAkZWR0cwAAABxlbHN0AAAAAAAAAAEAAAXcAAAEAAABAAAAAAMwbWRpYQAAACBtZGhk\n",
       "AAAAAAAAAAAAAAAAAAAoAAAAPABVxAAAAAAALWhkbHIAAAAAAAAAAHZpZGUAAAAAAAAAAAAAAABW\n",
       "aWRlb0hhbmRsZXIAAAAC221pbmYAAAAUdm1oZAAAAAEAAAAAAAAAAAAAACRkaW5mAAAAHGRyZWYA\n",
       "AAAAAAAAAQAAAAx1cmwgAAAAAQAAAptzdGJsAAAAs3N0c2QAAAAAAAAAAQAAAKNhdmMxAAAAAAAA\n",
       "AAEAAAAAAAAAAAAAAAAAAAAAAbABIABIAAAASAAAAAAAAAABAAAAAAAAAAAAAAAAAAAAAAAAAAAA\n",
       "AAAAAAAAAAAAAAAAGP//AAAAMWF2Y0MBZAAV/+EAGGdkABWs2UGwloQAAAMABAAAAwCgPFi2WAEA\n",
       "Bmjr48siwAAAABx1dWlka2hA8l8kT8W6OaUbzwMj8wAAAAAAAAAYc3R0cwAAAAAAAAABAAAAHgAA\n",
       "AgAAAAAUc3RzcwAAAAAAAAABAAAAAQAAAPhjdHRzAAAAAAAAAB0AAAACAAAEAAAAAAEAAAoAAAAA\n",
       "AQAABAAAAAABAAAAAAAAAAEAAAIAAAAAAQAACgAAAAABAAAEAAAAAAEAAAAAAAAAAQAAAgAAAAAB\n",
       "AAAKAAAAAAEAAAQAAAAAAQAAAAAAAAABAAACAAAAAAEAAAoAAAAAAQAABAAAAAABAAAAAAAAAAEA\n",
       "AAIAAAAAAQAACgAAAAABAAAEAAAAAAEAAAAAAAAAAQAAAgAAAAABAAAKAAAAAAEAAAQAAAAAAQAA\n",
       "AAAAAAABAAACAAAAAAEAAAoAAAAAAQAABAAAAAABAAAAAAAAAAEAAAIAAAAAHHN0c2MAAAAAAAAA\n",
       "AQAAAAEAAAAeAAAAAQAAAIxzdHN6AAAAAAAAAAAAAAAeAAAVnAAAAkIAAAFsAAAA7gAAAMEAAAC0\n",
       "AAAA/QAAAM4AAADHAAAAywAAANQAAADCAAAAyQAAANgAAADUAAAAvwAAAM0AAADLAAAAsgAAALQA\n",
       "AADNAAAA2AAAALMAAACyAAAAqAAAAMsAAACdAAAAowAAAL0AAACwAAAAFHN0Y28AAAAAAAAAAQAA\n",
       "ACwAAABidWR0YQAAAFptZXRhAAAAAAAAACFoZGxyAAAAAAAAAABtZGlyYXBwbAAAAAAAAAAAAAAA\n",
       "AC1pbHN0AAAAJal0b28AAAAdZGF0YQAAAAEAAAAATGF2ZjU2LjQwLjEwMQ==\n",
       "\">\n",
       "  Your browser does not support the video tag.\n",
       "</video>"
      ],
      "text/plain": [
       "<IPython.core.display.HTML object>"
      ]
     },
     "execution_count": 9,
     "metadata": {},
     "output_type": "execute_result"
    }
   ],
   "source": [
    "anim = animation.FuncAnimation(fig, animate, frames=rho_n, interval=50)\n",
    "HTML(anim.to_html5_video())"
   ]
  },
  {
   "cell_type": "markdown",
   "metadata": {},
   "source": [
    "You'll see that the result is very similar to the original Lax-Friedrichs method, and with good reason: they're essentially the same! But this is only because we are using a uniform grid. In the finite-volume approach, using the integral form of the equations, we were free to use a spatially varying grid spacing, if we wanted to. \n",
    "\n",
    "The original Godunov method is first-order accurate, due to representing the conserved quantity by a piecewise-constant approximation. That is why you see considerable numerical diffusion in the solution. But Godunov's method laid the foundation for all finite-volume methods to follow and it was a milestone in numerical solutions of hyperbolic conservation laws. A whole industry developed inventing \"high-resolution\" methods that offer second-order accuracy and higher."
   ]
  },
  {
   "cell_type": "markdown",
   "metadata": {},
   "source": [
    "##### Dig deeper"
   ]
  },
  {
   "cell_type": "markdown",
   "metadata": {},
   "source": [
    "* Godunov's method works in problems having waves moving with positive or negative wave speeds. Try it on the green-light problem introduced in [lesson 1](http://nbviewer.ipython.org/github/numerical-mooc/numerical-mooc/blob/master/lessons/03_wave/03_01_conservationLaw.ipynb) using the initial condition containing waves traveling in both directions.\n",
    "\n",
    "* Investigate two or three different numerical flux schemes (you can start with van Leer et al., 1987, or Google for other references. Implement the different flux schemes and compare!"
   ]
  },
  {
   "cell_type": "markdown",
   "metadata": {},
   "source": [
    "## MUSCL schemes"
   ]
  },
  {
   "cell_type": "markdown",
   "metadata": {},
   "source": [
    "Godunov's method is first-order accurate, which we already know is not appropriate for hyperbolic conservation laws, due to the high numerical diffusion. This poses particular difficulty near sharp gradients in the solution.\n",
    "\n",
    "To do better, we can replace the piecewise constant representation of the solution with a piecewise linear version (still discontinuous at the edges). This leads to the MUSCL scheme (for Monotonic Upstream-Centered Scheme for Conservation Laws), invented by van Leer (1979)."
   ]
  },
  {
   "cell_type": "markdown",
   "metadata": {},
   "source": [
    "### Reconstruction in space"
   ]
  },
  {
   "cell_type": "markdown",
   "metadata": {},
   "source": [
    "The piecewise linear reconstruction consists of representing the solution inside each cell with a *straight line* (see Figure 5). Define the cell representation as follows:\n",
    "\n",
    "\\begin{equation}\n",
    "  e(x) = e_i + \\sigma_i (x - x_i).\n",
    "\\end{equation}\n",
    "\n",
    "where $\\sigma_i$ is the *slope* of the approximation within the cell (to be defined), and $e_i$ is the Godunov cell average. The choice $\\sigma_i=0$ gives Godunov's method.\n",
    "\n",
    "Standard central differencing would give\n",
    "\n",
    "\\begin{equation}\n",
    "  \\sigma_i = \\frac{e_{i+1} - e_{i-1}}{2 \\Delta x}.\n",
    "\\end{equation}"
   ]
  },
  {
   "cell_type": "markdown",
   "metadata": {},
   "source": [
    "<img src=\"./figures/cell_boundaries.svg\">\n",
    "\n",
    "#### Figure 5. Piecewise linear approximation of the solution."
   ]
  },
  {
   "cell_type": "markdown",
   "metadata": {},
   "source": [
    "But we saw with the results [in the second lesson](http://nbviewer.ipython.org/github/numerical-mooc/numerical-mooc/blob/master/lessons/03_wave/03_02_convectionSchemes.ipynb) that this can lead to oscillations near shocks. These [Gibbs oscillations](http://en.wikipedia.org/wiki/Gibbs_phenomenon) will always appear (according to [Godunov's theorem](http://en.wikipedia.org/wiki/Godunov's_theorem)) unless we use constant reconstruction. So we have to modify, or *limit* the slope, near shocks.\n",
    "\n",
    "The easiest way to limit is to compute one-sided slopes\n",
    "\n",
    "\\begin{equation}\n",
    "  \\Delta e^- = \\frac{e_i - e_{i-1}}{\\Delta x}, \\quad \\Delta e^+ = \\frac{e_{i+1} - e_{i}}{\\Delta x}, \n",
    "\\end{equation}"
   ]
  },
  {
   "cell_type": "markdown",
   "metadata": {},
   "source": [
    "<img src=\"./figures/calc_sigma.svg\">"
   ]
  },
  {
   "cell_type": "markdown",
   "metadata": {},
   "source": [
    "#### Figure 6. One-sided slopes"
   ]
  },
  {
   "cell_type": "markdown",
   "metadata": {},
   "source": [
    "Now build the *minmod* slope\n",
    "\n",
    "\\begin{align}\n",
    "  \\sigma_i & = \\text{minmod}(\\Delta e^-, \\Delta e^+) \\\\\n",
    "  & = \\begin{cases} \\min(\\Delta e^-, \\Delta e^+) & \\text{ if } \\Delta e^-, \\Delta e^+ > 0 \\\\\n",
    "  \\max(\\Delta e^-, \\Delta e^+) & \\text{ if } \\Delta e^-, \\Delta e^+ < 0 \\\\\n",
    "0 & \\text{ if } \\Delta e^- \\cdot \\Delta e^+ \\leq 0\n",
    "  \\end{cases}\n",
    "\\end{align}\n",
    "\n",
    "That is, use the *smallest* one-sided slope in magnitude, unless the slopes have different sign, in which cases it uses the constant reconstruction (i.e., Godunov's method).\n",
    "\n",
    "Once the *minmod* slope is calculated, we can use it to obtain the values at the interfaces between cells.\n",
    "\n",
    "\\begin{align}\n",
    "e^{R}_{i-1/2} &= e_i - \\sigma_i \\frac{\\Delta x}{2}\\\\\n",
    "e^{L}_{i+1/2} &= e_i + \\sigma_i \\frac{\\Delta x}{2}\n",
    "\\end{align}\n",
    "\n",
    "where $e^R$ and $e^L$ are the local interpolated values of the conserved quantity immediately to the right and left of the cell boundary, respectively.  "
   ]
  },
  {
   "cell_type": "markdown",
   "metadata": {},
   "source": [
    "##### Index headache"
   ]
  },
  {
   "cell_type": "markdown",
   "metadata": {},
   "source": [
    "Notice that for the cell with index $i$, we calculate $e^R_{i-1/2}$ and $e^L_{i+1/2}$.  Look at Figure 5: those are the two local values of the solution are at opposite cell boundaries.\n",
    "\n",
    "However, when we calculate the local flux at the cell boundaries, we use the local solution values on either side of that cell boundary. That is:\n",
    "\n",
    "\\begin{equation}\n",
    "F_{i+1/2} = f(e^L_{i+1/2}, e^R_{i+1/2})\n",
    "\\end{equation}\n",
    "\n",
    "You can calculate two flux vectors; one for the right-boundary values and one for the left-boundary values. Be careful that you know which boundary value a given index in these two vectors might refer to!\n",
    "\n",
    "_____"
   ]
  },
  {
   "cell_type": "markdown",
   "metadata": {},
   "source": [
    "Here is a Python function implementing minmod."
   ]
  },
  {
   "cell_type": "code",
   "execution_count": 10,
   "metadata": {
    "collapsed": false
   },
   "outputs": [],
   "source": [
    "def minmod(e, dx):\n",
    "    \"\"\"\n",
    "    Compute the minmod approximation to the slope\n",
    "    \n",
    "    Parameters\n",
    "    ----------\n",
    "    e : array of float \n",
    "        input data\n",
    "    dx : float \n",
    "        spacestep\n",
    "    \n",
    "    Returns\n",
    "    -------\n",
    "    sigma : array of float \n",
    "            minmod slope\n",
    "    \"\"\"\n",
    "    \n",
    "    sigma = numpy.zeros_like(e)\n",
    "    de_minus = numpy.ones_like(e)\n",
    "    de_plus = numpy.ones_like(e)\n",
    "    \n",
    "    de_minus[1:] = (e[1:] - e[:-1])/dx\n",
    "    de_plus[:-1] = (e[1:] - e[:-1])/dx\n",
    "    \n",
    "    # The following is inefficient but easy to read\n",
    "    for i in range(1, len(e)-1):\n",
    "        if (de_minus[i] * de_plus[i] < 0.0):\n",
    "            sigma[i] = 0.0\n",
    "        elif (numpy.abs(de_minus[i]) < numpy.abs(de_plus[i])):\n",
    "            sigma[i] = de_minus[i]\n",
    "        else:\n",
    "            sigma[i] = de_plus[i]\n",
    "            \n",
    "    return sigma"
   ]
  },
  {
   "cell_type": "markdown",
   "metadata": {},
   "source": [
    "### Evolution in time"
   ]
  },
  {
   "cell_type": "markdown",
   "metadata": {},
   "source": [
    "Since we are aiming for second-order accuracy in space, we might as well try for second-order in time, as well. We need a method to evolve the *ordinary* differential equation forwards in time:\n",
    "\n",
    "\\begin{equation}\n",
    "  \\frac{\\partial}{\\partial t} e_i + \\frac{1}{\\Delta x} \\left[ F \\left( x_{i+1/2}, t \\right) - F \\left( x_{i - 1 / 2}, t \\right) \\right] = 0\n",
    "\\end{equation} \n",
    "\n",
    "A second-order Runge-Kutta method with special characteristics (due to Shu & Osher, 1988) gives the following scheme:\n",
    "\n",
    "\\begin{align}\n",
    "e^*_i & = e^n_i + \\frac{\\Delta t}{\\Delta x}\\left( F^n_{i-1/2} - F^n_{i+1/2} \\right) \\\\\n",
    "e^{n+1}_i & = \\frac{1}{2} e^n_i + \\frac{1}{2}\\left( e^*_i + \\frac{\\Delta t}{\\Delta x}\\left( F^*_{i-1/2} - F^*_{i+1/2} \\right) \\right)\n",
    "\\end{align}\n",
    "\n",
    "Recall that the Rusanov flux is defined as\n",
    "                          \n",
    "$$\n",
    "F_{i+1/2}= \\frac{1}{2} \\left[ F \\left( e_L \\right) + F \\left( e_R \\right)  \\right] -  \\frac{1}{2}  \\max \\left|F'(e)\\right| \\left( e_R - e_L \\right)\n",
    "$$\n",
    "\n",
    "Armed with the interpolated values of $e$ at the cell boundaries we can generate a more accurate Rusanov flux. At cell boundary $i+1/2$, for example, this is:\n",
    "\n",
    "\\begin{equation}\n",
    "F_{i+1/2} = \\frac{1}{2} \\left( F \\left( e^L_{i+1/2} \\right) + F \\left( e^R_{i+1/2} \\right)   -  \\frac{\\Delta x}{\\Delta t} \\left( e^R_{i+1/2} - e^L_{i+1/2} \\right) \\right)\n",
    "\\end{equation}\n",
    "\n",
    "Now we are ready to try some MUSCL!"
   ]
  },
  {
   "cell_type": "code",
   "execution_count": 11,
   "metadata": {
    "collapsed": false
   },
   "outputs": [],
   "source": [
    "def muscl(rho, nt, dt, dx, rho_max, V_max):\n",
    "    \"\"\" Computes the solution with the MUSCL scheme using the Lax-Friedrichs flux,\n",
    "    RK2 in time and minmod slope limiting.\n",
    "    \n",
    "    Parameters\n",
    "    ----------\n",
    "    rho    : array of floats\n",
    "            Density at current time-step\n",
    "    nt     : int\n",
    "            Number of time steps\n",
    "    dt     : float\n",
    "            Time-step size\n",
    "    dx     : float\n",
    "            Mesh spacing\n",
    "    rho_max: float\n",
    "            Maximum allowed car density\n",
    "    V_max  : float\n",
    "            Speed limit\n",
    "    \n",
    "    Returns\n",
    "    -------\n",
    "    rho_n : array of floats\n",
    "            Density after nt time steps at every point x\n",
    "    \"\"\"\n",
    "    \n",
    "    #initialize our results array with dimensions nt by nx\n",
    "    rho_n = numpy.zeros((nt,len(rho)))      \n",
    "    #copy the initial u array into each row of our new array\n",
    "    rho_n[:,:] = rho.copy()              \n",
    "    \n",
    "    #setup some temporary arrays\n",
    "    rho_plus = numpy.zeros_like(rho)\n",
    "    rho_minus = numpy.zeros_like(rho)\n",
    "    flux = numpy.zeros_like(rho)\n",
    "    rho_star = numpy.zeros_like(rho)\n",
    "\n",
    "    for t in range(1,nt):\n",
    "               \n",
    "        sigma = minmod(rho,dx) #calculate minmod slope\n",
    "\n",
    "        #reconstruct values at cell boundaries\n",
    "        rho_left = rho + sigma*dx/2.\n",
    "        rho_right = rho - sigma*dx/2.     \n",
    "        \n",
    "        flux_left = computeF(V_max, rho_max, rho_left) \n",
    "        flux_right = computeF(V_max, rho_max, rho_right)\n",
    "        \n",
    "        #flux i = i + 1/2\n",
    "        flux[:-1] = 0.5 * (flux_right[1:] + flux_left[:-1] - dx/dt *\\\n",
    "                          (rho_right[1:] - rho_left[:-1] ))\n",
    "        \n",
    "        #rk2 step 1\n",
    "        rho_star[1:-1] = rho[1:-1] + dt/dx * (flux[:-2] - flux[1:-1])\n",
    "        \n",
    "        rho_star[0] = rho[0]\n",
    "        rho_star[-1] = rho[-1]\n",
    "        \n",
    "        \n",
    "        sigma = minmod(rho_star,dx) #calculate minmod slope\n",
    "    \n",
    "        #reconstruct values at cell boundaries\n",
    "        rho_left = rho_star + sigma*dx/2.\n",
    "        rho_right = rho_star - sigma*dx/2.\n",
    "        \n",
    "        flux_left = computeF(V_max, rho_max, rho_left) \n",
    "        flux_right = computeF(V_max, rho_max, rho_right)\n",
    "        \n",
    "        flux[:-1] = 0.5 * (flux_right[1:] + flux_left[:-1] - dx/dt *\\\n",
    "                          (rho_right[1:] - rho_left[:-1] ))\n",
    "        \n",
    "        rho_n[t,1:-1] = .5 * (rho[1:-1] + rho_star[1:-1] + dt/dx * (flux[:-2] - flux[1:-1]))\n",
    "        \n",
    "        rho_n[t,0] = rho[0]\n",
    "        rho_n[t,-1] = rho[-1]\n",
    "        rho = rho_n[t].copy()\n",
    "        \n",
    "    return rho_n"
   ]
  },
  {
   "cell_type": "code",
   "execution_count": 12,
   "metadata": {
    "collapsed": false
   },
   "outputs": [],
   "source": [
    "sigma = 1.\n",
    "dt = sigma*dx/V_max\n",
    "rho = rho_red_light(nx, rho_max, rho_in)      #make sure that u is set to our expected initial conditions\n",
    "rho_n = muscl(rho, nt, dt, dx, rho_max, V_max)"
   ]
  },
  {
   "cell_type": "code",
   "execution_count": 13,
   "metadata": {
    "collapsed": false
   },
   "outputs": [
    {
     "data": {
      "text/html": [
       "<video width=\"432.0\" height=\"288.0\" controls autoplay loop>\n",
       "  <source type=\"video/mp4\" src=\"data:video/mp4;base64,AAAAHGZ0eXBNNFYgAAACAGlzb21pc28yYXZjMQAAAAhmcmVlAAAxeG1kYXQAAAKgBgX//5zcRem9\n",
       "5tlIt5Ys2CDZI+7veDI2NCAtIGNvcmUgMTM4IC0gSC4yNjQvTVBFRy00IEFWQyBjb2RlYyAtIENv\n",
       "cHlsZWZ0IDIwMDMtMjAxMyAtIGh0dHA6Ly93d3cudmlkZW9sYW4ub3JnL3gyNjQuaHRtbCAtIG9w\n",
       "dGlvbnM6IGNhYmFjPTEgcmVmPTMgZGVibG9jaz0xOjA6MCBhbmFseXNlPTB4MzoweDExMyBtZT1o\n",
       "ZXggc3VibWU9NyBwc3k9MSBwc3lfcmQ9MS4wMDowLjAwIG1peGVkX3JlZj0xIG1lX3JhbmdlPTE2\n",
       "IGNocm9tYV9tZT0xIHRyZWxsaXM9MSA4eDhkY3Q9MSBjcW09MCBkZWFkem9uZT0yMSwxMSBmYXN0\n",
       "X3Bza2lwPTEgY2hyb21hX3FwX29mZnNldD0tMiB0aHJlYWRzPTYgbG9va2FoZWFkX3RocmVhZHM9\n",
       "MSBzbGljZWRfdGhyZWFkcz0wIG5yPTAgZGVjaW1hdGU9MSBpbnRlcmxhY2VkPTAgYmx1cmF5X2Nv\n",
       "bXBhdD0wIGNvbnN0cmFpbmVkX2ludHJhPTAgYmZyYW1lcz0zIGJfcHlyYW1pZD0yIGJfYWRhcHQ9\n",
       "MSBiX2JpYXM9MCBkaXJlY3Q9MSB3ZWlnaHRiPTEgb3Blbl9nb3A9MCB3ZWlnaHRwPTIga2V5aW50\n",
       "PTI1MCBrZXlpbnRfbWluPTIwIHNjZW5lY3V0PTQwIGludHJhX3JlZnJlc2g9MCByY19sb29rYWhl\n",
       "YWQ9NDAgcmM9Y3JmIG1idHJlZT0xIGNyZj0yMy4wIHFjb21wPTAuNjAgcXBtaW49MCBxcG1heD02\n",
       "OSBxcHN0ZXA9NCBpcF9yYXRpbz0xLjQwIGFxPTE6MS4wMACAAAATDmWIhAA///73aJ8Cm1pDeoDk\n",
       "lcUl20+B/6tncHyP6QMAAAMAAK6tMhzcidOfqAG/ffHUGeRn08J3/jmVoPBUJ5CmS0eiIRPAi6uF\n",
       "ZUCcBlfqzt9HUEJk2INv7a98gVx4d1Y0LCueCjh1nCYv3+kvc8RwqWE9UOi7UgLpJqJhEX1p9089\n",
       "B/e5Pr5iOVNcXYb0uSlOviuLYZpIv9StCzBLHkO2buiXPabmnpd4VGwOZN7k1viHppJxIzYRXdA7\n",
       "VmHWd0CK4u//BX23p0AquBgufpf+6KkgxI+beT9b6Z7cyZWkHrnMibVZ+qvhONxwp+NpFateD5PF\n",
       "DCm8S6IuRGSLsh3ORZPhWqS31pPGGn95Y3vna2yj5QvpJrFs4vAU2629xPTgzKa/O7Zy111VUnz4\n",
       "FtECdeScADU0IF+Cv1BZuaAnHP+SG2l7DX1I4Laf4tb1NLu8btQCsdzjY/IigGOGdedvwXwAJ6Pw\n",
       "3h/AmbcSRvPWQAEixkfo62sHNU1r/E9lbC16bYx8ZtAMPvIESS0Zhvih50ewnh1beCkpnOKCfioN\n",
       "mZdfxLrJpzRv5fiPMYzPWEdbo7Y7y1cbKuFzpallt5ZmJAgXbPGdd7iMfjjdJoDJdlO1NRsYxw1u\n",
       "XlSbjkBzymM3UYnGwl0iJTlFrCcydSLYiP3vH3TAL+/P2LtqM12Mo5kkcz5F9qfIXIv2s3CE/P5e\n",
       "ljOAHJOKbfkyK3KjlvaiGYRI3lU8QAJgnuooLmv5UpHbb16/0z0qfaRXLEyPtZWbmeY4Y0tdvn46\n",
       "KCux+Nzwg/JN77xiAvL9qYAP1lybYD6RmtCgAjudHRwvmsTqBdSbCckyN/IUKUe+46lM6HfmcFhs\n",
       "RrzsDweMbA6/yT9UJ1Ycs7DFbIPkp4hQYGbwfCF3KVnqmEYxSz1qeXd0zrX+0B/8iYHVflb9jmO6\n",
       "f3R4JimkEd2A5REakh08xEsA1qeNhWHdAb8Wh3T9FJN6eT4i9SFd0qa7LewkgNIgV9t1gcSqNmz5\n",
       "UDGITRduqUx8rSLBn50IGKeaL0FVECGFq3E3ymEa3DAjaTKJUEghgovXcCOUpZvsZ3ZBcK+8h//H\n",
       "3Pyatd1SAajpLa5a8iGzImP+cPBYduQm+4SQFGDrsehrpsOEL0dO6txNwRbhFO3ZsoezZ1b6BEMe\n",
       "vLZsi1+iPmM7L3OCi/70uMaih+gbqrwlOmKvhpLGfndLF0XENehO/5QfymmTITiasiSX9YYeOUo/\n",
       "2LWn8mDLcsHldhJYggPM1PhwSoBiioOoVBF6UYVH5ZKhdA46w1SvLMjQmedGO5HKHuQ1GAgCcqL0\n",
       "lDrjuREE0SU9IjpecWOsFDpylE3sh3upRneKwbLkCuVVe3c3rvDGLqdeNxmaFlQWCm1EWj8NIZmp\n",
       "+XJwJkqGQO8ylAEEKIpQ5RWGWtbwrDhkwf5R6NKwA3+9X0UxX7tJm6Yx6Hk8v6bbqh6lsPsmLwR7\n",
       "wApIfTG6cMHwIcpVWMAYLXFcd1GKAVpraOuqXiObtEbosg1cU8cmB7h5Zt936vccpbZegtVOrVSP\n",
       "VqdBsdnqeuJr931pUnyIjngk2Up5KEpbsDr1N7uiOhEpSf9ZJw2KPYmWw8Gw3yC2V2bfumKxc+bB\n",
       "JBr0pDmABmo39cBiotmmuS3GvE+OgknS/RnQcAEv7rqJMsM1XGkMnjMC9YN0hVUvEzqwgupnqIlh\n",
       "N0CgSIP06bfqc6k6boH2Ww0OyBf9DIWfq6vEPueAUy9o/e0ezNBc1XbjnBbDMKqLVuzGRSnFtyHs\n",
       "XhOzbEROrogLVDb1jb6bzhzA+Y2McPheXI2eHsf27XBs3zJtkHla1ZUMWf9yrAH285zVLxasK/jL\n",
       "uRADPvNw4lBaF4R0fnsIv/lvrcOuj9DCygGUk3m6YShS6FIpM+qY+u32jH2mXdJM9cjj7egmf6c9\n",
       "Od0DbfjfouJu8AgznJlXV+159x82pq6haM7sAuA2a2OfmzIuxn3iKGFeihoiuDr9/jqACzRkZYDu\n",
       "ZzHYEuEmUP9o/aXcV+Ll6a7VuWTZnn9tQvPKunEgLvpJIDe5hi3gI/C7BcilPGbErxOHRAKJYcI0\n",
       "s01pvdQ1muRU23ATCzX3LvreX7T2qPAt5s/r9M9BQ39nIKvMB1n3YQU8OTq9P2h9/+V0H6lCldgf\n",
       "fK5f/kYuRPFQjYphN0K7zBn3sc2mhz4TJlkJuccl5dOHH1EDtuC5vpuvyYrhHSxQXLK5o51a7qBe\n",
       "mNmkBflFIUY3Ebun7bwRw8begVTWLyzeSDvtH+8sEyVEz+BjXsrNbe5ia0iRgk75orYj+uprIFlX\n",
       "UGLmaxyDIZwqfXISKKELNuH9HZxsMlu6CS5//sZKgjEy/sA6Q2HqArk02HkYNf5CB9w8uFICtH1q\n",
       "Shi9Be+hzteLZGNEbBOfyIV/asxaWpyDPtGyZjzhHsSQ33v645xtgBISUltPYjB6C3xJkURQqAZQ\n",
       "cu4/q7qZ/+M05AczSUg+5T5AtNNQtZ05g6GndP3RptHMWq+37JPpQVh6oQhvSsD978eUKqpmvjqu\n",
       "tOeea85m0PcfJ0cYd0GcLphFmObHnn0cdw1EPrsKTH93EnWPUEzXTAYCZqbDNGVpw0ClQW8w+pVP\n",
       "GONeREmdJ7cYJHlrGrlQfdpZuXH+LLJyxVvQVqa0mQvKh1DD1LXKECxI5SNOeQtxIeq6teQByvS3\n",
       "ui3XpRPUP61xZC7aEDFKeDVMhL1DEqkO7gQP1ibdif1l5NXSMVQ6BTAXy/ORhbeDZ0lSIPvzi4oF\n",
       "QZcYvFY7NdlfWTfTvPlh7IWGI0/NCI6C66fMT9dUBS5Id9krO+pyZjknBI1rsPj9g+PZTZlwo/8f\n",
       "ZLMh6CcN7MSsuf5lao2wqtd3cM8JHvdLk2sahxNCDOmvyM4Tl4E9iuBL4ky52M9B5fJ2sGSoJf9L\n",
       "+WQZvezjk5cVvZy5Op0YMIsxi8KshYnv26i9666Ftl/xNtxP409lG8gZpKcXkppsKk+jjPXQiUcU\n",
       "AcmauZ5TX3SP9Oy792LbKKkNUS/px1LTtQnPp4z+nBsoT5CcaIUfPtX9lsJFA9qKA0B4Kb176j2B\n",
       "aVnhnn+rwovsP4RbOB8WAD9otXEm6faJYOA66J5vsWxmjY8mtH15OCNO2F4vYoAup9TjZj/xmqfX\n",
       "SiDOEjh4KXXpHfKIcj5dQLfAkKxr4p8saXsx3ojqY4xk99WOEpiS/7aGErnSPhFFmwUQl9lRJs08\n",
       "PJkWhq0ES5LnNBRNUxjv++WpT5bL6/Lq6FwhdkITnn2KeVcXyeSjgaf7xt5UkVcTwabFQF4vJlvA\n",
       "JWKVvWDa6icQVFsfP4Ti2G/n0Xbt7eeiAZktU0YHXIuXNrzZBXRDS+B+AbFzIX8iV3nPqNAAzDw2\n",
       "BOCHInRb7nfXsqFShHQDrfxGpTMSCjSXgyByS/0FZqkvssDwOTgmJfAMWc9CnXEzXSwhjI4Fk+Yi\n",
       "hp2hp92Pwc1XHGT4xVqS6SpDtuJQ3TfNFBGGKmAiRuBpv3I04Bl3jdgA/bSjIlc5KKeK18RPaBY6\n",
       "KVHMnhxQKAT/XVqba33XxfNMcqfOGm/DubTQAeti/+zj8BOd5medPd1fcL1OroCS9lruIab8O212\n",
       "yvsYYmPeptGd5hY+qHTrMGs8jneIq7DlhYC/jFFvWHgvD0Yagxggs6WC036uHNU7wkJmJXgrw01i\n",
       "N9yCR6+LZFQxK3xELwraGDqJq3ESVEnMwHJV9pfCFstK2+Wk0QAMuzZGQNTujNJHG+4Cq/klXjmL\n",
       "gTX/Dp26/bevca7PMuQdEA2/A1omcBcxRkb3oQSTnhvDSVJDAbJFV7jRR83aF3wMvYTNi01nw2Kc\n",
       "P1rtvuQncZ1ly5+MlXL66q55j1/OM+IjRrhnYEGyRMX++nsY5qHd94DTchOSJWd+14oSGMTtYcZy\n",
       "78SAH0yiHQsL6uNNfNtrL7UM5zkJJl2F0qKWw432lGR92NrTHuSPkpd4IcKubd8nkSWISp26s/XY\n",
       "GPEgJYa6v2+S6aSKEID1BmaUGYu0tMOdSh1P88qVQ5FFiIjtLz83Q14sfTk8vKlm/JjQnT8N1mqk\n",
       "L7rLBOQhbr6S6i3To43V3LjZOsvSzaXzel6zr6U4yosi2NP0ylpeeciFX9NMQ5We5kXKB/A0/bmy\n",
       "l+bGoC3+wqxsZE4H5emkGRnblu51dpD2caABA/0QBvHcDsEulHM2beJg3u5asY3lA3PEm/54adE0\n",
       "rj/2LnpW3RIgLlKwfbwBATFHNZIdOqyapz+SkzxwBb1ZQrFfc0j4XMVfRcsONe5FyWUm+CZiSHc/\n",
       "fJ4EDLG/d3d5KNQORYlSHkFcTv9Yx36/+ZndwCfytfulnkKnyxndvNeBjTIsrwDpzwsQgQws+m0j\n",
       "ZiRP4/RpXdiKEnscw3w1RSDg194Qo9tikqv/Gj7m6PvY8HMIJzFPrGJcMelLjuIXRFa09LYRLBqc\n",
       "ZdDn+5bt3d6ni/Xw/hNyLqM9JAtv/TqyaaySt9ZC1iKoPwXBLGtcbXUOvtKRf/f26B0p/ARSC8dx\n",
       "Vm5XzhFsysqMsaETZsh0Cg+vdaMlbgzIPw2gfHc1wuHCs4WiddXO6dmEeEUyJF0MTMQ05/fP0pKn\n",
       "2s2qaZUQD/79L8vStDuS1p5YYGe+bWP0S0N3ILUTWTbySNVhDrT+ZpCd9w2HKO2Y21uK34B+bgzF\n",
       "M+RKKqng6MtxjG9yOppgabYLl+X+1bjNDt402xjYz3or+yqNlD4bs7WrWYWxzRa5AL5MRXud/HDl\n",
       "rSlsn8KSUAqjV8F3PjgLDzsPPtQXGpG3e0TqtrcUdg2Gznetp1F396pSqSq76O7xWDk3USP0kIFB\n",
       "5RMzjd/IpRlhIJ6j/CdfTk2A6o3/pAABVJv9WHiK/lLsdmgQqvuQN1uDzsuOS8v54aDTy41HNO4p\n",
       "wnxWaCCGzPEbmdopumewfZ/EQ//TUFhxiSFHLShIf1KsTOjiyYP/tIm35Ywq6RKOm6vMKmTOmmPN\n",
       "fdFKBBukRtGymac0F0j8MaI8hL+pJAwbi9QvQGrgqwM+6/+xkg4kGVALQXCCE4Jn7Ysbx1JlXcVJ\n",
       "ZgX9+Z9vh/CotxaGsNBgeywso5uZFvzZit95cbLnyljmAXUJLYUX2YHiAJ8dkL2qQP92LcRl18Mn\n",
       "96KIK8TtvpPIxyaKNnAxc2N4Z/GC/W09rLzA4HfP352b9dW2Av+8Tkv5o9b/g2pfEvocbxhzPnHP\n",
       "+Aj+YVqJsiGxt4zj4IDZUwjp7cVgDZzY4M9jv1g4E2Gp6tGXjLTxFK/Hrk0PmTXxBG5b8HOvty/d\n",
       "ZmsGgBmbGA4AtqIhh7ZguU+YTOuo5Y6/zBxX8TfEsq1AVvZCjpyr6XyNmSJ4FL40Dp3Ysc6k0ddh\n",
       "RDhDyR0RpTbP2lDI38ekHiFrozubboj4zT5LtTFS9f76C1R3buoCn5fAaRgGEDEBNMiNludGW2ol\n",
       "g+oWzVgK3X5ynJzvyPgBhyrjlKnqkJQy3Q4NKopvn01lXZ+HH5uwIieTZE5i2YyQrWzHpd+1jxdV\n",
       "G6dQIf0j7r4cs6GeOd6dFjEEoNGorJGt+Ejx2DwJQMtm+j2/9g0xh/+jgCnP9p7w7nufJYytLVVz\n",
       "NgtntOYTfL4e6ZRuGIQNVNWwkCh47HDA7m7ylnMtInFIjHWTRXYFdZYr6DiVpD6jf15h3rT9I2YP\n",
       "/xOZOUDnE6N4MQLwibAlDUakJ30Ggqdb7mRmBmAEWwXTOP8vbQr28XOSceTpb6rskmNUbbeVO84m\n",
       "f+9erQgeU50ZwBO2hpckalX2qLPZ628ZdTOL8CsMSOkS2by1nhjohFUppUNhYQ/XEgnhh2mvA98W\n",
       "ag9PjuyVMZHYkhTkkfTZRkM3y8W/AL4mpXYh8pSgJYBCjD/8nPHUUqgy1liD2hw3hTTO6Dagg1+S\n",
       "3PIsuhkgENXzK9CPj2aDaXwQxG738iTXyrb74MX8N8mFA6371s4gcyzCGIkntvSLfF9u5RQFKV4s\n",
       "BH4zJbHm79R2y3ceLmnZYYM3X8l2piXWI/NhP0MoUIsi/TFBVl+TMxZJ2Ycj99Q5+4Nnza6lzbEM\n",
       "8tzLw0z0gTpDJ0SXBTXB1yG4SfnaYJWyv8zKAzHOrd5TSp9fZ6zmJUBA4/tswjq9n4Oxx9RZUbeW\n",
       "UHtX9mCVNa2lxMFffF/1DH7f/l3YMbXCzG3spfpXMBv1hp6S2uwoqcVJInML6tlR567TxFbD6d5f\n",
       "aUStvs0iaSre8Cxf3eCpUC10XwFsb0YrTzbkRMomYU3Pybvz4u51DCTEXj2ABjm30RyysY/Uak8U\n",
       "Y8v9e4LuWYwUrExXso1CeuGxMm6ZSS/ADfAYhxTraUY/j9TKt0OG4ChHplD8W0EmZFdOEe7tm7cs\n",
       "a6xtYQdKsuyljluXjM8KWBJbr4VWDJmbdRYDhJnwbGpXrh56tjj1JuV/aLf3objKSUshtcup7lK2\n",
       "RD9fpx4tS/RIXCbRIfpqrJRoqBxYyNj3sEwgWy502XJ7qZ/DWfdBJNssJjTBiA0bAFtnUz/cWQKn\n",
       "EA7BhxMh0EWJvxnnysrV0QAAApJBmiRsQ//+qZYTApnwBf7sdrgiwTMAZLzTHn/AnxFRa/WEh0Z/\n",
       "mxNRuuq0if4JYNUqLAOMvqYr9fQ4I/d5q4SKE+EDvLH6bHpuCI9ZUXpFmcbQlbOxbHfIxVWnNfir\n",
       "aOI8ZktX0Jzg45j6Ly1J6UwcbI0ZnK7mLEI+WKeUxKyZK1RB91Lo/qZS9GZ7qXXu2PNFQVoemP3P\n",
       "gbp8ju2eGUcDiZ7elBg+J81o3H5DxRwbgWNYsAUqbpthctZOo/e6NTvKq5DrQgTPPYRz5SjabHhE\n",
       "Jf8/USXlXnXJWazNGkHpmU/4JRpUXNDysqd/BQuF6NuICODXBFdAxS7XW4aOWnm14QJ2Xi1qGcEf\n",
       "lCGIOJDJLPNvYH9LbLoAal8Uh8Whth2AWxnntiov0Z5rboPx7n/I0E7xjkjGI9ZibCHyvbQywekA\n",
       "CWOW7VS77PY6qiJHMRDLWmQRGxk5xVlc2ngYUxlzetH9DRNxjIt+0sGLgTF02BCWucv3goqBzxF3\n",
       "2cbOmWyue7ZJiaWIG/s/HmXsFdkYaP8zaRADZL5S2qxma7EmqCeyDsuaPDJa+/odMwywfPY2C0qh\n",
       "kV8lmBerbOTCuqA+w1m8aIoC50rsVKAUd36A/ns1G8pLnjOBy0OFSYbaGARxwNqggUh8KJ5+XZZg\n",
       "UwUiuY4MivbfDTmr4tOu+NYYRRHOwTBSJfL0jaqqU1sMngYjPmWypUx2K+g0i+cvZ2hsWOSYDUtF\n",
       "ZDYWARfQPd0wKCYJirkj3o1KGn9vH4VHH6a47Oz6hGZmw0c+NDEmV3moSd+HcLPSLs53YM8JIjhx\n",
       "Tajex7jP0NQkahbOKDsPW8vhf6Jsdr5WM2Ypnha7Y0ObndsDgsihFOdpNzstEyd1yMKAAAABDUGe\n",
       "QniGfwIV4sdc0MqIvp1QAS1Y2NjgT3yg2qz9s3l5P0zRJUvrM+vrbEhNSbZU/XmgcieR9ikxW9oW\n",
       "6pnuSzhD11dWvCnQONaWjMKhQ6jDduVI8Nqxtsh/YWS9XQ7CEg4XL5JUngG0J7wwrOT6IM/0VDv3\n",
       "KIitpUMg07M9JToZ2gyYsw8DsC+8HNZP8n7LKsdm8cm2O+zZWDxZAaUND1+QO1fdroZANkbahTAr\n",
       "YfD8UjTqq/8nlwAxCO5CXaAbAZVv1kBT82++a/emraI2MXt5Mk4bTCH4QBojs/jrH86VOdJzWxtM\n",
       "oIMKp6BY1hSI46SulmyGpYG/rc4bfoBgW3gWpt+DfNyL6cP/7wtBAAAAvAGeYXRCvwOZoRKZBrOZ\n",
       "T6kpwEJrHh3Gk+F/aNXqsYzpxVf+mATDmJTuUJbT7XzVFStI5fZ8M37GSu7WjICx/9SkiNzgiFD1\n",
       "wfaEXrPo4AFddYhoQ1G3DEUFL9yNorC2e1MOxig2mQcgkI2/dcCPuEmSbMvAbEM1R01ZvsxWY9eO\n",
       "VQE6s7TlZxMYJRxju/5kACjvVtsSA6/DHoudjeaUkU7Ouq4RV4FO96ST+mFU+g2OGSpSFG7QJ1Tr\n",
       "rlWOAAAAyQGeY2pCvwB5mVKWT6ABK+YPcvl1bi6J8iH4j+YmypbsGaOKaBaStUfLrSuG61uSuqZP\n",
       "BiIOv31YZdoGlCNM/8SK2iPamqJh7uukGLlPziS3Q016H3CMXko1FIHzUmHDJbcOZbRyTluR3Fcd\n",
       "csIyD60tJfge5wzxRIM+nMUr5daVlv34TyszocjkgSXyrsabHlA+6QbyOk82WOh/BVo10eIXpEm/\n",
       "X5zgke1NsGHpZy4x5GZv5pcrDG9NEeexdTTbfG5pt16Rk5kPgQAAAVFBmmhJqEFomUwId//+qZYA\n",
       "THq3jERzRgBK+5z91NnQvb79KAAdzNwu4DryGRyXobM8sQxE0gyneIirnlWx3URivHxOzF1Mvwj2\n",
       "MoKR3MMVDhMNNwo3KmZmy/jiLEGS2cdFtVt1gGvCtNdte8yaq/Ju3JKkj+zdW0F0wgMUNG9Xz1nG\n",
       "L1s9mZ4lM5BoMtyK6I7gqfTBfFjGslkmPuJOlBoWdHtpH3IQVLLfT2liWlZsXseAT5JR44HoX1SS\n",
       "q8S0O76CJAJvinGcj52ADhbtFmU5UX3zmYqVpRaHmMV2HlHhKXTNzWhnkTogM+4av3TAGjTUC498\n",
       "NSiV3GKnksqAIcSV5/NrhxA8vN5Pm4FxCRxUpThO0knoANCnL4n6MOqJ6NdpM9xJKW4OpEy1ATVi\n",
       "d49YbnkgvUVTySgF4QYrXIbZk2NsqT0rnTTSdGLa+RANMNuBAAABJEGehkURLDP/AEF13fnMU6LA\n",
       "AC6XuRLTHN6S8CjN55WBz9LxQkJ1H9kQ4IJOQT6X2l4e3qJlsyKgNEt0jWb+NrBuh+K8uMfZD413\n",
       "KuflHlrrnY1D9himwKQNHCTAaUgclw3q9yoyB1mqCx63JFF8u9/8aJq0A8FYuBEiWPJoY0fI7uvZ\n",
       "ZF7x07Tu1X8apRX5aKb2MjVHaqyPiFXWJJJwRpXltdugDnaHr41fhuKOsEPl6ahDskdyDuS7Rxp/\n",
       "MQpGbIwkKdqY3HtKdOEaN95szHdlnonqBgSY7mJAepZyy91i2nkjTaq3qzyLVG4myu2kNKQc3Jyv\n",
       "ZrY2mT51K7/BY1hSI46SulmyGoqeOn4FuyFmD5ASaS1If8No3krwZ6NcOKRPCVkAAAC3AZ6ldEK/\n",
       "AHl4BisoOBgaoYhppbAA/R1fbMhQuxrjtORa9EBgNZ5b4A3x95OSBl+iPF2TjJ7Zf9imFjpvD8Ax\n",
       "LG+lGFTmCz7J6T/wgjJVqkg9lyAzfyqMy/mTDV5+anMv58G1yRb9R4QOjNwoPpAYujYfYk9aenky\n",
       "r/bhQhJkKjv+fqujeFIs3uKUFJwonR3q22JAdfhj0Vp+QMmtcv3Jub2I8uYH7iYV/6FCim7xrnlk\n",
       "kdoawheBAAAAvgGep2pCvwB5mUhf9tA8ugATiFcRLC7d8L5BAP5uiPzM5HUfLQ8v8sz3cUdMFSrB\n",
       "AS9gkgOsh5H04aO1pMrxttrLH52YL1jxQVG+xrcAdY284IuzWwFfcWimbZzjCw+Kq+WRtzclWwIL\n",
       "XNERxjA/4Cj9NE12Cw+NBtPBQsus/r7Shc/p6AHdYED7L8OKBIx1M7edmxQ86O9W2xIDr8Meislt\n",
       "2xlxtaIFdO8iytT4qllklDgqxcI71aXrI841CkAAAAEQQZqsSahBbJlMCHf//qmWAEwn5gmSgBXn\n",
       "jbSMXC07AotHoXajeHsKeMTSvcEdHj1vWCPvjPjvTLwCEbLjLsVV9sQPwwMWPlwwxKP3206RuHsY\n",
       "vgyJZfNiyEW8ulbmDnnVn/AYRxGk81tpTYT1RapUTP/f0B4D8+wjalvM2NBpKyFASrzdrowdAf+e\n",
       "l6KSzGbRMiwtYu4WrZX03WGqf+ew2AEQUj+GJ2QqGxj6niN2QtMRrYzz4mac5Fhzbe1WbqHsXjul\n",
       "w85pEl5ezaTqFguA7Fa0oSVLNpy9eBN+rcmDzZZ6FcdRGWeqKuPkuMV9BOPur/aTrab9y8qEXVW1\n",
       "dLhIwstpNpDatEow2NRE9lTjEJgAAAD8QZ7KRRUsM/8AQVAT3kCpP1gk0AJmzQ1wVWUrAtG04N06\n",
       "+vLeGjztEGojykvMuZ+PHxDm8eQ8NTdYns5l6fIJZ7A16WCyBG7FGR5gjPki8ja6b43qFjGSX90T\n",
       "qzcbNkqD4LoDMdU0fYO2qgcccwAStA2OpgAgVgBqOXgqCTImMxsRZmEklv3Jlhf8dO40TyWefB1o\n",
       "+4+yE5OwQpZOAQpafpMZGklOas0PCWrCdkMQs0YtCstyNRq37RRMiQy5oKQoOWYCaPmavJTu0hpS\n",
       "Dm5OV7Ihf660mUafo3GoOIF0BaW5AtTJIxvZhpMwBV5XS8M15fE6TpYkGNtKyYjFAAAApQGe6XRC\n",
       "vwB5icDKHifii7gNp0ACWGu108KNnyO6fkw6CK5lVszJbGfq1vMdy+ikHnXb9fU+0YuHs0rjnezF\n",
       "WaJp17/k0RR6aMUTGAklP3uL6UMOaW/9Rm7ggnXOs+NKWYWo75F6w4UfV49pnpGLeach261arShT\n",
       "rTWp2jYZRw0RSJN+vzgf31W4+/uvzkyZPURa9Ok4tmq52QR/7MLZ+WnnjwWrUgAAALYBnutqQr8A\n",
       "PiyGRlKpA30AAPfbkKhXeY3XUffIOi9IvGAFPUlbrErPRoe7/O78rL+buKq1VAj5+RskJNGePPSH\n",
       "3+ZRiTIBZChROpeUaT/LFTR6f0dldb/I4l4ZYboFDcbx/lpeL/sWqQ5LhXeEa8vMgTsE4+6eNbPO\n",
       "97EYNaiRsv78QQcFuY93cp2SwFoOXdslIk36/OB/fVbj7+bDKTErb+pxJrQfHr6JGBZc0L4iQMdm\n",
       "EXQmYAAAAS1Bmu1JqEFsmUwId//+qZYATChEtoAcX34Cpc8OVgyEj+hfrAAvy8VQRCceDp1MucZ9\n",
       "+OwaAdnKH/6m7+h29LDcNzOsWHiMl2TDt189qqRl6Veqn5BKFdsbhIvRYIOOAG8bdyzVMjsVgVH4\n",
       "WH+9zhdM89bCJrvBYkTKpsfVVYCRaD5LMvPqdAT4cl+7naKPLR+HQar6Cy9WGNIM3Cn9wuHxzpbp\n",
       "XMlTfDXw6bE4bwb9kX7pviSc5dBSxXBjNWpyyVYA4am9GFtQ46BBgI5BzwMFEqs6zTq/37AK/u94\n",
       "SJdEy48gl5et+h2JRHbI85FOa1nGj2Jvsy2NDFyPKY9abn7giRA6T0Kzn3JgMjRKK+hW2Qkfz3Z3\n",
       "AmiIknvQaK/EOsNUBB4iKS1zEo7bx2zxAAAA7kGbEUnhClJlMCHf/qmWAEwUBsMzsvas4qqzlqu1\n",
       "yAD3PKG0o3wzVjvKzG2pwodOjbGDN/m2JqMNHGSjGPOFNKYu5G15JPSBQEe1gdPW4M+7Pat3v31e\n",
       "XMN1DZvyYjPK9dIY4ENxgdGVySplPgv53H3Xc7HnUgbiIx1N/D8hhelopleD1cg4ggW1GLN0q2Hp\n",
       "KCoFsuhefK1RpUJsgn1wzKxm6wbkfbngqUgILzdFI/cWqJB1zGKBsq3qoKsXs2rxJL5p9fQmVr7g\n",
       "jCGcBVSaO/ox0IM3Vm1BkEvhMxxstg4Wb1dTCF3KKp1bzbOv+08AAAD9QZ8vRTRMM/8AQVGKlG7I\n",
       "ALd+77u0bMiWmU4M2/wwjKC/zulc3Lmx3KqmOKQFljDeZPPAlPSGV3YSMerFv9O930LXo+1zmtpL\n",
       "ISXHk8H5jNc5EIxCqSlsT6UxBXGRG8OAfS7ql61TYyqxeDIPb/4nMeM2L5C6voqXJW+BUWuwRxr2\n",
       "VRfVxZUKaazz97JDqix5Tt+ZScugvqQrKPc99mZngS+UBtaYRQy2YaPIrr13oqmfnJGWB+hjpyQh\n",
       "9zawyEOGlv28aU6x+en/2msfzpU50nNbG0yCekZ9lFW/64xRbE/RIBAOOLUweoyBVrGeieltwr8e\n",
       "hbCZbqADYo9wxQAAAKIBn050Qr8AeArs5qA6XPg4vOt1FeIQAnDEzFxH8kX42iyqP72cAA+6RkVI\n",
       "eVUR5sDVEIfKTGgtF0mA1eAg+K4PuPyiVSc9DsGrU0nb3OzdK7WdSSNd3BvbdrAXj79X6KACikhN\n",
       "AZpcbSV0N3U+YcrqvBmria1ujLoz1uXviPR3q22JAdfhj0V3pjJPgjwexC6a6rXHKBuSNigAFKID\n",
       "HkapkkwAAACzAZ9QakK/AD4RkmMBwMPU58NQxsCABGFPSCklpp7EDCKp+cyDHeMDXq9JYGMiUSSv\n",
       "2jSw3Mrx/36we4stg+Htcx2gXbkXLCub8ZUhqZlzZ0bsLhcn/5jYeUFF8aLTfRl+4OdBhdX/1nns\n",
       "c83IA6kgzfUAsdqKaArhckUeadyx+SyL0OWKVDbtnHXukFxRroRPUWw0lbFHpjdV3u1ZHKwLsUxC\n",
       "cKpjoPw8r6KGFso4Qbq69OAAAAFaQZtSSahBaJlMCHf//qmWAE5/ukQ2Nh2DIozXJYBNzQojfr5n\n",
       "0wDOSXjHJ5QHd6yCeX2G4QG8X36ngqg1kAj6M2Nt0b7rNfjHaceu47k1qTp2Q1m2dwXbb+WxuASc\n",
       "iXZePD9gcroOOmq0RRwJh7KoDmNmHclv2wA8lNuLi7aJ6YiAghf+iuikcr0pl/wypTmPfMuHGEeb\n",
       "Ilk3q0bPgDZutYILHFn1Bzqi9HWSz7uVH/MXiuijdxSquFtcfR3RnDVNX6Ijj2t37PlyVTa0qmcj\n",
       "GV61FjVYFKR5H82cNCY1xyeWM9Z0GT60Ir4wDoiJKz5PmGkpxlucd+xV4Y+w7z1g7kUM1A0JoI8j\n",
       "OElTiGBRghcsBdKwLwZrAQSGr9pqjL/Q/AwuLS4cfNSd3luQLnOzl8mLZrDTlijEKxenySLEnPRl\n",
       "PJNRLc49KXbmBPN6cpzjW1rFvYxox0uOwQAAARNBm3ZJ4QpSZTAh3/6plgBOCgwaKAFhHJ92UN31\n",
       "d9k7na0gLKcqoLCGBUPpo62sf7bM7+vnJWRKDZYieUCAbtSDy5+RsAokRcsXrTD358Hl0dLhLhtp\n",
       "KiJBU8d30bX8Ka+kB2iQzLKZBI9bG6VhgI/g5uwP+J6/zp3/1g88ojX5SNSX64jjSMKARD28lvVK\n",
       "tg3M+ko29KlJd9rUaQiFWEYL8Xmk5Jtqv1k2ucE5hqpBjwBqd+SvncCuFv+7Ypd2N4luIY9Tu1Wd\n",
       "Xn+qoCGzsTdXpYe7Py5ZCWUVAT5pNpYcsLNDmQM8/7giBK0jotH9l+/z4FQMbQ8zWkST6WFx9FUc\n",
       "2BdJO62ANaFCv5BIXfFh3MfZ6AAAASlBn5RFNEwz/wBDPmDdwAFhWdzq1xR+GLtwpTAByGEzOsJ0\n",
       "BWwx22OxYcAnGLirfPLKbhkiHDKe63aL6lD2TTxFgDScDU/l2rme2vV+gKU119p4WOcIE7hhphgP\n",
       "y3e/JtCjw7HWxrl+AJ41yHBWyR9KgJLnPSwlNNHuex1f5nlIVu7YgcMhazztxaD9CNJ3jF+ebMyh\n",
       "1jkFz0F1XXGlSCObgN5sFwpnbKhTVSnMvA8cIlY5/b3k/Zs+TIitl9JQGWi7/5ROC0CsUaZQVKKH\n",
       "vrPvd8/vhx5osgNSiAAf9upqWH3D6bOpz0GdWy9M5j531TMqEUMA7KnULT/M/9prH86VOdJzWxtM\n",
       "oGWXy/v3RlfIWpifoiWin4HFJOEgAPL8yyyjV4E62jhB6/kAAACcAZ+zdEK/AHwIXv22YAP2fUPH\n",
       "iFBQBS1efWd8vp5i412akGarD4jp8T5PEcJOoaADfEKUOmEIwBvkgiSkPHnqT9ou1ur68L4jVq4Q\n",
       "wsXrgEmr4ujkhA/Wf7tkfA/MSB5DSuwcjYPmRbSb8991e73/koOFXaOkjun/cgb8O0GP36iB0d6t\n",
       "tiQHX4Y9FZa1MwS9XZTEETbB/vChiluBAAAAlQGftWpCvwB8PF4/2czw/e326CAB4Nomg2fEThwy\n",
       "NKuxqhRvyWyW3hRl/DrsR/ZIxZP/NYViHyx0GhDvudishrBw/vlFMsP5rb61Rb78/rBWdB7Poopc\n",
       "i7aJPje7zrTJRcn6Z3mdsFxtJqQkUeadyx+hsM7mRheZxgYFQsrRSNUlUT+qZtv7bKOOOjU2olcz\n",
       "r+I9cFzgAAAA0UGbukmoQWiZTAhv//6nhACajyyr5WHQmbRhIueACvBhXH6UKv+qwaxghE5xCWPH\n",
       "9/UPs9FKfds3+vwv8DEAVHT2hhira91XtnKASmxctkolWLDcNDDiVXDEw/bFcsQ7Rr2UbBbs/CvW\n",
       "AENjZFuQ93vzEMAJdywOx/ALadIvuUnHnvUTmEjR2cQty8zgbA9f1a16vB/roivaAkcIzOUvHCjC\n",
       "Y2WlqZduU9HhAnX3BHUG7XLTDf5p/XzdtjYKedGgCggJCoMaLU5G6BEAmXo0ST1zAAAAwEGf2EUR\n",
       "LDP/AEVuIgLTEiKTTAANdgIgKjYD9SzNGK/KTI5BqR7XLWh77Sita5Be+LoV+hlXfqrsj0E0tx0U\n",
       "3rA+lRmwmZBmADcTb5wQ/hMhEc+dKYM5GR+b77KpPUDwHPuF/nn+bGEtyNlRZvYZsTt7AGRKGctX\n",
       "ABuJNbGd7MKYXVJ/LKTI/oLyw5bbIo7uyEApLvAbSGlIObk5Xs1sbTIMnbx+K/dGV8hamJ+iQCAc\n",
       "crMbrl3SPqAaTK0PhAlJiQAAAJ8Bn/d0Qr8AfJAsAHDYp626ExwsWHz4g2OnVT+kRhTdvYumlHOa\n",
       "E0rRsrEk7b2FDEFrh2xMhQjqodPXfwHmuphDLtD7xsK8eN+sQlI9Jlxcn4D2w1plwGrF1pc91smn\n",
       "yvvRRSM0l660DSH61P+Oyz2Oed0iKjLNtv+IaU8h3GVn6cCCWh6O9W2xIDr8MeitLvjSNFCovl1g\n",
       "PZN6PkXQTYAAAAD5AZ/5akK/AH8ZSFBlpr9n3keZS1KmeqwATYvadPJceszgBBcEcFBTuZJgJz4n\n",
       "co6uOexCTLw5TpluaJuhjwvVxQvFSoN6TBZBMFCNGE3pUyulkzte1wxJd4EjxZ8z3HAESsp72tcC\n",
       "iYfMc1/+ae1lsvy9gTX+53gFpEnlOJ75Fa27QkMo4TwbM0WK24LQNCRQA65cRM+BuVdna2vPdKxK\n",
       "V5QmBxSv1p3fYapju1YPj1+PuSGMVUMALeP7CSmKJ2+dFDt8QXKowzNU/T17aKPNO5Y/JZF6HLFK\n",
       "i6exP+XSC4o10InqLYaStC1F3/bSp/5WnY+MAytUs0yBAAAA50Gb/UmoQWyZTAhX//44QAloheAk\n",
       "nOErZfUu/bYR9FlXE4Rbw3qLR9/XvQHfcHmdE3pSKgms8eYpLwVqJ9J1gxA/qSjuXcL0riaR6n4b\n",
       "IaZ/E0E8Qd4HRuxp2fqaLWnwCB6jnY2W7rjerfTkbNOGnVpJJPfpznX5uYSQ2kJkapzXZS2weYdM\n",
       "LJga0gKPmAay7rErAsxyh5x7fZWhHoRqcu+cbnc3JTMyRa3CSb2nkpjhdtAcFfbWTJR1AkGgUFDI\n",
       "Hc1hYo807lj8lkXocsUqLTcB+7//eKNdCJ6i2GkuG0kozs+Noxu5oQAAALRBnhxCFf8AfyvFMODP\n",
       "/xxYAH557l/7u5UKHRVBf9rKnk7ZQZ2LQlFJ7zu4jOunXjkGD9d3JKz/eUlbdCTW/CvUEX6yvn8L\n",
       "VhbS0lweG8zubnyVQMmJbBesCd6xZCbJPhcsHaA/yTWgog1TlwfzzibukB8qm1JaXKh55UVJVGYA\n",
       "BzeJBjOggEwqrX7pYo807lj9DYZ3MjDS3fkSZ0guKNdEhNVGgL66zJIZS2Qxb4s0gB+n44EAAADZ\n",
       "AZ47aRCvAH8ry7GgAXIyO+H4IBXe/ocC+oCtJCGG31PoTltvENMEiMIo1UQwS8dmN9WeP2A79j9m\n",
       "6hINSUMJWjBY/Rz5CFN6HzWIioHUPhkBivEjTPuPqnHlMxhVNHW6vTxHa4JjuzXReXDKvu+Fvd5K\n",
       "uVMhl2WlnkIXxlkyQe5dPvitPipUWJ4mrrPRa4ZnJqC5MtLFiVzI2NZ3bZjyetK+8e2SB7Bgjdh0\n",
       "eadyx+SyL0OWKVFqCK48GhZWikaiW7xHqdbZFLlBpyLMy4wiUY1Fp6WgSnDSmQAABJZtb292AAAA\n",
       "bG12aGQAAAAAAAAAAAAAAAAAAAPoAAAF3AABAAABAAAAAAAAAAAAAAAAAQAAAAAAAAAAAAAAAAAA\n",
       "AAEAAAAAAAAAAAAAAAAAAEAAAAAAAAAAAAAAAAAAAAAAAAAAAAAAAAAAAAAAAAACAAADwHRyYWsA\n",
       "AABcdGtoZAAAAAMAAAAAAAAAAAAAAAEAAAAAAAAF3AAAAAAAAAAAAAAAAAAAAAAAAQAAAAAAAAAA\n",
       "AAAAAAAAAAEAAAAAAAAAAAAAAAAAAEAAAAABsAAAASAAAAAAACRlZHRzAAAAHGVsc3QAAAAAAAAA\n",
       "AQAABdwAAAQAAAEAAAAAAzhtZGlhAAAAIG1kaGQAAAAAAAAAAAAAAAAAACgAAAA8AFXEAAAAAAAt\n",
       "aGRscgAAAAAAAAAAdmlkZQAAAAAAAAAAAAAAAFZpZGVvSGFuZGxlcgAAAALjbWluZgAAABR2bWhk\n",
       "AAAAAQAAAAAAAAAAAAAAJGRpbmYAAAAcZHJlZgAAAAAAAAABAAAADHVybCAAAAABAAACo3N0YmwA\n",
       "AACzc3RzZAAAAAAAAAABAAAAo2F2YzEAAAAAAAAAAQAAAAAAAAAAAAAAAAAAAAABsAEgAEgAAABI\n",
       "AAAAAAAAAAEAAAAAAAAAAAAAAAAAAAAAAAAAAAAAAAAAAAAAAAAAAAAY//8AAAAxYXZjQwFkABX/\n",
       "4QAYZ2QAFazZQbCWhAAAAwAEAAADAKA8WLZYAQAGaOvjyyLAAAAAHHV1aWRraEDyXyRPxbo5pRvP\n",
       "AyPzAAAAAAAAABhzdHRzAAAAAAAAAAEAAAAeAAACAAAAABRzdHNzAAAAAAAAAAEAAAABAAABAGN0\n",
       "dHMAAAAAAAAAHgAAAAEAAAQAAAAAAQAACgAAAAABAAAEAAAAAAEAAAAAAAAAAQAAAgAAAAABAAAK\n",
       "AAAAAAEAAAQAAAAAAQAAAAAAAAABAAACAAAAAAEAAAoAAAAAAQAABAAAAAABAAAAAAAAAAEAAAIA\n",
       "AAAAAQAABAAAAAABAAAKAAAAAAEAAAQAAAAAAQAAAAAAAAABAAACAAAAAAEAAAQAAAAAAQAACgAA\n",
       "AAABAAAEAAAAAAEAAAAAAAAAAQAAAgAAAAABAAAKAAAAAAEAAAQAAAAAAQAAAAAAAAABAAACAAAA\n",
       "AAEAAAgAAAAAAQAABAAAAAABAAAAAAAAABxzdHNjAAAAAAAAAAEAAAABAAAAHgAAAAEAAACMc3Rz\n",
       "egAAAAAAAAAAAAAAHgAAFbYAAAKWAAABEQAAAMAAAADNAAABVQAAASgAAAC7AAAAwgAAARQAAAEA\n",
       "AAAAqQAAALoAAAExAAAA8gAAAQEAAACmAAAAtwAAAV4AAAEXAAABLQAAAKAAAACZAAAA1QAAAMQA\n",
       "AACjAAAA/QAAAOsAAAC4AAAA3QAAABRzdGNvAAAAAAAAAAEAAAAsAAAAYnVkdGEAAABabWV0YQAA\n",
       "AAAAAAAhaGRscgAAAAAAAAAAbWRpcmFwcGwAAAAAAAAAAAAAAAAtaWxzdAAAACWpdG9vAAAAHWRh\n",
       "dGEAAAABAAAAAExhdmY1Ni40MC4xMDE=\n",
       "\">\n",
       "  Your browser does not support the video tag.\n",
       "</video>"
      ],
      "text/plain": [
       "<IPython.core.display.HTML object>"
      ]
     },
     "execution_count": 13,
     "metadata": {},
     "output_type": "execute_result"
    }
   ],
   "source": [
    "anim = animation.FuncAnimation(fig, animate, frames=rho_n, interval=50)\n",
    "HTML(anim.to_html5_video())"
   ]
  },
  {
   "cell_type": "markdown",
   "metadata": {},
   "source": [
    "This MUSCL scheme does not show any of the oscillations you might see with MacCormack or Lax-Wendroff, but the features are not as sharp. Using the _minmod_ slopes led to some smearing of the shock, which motivated many researchers to investigate other options. Bucketloads of so-called _shock-capturing_ schemes exist and whole books are written on this topic. Some people dedicate their lives to developing numerical methods for hyperbolic equations!"
   ]
  },
  {
   "cell_type": "markdown",
   "metadata": {},
   "source": [
    "##### Challenge task"
   ]
  },
  {
   "cell_type": "markdown",
   "metadata": {},
   "source": [
    "* Go back to Sod! Calculate the shock-tube problem using the MUSCL scheme and compare with your previous results. What do think?"
   ]
  },
  {
   "cell_type": "markdown",
   "metadata": {},
   "source": [
    "## References"
   ]
  },
  {
   "cell_type": "markdown",
   "metadata": {},
   "source": [
    "* Godunov, S.K. (1959), \"A difference scheme for numerical computation of discontinuous solutions of equations of fluid dynamics,\" _Math. Sbornik_, Vol. 47, pp. 271–306.\n",
    "\n",
    "* van Leer, Bram (1979), \"Towards the ultimate conservative difference scheme, V. A second-order sequel to Godunov's method,\" _J. Comput. Phys._, Vol. 32, pp. 101–136\n",
    "\n",
    "* van Leer, B., J.L. Thomas, P.L. Roe, R.W. Newsome (1987). \"A comparison of numerical flux formulas for the Euler and Navier-Stokes equations,\" AIAA paper 87-1104 // [PDF from umich.edu](http://deepblue.lib.umich.edu/bitstream/handle/2027.42/76365/AIAA-1987-1104-891.pdf), checked 11/01/14.\n",
    "\n",
    "* Shu, Chi-Wang and Osher, Stanley (1988). \"Efficient implementation of essentially non-oscillatory shock-capturing schemes,\" _J. Comput. Phys._, Vol. 77, pp. 439–471 // [PDF from NASA Tech. Report server](http://ntrs.nasa.gov/archive/nasa/casi.ntrs.nasa.gov/19870013797.pdf)"
   ]
  },
  {
   "cell_type": "markdown",
   "metadata": {},
   "source": [
    "---\n",
    "\n",
    "###### The cell below loads the style of the notebook."
   ]
  },
  {
   "cell_type": "code",
   "execution_count": 14,
   "metadata": {
    "collapsed": false
   },
   "outputs": [
    {
     "data": {
      "text/html": [
       "<link href='http://fonts.googleapis.com/css?family=Alegreya+Sans:100,300,400,500,700,800,900,100italic,300italic,400italic,500italic,700italic,800italic,900italic' rel='stylesheet' type='text/css'>\n",
       "<link href='http://fonts.googleapis.com/css?family=Arvo:400,700,400italic' rel='stylesheet' type='text/css'>\n",
       "<link href='http://fonts.googleapis.com/css?family=PT+Mono' rel='stylesheet' type='text/css'>\n",
       "<link href='http://fonts.googleapis.com/css?family=Shadows+Into+Light' rel='stylesheet' type='text/css'>\n",
       "<link href='http://fonts.googleapis.com/css?family=Nixie+One' rel='stylesheet' type='text/css'>\n",
       "<link href='https://fonts.googleapis.com/css?family=Source+Code+Pro' rel='stylesheet' type='text/css'>\n",
       "<style>\n",
       "\n",
       "@font-face {\n",
       "    font-family: \"Computer Modern\";\n",
       "    src: url('http://mirrors.ctan.org/fonts/cm-unicode/fonts/otf/cmunss.otf');\n",
       "}\n",
       "\n",
       "#notebook_panel { /* main background */\n",
       "    background: rgb(245,245,245);\n",
       "}\n",
       "\n",
       "div.cell { /* set cell width */\n",
       "    width: 750px;\n",
       "}\n",
       "\n",
       "div #notebook { /* centre the content */\n",
       "    background: #fff; /* white background for content */\n",
       "    width: 1000px;\n",
       "    margin: auto;\n",
       "    padding-left: 0em;\n",
       "}\n",
       "\n",
       "#notebook li { /* More space between bullet points */\n",
       "    margin-top:0.8em;\n",
       "}\n",
       "\n",
       "/* draw border around running cells */\n",
       "div.cell.border-box-sizing.code_cell.running { \n",
       "    border: 1px solid #111;\n",
       "}\n",
       "\n",
       "/* Put a solid color box around each cell and its output, visually linking them*/\n",
       "div.cell.code_cell {\n",
       "    background-color: rgb(256,256,256); \n",
       "    border-radius: 0px; \n",
       "    padding: 0.5em;\n",
       "    margin-left:1em;\n",
       "    margin-top: 1em;\n",
       "}\n",
       "\n",
       "div.text_cell_render{\n",
       "    font-family: 'Alegreya Sans' sans-serif;\n",
       "    line-height: 140%;\n",
       "    font-size: 125%;\n",
       "    font-weight: 400;\n",
       "    width:600px;\n",
       "    margin-left:auto;\n",
       "    margin-right:auto;\n",
       "}\n",
       "\n",
       "\n",
       "/* Formatting for header cells */\n",
       ".text_cell_render h1 {\n",
       "    font-family: 'Nixie One', serif;\n",
       "    font-style:regular;\n",
       "    font-weight: 400;    \n",
       "    font-size: 45pt;\n",
       "    line-height: 100%;\n",
       "    color: rgb(0,51,102);\n",
       "    margin-bottom: 0.5em;\n",
       "    margin-top: 0.5em;\n",
       "    display: block;\n",
       "}\n",
       "\n",
       ".text_cell_render h2 {\n",
       "    font-family: 'Nixie One', serif;\n",
       "    font-weight: 400;\n",
       "    font-size: 30pt;\n",
       "    line-height: 100%;\n",
       "    color: rgb(0,51,102);\n",
       "    margin-bottom: 0.1em;\n",
       "    margin-top: 0.3em;\n",
       "    display: block;\n",
       "}\t\n",
       "\n",
       ".text_cell_render h3 {\n",
       "    font-family: 'Nixie One', serif;\n",
       "    margin-top:16px;\n",
       "    font-size: 22pt;\n",
       "    font-weight: 600;\n",
       "    margin-bottom: 3px;\n",
       "    font-style: regular;\n",
       "    color: rgb(102,102,0);\n",
       "}\n",
       "\n",
       ".text_cell_render h4 {    /*Use this for captions*/\n",
       "    font-family: 'Nixie One', serif;\n",
       "    font-size: 14pt;\n",
       "    text-align: center;\n",
       "    margin-top: 0em;\n",
       "    margin-bottom: 2em;\n",
       "    font-style: regular;\n",
       "}\n",
       "\n",
       ".text_cell_render h5 {  /*Use this for small titles*/\n",
       "    font-family: 'Nixie One', sans-serif;\n",
       "    font-weight: 400;\n",
       "    font-size: 16pt;\n",
       "    color: rgb(163,0,0);\n",
       "    font-style: italic;\n",
       "    margin-bottom: .1em;\n",
       "    margin-top: 0.8em;\n",
       "    display: block;\n",
       "}\n",
       "\n",
       ".text_cell_render h6 { /*use this for copyright note*/\n",
       "    font-family: 'PT Mono', sans-serif;\n",
       "    font-weight: 300;\n",
       "    font-size: 9pt;\n",
       "    line-height: 100%;\n",
       "    color: grey;\n",
       "    margin-bottom: 1px;\n",
       "    margin-top: 1px;\n",
       "}\n",
       "\n",
       ".CodeMirror{\n",
       "    font-family: \"Source Code Pro\";\n",
       "    font-size: 90%;\n",
       "}\n",
       "\n",
       ".alert-box {\n",
       "    padding:10px 10px 10px 36px;\n",
       "    margin:5px;\n",
       "}\n",
       "\n",
       ".success {\n",
       "    color:#666600;\n",
       "    background:rgb(240,242,229);\n",
       "}\n",
       "</style>\n",
       "<script>\n",
       "    MathJax.Hub.Config({\n",
       "                        TeX: {\n",
       "                           extensions: [\"AMSmath.js\"],\n",
       "                           equationNumbers: { autoNumber: \"AMS\", useLabelIds: true}\n",
       "                           },\n",
       "                tex2jax: {\n",
       "                    inlineMath: [ ['$','$'], [\"\\\\(\",\"\\\\)\"] ],\n",
       "                    displayMath: [ ['$$','$$'], [\"\\\\[\",\"\\\\]\"] ]\n",
       "                },\n",
       "                displayAlign: 'center', // Change this to 'center' to center equations.\n",
       "                \"HTML-CSS\": {\n",
       "                    styles: {'.MathJax_Display': {\"margin\": 4}}\n",
       "                }\n",
       "        });\n",
       "</script>\n"
      ],
      "text/plain": [
       "<IPython.core.display.HTML object>"
      ]
     },
     "execution_count": 14,
     "metadata": {},
     "output_type": "execute_result"
    }
   ],
   "source": [
    "from IPython.core.display import HTML\n",
    "css_file = '../../styles/numericalmoocstyle.css'\n",
    "HTML(open(css_file, \"r\").read())"
   ]
  }
 ],
 "metadata": {
  "kernelspec": {
   "display_name": "Python [Root]",
   "language": "python",
   "name": "Python [Root]"
  },
  "language_info": {
   "codemirror_mode": {
    "name": "ipython",
    "version": 3
   },
   "file_extension": ".py",
   "mimetype": "text/x-python",
   "name": "python",
   "nbconvert_exporter": "python",
   "pygments_lexer": "ipython3",
   "version": "3.5.2"
  }
 },
 "nbformat": 4,
 "nbformat_minor": 0
}
