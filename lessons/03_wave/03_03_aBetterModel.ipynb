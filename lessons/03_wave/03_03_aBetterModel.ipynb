{
 "cells": [
  {
   "cell_type": "markdown",
   "metadata": {},
   "source": [
    "###### Content under Creative Commons Attribution license CC-BY 4.0, code under MIT license (c)2014 L.A. Barba, C.D. Cooper, G.F. Forsyth."
   ]
  },
  {
   "cell_type": "markdown",
   "metadata": {},
   "source": [
    "# Riding the wave"
   ]
  },
  {
   "cell_type": "markdown",
   "metadata": {},
   "source": [
    "We've reached the third lesson of the module _Riding the wave: Convection problems_, where we explore the numerical solution of conservation laws. We learned in the [first lesson](https://nbviewer.jupyter.org/github/numerical-mooc/numerical-mooc/blob/master/lessons/03_wave/03_01_conservationLaw.ipynb) how to think about conservation laws, starting with the most intuitive case: that of conservation of mass. But there are many physical quantities that can be conserved: energy, for example. Or cars on a road.\n",
    "\n",
    "Developing a conservation law for traffic in a one-lane roadway is fun, because we can relate to the insights it gives. We've all experienced traffic slowing down to a crawl when the density of cars gets very high, and stepping on the accelerator pedal with glee when there are no cars on the road!\n",
    "\n",
    "In the previous two lessons, we developed a traffic-flow model and explored [different choices of numerical scheme](https://nbviewer.jupyter.org/github/numerical-mooc/numerical-mooc/blob/master/lessons/03_wave/03_02_convectionSchemes.ipynb).  Not everything worked as you expected, and by now you might be realizing how some restrictions come about from the numerical methods themselves, while others still are imposed by the models we use. This lesson will develop a better traffic model, and also show you some impressive SymPy kung-fu."
   ]
  },
  {
   "cell_type": "markdown",
   "metadata": {},
   "source": [
    "## Traffic flow, revisited"
   ]
  },
  {
   "cell_type": "markdown",
   "metadata": {},
   "source": [
    "### A better flux model"
   ]
  },
  {
   "cell_type": "markdown",
   "metadata": {},
   "source": [
    "Like you saw in the first lesson, cars obey a typical conservation law,\n",
    "\n",
    "$$\n",
    "\\begin{equation}\n",
    "\\frac{\\partial \\rho}{\\partial t} + \\frac{\\partial F}{\\partial x} = 0\n",
    "\\end{equation}\n",
    "$$\n",
    "\n",
    "where $F$ is the flux, $F=\\rho u$—flux equals density times velocity. From our experience on the road, we know that the traffic speed is a function of traffic density, and we proposed as a first approximation a linear relation between the two. Thus,\n",
    "\n",
    "$$\n",
    "\\begin{equation}\n",
    "F(\\rho) = \\rho \\, u_{max}\\left(1 - \\frac{\\rho}{\\rho_{max}} \\right)\n",
    "\\end{equation}\n",
    "$$\n",
    "\n",
    "This flux model meets the two requirements, based on a qualitative view of traffic flow, that:\n",
    "1. $u \\rightarrow u_{max}$ and $F\\rightarrow 0$ when $\\rho \\rightarrow 0$.\n",
    "2. $u \\rightarrow 0$ as $\\rho \\rightarrow \\rho_{max}$\n",
    "\n",
    "However, it leads to some unrealistic or at least improbable results.  For example, note that if the traffic speed is a linear function of density, the flux function will be quadratic (see Figure 1). In this case, the maximum flux will occur when $\\rho^{\\star} = \\rho_{max}/2$, corresponding to a traffic speed $u_{max}/2$.  "
   ]
  },
  {
   "cell_type": "markdown",
   "metadata": {},
   "source": [
    "![velocity_and_flux](./figures/velocity_and_flux.png)\n",
    "#### Figure 1. Traffic speed (left) and flux (right) vs. density."
   ]
  },
  {
   "cell_type": "markdown",
   "metadata": {},
   "source": [
    "A good question to ask here is:  should the maximum flux on a given stretch of road have a strict dependence on the maximum speed that the roadway allows, be it by physical restrictions or posted speed limits? In other words, do we really expect the maximum flux to increase if we allow arbitrarily high speeds? \n",
    "\n",
    "Probably not.  But there *should* be some ideal traffic speed, $u^{\\star}$, corresponding to an ideal traffic density, $\\rho^{\\star}$, resulting in the maximum traffic flux:\n",
    "\n",
    "$$\n",
    "\\begin{equation}\n",
    "F_{\\rm max} = \\rho^{\\star}u^{\\star}\n",
    "\\end{equation}\n",
    "$$\n",
    "\n",
    "Let us improve the initial flux model by taking this observation into account. One thing that we can try is to introduce a flux model that is cubic in $\\rho$ instead of quadratic:\n",
    "\n",
    "$$\n",
    "\\begin{equation}\n",
    "F(\\rho) = u_{\\rm max}\\rho (1 - A\\rho - B \\rho^2)\n",
    "\\end{equation}\n",
    "$$\n",
    "\n",
    "This new model still meets the first criterion listed above: $F\\rightarrow 0$ when $\\rho \\rightarrow 0$. Moreover, we impose the following conditions:\n",
    "\n",
    "* When $\\rho = \\rho_{\\rm max}$ traffic flux goes to zero:\n",
    "\n",
    "$$\n",
    "\\begin{equation}\n",
    "F(\\rho_{\\rm max}) = 0 = u_{\\rm max}\\, \\rho_{\\rm max}(1 - A \\rho_{\\rm max} - B \\rho_{\\rm max}^2)\n",
    "\\end{equation}\n",
    "$$\n",
    "\n",
    "* Based on eq. (3), maximum flux occurs when $\\rho = \\rho^{\\star}$ and $F'(\\rho^{\\star}) = 0$:\n",
    "\n",
    "$$\n",
    "\\begin{equation}\n",
    "F'(\\rho^{\\star}) = 0  = u_{\\rm max}(1 - 2A\\rho^{\\star} - 3B(\\rho^{\\star})^2)\n",
    "\\end{equation}\n",
    "$$\n",
    "\n",
    "* $u^{\\star}$ is obtained when $\\rho = \\rho^{\\star}$:\n",
    "\n",
    "$$\n",
    "\\begin{equation}\n",
    "u^{\\star} = u_{\\rm max}(1 - A \\rho^{\\star} - B(\\rho^{\\star})^2)\n",
    "\\end{equation}\n",
    "$$\n",
    "\n",
    "We have three equations and four unknowns $A,B,\\rho^{\\star}, u^{\\star}$. However, in practice, the ideal traffic speed could be obtained for a given road by observations. Similarly to $u_{max}$ and $\\rho_{max}$ it will therefore be taken as a parameter."
   ]
  },
  {
   "cell_type": "markdown",
   "metadata": {},
   "source": [
    "### Solving the new flux equation"
   ]
  },
  {
   "cell_type": "markdown",
   "metadata": {},
   "source": [
    "Equations $(5)$, $(6)$, and $(7)$ are not incredibly difficult to solve with pen and paper. Instead of following that route, we can use [SymPy](http://sympy.org/en/index.html), the symbolic mathematics library of Python.  You used SymPy already in the [Burgers' equation lesson](https://nbviewer.jupyter.org/github/numerical-mooc/numerical-mooc/blob/master/lessons/02_spacetime/02_04_1DBurgers.ipynb) of Module 2, _\"Space & Time\"_, and you will learn some new functionalities here.\n",
    "\n",
    "We begin by importing SymPy, initializing $\\LaTeX$ printing and defining a set of symbolic variables that we'll use in the calculations. Remember: variables are not defined automatically, you have to tell SymPy that a name will correspond to a symbolic variable by using the keyword `symbols`. This behavior is different from many other symbolic math systems that implicitly construct symbols for you, so you may be perplexed if you've used these other sytems before. The reason for this behavior in SymPy is that the system is fully built on Python, a general-purpose language that needs you to define all objects before using them."
   ]
  },
  {
   "cell_type": "code",
   "execution_count": 1,
   "metadata": {},
   "outputs": [],
   "source": [
    "import sympy\n",
    "sympy.init_printing()\n",
    "\n",
    "(u_max, u_star, rho_max,\n",
    " rho_star, A, B) = sympy.symbols('u_max u_star rho_max rho_star A B')"
   ]
  },
  {
   "cell_type": "markdown",
   "metadata": {},
   "source": [
    "Notice that we used the special character `_` (the under-dash) to create a symbol with a subscript. Here, for example, we've created the symbols $u_{max}$ and $u_{star}$, representing $u_{\\rm max}$ and $u^{\\star}$ ($u$-star) in the equations, and assigned them to the variable names `u_max` and `u_star`. SymPy also allows you to create symbols with a superscript by means of the special character `^`. Be careful, though: SymPy is built on Python, so you denote an exponent in an expression by `**` (this may also be different from other symbolic math systems that you have used in the past).\n",
    "\n",
    "Next, use `sympy.Eq()` to define the three equations—corresponding to Equations $(5)$, $(6)$ and $(7)$, above—in terms of symbolic variables. The function `sympy.Eq()` creates an equality between two SymPy objects, passed as arguments separated by a comma. We need to remember that the equal sign in Python is used for variable assignment, and for that reason it cannot be used to build a symbolic equation with SymPy. That is why we need `sympy.Eq()` to create symbolic equalities. But the equal sign _is_ used to _assign_ an equation to a name: here, `eq1`, `eq2`, `eq3` are names for the symbolic equalities we create with `sympy.Eq()`."
   ]
  },
  {
   "cell_type": "code",
   "execution_count": 2,
   "metadata": {},
   "outputs": [],
   "source": [
    "eq1 = sympy.Eq(0, u_max * rho_max * (1 - A * rho_max - B * rho_max**2))\n",
    "eq2 = sympy.Eq(0, u_max * (1 - 2 * A * rho_star - 3 * B * rho_star**2))\n",
    "eq3 = sympy.Eq(u_star, u_max * (1 - A * rho_star - B * rho_star**2))"
   ]
  },
  {
   "cell_type": "markdown",
   "metadata": {},
   "source": [
    "Check this out: you can display these equations in pretty typeset mathematics just by executing their name in a code cell:"
   ]
  },
  {
   "cell_type": "code",
   "execution_count": 3,
   "metadata": {},
   "outputs": [
    {
     "data": {
      "image/png": "[encoded data removed]",
      "text/latex": [
       "$$0 = \\rho_{max} u_{max} \\left(- A \\rho_{max} - B \\rho_{max}^{2} + 1\\right)$$"
      ],
      "text/plain": [
       "              ⎛                2    ⎞\n",
       "0 = ρₘₐₓ⋅uₘₐₓ⋅⎝-A⋅ρₘₐₓ - B⋅ρₘₐₓ  + 1⎠"
      ]
     },
     "execution_count": 3,
     "metadata": {},
     "output_type": "execute_result"
    }
   ],
   "source": [
    "eq1"
   ]
  },
  {
   "cell_type": "code",
   "execution_count": 4,
   "metadata": {},
   "outputs": [
    {
     "data": {
      "image/png": "[encoded data removed]",
      "text/latex": [
       "$$0 = u_{max} \\left(- 2 A \\rho_{star} - 3 B \\rho_{star}^{2} + 1\\right)$$"
      ],
      "text/plain": [
       "         ⎛                      2    ⎞\n",
       "0 = uₘₐₓ⋅⎝-2⋅A⋅ρₛₜₐᵣ - 3⋅B⋅ρₛₜₐᵣ  + 1⎠"
      ]
     },
     "execution_count": 4,
     "metadata": {},
     "output_type": "execute_result"
    }
   ],
   "source": [
    "eq2"
   ]
  },
  {
   "cell_type": "code",
   "execution_count": 5,
   "metadata": {},
   "outputs": [
    {
     "data": {
      "image/png": "[encoded data removed]",
      "text/latex": [
       "$$u_{star} = u_{max} \\left(- A \\rho_{star} - B \\rho_{star}^{2} + 1\\right)$$"
      ],
      "text/plain": [
       "             ⎛                  2    ⎞\n",
       "uₛₜₐᵣ = uₘₐₓ⋅⎝-A⋅ρₛₜₐᵣ - B⋅ρₛₜₐᵣ  + 1⎠"
      ]
     },
     "execution_count": 5,
     "metadata": {},
     "output_type": "execute_result"
    }
   ],
   "source": [
    "eq3"
   ]
  },
  {
   "cell_type": "markdown",
   "metadata": {},
   "source": [
    "As stressed above, we have three equations with three unknowns (assuming we have some observed value of $u_{star}$, corresponding to the ideal traffic speed)—there must be a solution!\n",
    "\n",
    "To eliminate the term with $B$ in `eq2`, leaving it only in terms of $A$ and $\\rho^{\\star}$, we might subtract `3*eq3`.  But this will not work in SymPy if you attempt equation subtraction using the equation names. Just like we couldn't use the equal sign (which in Python means assignment) to create a symbolic equality (needing `sympy.Eq` instead), we can't use mathematical operators directly on the SymPy equations, because they are really _equalities_. What does it mean to subtract two _equalities_? It doesn't make sense. Try it ..."
   ]
  },
  {
   "cell_type": "code",
   "execution_count": 6,
   "metadata": {},
   "outputs": [
    {
     "data": {
      "image/png": "[encoded data removed]",
      "text/latex": [
       "$$\\left(0 = u_{max} \\left(- 2 A \\rho_{star} - 3 B \\rho_{star}^{2} + 1\\right)\\right) - 3 \\left(u_{star} = u_{max} \\left(- A \\rho_{star} - B \\rho_{star}^{2} + 1\\right)\\right)$$"
      ],
      "text/plain": [
       "⎛         ⎛                      2    ⎞⎞     ⎛             ⎛                  \n",
       "⎝0 = uₘₐₓ⋅⎝-2⋅A⋅ρₛₜₐᵣ - 3⋅B⋅ρₛₜₐᵣ  + 1⎠⎠ - 3⋅⎝uₛₜₐᵣ = uₘₐₓ⋅⎝-A⋅ρₛₜₐᵣ - B⋅ρₛₜₐᵣ\n",
       "\n",
       "2    ⎞⎞\n",
       "  + 1⎠⎠"
      ]
     },
     "execution_count": 6,
     "metadata": {},
     "output_type": "execute_result"
    }
   ],
   "source": [
    "eq2 - 3 * eq3"
   ]
  },
  {
   "cell_type": "markdown",
   "metadata": {},
   "source": [
    "See?  SymPy just printed out what you suggested but it did not manipulate algebraically the left and right sides of `eq2` like we were aiming for. What we _can_ do is create a _new_ equation, perform the left-hand side (LHS) and right-hand side (RHS) operations separately and then recombine them into our desired result. For this, it is helpful to know that there are built-in properties of a SymPy equality for the left-hand side and the right-hand side of the equality. Check it out:"
   ]
  },
  {
   "cell_type": "code",
   "execution_count": 7,
   "metadata": {},
   "outputs": [
    {
     "data": {
      "image/png": "[encoded data removed]",
      "text/latex": [
       "$$- 3 u_{star} = u_{max} \\left(- 2 A \\rho_{star} - 3 B \\rho_{star}^{2} + 1\\right) - 3 u_{max} \\left(- A \\rho_{star} - B \\rho_{star}^{2} + 1\\right)$$"
      ],
      "text/plain": [
       "                ⎛                      2    ⎞          ⎛                  2   \n",
       "-3⋅uₛₜₐᵣ = uₘₐₓ⋅⎝-2⋅A⋅ρₛₜₐᵣ - 3⋅B⋅ρₛₜₐᵣ  + 1⎠ - 3⋅uₘₐₓ⋅⎝-A⋅ρₛₜₐᵣ - B⋅ρₛₜₐᵣ  + \n",
       "\n",
       " ⎞\n",
       "1⎠"
      ]
     },
     "execution_count": 7,
     "metadata": {},
     "output_type": "execute_result"
    }
   ],
   "source": [
    "eq4 = sympy.Eq(eq2.lhs - 3 * eq3.lhs, eq2.rhs - 3 * eq3.rhs)\n",
    "eq4"
   ]
  },
  {
   "cell_type": "markdown",
   "metadata": {},
   "source": [
    "That still needs a little work. SymPy offers several methods to help reduce expressions. You can use [`simplify()`](http://docs.sympy.org/latest/modules/simplify/simplify.html?highlight=simplify#sympy.simplify.simplify.simplify) to attempt to make the expression \"simpler,\" but you can imagine that the quality of an expression being simple is not well defined. One may expect the simpler expression to be shorter, maybe; but not always. The SymPy `simplify()` function applies several strategies, heuristically, to give you an equivalent reduced expression. But some expressions are uncooperative and `simplify()` gives up, returning the argument unchanged. Let's see what it can do with our expression `eq4`."
   ]
  },
  {
   "cell_type": "code",
   "execution_count": 8,
   "metadata": {},
   "outputs": [
    {
     "data": {
      "image/png": "[encoded data removed]",
      "text/latex": [
       "$$- 3 u_{star} = u_{max} \\left(A \\rho_{star} - 2\\right)$$"
      ],
      "text/plain": [
       "-3⋅uₛₜₐᵣ = uₘₐₓ⋅(A⋅ρₛₜₐᵣ - 2)"
      ]
     },
     "execution_count": 8,
     "metadata": {},
     "output_type": "execute_result"
    }
   ],
   "source": [
    "eq4.simplify()"
   ]
  },
  {
   "cell_type": "markdown",
   "metadata": {},
   "source": [
    "That is actually a useful result. We see that `eq4` allows solving for $\\rho^{\\star}$ in terms of $A$, for example (remember that $u_{max}$ is known: the road's maximum velocity). Then we could try to manipulate `eq1` to solve for $B$ in terms of $A$, as well, so that we can substitute back in `eq2` leaving everything in terms of $A$. We can do all that without the help of `simplify()`, but using it interactively to reason about the long expression helped us to decide on a course of action.\n",
    "\n",
    "Another SymPy function that can help us examine complicated expressions is [`expand()`](http://docs.sympy.org/latest/modules/core.html?highlight=expand#sympy.core.function.expand). Its purpose is to expand bracketed factors in expressions and group powers of symbols. Let's see what that does here. Notice first that `eq4` hasn't changed; we just printed the result of applying `simplify()` to it."
   ]
  },
  {
   "cell_type": "code",
   "execution_count": 9,
   "metadata": {},
   "outputs": [
    {
     "data": {
      "image/png": "[encoded data removed]",
      "text/latex": [
       "$$- 3 u_{star} = u_{max} \\left(- 2 A \\rho_{star} - 3 B \\rho_{star}^{2} + 1\\right) - 3 u_{max} \\left(- A \\rho_{star} - B \\rho_{star}^{2} + 1\\right)$$"
      ],
      "text/plain": [
       "                ⎛                      2    ⎞          ⎛                  2   \n",
       "-3⋅uₛₜₐᵣ = uₘₐₓ⋅⎝-2⋅A⋅ρₛₜₐᵣ - 3⋅B⋅ρₛₜₐᵣ  + 1⎠ - 3⋅uₘₐₓ⋅⎝-A⋅ρₛₜₐᵣ - B⋅ρₛₜₐᵣ  + \n",
       "\n",
       " ⎞\n",
       "1⎠"
      ]
     },
     "execution_count": 9,
     "metadata": {},
     "output_type": "execute_result"
    }
   ],
   "source": [
    "eq4"
   ]
  },
  {
   "cell_type": "markdown",
   "metadata": {},
   "source": [
    "And now we print the result of applying `expand()` to it."
   ]
  },
  {
   "cell_type": "code",
   "execution_count": 10,
   "metadata": {},
   "outputs": [
    {
     "data": {
      "image/png": "[encoded data removed]",
      "text/latex": [
       "$$- 3 u_{star} = A \\rho_{star} u_{max} - 2 u_{max}$$"
      ],
      "text/plain": [
       "-3⋅uₛₜₐᵣ = A⋅ρₛₜₐᵣ⋅uₘₐₓ - 2⋅uₘₐₓ"
      ]
     },
     "execution_count": 10,
     "metadata": {},
     "output_type": "execute_result"
    }
   ],
   "source": [
    "eq4.expand()"
   ]
  },
  {
   "cell_type": "markdown",
   "metadata": {},
   "source": [
    "That's very similar to our previous result, except without the bracketed factor. Simplifying an expression can be accomplished by expanding or factoring terms, or a combination of the two. Whether to `simplify()` or `expand()` depends on the situation and you just have to experiment.\n",
    "\n",
    "We now have an idea of what to do with our three equations. We'll get expressions in terms of $A$ from `eq4` and `eq1` and substitute them back into `eq2`. For that, we can use the SymPy functions [`solve()`](http://docs.sympy.org/dev/modules/solvers/solvers.html#sympy.solvers.solvers.solve) and `subs()`, respectively. The arguments to `solve()` are the equality that needs to be solved, and the symbol to solve for.\n",
    "\n",
    "**Note**: `sympy.solve()` always returns results in a *list*, since you often end up with multiple solutions for a given variable.  These linear equations will only return one solution, so we can skip a step and ask right away for the `[0]`-th element of the list."
   ]
  },
  {
   "cell_type": "code",
   "execution_count": 11,
   "metadata": {},
   "outputs": [
    {
     "data": {
      "image/png": "[encoded data removed]",
      "text/latex": [
       "$$\\frac{2 u_{max} - 3 u_{star}}{A u_{max}}$$"
      ],
      "text/plain": [
       "2⋅uₘₐₓ - 3⋅uₛₜₐᵣ\n",
       "────────────────\n",
       "     A⋅uₘₐₓ     "
      ]
     },
     "execution_count": 11,
     "metadata": {},
     "output_type": "execute_result"
    }
   ],
   "source": [
    "rho_sol = sympy.solve(eq4, rho_star)[0]\n",
    "rho_sol"
   ]
  },
  {
   "cell_type": "code",
   "execution_count": 12,
   "metadata": {},
   "outputs": [
    {
     "data": {
      "image/png": "[encoded data removed]",
      "text/latex": [
       "$$\\frac{- A \\rho_{max} + 1}{\\rho_{max}^{2}}$$"
      ],
      "text/plain": [
       "-A⋅ρₘₐₓ + 1\n",
       "───────────\n",
       "       2   \n",
       "   ρₘₐₓ    "
      ]
     },
     "execution_count": 12,
     "metadata": {},
     "output_type": "execute_result"
    }
   ],
   "source": [
    "B_sol = sympy.solve(eq1, B)[0]\n",
    "B_sol"
   ]
  },
  {
   "cell_type": "markdown",
   "metadata": {},
   "source": [
    "The arguments to the SymPy function [`subs()`](http://docs.sympy.org/dev/modules/core.html#sympy.core.basic.Basic.subs) are given as (old, new) pairs, where the \"new\" expression substitutes the \"old\" one. So here, in `eq2`, we substitute `rho_sol` in place of `rho_star` and we substitute `B_sol` in place of `B`."
   ]
  },
  {
   "cell_type": "code",
   "execution_count": 13,
   "metadata": {},
   "outputs": [
    {
     "data": {
      "image/png": "[encoded data removed]",
      "text/latex": [
       "$$0 = u_{max} \\left(1 - \\frac{2 \\left(2 u_{max} - 3 u_{star}\\right)}{u_{max}} - \\frac{3 \\left(2 u_{max} - 3 u_{star}\\right)^{2} \\left(- A \\rho_{max} + 1\\right)}{A^{2} \\rho_{max}^{2} u_{max}^{2}}\\right)$$"
      ],
      "text/plain": [
       "         ⎛                                               2              ⎞\n",
       "         ⎜    2⋅(2⋅uₘₐₓ - 3⋅uₛₜₐᵣ)   3⋅(2⋅uₘₐₓ - 3⋅uₛₜₐᵣ) ⋅(-A⋅ρₘₐₓ + 1)⎟\n",
       "0 = uₘₐₓ⋅⎜1 - ──────────────────── - ───────────────────────────────────⎟\n",
       "         ⎜            uₘₐₓ                       2     2     2          ⎟\n",
       "         ⎝                                      A ⋅ρₘₐₓ ⋅uₘₐₓ           ⎠"
      ]
     },
     "execution_count": 13,
     "metadata": {},
     "output_type": "execute_result"
    }
   ],
   "source": [
    "quadA = eq2.subs([(rho_star, rho_sol), (B, B_sol)])\n",
    "quadA"
   ]
  },
  {
   "cell_type": "code",
   "execution_count": 14,
   "metadata": {},
   "outputs": [
    {
     "data": {
      "image/png": "[encoded data removed]",
      "text/latex": [
       "$$- 3 u_{max} + 6 u_{star} + \\frac{3 \\left(2 u_{max} - 3 u_{star}\\right)^{2}}{A \\rho_{max} u_{max}} - \\frac{3 \\left(2 u_{max} - 3 u_{star}\\right)^{2}}{A^{2} \\rho_{max}^{2} u_{max}} = 0$$"
      ],
      "text/plain": [
       "                                        2                       2    \n",
       "                    3⋅(2⋅uₘₐₓ - 3⋅uₛₜₐᵣ)    3⋅(2⋅uₘₐₓ - 3⋅uₛₜₐᵣ)     \n",
       "-3⋅uₘₐₓ + 6⋅uₛₜₐᵣ + ───────────────────── - ───────────────────── = 0\n",
       "                         A⋅ρₘₐₓ⋅uₘₐₓ             2     2             \n",
       "                                                A ⋅ρₘₐₓ ⋅uₘₐₓ        "
      ]
     },
     "execution_count": 14,
     "metadata": {},
     "output_type": "execute_result"
    }
   ],
   "source": [
    "quadA.simplify()"
   ]
  },
  {
   "cell_type": "markdown",
   "metadata": {},
   "source": [
    "It's a little bit ugly, but that is quadratic in $A$, and that means we can solve for the roots of the equation. SymPy's `solve()` function in this case will return a list with the two roots. They are long expressions, so let's print each root separately."
   ]
  },
  {
   "cell_type": "code",
   "execution_count": 15,
   "metadata": {},
   "outputs": [],
   "source": [
    "A_sol = sympy.solve(quadA, A)"
   ]
  },
  {
   "cell_type": "code",
   "execution_count": 16,
   "metadata": {},
   "outputs": [
    {
     "data": {
      "image/png": "[encoded data removed]",
      "text/latex": [
       "$$\\frac{\\sqrt{- u_{star} \\left(4 u_{max} - 9 u_{star}\\right)} \\left(- 2 u_{max} + 3 u_{star}\\right) + \\left(2 u_{max} - 3 u_{star}\\right)^{2}}{2 \\rho_{max} u_{max} \\left(u_{max} - 2 u_{star}\\right)}$$"
      ],
      "text/plain": [
       "  ___________________________                                         2\n",
       "╲╱ -uₛₜₐᵣ⋅(4⋅uₘₐₓ - 9⋅uₛₜₐᵣ) ⋅(-2⋅uₘₐₓ + 3⋅uₛₜₐᵣ) + (2⋅uₘₐₓ - 3⋅uₛₜₐᵣ) \n",
       "───────────────────────────────────────────────────────────────────────\n",
       "                      2⋅ρₘₐₓ⋅uₘₐₓ⋅(uₘₐₓ - 2⋅uₛₜₐᵣ)                     "
      ]
     },
     "execution_count": 16,
     "metadata": {},
     "output_type": "execute_result"
    }
   ],
   "source": [
    "A_sol[0]"
   ]
  },
  {
   "cell_type": "code",
   "execution_count": 17,
   "metadata": {},
   "outputs": [
    {
     "data": {
      "image/png": "[encoded data removed]",
      "text/latex": [
       "$$\\frac{\\left(2 u_{max} - 3 u_{star}\\right) \\left(2 u_{max} - 3 u_{star} + \\sqrt{- u_{star} \\left(4 u_{max} - 9 u_{star}\\right)}\\right)}{2 \\rho_{max} u_{max} \\left(u_{max} - 2 u_{star}\\right)}$$"
      ],
      "text/plain": [
       "                   ⎛                     ___________________________⎞\n",
       "(2⋅uₘₐₓ - 3⋅uₛₜₐᵣ)⋅⎝2⋅uₘₐₓ - 3⋅uₛₜₐᵣ + ╲╱ -uₛₜₐᵣ⋅(4⋅uₘₐₓ - 9⋅uₛₜₐᵣ) ⎠\n",
       "─────────────────────────────────────────────────────────────────────\n",
       "                     2⋅ρₘₐₓ⋅uₘₐₓ⋅(uₘₐₓ - 2⋅uₛₜₐᵣ)                    "
      ]
     },
     "execution_count": 17,
     "metadata": {},
     "output_type": "execute_result"
    }
   ],
   "source": [
    "A_sol[1]"
   ]
  },
  {
   "cell_type": "markdown",
   "metadata": {},
   "source": [
    "### Evaluating the new flux equation"
   ]
  },
  {
   "cell_type": "markdown",
   "metadata": {},
   "source": [
    "Quadratic equations, of course, have two solutions. Here we have to select the positive root, otherwise our model would have an inconsistency. Are you able to see why?  To determine its value, we need to fill in some actual numbers into the model.\n",
    "\n",
    "Let's start with the same numerical values that we used in [lesson 1](https://nbviewer.jupyter.org/github/numerical-mooc/numerical-mooc/blob/master/lessons/03_wave/03_01_conservationLaw.ipynb) for $\\rho_{\\rm max}$ and $u_{\\rm max}$. But we also have to supply a value for $u^{\\star}$, a quantity that should be experimentally observed in a given road. We propose $u^{\\star} = 0.7\\, u_{\\rm max}$ for this exercise.  This would correspond to 84 km/h for a highway with a 120-km/h speed limit, for example.\n",
    "\n",
    "Let's numerically evaluate the solutions for $A$ using the following values:\n",
    "\n",
    "$$\n",
    "\\begin{align} \n",
    "\\rho_{\\rm max} &=10.0 \\nonumber\\\\ u_{\\rm max} &=1.0 \\nonumber\\\\ u^{\\star} &=0.7 \\nonumber\n",
    "\\end{align}\n",
    "$$\n",
    "\n",
    "Now evaluate the numeric result for each root of $A$ using the `evalf()` function, where you pass the numeric substitution as an argument. It's very cool.  Let's evaluate both roots and we will pick the positive one.\n",
    "\n",
    "Let's try the `[0]`-th solution for $A$, first:"
   ]
  },
  {
   "cell_type": "code",
   "execution_count": 18,
   "metadata": {},
   "outputs": [
    {
     "data": {
      "image/png": "[encoded data removed]",
      "text/latex": [
       "$$-0.0171107219255619$$"
      ],
      "text/plain": [
       "-0.0171107219255619"
      ]
     },
     "execution_count": 18,
     "metadata": {},
     "output_type": "execute_result"
    }
   ],
   "source": [
    "A_val_0 = A_sol[0].evalf(subs={u_star: 0.7, u_max: 1.0, rho_max: 10.0})\n",
    "A_val_0"
   ]
  },
  {
   "cell_type": "markdown",
   "metadata": {},
   "source": [
    "Now let's try the `[1]`-th solution for $A$:"
   ]
  },
  {
   "cell_type": "code",
   "execution_count": 19,
   "metadata": {},
   "outputs": [
    {
     "data": {
      "image/png": "[encoded data removed]",
      "text/latex": [
       "$$0.0146107219255619$$"
      ],
      "text/plain": [
       "0.0146107219255619"
      ]
     },
     "execution_count": 19,
     "metadata": {},
     "output_type": "execute_result"
    }
   ],
   "source": [
    "A_val_1 = A_sol[1].evalf(subs={u_star: 0.7, u_max: 1.0, rho_max: 10.0})\n",
    "A_val_1"
   ]
  },
  {
   "cell_type": "markdown",
   "metadata": {},
   "source": [
    "Because Sympy seems not to return the roots in a deterministic order and  we want to use the positive root, we will automatically pick this one by using the Python built-in `max` function."
   ]
  },
  {
   "cell_type": "code",
   "execution_count": 20,
   "metadata": {},
   "outputs": [
    {
     "data": {
      "image/png": "[encoded data removed]",
      "text/latex": [
       "$$0.0146107219255619$$"
      ],
      "text/plain": [
       "0.0146107219255619"
      ]
     },
     "execution_count": 20,
     "metadata": {},
     "output_type": "execute_result"
    }
   ],
   "source": [
    "A_val = max(A_val_0, A_val_1)\n",
    "A_val"
   ]
  },
  {
   "cell_type": "markdown",
   "metadata": {},
   "source": [
    "Now, numerically evaluate $B$ in the same way using the positive root `A_val`:"
   ]
  },
  {
   "cell_type": "code",
   "execution_count": 21,
   "metadata": {},
   "outputs": [
    {
     "data": {
      "image/png": "[encoded data removed]",
      "text/latex": [
       "$$0.00853892780744381$$"
      ],
      "text/plain": [
       "0.00853892780744381"
      ]
     },
     "execution_count": 21,
     "metadata": {},
     "output_type": "execute_result"
    }
   ],
   "source": [
    "B_val = B_sol.evalf(subs={rho_max: 10.0, A: A_val})\n",
    "B_val"
   ]
  },
  {
   "cell_type": "markdown",
   "metadata": {},
   "source": [
    "### Turn off $\\LaTeX$"
   ]
  },
  {
   "cell_type": "markdown",
   "metadata": {},
   "source": [
    "$\\LaTeX$ output is great when we're looking at algebraic expressions, but it's a little too much for simple numeric output.  Let's turn it off for the rest of the exercise:"
   ]
  },
  {
   "cell_type": "code",
   "execution_count": 22,
   "metadata": {},
   "outputs": [],
   "source": [
    "sympy.init_printing(use_latex=False)"
   ]
  },
  {
   "cell_type": "markdown",
   "metadata": {},
   "source": [
    "## Green light: take 2"
   ]
  },
  {
   "cell_type": "markdown",
   "metadata": {},
   "source": [
    "Let's re-examine the green-light problem from [lesson 1](https://nbviewer.jupyter.org/github/numerical-mooc/numerical-mooc/blob/master/lessons/03_wave/03_01_conservationLaw.ipynb) but using our newly computed traffic-flux equation.  We shouldn't have to change much—in fact, we can simply create a new `flux` function and leave the rest of the code unchanged.\n",
    "\n",
    "There's one last bit of housekeeping to do so we don't run into trouble -- we used the variables `rho_max` and `u_max` in our SymPy code and we defined them as SymPy `symbols`.  You can check on the status of a variable using `type()`.  "
   ]
  },
  {
   "cell_type": "code",
   "execution_count": 23,
   "metadata": {},
   "outputs": [
    {
     "name": "stdout",
     "output_type": "stream",
     "text": [
      "<class 'sympy.core.symbol.Symbol'> <class 'sympy.core.symbol.Symbol'>\n"
     ]
    }
   ],
   "source": [
    "print(type(rho_max), type(u_max))"
   ]
  },
  {
   "cell_type": "markdown",
   "metadata": {},
   "source": [
    "If we try to use SymPy variables with NumPy arrays, Python is going to be very unhappy.  We can re-define them as floats and avoid that messy situation.   "
   ]
  },
  {
   "cell_type": "code",
   "execution_count": 24,
   "metadata": {},
   "outputs": [],
   "source": [
    "rho_max = 10.0\n",
    "u_max = 1.0"
   ]
  },
  {
   "cell_type": "code",
   "execution_count": 25,
   "metadata": {},
   "outputs": [],
   "source": [
    "def flux(rho, u_max, A, B):\n",
    "    \"\"\"\n",
    "    Computes the traffic flux for the better model.\n",
    "    \n",
    "    Parameters\n",
    "    ----------\n",
    "    rho : numpy.ndarray\n",
    "       Traffic density along the road as a 1D array of floats.\n",
    "    u_max : float\n",
    "        Maximum speed allowed on the road.\n",
    "    A : float\n",
    "        Scaling coefficient for rho.\n",
    "    B : float\n",
    "        Scaling coefficient for rho squared.\n",
    "    \n",
    "    Returns\n",
    "    -------\n",
    "    F : numpy.ndarray\n",
    "        The traffic flux along the road as a 1D array of floats.\n",
    "    \"\"\"\n",
    "    F = rho * u_max * (1.0 - A * rho - B * rho**2)\n",
    "    return F"
   ]
  },
  {
   "cell_type": "code",
   "execution_count": 26,
   "metadata": {},
   "outputs": [],
   "source": [
    "import numpy\n",
    "from matplotlib import pyplot\n",
    "%matplotlib inline"
   ]
  },
  {
   "cell_type": "code",
   "execution_count": 27,
   "metadata": {},
   "outputs": [],
   "source": [
    "# Set the font family and size to use for Matplotlib figures.\n",
    "pyplot.rcParams['font.family'] = 'serif'\n",
    "pyplot.rcParams['font.size'] = 16"
   ]
  },
  {
   "cell_type": "code",
   "execution_count": 28,
   "metadata": {},
   "outputs": [],
   "source": [
    "def rho_green_light(x, rho_light):\n",
    "    \"\"\"\n",
    "    Computes the \"green light\" initial condition.\n",
    "    It consists of a shock with a linear distribution behind it.\n",
    "    \n",
    "    Parameters\n",
    "    ----------\n",
    "    x : numpy.ndarray\n",
    "        Locations on the road as a 1D array of floats.\n",
    "    rho_light : float\n",
    "        Car density at the stoplight.\n",
    "    \n",
    "    Returns\n",
    "    -------\n",
    "    rho : numpy.ndarray\n",
    "        The initial car density along the road\n",
    "        as a 1D array of floats.\n",
    "    \"\"\"\n",
    "    rho = numpy.zeros_like(x)\n",
    "    mask = numpy.where(x < 2.0)\n",
    "    rho[mask] = rho_light * x[mask] / 2.0\n",
    "    return rho"
   ]
  },
  {
   "cell_type": "code",
   "execution_count": 29,
   "metadata": {},
   "outputs": [],
   "source": [
    "# Set parameters.\n",
    "nx = 81  # number of locations on the road\n",
    "L = 4.0  # length of the road\n",
    "dx = L / (nx - 1)  # distance between two consecutive locations\n",
    "nt = 30  # number of time steps to compute\n",
    "rho_light = 5.0  # car density at the traffic light.\n",
    "\n",
    "# Define the locations on the road.\n",
    "x = numpy.linspace(0.0, L, num=nx)\n",
    "\n",
    "# Compute the initial traffic density.\n",
    "rho0 = rho_green_light(x, rho_light)"
   ]
  },
  {
   "cell_type": "code",
   "execution_count": 30,
   "metadata": {},
   "outputs": [
    {
     "data": {
      "image/png": "[encoded data removed]",
      "text/plain": [
       "<Figure size 432x288 with 1 Axes>"
      ]
     },
     "metadata": {},
     "output_type": "display_data"
    }
   ],
   "source": [
    "# Plot the initial car density on the road.\n",
    "fig = pyplot.figure(figsize=(6.0, 4.0))\n",
    "pyplot.xlabel(r'$x$')\n",
    "pyplot.ylabel(r'$\\rho$')\n",
    "pyplot.grid()\n",
    "line = pyplot.plot(x, rho0,\n",
    "                   color='C0', linestyle='-', linewidth=2)[0]\n",
    "pyplot.xlim(0.0, L)\n",
    "pyplot.ylim(-0.5, 6.0)\n",
    "pyplot.tight_layout();"
   ]
  },
  {
   "cell_type": "code",
   "execution_count": 31,
   "metadata": {},
   "outputs": [],
   "source": [
    "def ftbs(rho0, nt, dt, dx, bc_value, *args):\n",
    "    \"\"\"\n",
    "    Computes the traffic density on the road \n",
    "    at a certain time given the initial traffic density.\n",
    "    \n",
    "    Parameters\n",
    "    ----------\n",
    "    rho0 : numpy.ndarray\n",
    "        The initial car density along the road\n",
    "        as a 1D array of floats.\n",
    "    nt : integer\n",
    "        The number of time steps to compute.\n",
    "    dt : float\n",
    "        The time-step size to integrate.\n",
    "    dx : float\n",
    "        The distance between two consecutive locations.\n",
    "    bc_value : float\n",
    "        The constant density at the first station.\n",
    "    args : list or tuple\n",
    "        Positional arguments to be passed to the flux function.\n",
    "    \n",
    "    Returns\n",
    "    -------\n",
    "    rho_hist : list of numpy.ndarray objects\n",
    "        The history of the car density along the road.\n",
    "    \"\"\"\n",
    "    rho_hist = [rho0.copy()]\n",
    "    rho = rho0.copy()\n",
    "    for n in range(nt):\n",
    "        # Compute the flux.\n",
    "        F = flux(rho, *args)\n",
    "        # Advance in time.\n",
    "        rho[1:] = rho[1:] - dt / dx * (F[1:] - F[:-1])\n",
    "        # Set the left boundary condition.\n",
    "        rho[0] = bc_value\n",
    "        # Record the time-step solution.\n",
    "        rho_hist.append(rho.copy())\n",
    "    return rho_hist"
   ]
  },
  {
   "cell_type": "code",
   "execution_count": 32,
   "metadata": {},
   "outputs": [],
   "source": [
    "# Set time-step size based on CFL limit.\n",
    "sigma = 1.0\n",
    "dt = sigma * dx / u_max  # time-step size\n",
    "\n",
    "# Compute the traffic density at all time steps.\n",
    "rho_hist = ftbs(rho0, nt, dt, dx, rho0[0], u_max, A_val, B_val)"
   ]
  },
  {
   "cell_type": "markdown",
   "metadata": {},
   "source": [
    "Now that we have computed the history of the car density along the road, let's create an animation to visualize the results."
   ]
  },
  {
   "cell_type": "code",
   "execution_count": 33,
   "metadata": {},
   "outputs": [],
   "source": [
    "from matplotlib import animation\n",
    "from IPython.display import HTML"
   ]
  },
  {
   "cell_type": "code",
   "execution_count": 34,
   "metadata": {},
   "outputs": [],
   "source": [
    "def update_plot(n, rho_hist):\n",
    "    \"\"\"\n",
    "    Update the line y-data of the Matplotlib figure.\n",
    "    \n",
    "    Parameters\n",
    "    ----------\n",
    "    n : integer\n",
    "        The time-step index.\n",
    "    rho_hist : list of numpy.ndarray objects\n",
    "        The history of the numerical solution.\n",
    "    \"\"\"\n",
    "    fig.suptitle('Time step {:0>2}'.format(n))\n",
    "    line.set_ydata(rho_hist[n])"
   ]
  },
  {
   "cell_type": "code",
   "execution_count": 35,
   "metadata": {},
   "outputs": [
    {
     "data": {
      "text/html": [
       "<video width=\"432\" height=\"288\" controls autoplay loop>\n",
       "  <source type=\"video/mp4\" src=\"data:video/mp4;base64,AAAAHGZ0eXBNNFYgAAACAGlzb21pc28yYXZjMQAAAAhmcmVlAABKu21kYXQAAAKuBgX//6rcRem9\n",
       "5tlIt5Ys2CDZI+7veDI2NCAtIGNvcmUgMTQ4IHIyNjQzIDVjNjU3MDQgLSBILjI2NC9NUEVHLTQg\n",
       "QVZDIGNvZGVjIC0gQ29weWxlZnQgMjAwMy0yMDE1IC0gaHR0cDovL3d3dy52aWRlb2xhbi5vcmcv\n",
       "eDI2NC5odG1sIC0gb3B0aW9uczogY2FiYWM9MSByZWY9MyBkZWJsb2NrPTE6MDowIGFuYWx5c2U9\n",
       "MHgzOjB4MTEzIG1lPWhleCBzdWJtZT03IHBzeT0xIHBzeV9yZD0xLjAwOjAuMDAgbWl4ZWRfcmVm\n",
       "PTEgbWVfcmFuZ2U9MTYgY2hyb21hX21lPTEgdHJlbGxpcz0xIDh4OGRjdD0xIGNxbT0wIGRlYWR6\n",
       "b25lPTIxLDExIGZhc3RfcHNraXA9MSBjaHJvbWFfcXBfb2Zmc2V0PS0yIHRocmVhZHM9OSBsb29r\n",
       "YWhlYWRfdGhyZWFkcz0xIHNsaWNlZF90aHJlYWRzPTAgbnI9MCBkZWNpbWF0ZT0xIGludGVybGFj\n",
       "ZWQ9MCBibHVyYXlfY29tcGF0PTAgY29uc3RyYWluZWRfaW50cmE9MCBiZnJhbWVzPTMgYl9weXJh\n",
       "bWlkPTIgYl9hZGFwdD0xIGJfYmlhcz0wIGRpcmVjdD0xIHdlaWdodGI9MSBvcGVuX2dvcD0wIHdl\n",
       "aWdodHA9MiBrZXlpbnQ9MjUwIGtleWludF9taW49MTAgc2NlbmVjdXQ9NDAgaW50cmFfcmVmcmVz\n",
       "aD0wIHJjX2xvb2thaGVhZD00MCByYz1jcmYgbWJ0cmVlPTEgY3JmPTIzLjAgcWNvbXA9MC42MCBx\n",
       "cG1pbj0wIHFwbWF4PTY5IHFwc3RlcD00IGlwX3JhdGlvPTEuNDAgYXE9MToxLjAwAIAAABElZYiE\n",
       "ABD//veBvzLLXyK6yXH5530srM885F1+3+e4/zAKCIkumtIhnSQKs0C3KlVq57xkKYzhZenZUH1H\n",
       "kbLSxxxj3nJcPmncWFo7+Yf3avQApWtEz1+S/2N/R6Q4XEwBC3pSAs80uVlRtwfxSHNW6VbaUmVd\n",
       "fyGcmdOWQcyWLhJJgeFueHPYXlyHWmAXtlMu0QqzD5iz4A7lmIgEtom4bGgORb2lAkSOXuUoCFkU\n",
       "HsIe36FpyFs4gQnUhu60KqKDKPYGnO3dvuFSMani73SOBiaFmob6jbeZhGsVhRDrcUzdvPg7DM6m\n",
       "2lfJr7wgXXvnfknVfR4Rubg7uYMwsddtcIq/TihLGwDh5m5qZ+txiOsDtX7pz+ToNx6zow97gXz1\n",
       "/A37sYPzqojDOKIYkgqE3wtCJrNIHTNxbe0zhX18ZrP2mrA9orxj75mqDHjwX2CCwW/FxufBOfer\n",
       "4nCVrOxfm/w03iTe6d745l1PGlhz9ez2YBpoUSXkVY1lyy1Clwav4HysoaNilQkam8CY2cQqWCQM\n",
       "YYzzMnjh7EyZIN4hnBMjOMkUzUddkxpxf4566Tv+jxVIKsRik6moamn4KDn9R2pMEV5W4cTmOLxQ\n",
       "MSXSZPrYU87+/Xa7G+dlkmV3dxE9FgIG+ALg071nHn231x9U5N/9Czrq/+3fdoKJ3q5yWlkcdCJs\n",
       "AEcXeTuCaqfRLL0L+FpvSqa+uEUD+QwdJtDX+AJ/oi3dGcvalIz1MLb2hHUe6CigS4GbL8Ti2oLH\n",
       "L450zvb7dmERb3ju/Hednrfcf5tzbvn+xOCCLL8OxLWaEmEJeBn/+Yn0P7whBm0+NyLnzuEeHeqG\n",
       "33cJsF9B4f1rScdONO1RN4obm52ntbTyUISIwcA6RMHJUimF1zdDwZXRATeT1J5q5lIWI0+rI+n+\n",
       "tTBya+9Fw8uKBPwSbJGiK9w8TxmcJ59n2qA7ZgFga68InCbPjNcWVhR1WyEgAjwccTXwfII/TUU0\n",
       "jrOl9PZmBL/dip9SF3qXAF6+NNnQVqHQ1LQZlEmZ82ZLEQZvaoGahmNsLpktrU2ObB3r6Hz5AD9K\n",
       "om9W81xNIF/TFF2LYkxAI4Jx3OFtIogJv9L2OecbcX3QUYJdImdRLoq2d9CJwOekixiOeFoR3Xqz\n",
       "4DwuE01OFicNhCvBzMrRFvzW+yMn7evv8EG6qsDRkbyDMEPJlY8zJ4Ir9bD1Wg1+LtKQNzw2wNtK\n",
       "lZ8x+pBLZrf9H5vEWZCqnDhXXMU37Yo4AykO1cjQGPxaAIzA3bhRdA4B36UfT92Snneo8VZ1cMXl\n",
       "+ZCx14iCKGOw0pDQAKWcAUI37nUAZKLYxbSdj3y7kNSlX3ii/ceg7Kh2pX3VSr2ikyToBLV1bJ6o\n",
       "fnt5vu0VOweu+ooidq5y47A6/TO8zFRXir1Q7Qgl5lOF8otGZGe24Yhc3Wjj/1nhl+i9spE5Ka2X\n",
       "UV0WNwVkc7sOlxrxs0aPxJndYf4ypHX4QoQCdZcNicO/hEhXGOJvfQC6b9NO030wptPTHNgJO6wy\n",
       "uGa3rbHDuSyRkUHfnfL6wMzz8yIIJEOUgzW6OhY/ip6DPRw2G3fOoFJKcv+n+a/3G9HrRDn65c6A\n",
       "QRxFt9RGf54UjFHhdpNe20KgwXAsoIeCY0BbahJGizlPxSMr0eISCgc5NYTSryEp3aMRNvln8Fe8\n",
       "G9b/XGMVdK2Izyonc2jaDR9zR3wh7oB+R3KX7Yuv2hAWXvw1eU0UndlmCZrL6QEnlotvL2ydjaLf\n",
       "jCpZr8bEEln0Vi1AG6EwUUISEYrUXTZMA0OGEOXXLIvCWZUFZf3ffixir/2U8V8rCIHFgOecCBOu\n",
       "Qjdqjto6Mc9/AcaH9l3ockORHGBD2yZIW8WChIR9thhX8CN+qWdF36hWy4G//r6TWitqWvsj89yO\n",
       "JMidWSoxHyQZssfE5bcRroCxFo8zRXLc6O0npFbeaAoaprgegD6OlNARo4rFMHzODIkhHJjx5N1Y\n",
       "vQOUo5PvuDThUXS4EDTOURnZZyo27F6acj9h+uNMOSfFYRd6xcNplkHrfyuytPOrQraEzZr+qNUQ\n",
       "Bn5UYTDBnEtDIDNNwuhfWSN0T30HP9Lt3pUTo9OOg9KQA5UjgJbWzATpixDZhrw8YuuBvgWrgpPN\n",
       "WGTeEmZZluba99JJWSZik/2DOVGWl6fdXuW1biNnsP6x2dC6lGJfhxuOmFhG1m7tsNdh3l4LBw89\n",
       "GekCnj0C3obpcz9qkpPYDRBYi6A02/lvyiT2T7H3K2ZAMeRZwD2ACzRnIm088kL5C2e0ZAJHBxNi\n",
       "hr1EDIXj1muISv+CBTQljZ4LQxqSHPQ+zUcGJEqbNPP92zuH2xik5mjpkpunACTHgLyYykeP/uzk\n",
       "KV+Am9pCqUTDcvODXo+qDVuHM/I6cRnC4s9u85/Rusd21/louLDNN00mXIOPsqn5AfYpRmFk7NH6\n",
       "+5BIvrsme4Am7fxtAoft8v8OHsPtK+pckxFo929ZG/YbpX/8JCaqc6NxmQEQwBbv8ZmHsrHwatHG\n",
       "JluNYLUKPSx6cYVFPJdvtYA1zbVW3GJnIspDIQ3HdURUXlW3OiZbezR+sqK6JjTWINulyZzJMPpe\n",
       "FHLFTWpSfjfKaS4CujRUyPONZJt22d64KKHO0X5g3qoUFyajymeyGeX5ggfiyXt6Q7fsQqLwRL43\n",
       "bChNH0m/KGeRPUxHZ0JZaRgPTyTHC6H4jBu5CT3i4BGDiUnPfvncpFWnrRSJdipIKJukiPH8lvJZ\n",
       "Ne/t9GJq/cFU+7c+GBKtWGX9nr0GUfDShtJ3LBHf85R6v8NgkfpcXTCAJ+1smZUscSuOFXFBQvFn\n",
       "tVjdQz7CeOJoKAik2HwNHnDq+Pk9tP+Bkh9iQJ+RoJ4x4923DlJeYkLCNOoLRfDhSWL0m/p4cdVH\n",
       "ut7LgdKacVUAhBHs3yYF1mNlDkGtmBStWO0KovQ0a6KJHqN898r/s9iADl+IknoSbGzipD9ACsm9\n",
       "1Jf7f5vYcGL/ExCP0GFNgVwHrDgm/VoqxEFPPDWTpwkEuyoh02cKrOSmWQH/g/zw6q7ezvy83CDT\n",
       "HMTlthx6aZ83iFZlvZAJRtgldXncyRNAiBiD9sdAp19EseKdFEMjZD0tin3YPiGCGKzRcclfcyCN\n",
       "qJCWgqo8SWXUrqstGtEJPozc1d39VY3ucj2ZVzCYnoN0CjiD4iTsBum4foGlqPpXLkhf5cbxKMeK\n",
       "XTJwmsm7kWzxrIeQHtdIQJOWwE7de/NbNWbISGk3ajeHD+zeurawOmlbcz413q2qQKskCBlKMzsR\n",
       "gP0H4SeiohFIke3Ov9qjN/CESlHRD/1nfwKRuCoAkBwNaRM/HDNpxsJ6KHnW3FYFckBQbRl9kkRL\n",
       "xYO+kCJbyAHMH4g4kQZdSfU1lC/AQeeLBShZ/6MBPqniKqdNu3KjIVEK9/6qYICJ5lXMWtGuNeI2\n",
       "Z9cTRZ5R3/5ueYCwAA5lYmZK5iBSRYhaZIUs7KPiLdm70oOs5zREfYP3s8i0dAWGM4qovmQHyP6B\n",
       "HPo8OJemZ/tnYT/RSVqr131w7fbBiZXJPuUvX29oY0+65WzfNToHTvmG81RvAXzp2Abh92vnAnnH\n",
       "9OdE/zRuVpiNiqVgklFMXEhkJy5HQQGJikDfSW85Mgp6MvvXsil7D+Yr07bFNaK9zud3qbaP6wqt\n",
       "TGz7KbfR7EQUXdvavulDReS/U3Su2nK91MgyynCUFCrNpJ8iwgQMsjKs1J6kQfzOgVpY3BKMf5qS\n",
       "Z0WfbmjHHCBrHCh1Z2GQwAnEyH2MNyoB7KyFvJcCqqUh07YltiPoX2xAuKAWR43Ib7P+zS48ntyW\n",
       "BDHWZKHGu75hK/sHjCpT/0KZ8pfkurWV8rdLvRLgXzf5tYWRUr0zi1s1j9CKEsId3sww5EAaPA4w\n",
       "CfWljb7q1uGQtmuTAtkHELmbAQ+f7p3I+lywE/NPSpVH4fs0UXyg33UjxgRTCvGvwZvU6lV8N/fD\n",
       "WrWNH79haCvYjlQ9l9cLIMaYbROevBRQwyNxYBH/xN4hVbN2B+jUNF20GbGM3v35AsAR7Fssooic\n",
       "5LfIF0t1+W/dMVYhw+8jcyA14SXZRP5LZApbdyxX/KI8azkuUb6gYw3ezlDa0Ug94R1lnwBS18ag\n",
       "9FXsXhvkk03zQTpW9eJi8Rnwn/jgMKuzpjB3nclYAGbZfYXbgwTler+8X0LcsdLSBF1JUG//oCpi\n",
       "WMF/+bFio1VifAQQAYVLkf+TLQocYX42Ou7t2hU9T6Z46ZIvzt2roFYJVOKkwUZGNmQxqX9iMJVo\n",
       "4+tBMKZQMp2OgV3jNjkZZs2tou8zVkraqVJc5kcGRK42vvyVBzfue6MBZepvLheqftOycNg1HyNa\n",
       "Z0fLOZeNa7kCBlWg90Rfvk730f1cTjra8IT1fCvLs237yXwTeHEQHDnFXu3LBE9doSRgAa8VWxVo\n",
       "YpltTSWveQB2hescuO3KQVqKLIaiJoSyp6/gcPkjoU4BofbgDqNiczm7xey/hVqh3lGecKH4FLjI\n",
       "bwjKrgtBuRstsUBeUGqFI18fyYED49LuCGsCpcRUPVKeRyw1YR0iHSCLggqN+UnwjKzlvL51NP5U\n",
       "foOpcYxamFFSBUp7lfS0TfbJBLB9rS1Cceeg55ggE5nMhmfEBKU9K9/iok5MOAAeHqBCcUv0zskt\n",
       "sJTYZNWW5l9xjvEM7VWKdG16IdsT14mqE9fAcb+j/cvtVvfZ7klKMoNL2UxurWoKAmN+0A69rqVP\n",
       "boZcaZIJrJK54PNJDBIveFphyHnwhTPxZhbHNXbGJq1jqafwl8J0Qz39+DmUEsdyB96MDxVXWI1u\n",
       "PngMZe7J027ye07LC1DCQ1chC5dV9oXAdIRUA8rGoDCUs2K/diTh5LeZCXPrlpr+5Hzwmw3J4Rdp\n",
       "JV+w/Qz7Bs43JO6Nogghc+qXRG4zgmaSGhoN3uhbiBZWf7yNCbq2Yw38479Ne5NISHbJsJUav2Ap\n",
       "wF3YaN+Ubut8NWxDEoz5eDF/UzibFXPEN3VR1SJiBrJaxpT43YofKWG9ec0Ine8k8Eg/BiY3klOY\n",
       "8ArCHUHiTRDQtTVVcsJr+AB9sS7lI7qpvUcopNaS8FpF+zPoko3vHM+kNTgZ5uBG3mye6aQ+at+V\n",
       "OQObY/XHNgMAi766uQ2KEe2VTogAhygxTv62grUFLnIzoa+JwvamPKTx/hKJs0xvZ0RPVgFvXISZ\n",
       "XJKFO77rWSiksX7GQstvZdBxFS+yyuMQR6v7MJY5OxrZIYniWfZdj2QE56eN6BRgmtJlWmEnsHWF\n",
       "3pKyLHd3XxoWSfc7N2srbpRc7f9MYzwPs2S2+uRJ/2yUuJycMueQaAQSq61gtIgT6rDkBgLF+ceT\n",
       "FlHcZGvK34BxfhTb4j3qJxazSJKjhVumnYIZY8VUj5X1uBqAs8weGAXdPR66MFjmaYERL/LX0WKm\n",
       "iwDc/WAeJi9YBMguOllyGxQAHrHScmaQdy8XSD2csWzxHRZ1qJ3SKwkRQBQolBPKho+6lwDOTkE0\n",
       "6Egqm/IEtvAAibrsN/tiwWpG+scHEvefuIwzo920vdieM5lWtS6BfC+1SdUl/SAQsaSNkesGZjKr\n",
       "fxoV8K/CCEXTqWQN5lOVReHCsmBA+uoRzJjBTLeqdDTzGnzSoSrmHxZnhYGh/yhazp+4zyQfueJI\n",
       "kU6IQD52zBOsCbBY2pI/FAXqSsOuVkqSmpD9eoKdzFLLrB3Rq8L/wn/pRI+0dGhHy/3PdIsEx5Hf\n",
       "E9mdJDnSA3PWr+algCh202hsuimNox5Z8QYORnvWyrycnxBVFkmSRMsyXrhcRB75y7VB0bPWU8r4\n",
       "GssmiMSJ9OxOxb+Ms3CLq3p2hp/g2pmOLsMMLp4N1OxAVk1M3vpvGMNaqN+y27aJsyGAAAblAAAC\n",
       "xEGaIWxBH/61K8ALW0AAE0YfIOFVkziVHO0RJETMaUyvPvGeFzhKbpa8yOyRuSRVdfqIbfe0n1AS\n",
       "c2yHErgh3CU4aI4cCY1uBei+H1tcJ6ulvOUgiJ4jGc3x4LvcMkefcqfX4zmGWWfPs3jVnBrq5y7Q\n",
       "rKXRgoPYxrrWtJxN2eSkXiMy/jIfN/yKzF278LgCKMXGxL8ggYZsGZPznnzRLHdSm0VbhbjeD8m3\n",
       "rBPj5JSmaSrrQ3+3Bz7dfRnGstWxUySkJvMi9IWB93ZR/vg3qufTzEudZ52Ef7ply0BUbfUy8f+i\n",
       "vCobS2YOJPtbNg8FWyJxjxxN5n8aEeA7dOxq0BPG3OEDizSmgkb+13+wog4twh6yhVNYUTWODVa3\n",
       "w3/4T0VzfMVOX6miGbLF54AwGnpW+mJ6AGsy6O5cGgvnVxwNyNJAOr8YcH/w4HpzIaoMNVPPB3/r\n",
       "Wp2l9QXQQPOLnDnLr1O1c1Y60c4XWuKfQTwe5L3ndbKSCiTzsk2ftZfhGGsD3SUalSLjYyv4Fyr8\n",
       "g585bhbz+l1QvQamZB/wQRzpaq10x2Y1O6YRfw8QCo/Crrp/xgLh0gOMA7TMwTon1yuAscCUnDvS\n",
       "WJo1UhyHsO9ySpsqw23VDSNuwpzPQgqiPy2QB7UneGMm3flr3drwtlqiyjJepV6c279FOmlEIKUY\n",
       "Zhp7qV9Vyj7/X3ZsdeR4L6EPABtTZK9k/NP6Tvaw87ACbscVXee7L70QLFRf267LuqXm49//35D9\n",
       "ahDnZ9LrDcp/4lHqzs+EZbphSFeQFa0SpTZy7IEHW8Q3Z3XCRHVIsBEM6m7TZk3k2Uw/ddt504ci\n",
       "6eStoapkwRKJGtb2S+f3WWdiisbSRI/wAdBGfpTYj+Eko3swqCqdCzkp7Nxj0+SEQCVK/LSL+B0W\n",
       "wontl1frrHrW6SDq+fig1V8S/uLu/yvySAAABJpBmkU8IZMphBH//rUr6TjsgAiD5OnAnd5Ze/Kk\n",
       "NORc5x4QTb3z6iChSuxT3MgVh7vp0Lzq0TGdzF6Cv+o3vg1DdpV4SZ803z9tjiv9lcUBBVA5P88n\n",
       "4kV1iYx7jmu6oDJadf7fBNKv2sZdK1GkzFFGnsR7i5W2NjhnPoHzQ+tfTmc2zajEnv39qq0qnQgJ\n",
       "LK9xIIKoiMACOWjRm6SXs62lYRcWE9q4vRQe48Aeqls7pnrQMxdPFPSAQpIGCafQMmN35nNQupK7\n",
       "W9xZ7z2VfDfvipeiZAyq9OoQbXpawBoRaOx0LuRO7Zbks8iag7NLAwsMWr8UfIoQOO5qDHQ9SZ3E\n",
       "1e965it21nUOgcM40c4Y8YdiVms1goVSRdgpEkLltDO+zs/khKjgX0rx3IqXAdiNoBv6htjTDAXr\n",
       "DiPKXHcOzJNmX2x9x6QwsYocf7UEzS8EXqp1/grHjgmsjCVLr3Re8LoEcYlbbsbCFnhsFwir3wFm\n",
       "XL0D6p7dAq5RY0S6jSzEwA2ccJld2K9Jx+78247NWGQ2uVBK+dZsdz2UMEJ+dRYVLRyNs6hXhjTq\n",
       "Ok6/VgX93UR7tB0KYfY64MWPKEjb6dUxf6wi9VNhueb7Seaf3EX3D741Wywzv5E8Cau1wm7YzBla\n",
       "iGIx99DYmoO8n4enL5F/q+fq3V2uOZVBGuzbIqtaWHwuzUiPlD7Iqc61JjEyVdNIu1h55B+8OlHg\n",
       "IVLUI6KbU58UxE8zG+QrCDx6vLpAY0vJ0PRkcuLEfg91R9pSeNgHl+WBkCFGqSz/QxW1E9yIzxpv\n",
       "xgmZxHCep4yOiClb5mhfFSQ18NCu9xsY5RMb02UetxcVgQ2AWXFVGhDS7reRI6AR2wBiB2pWk9w3\n",
       "zQXpmZ7L2eKoKWQaTVDxCyoMagE55f/6wYdCUKdagmb1Wu03m6BTJ3wRzC+htzc0OYly9MTluRjI\n",
       "LaEvQq8UAp2UvpcY5PpEUzKanPx6lan7cMp2uICwHc4Wj2mSxH06agvmUks+JwJEJ+bV+7I4sOM+\n",
       "0NGnYcp7yMRS1/zgj3DeK8XwUbGJnnsLHkQJ/7m0zecCLAuEeWeDOFKoH//x9GRei/Z77UISnKqL\n",
       "kle4VHirfjmz4UtY/xIo/u2+KCgY3CoSueskPjkWKrcsJ5QngGrws2zeTviRhWb4XX9CwMtMDviD\n",
       "TwnT50tTNiqtMzwq4MXywt2FwnqM1dHjL2UCmXZPN8aw6xWBKT442dMa2/+maL0CcfBHwr9l9uJQ\n",
       "3DtPEzNOFTXp99j7z1MfDf2ZqZj5uly52TWNqwTs5WK9aXFsQ9ZnDFTkthqN9831Dsa0jAKErFx3\n",
       "w/TvSc1uxadlpih49ooJTcJUjOrUF3m7l8grb9B9sZuCgyB8BBF0Jm0fBkb0FFXaYPR18Z60kTT6\n",
       "w4+weGz4olfMWBXybG7YNNr1p7Y1NxcuIbIkk3mf8fJbjmy9v5VXabLcsCrdMI+RFkqNC9z5zWWL\n",
       "Ooi2EcvlyXJ/g8gpWChU2Wv+eo42LOOVp98Fha5ZwJ72aZrU8hyaNQ4gdFjKFG2Lp28abzr0a+7S\n",
       "aNqzdcBwa1jRgQAAAb5BnmNqU8O/BWWNfeAB/QPRh8dovuC4GxA+9iGF2RKSKExuGzG9C19uCAlt\n",
       "MwkF8VCa+MbMK79NMdWT37Hw9lVlHbVEGTQ0yZte/w7UAm7oCUDTuVTArYj3Tvgtn1pz6Sjs6HwA\n",
       "AAMAABufkm88kRqZ1jLh7/ZNgHE9dDE/mBV+Wjcbd07+jnYeppZKJrLjylr8+QXjVdzRXSch/jic\n",
       "ccqy6GYF8qp+bdB51HZruDA0ZYShkrUZqIHPhxZpe5JoJaTp6NV0jLfPypgUz2v4ZM9rjfXiTTII\n",
       "wLwZfxDwXX1ZHMA/mdLtEyxPEzIwKjFxUNuPDFBuI4IHxswGTV0JkMfHkqITDSRuL1J/1JgsTOWQ\n",
       "7dy+lnszyLyw2xdVZroas8fxUFoGw7ybd1IOhGOGhYPuzHJe+RWMhL6vdEAs9tPMhoQCdbMHlold\n",
       "H2rNzuC2mayc9f812FLwO4MBVvf0hkd+oTa2KkHn5SayEN4gna5vNrhomintBNAySn9zVa8AkKTV\n",
       "5Pz4iTyk1NdOS9X5JkBXYLnXNtFWmmUjdm7xOek3wh2vrNABm0W8upLlmZM3h/r2v5wHXFsXBqn2\n",
       "/dgCsAAAAVkBnoJ0Q38HQDd4AQpybAnxFwVQVKSqOmpG+oQyf4rI90f6M3doF+dwBEfaDwOWfZDj\n",
       "MpspTX+MmU/MiXTLOJjD+tPPUEGNUfGap3XgG2/gsgnev1522i/9I8/14r5THQgKM0+C9mQI4tJm\n",
       "AlqsqHsL0Bw8HD49WPn0MO1k/YI/EwX40Px15rPTDvbYDbyUZb6jqDnS9/Zi5xAXG7H3aAmBuKiz\n",
       "NMKXpGUEx+/Xipj37A388u9WLKoV1lZm/W5JFiYco4OH5zwgxjvxhF+oYmVJiS0PWFwq72CPLTZc\n",
       "6273FXdvZ8nCAkYuh7MmI95RQg7bq7Pz6C3BpehCZV4lhUfvmFsCF5/Mg/QLHavJQ/arxqe8FKcX\n",
       "+T/khRU40EHyv32cpurGHofApO/rzTzeBW5udvkafMgd1P2pxJMzmajRvVR0oR498WxdDKeNxIR3\n",
       "xWJ/e5mOziKHHTEAAAEjAZ6EakN/B3HRACFPQXk/KkUm9x6JbAqSHNNpdLdWUr85jR3ByxYXPZVH\n",
       "GBO0quDYjX+eTLo7IRzqsKQSlDHRWtPlB26tlASHaC4ohcLioJg9DGzvxhAqZltKD9md/NPaEi3J\n",
       "/PpTbpqDSJ4rJ3HlNNbYQN5yNYLTlENhvt0izzAAhC+ltkW5I0XKabnwEkVEHlpubpx90EfFww7W\n",
       "IWR8oAadw42/P4melHcScRjQRcSKy2z4M3MYVR8/i5sKZPVhDGZBmZQJUZ2q7mKLBuABvAAHyXuz\n",
       "LcN3jNCuHWH9ycyC9LQ70BOQVRrnr1ZAVw2Lpn5m1v+bXinN5KNbqeZPT9cVXkAigNljLTVcKoH+\n",
       "AV2Crp28xu5sts3+TGfGx8cqQHUhAAAEJEGaiUmoQWiZTAgj//61K94swAAFqkZt3BMc5pPBBHaf\n",
       "ctBsGPgDMghfPwMKwaj1jHdu6dYB9PC72EHeqjdpLCj20vSFBWcWBfcMIxeQch+YavFPpiEgLrsU\n",
       "duUfqWoDaaKhFM2LYQbKE21ZBiNxg+w1T0bhGOWubzF3tviXojwrajPEF+svJCz3Km8heU+wqkMR\n",
       "nCl9jqanF4WePmCecKN0J6L+UPXsFzorvgVmPOtElNQYJqXNQe2PzXx9qYljuHlf1Gy+vR2BQPYi\n",
       "IcMdhpzKKTWGyjxyQKSDC4kSLtXEysAHdnRi+2YdFv5VazknrDPriRHsISsZ0yZ17rXoBkkOGWHz\n",
       "ngZ0ilMSwfn2VAgi278dehS/YKFM6gur8rqRt4UZI4ocpit2V/rKZipp5xS2fQKjwITdayYPyZZ4\n",
       "V8uYXJOwawLUH2IVs4jHtlFIC5cAjE4k/aGB2+Lir/P3+EU9Vt3e2vxiTHIMWD3yfha/bXHhuDeM\n",
       "xx0a4e9aoJECPVa5wZO9lP8+VT8udOa9XkRDCntA0LacanAzgljgwkKkrh3Z7Jgcprc+FMgtbSe4\n",
       "vbl76SBqHR6d2IuoGtF8gUvCFQCCHPv/w2/o+Pq1CB66tNLEv4kW0uLbcmThlDQ9tI6G8hQHXqqK\n",
       "eHNCJAGjvx6auj3nVZoJHmzYFz08G6fxF/jz1eCoZaDK1BE95gLpB4Qs4biqwdfp8RpSgt1XIc8m\n",
       "ITxFjLfV7uARU5t4Tpa+pMzcFcsIJdUyBgeO19hYHE+fdok1FEzSVkEAU3LeLT434HmkyU6rgoKF\n",
       "Khw7ecPq27/wPuJLyHTB/FTj+8wVoidTZrBKh5Tp91zSBNovpYc4N+F5LrUBRv6c+NK2KfdlrgQz\n",
       "dpnraVZpvlgQNtWzc5yOxjuI9G77mLLqm04UkeodZwc0sE9lomUfgMX9uHcIVtSRu7lxt5H+r0P1\n",
       "tTHTcGqoejSjY7P2uE+otsAmEpUaIaAvnifcOIkzLwMouRFELbgtRXbcWvqduXPP9tElOWocgV4r\n",
       "Ss4hLkXW5HRdwR2DO17bTPBY6g6W0jODqVj13V2eF23Sbym+dz57hQ/3SmNQmyztoWx117Tbadd1\n",
       "goVV4tb05FLAgZS6OEC8vTxaGCYRKHdx/4LMIzAIJ2QxQTdgXis/Dk3wJ9gVS+udXgs1+kY6clSq\n",
       "Oe3+VMQtBN/soSpH31sii+a3nbm0n/Dqfj5l1zSt4sjVRjdsp+vvggUkWIpH2oU3e+1fAIt6uVhM\n",
       "oG75oOc1iL01PQU2e06pqhB/KOKoerGbBupPlm+shv+xXJmzia31uhOI6CKBCT8uXIkBJGUaD2GL\n",
       "HCX2SygbPkAO0gepG5vOIzipgkUQfwpJ7eJLjCiau9F9hRW0f7BadI2b7JRr5gtkd9jIxxGKIy9L\n",
       "NUEAAAGpQZ6nRREsO/8FivsbwAL6+GZoNcpqvryzqgmOaPlFRC7PZ7Fuv+qr+Y3oDypTXcoe3drL\n",
       "qXIny1RUVW4ORJEJtGJMn7zXl7nPxZM1Nc+JTmjPuibK0UuYZ6DwtLXhTIu8q6bVap/fIZR4gmJD\n",
       "l1X7dkn1KmxoE5AWnglbvedI/mne/SafRtR8XDTGxmE1PoflHT3l6AYdQvglUzZUl13IFpWI+oqa\n",
       "8jJ0BjWlg9m4caX6nk9omPKyHHFJVEg1xXMLWpph4iDj2qx+6zXesibSuMI9nm01hl0yAALW7wbB\n",
       "hW1pV/wt1uF4OcPhUBFdVzcxX0Akyhoi2ERiuR6/2ZHSArk5R10AQ8xRsxKc5jwBjTs7zWaOPnce\n",
       "Sug6Hd/bj86gSwXo/WRqBk1Te4PAw8LCbLE9TZiAunzK4AgwbkYZlDVGb/EwphFNoe1xUaMmjfT2\n",
       "0ePtFakVS3JTp2QSlJOOy48hYfUlWHb6WHnNg8wdYYisXaK1QggFZdDPAU8wJ8VnaOKnAAADAAAD\n",
       "AmuqdSVlLolo3jOr144lHNycDAq7uggypuMBKadk62EAAAEjAZ7GdEN/BxopXzogA5y055XuNTBT\n",
       "P4O1nl10ivY6cB5k9Hck5ToVyEP6XFxHHuYXqCULk5w9WERo+PndIfbQaGGvIJCNAMSJBBKAgoFG\n",
       "NIPcH6vSCM0oAuT0AYqsu96iyyytpuKl9zh2Hn++VAiSS1SznfgBY1o7GsCPz31yD87e+CjAAAd9\n",
       "+BhtBGzd2pH9bJwqmE8EMlTysIOS1Y1yQrJLrZ6o/IEjBBSO0Vf+JsgO5nia5WEaWu1Tzh9Cd1IB\n",
       "GzH8dpehAAG3giNsfy7bHKpncBgFCOvLb03SdNaCAFi0FN+2tJe2du/x/KKpWw2Sob4K9TYZrfit\n",
       "COxQ6pBP/jjzVVXiwOevmoOC8RHMP8Zb8Bh820T1Hy4siO1/EwtaO8qmAAAA/QGeyGpDfwdDnOIA\n",
       "L2KJ+wsuD9BWOwCpa2+C6dyAVDdM9Nz9y9n68EMotKyeKN9uP6fdmh8PVe5mCLCkuQ8MY5apIMQZ\n",
       "vl/lcVvoX+Kf8TU4v603BkK75bNr5RJAyxTtdQ5q+5WBQWeV/xlYJFkt5dfopPhTs8Q7SwJviwRN\n",
       "3snalMeUGtUq6Q/YmPmYs+p9NYjukn8qjoIgkjJ0KNYst2QxabzkBpguNS4kA5JzimX6Ok8+H+Ft\n",
       "yw1CfYg028JkYCi4tMbffbGvM2uRkFzV/whc3CzZAevmt4YRUhmqrXzZh5b3oeCikbyo1HbcCdfH\n",
       "b4hHv8x7nZa43KjwEdAAAAOUQZrNSahBbJlMCCP//rUrv6f0cVYk8nRTjAAfwjCEk6JrGEiRdv9B\n",
       "gPYMtJ/pwt9fujaW6Vn09Gxp0fNfmxPwEhoJhZv1xbS1Cw8KTu1bT1WEvSu58mPGuJisoiDpPVnc\n",
       "7i/XUIByCDvVIr6C84qOYfEWngRBxMCU2nSPyxe9jVQduotGL452JXcyJcE1mfbUYcTSV2694ko/\n",
       "c9G1oECOdPWXTgJzHu0pAXe2MAQl/QPsHGDLbGVIxgjD+hl3e1jWKM3F1y+eP/J+7MkeeoFv9oyY\n",
       "L/s6kHZTMBagxw8JHK2vxXFy2HL0PPqSyLGpl2BCBSDlSOQCv/mdZyfIjDsh2/eyrAmDkccm/DmC\n",
       "MYkuGFyy1dR4bbeq9Sg4HXMU6Jao02cROZ+8fbG0aULhgZMQ8J6+LAVYsRRdruDCe+R15m2oYNgy\n",
       "9hEJ59rCQVT5MqFiExpaus1lb4PCwLAiDqFypudj/IOsmARi8RDwjBRWVMVp0vKgJF4JDukTsxy4\n",
       "zem6dcwHbw/vPFAACgjke/ehN4Y5FKHoSY+M3wmtoEeZvIuwiNxMsleizU68s4qTjBIK/kADVMQX\n",
       "swagDl4kPJBO/AjSBMZT59CBUnWeYLMXZMfm6MtfTLI+iv8nbF56J+W3gb8Wj6coOZiOWlDkG/MF\n",
       "zfMZTS8f3prypp+uUCE8dh7msB8VMlkPUOqsvYo/+pP22rhT/jg7/GYGsiWM6lxVWZrUU5C/6Ceu\n",
       "XnbusVw5XMLQjRokOpMLji6a5B+6bVO+fMr7UTQnOnWSzJSXsFW5PCyvyhEPd+xfLhLBdj+zkPAf\n",
       "dmNBwLmPKijp7vbvyo1fIZQe/sYsBjIPROQTlWxd5thpA2aG1lxPJZvDmDN4o/DNbWENPdW1swEm\n",
       "nQ37Tv3FIORFFIUXLxD//3/4qsiS/vkJODD0emGDiwFCQe+zDfoqBWJm8eb67t8XsH9DT0TruIDw\n",
       "BT8nLPAYma3/UNkefCrs5TQR8flGPJY2hj7hfZk3MZFmwj8vnwyUeAV7FhC0chbLE2or4vpyvu20\n",
       "NwMzeO4VRJgSnzJ82vFOES77/GPjtKsPkImEZ04SgjWHoZkOCB1JZyzQ6EjxrLAWvWBpRRdxhZcg\n",
       "77pHtXoFPz1tkOy24NpDf5MxPwes384Jd1yKRWaf1RMGxbQNh7rrYDJ+OQtT6//3Qah6rJC+RBUN\n",
       "vB61btLkDAoOMagQpejM8jjgIeilwQAAAX5BnutFFSw7/wWFUo5oAH9HPQsnnKz0gwmqMGL28s+o\n",
       "isoG3Jnk+B1rYhowSWKlM2+5iuyk6+G3LcblgPRrNsh3hJ4HF5iFb96VITWTiKcOGGWATg/MQ/MD\n",
       "qwNossVFvkN7502/beJZUrB7TdXuGWfcV+RUfUNzO1XVY/PauQ73nj77nLY/NhvbHD+btGzZ6VtL\n",
       "VWJfbvSpjXudpDm1JNfrJAhcDgOKQknxfdfb4qlS0afRvcD9+NYbQh8/KZg90ExdyZK0R8RKragX\n",
       "R/KnhyukXSODeG2YscU9/B5yY5Hm74B/MXIGu/vcwLhlyPBPzWJkvdG3kf42b/lQUVO0m64XEkNs\n",
       "vdisflYg6XgO5cMAwFmnJCj3/IGMR/u8riatfp5nKu9CF2r+HrZuGsbxSgDeWEBy1p3vr0eREZge\n",
       "a9lE25+SS7sIcF+38sCZ3/Kh2BWvkIc2czrWXDKCXz7Bu3R2uT7UHGngsin2oszTPRCiRYAekYh+\n",
       "siHv/BKEUDIgAAAA/AGfCnRDfwanqCCk1DWRQCQAIX+IdZ2isSdThvBYCEIut6P6dTOb0JEyHYPD\n",
       "aHxcNQU18K/F92WUJH1WovoT7KM34/4cm2u+/Nt5x74UlE3kj/0S/vevhSdgeEae7REIxbOg/OQe\n",
       "W97eu58Y01pMZmJWjukhl1GS4hu4dUc7DgNvu3lj7A/tFbLYpNW41LnatGVJ4nAcW+hX2CYB5K9T\n",
       "djupRNb817q/XTma9S/hFFKvpSdwRfj05YC4wLiLcur1xkvZHvt9VTPPYBssaykOjp30hzs2y/f0\n",
       "D+Uf1eN97xLGfvNY6atYSnFnTTGwQLypb6rqb/Xhih5uZnhBQQAAARIBnwxqQ38GrSRz2EOAEH0E\n",
       "8oOIHdN2RlNShy37EqBVxdz44DDlWKVcY60XUHGF6KOHeTZC0LGyK3wGv+SGsP3jNFMgBzpN3y+a\n",
       "PKsXOOjxd5f6cRnKrO2S51JD0GfWgPFsmCthDBe0p27g+h9U+Kdz78HnsB0jTVN8PhG2H3r+JGC/\n",
       "rJ4/SNb1pX0/3vRgs8Nq02LyCq5uxx4FzdJLOGicbXvavx5/vgak4NE/umgGaQ0jsQMPLJWsoiGT\n",
       "ooycu1WO3NC5DtFBen5kWJRjIBa13rQUWKtrUqB+UwPWIapqWtHFWLMlIkX7D0NWYVQFeZcV515c\n",
       "NEaC2CSlZBaRjA9zXurtvXFKqJSdw36nOaaCPiThAAADIEGbEUmoQWyZTAgh//6qV4UMwAD+kXkq\n",
       "M0dWKza96ZSJedlqzAvtRRnF295TdvEy+gXiCt3LQcVP3X5xc/IYUjoGeYT2yuYzKgSK8iMGMzS4\n",
       "fRfIUeQExY/pA6fu2EIW2EOzNqMQQ5GIPVOhmfTSWBni6TuSIFFJ8KTneOIqgqDmRPQOPcYOQyoN\n",
       "M1P5+1znmnE/rvD6443GBItYn8z25tQUmlPzczxa3RfcqsHW8ERC3BqmMISw8yKePC2RxW5e9JEK\n",
       "I9IU3y4Fa/HuYej26sHSCXPVRpzJK0WeCmTCYgvIRBa7NcIg3Vay/NZGANXkHrm36ou8rJMnfPY9\n",
       "bUimh7SuEsTGkfLISLlYm0lALX9OHOnPifc4PLec6YjEdRs2xj99aUGJOKj31saapbb4lN7jWjwN\n",
       "QoP/FEcMOskSjhfrcrBAOqqsKUY15Cow5EZC7c6R5h0W9wFTSVQJ2XIjKFXkhYLPiVi4p/BOYa9d\n",
       "K7bgXJzihLRqwYuZMYSz0j1nKA1JlpoTH1L+Tl5WObJ7tUzGNmJ/2iU18Lz380OIinvniFGP1vB5\n",
       "OIggR23F5HMMdQxk3ods1FPJ/RgAqgC9Vf6n+jsVFZ/OfozcwR1GzeFCpFhhPQX1mHb/Pv6VFuQh\n",
       "HywUwNTcHcaGh1Lgmj1rkLGNh/lrfToBqp4CEvWZruStaCHN277F3+Zn86os4l+k86g0TKzWwYgc\n",
       "MLRdZ/Iyq1WU3WGvPI+Tl8r48KyzpqCBN/skvSZXvF4c6WVhUTMGby0jgLz+eOGgTvn+04T+6y8R\n",
       "HnVqdNhOCqvw599rIO2XmepTVmcKZKr6EjyPfPy923q+L/pXG1rocExaqXo9IyAnO7EucyQLcD7m\n",
       "4z/lFzi/IPIU5MZQXtcwugjxsw1YQw1nJAksMiue35K+ks+b5hCSw1v3gVlEvqhQR65sEVeaF1NH\n",
       "rxz3lrSxqP1KTN2uXv0b13pXbw3krPE0s1+O4Mlv/laT/Q6OdmTifaqIx+eY2KewsaU/xtrI+GgS\n",
       "mtm47s8IfDkowaYCq0JuQPHzcEnr3aN5d+oKWs50troBBXdxAAABlUGfL0UVLDv/BYVVIvAA/jiZ\n",
       "oWyzrheV/AoZdb7figiX6a2eV3d1lWSMRAGC24HiDpSt/4bDI9kwEBS0An5n0T3TzURZu2v4Zo5D\n",
       "koQ2ofyYh0blokZfE/8HV6firebhGG7mGim5RvR0G/WtBSLWdfyV4SXTq2I83K0z5uTH3O2Xy7/h\n",
       "YEX24M701z3nOoLIpKSvQI0um6BVAx1KuA2S70+Z5YuoKcCFSvZNkulxM68m7UBpx40qyEC1uruq\n",
       "BnZtsv3RL1y4M59MNlSTDmHhIBGsmYpUvFbZdZBxOaH0vSXQEiIN/TAfDXOflI8X5D79VFMaqN+r\n",
       "KEQSUg/6Od5NcPkDx+D+SbFaxfZmp485c5VQAAAWP+hZ/jviBhhCOZkuYzF8kZNA2txjlPqJdjNK\n",
       "fgTSKrdi8HkgxYVnJlh/1cN93g1GWYH2Cc+M4COL5AkRNGBYfqyX83k15umVjWQ0PIKvxsgDCKnr\n",
       "EPHMphsQUx3pGjG3lKRbApTsc15Ty31jzm3mx0QfCgR64ttO80DmVfTFOqTi4QAAAQYBn050Q38G\n",
       "rM0jykxyWXbiADW5usOvGGGNNiWVjRTqSDW5T3JLenvzsG5DODNn8fQCr6eKzHVhy7WClCR0l4pF\n",
       "89JozruWFOxl1wkDyuhyygYQyancmePL3M+b/YP/kVRtr1cLa0WPCPzMiQH2EZweeG6K/diaSiv+\n",
       "pLdRs3awV0ArtM8JnIZArq+whofLXD4gI1nlDUjAtWd3FmfeTWciAsbd/X+r7GjC9SbJx3yKzy+X\n",
       "rSUD3fY2RmJ59jnBc8Cvrik/N5oAAAMAAAaXLVx9nWEUF+ApfEf4AAEmWXaVpVcVk4RLJrN7qpka\n",
       "weT4hCyjJa7Z6RtE9/NeEMBYOHDqsU5qWGAxAAAA+wGfUGpDfwas4CIVgXSiABDhOHT/VEkIoNtw\n",
       "VMrnesHYtr4doDxwLRcvwWm2co7cyQ3nSOGFsdI5qoWi3kWd0bIWYWPzkSG0o3+nEWwC1WR+shqF\n",
       "hgv4An5YycAc1+uBttEJWSGwSyPX8i5pSxMj/cgwnUDCjPgwn5eLj65EaFMnkWGgptSqiMpnplhl\n",
       "kc2Miz+CMltKtMes5yCESjaDhFaOw12jqZQlgwr+gBZ6JvISyQT4ndKiZ7YuEMW/AHXMsfJPGS5U\n",
       "Nl8ERwQ584HN7zGBcXSzM0kz8Qup7iOlf084RPFY5eTc7xPg642ODpCwkZJfzQY7kxDIn7XgAAAD\n",
       "5UGbVUmoQWyZTAh///6pnSRe4xGS183oADjnJXnP/oWR3VVGk2I4J+P2jvlx9AnYL4iR3iDbqAku\n",
       "nSQWynb+d+laZICBBdgdfqJP8u9tMOGbsHPhsAYN8zaz3EcnOwBYo+kLUrsqsE3GUiQH8XQ7QNMZ\n",
       "7opnFeOby/aADf8KgV15+Xb5SvMuYZheEbqWKvDjBsSg2UY03+xCsL/KDCoh8KV0PJgazKXVcDG7\n",
       "DeyjzXLJzlr35GHumgJFNxRIEhYadbLZfqX0MTbMxYM/wAsRyK+GAG32pzd7o+yUxxWyu3K5BPWQ\n",
       "oAlvuW091KjSHzhBy55iTX7nJ66sT9PNJ+Fl8j1q2EOTAZnaceKF1P9hjYGdaRXE5r53t+WKyo8w\n",
       "5FuORWeg89N+xw+FwOf12F0rwor5uy+GmUrnRn19tk/W39yW/xLhtmrh8eM3zpojatqHCep/pUdu\n",
       "2bOIZMYFRfFwSGX9V0sJiz4KLz6KNypRHT9U1vCBdLy6h06pjhBWw/FXZ+LeXc04od8ufZt199Vk\n",
       "xTzox/rmr77YynniI5bQCS3QQuio4hMKYNTPUuet+y5S+YfmtoNaGctQLjMTcDowctirx/RRt5ft\n",
       "JwS1oiSn84pLedA5tyJGoTRZXGRd4LC6vJBYy1hCtwcXbTfdqq4DBG77DTqAL8xvlxR9Te87ztSM\n",
       "cKKqWdv9VFqH/6ktRRkI4JFoRawHBgT8zoRj16FkgaEqAxUtTe5SmZADnNq0YZQnjcpfMDkp/j/Z\n",
       "BD2mgisNaW9Mnw8+kP430Zv/D4jutxSfgt/ovmUW+c2hHToyNno5c4ghKtaT2DWEIeGEuw1Vrj/9\n",
       "9X4u9wDezvZgcrIj+6t3qQQT2bBLoQSfARYtTU7/2TK4iscOv/WLQ9zlMqKZCDSDqlg4D1LtDKPA\n",
       "UAhPbfkEeWt9/05SxUjfo9cr5N3RLuzDDZ8bGeFsMaWV4ecbEgFRBFLQiuUmeaQeVfgLsiTkraiz\n",
       "sX37yqZXyuDKZ+J+OhEpeQSLK+pKIuPRRALDhXKu48S36oIvPFbhJYFNJAy03uwNSw6ReceRugbZ\n",
       "2GVyMN80xOwJW9j+94wNl605JFn7XbOZ+Ws7q8wXm9+tB6tNiCd4BKghCD0pAZf0rAqSJwDZzwvw\n",
       "WV1gzbH6u1GlbvaD+Pn3BmQDu4Ut327ks+AJFhlacTSnfoLgfwkcHjL/3FNcvE7o4Oxpo4gzn+g1\n",
       "c0IZxKOXtWI5xbARChayWpV+uVnTNzbexvWvYEfKWqvPLIJVOa/bfa8ojLRCgxhqbev1CPoPUi79\n",
       "TtbNa8OphPAF6vvKxhF6CFY1J1Q/y/nh4xJKt4EAAAGsQZ9zRRUsO/8FGSVULPGmLsAJmQcqh8wE\n",
       "fA1WNsFgKbY6Qi5baKjAc+DU/hjRpbm0DYms2trr/7Gi5QgFNuxW1WxVJqeQ9fsj6pRRGUcWqJ6p\n",
       "a75e1XyfHPKJuucRwUMPvwWv36niEnfeUOHkPRmh6lHOtw/RhjhGqYY7C2x+1prnKeU9xZm7Z6qx\n",
       "FbW6vCxWWtzyhHj5TOX9QlnIbXJxRQslQ9eK9V6ER7j+hxqXDirMYggVsqsO8it85KfF/Pe/Shqt\n",
       "G6VsSopTxi6DvrXc1uzp9sVLmnMbUtq1lVXPi3EZq1MRJXQDIlb/8x2K/hJlPh+3FU7woOAvd4uO\n",
       "cfXlSFxCYs4kr/UZLDrk46rHAB/SiUoyS/gnr4TfvDIo/XVbo7o6nyqHvWvJYA05eK7NXsT0JgXi\n",
       "yO2YgWoZxhEmliBQTtBdYoa4CXUvwizsm98BGZhu6DhHpkyuBTQkGVuF84+0obD5nWo3EJr1JvEX\n",
       "iTBTFSIXTOWBrH2KfzUO8MqVsyUrDy4+cfPLzurUsokn1JtazJOOL/UgkKIdOwN31mqn6uPzcG8U\n",
       "wQpfPwYAAAEOAZ+SdEN/Bq0kTi7o3EAGx4yVyHhV/YJdhvNSaW157q/UcczKWskatlo+LxfvgApR\n",
       "sYw0KR7m94rcZjF2QVWe+yCFTBptaFjWTf9KL6lInXyQtOOynzMiaC4YtYowIiXA/HA3m6vD8lLT\n",
       "UXu6ja9KBT805VLt8Y+e9dberq4qFMj4DFW7d64xZc3rMUl8QhEySvenJABGKds1N+VYCHyBN4hP\n",
       "l8nEWa8/P2RZpFax4yCWyxS/Q1PN2Hbb9dql2xm/0tvO7HyoTKS+Feip+xBzkdFlYDSreJlabFti\n",
       "zSiA1UlxFgPUy60zjHUzqQXVk8xMJAzTmegqeYUFl9k59wYCLsEsksiidJZVJhkZhBFAAAABJQGf\n",
       "lGpDfwdDVvACFPJJVEpkrYjiud56jfJiI2HVt3wQFUGF64jn1/F715svv3uer8LGhC0mxWQ5Q0iP\n",
       "hHK3hLlpXL/qeOkrzju7J7z1KHGYF7jEs71X5xnFSekeGUpn3bRrbehaxjczhhLEnVZPWnSydQ46\n",
       "OYPRe5LRD4kmMwL9LFuJFybmbJLWn+deDlb6zIXufecVUod9XrGFsdGBlOeM91BuedY/shuvjd49\n",
       "aV7pJkJSNMHv8rMR1OD4iOqnfdUTB9Wi0o5jtFA1FL7gnnlxdxzD/utUT6b/NRtJxABBQugeEPNm\n",
       "IGmHPwpk7dXaW/oCcCOLWwU/8qowKk+9AEkvrvmFhU7HQpqBCYD5+0+f/ypl/4XnWg/2ZEfYj5oQ\n",
       "uKkx3BXRAAACNUGblkmoQWyZTAgh//6qV41jUACWpieMHVijUgWEZrNwGo7ArG3c9GJ7cFLAN+DW\n",
       "McR60mXz8R6pCbwdKOunHNplxIMfwDuIw2itjVCuAWYfDLFhglIneLax0SRViff9TMib6EmW6CkX\n",
       "vHFCm1V3JNQDqK812c5GZEteV2FUcJxxny7OiHJJ/TOO4Ov72+ASK4M+7v1Xz0feHvEE+OKP5ie0\n",
       "sncW8t9c5LIG6LTJj+C5qsly72vkg/f8C6b01fo4pzZzveU+AyLXOMoht4zLpT7mb8h95qKqqsr/\n",
       "PIpDR3sHpAYwdy7z1dA5R2Oec2CRx9CHBKeR6+OfCknqpGj2UhLYu3Ef2wDG0Te//gJ4+e7C21vb\n",
       "PYUMShcYW3H71rdqySBpwxvSav93tPAvpEF4/+GwV7XuN4gjOkoa/nuX470DueoYNEWcJIN653BU\n",
       "uCoMl7JabM0y/EcO97/YPBvzOqPr6cxFv2pmgAFj+KawWchyF108+X/iVrJivnPk5/5nkfxauUL0\n",
       "DY9ufL7fRzEmiLkA8BT5OkaUl8JULN+fD/AmS4OMEWXCuOTHcPbtcnT6PTYXAgatY+Ej+GV2nykZ\n",
       "RVlHrLWjWVD82z71rMCF11TuSQIbaZEdKZm6jkzEXPtD6U/ZvmG2sO2SUKCtGWR9oIr/bGEw1w4J\n",
       "OU8kYmAJkn6zr9q3Av+x8xw5lO54a4neHKrRRrI8UQ/nL6RERlaRZ0GD+N+o7LmtxSkvWfFnty/Z\n",
       "45wlGjgAAAH1QZu3SeEKUmUwIIf//qpXvr1sABb1wtNQ/8FBGsLQuP9WS+t3NQ8ALBlQ+jwScNLP\n",
       "F2r7tp1WBU6WWlTmzJDC23ArFWf679uXllBqTgI9YVy7uACR6l6ZX3JSPHtIkYn43HTN4aoNVRz9\n",
       "SBveqMgUt71PT0Bv7xJIuuqgJVnCAsUYciw9bxqSX6T/YP1iRxkvdz7eH8NBb+G2c3aSSz23vPha\n",
       "AGwZ41B5hsI49LOGJMEkMxD5YttdLA0fhk2Te7a0a8rtphMxBN0/AGCz2QWv5auU11j3RnomZhtU\n",
       "yz819bLslUC5pIE3UD/e0aPEldF8jYIL/OhEckgFLD7I9e3IxMt/iwMMXuncZz26MD9rWQk2WAXv\n",
       "BytGn/u6Ap4A0V4rEFDDQLCDgUVlfp4z01ScML/uTb7zinPc1N3iNZPVN40xrGEBpWViNoiscyFN\n",
       "ZVnYxP7mmHYKCKGmbOrejJ5KUOB/mP9mbwct4//x3iDose3s7cWAhJ+NBTd1m7s+KJFxqL+QOEbt\n",
       "MxM51D0mK04ToZlZW+m/byISgX9tExHrm8A+xE3ooQcWyGikp+tmIb5BfYbrmYxF5yKZbqVm46YG\n",
       "cTCEs1W1hnIOwangcKzdXHa7f4QL+RXriGvzOBxl90TjmHuNZECfE0MfOOJRMIbmCCdBBfPhAAAC\n",
       "sEGb20nhDomUwIf//qmcZEMYANqQD9Zlvq33fNM3yCQ5hvCWZp+RLdy3/j+VblWftRwz3LVCuEhm\n",
       "XTJdXbIQFc0gfdy3nn0AZX9R1SjbZwElBtttuEQfeSpM45lkznQ1/Hy2G5M7wX+IQ0u3vCWjMGKa\n",
       "UH+s7knhUzJkPZ4YG4tAPvFztXQiurqTe5Xn1gG+8Qy+1grDnHp4wdJV1D11Ro/UDWA/1bkCk9T9\n",
       "c5EgPpFaYN1wNr0aS9ER4QGWPgj8CFhZQercqFqYYL9Ls/ww+eWHp7R6k1z4lt0aDTrAl432hwMR\n",
       "Z52NIGO+hP30PLn68a1U7MO8ib7fQ3SWHVJ5lBfa2uqgAe+as0R5eK1fcaltv/9m+P/Rs+NaigEk\n",
       "u17jRM8Ze0aw3ndcPUo/OeLGHVBlFtK1AvFerXinYuzzq+/xgfa0mlQsEFEbeX0E/lIHp3bMTaGY\n",
       "OKxivpFU5DDyS/Z+/JKwqEux7eF7VJUuolZM9ZbCZ845ONLP79uYS73yWF18Z1U+PQOuVoy1trgf\n",
       "VXeX+kZwZ+z5jXfvcvUmyy4KoR8LMZL6GXRhYT10Jd9jb610b1mVruRtouvXZLW6LRfXJ3faTIH0\n",
       "lrCHLrAtcv0wvCCm4G1QyYOjtn96eQ091QW8A8CP04Y153SewW/dJh7pwUNPflg0EzffmHwjFHwk\n",
       "m/EGpFYDv9+ju6BmSCm/v2SLPboXBcKrQRwG73tnHk38+623S5xZpId6B7tTqSEmoSBGHD6+YE/a\n",
       "GFQOGKUUeHlMY4sqPva4OmkWAn3aEUCzCByRJZnazXI5n9iyC68tSBQ8sjer0Zo1g4mzsKKoFW9A\n",
       "+db/FLcfqJws19Bkqql2kGqfkF4MxIpQL9tBCrtR8ZlO6v+ujcypLRPMwwb/QZTlDS70G2Tqr1MA\n",
       "h2Em1eUAAAGGQZ/5RRE8O/8FlXssAJq1sgKrRZG9qnyZ5iKxWuPmD09fa78mWWoBxLUttUN6nCml\n",
       "/yxYbk7gDE0s7RQmnxajMIBUw3HQQ5juESMQaTycBvxgjPO1v4IGz9PfNOOGCdlF4tiRVJ8op0Tv\n",
       "Fp496Ejm05nbcXTUkaW7XEyCWEtPaLh0VAtBwFv6E/+oFJCwALM6svhA/vCV+EFySaie5AJDqYgY\n",
       "M/1wkg89ZLyb9oMDF5yfU2emW1XamJRe5FfnEqxe2AADzY+GbICixP6TFpgQVNyiAwjJB0nBgaeS\n",
       "bkBZOZu1Nt843dAsGxz3gnBPCe7CH6goK0BS3jX6ajFm6vemsfSl7CN3b7YjvG5gpmhS7DqSDqOd\n",
       "DgLN++rH1bbOND8gCG289y916o+brZpD7Svix5cGlqqI3Bfh4WD+WGSCn671+ED5abxv1P8m14VK\n",
       "uWxMkEx83ClMQVQ299Sfi1jgAAe/VN4J6mxkgi5uOYNIbsnLGRv8y1OGKjGUtwvh9qGZXzc2YMOA\n",
       "AAABOQGeGHRDfwdx0QAhT0F4rQ2yZex6JbAuYElZ31jPaVfflgqFsFUqW89xMZpOvSAWdr5bQqEg\n",
       "MbIxcKjSSuI32lUH4R6WLEUPo0/QQ+PB7yTSs82w4QCbeggPFOf9GIg5tnGA1WaLCJnvMN/l9kzm\n",
       "nHtE8mQYWFaMeQ/59KaYroRbirqI69vdpHW09zA/zxzkVHd4cDV72WVmMUE2CKVYO/jRS+Qg6390\n",
       "61FDk48MC1Wtb335Gtuk9lbGX5tJzVFRCj/IWA4JIdJXHBUklO34cqpkbFl5c018Gpc9iyy2ROJB\n",
       "5ztA1ZRuIugQBUocAjzknbNtd/MDbB+MiHRfGr3ogHp2RTW3EwTg+udWwnnIHGxxMCeMza/pvqHN\n",
       "N5NxjsBKMtQHB8840+AxRba660nmk/+zp7RrLsnWzUkAAAD/AZ4aakN/B0fIQACIPeZygDeFn7nN\n",
       "t8/2oSYiySoFUpKtXzcNCE0csFK2ctHPSLE9lvKOf98T6dY8DJHqSVQvGKrONBppLIPYSdk3AUBJ\n",
       "9rev/q8bOFKs5rE72vU/LRMP1HAN9maWWtLY1wgZbzh1Ju2JOl+2QkW1VZss/ZzuEDcEObbhcprH\n",
       "xvXKKvY0ILARoVNKRXHOE5I2fSLQ91ZeTRGsJzhcrppCriz/yQf6pHaktqlTHaVWUsPYzXbBQL8H\n",
       "lesT0jhZ8NURjVKRt2rtVIkTu4BPmHMgaptyANkC9a6KM9AT/1y4zC+0VMPDGIlQoNzSUHOS22oR\n",
       "lgdbcJJwAAABcUGaHUmoQWiZTBTw3/6njh9BTjokACHESvRnRl8Ak7cSl+0jhS/ZQ5LRZ3xoFLdU\n",
       "BMhelOSpYTQdOZsBNFzkcJQFMqFR1xvfAtAT7GCge8+3Hxh55JxsswYQLjl5F67PlareXKAe0moi\n",
       "VaN0XzwDb4EwW6ny/G7LLY8xyruKc0fMaulq1VL79q/TaEHYVIgEeuN4yZ4oN3LmECeHjDLYhnZs\n",
       "GyLMm3VqCsM5rqj9jo6Doavv4iaGycRdupGCiV4/NSe/zJNxhmc0yPf2MhJG6JHwZzwSUSjncZiD\n",
       "Jrz6xHR3sui38+Pb7DLtlWvdtGRmNKS40mEK/Sj+RgIfPGeP76Y8u4vW9ZUfIODWu2/EUmHZIUK6\n",
       "Y1MPKV0sMLQQ/K9KWypwddB162nfXY1Z2xUv/yRawMm5kenEvg/IV7hiLxf7BsB8cZfDVbXWKLaS\n",
       "y8XRByDyzrX2jkV1e8RChI2vFaXpjbCFtAV986crgHAUtBbqgQAAATwBnjxqQ38HGmXWQAbS9Oq0\n",
       "gYXJOOBfQND7TdDzbvS8jPcDMozGmrw7y20KcGJgYV1xWghW4wy1hLVxmg+1/Xv9Pq75fTpWgreI\n",
       "PqbWqRnK39gdYV2J5LO9Oc/g/sjKdsVclmFo/bvC/oPx7kT1ndWTjGL20WB6dmNYw2XuaAHVURk/\n",
       "EsqUtgtfrVhX+GvVq+N7AwfrV77njrbS/z66rwbAwCdzDuFPB/7iMAuBCfFWCPUMgUQPeMzcEbX/\n",
       "pxSR5O33nfUXOsgzILfWDsD5aJIjKpk8S8n2M5if76w0iZ1pqlphDNL2+YML37g3mxtp2KadBLwQ\n",
       "yr4y0ONOsMj6NbHnd5e2dxxp5djME9D9PBeVxFXXRw1M4D0zMtFLW3A0Y9cLOwgrPCF3Mpg4onVw\n",
       "vPL6Mxa0OK04lF2UTbeBAAAEhm1vb3YAAABsbXZoZAAAAAAAAAAAAAAAAAAAA+gAAAu4AAEAAAEA\n",
       "AAAAAAAAAAAAAAABAAAAAAAAAAAAAAAAAAAAAQAAAAAAAAAAAAAAAAAAQAAAAAAAAAAAAAAAAAAA\n",
       "AAAAAAAAAAAAAAAAAAAAAAIAAAOwdHJhawAAAFx0a2hkAAAAAwAAAAAAAAAAAAAAAQAAAAAAAAu4\n",
       "AAAAAAAAAAAAAAAAAAAAAAABAAAAAAAAAAAAAAAAAAAAAQAAAAAAAAAAAAAAAAAAQAAAAAGwAAAB\n",
       "IAAAAAAAJGVkdHMAAAAcZWxzdAAAAAAAAAABAAALuAAACAAAAQAAAAADKG1kaWEAAAAgbWRoZAAA\n",
       "AAAAAAAAAAAAAAAAKAAAAHgAVcQAAAAAAC1oZGxyAAAAAAAAAAB2aWRlAAAAAAAAAAAAAAAAVmlk\n",
       "ZW9IYW5kbGVyAAAAAtNtaW5mAAAAFHZtaGQAAAABAAAAAAAAAAAAAAAkZGluZgAAABxkcmVmAAAA\n",
       "AAAAAAEAAAAMdXJsIAAAAAEAAAKTc3RibAAAALNzdHNkAAAAAAAAAAEAAACjYXZjMQAAAAAAAAAB\n",
       "AAAAAAAAAAAAAAAAAAAAAAGwASAASAAAAEgAAAAAAAAAAQAAAAAAAAAAAAAAAAAAAAAAAAAAAAAA\n",
       "AAAAAAAAAAAAABj//wAAADFhdmNDAWQAFf/hABhnZAAVrNlBsJaEAAADAAQAAAMAUDxYtlgBAAZo\n",
       "6+PLIsAAAAAcdXVpZGtoQPJfJE/FujmlG88DI/MAAAAAAAAAGHN0dHMAAAAAAAAAAQAAAB4AAAQA\n",
       "AAAAFHN0c3MAAAAAAAAAAQAAAAEAAADwY3R0cwAAAAAAAAAcAAAAAgAACAAAAAABAAAUAAAAAAEA\n",
       "AAgAAAAAAQAAAAAAAAABAAAEAAAAAAEAABQAAAAAAQAACAAAAAABAAAAAAAAAAEAAAQAAAAAAQAA\n",
       "FAAAAAABAAAIAAAAAAEAAAAAAAAAAQAABAAAAAABAAAUAAAAAAEAAAgAAAAAAQAAAAAAAAABAAAE\n",
       "AAAAAAEAABQAAAAAAQAACAAAAAABAAAAAAAAAAEAAAQAAAAAAgAACAAAAAABAAAUAAAAAAEAAAgA\n",
       "AAAAAQAAAAAAAAABAAAEAAAAAAEAAAwAAAAAAQAABAAAAAAcc3RzYwAAAAAAAAABAAAAAQAAAB4A\n",
       "AAABAAAAjHN0c3oAAAAAAAAAAAAAAB4AABPbAAACyAAABJ4AAAHCAAABXQAAAScAAAQoAAABrQAA\n",
       "AScAAAEBAAADmAAAAYIAAAEAAAABFgAAAyQAAAGZAAABCgAAAP8AAAPpAAABsAAAARIAAAEpAAAC\n",
       "OQAAAfkAAAK0AAABigAAAT0AAAEDAAABdQAAAUAAAAAUc3RjbwAAAAAAAAABAAAALAAAAGJ1ZHRh\n",
       "AAAAWm1ldGEAAAAAAAAAIWhkbHIAAAAAAAAAAG1kaXJhcHBsAAAAAAAAAAAAAAAALWlsc3QAAAAl\n",
       "qXRvbwAAAB1kYXRhAAAAAQAAAABMYXZmNTYuNDAuMTAx\n",
       "\">\n",
       "  Your browser does not support the video tag.\n",
       "</video>"
      ],
      "text/plain": [
       "<IPython.core.display.HTML object>"
      ]
     },
     "execution_count": 35,
     "metadata": {},
     "output_type": "execute_result"
    }
   ],
   "source": [
    "# Create an animation of the traffic density.\n",
    "anim = animation.FuncAnimation(fig, update_plot,\n",
    "                               frames=nt, fargs=(rho_hist,),\n",
    "                               interval=100)\n",
    "# Display the video.\n",
    "HTML(anim.to_html5_video())"
   ]
  },
  {
   "cell_type": "markdown",
   "metadata": {},
   "source": [
    "That definitely looks different!  Do you think this is more or less accurate than our previous model?"
   ]
  },
  {
   "cell_type": "markdown",
   "metadata": {},
   "source": [
    "##### Dig Deeper"
   ]
  },
  {
   "cell_type": "markdown",
   "metadata": {},
   "source": [
    "The new traffic-flux model that we developed here changes the way that traffic patterns evolve. In this lesson, we only experimented with the most basic scheme: forward-time, backward-space.  Try to implement the green-light problem using one of the second-order schemes from [Lesson 2](https://nbviewer.jupyter.org/github/numerical-mooc/numerical-mooc/blob/master/lessons/03_wave/03_02_convectionSchemes.ipynb)."
   ]
  },
  {
   "cell_type": "markdown",
   "metadata": {},
   "source": [
    "## References"
   ]
  },
  {
   "cell_type": "markdown",
   "metadata": {},
   "source": [
    "* Neville D. Fowkes and John J. Mahony, *\"An Introduction to Mathematical Modelling,\"* Wiley & Sons, 1994. Chapter 14: Traffic Flow."
   ]
  },
  {
   "cell_type": "markdown",
   "metadata": {},
   "source": [
    "---\n",
    "\n",
    "###### The cell below loads the style of the notebook."
   ]
  },
  {
   "cell_type": "code",
   "execution_count": 36,
   "metadata": {},
   "outputs": [
    {
     "data": {
      "text/html": [
       "<link href='http://fonts.googleapis.com/css?family=Alegreya+Sans:100,300,400,500,700,800,900,100italic,300italic,400italic,500italic,700italic,800italic,900italic' rel='stylesheet' type='text/css'>\n",
       "<link href='http://fonts.googleapis.com/css?family=Arvo:400,700,400italic' rel='stylesheet' type='text/css'>\n",
       "<link href='http://fonts.googleapis.com/css?family=PT+Mono' rel='stylesheet' type='text/css'>\n",
       "<link href='http://fonts.googleapis.com/css?family=Shadows+Into+Light' rel='stylesheet' type='text/css'>\n",
       "<link href='http://fonts.googleapis.com/css?family=Nixie+One' rel='stylesheet' type='text/css'>\n",
       "<link href='https://fonts.googleapis.com/css?family=Source+Code+Pro' rel='stylesheet' type='text/css'>\n",
       "<style>\n",
       "\n",
       "@font-face {\n",
       "    font-family: \"Computer Modern\";\n",
       "    src: url('http://mirrors.ctan.org/fonts/cm-unicode/fonts/otf/cmunss.otf');\n",
       "}\n",
       "\n",
       "#notebook_panel { /* main background */\n",
       "    background: rgb(245,245,245);\n",
       "}\n",
       "\n",
       "div.cell { /* set cell width */\n",
       "    width: 750px;\n",
       "}\n",
       "\n",
       "div #notebook { /* centre the content */\n",
       "    background: #fff; /* white background for content */\n",
       "    width: 1000px;\n",
       "    margin: auto;\n",
       "    padding-left: 0em;\n",
       "}\n",
       "\n",
       "#notebook li { /* More space between bullet points */\n",
       "    margin-top:0.8em;\n",
       "}\n",
       "\n",
       "/* draw border around running cells */\n",
       "div.cell.border-box-sizing.code_cell.running { \n",
       "    border: 1px solid #111;\n",
       "}\n",
       "\n",
       "/* Put a solid color box around each cell and its output, visually linking them*/\n",
       "div.cell.code_cell {\n",
       "    background-color: rgb(256,256,256); \n",
       "    border-radius: 0px; \n",
       "    padding: 0.5em;\n",
       "    margin-left:1em;\n",
       "    margin-top: 1em;\n",
       "}\n",
       "\n",
       "div.text_cell_render{\n",
       "    font-family: 'Alegreya Sans' sans-serif;\n",
       "    line-height: 140%;\n",
       "    font-size: 125%;\n",
       "    font-weight: 400;\n",
       "    width:600px;\n",
       "    margin-left:auto;\n",
       "    margin-right:auto;\n",
       "}\n",
       "\n",
       "\n",
       "/* Formatting for header cells */\n",
       ".text_cell_render h1 {\n",
       "    font-family: 'Nixie One', serif;\n",
       "    font-style:regular;\n",
       "    font-weight: 400;    \n",
       "    font-size: 45pt;\n",
       "    line-height: 100%;\n",
       "    color: rgb(0,51,102);\n",
       "    margin-bottom: 0.5em;\n",
       "    margin-top: 0.5em;\n",
       "    display: block;\n",
       "}\n",
       "\n",
       ".text_cell_render h2 {\n",
       "    font-family: 'Nixie One', serif;\n",
       "    font-weight: 400;\n",
       "    font-size: 30pt;\n",
       "    line-height: 100%;\n",
       "    color: rgb(0,51,102);\n",
       "    margin-bottom: 0.1em;\n",
       "    margin-top: 0.3em;\n",
       "    display: block;\n",
       "}\t\n",
       "\n",
       ".text_cell_render h3 {\n",
       "    font-family: 'Nixie One', serif;\n",
       "    margin-top:16px;\n",
       "    font-size: 22pt;\n",
       "    font-weight: 600;\n",
       "    margin-bottom: 3px;\n",
       "    font-style: regular;\n",
       "    color: rgb(102,102,0);\n",
       "}\n",
       "\n",
       ".text_cell_render h4 {    /*Use this for captions*/\n",
       "    font-family: 'Nixie One', serif;\n",
       "    font-size: 14pt;\n",
       "    text-align: center;\n",
       "    margin-top: 0em;\n",
       "    margin-bottom: 2em;\n",
       "    font-style: regular;\n",
       "}\n",
       "\n",
       ".text_cell_render h5 {  /*Use this for small titles*/\n",
       "    font-family: 'Nixie One', sans-serif;\n",
       "    font-weight: 400;\n",
       "    font-size: 16pt;\n",
       "    color: rgb(163,0,0);\n",
       "    font-style: italic;\n",
       "    margin-bottom: .1em;\n",
       "    margin-top: 0.8em;\n",
       "    display: block;\n",
       "}\n",
       "\n",
       ".text_cell_render h6 { /*use this for copyright note*/\n",
       "    font-family: 'PT Mono', sans-serif;\n",
       "    font-weight: 300;\n",
       "    font-size: 9pt;\n",
       "    line-height: 100%;\n",
       "    color: grey;\n",
       "    margin-bottom: 1px;\n",
       "    margin-top: 1px;\n",
       "}\n",
       "\n",
       ".CodeMirror{\n",
       "    font-family: \"Source Code Pro\";\n",
       "    font-size: 90%;\n",
       "}\n",
       "\n",
       ".alert-box {\n",
       "    padding:10px 10px 10px 36px;\n",
       "    margin:5px;\n",
       "}\n",
       "\n",
       ".success {\n",
       "    color:#666600;\n",
       "    background:rgb(240,242,229);\n",
       "}\n",
       "</style>\n",
       "\n",
       "<script>\n",
       "    MathJax.Hub.Config({\n",
       "                        TeX: {\n",
       "                            extensions: [\"AMSmath.js\"],\n",
       "                            equationNumbers: { autoNumber: \"AMS\", useLabelIds: true}\n",
       "                            },\n",
       "                        tex2jax: {\n",
       "                            inlineMath: [ ['$','$'], [\"\\\\(\",\"\\\\)\"] ],\n",
       "                            displayMath: [ ['$$','$$'], [\"\\\\[\",\"\\\\]\"] ]\n",
       "                            },\n",
       "                        displayAlign: 'center', // Change this to 'center' to center equations.\n",
       "                        \"HTML-CSS\": {\n",
       "                            styles: {'.MathJax_Display': {\"margin\": 4}}\n",
       "                            }\n",
       "                        });\n",
       "    MathJax.Hub.Queue(\n",
       "                      [\"resetEquationNumbers\", MathJax.InputJax.TeX],\n",
       "                      [\"PreProcess\", MathJax.Hub],\n",
       "                      [\"Reprocess\", MathJax.Hub]\n",
       "                     );\n",
       "</script>\n"
      ],
      "text/plain": [
       "<IPython.core.display.HTML object>"
      ]
     },
     "execution_count": 36,
     "metadata": {},
     "output_type": "execute_result"
    }
   ],
   "source": [
    "from IPython.core.display import HTML\n",
    "css_file = '../../styles/numericalmoocstyle.css'\n",
    "HTML(open(css_file, 'r').read())"
   ]
  }
 ],
 "metadata": {
  "kernelspec": {
   "display_name": "Python 3 (MOOC)",
   "language": "python",
   "name": "py36-mooc"
  },
  "language_info": {
   "codemirror_mode": {
    "name": "ipython",
    "version": 3
   },
   "file_extension": ".py",
   "mimetype": "text/x-python",
   "name": "python",
   "nbconvert_exporter": "python",
   "pygments_lexer": "ipython3",
   "version": "3.6.6"
  }
 },
 "nbformat": 4,
 "nbformat_minor": 1
}
