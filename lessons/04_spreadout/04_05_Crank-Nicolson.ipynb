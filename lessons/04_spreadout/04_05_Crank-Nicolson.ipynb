{
 "metadata": {
  "name": "",
  "signature": "sha256:8d45ad905d9a74126a6305b112e9e8346670dd0e629cf82a5321c09747e3044e"
 },
 "nbformat": 3,
 "nbformat_minor": 0,
 "worksheets": [
  {
   "cells": [
    {
     "cell_type": "heading",
     "level": 6,
     "metadata": {},
     "source": [
      "Content under Creative Commons Attribution license CC-BY 4.0, code under MIT license (c)2014 L.A. Barba, C.D. Cooper, G.F. Forsyth."
     ]
    },
    {
     "cell_type": "heading",
     "level": 1,
     "metadata": {},
     "source": [
      "Spreading out"
     ]
    },
    {
     "cell_type": "markdown",
     "metadata": {},
     "source": [
      "Welcome to the fifth, and last, notebook of Module 4 \"_Spreading out: diffusion problems,\"_ of our fabulous course **\"Practical Numerical Methods with Python.\"**\n",
      "\n",
      "In this course module, we have learned about explicit and implicit methods for parabolic equations in 1 and 2 dimensions. So far, all schemes have been first-order in time and second-order in space. _Can we do any better?_ We certainly can: this notebook presents the Crank-Nicolson scheme, which is a second-order method in both time and space! We will continue to use the heat equation to guide the discussion, as we've done throughout this module. "
     ]
    },
    {
     "cell_type": "heading",
     "level": 2,
     "metadata": {},
     "source": [
      "Crank-Nicolson scheme"
     ]
    },
    {
     "cell_type": "markdown",
     "metadata": {},
     "source": [
      "The [Crank Nicolson scheme](http://en.wikipedia.org/wiki/Crank\u2013Nicolson_method) is a popular second-order, implicit method used with parabolic PDEs in particular. It was developed by John Crank and [Phyllis Nicolson](http://en.wikipedia.org/wiki/Phyllis_Nicolson). The main idea is to take the average between the solutions at $t^n$ and $t^{n+1}$ in the evaluation of the spatial derivative. Why bother doing that? Because the time derivative will then be discretized with a centered scheme, giving second-order accuracy!\n",
      "\n",
      "Remember the 1D heat equation from the [first notebook](https://github.com/numerical-mooc/numerical-mooc/blob/master/lessons/04_spreadout/01_Heat_Equation_1D_Explicit.ipynb)? Just to refresh your memory, here it is:\n",
      "\n",
      "\\begin{equation}\n",
      "\\frac{\\partial T}{\\partial t} = \\alpha \\frac{\\partial^2T}{\\partial x^2}.\n",
      "\\end{equation}\n",
      "\n",
      "In this case, the Crank-Nicolson scheme leads to the following discretized equation:\n",
      "\n",
      "\\begin{eqnarray}\n",
      "\\frac{T^{n+1}_i - T^n_i}{\\Delta t} = & \\nonumber \\\\\n",
      "\\alpha \\cdot \\frac{1}{2} &\\left( \n",
      "\\frac{T^{n+1}_{i+1} - 2T^{n+1}_i + T^{n+1}_{i-1}}{\\Delta x^2} \n",
      "+ \\frac{T^n_{i+1}-2T^n_i + T^n_{i-1}}{\\Delta x^2}\n",
      "\\right)\n",
      "\\end{eqnarray}\n",
      "\n",
      "Notice how the both time indices $n$ and $n+1$ appear on the right-hand side. You know we'll have to rearrange this equation, right? Now look at the stencil and notice that we are using more information than before in the update."
     ]
    },
    {
     "cell_type": "markdown",
     "metadata": {},
     "source": [
      "![stencil-cranknicolson](./figures/stencil-cranknicolson.png)\n",
      "\n",
      "#### Figure 2. Stencil of the Crank-Nicolson scheme."
     ]
    },
    {
     "cell_type": "markdown",
     "metadata": {},
     "source": [
      "Rearraning terms so that everything that we don't know is on the left side and what we do know on the right side, we get\n",
      "\n",
      "\\begin{eqnarray} \n",
      "-T^{n+1}_{i-1} + 2\\left(\\frac{\\Delta x^2}{\\alpha\\Delta t}+1\\right)T^{n+1}_i - T^{n+1}_{i+1} = & \\nonumber\\\\\n",
      "T^{n}_{i-1} + & 2\\left(\\frac{\\Delta x^2}{\\alpha\\Delta t}-1\\right)T^{n}_i + T^{n}_{i+1}\n",
      "\\end{eqnarray}\n",
      "\n",
      "Again, we are left with a linear system of equations. Check out the left side of that equation: it looks a lot like the matrix from [notebook 2](https://github.com/numerical-mooc/numerical-mooc/blob/master/lessons/04_spreadout/02_Heat_Equation_1D_Implicit.ipynb), doesn't it? Apart from the slight modification in the $T_i^{n+1}$ term, the left side of the equation is pretty much the same. What about the right-hand side? Sure, it looks quite different, but that is not a problem, we know all those terms!\n",
      "\n",
      "Things don't change much for boundary conditions, either. We've seen all the cases already. Say $T_0^{n+1}$ is a Dirichlet boundary. Then the equation for $i=1$ becomes\n",
      "\n",
      "\\begin{eqnarray} \n",
      " 2\\left(\\frac{\\Delta x^2}{\\alpha\\Delta t}+1\\right)T^{n+1}_1 - T^{n+1}_{2} = & \\nonumber\\\\ \n",
      " T^{n}_{0} + & 2\\left(\\frac{\\Delta x^2}{\\alpha\\Delta t}-1\\right)T^{n}_1 + T^{n}_{2} + T^{n+1}_{0}\n",
      "\\end{eqnarray}\n",
      "\n",
      "And if we have a Neumann boundary $\\left(\\left.\\frac{\\partial T}{\\partial x}\\right|_{x=L} = q\\right)$ at $T_{n_x-1}^{n+1}$? We know this stuff, right? For $i=n_x-2$ we get\n",
      "\n",
      "\\begin{eqnarray} \n",
      "-T^{n+1}_{n_x-3} + \\left(2\\frac{\\Delta x^2}{\\alpha\\Delta t}+1\\right)T^{n+1}_{n_x-2} = & \\nonumber\\\\\n",
      "T^{n}_{n_x-3} + & 2\\left(\\frac{\\Delta x^2}{\\alpha\\Delta t}-1\\right)T^{n}_{n_x-2} + T^{n}_{n_x-1} + q\\Delta x\n",
      "\\end{eqnarray}\n",
      "\n",
      "The code will look a lot like the implicit method from the [second notebook](https://github.com/numerical-mooc/numerical-mooc/blob/master/lessons/04_spreadout/02_Heat_Equation_1D_Implicit.ipynb). Only some terms of the matrix and right-hand-side vector will be different, which changes some of our custom functions."
     ]
    },
    {
     "cell_type": "heading",
     "level": 3,
     "metadata": {},
     "source": [
      "The linear system"
     ]
    },
    {
     "cell_type": "markdown",
     "metadata": {},
     "source": [
      "Just like in [notebook 2](https://github.com/numerical-mooc/numerical-mooc/blob/master/lessons/04_spreadout/02_Heat_Equation_1D_Implicit.ipynb), we need to solve a linear system on every time step of the form:\n",
      "\n",
      "$$[A][T^{n+1}_\\text{int}] = [b]+[b]_{b.c.}$$\n",
      "\n",
      "The coefficient matrix is very similar to the previous case, but the right-hand side changes a lot:\n",
      "\n",
      "\\begin{align}\\left[ \\begin{array}{cccccc}\n",
      " 2\\left(\\frac{1}{\\sigma}+1\\right) & -1 & 0 & \\cdots & & 0 \\\\\n",
      " -1 & 2\\left(\\frac{1}{\\sigma}+1\\right) & -1 & 0 & \\cdots & 0 \\\\\n",
      " 0 & & \\ddots& & & \\vdots \\\\\n",
      " \\vdots & & & & 2\\left(\\frac{1}{\\sigma}+1\\right)& \\\\\n",
      " 0 & \\cdots & & & -1 & \\left(2\\frac{1}{\\sigma}+1\\right) \\end{array} \\right]\n",
      " \\cdot \n",
      " \\left[ \\begin{array}{c} \n",
      " T_1^{n+1} \\\\ T_2^{n+1} \\\\ \\vdots \\\\ \\\\ T_{N-2}^{n+1} \\end{array} \\right]\n",
      " =\n",
      " \\left[ \\begin{array}{c} \n",
      " T_0^n + 2\\left(\\frac{1}{\\sigma}-1\\right)T_1^n + T_2^n \\\\  T_1^n + 2\\left(\\frac{1}{\\sigma}-1\\right)T_2^n + T_3^n \\\\ \\vdots \\\\ \\\\  T_{n_x-3}^n + 2\\left(\\frac{1}{\\sigma}-1\\right)T_{n_x-2}^n + T_{n_x-1}^n \\end{array} \\right]\n",
      " +\n",
      " \\begin{bmatrix}\n",
      "  T_0^{n+1}\\\\\n",
      "  0\\\\\\\\\n",
      "  \\vdots\\\\\\\\\n",
      "  0\\\\\n",
      "  q\\Delta x\n",
      " \\end{bmatrix}\n",
      " \\end{align} \n"
     ]
    },
    {
     "cell_type": "markdown",
     "metadata": {},
     "source": [
      "Let's write a function that will create the coefficient matrix and right-hand-side vectors for the heat conduction problem from [notebook 2](https://github.com/numerical-mooc/numerical-mooc/blob/master/lessons/04_spreadout/02_Heat_Equation_1D_Implicit.ipynb): with Dirichlet boundary at $x=0$ and zero-flux boundary $(q=0)$ at $x=L$."
     ]
    },
    {
     "cell_type": "code",
     "collapsed": false,
     "input": [
      "import numpy\n",
      "from scipy.linalg import solve"
     ],
     "language": "python",
     "metadata": {},
     "outputs": [],
     "prompt_number": 1
    },
    {
     "cell_type": "code",
     "collapsed": false,
     "input": [
      "def generateMatrix(N, sigma):\n",
      "    \"\"\" Computes the matrix for the diffusion equation with Crank-Nicolson\n",
      "        Dirichlet condition at i=0, Neumann at i=-1\n",
      "    \n",
      "    Parameters:\n",
      "    ----------\n",
      "    N: int\n",
      "        Number of discretization points\n",
      "    sigma: float \n",
      "        alpha*dt/dx^2\n",
      "    \n",
      "    Returns:\n",
      "    -------\n",
      "    A: 2D numpy array of float\n",
      "        Matrix for diffusion equation\n",
      "    \"\"\"\n",
      "   \n",
      "    # Setup the diagonal\n",
      "    d = 2*numpy.diag(numpy.ones(N-2)*(1+1./sigma))\n",
      "    \n",
      "    # Consider Neumann BC\n",
      "    d[-1,-1] = 1+2./sigma\n",
      "    \n",
      "    # Setup upper diagonal\n",
      "    ud = numpy.diag(numpy.ones(N-3)*-1, 1)\n",
      "    \n",
      "    # Setup lower diagonal\n",
      "    ld = numpy.diag(numpy.ones(N-3)*-1, -1)\n",
      "    \n",
      "    A = d + ud + ld\n",
      "    \n",
      "    return A"
     ],
     "language": "python",
     "metadata": {},
     "outputs": [],
     "prompt_number": 2
    },
    {
     "cell_type": "code",
     "collapsed": false,
     "input": [
      "def generateRHS(T, sigma):\n",
      "    \"\"\" Computes right-hand side of linear system for diffusion equation\n",
      "        with backward Euler\n",
      "    \n",
      "    Parameters:\n",
      "    ----------\n",
      "    T: array of float\n",
      "        Temperature at current time step\n",
      "    sigma: float\n",
      "        alpha*dt/dx^2\n",
      "    \n",
      "    Returns:\n",
      "    -------\n",
      "    b: array of float\n",
      "        Right-hand side of diffusion equation with backward Euler\n",
      "    \"\"\"\n",
      "    \n",
      "    b = T[1:-1]*2*(1./sigma-1) + T[:-2] + T[2:]\n",
      "    # Consider Dirichlet BC\n",
      "    b[0] += T[0]\n",
      "    \n",
      "    return b"
     ],
     "language": "python",
     "metadata": {},
     "outputs": [],
     "prompt_number": 3
    },
    {
     "cell_type": "markdown",
     "metadata": {},
     "source": [
      "We will solve the linear system at every time step. Let's define a function to step in time:"
     ]
    },
    {
     "cell_type": "code",
     "collapsed": false,
     "input": [
      "def CrankNicolson(T, A, nt, sigma):\n",
      "    \"\"\" Advances diffusion equation in time with Crank-Nicolson\n",
      "   \n",
      "    Parameters:\n",
      "    ----------\n",
      "    T: array of float\n",
      "        initial temperature profile\n",
      "    A: 2D array of float\n",
      "        Matrix with discretized diffusion equation\n",
      "    nt: int\n",
      "        number of time steps\n",
      "    sigma: float\n",
      "        alpha*td/dx^2\n",
      "        \n",
      "    Returns:\n",
      "    -------\n",
      "    T: array of floats\n",
      "        temperature profile after nt time steps\n",
      "    \"\"\"\n",
      "    \n",
      "    for t in range(nt):\n",
      "        Tn = T.copy()\n",
      "        b = generateRHS(Tn, sigma)\n",
      "        # Use numpy.linalg.solve\n",
      "        T_interior = solve(A,b)\n",
      "        T[1:-1] = T_interior\n",
      "        # Enforce Neumann BC (Dirichlet is enforced automatically)\n",
      "        T[-1] = T[-2]\n",
      "\n",
      "    return T"
     ],
     "language": "python",
     "metadata": {},
     "outputs": [],
     "prompt_number": 4
    },
    {
     "cell_type": "markdown",
     "metadata": {},
     "source": [
      "And we are good to go! First, let's setup our initial conditions, and the matrix"
     ]
    },
    {
     "cell_type": "code",
     "collapsed": false,
     "input": [
      "L = 1.\n",
      "nx = 21.\n",
      "alpha = 1.22e-3\n",
      "\n",
      "dx = L/(nx-1)\n",
      "\n",
      "Ti = numpy.zeros(nx)\n",
      "Ti[0] = 100\n",
      "\n",
      "sigma = 0.5\n",
      "dt = sigma * dx*dx/alpha \n",
      "nt = 10\n",
      "\n",
      "A = generateMatrix(nx, sigma)"
     ],
     "language": "python",
     "metadata": {},
     "outputs": [],
     "prompt_number": 5
    },
    {
     "cell_type": "markdown",
     "metadata": {},
     "source": [
      "Check the matrix..."
     ]
    },
    {
     "cell_type": "code",
     "collapsed": false,
     "input": [
      "print A"
     ],
     "language": "python",
     "metadata": {},
     "outputs": [
      {
       "output_type": "stream",
       "stream": "stdout",
       "text": [
        "[[ 6. -1.  0.  0.  0.  0.  0.  0.  0.  0.  0.  0.  0.  0.  0.  0.  0.  0.\n",
        "   0.]\n",
        " [-1.  6. -1.  0.  0.  0.  0.  0.  0.  0.  0.  0.  0.  0.  0.  0.  0.  0.\n",
        "   0.]\n",
        " [ 0. -1.  6. -1.  0.  0.  0.  0.  0.  0.  0.  0.  0.  0.  0.  0.  0.  0.\n",
        "   0.]\n",
        " [ 0.  0. -1.  6. -1.  0.  0.  0.  0.  0.  0.  0.  0.  0.  0.  0.  0.  0.\n",
        "   0.]\n",
        " [ 0.  0.  0. -1.  6. -1.  0.  0.  0.  0.  0.  0.  0.  0.  0.  0.  0.  0.\n",
        "   0.]\n",
        " [ 0.  0.  0.  0. -1.  6. -1.  0.  0.  0.  0.  0.  0.  0.  0.  0.  0.  0.\n",
        "   0.]\n",
        " [ 0.  0.  0.  0.  0. -1.  6. -1.  0.  0.  0.  0.  0.  0.  0.  0.  0.  0.\n",
        "   0.]\n",
        " [ 0.  0.  0.  0.  0.  0. -1.  6. -1.  0.  0.  0.  0.  0.  0.  0.  0.  0.\n",
        "   0.]\n",
        " [ 0.  0.  0.  0.  0.  0.  0. -1.  6. -1.  0.  0.  0.  0.  0.  0.  0.  0.\n",
        "   0.]\n",
        " [ 0.  0.  0.  0.  0.  0.  0.  0. -1.  6. -1.  0.  0.  0.  0.  0.  0.  0.\n",
        "   0.]\n",
        " [ 0.  0.  0.  0.  0.  0.  0.  0.  0. -1.  6. -1.  0.  0.  0.  0.  0.  0.\n",
        "   0.]\n",
        " [ 0.  0.  0.  0.  0.  0.  0.  0.  0.  0. -1.  6. -1.  0.  0.  0.  0.  0.\n",
        "   0.]\n",
        " [ 0.  0.  0.  0.  0.  0.  0.  0.  0.  0.  0. -1.  6. -1.  0.  0.  0.  0.\n",
        "   0.]\n",
        " [ 0.  0.  0.  0.  0.  0.  0.  0.  0.  0.  0.  0. -1.  6. -1.  0.  0.  0.\n",
        "   0.]\n",
        " [ 0.  0.  0.  0.  0.  0.  0.  0.  0.  0.  0.  0.  0. -1.  6. -1.  0.  0.\n",
        "   0.]\n",
        " [ 0.  0.  0.  0.  0.  0.  0.  0.  0.  0.  0.  0.  0.  0. -1.  6. -1.  0.\n",
        "   0.]\n",
        " [ 0.  0.  0.  0.  0.  0.  0.  0.  0.  0.  0.  0.  0.  0.  0. -1.  6. -1.\n",
        "   0.]\n",
        " [ 0.  0.  0.  0.  0.  0.  0.  0.  0.  0.  0.  0.  0.  0.  0.  0. -1.  6.\n",
        "  -1.]\n",
        " [ 0.  0.  0.  0.  0.  0.  0.  0.  0.  0.  0.  0.  0.  0.  0.  0.  0. -1.\n",
        "   5.]]\n"
       ]
      }
     ],
     "prompt_number": 6
    },
    {
     "cell_type": "markdown",
     "metadata": {},
     "source": [
      "Looks okay! Now, step in time"
     ]
    },
    {
     "cell_type": "code",
     "collapsed": false,
     "input": [
      "T = Ti.copy()\n",
      "T = CrankNicolson(T, A, nt, sigma)"
     ],
     "language": "python",
     "metadata": {},
     "outputs": [],
     "prompt_number": 7
    },
    {
     "cell_type": "markdown",
     "metadata": {},
     "source": [
      "And plot,"
     ]
    },
    {
     "cell_type": "code",
     "collapsed": false,
     "input": [
      "from matplotlib import pyplot\n",
      "%matplotlib inline\n",
      "from matplotlib import rcParams\n",
      "rcParams['font.family'] = 'serif'\n",
      "rcParams['font.size'] = 16\n",
      "\n",
      "x = numpy.linspace(0,L,nx)\n",
      "\n",
      "pyplot.plot(x, T, color='#003366', ls='-', lw=3);"
     ],
     "language": "python",
     "metadata": {},
     "outputs": [
      {
       "metadata": {},
       "output_type": "display_data",
       "png": "[encoded data removed]",
       "text": [
        "<matplotlib.figure.Figure at 0x7f138184c1d0>"
       ]
      }
     ],
     "prompt_number": 8
    },
    {
     "cell_type": "markdown",
     "metadata": {},
     "source": [
      "Works nicely. But wait! This method has elements of explicit and implicit discretizations. Is it *conditionally stable* like forward Euler, or *unconditionally stable* like backward Euler? Try out different values of `sigma`. You'll see Crank-Nicolson is an *unconditionally stable scheme* for the diffusion equation!"
     ]
    },
    {
     "cell_type": "heading",
     "level": 2,
     "metadata": {},
     "source": [
      "Accuracy & convergence"
     ]
    },
    {
     "cell_type": "markdown",
     "metadata": {},
     "source": [
      "Using some techniques you might have learned in your PDE class, such as separation of variables, you can get a closed expression for the rod problem. It looks like this:\n",
      "\n",
      "\\begin{eqnarray}\n",
      "T(x,t) = & \\nonumber \\\\\n",
      "100 - \\sum_{n=1}^{\\infty} & \\frac{400}{(2n-1)\\pi}\\sin\\left(\\frac{(2n-1)\\pi}{2L}x\\right) \\exp\\left[-\\alpha\\left(\\frac{(2n-1)\\pi}{2L}\\right)^2t\\right]\n",
      "\\end{eqnarray}\n",
      "\n",
      "Unfortunately, the analytical solution is a bit messy, but at least it gives a good approximation if we evaluate it for large $n$. Let's define a function that will calculate this for us:"
     ]
    },
    {
     "cell_type": "code",
     "collapsed": false,
     "input": [
      "from math import pi\n",
      "def T_analytical(x, t, n_max, alpha, L):\n",
      "    \"\"\"Computes the exact solution for 1D diffusion with T=100 at x=0 and dT/dx=0 at x=L\n",
      "        \n",
      "    Paramters:\n",
      "    ---------\n",
      "    x    : array of float\n",
      "        Spatial position\n",
      "    t    : float\n",
      "        Evaluation time\n",
      "    n_max: int \n",
      "        Number of terms to evaluate expression\n",
      "    alpha: float\n",
      "        diffusion coefficient\n",
      "    L    : float\n",
      "        Size of rod\n",
      "        \n",
      "    Returns:\n",
      "    -------\n",
      "    T    : array of float\n",
      "        Temperature at each location x\n",
      "    \"\"\"\n",
      "    T = 100\n",
      "    for n in range(1,n_max+1):\n",
      "        k = (2*n-1)*pi/(2*L)\n",
      "        \n",
      "        summation = 400/((2*n-1)*pi) * numpy.sin(k*x) * numpy.exp(-alpha*k*k*t)\n",
      "        T -= summation\n",
      "\n",
      "    return T    "
     ],
     "language": "python",
     "metadata": {},
     "outputs": [],
     "prompt_number": 9
    },
    {
     "cell_type": "markdown",
     "metadata": {},
     "source": [
      "And let's see how that expression looks for the time where we left the numerical solution"
     ]
    },
    {
     "cell_type": "code",
     "collapsed": false,
     "input": [
      "T_exact = T_analytical(x, dt*nt, 100, alpha, L)\n",
      "pyplot.plot(x, T_exact, color='#003366', ls='-', lw=3);"
     ],
     "language": "python",
     "metadata": {},
     "outputs": [
      {
       "metadata": {},
       "output_type": "display_data",
       "png": "[encoded data removed]",
       "text": [
        "<matplotlib.figure.Figure at 0x7f13a726ecd0>"
       ]
      }
     ],
     "prompt_number": 10
    },
    {
     "cell_type": "code",
     "collapsed": false,
     "input": [
      "T1 = T_analytical(x, .2, 100, alpha, L)\n",
      "T2 = T_analytical(x, .2, 200, alpha, L)\n",
      "numpy.sqrt(numpy.sum((T1-T2)**2)/numpy.sum(T2**2))"
     ],
     "language": "python",
     "metadata": {},
     "outputs": [
      {
       "metadata": {},
       "output_type": "pyout",
       "prompt_number": 11,
       "text": [
        "6.9279171182600926e-13"
       ]
      }
     ],
     "prompt_number": 11
    },
    {
     "cell_type": "markdown",
     "metadata": {},
     "source": [
      "That looks like it should. We'll now use this result to study the convergence of the Crank-Nicolson scheme."
     ]
    },
    {
     "cell_type": "heading",
     "level": 3,
     "metadata": {},
     "source": [
      "Time convergence"
     ]
    },
    {
     "cell_type": "markdown",
     "metadata": {},
     "source": [
      "We said this method was second-order accurate in time, remember? That's in theory, but we should test that the numerical solution indeed behaves like the theory says.\n",
      "\n",
      "Leaving $\\Delta x$ constant, we'll run the code for different values of $\\Delta t$ and compare the result at the same physical time, say $t=n_t\\cdot\\Delta t=10$, with the analytical expression above.\n",
      "\n",
      "The initial condition of the rod problem has a very sharp gradient: it suddendly jumps from $0{\\rm C}$ to $100{\\rm C}$ at the boundary. To resolve that gradient to the point that it doesn't affect time convergence, we would need a very fine mesh, and computations would be very slow. To avoid this issue, we will start from $t=1$ rather than starting from $t=0$.\n",
      "\n",
      "First, let's define a function that will compute the $L_2$-norm of the error:"
     ]
    },
    {
     "cell_type": "code",
     "collapsed": false,
     "input": [
      "def L2_error(T, T_exact):\n",
      "    \"\"\"Computes L2 norm of error\n",
      "    \n",
      "    Parameters:\n",
      "    ----------\n",
      "    T      : array of float\n",
      "        array with numerical solution\n",
      "    T_exact: array of float\n",
      "        array with exact solution\n",
      "    Returns:\n",
      "    -------\n",
      "    e: L2 norm of error\n",
      "    \"\"\"\n",
      "    e = numpy.sqrt(numpy.sum((T-T_exact)**2)/numpy.sum(T_exact)**2)\n",
      "    return e"
     ],
     "language": "python",
     "metadata": {},
     "outputs": [],
     "prompt_number": 12
    },
    {
     "cell_type": "markdown",
     "metadata": {},
     "source": [
      "For fun, let's compare the Crank-Nicolson schem with the implicit (a.k.a., backward) Euler scheme. We'll borrow some functions from [notebook 2](http://nbviewer.ipython.org/github/numerical-mooc/numerical-mooc/blob/master/lessons/04_spreadout/02_Heat_Equation_1D_Implicit.ipynb) to do this."
     ]
    },
    {
     "cell_type": "code",
     "collapsed": false,
     "input": [
      "def generateMatrix_btcs(N, sigma):\n",
      "    \"\"\" Computes the matrix for the diffusion equation with backward Euler\n",
      "        Dirichlet condition at i=0, Neumann at i=-1\n",
      "    \n",
      "    Parameters:\n",
      "    ----------\n",
      "    T: array of float\n",
      "        Temperature at current time step\n",
      "    sigma: float \n",
      "        alpha*dt/dx^2\n",
      "    \n",
      "    Returns:\n",
      "    -------\n",
      "    A: 2D numpy array of float\n",
      "        Matrix for diffusion equation\n",
      "    \"\"\"\n",
      "   \n",
      "    # Setup the diagonal\n",
      "    d = numpy.diag(numpy.ones(N-2)*(2+1./sigma))\n",
      "    \n",
      "    # Consider Neumann BC\n",
      "    d[-1,-1] = 1+1./sigma\n",
      "    \n",
      "    # Setup upper diagonal\n",
      "    ud = numpy.diag(numpy.ones(N-3)*-1, 1)\n",
      "    \n",
      "    # Setup lower diagonal\n",
      "    ld = numpy.diag(numpy.ones(N-3)*-1, -1)\n",
      "    \n",
      "    A = d + ud + ld\n",
      "    \n",
      "    return A"
     ],
     "language": "python",
     "metadata": {},
     "outputs": [],
     "prompt_number": 13
    },
    {
     "cell_type": "code",
     "collapsed": false,
     "input": [
      "def generateRHS_btcs(T, sigma):\n",
      "    \"\"\" Computes right-hand side of linear system for diffusion equation\n",
      "        with backward Euler\n",
      "    \n",
      "    Parameters:\n",
      "    ----------\n",
      "    T: array of float\n",
      "        Temperature at current time step\n",
      "    sigma: float\n",
      "        alpha*dt/dx^2\n",
      "    \n",
      "    Returns:\n",
      "    -------\n",
      "    b: array of float\n",
      "        Right-hand side of diffusion equation with backward Euler\n",
      "    \"\"\"\n",
      "    b = numpy.zeros_like(T)\n",
      "    \n",
      "    b = T[1:-1]*1./sigma\n",
      "    # Consider Dirichlet BC\n",
      "    b[0] += T[0]\n",
      "    \n",
      "    return b"
     ],
     "language": "python",
     "metadata": {},
     "outputs": [],
     "prompt_number": 14
    },
    {
     "cell_type": "code",
     "collapsed": false,
     "input": [
      "def implicit_btcs(T, A, nt, sigma):\n",
      "    \"\"\" Advances diffusion equation in time with implicit central scheme\n",
      "   \n",
      "    Parameters:\n",
      "    ----------\n",
      "    T: array of float\n",
      "        initial temperature profile\n",
      "    A: 2D array of float\n",
      "        Matrix with discretized diffusion equation\n",
      "    nt: int\n",
      "        number of time steps\n",
      "    sigma: float\n",
      "        alpha*td/dx^2\n",
      "        \n",
      "    Returns:\n",
      "    -------\n",
      "    T: array of floats\n",
      "        temperature profile after nt time steps\n",
      "    \"\"\"\n",
      "    \n",
      "    for t in range(nt):\n",
      "        Tn = T.copy()\n",
      "        b = generateRHS_btcs(Tn, sigma)\n",
      "        # Use numpy.linalg.solve\n",
      "        T_interior = solve(A,b)\n",
      "        T[1:-1] = T_interior\n",
      "        # Enforce Neumann BC (Dirichlet is enforced automatically)\n",
      "        T[-1] = T[-2]\n",
      "\n",
      "    return T"
     ],
     "language": "python",
     "metadata": {},
     "outputs": [],
     "prompt_number": 15
    },
    {
     "cell_type": "markdown",
     "metadata": {},
     "source": [
      "Now, let's do the runs!"
     ]
    },
    {
     "cell_type": "code",
     "collapsed": false,
     "input": [
      "nx = 1001\n",
      "dx = L/(nx-1)\n",
      "\n",
      "dt_values = numpy.asarray([1.0, 0.5, 0.25, 0.125])\n",
      "error = numpy.zeros(len(dt_values))\n",
      "error_ftcs = numpy.zeros(len(dt_values))\n",
      "\n",
      "t_final = 10.0 \n",
      "t_initial = 1.0\n",
      "\n",
      "x = numpy.linspace(0,L,nx)\n",
      "\n",
      "Ti =  T_analytical(x, t_initial, 100, alpha, L)\n",
      "T_exact = T_analytical(x, t_final, 100, alpha, L)\n",
      "\n",
      "for i,dt in enumerate(dt_values):\n",
      "    sigma = alpha*dt/(dx*dx)\n",
      "\n",
      "    nt = int((t_final-t_initial)/dt)\n",
      "    \n",
      "    A = generateMatrix(nx, sigma)\n",
      "    \n",
      "    A_btcs = generateMatrix_btcs(nx, sigma)\n",
      "\n",
      "    T = Ti.copy()\n",
      "    T = CrankNicolson(T, A, nt, sigma)\n",
      "    \n",
      "    error[i] = L2_error(T,T_exact)\n",
      "    \n",
      "    T = Ti.copy()\n",
      "    T = implicit_btcs(T, A_btcs, nt, sigma)\n",
      "    \n",
      "    error_ftcs[i] = L2_error(T,T_exact)\n",
      "    "
     ],
     "language": "python",
     "metadata": {},
     "outputs": [],
     "prompt_number": 16
    },
    {
     "cell_type": "markdown",
     "metadata": {},
     "source": [
      "And plot,"
     ]
    },
    {
     "cell_type": "code",
     "collapsed": false,
     "input": [
      "pyplot.figure(figsize=(6,6))\n",
      "pyplot.grid(True)\n",
      "pyplot.xlabel(r'$\\Delta t$', fontsize=18)\n",
      "pyplot.ylabel(r'$L_2$-norm of the error', fontsize=18)\n",
      "pyplot.xlim(1e-2,1)\n",
      "pyplot.ylim(1e-4,1)\n",
      "pyplot.axis('equal')\n",
      "pyplot.loglog(dt_values, error, color='k', ls='--', lw=2, marker='o')\n",
      "pyplot.loglog(dt_values, error_ftcs, color='k', ls='--', lw=2, marker='s');"
     ],
     "language": "python",
     "metadata": {},
     "outputs": [
      {
       "metadata": {},
       "output_type": "display_data",
       "png": "[encoded data removed]",
       "text": [
        "<matplotlib.figure.Figure at 0x7f13a726ee50>"
       ]
      }
     ],
     "prompt_number": 17
    },
    {
     "cell_type": "code",
     "collapsed": false,
     "input": [
      "error"
     ],
     "language": "python",
     "metadata": {},
     "outputs": [
      {
       "metadata": {},
       "output_type": "pyout",
       "prompt_number": 18,
       "text": [
        "array([  3.81125927e-05,   9.41813943e-06,   2.25089054e-06,\n",
        "         4.63970974e-07])"
       ]
      }
     ],
     "prompt_number": 18
    },
    {
     "cell_type": "markdown",
     "metadata": {},
     "source": [
      "See how the error drops four times when the time step is halved? This method is second order in time!\n",
      "\n",
      "Clearly, Crank-Nicolson (circles) converges faster than backward Euler (squares)! Not only that, but also the error curve is shifted down: Crank-Nicolson is more accurate.\n",
      "\n",
      "If you look closely, you'll realize that the error in Crank-Nicolson decays about twice as fast than backward Euler: it's a second versus first order method!"
     ]
    },
    {
     "cell_type": "heading",
     "level": 3,
     "metadata": {},
     "source": [
      "Spatial convergence"
     ]
    },
    {
     "cell_type": "markdown",
     "metadata": {},
     "source": [
      "To study spatial convergence, we will run the code for meshes with 21, 41, 81 and 161 points, and compare them at the same non-dimensional time, say $t=20$. \n",
      "\n",
      "Let's start by defining a function that will do everything for us"
     ]
    },
    {
     "cell_type": "code",
     "collapsed": false,
     "input": [
      "nx_values = numpy.asarray([11, 21, 41, 81, 161])\n",
      "\n",
      "dt = 0.1\n",
      "error = numpy.zeros(len(nx_values))\n",
      "\n",
      "t_final = 20.0 \n",
      "\n",
      "x = numpy.linspace(0,L,nx)\n",
      "\n",
      "for i,nx in enumerate(nx_values):\n",
      "    \n",
      "    dx = L/(nx-1)\n",
      "    x = numpy.linspace(0,L,nx)\n",
      "   \n",
      "    sigma = alpha*dt/(dx*dx)\n",
      "\n",
      "    nt = int(t_final/dt)\n",
      "    \n",
      "    A = generateMatrix(nx, sigma)\n",
      "\n",
      "    T = numpy.zeros(nx)\n",
      "    T[0] = 100\n",
      "      \n",
      "    T = CrankNicolson(T, A, nt, sigma)\n",
      "    \n",
      "    T_exact = T_analytical(x, t_final, 100, alpha, L)\n",
      "    \n",
      "    error[i] = L2_error(T,T_exact)"
     ],
     "language": "python",
     "metadata": {},
     "outputs": [],
     "prompt_number": 19
    },
    {
     "cell_type": "markdown",
     "metadata": {},
     "source": [
      "And plot!"
     ]
    },
    {
     "cell_type": "code",
     "collapsed": false,
     "input": [
      "pyplot.figure(figsize=(6,6))\n",
      "pyplot.grid(True)\n",
      "pyplot.xlabel(r'$n_x$', fontsize=18)\n",
      "pyplot.ylabel(r'$L_2$-norm of the error', fontsize=18)\n",
      "pyplot.xlim(1e-4,1)\n",
      "pyplot.ylim(1e-4,1)\n",
      "pyplot.axis('equal')\n",
      "pyplot.loglog(nx_values, error, color='k', ls='--', lw=2, marker='o');"
     ],
     "language": "python",
     "metadata": {},
     "outputs": [
      {
       "metadata": {},
       "output_type": "display_data",
       "png": "[encoded data removed]",
       "text": [
        "<matplotlib.figure.Figure at 0x7f1378a30610>"
       ]
      }
     ],
     "prompt_number": 20
    },
    {
     "cell_type": "markdown",
     "metadata": {},
     "source": [
      "That looks good! See how for each quadrant we go right, the error drops two quadrants going down (and even a bit better!)."
     ]
    },
    {
     "cell_type": "heading",
     "level": 5,
     "metadata": {},
     "source": [
      "Dig deeper"
     ]
    },
    {
     "cell_type": "markdown",
     "metadata": {},
     "source": [
      "Let's re-do the spatial convergence, but comparing at a much later time, say $t=1000$. "
     ]
    },
    {
     "cell_type": "code",
     "collapsed": false,
     "input": [
      "nx_values = numpy.asarray([11, 21, 41, 81, 161])\n",
      "\n",
      "dt = 0.1\n",
      "error = numpy.zeros(len(nx_values))\n",
      "\n",
      "t_final = 1000.0 \n",
      "\n",
      "x = numpy.linspace(0,L,nx)\n",
      "\n",
      "for i,nx in enumerate(nx_values):\n",
      "    \n",
      "    dx = L/(nx-1)\n",
      "    x = numpy.linspace(0,L,nx)\n",
      "   \n",
      "    sigma = alpha*dt/(dx*dx)\n",
      "\n",
      "    nt = int(t_final/dt)\n",
      "    \n",
      "    A = generateMatrix(nx, sigma)\n",
      "\n",
      "    T = numpy.zeros(nx)\n",
      "    T[0] = 100\n",
      "      \n",
      "    T = CrankNicolson(T, A, nt, sigma)\n",
      "    \n",
      "    T_exact = T_analytical(x, t_final, 100, alpha, L)\n",
      "    \n",
      "    error[i] = L2_error(T,T_exact)\n",
      "\n",
      "pyplot.figure(figsize=(6,6))\n",
      "pyplot.grid(True)\n",
      "pyplot.xlabel(r'$n_x$', fontsize=18)\n",
      "pyplot.ylabel(r'$L_2$-norm of the error', fontsize=18)\n",
      "#pyplot.xlim(1e-4,1)\n",
      "#pyplot.ylim(1e-4,1)\n",
      "pyplot.axis('equal')\n",
      "pyplot.loglog(nx_values, error, color='k', ls='--', lw=2, marker='o');"
     ],
     "language": "python",
     "metadata": {},
     "outputs": [
      {
       "metadata": {},
       "output_type": "display_data",
       "png": "[encoded data removed]",
       "text": [
        "<matplotlib.figure.Figure at 0x7f1378607050>"
       ]
      }
     ],
     "prompt_number": 21
    },
    {
     "cell_type": "code",
     "collapsed": false,
     "input": [
      "error"
     ],
     "language": "python",
     "metadata": {},
     "outputs": [
      {
       "metadata": {},
       "output_type": "pyout",
       "prompt_number": 22,
       "text": [
        "array([  3.59569224e-03,   1.34923182e-03,   4.90905474e-04,\n",
        "         1.76021088e-04,   6.26681531e-05])"
       ]
      }
     ],
     "prompt_number": 22
    },
    {
     "cell_type": "markdown",
     "metadata": {},
     "source": [
      "Wait, convergence is not that great now! It's not as good as second order, but not as bad as first order. *What is going on?*\n",
      "\n",
      "Remember our implementation of the boundary conditions? We used\n",
      "\n",
      "\\begin{equation}\\frac{T^{n}_{N-1} - T^{n}_{N-2}}{\\Delta x} = q.\\end{equation}\n",
      "\n",
      "Well, that is a **first-order** approximation! \n",
      "\n",
      "But, why doesn't this affect our solution at an earlier time? Initially, temperature on the right side of the rod is zero and the gradient is very small in that region; at that point in time, errors there were negligible. Once temperature starts picking up, we start having problems.\n",
      "\n",
      "**Boundary conditions can affect the convergence and accuracy of your solution!**"
     ]
    },
    {
     "cell_type": "markdown",
     "metadata": {},
     "source": [
      "---\n",
      "###### The cell below loads the style of the notebook"
     ]
    },
    {
     "cell_type": "code",
     "collapsed": false,
     "input": [
      "from IPython.core.display import HTML\n",
      "css_file = '../../styles/numericalmoocstyle.css'\n",
      "HTML(open(css_file, \"r\").read())"
     ],
     "language": "python",
     "metadata": {},
     "outputs": [
      {
       "html": [
        "<link href='http://fonts.googleapis.com/css?family=Alegreya+Sans:100,300,400,500,700,800,900,100italic,300italic,400italic,500italic,700italic,800italic,900italic' rel='stylesheet' type='text/css'>\n",
        "<link href='http://fonts.googleapis.com/css?family=Arvo:400,700,400italic' rel='stylesheet' type='text/css'>\n",
        "<link href='http://fonts.googleapis.com/css?family=PT+Mono' rel='stylesheet' type='text/css'>\n",
        "<link href='http://fonts.googleapis.com/css?family=Shadows+Into+Light' rel='stylesheet' type='text/css'>\n",
        "<link href='http://fonts.googleapis.com/css?family=Nixie+One' rel='stylesheet' type='text/css'>\n",
        "<style>\n",
        "\n",
        "@font-face {\n",
        "    font-family: \"Computer Modern\";\n",
        "    src: url('http://mirrors.ctan.org/fonts/cm-unicode/fonts/otf/cmunss.otf');\n",
        "}\n",
        "\n",
        "#notebook_panel { /* main background */\n",
        "    background: rgb(245,245,245);\n",
        "}\n",
        "\n",
        "div.cell { /* set cell width */\n",
        "    width: 750px;\n",
        "}\n",
        "\n",
        "div #notebook { /* centre the content */\n",
        "    background: #fff; /* white background for content */\n",
        "    width: 1000px;\n",
        "    margin: auto;\n",
        "    padding-left: 0em;\n",
        "}\n",
        "\n",
        "#notebook li { /* More space between bullet points */\n",
        "margin-top:0.8em;\n",
        "}\n",
        "\n",
        "/* draw border around running cells */\n",
        "div.cell.border-box-sizing.code_cell.running { \n",
        "    border: 1px solid #111;\n",
        "}\n",
        "\n",
        "/* Put a solid color box around each cell and its output, visually linking them*/\n",
        "div.cell.code_cell {\n",
        "    background-color: rgb(256,256,256); \n",
        "    border-radius: 0px; \n",
        "    padding: 0.5em;\n",
        "    margin-left:1em;\n",
        "    margin-top: 1em;\n",
        "}\n",
        "\n",
        "div.text_cell_render{\n",
        "    font-family: 'Alegreya Sans' sans-serif;\n",
        "    line-height: 140%;\n",
        "    font-size: 125%;\n",
        "    font-weight: 400;\n",
        "    width:600px;\n",
        "    margin-left:auto;\n",
        "    margin-right:auto;\n",
        "}\n",
        "\n",
        "\n",
        "/* Formatting for header cells */\n",
        ".text_cell_render h1 {\n",
        "    font-family: 'Nixie One', serif;\n",
        "    font-style:regular;\n",
        "    font-weight: 400;    \n",
        "    font-size: 45pt;\n",
        "    line-height: 100%;\n",
        "    color: rgb(0,51,102);\n",
        "    margin-bottom: 0.5em;\n",
        "    margin-top: 0.5em;\n",
        "    display: block;\n",
        "}\t\n",
        ".text_cell_render h2 {\n",
        "    font-family: 'Nixie One', serif;\n",
        "    font-weight: 400;\n",
        "    font-size: 30pt;\n",
        "    line-height: 100%;\n",
        "    color: rgb(0,51,102);\n",
        "    margin-bottom: 0.1em;\n",
        "    margin-top: 0.3em;\n",
        "    display: block;\n",
        "}\t\n",
        "\n",
        ".text_cell_render h3 {\n",
        "    font-family: 'Nixie One', serif;\n",
        "    margin-top:16px;\n",
        "\tfont-size: 22pt;\n",
        "    font-weight: 600;\n",
        "    margin-bottom: 3px;\n",
        "    font-style: regular;\n",
        "    color: rgb(102,102,0);\n",
        "}\n",
        "\n",
        ".text_cell_render h4 {    /*Use this for captions*/\n",
        "    font-family: 'Nixie One', serif;\n",
        "    font-size: 14pt;\n",
        "    text-align: center;\n",
        "    margin-top: 0em;\n",
        "    margin-bottom: 2em;\n",
        "    font-style: regular;\n",
        "}\n",
        "\n",
        ".text_cell_render h5 {  /*Use this for small titles*/\n",
        "    font-family: 'Nixie One', sans-serif;\n",
        "    font-weight: 400;\n",
        "    font-size: 16pt;\n",
        "    color: rgb(163,0,0);\n",
        "    font-style: italic;\n",
        "    margin-bottom: .1em;\n",
        "    margin-top: 0.8em;\n",
        "    display: block;\n",
        "}\n",
        "\n",
        ".text_cell_render h6 { /*use this for copyright note*/\n",
        "    font-family: 'PT Mono', sans-serif;\n",
        "    font-weight: 300;\n",
        "    font-size: 9pt;\n",
        "    line-height: 100%;\n",
        "    color: grey;\n",
        "    margin-bottom: 1px;\n",
        "    margin-top: 1px;\n",
        "}\n",
        "\n",
        ".CodeMirror{\n",
        "        font-family: \"PT Mono\";\n",
        "        font-size: 90%;\n",
        "}\n",
        "\n",
        "</style>\n",
        "<script>\n",
        "    MathJax.Hub.Config({\n",
        "                        TeX: {\n",
        "                           extensions: [\"AMSmath.js\"],\n",
        "                           equationNumbers: { autoNumber: \"AMS\", useLabelIds: true}\n",
        "                           },\n",
        "                tex2jax: {\n",
        "                    inlineMath: [ ['$','$'], [\"\\\\(\",\"\\\\)\"] ],\n",
        "                    displayMath: [ ['$$','$$'], [\"\\\\[\",\"\\\\]\"] ]\n",
        "                },\n",
        "                displayAlign: 'center', // Change this to 'center' to center equations.\n",
        "                \"HTML-CSS\": {\n",
        "                    styles: {'.MathJax_Display': {\"margin\": 4}}\n",
        "                }\n",
        "        });\n",
        "</script>\n"
       ],
       "metadata": {},
       "output_type": "pyout",
       "prompt_number": 23,
       "text": [
        "<IPython.core.display.HTML at 0x7f13786669d0>"
       ]
      }
     ],
     "prompt_number": 23
    }
   ],
   "metadata": {}
  }
 ]
}