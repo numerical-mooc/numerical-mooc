{
 "metadata": {
  "name": "",
  "signature": "sha256:5711c56611dfc711438190badaf63965a1a93ad2e2f200c7cc3173c34e0887a2"
 },
 "nbformat": 3,
 "nbformat_minor": 0,
 "worksheets": [
  {
   "cells": [
    {
     "cell_type": "code",
     "collapsed": false,
     "input": [
      "import numpy as np\n",
      "import matplotlib.pyplot as plt\n",
      "%matplotlib inline"
     ],
     "language": "python",
     "metadata": {},
     "outputs": [],
     "prompt_number": 12
    },
    {
     "cell_type": "code",
     "collapsed": false,
     "input": [
      "def trafficflow(time):\n",
      "    \n",
      "    #constants\n",
      "    vmax = 136  #max velocity in km/hr\n",
      "    L = 11.  #length of road in km\n",
      "    pmax = 250  #max density in cars/km\n",
      "    nx = 51    #number of grid points\n",
      "    dt = .001  #delta t in hrs (3.6 seconds)\n",
      "    dx = L/nx\n",
      "    \n",
      "    #number of time steps\n",
      "    nt= int((time*60)/3.6)\n",
      "    \n",
      "    #initial conditions\n",
      "    x= np.linspace(0,L,nx)\n",
      "    p= np.ones(nx)*20\n",
      "    p[10:20] = 50\n",
      "    \n",
      "    pn = np.ones(nx)*10\n",
      "    for n in range(nt):\n",
      "        pn = p.copy()\n",
      "        p[1:]= pn[1:] - (vmax - ((2*vmax)/pmax)*pn[1:])*dt/dx*(pn[1:] -pn[0:-1])\n",
      "        p[0]= 20\n",
      "        \n",
      "    plt.plot(x,p, ls='--', lw= 3) \n",
      "    plt.ylim(5,60)\n",
      "    plt.xlabel('Mileage')\n",
      "    plt.ylabel('Traffic Density')\n",
      "    \n",
      "    veloc = (vmax*(1-p/pmax))*0.278\n",
      "    min_veloc = np.amin(veloc)\n",
      "    max_veloc = np.amax(veloc)\n",
      "    avg_veloc = np.average(veloc)\n",
      "    \n",
      "    print 'minimum velocity: ' + str(min_veloc)\n",
      "    print 'maximum velocity: ' + str(max_veloc)\n",
      "    print 'average velocity: ' + str(avg_veloc)"
     ],
     "language": "python",
     "metadata": {},
     "outputs": [],
     "prompt_number": 13
    },
    {
     "cell_type": "code",
     "collapsed": false,
     "input": [
      "trafficflow(3)"
     ],
     "language": "python",
     "metadata": {},
     "outputs": [
      {
       "output_type": "stream",
       "stream": "stdout",
       "text": [
        "minimum velocity: 30.8459620344\n",
        "maximum velocity: 34.78336\n",
        "average velocity: 33.8050361055\n"
       ]
      },
      {
       "metadata": {},
       "output_type": "display_data",
       "png": "[encoded data removed]",
       "text": [
        "<matplotlib.figure.Figure at 0x411eef0>"
       ]
      }
     ],
     "prompt_number": 15
    },
    {
     "cell_type": "code",
     "collapsed": false,
     "input": [],
     "language": "python",
     "metadata": {},
     "outputs": []
    }
   ],
   "metadata": {}
  }
 ]
}