{
 "metadata": {
  "name": "",
  "signature": "sha256:4bd09897b98ff37df1e48db0c4412f7c94f5411959f745712b2a58fc4dbbc5d1"
 },
 "nbformat": 3,
 "nbformat_minor": 0,
 "worksheets": [
  {
   "cells": [
    {
     "cell_type": "heading",
     "level": 6,
     "metadata": {},
     "source": [
      "Content under Creative Commons Attribution license CC-BY 4.0, code under MIT license (c) L.A. Barba, G.F. Forsyth, C. Cooper, 2014. Based on [CFDPython](https://github.com/barbagroup/CFDPython), (c) L. A. Barba, also under CC-BY license."
     ]
    },
    {
     "cell_type": "heading",
     "level": 1,
     "metadata": {},
     "source": [
      "Convergence and the CFL condition"
     ]
    },
    {
     "cell_type": "markdown",
     "metadata": {},
     "source": [
      "Welcome back! This is the third IPython Notebook of the series *Space and Time \u2014 Introduction of Finite-difference solutions of PDEs*, the second module of [\"Practical Numerical Methods with Python\"](http://openedx.seas.gwu.edu/courses/GW/MAE6286/2014_fall/about).\n",
      "\n",
      "In the previous two notebooks of this series, we studied the numerical solution of the linear and non-linear convection equations, using the finite-difference method. Did you experiment there using different parameter choices? If you did, you probably ran into some unexpected behavior. Did your solution ever blow up (sometimes in a cool way!)? \n",
      "\n",
      "In this IPython Notebook, we will explore why changing the discretization parameters affects your solution in such a drastic way."
     ]
    },
    {
     "cell_type": "markdown",
     "metadata": {},
     "source": [
      "For the first few steps, we've been using the same general initial and boundary conditions.  With the parameters we initially suggested, the grid has 41 points and the timestep is 0.25 seconds.  Now, we're going to experiment with increasing the size of our grid.  The code below is identical to the code we used in the linear convection case, but here it has been bundled up in a function so that we can easily examine what happens as we adjust just one variable: **the grid size**."
     ]
    },
    {
     "cell_type": "code",
     "collapsed": false,
     "input": [
      "import numpy                       #numpy is a library for array operations akin to MATLAB\n",
      "import matplotlib.pyplot as plt    #matplotlib is 2D plotting library\n",
      "%matplotlib inline\n",
      "\n",
      "def linearconv(nx):\n",
      "    \"\"\"Solve the linear convection equation.\n",
      "    \n",
      "    Solves the equation d_t u + c d_x u = 0 where \n",
      "    * the wavespeed c is set to 1\n",
      "    * the domain is x \\in [0, 2]\n",
      "    * 20 timesteps are taken, with \\Delta t = 0.025\n",
      "    * the initial data is the hat function\n",
      "    \n",
      "    Produces a plot of the results\n",
      "    \n",
      "    Parameters\n",
      "    ----------\n",
      "    \n",
      "    nx : integer\n",
      "        number of internal grid points\n",
      "        \n",
      "    Returns\n",
      "    -------\n",
      "    \n",
      "    None : none\n",
      "    \"\"\"\n",
      "    dx = 2./(nx-1)\n",
      "    nt = 20    #nt is the number of timesteps we want to calculate\n",
      "    dt = .025  #dt is the amount of time each timestep covers (delta t)\n",
      "    c = 1\n",
      "\n",
      "    u = numpy.ones(nx)      #defining a numpy array which is nx elements long with every value equal to 1.\n",
      "    u[.5/dx : 1/dx+1]=2  #setting u = 2 between 0.5 and 1 as per our I.C.s\n",
      "\n",
      "    un = numpy.ones(nx) #initializing our placeholder array, un, to hold the values we calculate for the n+1 timestep\n",
      "\n",
      "    for n in range(nt):  #iterate through time\n",
      "        un = u.copy() ##copy the existing values of u into un\n",
      "        for i in range(1,nx):\n",
      "            u[i] = un[i]-c*dt/dx*(un[i]-un[i-1])\n",
      "        \n",
      "    plt.plot(numpy.linspace(0,2,nx),u)\n",
      "        "
     ],
     "language": "python",
     "metadata": {},
     "outputs": []
    },
    {
     "cell_type": "markdown",
     "metadata": {},
     "source": [
      "Now let's examine the results of our linear convection problem with an increasingly fine mesh.  "
     ]
    },
    {
     "cell_type": "code",
     "collapsed": false,
     "input": [
      "linearconv(41) #convection using 41 grid points"
     ],
     "language": "python",
     "metadata": {},
     "outputs": []
    },
    {
     "cell_type": "markdown",
     "metadata": {},
     "source": [
      "This is the same result as our linear convection calculation, reproduced here for reference."
     ]
    },
    {
     "cell_type": "code",
     "collapsed": false,
     "input": [
      "linearconv(61)"
     ],
     "language": "python",
     "metadata": {},
     "outputs": []
    },
    {
     "cell_type": "markdown",
     "metadata": {},
     "source": [
      "Here, there is still numerical diffusion present, but it is less severe.  "
     ]
    },
    {
     "cell_type": "code",
     "collapsed": false,
     "input": [
      "linearconv(71)"
     ],
     "language": "python",
     "metadata": {},
     "outputs": []
    },
    {
     "cell_type": "markdown",
     "metadata": {},
     "source": [
      "Here the same pattern is present -- the wave is more square than in the previous runs."
     ]
    },
    {
     "cell_type": "code",
     "collapsed": false,
     "input": [
      "linearconv(85)"
     ],
     "language": "python",
     "metadata": {},
     "outputs": []
    },
    {
     "cell_type": "markdown",
     "metadata": {},
     "source": [
      "This doesn't look anything like our original hat function. "
     ]
    },
    {
     "cell_type": "heading",
     "level": 3,
     "metadata": {},
     "source": [
      "What happened?"
     ]
    },
    {
     "cell_type": "markdown",
     "metadata": {},
     "source": [
      "To answer that question, we have to think a little bit about what we're actually implementing in code.  \n",
      "\n",
      "In each iteration of our time loop, we use the existing data about our wave to estimate the speed of the wave in the subsequent time step.  Initially, the increase in the number of grid points returned more accurate answers.  There was less numerical diffusion and the square wave looked much more like a square wave than it did in our first example.  \n",
      "\n",
      "Each iteration of our time loop covers a time-step of length $\\Delta t$, which we have been defining as 0.025.\n",
      "\n",
      "During this iteration, we evaluate the speed of the wave at each of the $x$ points we've created.  In the last plot, something has clearly gone wrong.  \n",
      "\n",
      "What has happened is that over the time period $\\Delta t$, the wave is travelling a distance which is greater than `dx`.  The length `dx` of each grid box is related to the number of total points `nx`, so stability can be enforced if the $\\Delta t$ step size is calculated with respect to the size of `dx`.  \n",
      "\n",
      "\\begin{equation}\\sigma = \\frac{u \\Delta t}{\\Delta x} \\leq \\sigma_{max}\\end{equation}\n",
      "\n",
      "where $u$ is the speed of the wave; $\\sigma$ is called the **Courant number** and the value of $\\sigma_{max}$ that will ensure stability depends on the discretization used. \n",
      "\n",
      "In a new version of our code, we'll use the CFL number to calculate the appropriate time-step `dt` depending on the size of `dx`.  \n",
      "\n"
     ]
    },
    {
     "cell_type": "code",
     "collapsed": false,
     "input": [
      "import numpy as numpy\n",
      "import matplotlib.pyplot as plt\n",
      "\n",
      "def linearconv(nx):\n",
      "    \"\"\"Solve the linear convection equation.\n",
      "    \n",
      "    Solves the equation d_t u + c d_x u = 0 where \n",
      "    * the wavespeed c is set to 1\n",
      "    * the domain is x \\in [0, 2]\n",
      "    * 20 timesteps are taken, with \\Delta t computed using the CFL 0.5\n",
      "    * the initial data is the hat function\n",
      "    \n",
      "    Produces a plot of the results\n",
      "    \n",
      "    Parameters\n",
      "    ----------\n",
      "    \n",
      "    nx : integer\n",
      "        number of internal grid points\n",
      "        \n",
      "    Returns\n",
      "    -------\n",
      "    \n",
      "    None : none\n",
      "    \"\"\"\n",
      "    dx = 2./(nx-1)\n",
      "    nt = 20    #nt is the number of timesteps we want to calculate\n",
      "    c = 1\n",
      "    sigma = .5\n",
      "    \n",
      "    dt = sigma*dx\n",
      "\n",
      "    u = numpy.ones(nx) \n",
      "    u[.5/dx : 1/dx+1]=2\n",
      "\n",
      "    un = numpy.ones(nx)\n",
      "\n",
      "    for n in range(nt):  #iterate through time\n",
      "        un = u.copy() ##copy the existing values of u into un\n",
      "        for i in range(1,nx):\n",
      "            u[i] = un[i]-c*dt/dx*(un[i]-un[i-1])\n",
      "        \n",
      "    plt.plot(numpy.linspace(0,2,nx),u)"
     ],
     "language": "python",
     "metadata": {},
     "outputs": []
    },
    {
     "cell_type": "code",
     "collapsed": false,
     "input": [
      "linearconv(41)"
     ],
     "language": "python",
     "metadata": {},
     "outputs": []
    },
    {
     "cell_type": "code",
     "collapsed": false,
     "input": [
      "linearconv(61)"
     ],
     "language": "python",
     "metadata": {},
     "outputs": []
    },
    {
     "cell_type": "code",
     "collapsed": false,
     "input": [
      "linearconv(81)"
     ],
     "language": "python",
     "metadata": {},
     "outputs": []
    },
    {
     "cell_type": "code",
     "collapsed": false,
     "input": [
      "linearconv(101)"
     ],
     "language": "python",
     "metadata": {},
     "outputs": []
    },
    {
     "cell_type": "code",
     "collapsed": false,
     "input": [
      "linearconv(121)"
     ],
     "language": "python",
     "metadata": {},
     "outputs": []
    },
    {
     "cell_type": "markdown",
     "metadata": {},
     "source": [
      "Notice that as the number of points `nx` increases, the wave convects a shorter and shorter distance.  The number of time iterations we have advanced the solution at is held constant at `nt = 20`, but depending on the value of `nx` and the corresponding values of `dx` and `dt`, a shorter time window is being examined overall.  "
     ]
    },
    {
     "cell_type": "code",
     "collapsed": false,
     "input": [
      "from IPython.core.display import HTML\n",
      "css_file = '../../styles/numericalmoocstyle.css'\n",
      "HTML(open(css_file, \"r\").read())"
     ],
     "language": "python",
     "metadata": {},
     "outputs": []
    }
   ],
   "metadata": {}
  }
 ]
}