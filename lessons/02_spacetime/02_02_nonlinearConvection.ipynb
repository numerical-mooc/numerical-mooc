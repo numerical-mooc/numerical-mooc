{
 "metadata": {
  "name": "",
  "signature": "sha256:1191bafb5bbd17be710420034c791682fdfb3ad8002b1d28d2333fea541e2d0c"
 },
 "nbformat": 3,
 "nbformat_minor": 0,
 "worksheets": [
  {
   "cells": [
    {
     "cell_type": "heading",
     "level": 6,
     "metadata": {},
     "source": [
      "Content under Creative Commons Attribution license CC-BY 4.0, code under MIT license (c) L.A. Barba, G.F. Forsyth, C. Cooper, 2014. Based on [CFDPython](https://github.com/barbagroup/CFDPython), (c) L. A. Barba, also under CC-BY license."
     ]
    },
    {
     "cell_type": "heading",
     "level": 1,
     "metadata": {},
     "source": [
      "Non-linear Convection"
     ]
    },
    {
     "cell_type": "markdown",
     "metadata": {},
     "source": [
      "We're back! This is the second IPython Notebook of the series *Space and Time \u2014 Introduction of Finite-difference solutions of PDEs*, the second module of [\"Practical Numerical Methods with Python\"](http://openedx.seas.gwu.edu/courses/GW/MAE6286/2014_fall/about).\n",
      "\n",
      "In the previous notebook, *\"1-D Linear Convection\"*, we learned how to solve the linear convection equation using the finite-difference method. Now let's move on to the non-linear convection equation, using the same methods as before. The 1-D convection equation is:\n",
      "\n",
      "\\begin{equation}\\frac{\\partial u}{\\partial t} + u \\frac{\\partial u}{\\partial x} = 0\\end{equation}\n",
      "\n",
      "Instead of a constant factor $c$ multiplying the second term, now we have the solution $u$ multiplying it. Thus, the second term of the equation is now *non-linear*.  We're going to use the same discretization as in linear convection \u2014 forward difference in time and backward difference in space. Here is the discretized equation.\n",
      "\n",
      "\\begin{equation}\\frac{u_i^{n+1}-u_i^n}{\\Delta t} + u_i^n \\frac{u_i^n-u_{i-1}^n}{\\Delta x} = 0\\end{equation}\n",
      "\n",
      "Solving for the only unknown term, $u_i^{n+1}$, yields:\n",
      "\n",
      "\\begin{equation}u_i^{n+1} = u_i^n - u_i^n \\frac{\\Delta t}{\\Delta x} (u_i^n - u_{i-1}^n)\\end{equation}"
     ]
    },
    {
     "cell_type": "markdown",
     "metadata": {},
     "source": [
      "As before, the Python code starts by loading the necessary libraries. Then, we declare some variables that determine the discretization in space and time (you should experiment by changing these parameters to see what happens). Then, we create the initial condition $u_0$ by initializing the array for the solution using $u = 2\\ @\\ 0.5 \\leq x \\leq 1$  and $u = 1$ everywhere else in $(0,2)$ (i.e., a hat function)."
     ]
    },
    {
     "cell_type": "code",
     "collapsed": true,
     "input": [
      "import numpy                       #we're importing numpy \n",
      "import matplotlib.pyplot as plt    #and our 2D plotting library, calling it plt\n",
      "%matplotlib inline\n",
      "\n",
      "nx = 41\n",
      "dx = 2./(nx-1)\n",
      "nt = 20    #nt is the number of timesteps we want to calculate\n",
      "dt = .025  #dt is the amount of time each timestep covers (delta t)\n",
      "\n",
      "u = numpy.ones(nx)      #as before, we initialize u with every value equal to 1.\n",
      "u[.5/dx : 1/dx+1]=2  #then set u = 2 between 0.5 and 1 as per our I.C.s\n",
      "\n",
      "un = numpy.ones(nx) #initialize our placeholder array un, to hold the time-stepped solution"
     ],
     "language": "python",
     "metadata": {},
     "outputs": []
    },
    {
     "cell_type": "markdown",
     "metadata": {},
     "source": [
      "The code snippet below is *unfinished*. We have copied over the line from the linear convection case that executes the time-stepping update. Can you edit this code to execute the non-linear convection instead?"
     ]
    },
    {
     "cell_type": "code",
     "collapsed": false,
     "input": [
      "for n in range(nt):  #iterate through time\n",
      "    un = u.copy() ##copy the existing values of u into un\n",
      "    for i in range(1,nx):  ##now we'll iterate through the u array\n",
      "    \n",
      "     ###This is the line from Step 1, copied exactly.  Edit it for our new equation.\n",
      "     ###then uncomment it and run the cell to evaluate Step 2   \n",
      "      \n",
      "           ###u[i] = un[i]-c*dt/dx*(un[i]-un[i-1]) \n",
      "\n",
      "        \n",
      "plt.plot(numpy.linspace(0,2,nx),u) ##Plot the results"
     ],
     "language": "python",
     "metadata": {},
     "outputs": []
    },
    {
     "cell_type": "markdown",
     "metadata": {},
     "source": [
      "What do you observe about the evolution of the hat function under the non-linear convection equation? What happens when you change the numerical parameters and run again?"
     ]
    },
    {
     "cell_type": "code",
     "collapsed": false,
     "input": [
      "from IPython.core.display import HTML\n",
      "css_file = '../../styles/numericalmoocstyle.css'\n",
      "HTML(open(css_file, \"r\").read())"
     ],
     "language": "python",
     "metadata": {},
     "outputs": []
    }
   ],
   "metadata": {}
  }
 ]
}