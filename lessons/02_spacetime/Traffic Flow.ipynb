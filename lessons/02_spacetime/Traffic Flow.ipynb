{
 "metadata": {
  "name": "",
  "signature": "sha256:ddc28f05715d4ec50bfa9a5e94bbcac1f05a73666ea14eca2e572a6cd7fc1e16"
 },
 "nbformat": 3,
 "nbformat_minor": 0,
 "worksheets": [
  {
   "cells": [
    {
     "cell_type": "code",
     "collapsed": false,
     "input": [
      "import numpy \n",
      "import matplotlib.pyplot as plt\n",
      "%matplotlib inline"
     ],
     "language": "python",
     "metadata": {},
     "outputs": [],
     "prompt_number": 8
    },
    {
     "cell_type": "code",
     "collapsed": false,
     "input": [
      "#Define the function car_flux\n",
      "def car_flux(rho):\n",
      "    V_max=80 #km/hr\n",
      "    rho_max=250 #cars/km\n",
      "    return V_max*rho*(1-(rho/rho_max))\n"
     ],
     "language": "python",
     "metadata": {},
     "outputs": [],
     "prompt_number": 72
    },
    {
     "cell_type": "code",
     "collapsed": false,
     "input": [
      "#Solutions parameters\n",
      "L=11. #km, road lenght\n",
      "nx=51 #space discretization\n",
      "dx=L/(nx-1)\n",
      "x = numpy.linspace(0,L,nx)\n",
      "dt=0.001 #hours\n",
      "nt=100\n",
      "\n",
      "rho=numpy.ones(nx)*10 #intial car density\n",
      "rho[10:20] = 50\n",
      "for n in range(1,nt):\n",
      "    rho_dt=rho.copy()\n",
      "    for i in range(1,nx):\n",
      "        rho[i]=rho_dt[i]-(dt/dx)*(car_flux(rho_dt[i])-car_flux(rho_dt[i-1]))\n",
      "    "
     ],
     "language": "python",
     "metadata": {},
     "outputs": [],
     "prompt_number": 125
    },
    {
     "cell_type": "code",
     "collapsed": false,
     "input": [
      "plt.plot(numpy.linspace(0,L,nx),rho,)\n",
      "plt.ylim(5,60)"
     ],
     "language": "python",
     "metadata": {},
     "outputs": [
      {
       "metadata": {},
       "output_type": "pyout",
       "prompt_number": 126,
       "text": [
        "(5, 60)"
       ]
      },
      {
       "metadata": {},
       "output_type": "display_data",
       "png": "[encoded data removed]",
       "text": [
        "<matplotlib.figure.Figure at 0xbe04240>"
       ]
      }
     ],
     "prompt_number": 126
    },
    {
     "cell_type": "code",
     "collapsed": false,
     "input": [
      "print min((80)*(1-(rho/250)))/3.614"
     ],
     "language": "python",
     "metadata": {},
     "outputs": [
      {
       "output_type": "stream",
       "stream": "stdout",
       "text": [
        "21.2303584149\n"
       ]
      }
     ],
     "prompt_number": 127
    },
    {
     "cell_type": "code",
     "collapsed": false,
     "input": [
      "print (sum((80)*(1-(rho/250))))/51/3.614"
     ],
     "language": "python",
     "metadata": {},
     "outputs": [
      {
       "output_type": "stream",
       "stream": "stdout",
       "text": [
        "20.5663914512\n"
       ]
      }
     ],
     "prompt_number": 107
    },
    {
     "cell_type": "code",
     "collapsed": false,
     "input": [
      "print (80)*(1-(10/250))/3.614"
     ],
     "language": "python",
     "metadata": {},
     "outputs": [
      {
       "output_type": "stream",
       "stream": "stdout",
       "text": [
        "22.1361372441\n"
       ]
      }
     ],
     "prompt_number": 101
    },
    {
     "cell_type": "code",
     "collapsed": false,
     "input": [
      "print 45./2."
     ],
     "language": "python",
     "metadata": {},
     "outputs": [
      {
       "output_type": "stream",
       "stream": "stdout",
       "text": [
        "22.5\n"
       ]
      }
     ],
     "prompt_number": 128
    },
    {
     "cell_type": "code",
     "collapsed": false,
     "input": [
      "print 43500.-4250./2-5163.*cos(45)"
     ],
     "language": "python",
     "metadata": {},
     "outputs": []
    }
   ],
   "metadata": {}
  }
 ]
}