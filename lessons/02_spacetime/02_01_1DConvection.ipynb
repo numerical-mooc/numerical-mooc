{
 "cells": [
  {
   "cell_type": "markdown",
   "metadata": {},
   "source": [
    "###### Content under Creative Commons Attribution license CC-BY 4.0, code under MIT license (c)2014 L.A. Barba, G.F. Forsyth, C.D. Cooper. Based on [CFD Python](https://github.com/barbagroup/CFDPython), (c)2013 L.A. Barba, also under CC-BY."
   ]
  },
  {
   "cell_type": "markdown",
   "metadata": {},
   "source": [
    "# Space & Time"
   ]
  },
  {
   "cell_type": "markdown",
   "metadata": {},
   "source": [
    "## Introduction to numerical solution of PDEs"
   ]
  },
  {
   "cell_type": "markdown",
   "metadata": {},
   "source": [
    "Welcome to *Space and Time: Introduction to finite-difference solutions of PDEs*, the second module of [\"Practical Numerical Methods with Python\"](http://openedx.seas.gwu.edu/courses/GW/MAE6286/2014_fall/about). \n",
    "\n",
    "In the first module, we looked into numerical integration methods for the solution of ordinary differential equations (ODEs), using the phugoid model of glider flight as a motivation. In this module, we will study the numerical solution of *partial differential equations (PDEs)*, where the unknown is a multi-variate function. The problem could depend on time, $t$, and one spatial dimension $x$ (or more), which means we need to build a discretization grid with each independent variable.\n",
    "\n",
    "We will start our discussion of numerical PDEs with 1-D linear and non-linear convection equations, the 1-D diffusion equation, and 1-D Burgers' equation. We hope you will enjoy them!"
   ]
  },
  {
   "cell_type": "markdown",
   "metadata": {},
   "source": [
    "## 1D linear convection"
   ]
  },
  {
   "cell_type": "markdown",
   "metadata": {},
   "source": [
    "The *one-dimensional linear convection equation* is the simplest, most basic model that can be used to learn something about numerical solution of PDEs. It's surprising that this little equation can teach us so much! Here it is:\n",
    "\n",
    "\\begin{equation}\\frac{\\partial u}{\\partial t} + c \\frac{\\partial u}{\\partial x} = 0\\end{equation}\n",
    "\n",
    "The equation represents a *wave* propagating with speed $c$ in the $x$ direction, without change of shape. For that reason, it's sometimes called the *one-way wave equation* (sometimes also the *advection equation*).\n",
    "\n",
    "With an initial condition $u(x,0)=u_0(x)$, the equation has an exact solution given by:\n",
    "\n",
    "\\begin{equation}u(x,t)=u_0(x-ct). \n",
    "\\end{equation}\n",
    "\n",
    "Go on: check it. Take the time and space derivative and stick them into the equation to see that it holds!\n",
    "\n",
    "Look at the exact solution for a moment ... we know two things about it: \n",
    "\n",
    "1. its shape does not change, being always the same as the initial wave, $u_0$, only shifted in the $x$-direction; and \n",
    "2. it's constant along so-called **characteristic curves**, $x-ct=$constant. This means that for any point in space and time, you can move back along the characteristic curve to $t=0$ to know the value of the solution.\n"
   ]
  },
  {
   "cell_type": "markdown",
   "metadata": {},
   "source": [
    "![characteristics](figures/characteristics.png)\n",
    "#### Characteristic curves for positive wave speed."
   ]
  },
  {
   "cell_type": "markdown",
   "metadata": {},
   "source": [
    "Why do we call the equations *linear*? PDEs can be either linear or non-linear. In a linear equation, the unknown function $u$ and its derivatives appear only in linear terms, in other words, there are no products, powers, or transcendental functions applied on them. \n",
    "\n",
    "What is the most important feature of linear equations? Do you remember? In case you forgot: solutions can be superposed to generate new solutions that still satisfy the original equation. This is super useful!"
   ]
  },
  {
   "cell_type": "markdown",
   "metadata": {},
   "source": [
    "## Finite-differences"
   ]
  },
  {
   "cell_type": "markdown",
   "metadata": {},
   "source": [
    "In the previous lessons, we discretized time derivatives; now we have derivatives in both space *and* time, so we need to discretize with respect to *both* these variables. \n",
    "\n",
    "Imagine a *space-time* plot, where the coordinates in the vertical direction represent advancing in time—for example, from $t^n$ to $t^{n+1}$—and the coordinates in the horizontal direction move in space: consecutive points are $x_{i-1}$, $x_i$, and $x_{i+1}$.  This creates a grid where a point has both a temporal and spatial index. Here is a graphical representation of the space-time grid:\n",
    "\n",
    "\n",
    "\\begin{matrix}\n",
    "t^{n+1} & \\rightarrow & \\bullet  && \\bullet  && \\bullet  \\\\\n",
    "t^n & \\rightarrow & \\bullet  && \\bullet  && \\bullet  \\\\\n",
    "& &  x_{i-1} && x_i && x_{i+1}\n",
    "\\end{matrix}\n",
    "\n",
    "For the numerical solution of $u(x,t)$, we'll use subscripts to denote the spatial position, like $u_i$, and superscripts to denote the temporal instant, like $u^n$.  We would then label the solution at the top-middle point in the grid above as follows:\n",
    "$u^{n+1}_{i}$.\n",
    " \n",
    "\n",
    "Each grid point below has an index $i$, corresponding to the spatial position and increasing to the right, and an index $n$, corresponding to the time instant and increasing upwards.  A small grid segment would have the following values of the numerical solution at each point:\n",
    "\n",
    "\n",
    "\\begin{matrix}\n",
    "& &\\bullet & & \\bullet & &  \\bullet \\\\\n",
    "& &u^{n+1}_{i-1} & & u^{n+1}_i & & u^{n+1}_{i+1} \\\\\n",
    "& &\\bullet & & \\bullet & &  \\bullet \\\\\n",
    "& &u^n_{i-1} & & u^n_i & & u^n_{i+1} \\\\\n",
    "& &\\bullet & & \\bullet & &  \\bullet \\\\\n",
    "& &u^{n-1}_{i-1} & & u^{n-1}_i & & u^{n-1}_{i+1} \\\\\n",
    "\\end{matrix}\n",
    "\n",
    "Another way to explain our discretization grid is to say that it is built with constant steps in time and space, $\\Delta t$ and $\\Delta x$, as follows:\n",
    "\n",
    "\\begin{eqnarray}\n",
    "x_i &=& i\\, \\Delta x \\quad \\text{and} \\quad t^n= n\\, \\Delta t \\nonumber \\\\\n",
    "u_i^n &=& u(i\\, \\Delta x, n\\, \\Delta t)\n",
    "\\end{eqnarray}\n"
   ]
  },
  {
   "cell_type": "markdown",
   "metadata": {},
   "source": [
    "### Discretizing our model equation"
   ]
  },
  {
   "cell_type": "markdown",
   "metadata": {},
   "source": [
    "Let's see how to discretize the 1-D linear convection equation in both space and time.  By definition, the partial derivative with respect to time changes only with time and not with space; its discretized form changes only the $n$ indices.  Similarly, the partial derivative with respect to $x$ changes with space not time, and only the $i$ indices are affected.  \n",
    "\n",
    "We'll discretize the spatial coordinate $x$ into points indexed from $i=0$ to $N$, and then step in discrete time intervals of size $\\Delta t$.\n",
    "\n",
    "From the definition of a derivative (and simply removing the limit), we know that for $\\Delta x$ sufficiently small:\n",
    "\n",
    "\\begin{equation}\\frac{\\partial u}{\\partial x}\\approx \\frac{u(x+\\Delta x)-u(x)}{\\Delta x}\\end{equation}\n",
    "\n",
    "This formula could be applied at any point $x_i$. But note that it's not the only way that we can estimate the derivative. The geometrical interpretation of the first derivative $\\partial u/ \\partial x$ at any point is that it represents the slope of the tangent to the curve $u(x)$. In the sketch below, we show a slope line at $x_i$ and mark it as \"exact.\" If the formula written above is applied at $x_i$, it approximates the derivative using the next spatial grid point: it is then called a _forward difference_ formula. \n",
    "\n",
    "But as shown in the sketch below, we could also estimate the spatial derivative using the point behind $x_i$, in which case it is called a _backward difference_. We could even use the two points on each side of $x_i$, and obtain what's called a _central difference_ (but in that case the denominator would be $2\\Delta x$).\n"
   ]
  },
  {
   "cell_type": "markdown",
   "metadata": {},
   "source": [
    "![FDapproxiamtions](figures/FDapproxiamtions.png)\n",
    "#### Three finite-difference approximations at $x_i$."
   ]
  },
  {
   "cell_type": "markdown",
   "metadata": {},
   "source": [
    "We have three possible ways to represent a discrete form of $\\partial u/ \\partial x$:\n",
    "\n",
    "* Forward difference: uses $x_i$ and $x_i + \\Delta x$,\n",
    "* Backward difference: uses $x_i$ and $x_i- \\Delta x$,\n",
    "* Central difference: uses two points on either side of $x_i$.\n",
    "\n",
    "The sketch above also suggests that some finite-difference formulas might be better than others: it looks like the *central difference* approximation is closer to the slope of the \"exact\" derivative. Curious if this is just an effect of our exaggerated picture? We'll show you later how to make this observation rigorous!\n",
    "\n",
    "The three formulas are:\n",
    "\n",
    "\\begin{eqnarray}\n",
    "\\frac{\\partial u}{\\partial x} & \\approx & \\frac{u(x_{i+1})-u(x_i)}{\\Delta x} \\quad\\text{Forward}\\\\\n",
    "\\frac{\\partial u}{\\partial x} & \\approx & \\frac{u(x_i)-u(x_{i-1})}{\\Delta x} \\quad\\text{Backward}\\\\\n",
    "\\frac{\\partial u}{\\partial x} & \\approx & \\frac{u(x_{i+1})-u(x_{i-1})}{2\\Delta x} \\quad\\text{Central}\n",
    "\\end{eqnarray}\n",
    "\n",
    "\n",
    "Euler's method is equivalent to using a forward-difference scheme for the time derivative. Let's stick with that, and choose the backward-difference scheme for the space derivative.  Our discrete equation is then:\n",
    "\n",
    "\\begin{equation}\\frac{u_i^{n+1}-u_i^n}{\\Delta t} + c \\frac{u_i^n - u_{i-1}^n}{\\Delta x} = 0, \\end{equation}\n",
    "\n",
    "where $n$ and $n+1$ are two consecutive steps in time, while $i-1$ and $i$ are two neighboring points of the discretized $x$ coordinate. With given initial conditions, the only unknown in this discretization is $u_i^{n+1}$.  We solve for this unknown to get an equation that lets us step in time, as follows:\n",
    "\n",
    "\\begin{equation}u_i^{n+1} = u_i^n - c \\frac{\\Delta t}{\\Delta x}(u_i^n-u_{i-1}^n)\\end{equation}\n",
    "\n",
    "We like to make drawings of a grid segment, showing the grid points that influence our numerical solution. This is called a **stencil**. Below is the stencil for solving our model equation with the finite-difference formula we wrote above."
   ]
  },
  {
   "cell_type": "markdown",
   "metadata": {},
   "source": [
    "![FTBS_stencil](figures/FTBS_stencil.png)\n",
    "#### Stencil for the \"forward-time/backward-space\" scheme."
   ]
  },
  {
   "cell_type": "markdown",
   "metadata": {},
   "source": [
    "## And compute!"
   ]
  },
  {
   "cell_type": "markdown",
   "metadata": {},
   "source": [
    "Alright. Let's get a little Python on the road. First: we need to load our array and plotting libraries, as usual. And if you noticed in the [*Bonus!* notebook for Module 1](http://nbviewer.ipython.org/github/numerical-mooc/numerical-mooc/blob/master/lessons/01_phugoid/01_04_Second_Order_Methods.ipynb), we taught you a neat trick to set some global plotting parameters with the `rcParams` module. We like to do that."
   ]
  },
  {
   "cell_type": "code",
   "execution_count": 105,
   "metadata": {
    "collapsed": false
   },
   "outputs": [],
   "source": [
    "import numpy                       \n",
    "from matplotlib import pyplot                 \n",
    "%matplotlib inline\n",
    "from matplotlib import rcParams\n",
    "rcParams['font.family'] = 'serif'\n",
    "rcParams['font.size'] = 16"
   ]
  },
  {
   "cell_type": "markdown",
   "metadata": {},
   "source": [
    "As a first exercise, we'll solve the 1D linear convection equation with a *square wave* initial condition, defined as follows:\n",
    "\n",
    "\\begin{equation}\n",
    "u(x,0)=\\begin{cases}2 & \\text{where } 0.5\\leq x \\leq 1,\\\\\n",
    "1 & \\text{everywhere else in } (0, 2)\n",
    "\\end{cases}\n",
    "\\end{equation}\n",
    "\n",
    "We also need a boundary condition on $x$: let $u=1$ at $x=0$. Our spatial domain for the numerical solution will only cover the range $x\\in (0, 2)$."
   ]
  },
  {
   "cell_type": "markdown",
   "metadata": {},
   "source": [
    "![squarewave](figures/squarewave.png)\n",
    "#### Square wave initial condition."
   ]
  },
  {
   "cell_type": "markdown",
   "metadata": {},
   "source": [
    "Now let's define a few variables; we want to make an evenly spaced grid of points within our spatial domain. In the code below, we define a variable called `nx` that will be the number of spatial grid points, and a variable `dx` that will be the distance between any pair of adjacent grid points. We also can define a step in time, `dt`, a number of steps, `nt`, and a value for the wave speed: we like to keep things simple and make $c=1$.  "
   ]
  },
  {
   "cell_type": "code",
   "execution_count": 106,
   "metadata": {
    "collapsed": false
   },
   "outputs": [],
   "source": [
    "nx = 81  # try changing this number from 41 to 81 and Run All ... what happens?\n",
    "dx = 2/(nx-1)\n",
    "nt = 25    \n",
    "dt = .02  \n",
    "c = 1      #assume wavespeed of c = 1\n",
    "x = numpy.linspace(0,2,nx)"
   ]
  },
  {
   "cell_type": "markdown",
   "metadata": {},
   "source": [
    "We also need to set up our initial conditions. Here, we use the NumPy function `ones()` defining an array which is `nx` elements long with every value equal to $1$. How useful! We then *change a slice* of that array to the value $u=2$, to get the square wave, and we print out the initial array just to admire it. But which values should we change?  The problem states that we need to change the indices of `u` such that the square wave begins at $x = 0.5$ and ends at $x = 1$.\n",
    "\n",
    "We can use the `numpy.where` function to return a list of indices where the vector $x$ meets (or doesn't meet) some condition. "
   ]
  },
  {
   "cell_type": "code",
   "execution_count": 107,
   "metadata": {
    "collapsed": false
   },
   "outputs": [
    {
     "name": "stdout",
     "output_type": "stream",
     "text": [
      "[20 21 22 23 24 25 26 27 28 29 30 31 32 33 34 35 36 37 38 39 40 41 42 43 44\n",
      " 45 46 47 48 49 50 51 52 53 54 55 56 57 58 59 60 61 62 63 64 65 66 67 68 69\n",
      " 70 71 72 73 74 75 76 77 78 79 80]\n",
      "[ 0  1  2  3  4  5  6  7  8  9 10 11 12 13 14 15 16 17 18 19 20 21 22 23 24\n",
      " 25 26 27 28 29 30 31 32 33 34 35 36 37 38 39 40]\n"
     ]
    }
   ],
   "source": [
    "u = numpy.ones(nx)      #numpy function ones()\n",
    "lbound = numpy.where(x >= 0.5)[0]\n",
    "ubound = numpy.where(x <= 1)[0]\n",
    "\n",
    "print(lbound)\n",
    "print(ubound)"
   ]
  },
  {
   "cell_type": "markdown",
   "metadata": {},
   "source": [
    "That leaves us with two vectors.  `lbound`, which has the indices for $x \\geq .5$ and 'ubound', which has the indices for $x \\leq 1$.  To combine these two, we can use an intersection, with `numpy.intersect1d`.  "
   ]
  },
  {
   "cell_type": "code",
   "execution_count": 108,
   "metadata": {
    "collapsed": false
   },
   "outputs": [
    {
     "name": "stdout",
     "output_type": "stream",
     "text": [
      "[ 1.  1.  1.  1.  1.  1.  1.  1.  1.  1.  1.  1.  1.  1.  1.  1.  1.  1.\n",
      "  1.  1.  2.  2.  2.  2.  2.  2.  2.  2.  2.  2.  2.  2.  2.  2.  2.  2.\n",
      "  2.  2.  2.  2.  2.  1.  1.  1.  1.  1.  1.  1.  1.  1.  1.  1.  1.  1.\n",
      "  1.  1.  1.  1.  1.  1.  1.  1.  1.  1.  1.  1.  1.  1.  1.  1.  1.  1.\n",
      "  1.  1.  1.  1.  1.  1.  1.  1.  1.]\n"
     ]
    }
   ],
   "source": [
    "bounds = numpy.intersect1d(lbound, ubound)\n",
    "u[bounds]=2  #setting u = 2 between 0.5 and 1 as per our I.C.s\n",
    "print(u)"
   ]
  },
  {
   "cell_type": "markdown",
   "metadata": {},
   "source": [
    "Remember that Python can also next commands, we could have instead written\n",
    "```Python\n",
    "u[numpy.intersect1d(numpy.where(x >= 0.5), numpy.where(x <= 1))] = 2\n",
    "```\n",
    "\n",
    "but that can be a little hard to read."
   ]
  },
  {
   "cell_type": "markdown",
   "metadata": {},
   "source": [
    "Now let's take a look at those initial conditions we've built with a handy plot."
   ]
  },
  {
   "cell_type": "code",
   "execution_count": 109,
   "metadata": {
    "collapsed": false
   },
   "outputs": [
    {
     "data": {
      "image/png": "iVBORw0KGgoAAAANSUhEUgAAAYQAAAELCAYAAADZW/HeAAAABHNCSVQICAgIfAhkiAAAAAlwSFlz\nAAALEgAACxIB0t1+/AAAFn1JREFUeJzt3Xt4XGWBx/FvmqRNk7SUUqgtF0FqcetSriuXIk8sCgtb\nFFp3AQG5yU3EZem6XRUkXQQF9XERAVGUuo88q7LiIgj1sjSCZVcUpS0UqpQWdi1Ye4E2zaW5zP7x\nntDJZJozk5zJJCffz/OcJ5Mz55y8HE7nl/cakCRJkiRJkiRJkiRJkiRJkiRJKkxFzPuHA1cBc4BO\noBL4OXAjsCnm3PXA1jz7FwKPFVVKSVLZvQDcD4yPvp8OPA+sAWpizl1XwnJJkobYauBtOfsuBrqB\n+THnGgiSNIJUxbw/m9BUlO3V6Ouk5IsjSSqXMTHv54YBwEwgAzxewPVvAZYTmph+ApxeVOkkScNW\nJbASuLuAY38F/F30ugr4KKGp6arSFE2SNJQagV+zq5O5WA8DbwDjkiqQJGnoXQQ8C0wZxDU+Q6gl\nHJFIiSRJiYnrVO5xPnAtMJf4+QcQhqRWAjty9ndFXyvznXTwwQdn1q5dW2CRJEnAWmBGEheK61QG\nOA/4J+AkYGO0bx5wadYxU+k9ye1s4Et5rnUU0EYYztrH2rVryWQybglsN9xwQ9nLkKbN++n9HK4b\ncHABn+MFiQuEc4FvAEuAkwnhcB5htND06Jg5wAbgjpxzzwGOzvr+LOADwK1Ay2AKLUlKXlyT0VeA\nscAXcvZngMXR62bCEhUbst5/BNgPuBOoJsxZ2AJcDtwzuCJLkkohLhD2KuAaK+jb0bwR+Gy0qQwa\nGhrKXYRU8X4my/s5PMUtbjfUMlGbmCSpABUVFZDQZ3khncqSpFHAQJAkAQaCJCliIEiSAANBkhQx\nECRJgIEgSYoYCJIkwECQJEUMBEkSYCBIkiIGgiQJMBAkSREDQZIEGAiSpIiBIEkCDARJUsRAkCQB\nBoIkKWIgSJIAA0GSFDEQJEmAgSBJihgIkiTAQJAkRQwESRJgIEiSIgaCJAkwECRJEQNBkgQYCJKk\nSFwgHA58A1gNrASeA24DphRw7WrgRuB5YBWwHJgz4JJKkkqqIub9Fwgf5h8GWoHpwH8RguQwoK2f\nc78GNBBCYDNwCfAV4HhgxW7OyWQymQKLLkmqqKiA+M/ygsTVELqBRYQwANgAfAF4O3BaP+cdAlwK\nfJ4QBgDfBNYBNw20sJKk0okLhNnASzn7Xo2+TurnvDMJibUsZ/8y4GSgttACSpKGRlwgdObZNxPI\nAI/3c95soAt4JWf/OqAKmFVoASVJQ6OqyOMrCX0B9wAv9nPcFKCFEBzZtkVf9yry56oIO1rbeeq5\n9XR3d/faf+iMfdln8sQ+x6/8w//x563b++z3+F3H7z91T/acWNfnPSlNig2E64F24JoSlEUJ2L6j\njRlnXsfGLX0/8H5w6+XMn3tkn/2NX3+IHy57xuP7OX7pk8+x+v5GDpxeyAA7aWQqJhAuAj5IGDnU\n2v+hbALqCP0I2bWEnl+/Nvc5I9LY2Pjm64aGBhoaGoooon7x29/nDQMNzC+feZGurgyt7R08/MQq\nPnbWe8pdJI1yTU1NNDU1leTahQbC+cC1wFzCh32cFcDZwP707kc4COggzGvIKzsQVLyTj53FhqW3\n8u9Ln+KO+5s4cPqu1rm995yQ95xDZ+zLG819M97j4eEnVvKjx8Mo6e0t/Y2yloZG7i/KixcvTuza\nhYxdPY8w9PQkYGO0bx4wjTBpDWBq9F5PbWAmYULaxcC3s671LKFj+fTd/CznIWhY+ew9P+b6r/0I\ngE9ddCo3XXVGmUsk9TaU8xDOJXzoLyEMFz0v2k4nTFKDMPFsA3BH1nm/B74OfJJdHcgXEWoIn06g\n3NKQqK8d9+br5tb2MpZEKr24JqOvAGMJk9GyZYCeekozsJUQCtmuBm4gLFnRQRhhdDJhCQxpRKiv\nrXnzdXOLgaB0iwuEQoaHriD/2kadhFFJ1xdbKGm4ePv++7Bg7pFMqBvHnMMOLndxpJJKpN0pQfYh\nSFIRhrIPQSPMFTffx76nLuKQ+Z/hocd3t4agJPVV7MQ0DXMbt25jw59fB2BnR1eZSyNpJLGGkDLZ\nHZ/ZI2QkKY6BkDLZQyPrxxsIkgpnk1HKWENIVmdnFw/+YgXNre207+zgsvknlrtIUskYCCnTq4aQ\nNYZeA5MBPrjobgDGjKng0jPf3TOqQ0odAyFlfvudT9Pc0k5zazv7T92z3MUZ8aqrKhk3tor2nZ10\nd2doa+9gfM3YchdLKgkDIWUmTahl0gT/IF2S6sePo31n+FtRza3tBoJSy05lKYbLV2i0MBCkGNmj\ntVzgTmlmk5EU47Q5f8kRh+xPfe04JtbZUa/0Gm7DJVzLSJKK4FpGyuuZNf/LXiddy1vnfZL5n7ir\n3MWRNMLYZJQi23a0suWNHWx5Y4dDTiUVzRpCijhLWdJgGAgp0nsdIzs/JRXHJqMUsYZQGi+sf42n\nn3+Z5pZ2Dp2xL8f7l9OUUgZCirjSaWk8/MRKPnHbDwC49tz3GghKLQMhRa5YcCIf+ut30dzSxvhx\nLq+QlF4T05yprBQzEFJkbHUVUybVM2VSfbmLkirZzW/OVFaa2aksxXAtI40WBoIUo/daRm1lLIlU\nWjYZSTH2n7on55zyV9TXjmPWQdPKXRypZFzLSJJGMNcyUl6nfOw29n7vQg56/6f49XPry10cSSOM\nTUYpsun15jc3/+yvpGJZQ0iR3jOVXbpCUnEMhBTJHiM/waUrJBXJJqMUaW7ZNSTSGkKyHnjst2zZ\n1kJzSxuXzT+R2hpngit9Cg2EacC9wMlYqxiWMplMrxpCnR9Yibr6C99jw59fB2DB3COpfcvkMpdI\nSl4hgTAf+CKwEyh2TOh6YGue/QuBx4q8lmK80fSvNLe009zaTlVVZbmLkyq9J6c5W1npVEggLATm\nAo3AzCKvnwGOKPIcDUBFRQX1tTU2FZVIr/WMXL5CKVVIIJxA8TUDKVVc4E6jQSH9AYaBRr3eS2C7\nnpHSaShGGd1CqGVMIfQpfBV4aAh+rpSY9x3zF0ydPJH62nEcYIeyUqrUgbAReBpYFP2sy4AHgauB\nO0r8s6XEXPOh95a7CFLJlXoI6THA96PXncCdwCPAzYAzpxL0n03PMOHEjzPtlE9w5efuK3dxJI1A\n5ZhT8BQwAZhVhp+dWtt3tNHc0s5rm7c5CkbSgJSyyagGqAR25Ozvir7mHSjf2Nj45uuGhgYaGhpK\nULT0yR75Uu+yFVJqNTU10dTUVJJrFxsI/Y04mkroM+g55mzgWOCKnOOOAtqA1fkukh0IKlzvZSsM\nBCmtcn9RXrx4cWLXLrbJaHeLKs8BNtC3o/gc4Ois788CPgDcCrQU+bPVj141hPEGQtLWb9jEvT9a\nzu3ffYyHn1hZ7uJIJVFIDeFO4FTCsNEMsC76egjQER2znbBExYas8x4B9ovOrwYmAVuAy4F7Eii7\nsrj0dWn9ZvXLXPwv/waEtYzmvXt2mUskJW+4/RkV/4TmAHV1dbOjNaxjVDd+HHvUjy93kVJl6ZPP\ncurHbwfglONmsfT2vy9ziaQgyT+h6fLXKVFZOYaJ9eOZaBCURHaty1FcSiuXspYK4GqnGg0MBKkA\nrnaq0cAmI6kAkyfW8eG/OZb62nFM22uPchdHKgk7lSVpBLNTWX3MOOM6Nr+xg/racfzPvYvYd589\ny10kSSOMgZASW7e38Hq01YytLndxJI1AdiqnRO+Jac5UllQ8AyEFdnZ0srOjE4CqyjGMrbbiJ6l4\nfnKkQO6yFVEnkxL241+u4pXXttDc0sZ5px3LtCmONlK6GAgp4NLXQ+Nz9z7K8hVrAThu9sEGglLH\nQEiBA94ymfb/voPmlnbadnbEn6AB6T05ra2fI6WRyUBIibHVVUzew/+dpVQ/3vWMlG52KksF6lVD\ncD0jpZCBIBWo1wJ31hCUQrYxSAU64fAZdHZ1U187jsNm7lfu4kiJG27jE13LaAAymYxDTaVRKsm1\njGwySoEv3/dzao6/iiknXcvirz9U7uJIGqFsMkqB5tZ22nd20r6zk86u7nIXR9IIZQ0hBXrNVB7v\nxDRJA2MgpIAzlSUlwSajFMhdy0ilsXHLNh78xQqaW9qZvEcdF8w7rtxFkhJlIKTAjlabjIbCK69t\n4bKbvgPAke84wEBQ6hgIKfAft15Oa3sHzS1tTLCGUDLZtS8npimNDIQUqKiooLZmLLU1Y8tdlFTr\nNVPZpSuUQnYqSwVytVOlnYEgFagup4bgrHqljU1GUoGqqyq57Mx3M76mmvrx4+juzlBZ6ZIhSo/h\n9jS7ltEAdHd3M2aMlT1pNEpyLSNrCCNcV1c3VcdcSW3NWCbU1fDq0ltd6E7SgBgII1zPHISWtp2M\nGVNhGEgasELbGaYBSwFXThtmmp2UJikhhQTCfGA5cCBQbAN/NXAj8DywKrrOnCKvoX64bIWkpBTS\nZLQQmAs0AjOLvP7tQAMhBDYDlwA/BY4HVhR5LeVhDWFo/fxXz/PcSxtobmnnjIbDeefB08tdJCkx\nhQTCCRRfMwA4BLiUEAKbo33fBP4BuAmYN4BrKkdL2843X7vSaektefhJ7nv0KQAOeMtkA0GpUkgg\nDHQc6JmEoVDLcvYvAy4HaoGWAV5bkRMOn0Hnr+6ipW0nHZ1d5S5O6tWPz1rPyOUrlDKlHLw+G+gC\nXsnZv44QRLNK+LNHlcrKMUyoq2HyHnXlLkrquXyF0qyUgTCFUAPIrWFsi77uVcKfLZWEC9wpzYbd\nPITqY67s9f2nLj6VxZe/v89xN33zERrz/EF5j1cp1Y0PK8ouuuAUdrTu7PP+jDOu4+VXN/fZ/4cf\n3siB06d4vMcnfnySShkIm4A6Qj9Cdi1hYvS173819Pkj8d3d+bswujOZvH9Q3uNVSnvvOQGAKxac\nyNjqvv98Oru68/5/2h2P9/jBHp+kUgbCCuBsYH969yMcBHQAq/OeteE3u15PcASHhpcFc4/k7gce\nB2D63pPKXBqNRk1NTTQ1NQHw+ponEr12MescLAHOByp38/5UYCO7agMzCRPSLga+nXXcs4SO5dPz\nXCOzs6Oz144xFRVUVvbt6ujq6qY7z0J4Hq+hkMlk8i4TsruRXlWVYzze40tyfFRTTWTNmmID4cPk\n74ieAzwO3A18NGv/XcB72DUx7SLgq8BxwMo813G1U0kqwlCvdnoncCph1FCG8Nt9hjDxrCM6Zjuw\nFdiQc+7VwA2EJSs6CCOMTiZ/GEiSymi4LY1pDUGSipBkDcHGZ0kSYCBIkiIGgiQJMBAkSREDQZIE\nGAiSpIiBIEkCDARJUsRAkCQBBoIkKWIgSJIAA0GSFDEQJEmAgSBJihgIkiTAQJAkRQwESRJgIEiS\nIgaCJAkwECRJEQNBkgQYCJKkiIEgSQIMBElSxECQJAEGgiQpYiBIkgADQZIUMRAkSYCBIEmKGAiS\nJMBAkCRFqgo4Zh/gy8BR0fergGuAPxZw7npga579C4HHCjhfkjRE4gJhLPAz4AVgVrTvW8Ay4Ahg\nR8z5meg4SdIwF9dkdAFwKLAI6I62RcDbgCtLWzRJ0lCKC4QFwMuEpp8efwJWR+9JklIiLhBmA+vy\n7F9PqDkU4hZgObAG+AlweqGFkyQNnbhAmAJsz7N/G1ALjIs5fyPwNDAHeCfwYLRdVVwxJUmlFhcI\nmUFe/xjg+9HrTuBO4BHgZuLDRJI0hOJGGW0CJuTZP5Ewwqh9AD/zKeA0wqil3+W+2djY+ObrhoYG\nGhoaBvAjJCmdmpqaaGpqKsm1K2LefxR4B3BQzv5VhKak4/s5twaopO/Q1E8DNwLvAn6T814mkxls\npUSSRo+KigqI/ywvSFyT0QPAW6Otx1RCSPwg59ipOYU6G/hSnmseBbQRRipJkoaJuEBYQqgN3EL4\nbX8M8HngJeCurOPmABuAO3LOPwc4Ouv7s4APALcCLQMttCQpeXF9CB3A+whLV6wmdDKvAubS+wN9\nO2GJig1Z+x4B9iN0JFcDk4AtwOXAPQmUXZKUoETanRJkH4IkFWEo+xAkSaOEgSBJAgwESVLEQJAk\nAQaCJCliIEiSAANBkhQxECRJgIEgSYoYCJIkwECQJEUMBEkSYCBIkiIGgiQJMBAkSREDQZIEGAiS\npIiBIEkCDARJUsRAkCQBBoIkKWIgSJIAA0GSFDEQJEmAgSBJihgIkiTAQJAkRQwESRJgIEiSIgaC\nJAkwECRJkUICYR/gPuCFaLsf2LfA61cDNwLPA6uA5cCc4ospSSq1uEAYC/wMqAJmRdsOYBlQV8D1\nbwf+FjgBOBT4FvBT4LABlleSVCIVMe9fCtwNvA1YH+2bCvwR+Gfgi/2cewiwGrgEWJK1/9noWvPy\nnJPJZDIxRZIk9aioqID4z/KCxNUQFgAvsysMAP5E+KBfEHPumYRCLsvZvww4GagtuJSSpJKLC4TZ\nwLo8+9cTmoDizu0CXsnZv45dTVAqkaampnIXIVW8n8nyfg5PcYEwBdieZ/82wm/442LObQFy24C2\nRV/3KqSAGhj/wSXL+5ks7+fwFBcINuhL0igRFwibgAl59k8kjDZqjzm3jr6dHROjr5sLKaAkaXh4\nlPx9CKuAJ2POXQR0Awfk7L+dECT5OpVfJNRK3Nzc3NwK215kiFxK+FB/a9a+qUAHsDDn2Kn0rg3M\nJHQqX5Bz3LPAQ8kWU5JUatXACuC7QCWhieleYA29f8OfQ/jwvzPn/LsIs5t7OpAvIjQ1zS5dkSVJ\nAxHXh9ABvI/wYb862uqBuYQRRD22A1uBDTnnX01Y6mI5oZnpI4Q5CCsHW3BJkqQkTQOWEppGNTje\nS8VycbxkDeZ+rgd+l2ebm3gpR4b5wEuE+9hV5Lk+m70N5l6ux+cy1+HANwitMiuB54DbCPO74gzb\nZ3MsoQ/ie4TmqTGEdY1+T2GL432N3n0QlxD6IEbr4niDvZ/rSlaykWk5cCDhHhb7W63PZm+DuZc+\nl331/LI3Pvp+OuEDfg1QE3PusH02e0YpHZi1byrQCfxjzLmHEH7TuDBn/7PAw8kUb8QZzP0E/+Hl\n6hkVt4TiPsR8Nvsa6L0En8t8VhMWFc12MeHezu/nvEE9m6X+AzkujpeswdxP9ZUZ4Hk+m30N9F4q\nv9mEJrhsr0ZfJ/Vz3qCezVIHgovjJWsw97PHLYTq/RrgJ8DpiZRsdPHZTJ7PZW+defbNJATv4/2c\nN6hns9SB4OJ4yRrM/QTYCDxN6GB6J/BgtF2VYBlHA5/NZPlcxqsk9AXcQ/8zkwf1bJY6EKxGJmuw\n9/MY4PvR607CRMJHgJuJDxOpVHwu411PWPLnmlL+kFIHgovjJWsw93N3noquaTNH4Xw2S8/ncpeL\ngA8CpwKtMccO6tksdSCsBA7Ks/8gwvjY/qwglG//POd2EDpSR5vB3M8a8g9N7RkzXjmIco02PpvJ\n8bns3/nAtYQ5GZsKOH5YP5sujpeswdzPCwnjk3M9QGhzHI0jY3osof/JVD6bhVtCcffyQnwud+c8\nwi96+2Ttm0f4HOgxop5NF8dL1mDu54XAG8DRWfvOio5rLFWBR4gl7H7svM9mcZZQ3L28EJ/LfM4l\nNA8tJARDz3Y3cEN0zIh8NnuWWljD7pdamE2oDl2Xs7+KMAX7BYbZFOwyGuj93Cf6/inCsgDrCCM7\nPlLi8g5ndxLuw3bCP6x1hLHf1VnH+GwWZqD30ucyv82E+9ids3UBn4mOOQyfTUmSJEmSJEmSJEmS\nJEmSJEmSJEmSJEmSJA0P/w8viUvo5VP2JAAAAABJRU5ErkJggg==\n",
      "text/plain": [
<<<<<<< HEAD
       "<matplotlib.figure.Figure at 0x7f156f806940>"
=======
       "<matplotlib.figure.Figure at 0x7f1d92a1a550>"
>>>>>>> 5f2115666006bf6e6367320fff46ddc1e0e32044
      ]
     },
     "metadata": {},
     "output_type": "display_data"
    }
   ],
   "source": [
    "pyplot.plot(x, u, color='#003366', ls='--', lw=3)\n",
    "pyplot.ylim(0,2.5);"
   ]
  },
  {
   "cell_type": "markdown",
   "metadata": {},
   "source": [
    "It does look pretty close to what we expected. But it looks like the sides of the square wave are not perfectly vertical. Is that right? Think for a bit."
   ]
  },
  {
   "cell_type": "markdown",
   "metadata": {},
   "source": [
    "Now it's time to write some code for the discrete form of the convection equation using our chosen finite-difference scheme. \n",
    "\n",
    "For every element of our array `u`, we need to perform the operation: \n",
    "\n",
    "$$u_i^{n+1} = u_i^n - c \\frac{\\Delta t}{\\Delta x}(u_i^n-u_{i-1}^n)$$\n",
    "\n",
    "We'll store the result in a new (temporary) array `un`, which will be the solution $u$ for the next time-step.  We will repeat this operation for as many time-steps as we specify and then we can see how far the wave has traveled.  \n",
    "\n",
    "We first initialize the placeholder array `un` to hold the values we calculate for the $n+1$ timestep, using once again the NumPy function `ones()`.\n",
    "\n",
    "Then, we may think we have two iterative operations: one in space and one in time (we'll learn differently later), so we may start by nesting a spatial loop inside the time loop, as shown below. You see that the code for the finite-difference scheme is a direct expression of the discrete equation: "
   ]
  },
  {
   "cell_type": "code",
   "execution_count": 110,
   "metadata": {
    "collapsed": false
   },
   "outputs": [],
   "source": [
    "for n in range(1,nt):  \n",
    "    un = u.copy() \n",
    "    for i in range(1,nx): \n",
    "    \n",
    "        u[i] = un[i]-c*dt/dx*(un[i]-un[i-1])"
   ]
  },
  {
   "cell_type": "markdown",
   "metadata": {},
   "source": [
    "**Note**—We will learn later that the code as written above is quite inefficient, and there are better ways to write this, Python-style. But let's carry on.\n",
    "\n",
    "Now let's inspect our solution array after advancing in time with a line plot."
   ]
  },
  {
   "cell_type": "code",
   "execution_count": 111,
   "metadata": {
    "collapsed": false
   },
   "outputs": [
    {
     "data": {
      "image/png": "iVBORw0KGgoAAAANSUhEUgAAAYQAAAELCAYAAADZW/HeAAAABHNCSVQICAgIfAhkiAAAAAlwSFlz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\nJEmSJEmSJEmSJEmSlB/+P6LjTe8YQMi/AAAAAElFTkSuQmCC\n",
      "text/plain": [
<<<<<<< HEAD
       "<matplotlib.figure.Figure at 0x7f156f30d860>"
=======
       "<matplotlib.figure.Figure at 0x7f1d909c6c88>"
>>>>>>> 5f2115666006bf6e6367320fff46ddc1e0e32044
      ]
     },
     "metadata": {},
     "output_type": "display_data"
    }
   ],
   "source": [
    "pyplot.plot(x, u, color='#003366', ls='--', lw=3)\n",
    "pyplot.ylim(0,2.5);"
   ]
  },
  {
   "cell_type": "markdown",
   "metadata": {},
   "source": [
    "That's funny. Our square wave has definitely moved to the right, but it's no longer in the shape of a top-hat.  **What's going on?**"
   ]
  },
  {
   "cell_type": "markdown",
   "metadata": {},
   "source": [
    "##### Dig deeper"
   ]
  },
  {
   "cell_type": "markdown",
   "metadata": {},
   "source": [
    "The solution differs from the expected square wave because the discretized equation is an approximation of the continuous differential equation that we want to solve. There are errors: we knew that. But the modified shape of the initial wave is something curious. Maybe it can be improved by making the grid spacing finer. Why don't you try it? Does it help?"
   ]
  },
  {
   "cell_type": "markdown",
   "metadata": {},
   "source": [
    "## Spatial truncation error"
   ]
  },
  {
   "cell_type": "markdown",
   "metadata": {},
   "source": [
    "Recall the finite-difference approximation we are using for the spatial derivative:\n",
    "\n",
    "\\begin{equation}\\frac{\\partial u}{\\partial x}\\approx \\frac{u(x+\\Delta x)-u(x)}{\\Delta x}\\end{equation}\n",
    "\n",
    "We obtain it by using the definition of the derivative at a point, and simply removing the limit, in the assumption that $\\Delta x$ is very small. But we already learned with Euler's method that this introduces an error, called the *truncation error*.\n",
    "\n",
    "Using a Taylor series expansion for the spatial terms now, we see that the backward-difference scheme produces a first-order method, in space."
   ]
  },
  {
   "cell_type": "markdown",
   "metadata": {},
   "source": [
    "\\begin{equation}\n",
    "\\frac{\\partial u}{\\partial x}(x_i) = \\frac{u(x_i)-u(x_{i-1})}{\\Delta x} + \\frac{\\Delta x}{2} \\frac{\\partial^2 u}{\\partial x^2}(x_i) - \\frac{\\Delta x^2}{6} \\frac{\\partial^3 u}{\\partial x^3}(x_i)+ \\cdots\n",
    "\\end{equation}\n",
    "\n",
    "The dominant term that is neglected in the finite-difference approximation is of $\\mathcal{O}(\\Delta x)$. We also see that the approximation *converges* to the exact derivative as $\\Delta x \\rightarrow 0$. That's good news!\n",
    "\n",
    "In summary, the chosen \"forward-time/backward space\" difference scheme is first-order in both space and time: the truncation errors are $\\mathcal{O}(\\Delta t, \\Delta x)$. We'll come back to this!"
   ]
  },
  {
   "cell_type": "markdown",
   "metadata": {},
   "source": [
    "## Non-linear convection"
   ]
  },
  {
   "cell_type": "markdown",
   "metadata": {},
   "source": [
    "Let's move on to the non-linear convection equation, using the same methods as before. The 1-D convection equation is:\n",
    "\n",
    "\\begin{equation}\\frac{\\partial u}{\\partial t} + u \\frac{\\partial u}{\\partial x} = 0\\end{equation}\n",
    "\n",
    "The only difference with the linear case is that we've replaced the constant wave speed $c$ by the variable speed $u$. The equation is non-linear because now we have a product of the solution and one of its derivatives: the product $u\\,\\partial u/\\partial x$. This changes everything!\n",
    "\n",
    "We're going to use the same discretization as for linear convection: forward difference in time and backward difference in space. Here is the discretized equation:\n",
    "\n",
    "\\begin{equation}\\frac{u_i^{n+1}-u_i^n}{\\Delta t} + u_i^n \\frac{u_i^n-u_{i-1}^n}{\\Delta x} = 0\\end{equation}\n",
    "\n",
    "Solving for the only unknown term, $u_i^{n+1}$, gives an equation that can be used to advance in time:\n",
    "\n",
    "\\begin{equation}u_i^{n+1} = u_i^n - u_i^n \\frac{\\Delta t}{\\Delta x} (u_i^n - u_{i-1}^n)\\end{equation}\n",
    "\n",
    "There is very little that needs to change from the code written so far. In fact, we'll even use the same square-wave initial condition. But let's re-initialize the variable `u` with the initial values, and re-enter the numerical parameters here, for convenience (we no longer need $c$, though)."
   ]
  },
  {
   "cell_type": "code",
   "execution_count": 112,
   "metadata": {
    "collapsed": false
   },
   "outputs": [],
   "source": [
    "##problem parameters\n",
    "nx = 41\n",
    "dx = 2/(nx-1)\n",
    "nt = 10    \n",
    "dt = .02  \n",
    "x = numpy.linspace(0,2,nx)\n",
    "##initial conditions\n",
    "u = numpy.ones(nx)      #numpy function ones()\n",
    "lbound = numpy.where(x >= 0.5)[0]\n",
    "ubound = numpy.where(x <= 1)[0]\n",
    "u[numpy.intersect1d(lbound, ubound)]=2  \n",
    "\n"
   ]
  },
  {
   "cell_type": "markdown",
   "metadata": {},
   "source": [
    " How does it look?"
   ]
  },
  {
   "cell_type": "code",
   "execution_count": 113,
   "metadata": {
    "collapsed": false
   },
   "outputs": [
    {
     "data": {
      "image/png": "iVBORw0KGgoAAAANSUhEUgAAAYQAAAELCAYAAADZW/HeAAAABHNCSVQICAgIfAhkiAAAAAlwSFlz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\n",
      "text/plain": [
<<<<<<< HEAD
       "<matplotlib.figure.Figure at 0x7f156f29c710>"
=======
       "<matplotlib.figure.Figure at 0x7f1d9090b128>"
>>>>>>> 5f2115666006bf6e6367320fff46ddc1e0e32044
      ]
     },
     "metadata": {},
     "output_type": "display_data"
    }
   ],
   "source": [
    "pyplot.plot(x, u, color='#003366', ls='--', lw=3)\n",
    "pyplot.ylim(0,2.5);"
   ]
  },
  {
   "cell_type": "markdown",
   "metadata": {},
   "source": [
    "Changing just one line of code in the solution of linear convection, we are able to now get the non-linear solution: the line that corresponds to the discrete equation now has `un[i]` in the place where before we just had `c`. So you could write something like:\n",
    "```Python\n",
    "for n in range(1,nt):  \n",
    "  un = u.copy() \n",
    "  for i in range(1,nx): \n",
    "    u[i] = un[i]-un[i]*dt/dx*(un[i]-un[i-1]) \n",
    "```\n",
    "\n",
    "We're going to be more clever than that and use NumPy to update all values of the spatial grid in one fell swoop. We don't really need to write a line of code that gets executed *for each* value of $u$ on the spatial grid. Python can update them all at once! Study the code below, and compare it with the one above. Here is a helpful sketch, to illustrate the array operation—also called a \"vectorized\" operation—for $u_i-u_{i-1}$."
   ]
  },
  {
   "cell_type": "markdown",
   "metadata": {},
   "source": [
    "![vectorizedstencil](figures/vectorizedstencil.png)\n",
    "\n",
    "<br>\n",
    "#### Sketch to explain vectorized stencil operation.  Adapted from [\"Indices point between elements\"](https://blog.nelhage.com/2015/08/indices-point-between-elements/) by Nelson Elhage.  "
   ]
  },
  {
   "cell_type": "code",
   "execution_count": 114,
   "metadata": {
    "collapsed": false
   },
   "outputs": [],
   "source": [
    "for n in range(1, nt):  \n",
    "    un = u.copy() \n",
    "    u[1:] = un[1:]-un[1:]*dt/dx*(un[1:]-un[0:-1]) \n",
    "    u[0] = 1.0"
   ]
  },
  {
   "cell_type": "code",
   "execution_count": 115,
   "metadata": {
    "collapsed": false
   },
   "outputs": [
    {
     "data": {
      "image/png": "iVBORw0KGgoAAAANSUhEUgAAAYQAAAELCAYAAADZW/HeAAAABHNCSVQICAgIfAhkiAAAAAlwSFlz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\nW+9SAroRZfQAAAAASUVORK5CYII=\n",
      "text/plain": [
<<<<<<< HEAD
       "<matplotlib.figure.Figure at 0x7f156f2e47b8>"
=======
       "<matplotlib.figure.Figure at 0x7f1d9090be80>"
>>>>>>> 5f2115666006bf6e6367320fff46ddc1e0e32044
      ]
     },
     "metadata": {},
     "output_type": "display_data"
    }
   ],
   "source": [
    "pyplot.plot(x, u, color='#003366', ls='--', lw=3)\n",
    "pyplot.ylim(0,2.5);"
   ]
  },
  {
   "cell_type": "markdown",
   "metadata": {},
   "source": [
    "Hmm. That's quite interesting: like in the linear case, we see that we have lost the sharp sides of our initial square wave, but there's more. Now, the wave has also lost symmetry! It seems to be lagging on the rear side, while the front of the wave is steepening. Is this another form of numerical error, do you ask? No! It's physics!"
   ]
  },
  {
   "cell_type": "markdown",
   "metadata": {},
   "source": [
    "##### Dig deeper"
   ]
  },
  {
   "cell_type": "markdown",
   "metadata": {},
   "source": [
    "Think about the effect of having replaced the constant wave speed $c$ by the variable speed given by the solution $u$. It means that different parts of the wave move at different speeds. Make a sketch of an initial wave and think about where the speed is higher and where it is lower ..."
   ]
  },
  {
   "cell_type": "markdown",
   "metadata": {},
   "source": [
    "## References\n",
    "\n",
    "* Elhage, Nelson (2015), [\"Indices point between elements\"](https://blog.nelhage.com/2015/08/indices-point-between-elements/)"
   ]
  },
  {
   "cell_type": "markdown",
   "metadata": {},
   "source": [
    "---\n",
    "\n",
    "###### The cell below loads the style of the notebook."
   ]
  },
  {
   "cell_type": "code",
   "execution_count": 116,
   "metadata": {
    "collapsed": false
   },
   "outputs": [
    {
     "data": {
      "text/html": [
       "<link href='http://fonts.googleapis.com/css?family=Alegreya+Sans:100,300,400,500,700,800,900,100italic,300italic,400italic,500italic,700italic,800italic,900italic' rel='stylesheet' type='text/css'>\n",
       "<link href='http://fonts.googleapis.com/css?family=Arvo:400,700,400italic' rel='stylesheet' type='text/css'>\n",
       "<link href='http://fonts.googleapis.com/css?family=PT+Mono' rel='stylesheet' type='text/css'>\n",
       "<link href='http://fonts.googleapis.com/css?family=Shadows+Into+Light' rel='stylesheet' type='text/css'>\n",
       "<link href='http://fonts.googleapis.com/css?family=Nixie+One' rel='stylesheet' type='text/css'>\n",
       "<style>\n",
       "\n",
       "@font-face {\n",
       "    font-family: \"Computer Modern\";\n",
       "    src: url('http://mirrors.ctan.org/fonts/cm-unicode/fonts/otf/cmunss.otf');\n",
       "}\n",
       "\n",
       "#notebook_panel { /* main background */\n",
       "    background: rgb(245,245,245);\n",
       "}\n",
       "\n",
       "div.cell { /* set cell width */\n",
       "    width: 750px;\n",
       "}\n",
       "\n",
       "div #notebook { /* centre the content */\n",
       "    background: #fff; /* white background for content */\n",
       "    width: 1000px;\n",
       "    margin: auto;\n",
       "    padding-left: 0em;\n",
       "}\n",
       "\n",
       "#notebook li { /* More space between bullet points */\n",
       "    margin-top:0.8em;\n",
       "}\n",
       "\n",
       "/* draw border around running cells */\n",
       "div.cell.border-box-sizing.code_cell.running { \n",
       "    border: 1px solid #111;\n",
       "}\n",
       "\n",
       "/* Put a solid color box around each cell and its output, visually linking them*/\n",
       "div.cell.code_cell {\n",
       "    background-color: rgb(256,256,256); \n",
       "    border-radius: 0px; \n",
       "    padding: 0.5em;\n",
       "    margin-left:1em;\n",
       "    margin-top: 1em;\n",
       "}\n",
       "\n",
       "div.text_cell_render{\n",
       "    font-family: 'Alegreya Sans' sans-serif;\n",
       "    line-height: 140%;\n",
       "    font-size: 125%;\n",
       "    font-weight: 400;\n",
       "    width:600px;\n",
       "    margin-left:auto;\n",
       "    margin-right:auto;\n",
       "}\n",
       "\n",
       "\n",
       "/* Formatting for header cells */\n",
       ".text_cell_render h1 {\n",
       "    font-family: 'Nixie One', serif;\n",
       "    font-style:regular;\n",
       "    font-weight: 400;    \n",
       "    font-size: 45pt;\n",
       "    line-height: 100%;\n",
       "    color: rgb(0,51,102);\n",
       "    margin-bottom: 0.5em;\n",
       "    margin-top: 0.5em;\n",
       "    display: block;\n",
       "}\n",
       "\n",
       ".text_cell_render h2 {\n",
       "    font-family: 'Nixie One', serif;\n",
       "    font-weight: 400;\n",
       "    font-size: 30pt;\n",
       "    line-height: 100%;\n",
       "    color: rgb(0,51,102);\n",
       "    margin-bottom: 0.1em;\n",
       "    margin-top: 0.3em;\n",
       "    display: block;\n",
       "}\t\n",
       "\n",
       ".text_cell_render h3 {\n",
       "    font-family: 'Nixie One', serif;\n",
       "    margin-top:16px;\n",
       "    font-size: 22pt;\n",
       "    font-weight: 600;\n",
       "    margin-bottom: 3px;\n",
       "    font-style: regular;\n",
       "    color: rgb(102,102,0);\n",
       "}\n",
       "\n",
       ".text_cell_render h4 {    /*Use this for captions*/\n",
       "    font-family: 'Nixie One', serif;\n",
       "    font-size: 14pt;\n",
       "    text-align: center;\n",
       "    margin-top: 0em;\n",
       "    margin-bottom: 2em;\n",
       "    font-style: regular;\n",
       "}\n",
       "\n",
       ".text_cell_render h5 {  /*Use this for small titles*/\n",
       "    font-family: 'Nixie One', sans-serif;\n",
       "    font-weight: 400;\n",
       "    font-size: 16pt;\n",
       "    color: rgb(163,0,0);\n",
       "    font-style: italic;\n",
       "    margin-bottom: .1em;\n",
       "    margin-top: 0.8em;\n",
       "    display: block;\n",
       "}\n",
       "\n",
       ".text_cell_render h6 { /*use this for copyright note*/\n",
       "    font-family: 'PT Mono', sans-serif;\n",
       "    font-weight: 300;\n",
       "    font-size: 9pt;\n",
       "    line-height: 100%;\n",
       "    color: grey;\n",
       "    margin-bottom: 1px;\n",
       "    margin-top: 1px;\n",
       "}\n",
       "\n",
       ".CodeMirror{\n",
       "    font-family: \"PT Mono\";\n",
       "    font-size: 90%;\n",
       "}\n",
       "\n",
       "</style>\n",
       "<script>\n",
       "    MathJax.Hub.Config({\n",
       "                        TeX: {\n",
       "                           extensions: [\"AMSmath.js\"],\n",
       "                           equationNumbers: { autoNumber: \"AMS\", useLabelIds: true}\n",
       "                           },\n",
       "                tex2jax: {\n",
       "                    inlineMath: [ ['$','$'], [\"\\\\(\",\"\\\\)\"] ],\n",
       "                    displayMath: [ ['$$','$$'], [\"\\\\[\",\"\\\\]\"] ]\n",
       "                },\n",
       "                displayAlign: 'center', // Change this to 'center' to center equations.\n",
       "                \"HTML-CSS\": {\n",
       "                    styles: {'.MathJax_Display': {\"margin\": 4}}\n",
       "                }\n",
       "        });\n",
       "</script>\n"
      ],
      "text/plain": [
       "<IPython.core.display.HTML object>"
      ]
     },
     "execution_count": 116,
     "metadata": {},
     "output_type": "execute_result"
    }
   ],
   "source": [
    "from IPython.core.display import HTML\n",
    "css_file = '../../styles/numericalmoocstyle.css'\n",
    "HTML(open(css_file, \"r\").read())"
   ]
  }
 ],
 "metadata": {
  "kernelspec": {
   "display_name": "Python 3",
   "language": "python",
   "name": "python3"
  },
  "language_info": {
   "codemirror_mode": {
    "name": "ipython",
    "version": 3
   },
   "file_extension": ".py",
   "mimetype": "text/x-python",
   "name": "python",
   "nbconvert_exporter": "python",
   "pygments_lexer": "ipython3",
   "version": "3.4.3"
  }
 },
 "nbformat": 4,
 "nbformat_minor": 0
}
