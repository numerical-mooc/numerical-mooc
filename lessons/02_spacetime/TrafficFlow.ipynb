{
 "metadata": {
  "name": "",
  "signature": "sha256:b5744896aab4ab85b66c9d939ac4d08bd82c1b170b09b357841e53ecd0eb34d9"
 },
 "nbformat": 3,
 "nbformat_minor": 0,
 "worksheets": [
  {
   "cells": [
    {
     "cell_type": "code",
     "collapsed": false,
     "input": [
      "import numpy as np\n",
      "import matplotlib.pyplot as plt\n",
      "%matplotlib inline"
     ],
     "language": "python",
     "metadata": {},
     "outputs": [],
     "prompt_number": 40
    },
    {
     "cell_type": "code",
     "collapsed": false,
     "input": [
      "#constants\n",
      "vmax = 80  #max velocity in km/hr\n",
      "L = 11. # stretch of road in km\n",
      "pmax= 250  #maximum density of traffic in cars/km\n",
      "nx = 51\n",
      "dt= .001   #delta t in hours (3.6 seconds)\n",
      "dx= L/nx"
     ],
     "language": "python",
     "metadata": {},
     "outputs": [],
     "prompt_number": 41
    },
    {
     "cell_type": "code",
     "collapsed": false,
     "input": [
      "print dx"
     ],
     "language": "python",
     "metadata": {},
     "outputs": [
      {
       "output_type": "stream",
       "stream": "stdout",
       "text": [
        "0.21568627451\n"
       ]
      }
     ],
     "prompt_number": 42
    },
    {
     "cell_type": "code",
     "collapsed": false,
     "input": [
      "#number of steps for 6 minutes\n",
      "nt = 100"
     ],
     "language": "python",
     "metadata": {},
     "outputs": [],
     "prompt_number": 43
    },
    {
     "cell_type": "code",
     "collapsed": false,
     "input": [
      "#initial conditions for part A simulation\n",
      "x = np.linspace(0,L,nx)\n",
      "p = np.ones(nx)*10\n",
      "p[10:20] = 50"
     ],
     "language": "python",
     "metadata": {},
     "outputs": [],
     "prompt_number": 44
    },
    {
     "cell_type": "code",
     "collapsed": false,
     "input": [
      "#plot of initial conditions for part A\n",
      "plt.plot(x, p, ls='--', lw=3)\n",
      "plt.ylim(10,70)"
     ],
     "language": "python",
     "metadata": {},
     "outputs": [
      {
       "metadata": {},
       "output_type": "pyout",
       "prompt_number": 45,
       "text": [
        "(10, 70)"
       ]
      },
      {
       "metadata": {},
       "output_type": "display_data",
       "png": "[encoded data removed]",
       "text": [
        "<matplotlib.figure.Figure at 0xade7828>"
       ]
      }
     ],
     "prompt_number": 45
    },
    {
     "cell_type": "code",
     "collapsed": false,
     "input": [
      "# minimum velocity at initial condition t=0\n",
      "veloc= (vmax*(1-p/pmax))*0.278\n",
      "min_veloc= np.amin(veloc)"
     ],
     "language": "python",
     "metadata": {},
     "outputs": [],
     "prompt_number": 46
    },
    {
     "cell_type": "code",
     "collapsed": false,
     "input": [
      "print min_veloc"
     ],
     "language": "python",
     "metadata": {},
     "outputs": [
      {
       "output_type": "stream",
       "stream": "stdout",
       "text": [
        "17.792\n"
       ]
      }
     ],
     "prompt_number": 47
    },
    {
     "cell_type": "code",
     "collapsed": false,
     "input": [
      "pn = np.ones(nx)*10\n",
      "for n in range(nt):\n",
      "    pn = p.copy()\n",
      "    p[1:]= pn[1:] - (vmax - ((2*vmax)/pmax)*pn[1:])*dt/dx*(pn[1:] -pn[0:-1])\n",
      "    p[0]= 10"
     ],
     "language": "python",
     "metadata": {},
     "outputs": [],
     "prompt_number": 34
    },
    {
     "cell_type": "code",
     "collapsed": false,
     "input": [
      "#print p"
     ],
     "language": "python",
     "metadata": {},
     "outputs": [],
     "prompt_number": 35
    },
    {
     "cell_type": "code",
     "collapsed": false,
     "input": [
      "plt.plot(x,p, ls='--', lw=3)\n",
      "plt.ylim(5,60)\n",
      "plt.xlabel('distance')\n",
      "plt.ylabel('traffic density')"
     ],
     "language": "python",
     "metadata": {},
     "outputs": [
      {
       "metadata": {},
       "output_type": "pyout",
       "prompt_number": 36,
       "text": [
        "<matplotlib.text.Text at 0xa860cc0>"
       ]
      },
      {
       "metadata": {},
       "output_type": "display_data",
       "png": "[encoded data removed]",
       "text": [
        "<matplotlib.figure.Figure at 0xa92c1d0>"
       ]
      }
     ],
     "prompt_number": 36
    },
    {
     "cell_type": "code",
     "collapsed": false,
     "input": [
      "velocity= (vmax*(1-p/pmax))*0.278   #get velocity and convert velocity to m/s"
     ],
     "language": "python",
     "metadata": {},
     "outputs": [],
     "prompt_number": 37
    },
    {
     "cell_type": "code",
     "collapsed": false,
     "input": [
      "print velocity"
     ],
     "language": "python",
     "metadata": {},
     "outputs": [
      {
       "output_type": "stream",
       "stream": "stdout",
       "text": [
        "[ 21.3504      21.3504      21.3504      21.3504      21.3504      21.3504\n",
        "  21.3504      21.3504      21.3504      21.3504      21.3504      21.3504\n",
        "  21.3504      21.3504      21.3504      21.3504      21.3504      21.3504\n",
        "  21.3504      21.3504      21.3504      21.35039999  21.35039994\n",
        "  21.35039974  21.35039902  21.3503966   21.35038901  21.35036688\n",
        "  21.35030674  21.35015369  21.34978824  21.34896743  21.34722963\n",
        "  21.343755    21.33718268  21.3254038   21.30537425  21.27301781\n",
        "  21.22330693  21.150604    21.04930801  20.91478243  20.74445237\n",
        "  20.53887778  20.30256683  20.04430767  19.77687399  19.51607812\n",
        "  19.27927493  19.08352332  18.94367084]\n"
       ]
      }
     ],
     "prompt_number": 38
    },
    {
     "cell_type": "code",
     "collapsed": false,
     "input": [
      "#avg_velocity= np.average(velocity)\n",
      "#print avg_velocity"
     ],
     "language": "python",
     "metadata": {},
     "outputs": [
      {
       "output_type": "stream",
       "stream": "stdout",
       "text": [
        "20.6526847441\n"
       ]
      }
     ],
     "prompt_number": 27
    },
    {
     "cell_type": "code",
     "collapsed": false,
     "input": [
      "min_velocity = np.amin(velocity)\n",
      "print min_velocity"
     ],
     "language": "python",
     "metadata": {},
     "outputs": [
      {
       "output_type": "stream",
       "stream": "stdout",
       "text": [
        "18.9436708409\n"
       ]
      }
     ],
     "prompt_number": 39
    },
    {
     "cell_type": "code",
     "collapsed": false,
     "input": [],
     "language": "python",
     "metadata": {},
     "outputs": []
    }
   ],
   "metadata": {}
  }
 ]
}