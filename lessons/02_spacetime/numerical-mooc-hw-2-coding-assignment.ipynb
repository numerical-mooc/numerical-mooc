{
 "cells": [
  {
   "cell_type": "markdown",
   "metadata": {},
   "source": [
    "# Traffic flow\n",
    "Define $V$ as speed of traffic in km/h.\n",
    "Define traffic density in cars per km $\\rho$.\n",
    "Define flow rate F in cars per hour $F$.\n",
    "\n",
    "Assumptions:\n",
    "* As $\\rho \\rightarrow 0$, $V \\rightarrow V_{max}$.\n",
    "* As $\\rho \\rightarrow \\rho_{max}$, $V \\rightarrow 0$.\n",
    "\n",
    "One solution for these assumptions is\n",
    "$$V = V_{max}(1-\\rho/\\rho_{max})$$\n",
    "\n",
    "$F$ can be expressed as $F=V\\rho = \\rho V_{max}(1-\\rho/\\rho_{max})$\n",
    "\n",
    "We can use nonlinear convection equation using the wave speed $\\partial F / \\partial \\rho$:\n",
    "\n",
    "$$\\frac{\\partial \\rho}{\\partial t} + \\frac{\\partial F}{\\partial \\rho} \\frac{\\partial \\rho}{\\partial x} = 0 = \\frac{\\partial \\rho}{\\partial t} + \\frac{\\partial F}{\\partial x}$$\n",
    "\n",
    "Use forward time difference and backward space difference. $V_{max}= 80$, road length $L=11$, $\\rho_{max} = 250$, $n_x$ = 51, $dt=0.001$"
   ]
  },
  {
   "cell_type": "code",
   "execution_count": 33,
   "metadata": {
    "collapsed": true
   },
   "outputs": [],
   "source": [
    "import numpy as np\n",
    "V_max=80\n",
    "L=11\n",
    "rho_max=250\n",
    "nx=51\n",
    "dt=0.001\n",
    "t=0"
   ]
  },
  {
   "cell_type": "markdown",
   "metadata": {},
   "source": [
    "$$\\frac{\\rho(t+dt)-\\rho(t)}{dt} + \\frac{F(x)-F(x-dx)}{dx} = 0 $$"
   ]
  },
  {
   "cell_type": "markdown",
   "metadata": {},
   "source": [
    "$$\\rho(t+dt) = \\rho(t)  + dt \\frac{F(x)-F(x-dx)}{dx} = 0 $$"
   ]
  },
  {
   "cell_type": "code",
   "execution_count": 44,
   "metadata": {
    "collapsed": false
   },
   "outputs": [
    {
     "name": "stdout",
     "output_type": "stream",
     "text": [
      "17.7777777778 21.3333333333\n"
     ]
    },
    {
     "data": {
      "image/png": "[encoded data removed]",
      "text/plain": [
       "<matplotlib.figure.Figure at 0x7f3f657451d0>"
      ]
     },
     "metadata": {},
     "output_type": "display_data"
    }
   ],
   "source": [
    "x = np.linspace(0,L,nx)\n",
    "rho0 = np.ones(nx)*10\n",
    "rho0[10:20] = 50\n",
    "rho0[0]=10\n",
    "V0 = V_max*(1-rho0/rho_max)/3600*1000\n",
    "plt.plot(rho0)\n",
    "print(min(V0), max(V0))\n",
    "# while t>3/60.:\n",
    "    "
   ]
  },
  {
   "cell_type": "code",
   "execution_count": 28,
   "metadata": {
    "collapsed": false
   },
   "outputs": [
    {
     "data": {
      "text/plain": [
       "[<matplotlib.lines.Line2D at 0x7f3f7e731ef0>]"
      ]
     },
     "execution_count": 28,
     "metadata": {},
     "output_type": "execute_result"
    },
    {
     "data": {
      "image/png": "[encoded data removed]",
      "text/plain": [
       "<matplotlib.figure.Figure at 0x7f3f6b87b860>"
      ]
     },
     "metadata": {},
     "output_type": "display_data"
    }
   ],
   "source": [
    "import matplotlib.pyplot as plt\n",
    "%matplotlib inline"
   ]
  },
  {
   "cell_type": "code",
   "execution_count": null,
   "metadata": {
    "collapsed": true
   },
   "outputs": [],
   "source": []
  }
 ],
 "metadata": {
  "kernelspec": {
   "display_name": "Python 3",
   "language": "python",
   "name": "python3"
  },
  "language_info": {
   "codemirror_mode": {
    "name": "ipython",
    "version": 3
   },
   "file_extension": ".py",
   "mimetype": "text/x-python",
   "name": "python",
   "nbconvert_exporter": "python",
   "pygments_lexer": "ipython3",
   "version": "3.4.3"
  }
 },
 "nbformat": 4,
 "nbformat_minor": 0
}
