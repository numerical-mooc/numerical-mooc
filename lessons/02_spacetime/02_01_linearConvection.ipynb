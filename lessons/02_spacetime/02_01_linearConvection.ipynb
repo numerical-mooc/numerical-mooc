{
 "metadata": {
  "name": "",
  "signature": "sha256:8c3aa99e96e1ac3c3a130884da953049ea318ae95341a72d3ae5b16e2129e311"
 },
 "nbformat": 3,
 "nbformat_minor": 0,
 "worksheets": [
  {
   "cells": [
    {
     "cell_type": "heading",
     "level": 6,
     "metadata": {},
     "source": [
      "Content under Creative Commons Attribution license CC-BY 4.0, code under MIT license (c) L.A. Barba, G.F. Forsyth, C. Cooper, 2014. Based on [CFDPython](https://github.com/barbagroup/CFDPython), (c) L. A. Barba, also under CC-BY license."
     ]
    },
    {
     "cell_type": "heading",
     "level": 1,
     "metadata": {},
     "source": [
      "1-D Linear Convection"
     ]
    },
    {
     "cell_type": "markdown",
     "metadata": {},
     "source": [
      "Welcome to *Space and Time \u2014 Introduction of Finite-difference solutions of PDEs*, the second module of [\"Practical Numerical Methods with Python!\"](http://openedx.seas.gwu.edu/courses/GW/MAE6286/2014_fall/about). In the first module, we looked into numerical integration methods for the solution of ordinary differential equations, using the phugoid model of glider flight as a motivation. In this module, we will study the numerical solution of *partial differential equations (PDEs)*, where the unknown is a multi-variate function, using the *finite-difference method*. The coming IPython notebooks will cover the linear and non-linear convection equations, the diffusion equation, and Burgers' equation, we hope you will enjoy them!"
     ]
    },
    {
     "cell_type": "markdown",
     "metadata": {},
     "source": [
      "In this IPython notebook, we introduce the *1-D Linear Convection equation*, which is the most basic model that can be used to learn something about hyperbolic PDEs. It is surprising that this little equation can teach us so much! Here it is:\n",
      "\n",
      "\\begin{equation}\\frac{\\partial u}{\\partial t} + c \\frac{\\partial u}{\\partial x} = 0\\end{equation}\n",
      "\n",
      "With given initial conditions (understood as a *wave*), the equation represents the propagation of that initial *wave* with speed $c$, without change of shape. Let the initial condition be $u(x,0)=u_0(x)$. Then the exact solution of the equation is $u(x,t)=u_0(x-ct)$.\n",
      "\n",
      "We discretize this equation in both space and time, using the Forward Difference scheme for the time derivative and the Backward Difference scheme for the space derivative. Consider discretizing the spatial coordinate $x$ into points that we index from $i=0$ to $N$, and stepping in discrete time intervals of size $\\Delta t$.\n",
      "\n",
      "From the definition of a derivative (and simply removing the limit), we know that:\n",
      "\n",
      "\\begin{equation}\\frac{\\partial u}{\\partial x}\\approx \\frac{u(x+\\Delta x)-u(x)}{\\Delta x}\\end{equation}\n",
      "\n",
      "Our discrete equation, then, is:\n",
      "\n",
      "\\begin{equation}\\frac{u_i^{n+1}-u_i^n}{\\Delta t} + c \\frac{u_i^n - u_{i-1}^n}{\\Delta x} = 0, \\end{equation}\n",
      "\n",
      "where $n$ and $n+1$ are two consecutive steps in time, while $i-1$ and $i$ are two neighboring points of the discretized $x$ coordinate. If there are given initial conditions, then the only unknown in this discretization is $u_i^{n+1}$.  We can solve for our unknown to get an equation that allows us to advance in time, as follows:\n",
      "\n",
      "\\begin{equation}u_i^{n+1} = u_i^n - c \\frac{\\Delta t}{\\Delta x}(u_i^n-u_{i-1}^n)\\end{equation}\n",
      "\n",
      "Now let's try implementing this in Python.  \n",
      "\n",
      "We'll start by importing a few libraries to help us out."
     ]
    },
    {
     "cell_type": "code",
     "collapsed": false,
     "input": [
      "# Remember: comments in python are denoted by the pound sign\n",
      "import numpy                       #here we load numpy\n",
      "import matplotlib.pyplot as plt    #here we load matplotlib, calling it 'plt'\n",
      "import time, sys                   #and load some utilities\n",
      "%matplotlib inline"
     ],
     "language": "python",
     "metadata": {},
     "outputs": []
    },
    {
     "cell_type": "markdown",
     "metadata": {},
     "source": [
      "Now let's define a few variables; we want to define an evenly spaced grid of points within a spatial domain that is 2 units of length wide, i.e., $x_i\\in(0,2)$.  We'll define a variable `nx`, which will be the number of grid points we want and `dx` will be the distance between any pair of adjacent grid points.  "
     ]
    },
    {
     "cell_type": "code",
     "collapsed": false,
     "input": [
      "nx = 41  # try changing this number from 41 to 81 and Run All ... what happens?\n",
      "dx = 2./(nx-1)\n",
      "nt = 25    #nt is the number of timesteps we want to calculate\n",
      "dt = .025  #dt is the amount of time each timestep covers (delta t)\n",
      "c = 1.      #assume wavespeed of c = 1"
     ],
     "language": "python",
     "metadata": {},
     "outputs": []
    },
    {
     "cell_type": "markdown",
     "metadata": {},
     "source": [
      "We also need to set up our initial conditions. The initial velocity $u_0$ is given as \n",
      "$u = 2$ in the interval $0.5 \\leq x \\leq 1$  and $u = 1$ everywhere else in $(0,2)$ (i.e., a hat function).\n",
      "\n",
      "Here, we use the function `ones()` defining a `numpy` array which is `nx` elements long with every value equal to 1."
     ]
    },
    {
     "cell_type": "code",
     "collapsed": false,
     "input": [
      "u = numpy.ones(nx)      #numpy function ones()\n",
      "u[.5/dx : 1/dx+1]=2  #setting u = 2 between 0.5 and 1 as per our I.C.s\n",
      "print(u)"
     ],
     "language": "python",
     "metadata": {},
     "outputs": []
    },
    {
     "cell_type": "markdown",
     "metadata": {},
     "source": [
      "Now let's take a look at those initial conditions using a Matplotlib plot.  We've imported the `matplotlib` plotting library as `plt` and the plotting function is called `plot`, so we'll call `plt.plot`. To learn about the myriad possibilities of Matplotlib, explore the [Gallery](http://matplotlib.org/gallery.html) of example plots.\n",
      "\n",
      "Here, we use the syntax for a simple 2D plot: `plot(x,y)`, where the `x` values are evenly distributed grid points:"
     ]
    },
    {
     "cell_type": "code",
     "collapsed": false,
     "input": [
      "plt.plot(numpy.linspace(0,2,nx), u)"
     ],
     "language": "python",
     "metadata": {},
     "outputs": []
    },
    {
     "cell_type": "markdown",
     "metadata": {},
     "source": [
      "Why doesn't the hat function have perfectly straight sides? Think for a bit."
     ]
    },
    {
     "cell_type": "markdown",
     "metadata": {},
     "source": [
      "Now it's time to implement the discretization of the convection equation using a finite-difference scheme.  \n",
      "\n",
      "For every element of our array `u`, we need to perform the operation $u_i^{n+1} = u_i^n - c \\frac{\\Delta t}{\\Delta x}(u_i^n-u_{i-1}^n)$\n",
      "\n",
      "We'll store the result in a new (temporary) array `un`, which will be the solution $u$ for the next time-step.  We will repeat this operation for as many time-steps as we specify and then we can see how far the wave has convected.  \n",
      "\n",
      "We first initialize our placeholder array `un` to hold the values we calculate for the $n+1$ timestep, using once again the NumPy function `ones()`.\n",
      "\n",
      "Then, we may think we have two iterative operations: one in space and one in time (we'll learn differently later), so we'll start by nesting one loop inside the other. Note the use of the nifty `range()` function. When we write: `for i in range(1,nx)` we will iterate through the `u` array, but we'll be skipping the first element (the zero-th element).  *Why?*"
     ]
    },
    {
     "cell_type": "code",
     "collapsed": false,
     "input": [
      "un = numpy.ones(nx) #initialize a temporary array\n",
      "\n",
      "for n in range(nt):  #loop for values of n from 0 to nt, so it will run nt times\n",
      "    un = u.copy() ##copy the existing values of u into un\n",
      "    for i in range(1,nx): ## you can try commenting this line and...\n",
      "    #for i in range(nx): ## ... uncommenting this line and see what happens!\n",
      "        u[i] = un[i]-c*dt/dx*(un[i]-un[i-1])\n",
      "        \n",
      "        "
     ],
     "language": "python",
     "metadata": {},
     "outputs": []
    },
    {
     "cell_type": "markdown",
     "metadata": {},
     "source": [
      "**Note**\u2014We will learn later that the code as written above is quite inefficient, and there are better ways to write this, Python-style. But let's carry on.\n",
      "\n",
      "Now let's try plotting our `u` array after advancing in time."
     ]
    },
    {
     "cell_type": "code",
     "collapsed": false,
     "input": [
      "plt.plot(numpy.linspace(0,2,nx),u)"
     ],
     "language": "python",
     "metadata": {},
     "outputs": []
    },
    {
     "cell_type": "markdown",
     "metadata": {},
     "source": [
      "OK! So our hat function has definitely moved to the right, but it's no longer a hat.  **What's going on?**"
     ]
    },
    {
     "cell_type": "code",
     "collapsed": false,
     "input": [
      "from IPython.core.display import HTML\n",
      "css_file = '../../styles/numericalmoocstyle.css'\n",
      "HTML(open(css_file, \"r\").read())"
     ],
     "language": "python",
     "metadata": {},
     "outputs": []
    }
   ],
   "metadata": {}
  }
 ]
}