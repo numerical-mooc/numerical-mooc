{
 "metadata": {
  "name": "",
  "signature": "sha256:6ad3cf9eb11d1762c90b5d6d3c26faef9d197ae0fa72eebfc9a1a44afd9b97df"
 },
 "nbformat": 3,
 "nbformat_minor": 0,
 "worksheets": []
}