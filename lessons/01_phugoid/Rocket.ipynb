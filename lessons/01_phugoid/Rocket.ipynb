{
 "metadata": {
  "name": "",
  "signature": "sha256:e98d44460d353e9ff5df78b79d7ae25eb1182ae47bd63d32518226d3a29628b9"
 },
 "nbformat": 3,
 "nbformat_minor": 0,
 "worksheets": [
  {
   "cells": [
    {
     "cell_type": "code",
     "collapsed": false,
     "input": [
      "import numpy as np\n",
      "import matplotlib.pyplot as plt\n",
      "from math import ceil\n",
      "%matplotlib inline"
     ],
     "language": "python",
     "metadata": {},
     "outputs": [],
     "prompt_number": 58
    },
    {
     "cell_type": "code",
     "collapsed": false,
     "input": [
      "#key values\n",
      "m_s= 50   #mass of rocket shell (kg)\n",
      "g= 9.81   #gravity\n",
      "dens= 1.091  #average air density\n",
      "r= 0.5  #radius of rocket (m)\n",
      "v_e= 325  #exhaust speed of rocket (m/s)\n",
      "C_D= 0.15  #drag coefficient\n",
      "m_p= 100  #initial weight of rocket propellant (kg)\n",
      "m_dot= 20  #fuel burn rate (kg/s)"
     ],
     "language": "python",
     "metadata": {},
     "outputs": [],
     "prompt_number": 59
    },
    {
     "cell_type": "code",
     "collapsed": false,
     "input": [
      "#initial values\n",
      "h0= 0  #initial altitude\n",
      "v0= 0  #initial velocity"
     ],
     "language": "python",
     "metadata": {},
     "outputs": [],
     "prompt_number": 60
    },
    {
     "cell_type": "code",
     "collapsed": false,
     "input": [
      "def f(u):\n",
      "    h= u[0]\n",
      "    v= u[1]\n",
      "    return np.array([v, -g+(m_dot*v_e)/(m_s+m_p)-(0.5*dens*v*abs(v)*np.pi*r**2*C_D)/(m_s+m_p)])"
     ],
     "language": "python",
     "metadata": {},
     "outputs": [],
     "prompt_number": 61
    },
    {
     "cell_type": "code",
     "collapsed": false,
     "input": [
      "def euler_step(u,f,dt):\n",
      "    return u+dt*f(u)"
     ],
     "language": "python",
     "metadata": {},
     "outputs": [],
     "prompt_number": 62
    },
    {
     "cell_type": "code",
     "collapsed": false,
     "input": [
      "T=45.0\n",
      "dt= 0.1\n",
      "N= int(T/dt)+1\n",
      "t= np.linspace(0.0,T,N)\n",
      "\n",
      "u=np.empty((N,2))\n",
      "u[0]= np.array([h0,v0])\n",
      "\n",
      "for n in range(N-1):\n",
      "    if m_p==0:\n",
      "        m_dot=0\n",
      "    u[n+1]=euler_step(u[n],f,dt)\n",
      "    if m_p !=0:\n",
      "        m_p=m_p-ceil(m_dot*dt)"
     ],
     "language": "python",
     "metadata": {},
     "outputs": [],
     "prompt_number": 63
    },
    {
     "cell_type": "code",
     "collapsed": false,
     "input": [
      "alt= u[:,0]\n",
      "vel= u[:,1]"
     ],
     "language": "python",
     "metadata": {},
     "outputs": [],
     "prompt_number": 64
    },
    {
     "cell_type": "code",
     "collapsed": false,
     "input": [
      "plt.plot(t,alt)\n",
      "#plt.show()"
     ],
     "language": "python",
     "metadata": {},
     "outputs": [
      {
       "metadata": {},
       "output_type": "pyout",
       "prompt_number": 65,
       "text": [
        "[<matplotlib.lines.Line2D at 0xb62d8d0>]"
       ]
      },
      {
       "metadata": {},
       "output_type": "display_data",
       "png": "[encoded data removed]",
       "text": [
        "<matplotlib.figure.Figure at 0xb4f7278>"
       ]
      }
     ],
     "prompt_number": 65
    },
    {
     "cell_type": "code",
     "collapsed": false,
     "input": [
      "plt.plot(t,vel)\n",
      "#plt.show()"
     ],
     "language": "python",
     "metadata": {},
     "outputs": [
      {
       "metadata": {},
       "output_type": "pyout",
       "prompt_number": 66,
       "text": [
        "[<matplotlib.lines.Line2D at 0xb9c7860>]"
       ]
      },
      {
       "metadata": {},
       "output_type": "display_data",
       "png": "[encoded data removed]",
       "text": [
        "<matplotlib.figure.Figure at 0xb21be48>"
       ]
      }
     ],
     "prompt_number": 66
    },
    {
     "cell_type": "code",
     "collapsed": false,
     "input": [
      "maxvelindex= vel.argmax()\n",
      "print vel[maxvelindex]"
     ],
     "language": "python",
     "metadata": {},
     "outputs": [
      {
       "output_type": "stream",
       "stream": "stdout",
       "text": [
        "232.092474736\n"
       ]
      }
     ],
     "prompt_number": 67
    },
    {
     "cell_type": "code",
     "collapsed": false,
     "input": [
      "print t[maxvelindex]"
     ],
     "language": "python",
     "metadata": {},
     "outputs": [
      {
       "output_type": "stream",
       "stream": "stdout",
       "text": [
        "5.0\n"
       ]
      }
     ],
     "prompt_number": 68
    },
    {
     "cell_type": "code",
     "collapsed": false,
     "input": [
      "print alt[maxvelindex]"
     ],
     "language": "python",
     "metadata": {},
     "outputs": [
      {
       "output_type": "stream",
       "stream": "stdout",
       "text": [
        "523.388683047\n"
       ]
      }
     ],
     "prompt_number": 69
    },
    {
     "cell_type": "code",
     "collapsed": false,
     "input": [
      "maxaltindex=alt.argmax()\n",
      "print alt[maxaltindex]"
     ],
     "language": "python",
     "metadata": {},
     "outputs": [
      {
       "output_type": "stream",
       "stream": "stdout",
       "text": [
        "1334.00926142\n"
       ]
      }
     ],
     "prompt_number": 70
    },
    {
     "cell_type": "code",
     "collapsed": false,
     "input": [
      "print t[maxaltindex]"
     ],
     "language": "python",
     "metadata": {},
     "outputs": [
      {
       "output_type": "stream",
       "stream": "stdout",
       "text": [
        "15.7\n"
       ]
      }
     ],
     "prompt_number": 71
    },
    {
     "cell_type": "code",
     "collapsed": false,
     "input": [
      "print np.where(alt < 0.0)"
     ],
     "language": "python",
     "metadata": {},
     "outputs": [
      {
       "output_type": "stream",
       "stream": "stdout",
       "text": [
        "(array([371, 372, 373, 374, 375, 376, 377, 378, 379, 380, 381, 382, 383,\n",
        "       384, 385, 386, 387, 388, 389, 390, 391, 392, 393, 394, 395, 396,\n",
        "       397, 398, 399, 400, 401, 402, 403, 404, 405, 406, 407, 408, 409,\n",
        "       410, 411, 412, 413, 414, 415, 416, 417, 418, 419, 420, 421, 422,\n",
        "       423, 424, 425, 426, 427, 428, 429, 430, 431, 432, 433, 434, 435,\n",
        "       436, 437, 438, 439, 440, 441, 442, 443, 444, 445, 446, 447, 448,\n",
        "       449, 450], dtype=int64),)\n"
       ]
      }
     ],
     "prompt_number": 75
    },
    {
     "cell_type": "code",
     "collapsed": false,
     "input": [
      "t[371]"
     ],
     "language": "python",
     "metadata": {},
     "outputs": [
      {
       "metadata": {},
       "output_type": "pyout",
       "prompt_number": 76,
       "text": [
        "37.100000000000001"
       ]
      }
     ],
     "prompt_number": 76
    },
    {
     "cell_type": "code",
     "collapsed": false,
     "input": [
      "vel[371]"
     ],
     "language": "python",
     "metadata": {},
     "outputs": [
      {
       "metadata": {},
       "output_type": "pyout",
       "prompt_number": 77,
       "text": [
        "-86.006886214292749"
       ]
      }
     ],
     "prompt_number": 77
    },
    {
     "cell_type": "code",
     "collapsed": false,
     "input": [],
     "language": "python",
     "metadata": {},
     "outputs": []
    }
   ],
   "metadata": {}
  }
 ]
}