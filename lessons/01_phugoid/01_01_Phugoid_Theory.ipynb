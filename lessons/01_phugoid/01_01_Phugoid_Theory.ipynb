{
 "cells": [
  {
   "cell_type": "code",
   "execution_count": 8,
   "metadata": {
    "collapsed": false
   },
   "outputs": [
    {
     "data": {
      "text/html": [
       "<link href='http://fonts.googleapis.com/css?family=Alegreya+Sans:100,300,400,500,700,800,900,100italic,300italic,400italic,500italic,700italic,800italic,900italic' rel='stylesheet' type='text/css'>\n",
       "<link href='http://fonts.googleapis.com/css?family=Arvo:400,700,400italic' rel='stylesheet' type='text/css'>\n",
       "<link href='http://fonts.googleapis.com/css?family=PT+Mono' rel='stylesheet' type='text/css'>\n",
       "<link href='http://fonts.googleapis.com/css?family=Shadows+Into+Light' rel='stylesheet' type='text/css'>\n",
       "<link href='http://fonts.googleapis.com/css?family=Nixie+One' rel='stylesheet' type='text/css'>\n",
       "<link href='https://fonts.googleapis.com/css?family=Source+Code+Pro' rel='stylesheet' type='text/css'>\n",
       "<style>\n",
       "\n",
       "@font-face {\n",
       "    font-family: \"Computer Modern\";\n",
       "    src: url('http://mirrors.ctan.org/fonts/cm-unicode/fonts/otf/cmunss.otf');\n",
       "}\n",
       "\n",
       "#notebook_panel { /* main background */\n",
       "    background: rgb(245,245,245);\n",
       "}\n",
       "\n",
       "div.cell { /* set cell width */\n",
       "    width: 750px;\n",
       "}\n",
       "\n",
       "div #notebook { /* centre the content */\n",
       "    background: #fff; /* white background for content */\n",
       "    width: 1000px;\n",
       "    margin: auto;\n",
       "    padding-left: 0em;\n",
       "}\n",
       "\n",
       "#notebook li { /* More space between bullet points */\n",
       "    margin-top:0.8em;\n",
       "}\n",
       "\n",
       "/* draw border around running cells */\n",
       "div.cell.border-box-sizing.code_cell.running { \n",
       "    border: 1px solid #111;\n",
       "}\n",
       "\n",
       "/* Put a solid color box around each cell and its output, visually linking them*/\n",
       "div.cell.code_cell {\n",
       "    background-color: rgb(256,256,256); \n",
       "    border-radius: 0px; \n",
       "    padding: 0.5em;\n",
       "    margin-left:1em;\n",
       "    margin-top: 1em;\n",
       "}\n",
       "\n",
       "div.text_cell_render{\n",
       "    font-family: 'Alegreya Sans' sans-serif;\n",
       "    line-height: 140%;\n",
       "    font-size: 125%;\n",
       "    font-weight: 400;\n",
       "    width:600px;\n",
       "    margin-left:auto;\n",
       "    margin-right:auto;\n",
       "}\n",
       "\n",
       "\n",
       "/* Formatting for header cells */\n",
       ".text_cell_render h1 {\n",
       "    font-family: 'Nixie One', serif;\n",
       "    font-style:regular;\n",
       "    font-weight: 400;    \n",
       "    font-size: 45pt;\n",
       "    line-height: 100%;\n",
       "    color: rgb(0,51,102);\n",
       "    margin-bottom: 0.5em;\n",
       "    margin-top: 0.5em;\n",
       "    display: block;\n",
       "}\n",
       "\n",
       ".text_cell_render h2 {\n",
       "    font-family: 'Nixie One', serif;\n",
       "    font-weight: 400;\n",
       "    font-size: 30pt;\n",
       "    line-height: 100%;\n",
       "    color: rgb(0,51,102);\n",
       "    margin-bottom: 0.1em;\n",
       "    margin-top: 0.3em;\n",
       "    display: block;\n",
       "}\t\n",
       "\n",
       ".text_cell_render h3 {\n",
       "    font-family: 'Nixie One', serif;\n",
       "    margin-top:16px;\n",
       "    font-size: 22pt;\n",
       "    font-weight: 600;\n",
       "    margin-bottom: 3px;\n",
       "    font-style: regular;\n",
       "    color: rgb(102,102,0);\n",
       "}\n",
       "\n",
       ".text_cell_render h4 {    /*Use this for captions*/\n",
       "    font-family: 'Nixie One', serif;\n",
       "    font-size: 14pt;\n",
       "    text-align: center;\n",
       "    margin-top: 0em;\n",
       "    margin-bottom: 2em;\n",
       "    font-style: regular;\n",
       "}\n",
       "\n",
       ".text_cell_render h5 {  /*Use this for small titles*/\n",
       "    font-family: 'Nixie One', sans-serif;\n",
       "    font-weight: 400;\n",
       "    font-size: 16pt;\n",
       "    color: rgb(163,0,0);\n",
       "    font-style: italic;\n",
       "    margin-bottom: .1em;\n",
       "    margin-top: 0.8em;\n",
       "    display: block;\n",
       "}\n",
       "\n",
       ".text_cell_render h6 { /*use this for copyright note*/\n",
       "    font-family: 'PT Mono', sans-serif;\n",
       "    font-weight: 300;\n",
       "    font-size: 9pt;\n",
       "    line-height: 100%;\n",
       "    color: grey;\n",
       "    margin-bottom: 1px;\n",
       "    margin-top: 1px;\n",
       "}\n",
       "\n",
       ".CodeMirror{\n",
       "    font-family: \"Source Code Pro\";\n",
       "    font-size: 90%;\n",
       "}\n",
       "\n",
       ".alert-box {\n",
       "    padding:10px 10px 10px 36px;\n",
       "    margin:5px;\n",
       "}\n",
       "\n",
       ".success {\n",
       "    color:#666600;\n",
       "    background:rgb(240,242,229);\n",
       "}\n",
       "</style>\n",
       "<script>\n",
       "    MathJax.Hub.Config({\n",
       "                        TeX: {\n",
       "                           extensions: [\"AMSmath.js\"],\n",
       "                           equationNumbers: { autoNumber: \"AMS\", useLabelIds: true}\n",
       "                           },\n",
       "                tex2jax: {\n",
       "                    inlineMath: [ ['$','$'], [\"\\\\(\",\"\\\\)\"] ],\n",
       "                    displayMath: [ ['$$','$$'], [\"\\\\[\",\"\\\\]\"] ]\n",
       "                },\n",
       "                displayAlign: 'center', // Change this to 'center' to center equations.\n",
       "                \"HTML-CSS\": {\n",
       "                    styles: {'.MathJax_Display': {\"margin\": 4}}\n",
       "                }\n",
       "        });\n",
       "</script>\n"
      ],
      "text/plain": [
       "<IPython.core.display.HTML object>"
      ]
     },
     "execution_count": 8,
     "metadata": {},
     "output_type": "execute_result"
    }
   ],
   "source": [
    "# Execute this cell to load the notebook's style sheet, then ignore it\n",
    "from IPython.core.display import HTML\n",
    "css_file = '../../styles/numericalmoocstyle.css'\n",
    "HTML(open(css_file, \"r\").read())"
   ]
  },
  {
   "cell_type": "markdown",
   "metadata": {},
   "source": [
    "###### Content under Creative Commons Attribution license CC-BY 4.0, code under MIT license (c)2014 L.A. Barba, C. Cooper, G.F. Forsyth, A. Krishnan."
   ]
  },
  {
   "cell_type": "markdown",
   "metadata": {},
   "source": [
    "# Phugoid Motion"
   ]
  },
  {
   "cell_type": "markdown",
   "metadata": {},
   "source": [
    "Look at this video showing a Cessna single-engine airplane in phugoid motion:"
   ]
  },
  {
   "cell_type": "code",
   "execution_count": 9,
   "metadata": {
    "collapsed": false
   },
   "outputs": [
    {
     "data": {
      "text/html": [
       "\n",
       "        <iframe\n",
       "            width=\"400\"\n",
       "            height=\"300\"\n",
       "            src=\"https://www.youtube.com/embed/ysdU4mnRYdM\"\n",
       "            frameborder=\"0\"\n",
       "            allowfullscreen\n",
       "        ></iframe>\n",
       "        "
      ],
      "text/plain": [
       "<IPython.lib.display.YouTubeVideo at 0x8dc1198>"
      ]
     },
     "execution_count": 9,
     "metadata": {},
     "output_type": "execute_result"
    }
   ],
   "source": [
    "from IPython.display import YouTubeVideo\n",
    "YouTubeVideo('ysdU4mnRYdM')"
   ]
  },
  {
   "cell_type": "markdown",
   "metadata": {},
   "source": [
    "That doesn't look too good! What's happening? \n",
    "\n",
    "It can get a lot worse when an aircraft enters one of these modes that is unstable. For example, one of [NASA's Helios Solar Powered Aircraft](http://www.nasa.gov/centers/dryden/history/pastprojects/Helios/) prototype broke up in mid air due to extreme phugoid oscillations!\n",
    "\n",
    "Helios was a proof-of-concept solar electric-powered flying wing that broke the world altitude record for a non-rocket-powered aircraft in August 2001. But in June 26, 2003, it broke something else. The aircraft entered phugoid motion after encountering turbulence near the Hawaiian Island of Kauai. The high speed in the oscillatory movement exceeded the design limits, and it ended up wrecked in the Pacific Ocean. Luckily, the Helios was remotely operated, and nobody got hurt."
   ]
  },
  {
   "cell_type": "markdown",
   "metadata": {},
   "source": [
    "## The physics of phugoids"
   ]
  },
  {
   "cell_type": "markdown",
   "metadata": {},
   "source": [
    "The phugoid oscillation has the aircraft pitching up and down, as it decelerates and accelerates. The trajectory might look like a sinusoid, as in the figure below. The assumption is that the forward velocity of the aircraft, $v$, varies in such a way that the angle of attack remains (nearly) constant, which means that we can assume a constant lift coefficient."
   ]
  },
  {
   "cell_type": "markdown",
   "metadata": {},
   "source": [
    "Welcome to [**\"Practical Numerical Methods with Python!\"**](http://openedx.seas.gwu.edu/courses/GW/MAE6286/2014_fall/about) This course is a collaborative, online, open education project, where we aim to give a foundation in scientific computing. The focus is on numerical solution of problems modeled by ordinary and partial differential equations.\n",
    "\n",
    "This IPython Notebook introduces the problem we'll be studying in the **first module** of the course: the _phugoid model of glider flight_. We'll start with some background, explaining the physics, and working out the mathematical model. \n",
    "\n",
    "First, we'll look at an idealized motion where there is no drag, resulting in a simple harmonic motion. We can plot some interesting trajectories that will pique your imagination. In the next notebook, you'll learn to numerically integrate the differential equation using Euler's method."
   ]
  },
  {
   "cell_type": "markdown",
   "metadata": {},
   "source": [
    "Let's talk about angles (figures from [5], [6]):\n",
    "\n",
    "The _angle of attack_ $\\alpha$ is the the angle between the wing chord and the flight path.\n",
    "\n",
    "![Image](./figures/forces_airfoil.gif)\n",
    "#### Figure 1A. Angle of attack."
   ]
  },
  {
   "cell_type": "markdown",
   "metadata": {},
   "source": [
    "The _glide angle_ or _flight path angle_, θ, is the angle between the flight path or _trajectory_ traced out by the tip of the nose of the aircraft and the horizontal, positive up.\n",
    "\n",
    "The _pitch angle_ $\\psi$ is the angle between the aircraft's longitudinal axis and the horizontal.  We measure the pitch angle as positive when the aircraft's nose is pointing up. \n",
    "\n",
    "![Image](./figures/aoa5.jpg)\n",
    "#### Figure 1B. Glide, pitch and attack angles."
   ]
  },
  {
   "cell_type": "markdown",
   "metadata": {},
   "source": [
    "The term \"phugoid\" is used in aeronautics to refer to a motion pattern where an aircraft oscillates up and down —nose-up and climb, then nose-down and descend— around an equilibrium trajectory.  The aircraft oscillates in altitude, speed and pitch, with only small (neglected) variations in the angle of attack, as it repeatedly exchanges kinetic and potential energy.\n",
    "\n",
    "A low-amplitude phugoid motion can be just a nuisance, as the aircraft does not exceed the stall angle of attack and nothing bad happens. But the mode can also be unstable leading to a stall or even a loop!"
   ]
  },
  {
   "cell_type": "markdown",
   "metadata": {},
   "source": [
    "![Image](./figures/oscillatory_trajectory_psi.png)\n",
    "#### Figure 1C. Trajectory of an aircraft in phugoid motion."
   ]
  },
  {
   "cell_type": "markdown",
   "metadata": {},
   "source": [
    "In the descending portion of the trajectory, the aircraft's velocity increases as it proceeds from a peak to the minimum height—gaining kinetic energy at the expense of potential energy. The contrary happens in the upward segment, as its velocity decreases there. In the portion of the trajectory below the center-line, where it curves upwards, the pitch angle $\\psi$ is increasing: $\\dot{\\psi}>0$. And where the trajectory curves down, the pitch angle is decreasing: $\\dot{\\psi}<0$, as shown in the figure."
   ]
  },
  {
   "cell_type": "markdown",
   "metadata": {},
   "source": [
    "Let's remind ourselves of the forces affecting an aircraft in a downward glide. Look at the figure below: we show the flight path, the forces on the glider (no thrust), and the flight path angle $\\theta$."
   ]
  },
  {
   "cell_type": "markdown",
   "metadata": {},
   "source": [
    "![Image](./figures/glider_forces_theta.png)\n",
    "#### Figure 2A. Forces on a glider."
   ]
  },
  {
   "cell_type": "markdown",
   "metadata": {},
   "source": [
    "The force of lift, $L$ —created by the airflow around the wings— is perpendicular to the trajectory, and the force of drag, $D$, is parallel to the trajectory. Both forces are expressed in terms of coefficients of lift and drag, $C_L$ and $C_D$, respectively, that depend on the wing design and _angle of attack_—the angle between the wing chord and the flight path.  (These terms come from the field of airplane aerodynamics.)"
   ]
  },
  {
   "cell_type": "markdown",
   "metadata": {},
   "source": [
    "Lift and drag are proportional to a surface area, $S$, and the dynamic pressure: $1/2 \\rho v^2$, where $\\rho$ is the density of air, and $v$ the forward velocity of the aircraft. The equations for lift and drag are:\n",
    "\n",
    "$$\\begin{eqnarray}\n",
    "L &=& C_L S \\times \\frac{1}{2} \\rho v^2 \\\\\n",
    "D &=& C_D S \\times \\frac{1}{2} \\rho v^2\n",
    "\\end{eqnarray}$$"
   ]
  },
  {
   "cell_type": "markdown",
   "metadata": {},
   "source": [
    "Let $W$ repesent the weight of the glider.  If the glider were in equilibrium, the forces would balance each other. As we can see in Figure 3, the component of $W$ in the direction of flight is $W \\sin \\theta$, and the component of $W$ perpendicular to flight path is $W \\cos \\theta$:\n",
    "\n",
    "![Image](./figures/revcrs3.gif)"
   ]
  },
  {
   "cell_type": "markdown",
   "metadata": {},
   "source": [
    "So, we can equate the forces in the directions perpendicular and parallel to the trajectory as follows:\n",
    "\n",
    "$$\\begin{equation}\n",
    "L = W \\cos \\theta \\quad \\text{and} \\quad D = W \\sin \\theta\n",
    "\\end{equation}$$"
   ]
  },
  {
   "cell_type": "markdown",
   "metadata": {},
   "source": [
    "In the figure the angle $\\theta$ is the glide angle, formed between the direction of motion and the horizontal. We are not bothered with the _sign_ of the angle, because we draw a free-body diagram and take the direction of the forces into account in writing our balance equations. But later on, we will need to be careful with the sign of the angles. It can cause you a real headache to keep this straight, so be patient!\n",
    "\n",
    "It looks like we've set this up to do a little bit of mathematics. Are you ready?\n",
    "\n",
    "But before, a short glimpse of the history."
   ]
  },
  {
   "cell_type": "markdown",
   "metadata": {},
   "source": [
    "## Lanchester's Aerodonetics"
   ]
  },
  {
   "cell_type": "markdown",
   "metadata": {},
   "source": [
    "\"Phugoid theory\" was first described by the British engineer Frederick W. Lanchester in _\"Aerodonetics\"_ (1909). This book is so old that it is now in the public domain, so you can actually download [from Google Books](http://books.google.com/books?id=6hxDAAAAIAAJ&dq=%22phugoid%20theory%20deals%20with%20the%20longitudinal%20stability%22&pg=PA37#v=onepage&q=%22phugoid%20theory%20deals%20with%20the%20longitudinal%20stability%22&f=false) a PDF file of a scan, or read it online. \n",
    "\n",
    "Lanchester defines phugoid theory as the study of longitudinal stability of a flying machine (aerodone). He first considered the simplification where drag and moment of inertia are neglected. Then he included these effects, obtaining an equation of stability. In addition to describing many experiments by himself and others, Lanchester also reports on _\"numerical work ... done by the aid of an ordinary 25-cm slide rule.\"_ Go figure!"
   ]
  },
  {
   "cell_type": "markdown",
   "metadata": {},
   "source": [
    "### Ideal case of zero drag"
   ]
  },
  {
   "cell_type": "markdown",
   "metadata": {},
   "source": [
    "In this section, we follow the derivation given by Milne-Thompson (1966), which we find a little bit easier than that of the original in \"Aerodonetics\"!\n",
    "\n",
    "An aircraft flying in a steady, straight horizontal flight has a lift equal to its weight. The velocity in this condition is sometimes called _trim velocity_ (\"trim\" is what pilots do to set the controls to just stay in a steady flight). Let's use $v_\\text{trim}$ for the trim velocity, and from $L=W$ and equation (1) deduce that:\n",
    "\n",
    "$$\\begin{equation}\n",
    "W = C_L S \\times\\frac{1}{2} \\rho v_\\text{trim}^2\n",
    "\\end{equation}$$\n",
    "\n",
    "The weight $W$ is constant for the aircraft, but the lift at any other flight condition depends on the flight speed, $v$. We can use the expression for the weight in terms of $v_\\text{trim}$ to obtain the ratio $L/W$ at any other flight velocity, as follows:\n",
    "\n",
    "$$\\begin{equation}\n",
    "\\frac{L}{W}= \\frac{v^2}{v_\\text{trim}^2}\n",
    "\\end{equation}$$\n",
    "\n",
    "Imagine that the aircraft experienced a little upset, a wind gust, and it finds itself off the \"trim\" level, in a curved path with an instantaneous glide path angle $\\theta$. In the sketch below, we exaggerate the curved trajectory of flight to help you visualize what we'll do next."
   ]
  },
  {
   "cell_type": "markdown",
   "metadata": {},
   "source": [
    "![Image](./figures/glider_forces_nodrag.png)\n",
    "#### Figure 4. Curved trajectory of the aircraft going up."
   ]
  },
  {
   "cell_type": "markdown",
   "metadata": {},
   "source": [
    "Recall that the *radius of curvature* [9] is the radius of the *osculating circle* [10] which best rests in the curved line formed by the flight path.  Suppose the coordinates of the flight path $P(t)=(x(t),y(t))$ as a function of time are given by component functions $x(t)$, $y(t)$ and $P(t)$ is *regular* in the sense that $\\dot{x}\\ddot{y} \\neq \\dot{y}\\ddot{x}$.  Then\n",
    "\n",
    "$$\\begin{equation}R(P)=\\big|\\frac{{(\\dot{x}^2+\\dot{y}^2)}^\\frac{3}{2}}{\\dot{x}\\ddot{y}-\\dot{y}\\ddot{x}}\\big|\\end{equation}$$\n"
   ]
  },
  {
   "cell_type": "markdown",
   "metadata": {},
   "source": [
    "A balance of forces now has to take into account that our reference frame is moving with the aircraft, in a rotating frame: we have a _centripetal force_ $F_c$. [8]  "
   ]
  },
  {
   "cell_type": "markdown",
   "metadata": {},
   "source": [
    "Recall that the *centripetal acceleration*, where $R$ is the radius of curvature of the flight path, is [11]\n",
    "\n",
    "$$\\begin{equation}a_c=\\frac{v^2}{R}\\end{equation}$$"
   ]
  },
  {
   "cell_type": "markdown",
   "metadata": {},
   "source": [
    "Let $g$ be the acceleration of gravity.  Recall from the definition of weight $W$ that, for some mass $m$ [12]\n",
    "\n",
    "$$\\begin{equation}W=m g\\end{equation}$$\n",
    "\n",
    "so obviously\n",
    "\n",
    "$$\\begin{equation}m = \\frac{W}{g}\\end{equation}$$"
   ]
  },
  {
   "cell_type": "markdown",
   "metadata": {},
   "source": [
    " Recall Newton's 2nd Law of Motion [13]\n",
    " \n",
    " $$\\begin{equation}F_c=m a_c\\end{equation}$$"
   ]
  },
  {
   "cell_type": "markdown",
   "metadata": {},
   "source": [
    "The balance of force in the direction of lift is the lift less the component of weight in the direction of lift:\n",
    "\n",
    "$$\\begin{equation}\n",
    "F_c= m a_c =\\frac{W}{g} \\frac{v^2}{R}= L- W \\cos \\theta \n",
    "\\end{equation}$$"
   ]
  },
  {
   "cell_type": "markdown",
   "metadata": {},
   "source": [
    "Rearrange this by dividing the equation by the weight:\n",
    "\n",
    "$$\\begin{equation}\n",
    "\\frac{v^2}{g R}= \\frac{L}{W}-\\cos \\theta \n",
    "\\end{equation}$$"
   ]
  },
  {
   "cell_type": "markdown",
   "metadata": {},
   "source": [
    "Then use the expression we found for $L/W$ in equation (5), giving the **phugoid equation**\n",
    "\n",
    "$$\\begin{equation}\n",
    "\\frac{v^2}{v_\\text{trim}^2}-\\cos \\theta = \\frac{v^2}{g R}\n",
    "\\end{equation}$$"
   ]
  },
  {
   "cell_type": "markdown",
   "metadata": {},
   "source": [
    "Recall that we simplified the problem assuming that there is no friction, which means that the total energy is constant (the lift does no work). If $z$ represents the depth below a reference horizontal line, the energy per unit mass is (kinetic plus potential energy):\n",
    "\n",
    "$$\\begin{equation}\n",
    "\\frac{1}{2}v^2-g z = \\text{constant}\n",
    "\\end{equation}$$"
   ]
  },
  {
   "cell_type": "markdown",
   "metadata": {},
   "source": [
    "To get rid of that pesky constant, we can choose the reference horizontal line at the level that makes the constant energy equal to zero, so \n",
    "\n",
    "$$\\begin{equation}v^2 = 2 g z\n",
    "\\quad \\text{and} \\quad \n",
    "v_\\text{trim}^2 = 2 g z_\\text{trim}\n",
    "\\end{equation}$$\n",
    "\n",
    "for some constant $z_\\text{trim}$."
   ]
  },
  {
   "cell_type": "markdown",
   "metadata": {},
   "source": [
    "That helps us re-write the phugoid equation in terms of $z$ as follows:\n",
    "\n",
    "$$\n",
    "\\frac{v^2}{v_\\text{trim}^2}-\\cos \\theta = \\frac{2 g z}{2 g z_\\text{trim}}-\\cos \\theta = \\frac{v^2}{g R} = \\frac{2 g z}{g R}\n",
    "$$\n",
    "\n",
    "Simplifying,\n",
    "\n",
    "\n",
    "$$\\begin{equation}\n",
    "\\frac{z}{z_\\text{trim}}-\\cos \\theta = \\frac{2z}{R}\n",
    "\\end{equation}$$"
   ]
  },
  {
   "cell_type": "markdown",
   "metadata": {},
   "source": [
    "Now let $ds$ represent a small arc-length of the trajectory. We can write \n",
    "\n",
    "$$\\begin{equation}\n",
    "\\frac{1}{R} = \\frac{d\\theta}{ds} \\quad \\text{and}\\quad  \\sin\\theta = -\\frac{dz}{ds}\n",
    "\\end{equation}$$"
   ]
  },
  {
   "cell_type": "markdown",
   "metadata": {},
   "source": [
    "Employing the chain rule of calculus,\n",
    "\n",
    "$$\\begin{equation}\n",
    "\\frac{1}{R} = \\frac{d\\theta}{ds} = \\frac{dz}{ds}\\frac{d\\theta}{dz} = -\\sin \\theta\\frac{d\\theta}{dz}\n",
    "\\end{equation}$$"
   ]
  },
  {
   "cell_type": "markdown",
   "metadata": {},
   "source": [
    "Multiply equation (16) by $\\frac{1}{2\\sqrt{z}}$ to get:\n",
    "\n",
    "$$\\begin{equation}\n",
    "\\frac{\\sqrt{z}}{2z_\\text{trim}} - \\frac{\\cos\\theta}{2\\sqrt{z}} = \\frac{\\sqrt{z}}{R}\n",
    "\\end{equation}$$\n",
    "\n",
    "Substituting for $1/R$ on the right hand side and bringing the cosine term over to the right, we get:\n",
    "\n",
    "$$\\begin{equation}\n",
    "\\frac{\\sqrt{z}}{2z_\\text{trim}} = \\frac{\\cos \\theta}{2 \\sqrt{z}} - \\sqrt{z} \\sin \\theta \\frac{d\\theta}{dz}\n",
    "\\end{equation}$$"
   ]
  },
  {
   "cell_type": "markdown",
   "metadata": {},
   "source": [
    "The right-hand-side is an exact derivative! We can rewrite it as:\n",
    "\n",
    "$$\\begin{equation}\n",
    "\\frac{d}{dz} \\left(\\sqrt{z}\\cos\\theta \\right) = \\frac{\\sqrt{z}}{2z_\\text{trim}}\n",
    "\\end{equation}$$"
   ]
  },
  {
   "cell_type": "markdown",
   "metadata": {},
   "source": [
    "Integrating this equation, we add an arbitrary constant, chosen as $C\\sqrt{z_\\text{trim}}$ which (after dividing through by $\\sqrt{z}$) gives:"
   ]
  },
  {
   "cell_type": "markdown",
   "metadata": {},
   "source": [
    "$$\\begin{equation}\n",
    "\\cos \\theta = \\frac{1}{3}\\frac{z}{z_\\text{trim}} + C\\sqrt{\\frac{z_\\text{trim}}{z}}\n",
    "\\end{equation}$$"
   ]
  },
  {
   "cell_type": "markdown",
   "metadata": {},
   "source": [
    "Note also from this that, for a particular $\\theta,z,z_\\text{trim}$,\n",
    "\n",
    "$$\\begin{equation}\n",
    "C_{\\theta,z,z_\\text{trim}} = \\frac{\\cos \\theta -\\frac{1}{3}\\frac{z}{z_\\text{trim}}}{\\sqrt{\\frac{z_\\text{trim}}{z}}}\n",
    "\\end{equation}$$"
   ]
  },
  {
   "cell_type": "markdown",
   "metadata": {},
   "source": [
    "Combining equations (16) and (22),\n",
    "\n",
    "$$\\begin{equation}\\frac{z}{z_\\text{trim}}-\\frac{2z}{R} = \\frac{1}{3}\\frac{z}{z_\\text{trim}} + C\\sqrt{\\frac{z_\\text{trim}}{z}}\\end{equation}$$"
   ]
  },
  {
   "cell_type": "markdown",
   "metadata": {},
   "source": [
    "Multiply by $\\frac{z_\\text{trim}}{z}$ and simplify giving\n",
    "\n",
    "$$\\begin{equation}\\frac{z_\\text{trim}}{R} = \\frac{1}{3} - \\frac{C}{2}\\sqrt{\\frac{z_\\text{trim}^3}{z^3}}\\end{equation}$$"
   ]
  },
  {
   "cell_type": "markdown",
   "metadata": {},
   "source": [
    "Note also from this that, at a particular $C, z_\\text{trim},z$,\n",
    "\n",
    "$$\\begin{equation}\n",
    "R_{C, z_\\text{trim},z} = \\frac{z_\\text{trim}}{\\frac{1}{3} - \\frac{C}{2}\\sqrt{\\frac{z_\\text{trim}^3}{z^3}}}\n",
    "\\end{equation}$$"
   ]
  },
  {
   "cell_type": "markdown",
   "metadata": {},
   "source": [
    "Make sure you have followed the derivation, and perhaps write it out on paper!"
   ]
  },
  {
   "cell_type": "markdown",
   "metadata": {},
   "source": [
    "## Phugoid Curves"
   ]
  },
  {
   "cell_type": "markdown",
   "metadata": {},
   "source": [
    "Equation (24) is non-linear, which usually means we are hard-pressed to write a clean expression for the variable of interest, $z$.  In fact, Lanchester himself said that he was unable to _\"reduce this expression to a form suitable for co-ordinate plotting.\"_ "
   ]
  },
  {
   "cell_type": "markdown",
   "metadata": {},
   "source": [
    "But Lanchester _was_ able to plot a suitable approximation of the phugoid flight path using what he called the \"trammel\" method.  If you're interested in seeing how he did it, his explanation begins on page [48 of Aerodonetics](http://books.google.com/books?id=6hxDAAAAIAAJ&pg=PA49&lpg=PA48&dq=aerodonetics+the+use+of+the+trammel&source=bl&ots=lB6EVKYQuT&sig=aVE2kiDWZoWftaWczMIrcYftMOs&hl=en&sa=X&ei=gTD_U82fGYjzgwT3moGwCQ&ved=0CCAQ6AEwAA#v=onepage&q=aerodonetics%20the%20use%20of%20the%20trammel&f=false).  It's a trip."
   ]
  },
  {
   "cell_type": "markdown",
   "metadata": {},
   "source": [
    "Lanchester used Equations (22) and (24) to solve for the constant $C$ and the radius of curvature $R$ and then iteratively plotted small arcs of the phugoid path. By hand."
   ]
  },
  {
   "cell_type": "markdown",
   "metadata": {},
   "source": [
    "We wrote a neat little code that duplicates the manual trammel method.  We give a brief explanation here."
   ]
  },
  {
   "cell_type": "markdown",
   "metadata": {},
   "source": [
    "Consider a vector $v$ drawn from point $(x_0,y_0)$ to point $(x,y)$.  Suppose we want to rotate the tip $(x,y)$ of this vector about the center $(x_0,y_0)$ through angle $\\theta$.  Let\n",
    "\n",
    "$$\\begin{eqnarray}\n",
    "\\Delta x=x-x_0 \\\\\n",
    "\\Delta y=y-y_0\n",
    "\\end{eqnarray}$$\n",
    "\n",
    "and\n",
    "\n",
    "$$\\begin{eqnarray}\n",
    "x^\\prime=\\Delta x \\cos\\theta+\\Delta y \\sin\\theta \\\\\n",
    "y' = -\\Delta x \\sin\\theta+\\Delta y \\cos \\theta\n",
    "\\end{eqnarray}$$\n",
    "\n",
    "then\n",
    "\n",
    "$$\\begin{eqnarray}\n",
    "\\text{rotate}((x,y),(x_0,y_0),\\theta)=(x_0+x',y_0+y')\n",
    "\\end{eqnarray}$$\n"
   ]
  },
  {
   "cell_type": "markdown",
   "metadata": {},
   "source": [
    "Now let \n",
    "* $z_\\text{trim}$ be the trim height\n",
    "* $z_0$ be our current height\n",
    "* $x_0=0$ be our current horizontal position\n",
    "* $P_i=(x_i,z_i)$ be the position of the tip of the nose of our aircraft at timestep $i$ for $0\\leq i$.\n",
    "* $\\theta_0$ be our current flight path angle\n",
    "* $C=C_{\\theta_0,z_0,z_\\text{trim}}$\n",
    "* $ds=1$ be the increment of movement along the flight path"
   ]
  },
  {
   "cell_type": "markdown",
   "metadata": {},
   "source": [
    "Then for $i>0$:\n",
    "* $N_i=(\\cos (\\theta+\\frac{\\pi}{2}), -\\sin(\\theta+\\frac{\\pi}{2})$\n",
    "* $R_i= R_{C, z_\\text{trim},z_{i-1}}$\n",
    "* $O_i=P_{i-1}+R_i N_i$\n",
    "* $d \\theta_i=\\frac{ds}{R_i}$\n",
    "* $P_i=\\text{rotate}(P_{i-1},O_i,d \\theta_i)$\n"
   ]
  },
  {
   "cell_type": "markdown",
   "metadata": {},
   "source": [
    "### Plotting the flight path"
   ]
  },
  {
   "cell_type": "markdown",
   "metadata": {},
   "source": [
    "As we mentioned, we wrote a Python code to reproduce programmatically what Lanchester did graphically. Here's a neat feature of IPython Notebooks: you can run external programs with the magical keyword ... wait for it ... `run`. And the jargon of IPython _is_ to call this \"magic.\" In fact, there are a bunch of [magic functions](http://ipython.org/ipython-doc/dev/interactive/tutorial.html) that you will learn about. They will make you a happy camper.\n",
    "\n",
    "Let's do it:"
   ]
  },
  {
   "cell_type": "code",
   "execution_count": 10,
   "metadata": {
    "collapsed": false
   },
   "outputs": [],
   "source": [
    "%run phugoid.py\n",
    "%matplotlib inline"
   ]
  },
  {
   "cell_type": "markdown",
   "metadata": {},
   "source": [
    "This code cell loaded our simulated-trammel code, `phugoid.py`. The code defined a function for you in the background, called `plot_flight_path`, taking three inputs: $z_\\text{trim}$, $z$ and $\\theta$.  \n",
    "\n",
    "Look again at Equation (15), where we take the positive square root. There are several possibilities, depending on the value that the constant $C$ takes. \n",
    "\n",
    "* There are no physical solutions for $C>2/3$, because it would result in $\\cos\\theta>1$. \n",
    "\n",
    "* If $C=2/3$, then the solution is a horizontal straight line, because $\\cos\\theta=1$, $\\theta=0$ and $R=\\infty$.\n",
    "\n",
    "* Any value of $C$ for which $0 < C < \\frac{2}{3}$ will produce \"trochoidal\"-like paths.  What does this look like? Let's use our custom function `plot_flight_path` to find out!"
   ]
  },
  {
   "cell_type": "code",
   "execution_count": 11,
   "metadata": {
    "collapsed": false,
    "scrolled": true
   },
   "outputs": [
    {
     "data": {
      "image/png": "[encoded data removed]",
      "text/plain": [
       "<matplotlib.figure.Figure at 0x8dc1cf8>"
      ]
     },
     "metadata": {},
     "output_type": "display_data"
    }
   ],
   "source": [
    "#zt = 64, z = 16, theta=0\n",
    "plot_flight_path(64, 16, 0)"
   ]
  },
  {
   "cell_type": "markdown",
   "metadata": {},
   "source": [
    "Cool!  Note that the plot title tells us what the calculated value of $C$ was for our input conditions.  We have a value of $C$ between $0$ and $\\frac{2}{3}$ and our path is trochoidal, like we announced it would be.\n",
    "\n",
    "* For negative values of $C$, the resultant flight path consists of a series of loops.  Let's try it out!"
   ]
  },
  {
   "cell_type": "code",
   "execution_count": 12,
   "metadata": {
    "collapsed": false
   },
   "outputs": [
    {
     "data": {
      "image/png": "[encoded data removed]",
      "text/plain": [
       "<matplotlib.figure.Figure at 0x8e1db38>"
      ]
     },
     "metadata": {},
     "output_type": "display_data"
    }
   ],
   "source": [
    "plot_flight_path(64,16,numpy.pi)"
   ]
  },
  {
   "cell_type": "markdown",
   "metadata": {},
   "source": [
    "You can play around with the input values and see what kind of behavior results.  Just note that any value of $C > \\frac{2}{3}$ will result in $\\cos \\theta > 1$, which doesn't exist.  Python will probably throw a few errors if you hit that condition, but just try again!"
   ]
  },
  {
   "cell_type": "markdown",
   "metadata": {},
   "source": [
    "* The last case is $C = 0$.  Take another look at Equation (16) and plug in $C = 0$, what should happen? It looks like it will just reduce to \n",
    "\n",
    "$$R = 3z_\\text{trim}$$\n",
    "\n",
    "It's a constant radius of curvature!  In fact, this solution is a series of semi-circles, with a cusp between them. One way to force $C = 0$ that we can figure out from Equation (15), is to make:\n",
    "\n",
    "\n",
    "$$z = 3z_\\text{trim}\\ \\ \\ ,\\ \\ \\  \\theta = 0$$"
   ]
  },
  {
   "cell_type": "code",
   "execution_count": 13,
   "metadata": {
    "collapsed": false
   },
   "outputs": [
    {
     "data": {
      "image/png": "[encoded data removed]",
      "text/plain": [
       "<matplotlib.figure.Figure at 0x7130978>"
      ]
     },
     "metadata": {},
     "output_type": "display_data"
    }
   ],
   "source": [
    "plot_flight_path(16,48,0.)"
   ]
  },
  {
   "cell_type": "markdown",
   "metadata": {},
   "source": [
    "That looks an awful lot like a quarter circle.  And what's the radius of the arc?  It's $$r = 48 = 3z_t.$$\n",
    "\n",
    "We can also get a semi-circle out of our simulated trammel by changing to another configuration where $C$ is (near) zero. Here's one example:"
   ]
  },
  {
   "cell_type": "code",
   "execution_count": 14,
   "metadata": {
    "collapsed": false
   },
   "outputs": [
    {
     "data": {
      "image/png": "[encoded data removed]",
      "text/plain": [
       "<matplotlib.figure.Figure at 0x7907cc0>"
      ]
     },
     "metadata": {},
     "output_type": "display_data"
    }
   ],
   "source": [
    "plot_flight_path(64,16,-numpy.pi/2)"
   ]
  },
  {
   "cell_type": "markdown",
   "metadata": {},
   "source": [
    "That is so nice. We have reproduced the trajectories that Lanchester found more than a hundred years ago, painstakingly drawing them by hand with a contraption called a \"trammel.\" It must have taken him days!\n",
    "\n",
    "Here is how the different phugoid curves are drawn in von Kármán's book, _Aerodynamics_ (1957). He never says _how_ he drew them, but we're guessing by hand, also. We did pretty good!"
   ]
  },
  {
   "cell_type": "markdown",
   "metadata": {},
   "source": [
    "![Image](./figures/vonKarman-phugoids.png)\n",
    "\n",
    "#### Figure 5. Phugoid curves in von Kármán (1957)."
   ]
  },
  {
   "cell_type": "markdown",
   "metadata": {},
   "source": [
    "In the next notebook of this series, we'll look at the differential equation that arises when you consider small perturbations on the horizontal phugoid, and we'll learn to numerically integrate that to get the flight paths."
   ]
  },
  {
   "cell_type": "markdown",
   "metadata": {},
   "source": [
    "## References"
   ]
  },
  {
   "cell_type": "markdown",
   "metadata": {},
   "source": [
    "1. Lanchester, F. W. _Aerodonetics_, D. van Nostrand Company: New York, 1909. On the public domain. [Get it from Google Books](http://books.google.com/books?id=6hxDAAAAIAAJ&pg=PP1#v=onepage&q&f=false).\n",
    "\n",
    "2. Milne-Thompson, L. M. _Theoretical Aerodynamics_, Dover 2012 reprint of the revised 1966 edition. [Read on Google Books](http://books.google.com/books?id=EMfCAgAAQBAJ&lpg=PP1&pg=PP1#v=onepage&q&f=false) (see section 18.5)\n",
    "\n",
    "3. Sinha, N. K. and Ananthkrishnan, N. _Elementary Flight Dynamics with an introduction to Bifurcation and Continuation Methods_, CRC Press, 2013. [Read on Google Books](http://books.google.com/books?id=yXL6AQAAQBAJ&lpg=PP1&pg=PP1#v=onepage&q&f=false) (see chapter 5)\n",
    "\n",
    "4. von Kármán, T. _Aerodynamics_, Dover 2004 reprint of the 1957 2nd edition. (see pages 149–151)\n",
    "\n",
    "5. http://jedismedicine.blogspot.com/2013/11/flying-angle-of-attack-aviation.html\n",
    "\n",
    "6. http://airfactsjournal.com/2015/04/archives-leighton-collins-angle-attack-1965/\n",
    "7. http://www.niquette.com/puzzles/revcrses.htm\n",
    "8. https://en.wikipedia.org/wiki/Centrifugal_force\n",
    "9. https://en.wikipedia.org/wiki/Radius_of_curvature_%28mathematics%29\n",
    "10. https://en.wikipedia.org/wiki/Osculating_circle\n",
    "11. http://www.engineeringtoolbox.com/centripetal-acceleration-d_1285.html\n",
    "12. https://en.wikipedia.org/wiki/Weight\n",
    "13. https://en.wikipedia.org/wiki/Newton%27s_laws_of_motion\n"
   ]
  }
 ],
 "metadata": {
  "kernelspec": {
   "display_name": "Python 3",
   "language": "python",
   "name": "python3"
  },
  "language_info": {
   "codemirror_mode": {
    "name": "ipython",
    "version": 3
   },
   "file_extension": ".py",
   "mimetype": "text/x-python",
   "name": "python",
   "nbconvert_exporter": "python",
   "pygments_lexer": "ipython3",
   "version": "3.5.1"
  }
 },
 "nbformat": 4,
 "nbformat_minor": 0
}
