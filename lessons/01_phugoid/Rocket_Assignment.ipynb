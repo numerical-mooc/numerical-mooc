{
 "cells": [
  {
   "cell_type": "markdown",
   "metadata": {},
   "source": [
    "###### Content under Creative Commons Attribution license CC-BY 4.0, code under MIT license (c)2014 L.A. Barba, G.F. Forsyth."
   ]
  },
  {
   "cell_type": "markdown",
   "metadata": {},
   "source": [
    "# Coding Assignment: Rocket"
   ]
  },
  {
   "cell_type": "code",
   "execution_count": 1,
   "metadata": {
    "collapsed": true
   },
   "outputs": [],
   "source": [
    "%matplotlib inline\n",
    "import numpy as np\n",
    "import matplotlib.pyplot as plt"
   ]
  },
  {
   "cell_type": "code",
   "execution_count": 66,
   "metadata": {
    "collapsed": true
   },
   "outputs": [],
   "source": [
    "m_s = 50.0 #kg\n",
    "g = 9.81 # m/sec^2\n",
    "rho = 1.091 # kg/m^3\n",
    "r = 0.5 #m\n",
    "A = np.pi*r**2 # m^2\n",
    "v_e = 325.0 #m/sec\n",
    "C_d = 0.15 \n",
    "m_po = 100.0 # kg, initial value"
   ]
  },
  {
   "cell_type": "code",
   "execution_count": 67,
   "metadata": {
    "collapsed": true
   },
   "outputs": [],
   "source": [
    "dt = 0.1 #s"
   ]
  },
  {
   "cell_type": "code",
   "execution_count": 68,
   "metadata": {
    "collapsed": true
   },
   "outputs": [],
   "source": [
    "def burn_rate(t):\n",
    "    return -20.0 if t < 5.0 else 0.0"
   ]
  },
  {
   "cell_type": "code",
   "execution_count": 69,
   "metadata": {
    "collapsed": true
   },
   "outputs": [],
   "source": [
    "def mass(T):\n",
    "    m = m_po\n",
    "    for t in np.arange(0,T,dt):\n",
    "        m = m + dt*burn_rate(t)\n",
    "    return m"
   ]
  },
  {
   "cell_type": "code",
   "execution_count": 70,
   "metadata": {
    "collapsed": false
   },
   "outputs": [],
   "source": [
    "def rocket(X,t):\n",
    "    h, v = X[0], X[1]\n",
    "    m_tot = m_s + mass(t)\n",
    "    return np.array([v, \n",
    "                     (-m_tot*g - burn_rate(t)*v_e - 0.5*rho*v*np.abs(v)*A*C_d)\\\n",
    "                     /m_tot])"
   ]
  },
  {
   "cell_type": "code",
   "execution_count": 71,
   "metadata": {
    "collapsed": false
   },
   "outputs": [],
   "source": [
    "def euler_integrate(f,z0,a,b,T,dx):\n",
    "    z = z0\n",
    "    Z = np.empty((len(T),len(z0)))\n",
    "    for i, t in enumerate(T):\n",
    "        Z[i,:] = z\n",
    "        z = z + dx*f(z,t)\n",
    "    return Z"
   ]
  },
  {
   "cell_type": "code",
   "execution_count": 75,
   "metadata": {
    "collapsed": false
   },
   "outputs": [],
   "source": [
    "Time = np.arange(0,40,dt)\n",
    "Path = euler_integrate(rocket, np.array([0,0]), 0, 6, Time ,dt)"
   ]
  },
  {
   "cell_type": "code",
   "execution_count": 76,
   "metadata": {
    "collapsed": false
   },
   "outputs": [
    {
     "name": "stdout",
     "output_type": "stream",
     "text": [
      "\"Max velocity at 5.0 seconds \n",
      "and 524.693008656 altitude is 232.539897886 m/sec\n"
     ]
    },
    {
     "data": {
      "image/png": "[encoded data removed]",
      "text/plain": [
       "<matplotlib.figure.Figure at 0xb092ab2c>"
      ]
     },
     "metadata": {},
     "output_type": "display_data"
    }
   ],
   "source": [
    "plt.plot(Time, Path.T[1])\n",
    "print \"\"\"\"Max velocity at {t} seconds \n",
    "and {m} altitude is {vmax} m/sec\"\"\".format(t=Time[np.argmax(Path.T[1])],\n",
    "                                     vmax=np.max(Path.T[1]),\n",
    "                                     m = Path.T[0][np.argmax(Path.T[1])])"
   ]
  },
  {
   "cell_type": "code",
   "execution_count": 98,
   "metadata": {
    "collapsed": false
   },
   "outputs": [
    {
     "name": "stdout",
     "output_type": "stream",
     "text": [
      "\"Max altitude at 15.7 seconds \n",
      "and -0.168568488362 m/sec is 1336.6075068 meters\n",
      "361\n",
      "Impact at 36.1 seconds\n",
      "and -85.6622132368 m/sec\n"
     ]
    },
    {
     "data": {
      "image/png": "[encoded data removed]",
      "text/plain": [
       "<matplotlib.figure.Figure at 0xb05f7d2c>"
      ]
     },
     "metadata": {},
     "output_type": "display_data"
    }
   ],
   "source": [
    "plt.scatter(Time, Path.T[0])\n",
    "plt.plot(Time, np.zeros(Time.shape))\n",
    "plt.axis([35,39,-500,1500])\n",
    "print \"\"\"\"Max altitude at {t} seconds \n",
    "and {v} m/sec is {hmax} meters\"\"\".format(t=Time[np.argmax(Path.T[0])],\n",
    "                                     hmax=np.max(Path.T[0]),\n",
    "                                     v = Path.T[1][np.argmax(Path.T[0])])\n",
    "print np.argmin(np.abs(Path[10:].T[0]))\n",
    "print \"\"\"Impact at {t} seconds\n",
    "and {v} m/sec\"\"\".format(t = Time[np.argmin(np.abs(Path[10:].T[0]))],\n",
    "                        v = Path.T[1][np.argmin(np.abs(Path[10:].T[0]))])"
   ]
  },
  {
   "cell_type": "code",
   "execution_count": 84,
   "metadata": {
    "collapsed": false
   },
   "outputs": [
    {
     "data": {
      "text/plain": [
       "36.0"
      ]
     },
     "execution_count": 84,
     "metadata": {},
     "output_type": "execute_result"
    }
   ],
   "source": [
    "Time[360]"
   ]
  },
  {
   "cell_type": "code",
   "execution_count": null,
   "metadata": {
    "collapsed": true
   },
   "outputs": [],
   "source": []
  },
  {
   "cell_type": "markdown",
   "metadata": {},
   "source": [
    "The equations of motion for a rocket in purely vertical flight are given by\n",
    "\n",
    "\\begin{align}\n",
    "\\frac{dh}{dt} &= v\\\\\n",
    "(m_s+m_p) \\frac{dv}{dt}& = -(m_s+m_p)g + \\dot{m}_pv_e - \\frac{1}{2}\\rho v|v|AC_D\n",
    "\\end{align}\n",
    "\n",
    "$h$ is the altitude of the rocket\n",
    "\n",
    "$m_s = 50kg$ is the weight of the rocket shell\n",
    "\n",
    "$g = 9.81 \\frac{m}{s^2}$\n",
    "\n",
    "$\\rho = 1.091 \\frac{kg}{m^3}$ is the average air density (assumed constant throughout flight)\n",
    "\n",
    "$A = \\pi r^2$ is the maximum cross sectional area of the rocket, where $r = 0.5 m$\n",
    "\n",
    "$v_e = 325 \\frac{m}{s}$ is the exhaust speed\n",
    "\n",
    "$C_D = 0.15 $ is the drag coefficient\n",
    "\n",
    "$m_{po} = 100 kg$ at time $t = 0$ is the initial weight of the rocket propellant\n",
    "\n",
    "The mass of the remaining propellant is given by:\n",
    "\n",
    "$$m_p = m_{po} - \\int^t_0 \\dot{m}_p d\\tau$$\n",
    "\n",
    "where $\\dot{m}_p$ is the time-varying burn rate given by the following figure:\n",
    "\n",
    "Propellant Burn Rate\n",
    "\n",
    "![burn rate](./burn.rate.png)\n",
    "\n",
    "Using Euler's method with a timestep of $\\Delta t=0.1s$, create a Python script to calculate the altitude and velocity of the rocket from launch until crash down.  \n",
    "\n",
    "\n",
    "\n",
    "\n"
   ]
  },
  {
   "cell_type": "markdown",
   "metadata": {},
   "source": [
    "##Assessment:\n",
    "\n",
    "To check your answers, you can register for [MAE 6286: Practical Numerical Methods with Python](http://openedx.seas.gwu.edu/courses/GW/MAE6286/2014_fall/about).\n",
    "\n",
    "1. At time $t=3.2s$, what is the mass (in kg) of rocket propellant remaining in the rocket?\n",
    "\n",
    "2. What is the maximum speed of the rocket in $\\frac{m}{s}$?\n",
    "    At what time does this occur (in seconds)? \n",
    "    What is the altitude at this time (in meters)? \n",
    "    \n",
    "3. What is the rocket's maximum altitude during flight (in meters)? At what time (in seconds) does this occur?\n",
    "\n",
    "4. At what time (in seconds) does the rocket impact the ground? What is the velocity of the rocket (in $\\frac{m}{s}$) at time of impact?"
   ]
  },
  {
   "cell_type": "markdown",
   "metadata": {},
   "source": [
    "##Derivation of the rocket equations\n",
    "\n",
    "In case you are kind of confused about the rocket equations, here we show how to get to them. \n",
    "\n",
    "We will start from the widely used [Reynolds' transport theorem](http://en.wikipedia.org/wiki/Reynolds_transport_theorem). For an extensive property $N$ in a volume $\\Omega$, with corresponding intensive property $\\eta = N/m$, the Reynolds' transport theorem reads\n",
    "\n",
    "$$\n",
    "\\frac{DN}{Dt} =  \\frac{\\partial}{\\partial t} \\int_\\Omega \\eta \\rho {\\rm dV}  + \\oint_{\\partial \\Omega} \\eta \\rho \\mathbf{V} \\cdot \\mathbf{n} {\\rm d} S\n",
    "$$\n",
    "\n",
    "where $m$ is mass, dV is an element of volume, $\\mathbf{V}$ the velocity, $\\mathbf{n}$ the unit normal vector pointing out of the control volume and $\\rho$ density. We will use a control volume that encloses the rocket, and moves with it. If the velocity of the control volume is $\\mathbf{V}_{\\rm CV}$, we can write the velocity as $\\mathbf{V} = \\mathbf{V}_{\\rm CV} + \\mathbf{V}^\\prime$, and the Reynolds' transport theorem becomes\n",
    "\n",
    "$$\n",
    "\\frac{DN}{Dt} =  \\frac{\\partial}{\\partial t} \\int_\\Omega \\eta \\rho {\\rm dV}  + \\oint_{\\partial \\Omega} \\eta \\rho \\mathbf{V}_{\\rm CV} \\cdot \\mathbf{n} {\\rm d} S + \\oint_{\\partial \\Omega} \\eta \\rho \\mathbf{V}^\\prime \\cdot \\mathbf{n} {\\rm d} S.\n",
    "$$\n",
    "\n",
    "The second term in the right hand side of this equation can be rewritten using the divergence theorem\n",
    "\n",
    "$$\n",
    "\\oint_{\\partial \\Omega} \\eta \\rho \\mathbf{V}_{\\rm CV} \\cdot \\mathbf{n} {\\rm d} S = \\int_{\\Omega} \\eta \\rho \\nabla \\cdot \\mathbf{V}_{\\rm CV} {\\rm dV},\n",
    "$$\n",
    "\n",
    "but for a non-deforming control volume, $\\nabla \\cdot \\mathbf{V}_{\\rm CV} = 0$, yielding\n",
    "\n",
    "$$\n",
    "\\frac{DN}{Dt} =  \\frac{\\partial}{\\partial t} \\int_\\Omega \\eta \\rho {\\rm dV}  + \\oint_{\\partial \\Omega} \\eta \\rho \\mathbf{V}^\\prime \\cdot \\mathbf{n} {\\rm d} S.\n",
    "$$  \n",
    "\n",
    "Replacing $N = m \\mathbf{V}^\\prime$, we get the momentum conservation equation with a moving non-deforming control volume:\n",
    "\n",
    "$$\n",
    "\\frac{D(m\\mathbf{V}^\\prime)}{Dt} =  \\frac{\\partial}{\\partial t} \\int_\\Omega \\mathbf{V}^\\prime \\rho {\\rm dV}  + \\oint_{\\partial \\Omega} \\mathbf{V}^\\prime \\rho (\\mathbf{V}^\\prime \\cdot \\mathbf{n}) {\\rm d} S.\n",
    "$$  \n",
    "\n",
    "For non-accelerating control volume, we can apply Newton's second law to compute the forces: \n",
    "\n",
    "$$\n",
    "\\frac{D(m\\mathbf{V}^\\prime)}{Dt} = \\frac{D(m\\mathbf{V})}{Dt} =  \\frac{D\\mathbf{p}}{Dt} = \\sum \\mathbf{F}.\n",
    "$$ \n",
    "\n",
    "However, in this case the control volume is moving with the accelerating rocket, and we need to be a bit more careful. We can write $\\frac{D(m\\mathbf{V}^\\prime)}{Dt} = \\frac{D(m\\mathbf{V})}{Dt} - \\frac{D(m\\mathbf{V}_{\\rm CV})}{Dt}$, and considering the control volume is not deforming, $\\frac{D(m\\mathbf{V}_{\\rm CV})}{Dt} = m\\mathbf{a}_{\\rm CV}$, where $\\mathbf{a}_{\\rm CV}$ is the acceleration of the control volume. On the other hand, $\\mathbf{V}$ is taken from an inertial (non-accelerating) frame of reference, and Newton's second law is valid there, then\n",
    "\n",
    "$$\n",
    "\\frac{D(m\\mathbf{V}^\\prime)}{Dt} = \\frac{D(m\\mathbf{V})}{Dt} - \\frac{D(m\\mathbf{V}_{\\rm CV})}{Dt} = \\sum \\mathbf{F} - m \\mathbf{a}_{\\rm CV}.\n",
    "$$\n",
    "\n",
    "This way we get a momentum equation for an accelerating control volume:\n",
    "\n",
    "$$\n",
    "\\sum \\mathbf{F} - m \\mathbf{a}_{\\rm CV} =  \\frac{\\partial}{\\partial t} \\int_\\Omega \\mathbf{V}^\\prime \\rho {\\rm dV}  + \\oint_{\\partial \\Omega} \\mathbf{V}^\\prime \\rho (\\mathbf{V}^\\prime \\cdot \\mathbf{n}) {\\rm d} S.\n",
    "$$\n",
    "\n",
    "Let's examine this last equation to make it specific for the rocket problem. First, the rocket is subject to two forces: gravity and drag. This makes the sum of forces:\n",
    "\n",
    "$$\n",
    "\\sum \\mathbf{F} = (m_c + m_p) \\mathbf{g} - \\frac{1}{2} \\rho_a \\mathbf{v} |\\mathbf{v}| A  C_D.\n",
    "$$\n",
    "\n",
    "where $\\mathbf{v}$ is the velocity of the rocket, equal to the velocity of the control volume $\\mathbf{V}_{\\rm CV}$, and $\\rho_a$ is the density of air.\n",
    "\n",
    "Now, let's deal with the volume integral. Check out Figure 1: the control volume encloses the whole rocket, and the border is slightly away from the nozzle. We can make a cut on the control volume to analyze it in two parts: the top part consisting of the container only, and the bottom part from the nozzle down. The top part is a large container that moves with the control volume, and the relative velocities of the propellant inside are negligible. In the bottom part, the fluid is moving quite fast, but the amount of fluid there is constant in time. These two considerations allow us to drop the volume integral.\n",
    "\n",
    "![Image](./figures/rocket_CV.png)\n",
    "####Figure 1. Control volume of the rocket.\n",
    "\n",
    "Done with the volume integral, now the surface integral. If we consider that the burnt propellant is coming out of the control volume with a constant velocity profile, we can rewrite the surface integral as\n",
    "\n",
    "$$\n",
    "\\oint_{\\partial \\Omega} \\mathbf{V}^\\prime \\rho_p (\\mathbf{V}^\\prime \\cdot \\mathbf{n}) {\\rm d} S = \\mathbf{V}^\\prime \\oint_{\\partial \\Omega} \\rho_p (\\mathbf{V}^\\prime \\cdot \\mathbf{n}) {\\rm d} S = \\mathbf{V}^\\prime \\dot{m}_p = \\mathbf{v}_e \\dot{m}_p,\n",
    "$$\n",
    "\n",
    "where $\\mathbf{v}_e$ is the exhaust velocity of the burnt propellant coming out of the nozzle with respect to the control volume, $\\rho_p$ is the density of the propellant, and $\\dot{m}_p$ is the mass flow rate of propellant. By saying that $\\rho = \\rho_p$ we are considering that the mass of air is negligible compared to the mass of propellant coming out of the nozzle.\n",
    "\n",
    "Finally, the momentum equation for the rocket is\n",
    "\n",
    "$$\n",
    "(m_c + m_p) \\mathbf{g} - \\frac{1}{2} \\rho_a \\mathbf{v} |\\mathbf{v}| A  C_D - (m_c + m_p)\\frac{{\\rm d} \\mathbf{v}}{{\\rm d}t} =  \\mathbf{v}_e \\dot{m}_p.\n",
    "$$\n",
    "\n",
    "In practical terms, we're only interested in the $y$ component. Vectors $\\mathbf{g}$ and $\\mathbf{v}_e$ are pointing down, which gives the scalar equation:\n",
    "\n",
    "$$\n",
    "-(m_c + m_p) g - \\frac{1}{2} \\rho_a v^2 A  C_D - (m_c + m_p)\\frac{{\\rm d} v}{{\\rm d}t} =  -v_e \\dot{m}_p.\n",
    "$$\n",
    "\n",
    "This is the equation you will work with for your assignment!\n"
   ]
  },
  {
   "cell_type": "markdown",
   "metadata": {},
   "source": [
    "---\n",
    "\n",
    "######The cell below loads the style of the notebook."
   ]
  },
  {
   "cell_type": "code",
   "execution_count": null,
   "metadata": {
    "collapsed": false
   },
   "outputs": [],
   "source": [
    "from IPython.core.display import HTML\n",
    "css_file = '../../styles/numericalmoocstyle.css'\n",
    "HTML(open(css_file, \"r\").read())"
   ]
  }
 ],
 "metadata": {
  "kernelspec": {
   "display_name": "Python 2",
   "language": "python",
   "name": "python2"
  },
  "language_info": {
   "codemirror_mode": {
    "name": "ipython",
    "version": 2
   },
   "file_extension": ".py",
   "mimetype": "text/x-python",
   "name": "python",
   "nbconvert_exporter": "python",
   "pygments_lexer": "ipython2",
   "version": "2.7.6"
  }
 },
 "nbformat": 4,
 "nbformat_minor": 0
}
