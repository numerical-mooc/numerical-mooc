{
 "metadata": {
  "name": "",
  "signature": "sha256:60b4355cf729d6298c890a2ace76f9cd06a4ebf74c4406fee68d9973f27dd0b0"
 },
 "nbformat": 3,
 "nbformat_minor": 0,
 "worksheets": [
  {
   "cells": [
    {
     "cell_type": "code",
     "collapsed": false,
     "input": [
      "#Import the libraries\n",
      "from math import sin, cos, log, ceil\n",
      "import numpy\n",
      "import matplotlib.pyplot as plt\n",
      "%matplotlib inline"
     ],
     "language": "python",
     "metadata": {},
     "outputs": [],
     "prompt_number": 1
    },
    {
     "cell_type": "code",
     "collapsed": false,
     "input": [
      "#Exercise parameters\n",
      "m_s=50 #weight of the rocket shell\n",
      "g=9.81 #gravity\n",
      "rho=1.091 #air density\n",
      "A=3.14159265359*((0.5)**2) #maximum cross sectional area\n",
      "v_e=325 #exaust speed\n",
      "C_D=0.15 #drag coeficient\n",
      "m_rho_0=100 #intial weight of the rocket propellant (at t0=0)\n",
      "v0=0 #intial velocity\n",
      "h0=0 #initial height\n",
      "#DON'T FORGET TO DECLARE THE MASS CONSUMPTION RATE\n"
     ],
     "language": "python",
     "metadata": {},
     "outputs": [],
     "prompt_number": 2
    },
    {
     "cell_type": "code",
     "collapsed": false,
     "input": [
      "dt=0.01 #timestep\n",
      "T=40 #it's a first strategy to declare the whole simulation time\n",
      "N=int(T/dt)+1\n",
      "time=numpy.linspace(0.0,T,N)"
     ],
     "language": "python",
     "metadata": {},
     "outputs": [],
     "prompt_number": 3
    },
    {
     "cell_type": "code",
     "collapsed": false,
     "input": [
      "def mp_dot(t):\n",
      "    #function to calculate the mass consumption tax, which depends on time\n",
      "    if t<5:\n",
      "        mp_d=20 #kg/s\n",
      "    else:\n",
      "        mp_d=0\n",
      "    return mp_d"
     ],
     "language": "python",
     "metadata": {},
     "outputs": [],
     "prompt_number": 4
    },
    {
     "cell_type": "code",
     "collapsed": false,
     "input": [
      "def m_rho(m_instant,mp_dot, dt):\n",
      "    #function to calculate the current mass of the propeller\n",
      "    m_pe=m_instant-dt*mp_dot\n",
      "    m_instant=m_pe\n",
      "    return m_instant"
     ],
     "language": "python",
     "metadata": {},
     "outputs": [],
     "prompt_number": 5
    },
    {
     "cell_type": "code",
     "collapsed": false,
     "input": [
      "def f(u):\n",
      "    #function to define the functions used in the euler step\n",
      "    h=u[0]   #height at the current time step\n",
      "    v=u[1]   #velocity at current time step\n",
      "    return numpy.array([v,-g+((mp_dot(time[i+1])*v_e)/(m_s+m_rho(m_p,mp_dot(time[i+1]),dt)))-((rho*v*abs(v)*A*C_D)/(2*(m_s+m_rho(m_p,mp_dot(time[i+1]),dt))))])\n",
      "    "
     ],
     "language": "python",
     "metadata": {},
     "outputs": [],
     "prompt_number": 6
    },
    {
     "cell_type": "code",
     "collapsed": false,
     "input": [
      "def euler_step(u,f,dt):\n",
      "    #time step in euler's method\n",
      "    return u+dt*f(u)"
     ],
     "language": "python",
     "metadata": {},
     "outputs": [],
     "prompt_number": 7
    },
    {
     "cell_type": "code",
     "collapsed": false,
     "input": [
      "u=numpy.empty((N,2))\n",
      "u[0]=numpy.array([h0,v0])\n",
      "m_p=m_rho_0\n",
      "m_p_save=numpy.empty(time.shape)\n",
      "for i in range(0,N-1):  \n",
      "        m_p_save[i]=m_p\n",
      "        m_p=m_rho(m_p,mp_dot(time[i+1]),dt)\n",
      "        u[i+1]=euler_step(u[i],f,dt)"
     ],
     "language": "python",
     "metadata": {},
     "outputs": [],
     "prompt_number": 8
    },
    {
     "cell_type": "code",
     "collapsed": false,
     "input": [
      "#ex 1\n",
      "for i in range(0,N-1):\n",
      "    if time[i]==3.2:\n",
      "        print time[i]\n",
      "        print i\n",
      "        print m_p_save[i]"
     ],
     "language": "python",
     "metadata": {},
     "outputs": [
      {
       "output_type": "stream",
       "stream": "stdout",
       "text": [
        "3.2\n",
        "320\n",
        "36.0\n"
       ]
      }
     ],
     "prompt_number": 9
    },
    {
     "cell_type": "code",
     "collapsed": false,
     "input": [
      "print max(u[:,0])\n",
      "for i in range(0,N-1):\n",
      "    if u[i,0]==max(u[:,0]):\n",
      "        print time[i]\n",
      "    "
     ],
     "language": "python",
     "metadata": {},
     "outputs": [
      {
       "output_type": "stream",
       "stream": "stdout",
       "text": [
        "1350.9875216\n",
        "15.79"
       ]
      },
      {
       "output_type": "stream",
       "stream": "stdout",
       "text": [
        "\n"
       ]
      }
     ],
     "prompt_number": 10
    },
    {
     "cell_type": "code",
     "collapsed": false,
     "input": [
      "for i in range (0,N-1):\n",
      "    if u[i,1]==max(u[:,1]):\n",
      "        print u[i,1]\n",
      "        print time[i]\n",
      "        print u[i,0]"
     ],
     "language": "python",
     "metadata": {},
     "outputs": [
      {
       "output_type": "stream",
       "stream": "stdout",
       "text": [
        "232.64864833\n",
        "4.99\n",
        "535.850409031\n"
       ]
      }
     ],
     "prompt_number": 11
    },
    {
     "cell_type": "code",
     "collapsed": false,
     "input": [
      "h=u[:,0]\n",
      "v=u[:,1]\n",
      "# visualization of the path\n",
      "plt.figure(figsize=(8,6))\n",
      "plt.grid(True)\n",
      "plt.xlabel(r'time', fontsize=18)\n",
      "plt.ylabel(r'height', fontsize=18)\n",
      "plt.title('Height X time', fontsize=18)\n",
      "plt.plot(time,h, 'k-', lw=2);"
     ],
     "language": "python",
     "metadata": {},
     "outputs": [
      {
       "metadata": {},
       "output_type": "display_data",
       "png": "[encoded data removed]",
       "text": [
        "<matplotlib.figure.Figure at 0xa9d1630>"
       ]
      }
     ],
     "prompt_number": 12
    },
    {
     "cell_type": "code",
     "collapsed": false,
     "input": [
      "h=u[:,0]\n",
      "v=u[:,1]\n",
      "# visualization of the path\n",
      "plt.figure(figsize=(8,6))\n",
      "plt.grid(True)\n",
      "plt.xlabel(r'time', fontsize=18)\n",
      "plt.ylabel(r'height', fontsize=18)\n",
      "plt.title('velocity X time', fontsize=18)\n",
      "plt.plot(time,v, 'k-', lw=2);"
     ],
     "language": "python",
     "metadata": {},
     "outputs": [
      {
       "metadata": {},
       "output_type": "display_data",
       "png": "[encoded data removed]",
       "text": [
        "<matplotlib.figure.Figure at 0xac50860>"
       ]
      }
     ],
     "prompt_number": 13
    },
    {
     "cell_type": "code",
     "collapsed": false,
     "input": [
      "for i in range(0,N-1):\n",
      "    if abs(u[i,0])<=10:\n",
      "        print u[i,1]"
     ],
     "language": "python",
     "metadata": {},
     "outputs": [
      {
       "output_type": "stream",
       "stream": "stdout",
       "text": [
        "0.0\n",
        "0.33639197861\n",
        "0.673365119692\n",
        "1.01092000313\n",
        "1.34905720605\n",
        "1.68777730284\n",
        "2.02708086506\n",
        "2.36696846146\n",
        "2.70744065793\n",
        "3.04849801746\n",
        "3.39014110011\n",
        "3.732370463\n",
        "4.07518666028\n",
        "4.41859024305\n",
        "4.76258175937\n",
        "5.10716175425\n",
        "5.45233076954\n",
        "5.79808934397\n",
        "6.1444380131\n",
        "6.49137730925\n",
        "6.83890776153\n",
        "7.18702989573\n",
        "7.53574423436\n",
        "7.88505129659\n",
        "8.23495159817\n",
        "8.58544565148\n",
        "8.93653396543\n",
        "9.28821704544\n",
        "9.64049539343\n",
        "9.99336950777\n",
        "10.3468398832\n",
        "10.7009070109\n",
        "11.0555713784\n",
        "11.4108334694\n",
        "11.766693764\n",
        "12.1231527385\n",
        "12.4802108653\n",
        "12.8378686133\n",
        "13.196126447\n",
        "13.5549848274\n",
        "13.9144442114\n",
        "14.2745050518\n",
        "14.6351677976\n",
        "14.9964328936\n",
        "15.3583007805\n",
        "15.7207718949\n",
        "16.0838466691\n",
        "16.4475255314\n",
        "16.8118089056\n",
        "17.1766972114\n",
        "17.5421908639\n",
        "17.9082902742\n",
        "18.2749958487\n",
        "18.6423079893\n",
        "19.0102270937\n",
        "19.3787535547\n",
        "19.7478877608\n",
        "20.1176300957\n",
        "20.4879809385\n",
        "20.8589406637\n",
        "21.2305096408\n",
        "21.6026882347\n",
        "21.9754768055\n",
        "22.3488757083\n",
        "22.7228852932\n",
        "23.0975059056\n",
        "23.4727378858\n",
        "23.8485815689\n",
        "24.225037285\n",
        "24.6021053591\n",
        "24.9797861111\n",
        "25.3580798554\n",
        "25.7369869015\n",
        "26.1165075531\n",
        "26.4966421091\n",
        "26.8773908625\n",
        "-86.120702598\n",
        "-86.1238542732\n",
        "-86.1269989988\n",
        "-86.1301367899\n",
        "-86.1332676615\n",
        "-86.1363916286\n",
        "-86.1395087063\n",
        "-86.1426189094\n",
        "-86.1457222529\n",
        "-86.1488187516\n",
        "-86.1519084204\n",
        "-86.1549912741\n",
        "-86.1580673275\n",
        "-86.1611365954\n",
        "-86.1641990925\n",
        "-86.1672548334\n",
        "-86.1703038329\n",
        "-86.1733461056\n",
        "-86.1763816661\n",
        "-86.179410529\n",
        "-86.1824327087\n",
        "-86.1854482199\n",
        "-86.188457077\n",
        "-86.1914592944\n"
       ]
      }
     ],
     "prompt_number": 14
    },
    {
     "cell_type": "code",
     "collapsed": false,
     "input": [],
     "language": "python",
     "metadata": {},
     "outputs": []
    }
   ],
   "metadata": {}
  }
 ]
}