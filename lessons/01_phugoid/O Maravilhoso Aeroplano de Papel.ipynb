{
 "metadata": {
  "name": "",
  "signature": "sha256:d55b1d56b328ed9abf1d368b1e39f1b19dbefeac7929c44a2fb041dff5633f4a"
 },
 "nbformat": 3,
 "nbformat_minor": 0,
 "worksheets": [
  {
   "cells": [
    {
     "cell_type": "code",
     "collapsed": false,
     "input": [
      "#Import the libraries\n",
      "from math import sin, cos, log, ceil\n",
      "import numpy\n",
      "import matplotlib.pyplot as plt\n",
      "%matplotlib inline"
     ],
     "language": "python",
     "metadata": {},
     "outputs": [],
     "prompt_number": 1
    },
    {
     "cell_type": "code",
     "collapsed": false,
     "input": [
      "#Model parameters\n",
      "g=9.8  #acelleration of gravity\n",
      "v_t=4.9 #trim velocity\n",
      "C_D=1/5\n",
      "C_L=1\n",
      "\n",
      "#initial conditions\n",
      "y0=2\n",
      "x0=0\n",
      "v0=numpy.linspace(0.5,50)\n",
      "theta0=numpy.linspace(-(2*3.1415)/6,(2*3.1415)/6)\n",
      "print v0, theta0"
     ],
     "language": "python",
     "metadata": {},
     "outputs": [
      {
       "output_type": "stream",
       "stream": "stdout",
       "text": [
        "[  0.5          1.51020408   2.52040816   3.53061224   4.54081633\n",
        "   5.55102041   6.56122449   7.57142857   8.58163265   9.59183673\n",
        "  10.60204082  11.6122449   12.62244898  13.63265306  14.64285714\n",
        "  15.65306122  16.66326531  17.67346939  18.68367347  19.69387755\n",
        "  20.70408163  21.71428571  22.7244898   23.73469388  24.74489796\n",
        "  25.75510204  26.76530612  27.7755102   28.78571429  29.79591837\n",
        "  30.80612245  31.81632653  32.82653061  33.83673469  34.84693878\n",
        "  35.85714286  36.86734694  37.87755102  38.8877551   39.89795918\n",
        "  40.90816327  41.91836735  42.92857143  43.93877551  44.94897959\n",
        "  45.95918367  46.96938776  47.97959184  48.98979592  50.        ] [-1.04716667 -1.00442517 -0.96168367 -0.91894218 -0.87620068 -0.83345918\n",
        " -0.79071769 -0.74797619 -0.70523469 -0.6624932  -0.6197517  -0.5770102\n",
        " -0.53426871 -0.49152721 -0.44878571 -0.40604422 -0.36330272 -0.32056122\n",
        " -0.27781973 -0.23507823 -0.19233673 -0.14959524 -0.10685374 -0.06411224\n",
        " -0.02137075  0.02137075  0.06411224  0.10685374  0.14959524  0.19233673\n",
        "  0.23507823  0.27781973  0.32056122  0.36330272  0.40604422  0.44878571\n",
        "  0.49152721  0.53426871  0.5770102   0.6197517   0.6624932   0.70523469\n",
        "  0.74797619  0.79071769  0.83345918  0.87620068  0.91894218  0.96168367\n",
        "  1.00442517  1.04716667]\n"
       ]
      }
     ],
     "prompt_number": 12
    },
    {
     "cell_type": "code",
     "collapsed": false,
     "input": [
      "def f(u):\n",
      "    \"\"\"Returns the right-hand side of the phugoid system of equations.\n",
      "    \n",
      "    Parameters\n",
      "    ----------\n",
      "    u : array of float\n",
      "        array containing the solution at time n.\n",
      "        \n",
      "    Returns\n",
      "    -------\n",
      "    dudt : array of float\n",
      "        array containing the RHS given u.\n",
      "    \"\"\"\n",
      "    \n",
      "    v = u[0]\n",
      "    theta = u[1]\n",
      "    x = u[2]\n",
      "    y = u[3]\n",
      "    return numpy.array([-g*sin(theta) - C_D/C_L*g/v_t**2*v**2,\n",
      "                      -g*cos(theta)/v + g/v_t**2*v,\n",
      "                      v*cos(theta),\n",
      "                      v*sin(theta)])"
     ],
     "language": "python",
     "metadata": {},
     "outputs": [],
     "prompt_number": 13
    },
    {
     "cell_type": "code",
     "collapsed": false,
     "input": [
      "def euler_step(u, f, dt):\n",
      "    \"\"\"Returns the solution at the next time-step using Euler's method.\n",
      "    \n",
      "    Parameters\n",
      "    ----------\n",
      "    u : array of float\n",
      "        solution at the previous time-step.\n",
      "    f : function\n",
      "        function to compute the right hand-side of the system of equation.\n",
      "    dt : float\n",
      "        time-increment.\n",
      "    \n",
      "    Returns\n",
      "    -------\n",
      "    u_n_plus_1 : array of float\n",
      "        approximate solution at the next time step.\n",
      "    \"\"\"\n",
      "    \n",
      "    return u + dt * f(u)"
     ],
     "language": "python",
     "metadata": {},
     "outputs": [],
     "prompt_number": 14
    },
    {
     "cell_type": "code",
     "collapsed": false,
     "input": [
      "T=200 #Assuming that the plane won't fly more than 100s\n",
      "dt=0.01 #timestep\n",
      "N=int(T/dt)+1\n",
      "u=numpy.empty((N,4))\n",
      "H=numpy.empty((50, 50, N))#store the y trajectories: i for theta0, j for v0 and N for the time step\n",
      "L=numpy.empty((50, 50, N))#store the x trajectories: i for theta0, j for v0 and N for the time step\n",
      "H[::,0]=y0\n",
      "L[::,0]=x0\n",
      "for i in range(0,50):\n",
      "    for j in range(0,50):\n",
      "        u[0]=([v0[j],theta0[i],x0,y0])\n",
      "        for k in range (0,N-1):\n",
      "            u[k+1]=euler_step(u[k],f,dt)\n",
      "            H[i,j,k+1]=u[k+1,3]  \n",
      "            L[i,j,k+1]=u[k+1,2] "
     ],
     "language": "python",
     "metadata": {},
     "outputs": [],
     "prompt_number": 18
    },
    {
     "cell_type": "code",
     "collapsed": false,
     "input": [
      "t_plot=numpy.linspace(0.0,T,N)\n",
      "h_plot=H[23,36,:]\n",
      "l_plot=L[23,36,:]"
     ],
     "language": "python",
     "metadata": {},
     "outputs": [],
     "prompt_number": 19
    },
    {
     "cell_type": "code",
     "collapsed": false,
     "input": [
      "# plot the glider path\n",
      "plt.figure(figsize=(10,6))\n",
      "plt.subplot(121)\n",
      "plt.grid(True)\n",
      "plt.xlabel('$t$')\n",
      "plt.ylabel('$x$')\n",
      "plt.plot(l_plot,h_plot, 'k-', label='Height')\n",
      "plt.title('Height')\n",
      "plt.legend();\n"
     ],
     "language": "python",
     "metadata": {},
     "outputs": [
      {
       "metadata": {},
       "output_type": "display_data",
       "png": "[encoded data removed]",
       "text": [
        "<matplotlib.figure.Figure at 0xb48e748>"
       ]
      }
     ],
     "prompt_number": 20
    },
    {
     "cell_type": "code",
     "collapsed": false,
     "input": [
      "?math"
     ],
     "language": "python",
     "metadata": {},
     "outputs": [
      {
       "output_type": "stream",
       "stream": "stdout",
       "text": [
        "Object `math` not found.\n"
       ]
      }
     ],
     "prompt_number": 45
    },
    {
     "cell_type": "code",
     "collapsed": false,
     "input": [],
     "language": "python",
     "metadata": {},
     "outputs": []
    }
   ],
   "metadata": {}
  }
 ]
}