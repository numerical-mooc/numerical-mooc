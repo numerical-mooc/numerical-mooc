{
 "metadata": {
  "name": "",
  "signature": "sha256:c014a10100b9eabef6546beb72bb1efba8a8734a4baa1d0d15e282734e212010"
 },
 "nbformat": 3,
 "nbformat_minor": 0,
 "worksheets": [
  {
   "cells": [
    {
     "cell_type": "code",
     "collapsed": false,
     "input": [
      "#Import the libraries\n",
      "from math import sin, cos, log, ceil\n",
      "import numpy\n",
      "import matplotlib.pyplot as plt\n",
      "%matplotlib inline"
     ],
     "language": "python",
     "metadata": {},
     "outputs": [],
     "prompt_number": 2
    },
    {
     "cell_type": "code",
     "collapsed": false,
     "input": [
      "t=numpy.ndarray(1)\n",
      "t[0]=0\n",
      "dt=0.01\n",
      "u=numpy.ndarray((1,4))\n",
      "u[0]=([30,3.14/4,x0,y0])\n",
      "j=0\n",
      "while (u[j,3]>0.):\n",
      "    j=j+1\n",
      "    save1=u\n",
      "    save2=t\n",
      "    u=numpy.ndarray((j+1,4))\n",
      "    t=numpy.ndarray(j+1)\n",
      "    for k in range (0,j):\n",
      "        u[k]=save1[k]\n",
      "        t[k]=save2[k]\n",
      "    u[j]=euler_step(u[j-1],f,dt)\n",
      "    t[j]=t[j-1]+dt"
     ],
     "language": "python",
     "metadata": {},
     "outputs": []
    },
    {
     "cell_type": "code",
     "collapsed": false,
     "input": [
      "x=numpy.linspace(4,23,43)\n",
      "print x"
     ],
     "language": "python",
     "metadata": {},
     "outputs": [
      {
       "output_type": "stream",
       "stream": "stdout",
       "text": [
        "[  4.           4.45238095   4.9047619    5.35714286   5.80952381\n",
        "   6.26190476   6.71428571   7.16666667   7.61904762   8.07142857\n",
        "   8.52380952   8.97619048   9.42857143   9.88095238  10.33333333\n",
        "  10.78571429  11.23809524  11.69047619  12.14285714  12.5952381\n",
        "  13.04761905  13.5         13.95238095  14.4047619   14.85714286\n",
        "  15.30952381  15.76190476  16.21428571  16.66666667  17.11904762\n",
        "  17.57142857  18.02380952  18.47619048  18.92857143  19.38095238\n",
        "  19.83333333  20.28571429  20.73809524  21.19047619  21.64285714\n",
        "  22.0952381   22.54761905  23.        ]\n"
       ]
      }
     ],
     "prompt_number": 3
    },
    {
     "cell_type": "code",
     "collapsed": false,
     "input": [
      "p = 7\n",
      "r = numpy.array([11.2, 4.7, 6.6])\n",
      "y=numpy.array([(sin(7/r[0]))**3,(sin(7/r[1]))**3,(sin(7/r[1]))**3])\n",
      "print y"
     ],
     "language": "python",
     "metadata": {},
     "outputs": [
      {
       "output_type": "stream",
       "stream": "stdout",
       "text": [
        "[ 0.20030151  0.99009101  0.99009101]\n"
       ]
      }
     ],
     "prompt_number": 13
    },
    {
     "cell_type": "code",
     "collapsed": false,
     "input": [
      "p=(log((1600-1500)/(1500-1475)))/log(2)\n",
      "print p"
     ],
     "language": "python",
     "metadata": {},
     "outputs": [
      {
       "output_type": "stream",
       "stream": "stdout",
       "text": [
        "2.0\n"
       ]
      }
     ],
     "prompt_number": 16
    },
    {
     "cell_type": "code",
     "collapsed": false,
     "input": [],
     "language": "python",
     "metadata": {},
     "outputs": []
    }
   ],
   "metadata": {}
  }
 ]
}